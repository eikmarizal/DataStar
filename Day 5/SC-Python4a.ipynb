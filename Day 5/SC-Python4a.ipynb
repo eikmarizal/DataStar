{
 "cells": [
  {
   "cell_type": "markdown",
   "metadata": {},
   "source": [
    "![](http://thecads.org/wp-content/uploads/2017/02/adax_logo.jpg)\n",
    "# Module 4: Data Manipulation and Analysis with Pandas\n",
    "\n",
    "![](http://pandas.pydata.org/_static/pandas_logo.png)\n",
    "[Pandas](http://pandas.pydata.org/) is a software library written for the Python programming language for data manipulation and analysis. In particular, it offers data structures and operations for manipulating numerical tables and time series. Pandas is free software released under the three-clause BSD license. The name is derived from the term _panel data_, an econometrics term for multidimensional structured data sets.\n",
    "\n",
    "#### Contents\n",
    "\n",
    "* [Series](#Series)\n",
    "* [DataFrames](#DataFrames)\n",
    "* [Importing Pandas](#Importing-Pandas) and other libraries.\n",
    "* [Creating Data](#Creating-Data) using lists and tuples\n",
    "* [Viewing Data](#Viewing-Data)\n",
    "* [Saving Data](#Saving-Data) to_csv and to_excel\n",
    "* [Loading Data](#Loading-Data) read_csv, read_table read_excel, read_html\n",
    "    * [Unix and os](#Unix-and-os)\n",
    "    * [CSVs and Excel](#CSVs-and-Excel)\n",
    "* [Selecting Data](#Selecting-Data) loc,iloc,isin\n",
    "    * [Masks](#Masks) or boolean arrays\n",
    "* [Preparing Data](#Preparing-Data)\n",
    "    * [Missing Values](#Missing-Values)\n",
    "    \n",
    "*[to be continued in part 4b]*\n",
    "\n",
    "NB: This notebook misses some methods of joining and concatenating and merging data. The instances in which those are useful are quite specific, so we'll see some examples but won't have a section in this notebook for reference. \n",
    "\n",
    "#### Resources:  \n",
    "* [Pandas Documentation](http://pandas.pydata.org/pandas-docs/stable/index.html), especially\n",
    "[10 minutes to pandas](http://pandas.pydata.org/pandas-docs/stable/10min.html)  \n",
    "* [The Data Incubator](https://www.thedataincubator.com/)  \n",
    "* [Hernan Rojas' learn-pandas](https://bitbucket.org/hrojas/learn-pandas)  \n",
    "* [Harvard CS109 lab1 content](https://github.com/cs109/2015lab1)"
   ]
  },
  {
   "cell_type": "markdown",
   "metadata": {},
   "source": [
    "## Series"
   ]
  },
  {
   "cell_type": "code",
   "execution_count": 1,
   "metadata": {
    "collapsed": true
   },
   "outputs": [],
   "source": [
    "#import pandas library as pd\n",
    "import pandas as pd\n",
    "#import matplotlib library as plt \n",
    "import matplotlib.pyplot as plt\n",
    "import numpy as np\n"
   ]
  },
  {
   "cell_type": "code",
   "execution_count": 2,
   "metadata": {},
   "outputs": [
    {
     "data": {
      "text/plain": [
       "0    Tiger\n",
       "1     Bear\n",
       "2    Moose\n",
       "dtype: object"
      ]
     },
     "execution_count": 2,
     "metadata": {},
     "output_type": "execute_result"
    }
   ],
   "source": [
    "#create a pandas series from list\n",
    "#observe the dtype\n",
    "\n",
    "animals = ['Tiger', 'Bear', 'Moose']\n",
    "pd.Series(animals)"
   ]
  },
  {
   "cell_type": "code",
   "execution_count": 3,
   "metadata": {},
   "outputs": [
    {
     "data": {
      "text/plain": [
       "0    1\n",
       "1    2\n",
       "2    3\n",
       "dtype: int64"
      ]
     },
     "execution_count": 3,
     "metadata": {},
     "output_type": "execute_result"
    }
   ],
   "source": [
    "#create a pandas series from list\n",
    "#observe the dtype\n",
    "\n",
    "numbers = [1, 2, 3]\n",
    "pd.Series(numbers)"
   ]
  },
  {
   "cell_type": "code",
   "execution_count": 4,
   "metadata": {},
   "outputs": [
    {
     "data": {
      "text/plain": [
       "0    Tiger\n",
       "1     Bear\n",
       "2     None\n",
       "dtype: object"
      ]
     },
     "execution_count": 4,
     "metadata": {},
     "output_type": "execute_result"
    }
   ],
   "source": [
    "#it is possible to create a pandas series with None, indicating no data\n",
    "#observe the dtype\n",
    "\n",
    "animals = ['Tiger', 'Bear', None]\n",
    "pd.Series(animals)"
   ]
  },
  {
   "cell_type": "code",
   "execution_count": 5,
   "metadata": {},
   "outputs": [
    {
     "data": {
      "text/plain": [
       "0    1.0\n",
       "1    2.0\n",
       "2    NaN\n",
       "dtype: float64"
      ]
     },
     "execution_count": 5,
     "metadata": {},
     "output_type": "execute_result"
    }
   ],
   "source": [
    "#in the case of numbers, None will give a NaN (Not a Number)\n",
    "#observe the dtype\n",
    "\n",
    "numbers = [1, 2, None]\n",
    "pd.Series(numbers)"
   ]
  },
  {
   "cell_type": "code",
   "execution_count": 6,
   "metadata": {},
   "outputs": [
    {
     "data": {
      "text/plain": [
       "Archery           Bhutan\n",
       "Golf            Scotland\n",
       "Sumo               Japan\n",
       "Taekwondo    South Korea\n",
       "dtype: object"
      ]
     },
     "execution_count": 6,
     "metadata": {},
     "output_type": "execute_result"
    }
   ],
   "source": [
    "#create a pandas series from dictionary\n",
    "sports={'Archery': 'Bhutan',\n",
    "  'Golf':'Scotland',\n",
    "  'Sumo':'Japan',\n",
    "  'Taekwondo':'South Korea'}\n",
    "s = pd.Series(sports)\n",
    "s"
   ]
  },
  {
   "cell_type": "code",
   "execution_count": 7,
   "metadata": {},
   "outputs": [
    {
     "data": {
      "text/plain": [
       "pandas.core.series.Series"
      ]
     },
     "execution_count": 7,
     "metadata": {},
     "output_type": "execute_result"
    }
   ],
   "source": [
    "#what's the type for s?\n",
    "type(s)"
   ]
  },
  {
   "cell_type": "code",
   "execution_count": 8,
   "metadata": {},
   "outputs": [
    {
     "data": {
      "text/plain": [
       "array(['Bhutan', 'Scotland', 'Japan', 'South Korea'], dtype=object)"
      ]
     },
     "execution_count": 8,
     "metadata": {},
     "output_type": "execute_result"
    }
   ],
   "source": [
    "# if you want to find out the unique values in the series\n",
    "s.unique()"
   ]
  },
  {
   "cell_type": "code",
   "execution_count": 9,
   "metadata": {},
   "outputs": [
    {
     "name": "stdout",
     "output_type": "stream",
     "text": [
      "Index(['Archery', 'Golf', 'Sumo', 'Taekwondo'], dtype='object')\n"
     ]
    }
   ],
   "source": [
    "#notice the index for s\n",
    "index_names = s.index\n",
    "print(index_names)"
   ]
  },
  {
   "cell_type": "code",
   "execution_count": 10,
   "metadata": {},
   "outputs": [
    {
     "data": {
      "text/plain": [
       "India    Tiger\n",
       "n         Bear\n",
       "n        Moose\n",
       "dtype: object"
      ]
     },
     "execution_count": 10,
     "metadata": {},
     "output_type": "execute_result"
    }
   ],
   "source": [
    "#you can also create a series from list and index\n",
    "sr =pd.Series(['Tiger','Bear','Moose'],\n",
    "             index=['India','n','n'])\n",
    "sr"
   ]
  },
  {
   "cell_type": "code",
   "execution_count": 11,
   "metadata": {},
   "outputs": [
    {
     "data": {
      "text/plain": [
       "Golf      Scotland\n",
       "Sumo         Japan\n",
       "Hockey         NaN\n",
       "dtype: object"
      ]
     },
     "execution_count": 11,
     "metadata": {},
     "output_type": "execute_result"
    }
   ],
   "source": [
    "#a list can be created based on the specified indices\n",
    "\n",
    "sports = {'Archery': 'Bhutan',\n",
    "          'Golf': 'Scotland',\n",
    "          'Sumo': 'Japan',\n",
    "          'Taekwondo': 'South Korea'}\n",
    "\n",
    "sp1 = pd.Series(sports, index=['Golf', 'Sumo', 'Hockey'])\n",
    "sp1"
   ]
  },
  {
   "cell_type": "markdown",
   "metadata": {},
   "source": [
    "## Querying a series"
   ]
  },
  {
   "cell_type": "code",
   "execution_count": 12,
   "metadata": {},
   "outputs": [
    {
     "data": {
      "text/plain": [
       "Archery           Bhutan\n",
       "Golf            Scotland\n",
       "Sumo               Japan\n",
       "Taekwondo    South Korea\n",
       "dtype: object"
      ]
     },
     "execution_count": 12,
     "metadata": {},
     "output_type": "execute_result"
    }
   ],
   "source": [
    "sports = {'Archery': 'Bhutan',\n",
    "          'Golf': 'Scotland',\n",
    "          'Sumo': 'Japan',\n",
    "          'Taekwondo': 'South Korea'}\n",
    "\n",
    "s = pd.Series(sports)\n",
    "s"
   ]
  },
  {
   "cell_type": "code",
   "execution_count": 13,
   "metadata": {},
   "outputs": [
    {
     "data": {
      "text/plain": [
       "<pandas.core.indexing._iLocIndexer at 0x2b1d272e908>"
      ]
     },
     "execution_count": 13,
     "metadata": {},
     "output_type": "execute_result"
    }
   ],
   "source": [
    "#iloc to query based on index\n",
    "s.iloc(3)"
   ]
  },
  {
   "cell_type": "code",
   "execution_count": 14,
   "metadata": {},
   "outputs": [
    {
     "data": {
      "text/plain": [
       "<pandas.core.indexing._LocIndexer at 0x2b1d272e198>"
      ]
     },
     "execution_count": 14,
     "metadata": {},
     "output_type": "execute_result"
    }
   ],
   "source": [
    "#loc to query based on location\n",
    "s.loc('Taekwondo')"
   ]
  },
  {
   "cell_type": "code",
   "execution_count": 15,
   "metadata": {},
   "outputs": [
    {
     "data": {
      "text/plain": [
       "'South Korea'"
      ]
     },
     "execution_count": 15,
     "metadata": {},
     "output_type": "execute_result"
    }
   ],
   "source": [
    "#to query based on index\n",
    "s[3]"
   ]
  },
  {
   "cell_type": "code",
   "execution_count": 16,
   "metadata": {},
   "outputs": [
    {
     "data": {
      "text/plain": [
       "'South Korea'"
      ]
     },
     "execution_count": 16,
     "metadata": {},
     "output_type": "execute_result"
    }
   ],
   "source": [
    "#to query based on location\n",
    "s['Taekwondo']"
   ]
  },
  {
   "cell_type": "code",
   "execution_count": 17,
   "metadata": {},
   "outputs": [
    {
     "name": "stdout",
     "output_type": "stream",
     "text": [
      "99          Bhutan\n",
      "100       Scotland\n",
      "101          Japan\n",
      "102    South Korea\n",
      "dtype: object\n"
     ]
    }
   ],
   "source": [
    "sports = {99: 'Bhutan',\n",
    "          100: 'Scotland',\n",
    "          101: 'Japan',\n",
    "          102: 'South Korea'}\n",
    "\n",
    "s = pd.Series(sports)\n",
    "print(s)"
   ]
  },
  {
   "cell_type": "code",
   "execution_count": 18,
   "metadata": {},
   "outputs": [
    {
     "data": {
      "text/plain": [
       "'Japan'"
      ]
     },
     "execution_count": 18,
     "metadata": {},
     "output_type": "execute_result"
    }
   ],
   "source": [
    "s[101]\n",
    "#s[0] #This won't call s.iloc[0] as one might expect, it generates an error instead\n",
    "\n",
    "# try s[99] or s[101]. What can you make of this?\n"
   ]
  },
  {
   "cell_type": "code",
   "execution_count": 19,
   "metadata": {
    "collapsed": true
   },
   "outputs": [],
   "source": [
    "#create a pandas series from a dictionary and a list -- flexible!\n",
    "\n",
    "original_sports = pd.Series({'Archery': 'Bhutan',\n",
    "                             'Golf': 'Scotland',\n",
    "                             'Sumo': 'Japan',\n",
    "                             'Taekwondo': 'South Korea'})\n",
    "\n",
    "cricket_loving_countries = pd.Series(['Australia',\n",
    "                                      'Barbados',\n",
    "                                      'Pakistan',\n",
    "                                      'England'], \n",
    "                                index=['Cricket',\n",
    "                                       'Cricket',\n",
    "                                       'Cricket',\n",
    "                                       'Cricket'])\n",
    "\n",
    "all_countries = original_sports.append(cricket_loving_countries)"
   ]
  },
  {
   "cell_type": "code",
   "execution_count": 20,
   "metadata": {},
   "outputs": [
    {
     "data": {
      "text/plain": [
       "Archery           Bhutan\n",
       "Golf            Scotland\n",
       "Sumo               Japan\n",
       "Taekwondo    South Korea\n",
       "Cricket        Australia\n",
       "Cricket         Barbados\n",
       "Cricket         Pakistan\n",
       "Cricket          England\n",
       "dtype: object"
      ]
     },
     "execution_count": 20,
     "metadata": {},
     "output_type": "execute_result"
    }
   ],
   "source": [
    "all_countries"
   ]
  },
  {
   "cell_type": "code",
   "execution_count": 21,
   "metadata": {},
   "outputs": [
    {
     "data": {
      "text/plain": [
       "Cricket    Australia\n",
       "Cricket     Barbados\n",
       "Cricket     Pakistan\n",
       "Cricket      England\n",
       "dtype: object"
      ]
     },
     "execution_count": 21,
     "metadata": {},
     "output_type": "execute_result"
    }
   ],
   "source": [
    "#using loc to list all countries with the index 'Cricket'\n",
    "all_countries.loc['Cricket']"
   ]
  },
  {
   "cell_type": "markdown",
   "metadata": {},
   "source": [
    "## DataFrames\n",
    "\n",
    "The data frame as a way to store data in rectangular grids (table form) that can easily be overviewed. Each row of these grids corresponds to measurements or values of an instance, while each column is a vector containing data for a specific variable. This means that a data frame’s rows do not need to contain, but can contain, the same type of values: they can be numeric, character, logical, etc.\n",
    "\n",
    "(for more info read: https://www.datacamp.com/community/tutorials/pandas-tutorial-dataframe-python)\n",
    "\n",
    "A data frame is like a table, with rows and columns (e.g., as in SQL or Excel).  \n",
    "**Except** that :\n",
    "  - The rows can be indexed by something interesting (there is special support for labels like categorical and timeseries data).\n",
    "  - Cells can store any Python object. Like in SQL, columns must have a homogenous type.\n",
    "  - Instead of \"NULL\", the name for a non-existent value is \"NA\".  Unlike R, Python's data frames only support NAs in columns of some data types (basically: floating point numbers and 'objects') -- but this is mostly a non-issue (because it will \"up-type\" integers to float64, etc.)\n",
    "  \n",
    "Each of a ```DataFrame```'s columns are an individual ```Series```, (more correctly, a dataframe is a dictionary of Series).  The entires series must have a homogenous type. "
   ]
  },
  {
   "cell_type": "code",
   "execution_count": 22,
   "metadata": {
    "collapsed": true
   },
   "outputs": [],
   "source": [
    "# Example 1\n",
    "# Let's make a dataset that consists of Malaysian States\n",
    "# and the size of each state in km2.  Let's try and rank \n",
    "# the states of Malaysia by land area, and figure out if East\n",
    "# Malaysia is larger or smaller than West Malaysia\n",
    "\n",
    "states = ['Johor','Kedah','Kelantan','Melaka', \n",
    "          'Negeri Sembilan','Pahang','Perak','Perlis',\n",
    "          'Penang','Sabah', 'Sarawak','Selangor','Terengganu']\n",
    "area = [19210,9500,15099,1664,6686,36137,21035,\n",
    "        821,1048,73631,124450,8104,13035]"
   ]
  },
  {
   "cell_type": "code",
   "execution_count": 23,
   "metadata": {
    "collapsed": true
   },
   "outputs": [],
   "source": [
    "# Use the zip function to merge the two lists together\n",
    "zip?"
   ]
  },
  {
   "cell_type": "code",
   "execution_count": 24,
   "metadata": {},
   "outputs": [
    {
     "data": {
      "text/plain": [
       "[('Johor', 19210),\n",
       " ('Kedah', 9500),\n",
       " ('Kelantan', 15099),\n",
       " ('Melaka', 1664),\n",
       " ('Negeri Sembilan', 6686),\n",
       " ('Pahang', 36137),\n",
       " ('Perak', 21035),\n",
       " ('Perlis', 821),\n",
       " ('Penang', 1048),\n",
       " ('Sabah', 73631),\n",
       " ('Sarawak', 124450),\n",
       " ('Selangor', 8104),\n",
       " ('Terengganu', 13035)]"
      ]
     },
     "execution_count": 24,
     "metadata": {},
     "output_type": "execute_result"
    }
   ],
   "source": [
    "# Area Data Set\n",
    "state_area = list(zip(states, area))\n",
    "state_area"
   ]
  },
  {
   "cell_type": "code",
   "execution_count": 25,
   "metadata": {},
   "outputs": [
    {
     "data": {
      "text/plain": [
       "{'Johor': 19210,\n",
       " 'Kedah': 9500,\n",
       " 'Kelantan': 15099,\n",
       " 'Melaka': 1664,\n",
       " 'Negeri Sembilan': 6686,\n",
       " 'Pahang': 36137,\n",
       " 'Penang': 1048,\n",
       " 'Perak': 21035,\n",
       " 'Perlis': 821,\n",
       " 'Sabah': 73631,\n",
       " 'Sarawak': 124450,\n",
       " 'Selangor': 8104,\n",
       " 'Terengganu': 13035}"
      ]
     },
     "execution_count": 25,
     "metadata": {},
     "output_type": "execute_result"
    }
   ],
   "source": [
    "dict(zip(states, area))"
   ]
  },
  {
   "cell_type": "markdown",
   "metadata": {},
   "source": [
    "We now will use the ***pandas*** library to export this data set into a csv file. \n",
    "\n",
    "***df*** will be a ***DataFrame*** object. You can think of this object holding the contents of states in a format similar to a sql table or an excel spreadsheet. Let's take a look below at the contents inside ***df***."
   ]
  },
  {
   "cell_type": "code",
   "execution_count": 26,
   "metadata": {},
   "outputs": [
    {
     "data": {
      "text/html": [
       "<div>\n",
       "<style>\n",
       "    .dataframe thead tr:only-child th {\n",
       "        text-align: right;\n",
       "    }\n",
       "\n",
       "    .dataframe thead th {\n",
       "        text-align: left;\n",
       "    }\n",
       "\n",
       "    .dataframe tbody tr th {\n",
       "        vertical-align: top;\n",
       "    }\n",
       "</style>\n",
       "<table border=\"1\" class=\"dataframe\">\n",
       "  <thead>\n",
       "    <tr style=\"text-align: right;\">\n",
       "      <th></th>\n",
       "      <th>State</th>\n",
       "      <th>Area</th>\n",
       "    </tr>\n",
       "  </thead>\n",
       "  <tbody>\n",
       "    <tr>\n",
       "      <th>7</th>\n",
       "      <td>Perlis</td>\n",
       "      <td>821</td>\n",
       "    </tr>\n",
       "    <tr>\n",
       "      <th>8</th>\n",
       "      <td>Penang</td>\n",
       "      <td>1048</td>\n",
       "    </tr>\n",
       "    <tr>\n",
       "      <th>9</th>\n",
       "      <td>Sabah</td>\n",
       "      <td>73631</td>\n",
       "    </tr>\n",
       "    <tr>\n",
       "      <th>10</th>\n",
       "      <td>Sarawak</td>\n",
       "      <td>124450</td>\n",
       "    </tr>\n",
       "    <tr>\n",
       "      <th>11</th>\n",
       "      <td>Selangor</td>\n",
       "      <td>8104</td>\n",
       "    </tr>\n",
       "    <tr>\n",
       "      <th>12</th>\n",
       "      <td>Terengganu</td>\n",
       "      <td>13035</td>\n",
       "    </tr>\n",
       "  </tbody>\n",
       "</table>\n",
       "</div>"
      ],
      "text/plain": [
       "         State    Area\n",
       "7       Perlis     821\n",
       "8       Penang    1048\n",
       "9        Sabah   73631\n",
       "10     Sarawak  124450\n",
       "11    Selangor    8104\n",
       "12  Terengganu   13035"
      ]
     },
     "execution_count": 26,
     "metadata": {},
     "output_type": "execute_result"
    }
   ],
   "source": [
    "df = pd.DataFrame(data = state_area, columns=['State', 'Area'])\n",
    "#head to show first 5 rows of data\n",
    "df.tail(6)"
   ]
  },
  {
   "cell_type": "code",
   "execution_count": 27,
   "metadata": {},
   "outputs": [
    {
     "name": "stdout",
     "output_type": "stream",
     "text": [
      "<class 'pandas.core.frame.DataFrame'>\n",
      "\n",
      "<class 'pandas.core.frame.DataFrame'>\n",
      "RangeIndex: 13 entries, 0 to 12\n",
      "Data columns (total 2 columns):\n",
      "State    13 non-null object\n",
      "Area     13 non-null int64\n",
      "dtypes: int64(1), object(1)\n",
      "memory usage: 288.0+ bytes\n",
      "None\n"
     ]
    }
   ],
   "source": [
    "print(type(df))\n",
    "print() \n",
    "print(df.info())"
   ]
  },
  {
   "cell_type": "code",
   "execution_count": 28,
   "metadata": {},
   "outputs": [
    {
     "data": {
      "text/html": [
       "<div>\n",
       "<style>\n",
       "    .dataframe thead tr:only-child th {\n",
       "        text-align: right;\n",
       "    }\n",
       "\n",
       "    .dataframe thead th {\n",
       "        text-align: left;\n",
       "    }\n",
       "\n",
       "    .dataframe tbody tr th {\n",
       "        vertical-align: top;\n",
       "    }\n",
       "</style>\n",
       "<table border=\"1\" class=\"dataframe\">\n",
       "  <thead>\n",
       "    <tr style=\"text-align: right;\">\n",
       "      <th></th>\n",
       "      <th>Area</th>\n",
       "    </tr>\n",
       "  </thead>\n",
       "  <tbody>\n",
       "    <tr>\n",
       "      <th>count</th>\n",
       "      <td>13.000000</td>\n",
       "    </tr>\n",
       "    <tr>\n",
       "      <th>mean</th>\n",
       "      <td>25416.923077</td>\n",
       "    </tr>\n",
       "    <tr>\n",
       "      <th>std</th>\n",
       "      <td>35627.125329</td>\n",
       "    </tr>\n",
       "    <tr>\n",
       "      <th>min</th>\n",
       "      <td>821.000000</td>\n",
       "    </tr>\n",
       "    <tr>\n",
       "      <th>25%</th>\n",
       "      <td>6686.000000</td>\n",
       "    </tr>\n",
       "    <tr>\n",
       "      <th>50%</th>\n",
       "      <td>13035.000000</td>\n",
       "    </tr>\n",
       "    <tr>\n",
       "      <th>75%</th>\n",
       "      <td>21035.000000</td>\n",
       "    </tr>\n",
       "    <tr>\n",
       "      <th>max</th>\n",
       "      <td>124450.000000</td>\n",
       "    </tr>\n",
       "  </tbody>\n",
       "</table>\n",
       "</div>"
      ],
      "text/plain": [
       "                Area\n",
       "count      13.000000\n",
       "mean    25416.923077\n",
       "std     35627.125329\n",
       "min       821.000000\n",
       "25%      6686.000000\n",
       "50%     13035.000000\n",
       "75%     21035.000000\n",
       "max    124450.000000"
      ]
     },
     "execution_count": 28,
     "metadata": {},
     "output_type": "execute_result"
    }
   ],
   "source": [
    "#provide statistical summary for the whole dataset\n",
    "df.describe()\n",
    "#find out what these statistics are..."
   ]
  },
  {
   "cell_type": "code",
   "execution_count": 29,
   "metadata": {},
   "outputs": [
    {
     "data": {
      "text/plain": [
       "pandas.core.series.Series"
      ]
     },
     "execution_count": 29,
     "metadata": {},
     "output_type": "execute_result"
    }
   ],
   "source": [
    "type(df['Area'])"
   ]
  },
  {
   "cell_type": "code",
   "execution_count": 30,
   "metadata": {},
   "outputs": [
    {
     "data": {
      "text/plain": [
       "0      19210\n",
       "1       9500\n",
       "2      15099\n",
       "3       1664\n",
       "4       6686\n",
       "5      36137\n",
       "6      21035\n",
       "7        821\n",
       "8       1048\n",
       "9      73631\n",
       "10    124450\n",
       "11      8104\n",
       "12     13035\n",
       "Name: Area, dtype: int64"
      ]
     },
     "execution_count": 30,
     "metadata": {},
     "output_type": "execute_result"
    }
   ],
   "source": [
    "df['Area']"
   ]
  },
  {
   "cell_type": "code",
   "execution_count": 31,
   "metadata": {},
   "outputs": [
    {
     "data": {
      "text/html": [
       "<div>\n",
       "<style>\n",
       "    .dataframe thead tr:only-child th {\n",
       "        text-align: right;\n",
       "    }\n",
       "\n",
       "    .dataframe thead th {\n",
       "        text-align: left;\n",
       "    }\n",
       "\n",
       "    .dataframe tbody tr th {\n",
       "        vertical-align: top;\n",
       "    }\n",
       "</style>\n",
       "<table border=\"1\" class=\"dataframe\">\n",
       "  <thead>\n",
       "    <tr style=\"text-align: right;\">\n",
       "      <th></th>\n",
       "      <th>State</th>\n",
       "      <th>Area</th>\n",
       "    </tr>\n",
       "  </thead>\n",
       "  <tbody>\n",
       "    <tr>\n",
       "      <th>10</th>\n",
       "      <td>Sarawak</td>\n",
       "      <td>124450</td>\n",
       "    </tr>\n",
       "    <tr>\n",
       "      <th>9</th>\n",
       "      <td>Sabah</td>\n",
       "      <td>73631</td>\n",
       "    </tr>\n",
       "    <tr>\n",
       "      <th>5</th>\n",
       "      <td>Pahang</td>\n",
       "      <td>36137</td>\n",
       "    </tr>\n",
       "    <tr>\n",
       "      <th>6</th>\n",
       "      <td>Perak</td>\n",
       "      <td>21035</td>\n",
       "    </tr>\n",
       "    <tr>\n",
       "      <th>0</th>\n",
       "      <td>Johor</td>\n",
       "      <td>19210</td>\n",
       "    </tr>\n",
       "    <tr>\n",
       "      <th>2</th>\n",
       "      <td>Kelantan</td>\n",
       "      <td>15099</td>\n",
       "    </tr>\n",
       "    <tr>\n",
       "      <th>12</th>\n",
       "      <td>Terengganu</td>\n",
       "      <td>13035</td>\n",
       "    </tr>\n",
       "  </tbody>\n",
       "</table>\n",
       "</div>"
      ],
      "text/plain": [
       "         State    Area\n",
       "10     Sarawak  124450\n",
       "9        Sabah   73631\n",
       "5       Pahang   36137\n",
       "6        Perak   21035\n",
       "0        Johor   19210\n",
       "2     Kelantan   15099\n",
       "12  Terengganu   13035"
      ]
     },
     "execution_count": 31,
     "metadata": {},
     "output_type": "execute_result"
    }
   ],
   "source": [
    "# Ranking of land area -- top 5\n",
    "# East Malaysia looks big!\n",
    "\n",
    "df = df.sort_values('Area', ascending=False)\n",
    "df.head(7)"
   ]
  },
  {
   "cell_type": "code",
   "execution_count": 32,
   "metadata": {},
   "outputs": [
    {
     "data": {
      "text/plain": [
       "State    Sabah\n",
       "Area     73631\n",
       "Name: 9, dtype: object"
      ]
     },
     "execution_count": 32,
     "metadata": {},
     "output_type": "execute_result"
    }
   ],
   "source": [
    "df.iloc[1,:]"
   ]
  },
  {
   "cell_type": "code",
   "execution_count": 33,
   "metadata": {},
   "outputs": [
    {
     "name": "stdout",
     "output_type": "stream",
     "text": [
      "('East Malaysia Size: ', 198081)\n",
      "('West Malaysia Size: ', 132339)\n"
     ]
    }
   ],
   "source": [
    "# Excluding WPs, East Malaysia is larger than West Malaysia!\n",
    "print(('East Malaysia Size: ', df['Area'][0:2].sum()))           \n",
    "# get only data from row 9 and 10 to be summed\n",
    "\n",
    "\n",
    "print(('West Malaysia Size: ', df['Area'].sum() - \n",
    "       df['Area'][0:2].sum()))"
   ]
  },
  {
   "cell_type": "code",
   "execution_count": 34,
   "metadata": {},
   "outputs": [
    {
     "data": {
      "image/png": "[encoded data removed]",
      "text/plain": [
       "<matplotlib.figure.Figure at 0x2b1d273d748>"
      ]
     },
     "metadata": {},
     "output_type": "display_data"
    }
   ],
   "source": [
    "# Create graph\n",
    "df['Area'].plot.bar()\n",
    "plt.xticks(np.arange(13), (df['State']))\n",
    "plt.xlabel('Malaysian States')\n",
    "plt.ylabel('Land Area in $km^2$')\n",
    "plt.title('Malaysian States by Land Area')\n",
    "plt.show();"
   ]
  },
  {
   "cell_type": "code",
   "execution_count": 35,
   "metadata": {},
   "outputs": [
    {
     "name": "stdout",
     "output_type": "stream",
     "text": [
      "              State    Area\n",
      "10          Sarawak  124450\n",
      "9             Sabah   73631\n",
      "5            Pahang   36137\n",
      "6             Perak   21035\n",
      "0             Johor   19210\n",
      "2          Kelantan   15099\n",
      "12       Terengganu   13035\n",
      "1             Kedah    9500\n",
      "11         Selangor    8104\n",
      "4   Negeri Sembilan    6686\n",
      "3            Melaka    1664\n",
      "8            Penang    1048\n",
      "7            Perlis     821\n",
      "\n",
      "              State    Area\n",
      "10          Sarawak  124450\n",
      "9             Sabah   73631\n",
      "5            Pahang   36137\n",
      "6             Perak   21035\n",
      "0             Johor   19210\n",
      "2          Kelantan   15099\n",
      "12       Terengganu   13035\n",
      "1             Kedah    9500\n",
      "11         Selangor    8104\n",
      "4   Negeri Sembilan    6686\n",
      "3            Melaka    1664\n",
      "8            Penang    1048\n",
      "7            Perlis     821\n"
     ]
    }
   ],
   "source": [
    "# before we proceed to the second example, \n",
    "# let's store the DataFrame 'df' in another variable\n",
    "\n",
    "stateDF = df\n",
    "print(df)\n",
    "print()\n",
    "print(stateDF)"
   ]
  },
  {
   "cell_type": "code",
   "execution_count": 36,
   "metadata": {},
   "outputs": [
    {
     "data": {
      "text/html": [
       "<div>\n",
       "<style>\n",
       "    .dataframe thead tr:only-child th {\n",
       "        text-align: right;\n",
       "    }\n",
       "\n",
       "    .dataframe thead th {\n",
       "        text-align: left;\n",
       "    }\n",
       "\n",
       "    .dataframe tbody tr th {\n",
       "        vertical-align: top;\n",
       "    }\n",
       "</style>\n",
       "<table border=\"1\" class=\"dataframe\">\n",
       "  <thead>\n",
       "    <tr style=\"text-align: right;\">\n",
       "      <th></th>\n",
       "      <th>Cost</th>\n",
       "      <th>Item Purchased</th>\n",
       "      <th>Name</th>\n",
       "    </tr>\n",
       "  </thead>\n",
       "  <tbody>\n",
       "    <tr>\n",
       "      <th>Store 1</th>\n",
       "      <td>22.5</td>\n",
       "      <td>Dog Food</td>\n",
       "      <td>Chris</td>\n",
       "    </tr>\n",
       "    <tr>\n",
       "      <th>Store 1</th>\n",
       "      <td>2.5</td>\n",
       "      <td>Kitty Litter</td>\n",
       "      <td>Kevyn</td>\n",
       "    </tr>\n",
       "    <tr>\n",
       "      <th>Store 2</th>\n",
       "      <td>5.0</td>\n",
       "      <td>Bird Seed</td>\n",
       "      <td>Vinod</td>\n",
       "    </tr>\n",
       "  </tbody>\n",
       "</table>\n",
       "</div>"
      ],
      "text/plain": [
       "         Cost Item Purchased   Name\n",
       "Store 1  22.5       Dog Food  Chris\n",
       "Store 1   2.5   Kitty Litter  Kevyn\n",
       "Store 2   5.0      Bird Seed  Vinod"
      ]
     },
     "execution_count": 36,
     "metadata": {},
     "output_type": "execute_result"
    }
   ],
   "source": [
    "#Example 2\n",
    "\n",
    "purchase_1 = pd.Series({'Name': 'Chris',\n",
    "                        'Item Purchased': 'Dog Food',\n",
    "                        'Cost': 22.50})\n",
    "purchase_2 = pd.Series({'Name': 'Kevyn',\n",
    "                        'Item Purchased': 'Kitty Litter',\n",
    "                        'Cost': 2.50})\n",
    "purchase_3 = pd.Series({'Name': 'Vinod',\n",
    "                        'Item Purchased': 'Bird Seed',\n",
    "                        'Cost': 5.00})\n",
    "\n",
    "df = pd.DataFrame([purchase_1, purchase_2, purchase_3], index=['Store 1', 'Store 1', 'Store 2'])\n",
    "df.head()"
   ]
  },
  {
   "cell_type": "code",
   "execution_count": 37,
   "metadata": {},
   "outputs": [
    {
     "data": {
      "text/plain": [
       "Cost                      5\n",
       "Item Purchased    Bird Seed\n",
       "Name                  Vinod\n",
       "Name: Store 2, dtype: object"
      ]
     },
     "execution_count": 37,
     "metadata": {},
     "output_type": "execute_result"
    }
   ],
   "source": [
    "df.loc['Store 2']"
   ]
  },
  {
   "cell_type": "code",
   "execution_count": 38,
   "metadata": {},
   "outputs": [
    {
     "data": {
      "text/plain": [
       "Cost                      5\n",
       "Item Purchased    Bird Seed\n",
       "Name                  Vinod\n",
       "Name: Store 2, dtype: object"
      ]
     },
     "execution_count": 38,
     "metadata": {},
     "output_type": "execute_result"
    }
   ],
   "source": [
    "df.iloc[2,:]"
   ]
  },
  {
   "cell_type": "code",
   "execution_count": 39,
   "metadata": {},
   "outputs": [
    {
     "data": {
      "text/plain": [
       "pandas.core.series.Series"
      ]
     },
     "execution_count": 39,
     "metadata": {},
     "output_type": "execute_result"
    }
   ],
   "source": [
    "type(df.loc['Store 2'])"
   ]
  },
  {
   "cell_type": "code",
   "execution_count": 40,
   "metadata": {},
   "outputs": [
    {
     "data": {
      "text/html": [
       "<div>\n",
       "<style>\n",
       "    .dataframe thead tr:only-child th {\n",
       "        text-align: right;\n",
       "    }\n",
       "\n",
       "    .dataframe thead th {\n",
       "        text-align: left;\n",
       "    }\n",
       "\n",
       "    .dataframe tbody tr th {\n",
       "        vertical-align: top;\n",
       "    }\n",
       "</style>\n",
       "<table border=\"1\" class=\"dataframe\">\n",
       "  <thead>\n",
       "    <tr style=\"text-align: right;\">\n",
       "      <th></th>\n",
       "      <th>Cost</th>\n",
       "      <th>Item Purchased</th>\n",
       "      <th>Name</th>\n",
       "    </tr>\n",
       "  </thead>\n",
       "  <tbody>\n",
       "    <tr>\n",
       "      <th>Store 1</th>\n",
       "      <td>22.5</td>\n",
       "      <td>Dog Food</td>\n",
       "      <td>Chris</td>\n",
       "    </tr>\n",
       "    <tr>\n",
       "      <th>Store 1</th>\n",
       "      <td>2.5</td>\n",
       "      <td>Kitty Litter</td>\n",
       "      <td>Kevyn</td>\n",
       "    </tr>\n",
       "  </tbody>\n",
       "</table>\n",
       "</div>"
      ],
      "text/plain": [
       "         Cost Item Purchased   Name\n",
       "Store 1  22.5       Dog Food  Chris\n",
       "Store 1   2.5   Kitty Litter  Kevyn"
      ]
     },
     "execution_count": 40,
     "metadata": {},
     "output_type": "execute_result"
    }
   ],
   "source": [
    "df.loc['Store 1']"
   ]
  },
  {
   "cell_type": "code",
   "execution_count": 41,
   "metadata": {},
   "outputs": [
    {
     "data": {
      "text/plain": [
       "Store 1    22.5\n",
       "Store 1     2.5\n",
       "Name: Cost, dtype: float64"
      ]
     },
     "execution_count": 41,
     "metadata": {},
     "output_type": "execute_result"
    }
   ],
   "source": [
    "df.loc['Store 1', 'Cost']"
   ]
  },
  {
   "cell_type": "code",
   "execution_count": 42,
   "metadata": {},
   "outputs": [
    {
     "data": {
      "text/html": [
       "<div>\n",
       "<style>\n",
       "    .dataframe thead tr:only-child th {\n",
       "        text-align: right;\n",
       "    }\n",
       "\n",
       "    .dataframe thead th {\n",
       "        text-align: left;\n",
       "    }\n",
       "\n",
       "    .dataframe tbody tr th {\n",
       "        vertical-align: top;\n",
       "    }\n",
       "</style>\n",
       "<table border=\"1\" class=\"dataframe\">\n",
       "  <thead>\n",
       "    <tr style=\"text-align: right;\">\n",
       "      <th></th>\n",
       "      <th>Store 1</th>\n",
       "      <th>Store 1</th>\n",
       "      <th>Store 2</th>\n",
       "    </tr>\n",
       "  </thead>\n",
       "  <tbody>\n",
       "    <tr>\n",
       "      <th>Cost</th>\n",
       "      <td>22.5</td>\n",
       "      <td>2.5</td>\n",
       "      <td>5</td>\n",
       "    </tr>\n",
       "    <tr>\n",
       "      <th>Item Purchased</th>\n",
       "      <td>Dog Food</td>\n",
       "      <td>Kitty Litter</td>\n",
       "      <td>Bird Seed</td>\n",
       "    </tr>\n",
       "    <tr>\n",
       "      <th>Name</th>\n",
       "      <td>Chris</td>\n",
       "      <td>Kevyn</td>\n",
       "      <td>Vinod</td>\n",
       "    </tr>\n",
       "  </tbody>\n",
       "</table>\n",
       "</div>"
      ],
      "text/plain": [
       "                 Store 1       Store 1    Store 2\n",
       "Cost                22.5           2.5          5\n",
       "Item Purchased  Dog Food  Kitty Litter  Bird Seed\n",
       "Name               Chris         Kevyn      Vinod"
      ]
     },
     "execution_count": 42,
     "metadata": {},
     "output_type": "execute_result"
    }
   ],
   "source": [
    "#transpose dataframe\n",
    "df.T"
   ]
  },
  {
   "cell_type": "code",
   "execution_count": 43,
   "metadata": {},
   "outputs": [
    {
     "data": {
      "text/plain": [
       "Store 1    22.5\n",
       "Store 1     2.5\n",
       "Store 2       5\n",
       "Name: Cost, dtype: object"
      ]
     },
     "execution_count": 43,
     "metadata": {},
     "output_type": "execute_result"
    }
   ],
   "source": [
    "df.T.loc['Cost']"
   ]
  },
  {
   "cell_type": "code",
   "execution_count": 44,
   "metadata": {},
   "outputs": [
    {
     "data": {
      "text/html": [
       "<div>\n",
       "<style>\n",
       "    .dataframe thead tr:only-child th {\n",
       "        text-align: right;\n",
       "    }\n",
       "\n",
       "    .dataframe thead th {\n",
       "        text-align: left;\n",
       "    }\n",
       "\n",
       "    .dataframe tbody tr th {\n",
       "        vertical-align: top;\n",
       "    }\n",
       "</style>\n",
       "<table border=\"1\" class=\"dataframe\">\n",
       "  <thead>\n",
       "    <tr style=\"text-align: right;\">\n",
       "      <th></th>\n",
       "      <th>Cost</th>\n",
       "      <th>Item Purchased</th>\n",
       "      <th>Name</th>\n",
       "    </tr>\n",
       "  </thead>\n",
       "  <tbody>\n",
       "    <tr>\n",
       "      <th>Store 1</th>\n",
       "      <td>22.5</td>\n",
       "      <td>Dog Food</td>\n",
       "      <td>Chris</td>\n",
       "    </tr>\n",
       "    <tr>\n",
       "      <th>Store 1</th>\n",
       "      <td>2.5</td>\n",
       "      <td>Kitty Litter</td>\n",
       "      <td>Kevyn</td>\n",
       "    </tr>\n",
       "    <tr>\n",
       "      <th>Store 2</th>\n",
       "      <td>5.0</td>\n",
       "      <td>Bird Seed</td>\n",
       "      <td>Vinod</td>\n",
       "    </tr>\n",
       "  </tbody>\n",
       "</table>\n",
       "</div>"
      ],
      "text/plain": [
       "         Cost Item Purchased   Name\n",
       "Store 1  22.5       Dog Food  Chris\n",
       "Store 1   2.5   Kitty Litter  Kevyn\n",
       "Store 2   5.0      Bird Seed  Vinod"
      ]
     },
     "execution_count": 44,
     "metadata": {},
     "output_type": "execute_result"
    }
   ],
   "source": [
    "df"
   ]
  },
  {
   "cell_type": "code",
   "execution_count": 45,
   "metadata": {},
   "outputs": [
    {
     "data": {
      "text/plain": [
       "Store 1    22.5\n",
       "Store 1     2.5\n",
       "Store 2     5.0\n",
       "Name: Cost, dtype: float64"
      ]
     },
     "execution_count": 45,
     "metadata": {},
     "output_type": "execute_result"
    }
   ],
   "source": [
    "df['Cost']"
   ]
  },
  {
   "cell_type": "code",
   "execution_count": 46,
   "metadata": {},
   "outputs": [
    {
     "data": {
      "text/plain": [
       "Store 1    22.5\n",
       "Store 1     2.5\n",
       "Name: Cost, dtype: float64"
      ]
     },
     "execution_count": 46,
     "metadata": {},
     "output_type": "execute_result"
    }
   ],
   "source": [
    "df.loc['Store 1','Cost']"
   ]
  },
  {
   "cell_type": "code",
   "execution_count": 47,
   "metadata": {},
   "outputs": [
    {
     "data": {
      "text/html": [
       "<div>\n",
       "<style>\n",
       "    .dataframe thead tr:only-child th {\n",
       "        text-align: right;\n",
       "    }\n",
       "\n",
       "    .dataframe thead th {\n",
       "        text-align: left;\n",
       "    }\n",
       "\n",
       "    .dataframe tbody tr th {\n",
       "        vertical-align: top;\n",
       "    }\n",
       "</style>\n",
       "<table border=\"1\" class=\"dataframe\">\n",
       "  <thead>\n",
       "    <tr style=\"text-align: right;\">\n",
       "      <th></th>\n",
       "      <th>Name</th>\n",
       "      <th>Cost</th>\n",
       "    </tr>\n",
       "  </thead>\n",
       "  <tbody>\n",
       "    <tr>\n",
       "      <th>Store 1</th>\n",
       "      <td>Chris</td>\n",
       "      <td>22.5</td>\n",
       "    </tr>\n",
       "    <tr>\n",
       "      <th>Store 1</th>\n",
       "      <td>Kevyn</td>\n",
       "      <td>2.5</td>\n",
       "    </tr>\n",
       "    <tr>\n",
       "      <th>Store 2</th>\n",
       "      <td>Vinod</td>\n",
       "      <td>5.0</td>\n",
       "    </tr>\n",
       "  </tbody>\n",
       "</table>\n",
       "</div>"
      ],
      "text/plain": [
       "          Name  Cost\n",
       "Store 1  Chris  22.5\n",
       "Store 1  Kevyn   2.5\n",
       "Store 2  Vinod   5.0"
      ]
     },
     "execution_count": 47,
     "metadata": {},
     "output_type": "execute_result"
    }
   ],
   "source": [
    "df.loc[:,['Name', 'Cost']]"
   ]
  },
  {
   "cell_type": "code",
   "execution_count": 48,
   "metadata": {},
   "outputs": [
    {
     "data": {
      "text/html": [
       "<div>\n",
       "<style>\n",
       "    .dataframe thead tr:only-child th {\n",
       "        text-align: right;\n",
       "    }\n",
       "\n",
       "    .dataframe thead th {\n",
       "        text-align: left;\n",
       "    }\n",
       "\n",
       "    .dataframe tbody tr th {\n",
       "        vertical-align: top;\n",
       "    }\n",
       "</style>\n",
       "<table border=\"1\" class=\"dataframe\">\n",
       "  <thead>\n",
       "    <tr style=\"text-align: right;\">\n",
       "      <th></th>\n",
       "      <th>Cost</th>\n",
       "      <th>Item Purchased</th>\n",
       "      <th>Name</th>\n",
       "    </tr>\n",
       "  </thead>\n",
       "  <tbody>\n",
       "    <tr>\n",
       "      <th>Store 2</th>\n",
       "      <td>5.0</td>\n",
       "      <td>Bird Seed</td>\n",
       "      <td>Vinod</td>\n",
       "    </tr>\n",
       "  </tbody>\n",
       "</table>\n",
       "</div>"
      ],
      "text/plain": [
       "         Cost Item Purchased   Name\n",
       "Store 2   5.0      Bird Seed  Vinod"
      ]
     },
     "execution_count": 48,
     "metadata": {},
     "output_type": "execute_result"
    }
   ],
   "source": [
    "#to delete a row\n",
    "df.drop('Store 1')"
   ]
  },
  {
   "cell_type": "code",
   "execution_count": 49,
   "metadata": {},
   "outputs": [
    {
     "data": {
      "text/html": [
       "<div>\n",
       "<style>\n",
       "    .dataframe thead tr:only-child th {\n",
       "        text-align: right;\n",
       "    }\n",
       "\n",
       "    .dataframe thead th {\n",
       "        text-align: left;\n",
       "    }\n",
       "\n",
       "    .dataframe tbody tr th {\n",
       "        vertical-align: top;\n",
       "    }\n",
       "</style>\n",
       "<table border=\"1\" class=\"dataframe\">\n",
       "  <thead>\n",
       "    <tr style=\"text-align: right;\">\n",
       "      <th></th>\n",
       "      <th>Cost</th>\n",
       "      <th>Item Purchased</th>\n",
       "      <th>Name</th>\n",
       "    </tr>\n",
       "  </thead>\n",
       "  <tbody>\n",
       "    <tr>\n",
       "      <th>Store 1</th>\n",
       "      <td>22.5</td>\n",
       "      <td>Dog Food</td>\n",
       "      <td>Chris</td>\n",
       "    </tr>\n",
       "    <tr>\n",
       "      <th>Store 1</th>\n",
       "      <td>2.5</td>\n",
       "      <td>Kitty Litter</td>\n",
       "      <td>Kevyn</td>\n",
       "    </tr>\n",
       "    <tr>\n",
       "      <th>Store 2</th>\n",
       "      <td>5.0</td>\n",
       "      <td>Bird Seed</td>\n",
       "      <td>Vinod</td>\n",
       "    </tr>\n",
       "  </tbody>\n",
       "</table>\n",
       "</div>"
      ],
      "text/plain": [
       "         Cost Item Purchased   Name\n",
       "Store 1  22.5       Dog Food  Chris\n",
       "Store 1   2.5   Kitty Litter  Kevyn\n",
       "Store 2   5.0      Bird Seed  Vinod"
      ]
     },
     "execution_count": 49,
     "metadata": {},
     "output_type": "execute_result"
    }
   ],
   "source": [
    "df"
   ]
  },
  {
   "cell_type": "code",
   "execution_count": 50,
   "metadata": {},
   "outputs": [
    {
     "data": {
      "text/html": [
       "<div>\n",
       "<style>\n",
       "    .dataframe thead tr:only-child th {\n",
       "        text-align: right;\n",
       "    }\n",
       "\n",
       "    .dataframe thead th {\n",
       "        text-align: left;\n",
       "    }\n",
       "\n",
       "    .dataframe tbody tr th {\n",
       "        vertical-align: top;\n",
       "    }\n",
       "</style>\n",
       "<table border=\"1\" class=\"dataframe\">\n",
       "  <thead>\n",
       "    <tr style=\"text-align: right;\">\n",
       "      <th></th>\n",
       "      <th>Cost</th>\n",
       "      <th>Item Purchased</th>\n",
       "      <th>Name</th>\n",
       "    </tr>\n",
       "  </thead>\n",
       "  <tbody>\n",
       "    <tr>\n",
       "      <th>Store 1</th>\n",
       "      <td>22.5</td>\n",
       "      <td>Dog Food</td>\n",
       "      <td>Chris</td>\n",
       "    </tr>\n",
       "    <tr>\n",
       "      <th>Store 1</th>\n",
       "      <td>2.5</td>\n",
       "      <td>Kitty Litter</td>\n",
       "      <td>Kevyn</td>\n",
       "    </tr>\n",
       "    <tr>\n",
       "      <th>Store 2</th>\n",
       "      <td>5.0</td>\n",
       "      <td>Bird Seed</td>\n",
       "      <td>Vinod</td>\n",
       "    </tr>\n",
       "  </tbody>\n",
       "</table>\n",
       "</div>"
      ],
      "text/plain": [
       "         Cost Item Purchased   Name\n",
       "Store 1  22.5       Dog Food  Chris\n",
       "Store 1   2.5   Kitty Litter  Kevyn\n",
       "Store 2   5.0      Bird Seed  Vinod"
      ]
     },
     "execution_count": 50,
     "metadata": {},
     "output_type": "execute_result"
    }
   ],
   "source": [
    "#notice that drop does not change the original dataset\n",
    "#drop created a copy instead\n",
    "df"
   ]
  },
  {
   "cell_type": "code",
   "execution_count": 51,
   "metadata": {},
   "outputs": [
    {
     "data": {
      "text/html": [
       "<div>\n",
       "<style>\n",
       "    .dataframe thead tr:only-child th {\n",
       "        text-align: right;\n",
       "    }\n",
       "\n",
       "    .dataframe thead th {\n",
       "        text-align: left;\n",
       "    }\n",
       "\n",
       "    .dataframe tbody tr th {\n",
       "        vertical-align: top;\n",
       "    }\n",
       "</style>\n",
       "<table border=\"1\" class=\"dataframe\">\n",
       "  <thead>\n",
       "    <tr style=\"text-align: right;\">\n",
       "      <th></th>\n",
       "      <th>Cost</th>\n",
       "      <th>Item Purchased</th>\n",
       "      <th>Name</th>\n",
       "    </tr>\n",
       "  </thead>\n",
       "  <tbody>\n",
       "    <tr>\n",
       "      <th>Store 2</th>\n",
       "      <td>5.0</td>\n",
       "      <td>Bird Seed</td>\n",
       "      <td>Vinod</td>\n",
       "    </tr>\n",
       "  </tbody>\n",
       "</table>\n",
       "</div>"
      ],
      "text/plain": [
       "         Cost Item Purchased   Name\n",
       "Store 2   5.0      Bird Seed  Vinod"
      ]
     },
     "execution_count": 51,
     "metadata": {},
     "output_type": "execute_result"
    }
   ],
   "source": [
    "copy_df = df.copy()\n",
    "copy_df = copy_df.drop('Store 1')\n",
    "copy_df"
   ]
  },
  {
   "cell_type": "code",
   "execution_count": 52,
   "metadata": {},
   "outputs": [
    {
     "data": {
      "text/html": [
       "<div>\n",
       "<style>\n",
       "    .dataframe thead tr:only-child th {\n",
       "        text-align: right;\n",
       "    }\n",
       "\n",
       "    .dataframe thead th {\n",
       "        text-align: left;\n",
       "    }\n",
       "\n",
       "    .dataframe tbody tr th {\n",
       "        vertical-align: top;\n",
       "    }\n",
       "</style>\n",
       "<table border=\"1\" class=\"dataframe\">\n",
       "  <thead>\n",
       "    <tr style=\"text-align: right;\">\n",
       "      <th></th>\n",
       "      <th>Cost</th>\n",
       "      <th>Item Purchased</th>\n",
       "      <th>Name</th>\n",
       "    </tr>\n",
       "  </thead>\n",
       "  <tbody>\n",
       "    <tr>\n",
       "      <th>Store 1</th>\n",
       "      <td>22.5</td>\n",
       "      <td>Dog Food</td>\n",
       "      <td>Chris</td>\n",
       "    </tr>\n",
       "    <tr>\n",
       "      <th>Store 1</th>\n",
       "      <td>2.5</td>\n",
       "      <td>Kitty Litter</td>\n",
       "      <td>Kevyn</td>\n",
       "    </tr>\n",
       "    <tr>\n",
       "      <th>Store 2</th>\n",
       "      <td>5.0</td>\n",
       "      <td>Bird Seed</td>\n",
       "      <td>Vinod</td>\n",
       "    </tr>\n",
       "  </tbody>\n",
       "</table>\n",
       "</div>"
      ],
      "text/plain": [
       "         Cost Item Purchased   Name\n",
       "Store 1  22.5       Dog Food  Chris\n",
       "Store 1   2.5   Kitty Litter  Kevyn\n",
       "Store 2   5.0      Bird Seed  Vinod"
      ]
     },
     "execution_count": 52,
     "metadata": {},
     "output_type": "execute_result"
    }
   ],
   "source": [
    "df"
   ]
  },
  {
   "cell_type": "code",
   "execution_count": 53,
   "metadata": {},
   "outputs": [
    {
     "data": {
      "text/html": [
       "<div>\n",
       "<style>\n",
       "    .dataframe thead tr:only-child th {\n",
       "        text-align: right;\n",
       "    }\n",
       "\n",
       "    .dataframe thead th {\n",
       "        text-align: left;\n",
       "    }\n",
       "\n",
       "    .dataframe tbody tr th {\n",
       "        vertical-align: top;\n",
       "    }\n",
       "</style>\n",
       "<table border=\"1\" class=\"dataframe\">\n",
       "  <thead>\n",
       "    <tr style=\"text-align: right;\">\n",
       "      <th></th>\n",
       "      <th>Cost</th>\n",
       "      <th>Item Purchased</th>\n",
       "    </tr>\n",
       "  </thead>\n",
       "  <tbody>\n",
       "    <tr>\n",
       "      <th>Store 2</th>\n",
       "      <td>5.0</td>\n",
       "      <td>Bird Seed</td>\n",
       "    </tr>\n",
       "  </tbody>\n",
       "</table>\n",
       "</div>"
      ],
      "text/plain": [
       "         Cost Item Purchased\n",
       "Store 2   5.0      Bird Seed"
      ]
     },
     "execution_count": 53,
     "metadata": {},
     "output_type": "execute_result"
    }
   ],
   "source": [
    "#use del\n",
    "#will change the original dataset\n",
    "del copy_df['Name']\n",
    "copy_df"
   ]
  },
  {
   "cell_type": "code",
   "execution_count": 54,
   "metadata": {},
   "outputs": [
    {
     "data": {
      "text/html": [
       "<div>\n",
       "<style>\n",
       "    .dataframe thead tr:only-child th {\n",
       "        text-align: right;\n",
       "    }\n",
       "\n",
       "    .dataframe thead th {\n",
       "        text-align: left;\n",
       "    }\n",
       "\n",
       "    .dataframe tbody tr th {\n",
       "        vertical-align: top;\n",
       "    }\n",
       "</style>\n",
       "<table border=\"1\" class=\"dataframe\">\n",
       "  <thead>\n",
       "    <tr style=\"text-align: right;\">\n",
       "      <th></th>\n",
       "      <th>Cost</th>\n",
       "      <th>Item Purchased</th>\n",
       "      <th>Name</th>\n",
       "      <th>Location</th>\n",
       "    </tr>\n",
       "  </thead>\n",
       "  <tbody>\n",
       "    <tr>\n",
       "      <th>Store 1</th>\n",
       "      <td>22.5</td>\n",
       "      <td>Dog Food</td>\n",
       "      <td>Chris</td>\n",
       "      <td>None</td>\n",
       "    </tr>\n",
       "    <tr>\n",
       "      <th>Store 1</th>\n",
       "      <td>2.5</td>\n",
       "      <td>Kitty Litter</td>\n",
       "      <td>Kevyn</td>\n",
       "      <td>None</td>\n",
       "    </tr>\n",
       "    <tr>\n",
       "      <th>Store 2</th>\n",
       "      <td>5.0</td>\n",
       "      <td>Bird Seed</td>\n",
       "      <td>Vinod</td>\n",
       "      <td>None</td>\n",
       "    </tr>\n",
       "  </tbody>\n",
       "</table>\n",
       "</div>"
      ],
      "text/plain": [
       "         Cost Item Purchased   Name Location\n",
       "Store 1  22.5       Dog Food  Chris     None\n",
       "Store 1   2.5   Kitty Litter  Kevyn     None\n",
       "Store 2   5.0      Bird Seed  Vinod     None"
      ]
     },
     "execution_count": 54,
     "metadata": {},
     "output_type": "execute_result"
    }
   ],
   "source": [
    "#create a new column 'Location' with None value\n",
    "df['Location'] = None\n",
    "df"
   ]
  },
  {
   "cell_type": "markdown",
   "metadata": {},
   "source": [
    "## Importing Pandas\n",
    "\n",
    "The general way to import libraries is to write\n",
    "```python\n",
    "import library #import the library directly\n",
    "import library as alias \n",
    "\n",
    "# This just aliases the package names.\n",
    "# That way we can call methods like plt.plot() instead of matplotlib.pyplot.plot().\n",
    "\n",
    "from library import function # import specific functions or types in a library\n",
    "%jupyter magic # jupyter only functions\n",
    "```"
   ]
  },
  {
   "cell_type": "code",
   "execution_count": 55,
   "metadata": {},
   "outputs": [
    {
     "name": "stdout",
     "output_type": "stream",
     "text": [
      "Variable                   Type         Data/Info\n",
      "-------------------------------------------------\n",
      "all_countries              Series       Archery           Bhutan\\<...>   England\\ndtype: object\n",
      "animals                    list         n=3\n",
      "area                       list         n=13\n",
      "copy_df                    DataFrame             Cost Item Purcha<...>re 2   5.0      Bird Seed\n",
      "cricket_loving_countries   Series       Cricket    Australia\\nCri<...>   England\\ndtype: object\n",
      "df                         DataFrame             Cost Item Purcha<...>Bird Seed  Vinod     None\n",
      "index_names                Index        Index(['Archery', 'Golf',<...>kwondo'], dtype='object')\n",
      "np                         module       <module 'numpy' from 'C:\\<...>ges\\\\numpy\\\\__init__.py'>\n",
      "numbers                    list         n=3\n",
      "original_sports            Series       Archery           Bhutan\\<...>outh Korea\\ndtype: object\n",
      "pd                         module       <module 'pandas' from 'C:<...>es\\\\pandas\\\\__init__.py'>\n",
      "plt                        module       <module 'matplotlib.pyplo<...>\\\\matplotlib\\\\pyplot.py'>\n",
      "purchase_1                 Series       Cost                  22.<...>     Chris\\ndtype: object\n",
      "purchase_2                 Series       Cost                     <...>     Kevyn\\ndtype: object\n",
      "purchase_3                 Series       Cost                     <...>     Vinod\\ndtype: object\n",
      "s                          Series       99          Bhutan\\n100  <...>outh Korea\\ndtype: object\n",
      "sp1                        Series       Golf      Scotland\\nSumo <...>       NaN\\ndtype: object\n",
      "sports                     dict         n=4\n",
      "sr                         Series       India    Tiger\\nn        <...>     Moose\\ndtype: object\n",
      "stateDF                    DataFrame                  State    Ar<...>           Perlis     821\n",
      "state_area                 list         n=13\n",
      "states                     list         n=13\n"
     ]
    }
   ],
   "source": [
    "%whos"
   ]
  },
  {
   "cell_type": "code",
   "execution_count": 56,
   "metadata": {
    "collapsed": true
   },
   "outputs": [],
   "source": [
    "# Some imports - for style reasons, try and \n",
    "# put in alphabetical order, unless there are subgroupings of imports\n",
    "# that you want.\n",
    "import matplotlib #we'll only use this to determine the matplotlib version number\n",
    "import matplotlib.pyplot as plt  # the graphing library\n",
    "import numpy as np # scientific computing library\n",
    "import pandas as pd # the data structure and analysis library\n",
    "from pandas import DataFrame, read_csv, Series # specific functions from \n",
    "                                               # pandas\n",
    "#import seaborn as sns # Makes graphs look pretty\n",
    "import sys #we'll only use this to determine the python version number\n",
    "\n",
    "# Enable inline plotting.  The % is an iPython thing, \n",
    "# and is not part of the Python language.\n",
    "# In this case we're just telling the plotting library to draw things on\n",
    "# the notebook, instead of on a separate window.\n",
    "%matplotlib inline\n"
   ]
  },
  {
   "cell_type": "code",
   "execution_count": 57,
   "metadata": {},
   "outputs": [
    {
     "name": "stdout",
     "output_type": "stream",
     "text": [
      "Variable                   Type         Data/Info\n",
      "-------------------------------------------------\n",
      "DataFrame                  type         <class 'pandas.core.frame.DataFrame'>\n",
      "Series                     type         <class 'pandas.core.series.Series'>\n",
      "all_countries              Series       Archery           Bhutan\\<...>   England\\ndtype: object\n",
      "animals                    list         n=3\n",
      "area                       list         n=13\n",
      "copy_df                    DataFrame             Cost Item Purcha<...>re 2   5.0      Bird Seed\n",
      "cricket_loving_countries   Series       Cricket    Australia\\nCri<...>   England\\ndtype: object\n",
      "df                         DataFrame             Cost Item Purcha<...>Bird Seed  Vinod     None\n",
      "index_names                Index        Index(['Archery', 'Golf',<...>kwondo'], dtype='object')\n",
      "matplotlib                 module       <module 'matplotlib' from<...>matplotlib\\\\__init__.py'>\n",
      "np                         module       <module 'numpy' from 'C:\\<...>ges\\\\numpy\\\\__init__.py'>\n",
      "numbers                    list         n=3\n",
      "original_sports            Series       Archery           Bhutan\\<...>outh Korea\\ndtype: object\n",
      "pd                         module       <module 'pandas' from 'C:<...>es\\\\pandas\\\\__init__.py'>\n",
      "plt                        module       <module 'matplotlib.pyplo<...>\\\\matplotlib\\\\pyplot.py'>\n",
      "purchase_1                 Series       Cost                  22.<...>     Chris\\ndtype: object\n",
      "purchase_2                 Series       Cost                     <...>     Kevyn\\ndtype: object\n",
      "purchase_3                 Series       Cost                     <...>     Vinod\\ndtype: object\n",
      "read_csv                   function     <function _make_parser_fu<...>_f at 0x000002B1D1BFF8C8>\n",
      "s                          Series       99          Bhutan\\n100  <...>outh Korea\\ndtype: object\n",
      "sp1                        Series       Golf      Scotland\\nSumo <...>       NaN\\ndtype: object\n",
      "sports                     dict         n=4\n",
      "sr                         Series       India    Tiger\\nn        <...>     Moose\\ndtype: object\n",
      "stateDF                    DataFrame                  State    Ar<...>           Perlis     821\n",
      "state_area                 list         n=13\n",
      "states                     list         n=13\n",
      "sys                        module       <module 'sys' (built-in)>\n"
     ]
    }
   ],
   "source": [
    "# All the imports are listed as modules, including pyplot.  But there are several other types\n",
    "%whos"
   ]
  },
  {
   "cell_type": "code",
   "execution_count": 58,
   "metadata": {},
   "outputs": [
    {
     "name": "stdout",
     "output_type": "stream",
     "text": [
      "Python version: 3.6.2 |Anaconda custom (64-bit)| (default, Sep 19 2017, 08:03:39) [MSC v.1900 64 bit (AMD64)]\n",
      "\n",
      "Pandas version: 0.20.3\n",
      "Matplotlib version: 2.1.0\n"
     ]
    }
   ],
   "source": [
    "# How to check your version numbers\n",
    "print(('Python version: ' + sys.version))\n",
    "print() \n",
    "print(('Pandas version: ' + pd.__version__))\n",
    "print(('Matplotlib version: ' + matplotlib.__version__))"
   ]
  },
  {
   "cell_type": "markdown",
   "metadata": {},
   "source": [
    "## Creating Data\n",
    "\n",
    "There are many ways to input data into Pandas. The goal of this is to input data to DataFrames.  "
   ]
  },
  {
   "cell_type": "code",
   "execution_count": 59,
   "metadata": {},
   "outputs": [
    {
     "data": {
      "text/html": [
       "<div>\n",
       "<style>\n",
       "    .dataframe thead tr:only-child th {\n",
       "        text-align: right;\n",
       "    }\n",
       "\n",
       "    .dataframe thead th {\n",
       "        text-align: left;\n",
       "    }\n",
       "\n",
       "    .dataframe tbody tr th {\n",
       "        vertical-align: top;\n",
       "    }\n",
       "</style>\n",
       "<table border=\"1\" class=\"dataframe\">\n",
       "  <thead>\n",
       "    <tr style=\"text-align: right;\">\n",
       "      <th></th>\n",
       "      <th>animal</th>\n",
       "      <th>number</th>\n",
       "    </tr>\n",
       "  </thead>\n",
       "  <tbody>\n",
       "    <tr>\n",
       "      <th>0</th>\n",
       "      <td>cat</td>\n",
       "      <td>1</td>\n",
       "    </tr>\n",
       "    <tr>\n",
       "      <th>1</th>\n",
       "      <td>dog</td>\n",
       "      <td>2</td>\n",
       "    </tr>\n",
       "    <tr>\n",
       "      <th>2</th>\n",
       "      <td>mouse</td>\n",
       "      <td>3</td>\n",
       "    </tr>\n",
       "  </tbody>\n",
       "</table>\n",
       "</div>"
      ],
      "text/plain": [
       "  animal  number\n",
       "0    cat       1\n",
       "1    dog       2\n",
       "2  mouse       3"
      ]
     },
     "execution_count": 59,
     "metadata": {},
     "output_type": "execute_result"
    }
   ],
   "source": [
    "# A data frame, using a dictionary with ordered \n",
    "# lists for columns\n",
    "\n",
    "df1 = pd.DataFrame({\n",
    "    'number': [1, 2, 3],\n",
    "    'animal': ['cat', 'dog', 'mouse']\n",
    "})\n",
    "df1"
   ]
  },
  {
   "cell_type": "code",
   "execution_count": 60,
   "metadata": {},
   "outputs": [
    {
     "data": {
      "text/html": [
       "<div>\n",
       "<style>\n",
       "    .dataframe thead tr:only-child th {\n",
       "        text-align: right;\n",
       "    }\n",
       "\n",
       "    .dataframe thead th {\n",
       "        text-align: left;\n",
       "    }\n",
       "\n",
       "    .dataframe tbody tr th {\n",
       "        vertical-align: top;\n",
       "    }\n",
       "</style>\n",
       "<table border=\"1\" class=\"dataframe\">\n",
       "  <thead>\n",
       "    <tr style=\"text-align: right;\">\n",
       "      <th></th>\n",
       "      <th>animal</th>\n",
       "      <th>number</th>\n",
       "    </tr>\n",
       "  </thead>\n",
       "  <tbody>\n",
       "    <tr>\n",
       "      <th>0</th>\n",
       "      <td>cat</td>\n",
       "      <td>1</td>\n",
       "    </tr>\n",
       "    <tr>\n",
       "      <th>1</th>\n",
       "      <td>dog</td>\n",
       "      <td>2</td>\n",
       "    </tr>\n",
       "    <tr>\n",
       "      <th>2</th>\n",
       "      <td>mouse</td>\n",
       "      <td>3</td>\n",
       "    </tr>\n",
       "  </tbody>\n",
       "</table>\n",
       "</div>"
      ],
      "text/plain": [
       "  animal  number\n",
       "0    cat       1\n",
       "1    dog       2\n",
       "2  mouse       3"
      ]
     },
     "execution_count": 60,
     "metadata": {},
     "output_type": "execute_result"
    }
   ],
   "source": [
    "# The same data frame, using tuples for each row\n",
    "# We need to give the column names separately!\n",
    "\n",
    "df2 = pd.DataFrame([\n",
    "    ('cat', 1),\n",
    "    ('dog', 2),\n",
    "    ('mouse', 3),\n",
    "], columns=['animal', 'number'])\n",
    "df2"
   ]
  },
  {
   "cell_type": "code",
   "execution_count": 61,
   "metadata": {
    "collapsed": true
   },
   "outputs": [],
   "source": [
    "# Are they the same?\n",
    "assert((df1 == df2).all().all)"
   ]
  },
  {
   "cell_type": "code",
   "execution_count": 62,
   "metadata": {},
   "outputs": [
    {
     "data": {
      "text/plain": [
       "DatetimeIndex(['2016-11-01', '2016-11-02', '2016-11-03', '2016-11-04',\n",
       "               '2016-11-05', '2016-11-06'],\n",
       "              dtype='datetime64[ns]', freq='D')"
      ]
     },
     "execution_count": 62,
     "metadata": {},
     "output_type": "execute_result"
    }
   ],
   "source": [
    "dates = pd.date_range('20161101',periods =6)\n",
    "dates"
   ]
  },
  {
   "cell_type": "code",
   "execution_count": 63,
   "metadata": {},
   "outputs": [
    {
     "data": {
      "text/html": [
       "<div>\n",
       "<style>\n",
       "    .dataframe thead tr:only-child th {\n",
       "        text-align: right;\n",
       "    }\n",
       "\n",
       "    .dataframe thead th {\n",
       "        text-align: left;\n",
       "    }\n",
       "\n",
       "    .dataframe tbody tr th {\n",
       "        vertical-align: top;\n",
       "    }\n",
       "</style>\n",
       "<table border=\"1\" class=\"dataframe\">\n",
       "  <thead>\n",
       "    <tr style=\"text-align: right;\">\n",
       "      <th></th>\n",
       "      <th>A</th>\n",
       "      <th>B</th>\n",
       "      <th>C</th>\n",
       "      <th>D</th>\n",
       "    </tr>\n",
       "  </thead>\n",
       "  <tbody>\n",
       "    <tr>\n",
       "      <th>2016-11-01</th>\n",
       "      <td>-0.361384</td>\n",
       "      <td>0.574914</td>\n",
       "      <td>-0.935562</td>\n",
       "      <td>-0.102859</td>\n",
       "    </tr>\n",
       "    <tr>\n",
       "      <th>2016-11-02</th>\n",
       "      <td>-0.815250</td>\n",
       "      <td>-0.257640</td>\n",
       "      <td>-0.609308</td>\n",
       "      <td>1.104544</td>\n",
       "    </tr>\n",
       "    <tr>\n",
       "      <th>2016-11-03</th>\n",
       "      <td>0.559256</td>\n",
       "      <td>-2.036143</td>\n",
       "      <td>1.304450</td>\n",
       "      <td>0.011222</td>\n",
       "    </tr>\n",
       "    <tr>\n",
       "      <th>2016-11-04</th>\n",
       "      <td>-0.349990</td>\n",
       "      <td>-0.542090</td>\n",
       "      <td>-1.085161</td>\n",
       "      <td>-0.926550</td>\n",
       "    </tr>\n",
       "    <tr>\n",
       "      <th>2016-11-05</th>\n",
       "      <td>0.841050</td>\n",
       "      <td>1.453208</td>\n",
       "      <td>-0.185106</td>\n",
       "      <td>0.086848</td>\n",
       "    </tr>\n",
       "    <tr>\n",
       "      <th>2016-11-06</th>\n",
       "      <td>0.135102</td>\n",
       "      <td>0.410406</td>\n",
       "      <td>0.135042</td>\n",
       "      <td>0.338841</td>\n",
       "    </tr>\n",
       "  </tbody>\n",
       "</table>\n",
       "</div>"
      ],
      "text/plain": [
       "                   A         B         C         D\n",
       "2016-11-01 -0.361384  0.574914 -0.935562 -0.102859\n",
       "2016-11-02 -0.815250 -0.257640 -0.609308  1.104544\n",
       "2016-11-03  0.559256 -2.036143  1.304450  0.011222\n",
       "2016-11-04 -0.349990 -0.542090 -1.085161 -0.926550\n",
       "2016-11-05  0.841050  1.453208 -0.185106  0.086848\n",
       "2016-11-06  0.135102  0.410406  0.135042  0.338841"
      ]
     },
     "execution_count": 63,
     "metadata": {},
     "output_type": "execute_result"
    }
   ],
   "source": [
    "df3 = pd.DataFrame(np.random.randn(6,4), index=dates, columns=list('ABCD'))\n",
    "df3"
   ]
  },
  {
   "cell_type": "markdown",
   "metadata": {},
   "source": [
    "Let's Create another DataFrame, with different data types.  \n",
    "Side note that that you can **copy** examples from the internet \n",
    "like this into Jupyter Notebook, it will still works, but only if there isn't anything else in the cell!\n",
    "\n",
    "From: http://pandas.pydata.org/pandas-docs/stable/10min.html"
   ]
  },
  {
   "cell_type": "code",
   "execution_count": 64,
   "metadata": {},
   "outputs": [
    {
     "data": {
      "text/html": [
       "<div>\n",
       "<style>\n",
       "    .dataframe thead tr:only-child th {\n",
       "        text-align: right;\n",
       "    }\n",
       "\n",
       "    .dataframe thead th {\n",
       "        text-align: left;\n",
       "    }\n",
       "\n",
       "    .dataframe tbody tr th {\n",
       "        vertical-align: top;\n",
       "    }\n",
       "</style>\n",
       "<table border=\"1\" class=\"dataframe\">\n",
       "  <thead>\n",
       "    <tr style=\"text-align: right;\">\n",
       "      <th></th>\n",
       "      <th>A</th>\n",
       "      <th>B</th>\n",
       "      <th>C</th>\n",
       "      <th>D</th>\n",
       "      <th>E</th>\n",
       "      <th>F</th>\n",
       "    </tr>\n",
       "  </thead>\n",
       "  <tbody>\n",
       "    <tr>\n",
       "      <th>0</th>\n",
       "      <td>1.0</td>\n",
       "      <td>2013-01-02</td>\n",
       "      <td>1.0</td>\n",
       "      <td>3</td>\n",
       "      <td>test</td>\n",
       "      <td>foo</td>\n",
       "    </tr>\n",
       "    <tr>\n",
       "      <th>1</th>\n",
       "      <td>1.0</td>\n",
       "      <td>2013-01-02</td>\n",
       "      <td>1.0</td>\n",
       "      <td>3</td>\n",
       "      <td>train</td>\n",
       "      <td>foo</td>\n",
       "    </tr>\n",
       "    <tr>\n",
       "      <th>2</th>\n",
       "      <td>1.0</td>\n",
       "      <td>2013-01-02</td>\n",
       "      <td>1.0</td>\n",
       "      <td>3</td>\n",
       "      <td>test</td>\n",
       "      <td>foo</td>\n",
       "    </tr>\n",
       "    <tr>\n",
       "      <th>3</th>\n",
       "      <td>1.0</td>\n",
       "      <td>2013-01-02</td>\n",
       "      <td>1.0</td>\n",
       "      <td>3</td>\n",
       "      <td>train</td>\n",
       "      <td>foo</td>\n",
       "    </tr>\n",
       "  </tbody>\n",
       "</table>\n",
       "</div>"
      ],
      "text/plain": [
       "     A          B    C  D      E    F\n",
       "0  1.0 2013-01-02  1.0  3   test  foo\n",
       "1  1.0 2013-01-02  1.0  3  train  foo\n",
       "2  1.0 2013-01-02  1.0  3   test  foo\n",
       "3  1.0 2013-01-02  1.0  3  train  foo"
      ]
     },
     "execution_count": 64,
     "metadata": {},
     "output_type": "execute_result"
    }
   ],
   "source": [
    "In [10]: df2 = pd.DataFrame({ 'A' : 1.,\n",
    "   ....:                      'B' : pd.Timestamp('20130102'),\n",
    "   ....:                      'C' : pd.Series(1,index=list(range(4)),dtype='float32'),\n",
    "   ....:                      'D' : np.array([3] * 4,dtype='int32'),\n",
    "   ....:                      'E' : pd.Categorical([\"test\",\"train\",\"test\",\"train\"]),\n",
    "   ....:                      'F' : 'foo' })\n",
    "   ....: \n",
    "\n",
    "df2"
   ]
  },
  {
   "cell_type": "markdown",
   "metadata": {},
   "source": [
    "Amazing! It works huh? (Even with all the extra stuff at the margin side...)"
   ]
  },
  {
   "cell_type": "code",
   "execution_count": 65,
   "metadata": {},
   "outputs": [
    {
     "data": {
      "text/plain": [
       "A           float64\n",
       "B    datetime64[ns]\n",
       "C           float32\n",
       "D             int32\n",
       "E          category\n",
       "F            object\n",
       "dtype: object"
      ]
     },
     "execution_count": 65,
     "metadata": {},
     "output_type": "execute_result"
    }
   ],
   "source": [
    "# Dataframe Columns have specific data types\n",
    "df2.dtypes"
   ]
  },
  {
   "cell_type": "markdown",
   "metadata": {},
   "source": [
    "## Viewing Data"
   ]
  },
  {
   "cell_type": "markdown",
   "metadata": {},
   "source": [
    "Selecting a single column, which yields a Series.\n",
    "\n",
    "A Series, like a numpy array, most be of homogenous type"
   ]
  },
  {
   "cell_type": "code",
   "execution_count": 66,
   "metadata": {},
   "outputs": [
    {
     "data": {
      "text/html": [
       "<div>\n",
       "<style>\n",
       "    .dataframe thead tr:only-child th {\n",
       "        text-align: right;\n",
       "    }\n",
       "\n",
       "    .dataframe thead th {\n",
       "        text-align: left;\n",
       "    }\n",
       "\n",
       "    .dataframe tbody tr th {\n",
       "        vertical-align: top;\n",
       "    }\n",
       "</style>\n",
       "<table border=\"1\" class=\"dataframe\">\n",
       "  <thead>\n",
       "    <tr style=\"text-align: right;\">\n",
       "      <th></th>\n",
       "      <th>animal</th>\n",
       "      <th>number</th>\n",
       "    </tr>\n",
       "  </thead>\n",
       "  <tbody>\n",
       "    <tr>\n",
       "      <th>0</th>\n",
       "      <td>cat</td>\n",
       "      <td>1</td>\n",
       "    </tr>\n",
       "    <tr>\n",
       "      <th>1</th>\n",
       "      <td>dog</td>\n",
       "      <td>2</td>\n",
       "    </tr>\n",
       "    <tr>\n",
       "      <th>2</th>\n",
       "      <td>mouse</td>\n",
       "      <td>3</td>\n",
       "    </tr>\n",
       "  </tbody>\n",
       "</table>\n",
       "</div>"
      ],
      "text/plain": [
       "  animal  number\n",
       "0    cat       1\n",
       "1    dog       2\n",
       "2  mouse       3"
      ]
     },
     "execution_count": 66,
     "metadata": {},
     "output_type": "execute_result"
    }
   ],
   "source": [
    "df1"
   ]
  },
  {
   "cell_type": "code",
   "execution_count": 67,
   "metadata": {},
   "outputs": [
    {
     "data": {
      "text/plain": [
       "0      cat\n",
       "1      dog\n",
       "2    mouse\n",
       "Name: animal, dtype: object"
      ]
     },
     "execution_count": 67,
     "metadata": {},
     "output_type": "execute_result"
    }
   ],
   "source": [
    "# Like Dictionaries! DataFrame is a dictionary of Series!\n",
    "df1['animal']"
   ]
  },
  {
   "cell_type": "code",
   "execution_count": 68,
   "metadata": {},
   "outputs": [
    {
     "data": {
      "text/plain": [
       "0      cat\n",
       "1      dog\n",
       "2    mouse\n",
       "Name: animal, dtype: object"
      ]
     },
     "execution_count": 68,
     "metadata": {},
     "output_type": "execute_result"
    }
   ],
   "source": [
    "# You can also access a column as a property of df1\n",
    "# check out the new style\n",
    "df1.animal"
   ]
  },
  {
   "cell_type": "code",
   "execution_count": 69,
   "metadata": {},
   "outputs": [
    {
     "data": {
      "text/html": [
       "<div>\n",
       "<style>\n",
       "    .dataframe thead tr:only-child th {\n",
       "        text-align: right;\n",
       "    }\n",
       "\n",
       "    .dataframe thead th {\n",
       "        text-align: left;\n",
       "    }\n",
       "\n",
       "    .dataframe tbody tr th {\n",
       "        vertical-align: top;\n",
       "    }\n",
       "</style>\n",
       "<table border=\"1\" class=\"dataframe\">\n",
       "  <thead>\n",
       "    <tr style=\"text-align: right;\">\n",
       "      <th></th>\n",
       "      <th>A</th>\n",
       "      <th>B</th>\n",
       "      <th>C</th>\n",
       "      <th>D</th>\n",
       "    </tr>\n",
       "  </thead>\n",
       "  <tbody>\n",
       "    <tr>\n",
       "      <th>2016-11-01</th>\n",
       "      <td>-0.361384</td>\n",
       "      <td>0.574914</td>\n",
       "      <td>-0.935562</td>\n",
       "      <td>-0.102859</td>\n",
       "    </tr>\n",
       "    <tr>\n",
       "      <th>2016-11-02</th>\n",
       "      <td>-0.815250</td>\n",
       "      <td>-0.257640</td>\n",
       "      <td>-0.609308</td>\n",
       "      <td>1.104544</td>\n",
       "    </tr>\n",
       "    <tr>\n",
       "      <th>2016-11-03</th>\n",
       "      <td>0.559256</td>\n",
       "      <td>-2.036143</td>\n",
       "      <td>1.304450</td>\n",
       "      <td>0.011222</td>\n",
       "    </tr>\n",
       "    <tr>\n",
       "      <th>2016-11-04</th>\n",
       "      <td>-0.349990</td>\n",
       "      <td>-0.542090</td>\n",
       "      <td>-1.085161</td>\n",
       "      <td>-0.926550</td>\n",
       "    </tr>\n",
       "    <tr>\n",
       "      <th>2016-11-05</th>\n",
       "      <td>0.841050</td>\n",
       "      <td>1.453208</td>\n",
       "      <td>-0.185106</td>\n",
       "      <td>0.086848</td>\n",
       "    </tr>\n",
       "    <tr>\n",
       "      <th>2016-11-06</th>\n",
       "      <td>0.135102</td>\n",
       "      <td>0.410406</td>\n",
       "      <td>0.135042</td>\n",
       "      <td>0.338841</td>\n",
       "    </tr>\n",
       "  </tbody>\n",
       "</table>\n",
       "</div>"
      ],
      "text/plain": [
       "                   A         B         C         D\n",
       "2016-11-01 -0.361384  0.574914 -0.935562 -0.102859\n",
       "2016-11-02 -0.815250 -0.257640 -0.609308  1.104544\n",
       "2016-11-03  0.559256 -2.036143  1.304450  0.011222\n",
       "2016-11-04 -0.349990 -0.542090 -1.085161 -0.926550\n",
       "2016-11-05  0.841050  1.453208 -0.185106  0.086848\n",
       "2016-11-06  0.135102  0.410406  0.135042  0.338841"
      ]
     },
     "execution_count": 69,
     "metadata": {},
     "output_type": "execute_result"
    }
   ],
   "source": [
    "df3"
   ]
  },
  {
   "cell_type": "code",
   "execution_count": 70,
   "metadata": {
    "scrolled": true
   },
   "outputs": [
    {
     "data": {
      "text/html": [
       "<div>\n",
       "<style>\n",
       "    .dataframe thead tr:only-child th {\n",
       "        text-align: right;\n",
       "    }\n",
       "\n",
       "    .dataframe thead th {\n",
       "        text-align: left;\n",
       "    }\n",
       "\n",
       "    .dataframe tbody tr th {\n",
       "        vertical-align: top;\n",
       "    }\n",
       "</style>\n",
       "<table border=\"1\" class=\"dataframe\">\n",
       "  <thead>\n",
       "    <tr style=\"text-align: right;\">\n",
       "      <th></th>\n",
       "      <th>A</th>\n",
       "      <th>B</th>\n",
       "      <th>C</th>\n",
       "      <th>D</th>\n",
       "    </tr>\n",
       "  </thead>\n",
       "  <tbody>\n",
       "    <tr>\n",
       "      <th>2016-11-04</th>\n",
       "      <td>-0.34999</td>\n",
       "      <td>-0.542090</td>\n",
       "      <td>-1.085161</td>\n",
       "      <td>-0.926550</td>\n",
       "    </tr>\n",
       "    <tr>\n",
       "      <th>2016-11-05</th>\n",
       "      <td>0.84105</td>\n",
       "      <td>1.453208</td>\n",
       "      <td>-0.185106</td>\n",
       "      <td>0.086848</td>\n",
       "    </tr>\n",
       "  </tbody>\n",
       "</table>\n",
       "</div>"
      ],
      "text/plain": [
       "                  A         B         C         D\n",
       "2016-11-04 -0.34999 -0.542090 -1.085161 -0.926550\n",
       "2016-11-05  0.84105  1.453208 -0.185106  0.086848"
      ]
     },
     "execution_count": 70,
     "metadata": {},
     "output_type": "execute_result"
    }
   ],
   "source": [
    "# You can access rows like how you would with lists...\n",
    "# like the old school\n",
    "\n",
    "df3.iloc[3:5,:]"
   ]
  },
  {
   "cell_type": "markdown",
   "metadata": {},
   "source": [
    "## Saving Data\n",
    "\n",
    "#### Exporting to CSVs and Excel files\n",
    "\n",
    "Let's revive back our earlier example on the Malaysian states and export the DataFrame `df` to a ***csv*** file. We can name the file ***malaysia_states.csv***, but we can also do a txt file! The function ***to_csv*** will be used to export the file. The file will be saved in the same location of the notebook unless specified otherwise."
   ]
  },
  {
   "cell_type": "code",
   "execution_count": 71,
   "metadata": {},
   "outputs": [
    {
     "data": {
      "text/html": [
       "<div>\n",
       "<style>\n",
       "    .dataframe thead tr:only-child th {\n",
       "        text-align: right;\n",
       "    }\n",
       "\n",
       "    .dataframe thead th {\n",
       "        text-align: left;\n",
       "    }\n",
       "\n",
       "    .dataframe tbody tr th {\n",
       "        vertical-align: top;\n",
       "    }\n",
       "</style>\n",
       "<table border=\"1\" class=\"dataframe\">\n",
       "  <thead>\n",
       "    <tr style=\"text-align: right;\">\n",
       "      <th></th>\n",
       "      <th>State</th>\n",
       "      <th>Area</th>\n",
       "    </tr>\n",
       "  </thead>\n",
       "  <tbody>\n",
       "    <tr>\n",
       "      <th>10</th>\n",
       "      <td>Sarawak</td>\n",
       "      <td>124450</td>\n",
       "    </tr>\n",
       "    <tr>\n",
       "      <th>9</th>\n",
       "      <td>Sabah</td>\n",
       "      <td>73631</td>\n",
       "    </tr>\n",
       "    <tr>\n",
       "      <th>5</th>\n",
       "      <td>Pahang</td>\n",
       "      <td>36137</td>\n",
       "    </tr>\n",
       "    <tr>\n",
       "      <th>6</th>\n",
       "      <td>Perak</td>\n",
       "      <td>21035</td>\n",
       "    </tr>\n",
       "    <tr>\n",
       "      <th>0</th>\n",
       "      <td>Johor</td>\n",
       "      <td>19210</td>\n",
       "    </tr>\n",
       "    <tr>\n",
       "      <th>2</th>\n",
       "      <td>Kelantan</td>\n",
       "      <td>15099</td>\n",
       "    </tr>\n",
       "    <tr>\n",
       "      <th>12</th>\n",
       "      <td>Terengganu</td>\n",
       "      <td>13035</td>\n",
       "    </tr>\n",
       "    <tr>\n",
       "      <th>1</th>\n",
       "      <td>Kedah</td>\n",
       "      <td>9500</td>\n",
       "    </tr>\n",
       "    <tr>\n",
       "      <th>11</th>\n",
       "      <td>Selangor</td>\n",
       "      <td>8104</td>\n",
       "    </tr>\n",
       "    <tr>\n",
       "      <th>4</th>\n",
       "      <td>Negeri Sembilan</td>\n",
       "      <td>6686</td>\n",
       "    </tr>\n",
       "    <tr>\n",
       "      <th>3</th>\n",
       "      <td>Melaka</td>\n",
       "      <td>1664</td>\n",
       "    </tr>\n",
       "    <tr>\n",
       "      <th>8</th>\n",
       "      <td>Penang</td>\n",
       "      <td>1048</td>\n",
       "    </tr>\n",
       "    <tr>\n",
       "      <th>7</th>\n",
       "      <td>Perlis</td>\n",
       "      <td>821</td>\n",
       "    </tr>\n",
       "  </tbody>\n",
       "</table>\n",
       "</div>"
      ],
      "text/plain": [
       "              State    Area\n",
       "10          Sarawak  124450\n",
       "9             Sabah   73631\n",
       "5            Pahang   36137\n",
       "6             Perak   21035\n",
       "0             Johor   19210\n",
       "2          Kelantan   15099\n",
       "12       Terengganu   13035\n",
       "1             Kedah    9500\n",
       "11         Selangor    8104\n",
       "4   Negeri Sembilan    6686\n",
       "3            Melaka    1664\n",
       "8            Penang    1048\n",
       "7            Perlis     821"
      ]
     },
     "execution_count": 71,
     "metadata": {},
     "output_type": "execute_result"
    }
   ],
   "source": [
    "stateDF"
   ]
  },
  {
   "cell_type": "code",
   "execution_count": 72,
   "metadata": {
    "collapsed": true
   },
   "outputs": [],
   "source": [
    "# copy back from stateDF (which has the Malaysian states data. There's actually no purpose in doing this but \n",
    "# just to keep the variable short :) \n",
    "df = stateDF  \n",
    "df.to_csv?"
   ]
  },
  {
   "cell_type": "markdown",
   "metadata": {},
   "source": [
    "The only parameters we will use is ***index*** and ***header***. Setting these parameters to True will prevent the index and header names from being exported. Change the values of these parameters to get a better understanding of their use."
   ]
  },
  {
   "cell_type": "code",
   "execution_count": 73,
   "metadata": {},
   "outputs": [
    {
     "data": {
      "text/plain": [
       "'C:\\\\Users\\\\ASUS\\\\Downloads'"
      ]
     },
     "execution_count": 73,
     "metadata": {},
     "output_type": "execute_result"
    }
   ],
   "source": [
    "pwd"
   ]
  },
  {
   "cell_type": "code",
   "execution_count": 74,
   "metadata": {
    "collapsed": true
   },
   "outputs": [],
   "source": [
    "# how to save into csv using dataframe?\n",
    "\n",
    "df.to_csv('malaysia_states.csv',index=True,header=False)"
   ]
  },
  {
   "cell_type": "code",
   "execution_count": 75,
   "metadata": {
    "collapsed": true
   },
   "outputs": [],
   "source": [
    "# Let's also try a text file\n",
    "# CSV actually stands for comma separated values, \n",
    "# which can be opened as a text file \n",
    "# let's try this code\n",
    "df.to_excel('malaysia_states.xlsx',index=True,header=False)"
   ]
  },
  {
   "cell_type": "code",
   "execution_count": 76,
   "metadata": {
    "collapsed": true
   },
   "outputs": [],
   "source": [
    "df.to_excel?"
   ]
  },
  {
   "cell_type": "code",
   "execution_count": 77,
   "metadata": {
    "collapsed": true
   },
   "outputs": [],
   "source": [
    "# And to Excel files\n",
    "# can you figure it out?\n"
   ]
  },
  {
   "cell_type": "code",
   "execution_count": 78,
   "metadata": {},
   "outputs": [],
   "source": [
    "#%whos"
   ]
  },
  {
   "cell_type": "code",
   "execution_count": 79,
   "metadata": {},
   "outputs": [
    {
     "name": "stdout",
     "output_type": "stream",
     "text": [
      "Once deleted, variables cannot be recovered. Proceed (y/[n])? n\n",
      "Nothing done.\n"
     ]
    }
   ],
   "source": [
    "# Reset our namespace; delete all variables\n",
    "%reset"
   ]
  },
  {
   "cell_type": "code",
   "execution_count": 80,
   "metadata": {},
   "outputs": [
    {
     "name": "stdout",
     "output_type": "stream",
     "text": [
      "Variable                   Type             Data/Info\n",
      "-----------------------------------------------------\n",
      "DataFrame                  type             <class 'pandas.core.frame.DataFrame'>\n",
      "Series                     type             <class 'pandas.core.series.Series'>\n",
      "all_countries              Series           Archery           Bhutan\\<...>   England\\ndtype: object\n",
      "animals                    list             n=3\n",
      "area                       list             n=13\n",
      "copy_df                    DataFrame                 Cost Item Purcha<...>re 2   5.0      Bird Seed\n",
      "cricket_loving_countries   Series           Cricket    Australia\\nCri<...>   England\\ndtype: object\n",
      "dates                      DatetimeIndex    DatetimeIndex(['2016-11-0<...>atetime64[ns]', freq='D')\n",
      "df                         DataFrame                      State    Ar<...>           Perlis     821\n",
      "df1                        DataFrame          animal  number\\n0    ca<...>      2\\n2  mouse       3\n",
      "df2                        DataFrame             A          B    C  D<...>01-02  1.0  3  train  foo\n",
      "df3                        DataFrame                           A     <...>10406  0.135042  0.338841\n",
      "index_names                Index            Index(['Archery', 'Golf',<...>kwondo'], dtype='object')\n",
      "matplotlib                 module           <module 'matplotlib' from<...>matplotlib\\\\__init__.py'>\n",
      "np                         module           <module 'numpy' from 'C:\\<...>ges\\\\numpy\\\\__init__.py'>\n",
      "numbers                    list             n=3\n",
      "original_sports            Series           Archery           Bhutan\\<...>outh Korea\\ndtype: object\n",
      "pd                         module           <module 'pandas' from 'C:<...>es\\\\pandas\\\\__init__.py'>\n",
      "plt                        module           <module 'matplotlib.pyplo<...>\\\\matplotlib\\\\pyplot.py'>\n",
      "purchase_1                 Series           Cost                  22.<...>     Chris\\ndtype: object\n",
      "purchase_2                 Series           Cost                     <...>     Kevyn\\ndtype: object\n",
      "purchase_3                 Series           Cost                     <...>     Vinod\\ndtype: object\n",
      "read_csv                   function         <function _make_parser_fu<...>_f at 0x000002B1D1BFF8C8>\n",
      "s                          Series           99          Bhutan\\n100  <...>outh Korea\\ndtype: object\n",
      "sp1                        Series           Golf      Scotland\\nSumo <...>       NaN\\ndtype: object\n",
      "sports                     dict             n=4\n",
      "sr                         Series           India    Tiger\\nn        <...>     Moose\\ndtype: object\n",
      "stateDF                    DataFrame                      State    Ar<...>           Perlis     821\n",
      "state_area                 list             n=13\n",
      "states                     list             n=13\n",
      "sys                        module           <module 'sys' (built-in)>\n"
     ]
    }
   ],
   "source": [
    "%whos"
   ]
  },
  {
   "cell_type": "code",
   "execution_count": 81,
   "metadata": {
    "collapsed": true
   },
   "outputs": [],
   "source": [
    "# Import again\n",
    "import matplotlib.pyplot as plt\n",
    "import numpy as np\n",
    "import pandas as pd\n",
    "import seaborn as sns\n",
    "import numpy.random as random\n",
    "%matplotlib inline"
   ]
  },
  {
   "cell_type": "code",
   "execution_count": 82,
   "metadata": {},
   "outputs": [
    {
     "name": "stdout",
     "output_type": "stream",
     "text": [
      "Variable                   Type             Data/Info\n",
      "-----------------------------------------------------\n",
      "DataFrame                  type             <class 'pandas.core.frame.DataFrame'>\n",
      "Series                     type             <class 'pandas.core.series.Series'>\n",
      "all_countries              Series           Archery           Bhutan\\<...>   England\\ndtype: object\n",
      "animals                    list             n=3\n",
      "area                       list             n=13\n",
      "copy_df                    DataFrame                 Cost Item Purcha<...>re 2   5.0      Bird Seed\n",
      "cricket_loving_countries   Series           Cricket    Australia\\nCri<...>   England\\ndtype: object\n",
      "dates                      DatetimeIndex    DatetimeIndex(['2016-11-0<...>atetime64[ns]', freq='D')\n",
      "df                         DataFrame                      State    Ar<...>           Perlis     821\n",
      "df1                        DataFrame          animal  number\\n0    ca<...>      2\\n2  mouse       3\n",
      "df2                        DataFrame             A          B    C  D<...>01-02  1.0  3  train  foo\n",
      "df3                        DataFrame                           A     <...>10406  0.135042  0.338841\n",
      "index_names                Index            Index(['Archery', 'Golf',<...>kwondo'], dtype='object')\n",
      "matplotlib                 module           <module 'matplotlib' from<...>matplotlib\\\\__init__.py'>\n",
      "np                         module           <module 'numpy' from 'C:\\<...>ges\\\\numpy\\\\__init__.py'>\n",
      "numbers                    list             n=3\n",
      "original_sports            Series           Archery           Bhutan\\<...>outh Korea\\ndtype: object\n",
      "pd                         module           <module 'pandas' from 'C:<...>es\\\\pandas\\\\__init__.py'>\n",
      "plt                        module           <module 'matplotlib.pyplo<...>\\\\matplotlib\\\\pyplot.py'>\n",
      "purchase_1                 Series           Cost                  22.<...>     Chris\\ndtype: object\n",
      "purchase_2                 Series           Cost                     <...>     Kevyn\\ndtype: object\n",
      "purchase_3                 Series           Cost                     <...>     Vinod\\ndtype: object\n",
      "random                     module           <module 'numpy.random' fr<...>py\\\\random\\\\__init__.py'>\n",
      "read_csv                   function         <function _make_parser_fu<...>_f at 0x000002B1D1BFF8C8>\n",
      "s                          Series           99          Bhutan\\n100  <...>outh Korea\\ndtype: object\n",
      "sns                        module           <module 'seaborn' from 'C<...>s\\\\seaborn\\\\__init__.py'>\n",
      "sp1                        Series           Golf      Scotland\\nSumo <...>       NaN\\ndtype: object\n",
      "sports                     dict             n=4\n",
      "sr                         Series           India    Tiger\\nn        <...>     Moose\\ndtype: object\n",
      "stateDF                    DataFrame                      State    Ar<...>           Perlis     821\n",
      "state_area                 list             n=13\n",
      "states                     list             n=13\n",
      "sys                        module           <module 'sys' (built-in)>\n"
     ]
    }
   ],
   "source": [
    "%whos"
   ]
  },
  {
   "cell_type": "markdown",
   "metadata": {},
   "source": [
    "## Loading Data\n",
    "\n",
    "Let's now try accessing that csv that we just saved.  Let us take a look at this function and what inputs it takes."
   ]
  },
  {
   "cell_type": "code",
   "execution_count": 83,
   "metadata": {},
   "outputs": [],
   "source": [
    "#pd.read_csv(\"\")"
   ]
  },
  {
   "cell_type": "markdown",
   "metadata": {},
   "source": [
    "Even though this functions has many parameters, we will simply pass it the location of the text file. We know that we saved things into the same directory.  "
   ]
  },
  {
   "cell_type": "markdown",
   "metadata": {},
   "source": [
    "### CSVs and Excel"
   ]
  },
  {
   "cell_type": "code",
   "execution_count": 84,
   "metadata": {},
   "outputs": [
    {
     "data": {
      "text/html": [
       "<div>\n",
       "<style>\n",
       "    .dataframe thead tr:only-child th {\n",
       "        text-align: right;\n",
       "    }\n",
       "\n",
       "    .dataframe thead th {\n",
       "        text-align: left;\n",
       "    }\n",
       "\n",
       "    .dataframe tbody tr th {\n",
       "        vertical-align: top;\n",
       "    }\n",
       "</style>\n",
       "<table border=\"1\" class=\"dataframe\">\n",
       "  <thead>\n",
       "    <tr style=\"text-align: right;\">\n",
       "      <th></th>\n",
       "      <th>10</th>\n",
       "      <th>Sarawak</th>\n",
       "      <th>124450</th>\n",
       "    </tr>\n",
       "  </thead>\n",
       "  <tbody>\n",
       "    <tr>\n",
       "      <th>0</th>\n",
       "      <td>9</td>\n",
       "      <td>Sabah</td>\n",
       "      <td>73631</td>\n",
       "    </tr>\n",
       "    <tr>\n",
       "      <th>1</th>\n",
       "      <td>5</td>\n",
       "      <td>Pahang</td>\n",
       "      <td>36137</td>\n",
       "    </tr>\n",
       "    <tr>\n",
       "      <th>2</th>\n",
       "      <td>6</td>\n",
       "      <td>Perak</td>\n",
       "      <td>21035</td>\n",
       "    </tr>\n",
       "    <tr>\n",
       "      <th>3</th>\n",
       "      <td>0</td>\n",
       "      <td>Johor</td>\n",
       "      <td>19210</td>\n",
       "    </tr>\n",
       "    <tr>\n",
       "      <th>4</th>\n",
       "      <td>2</td>\n",
       "      <td>Kelantan</td>\n",
       "      <td>15099</td>\n",
       "    </tr>\n",
       "    <tr>\n",
       "      <th>5</th>\n",
       "      <td>12</td>\n",
       "      <td>Terengganu</td>\n",
       "      <td>13035</td>\n",
       "    </tr>\n",
       "    <tr>\n",
       "      <th>6</th>\n",
       "      <td>1</td>\n",
       "      <td>Kedah</td>\n",
       "      <td>9500</td>\n",
       "    </tr>\n",
       "    <tr>\n",
       "      <th>7</th>\n",
       "      <td>11</td>\n",
       "      <td>Selangor</td>\n",
       "      <td>8104</td>\n",
       "    </tr>\n",
       "    <tr>\n",
       "      <th>8</th>\n",
       "      <td>4</td>\n",
       "      <td>Negeri Sembilan</td>\n",
       "      <td>6686</td>\n",
       "    </tr>\n",
       "    <tr>\n",
       "      <th>9</th>\n",
       "      <td>3</td>\n",
       "      <td>Melaka</td>\n",
       "      <td>1664</td>\n",
       "    </tr>\n",
       "    <tr>\n",
       "      <th>10</th>\n",
       "      <td>8</td>\n",
       "      <td>Penang</td>\n",
       "      <td>1048</td>\n",
       "    </tr>\n",
       "    <tr>\n",
       "      <th>11</th>\n",
       "      <td>7</td>\n",
       "      <td>Perlis</td>\n",
       "      <td>821</td>\n",
       "    </tr>\n",
       "  </tbody>\n",
       "</table>\n",
       "</div>"
      ],
      "text/plain": [
       "    10          Sarawak  124450\n",
       "0    9            Sabah   73631\n",
       "1    5           Pahang   36137\n",
       "2    6            Perak   21035\n",
       "3    0            Johor   19210\n",
       "4    2         Kelantan   15099\n",
       "5   12       Terengganu   13035\n",
       "6    1            Kedah    9500\n",
       "7   11         Selangor    8104\n",
       "8    4  Negeri Sembilan    6686\n",
       "9    3           Melaka    1664\n",
       "10   8           Penang    1048\n",
       "11   7           Perlis     821"
      ]
     },
     "execution_count": 84,
     "metadata": {},
     "output_type": "execute_result"
    }
   ],
   "source": [
    "path = r'malaysia_states.csv'    \n",
    "# why is there an 'r' in front of the filename?\n",
    "df=pd.read_csv(path)\n",
    "# to view the dataframe\n",
    "df"
   ]
  },
  {
   "cell_type": "markdown",
   "metadata": {},
   "source": [
    "The `read_csv` function treated the first record in the csv file as the header names. This is obviously not correct since the text file did not provide us with header names.\n",
    "To correct this we will pass the header parameter to the `read_csv` function and set it to None (means null in python)."
   ]
  },
  {
   "cell_type": "code",
   "execution_count": 85,
   "metadata": {},
   "outputs": [
    {
     "data": {
      "text/html": [
       "<div>\n",
       "<style>\n",
       "    .dataframe thead tr:only-child th {\n",
       "        text-align: right;\n",
       "    }\n",
       "\n",
       "    .dataframe thead th {\n",
       "        text-align: left;\n",
       "    }\n",
       "\n",
       "    .dataframe tbody tr th {\n",
       "        vertical-align: top;\n",
       "    }\n",
       "</style>\n",
       "<table border=\"1\" class=\"dataframe\">\n",
       "  <thead>\n",
       "    <tr style=\"text-align: right;\">\n",
       "      <th></th>\n",
       "      <th>0</th>\n",
       "      <th>1</th>\n",
       "      <th>2</th>\n",
       "    </tr>\n",
       "  </thead>\n",
       "  <tbody>\n",
       "    <tr>\n",
       "      <th>0</th>\n",
       "      <td>10</td>\n",
       "      <td>Sarawak</td>\n",
       "      <td>124450</td>\n",
       "    </tr>\n",
       "    <tr>\n",
       "      <th>1</th>\n",
       "      <td>9</td>\n",
       "      <td>Sabah</td>\n",
       "      <td>73631</td>\n",
       "    </tr>\n",
       "    <tr>\n",
       "      <th>2</th>\n",
       "      <td>5</td>\n",
       "      <td>Pahang</td>\n",
       "      <td>36137</td>\n",
       "    </tr>\n",
       "    <tr>\n",
       "      <th>3</th>\n",
       "      <td>6</td>\n",
       "      <td>Perak</td>\n",
       "      <td>21035</td>\n",
       "    </tr>\n",
       "    <tr>\n",
       "      <th>4</th>\n",
       "      <td>0</td>\n",
       "      <td>Johor</td>\n",
       "      <td>19210</td>\n",
       "    </tr>\n",
       "    <tr>\n",
       "      <th>5</th>\n",
       "      <td>2</td>\n",
       "      <td>Kelantan</td>\n",
       "      <td>15099</td>\n",
       "    </tr>\n",
       "    <tr>\n",
       "      <th>6</th>\n",
       "      <td>12</td>\n",
       "      <td>Terengganu</td>\n",
       "      <td>13035</td>\n",
       "    </tr>\n",
       "    <tr>\n",
       "      <th>7</th>\n",
       "      <td>1</td>\n",
       "      <td>Kedah</td>\n",
       "      <td>9500</td>\n",
       "    </tr>\n",
       "    <tr>\n",
       "      <th>8</th>\n",
       "      <td>11</td>\n",
       "      <td>Selangor</td>\n",
       "      <td>8104</td>\n",
       "    </tr>\n",
       "    <tr>\n",
       "      <th>9</th>\n",
       "      <td>4</td>\n",
       "      <td>Negeri Sembilan</td>\n",
       "      <td>6686</td>\n",
       "    </tr>\n",
       "    <tr>\n",
       "      <th>10</th>\n",
       "      <td>3</td>\n",
       "      <td>Melaka</td>\n",
       "      <td>1664</td>\n",
       "    </tr>\n",
       "    <tr>\n",
       "      <th>11</th>\n",
       "      <td>8</td>\n",
       "      <td>Penang</td>\n",
       "      <td>1048</td>\n",
       "    </tr>\n",
       "    <tr>\n",
       "      <th>12</th>\n",
       "      <td>7</td>\n",
       "      <td>Perlis</td>\n",
       "      <td>821</td>\n",
       "    </tr>\n",
       "  </tbody>\n",
       "</table>\n",
       "</div>"
      ],
      "text/plain": [
       "     0                1       2\n",
       "0   10          Sarawak  124450\n",
       "1    9            Sabah   73631\n",
       "2    5           Pahang   36137\n",
       "3    6            Perak   21035\n",
       "4    0            Johor   19210\n",
       "5    2         Kelantan   15099\n",
       "6   12       Terengganu   13035\n",
       "7    1            Kedah    9500\n",
       "8   11         Selangor    8104\n",
       "9    4  Negeri Sembilan    6686\n",
       "10   3           Melaka    1664\n",
       "11   8           Penang    1048\n",
       "12   7           Perlis     821"
      ]
     },
     "execution_count": 85,
     "metadata": {},
     "output_type": "execute_result"
    }
   ],
   "source": [
    "df = pd.read_csv(path, header=None)\n",
    "df"
   ]
  },
  {
   "cell_type": "markdown",
   "metadata": {},
   "source": [
    "If we wanted to give the columns specific names, we would have to pass another parameter called `names`. We can also omit the header parameter."
   ]
  },
  {
   "cell_type": "code",
   "execution_count": 86,
   "metadata": {},
   "outputs": [
    {
     "data": {
      "text/plain": [
       "'C:\\\\Users\\\\ASUS\\\\Downloads'"
      ]
     },
     "execution_count": 86,
     "metadata": {},
     "output_type": "execute_result"
    }
   ],
   "source": [
    "pwd"
   ]
  },
  {
   "cell_type": "code",
   "execution_count": 87,
   "metadata": {},
   "outputs": [
    {
     "data": {
      "text/html": [
       "<div>\n",
       "<style>\n",
       "    .dataframe thead tr:only-child th {\n",
       "        text-align: right;\n",
       "    }\n",
       "\n",
       "    .dataframe thead th {\n",
       "        text-align: left;\n",
       "    }\n",
       "\n",
       "    .dataframe tbody tr th {\n",
       "        vertical-align: top;\n",
       "    }\n",
       "</style>\n",
       "<table border=\"1\" class=\"dataframe\">\n",
       "  <thead>\n",
       "    <tr style=\"text-align: right;\">\n",
       "      <th></th>\n",
       "      <th>State</th>\n",
       "      <th>Area</th>\n",
       "    </tr>\n",
       "  </thead>\n",
       "  <tbody>\n",
       "    <tr>\n",
       "      <th>10</th>\n",
       "      <td>Sarawak</td>\n",
       "      <td>124450</td>\n",
       "    </tr>\n",
       "    <tr>\n",
       "      <th>9</th>\n",
       "      <td>Sabah</td>\n",
       "      <td>73631</td>\n",
       "    </tr>\n",
       "    <tr>\n",
       "      <th>5</th>\n",
       "      <td>Pahang</td>\n",
       "      <td>36137</td>\n",
       "    </tr>\n",
       "    <tr>\n",
       "      <th>6</th>\n",
       "      <td>Perak</td>\n",
       "      <td>21035</td>\n",
       "    </tr>\n",
       "    <tr>\n",
       "      <th>0</th>\n",
       "      <td>Johor</td>\n",
       "      <td>19210</td>\n",
       "    </tr>\n",
       "    <tr>\n",
       "      <th>2</th>\n",
       "      <td>Kelantan</td>\n",
       "      <td>15099</td>\n",
       "    </tr>\n",
       "    <tr>\n",
       "      <th>12</th>\n",
       "      <td>Terengganu</td>\n",
       "      <td>13035</td>\n",
       "    </tr>\n",
       "    <tr>\n",
       "      <th>1</th>\n",
       "      <td>Kedah</td>\n",
       "      <td>9500</td>\n",
       "    </tr>\n",
       "    <tr>\n",
       "      <th>11</th>\n",
       "      <td>Selangor</td>\n",
       "      <td>8104</td>\n",
       "    </tr>\n",
       "    <tr>\n",
       "      <th>4</th>\n",
       "      <td>Negeri Sembilan</td>\n",
       "      <td>6686</td>\n",
       "    </tr>\n",
       "    <tr>\n",
       "      <th>3</th>\n",
       "      <td>Melaka</td>\n",
       "      <td>1664</td>\n",
       "    </tr>\n",
       "    <tr>\n",
       "      <th>8</th>\n",
       "      <td>Penang</td>\n",
       "      <td>1048</td>\n",
       "    </tr>\n",
       "    <tr>\n",
       "      <th>7</th>\n",
       "      <td>Perlis</td>\n",
       "      <td>821</td>\n",
       "    </tr>\n",
       "  </tbody>\n",
       "</table>\n",
       "</div>"
      ],
      "text/plain": [
       "              State    Area\n",
       "10          Sarawak  124450\n",
       "9             Sabah   73631\n",
       "5            Pahang   36137\n",
       "6             Perak   21035\n",
       "0             Johor   19210\n",
       "2          Kelantan   15099\n",
       "12       Terengganu   13035\n",
       "1             Kedah    9500\n",
       "11         Selangor    8104\n",
       "4   Negeri Sembilan    6686\n",
       "3            Melaka    1664\n",
       "8            Penang    1048\n",
       "7            Perlis     821"
      ]
     },
     "execution_count": 87,
     "metadata": {},
     "output_type": "execute_result"
    }
   ],
   "source": [
    "area_df = pd.read_csv(path, names=['State','Area'])\n",
    "area_df"
   ]
  },
  {
   "cell_type": "markdown",
   "metadata": {},
   "source": [
    "You can think of the numbers [0,1,2,3,4] as the row numbers in an Excel file. In pandas these are part of the ***index*** of the dataframe. You can think of the index as the primary key of a SQL table with the exception that an index is allowed to have duplicates.  \n",
    "\n",
    "***[State, Area]*** can be thought of as column headers similar to the ones typically found in an Excel spreadsheet or SQL database.\n",
    "\n",
    "Now, to delete the csv file now that we are done using it..."
   ]
  },
  {
   "cell_type": "code",
   "execution_count": 88,
   "metadata": {
    "collapsed": true
   },
   "outputs": [],
   "source": [
    "# Using a Python Library - you can also use the unix command directly! Easy!\n",
    "import os\n",
    "os.remove(path)   # we had the filename stored in 'path' earlier\n",
    "\n"
   ]
  },
  {
   "cell_type": "code",
   "execution_count": 89,
   "metadata": {
    "collapsed": true
   },
   "outputs": [],
   "source": [
    "# Note that we do the same with xls files, only use read_excel.\n",
    "# Try it!\n",
    "pd.read_excel?"
   ]
  },
  {
   "cell_type": "markdown",
   "metadata": {},
   "source": [
    "## Selecting Data\n",
    "\n",
    "We can select data both by their labels and by their position. "
   ]
  },
  {
   "cell_type": "code",
   "execution_count": 90,
   "metadata": {},
   "outputs": [
    {
     "name": "stdout",
     "output_type": "stream",
     "text": [
      "                   A         B         C         D\n",
      "2016-01-01 -0.193656  0.739037 -1.415977  1.464304\n",
      "2016-01-02 -0.826349  1.098723 -0.245137 -0.146100\n",
      "2016-01-03  1.271623  0.457148 -0.597305 -0.071067\n",
      "2016-01-04  0.746896  0.339227  0.174565  0.022856\n",
      "2016-01-05  0.118902  0.083015  0.805541  0.358054\n",
      "2016-01-06 -0.299142  0.731410 -0.996270 -0.638846\n"
     ]
    },
    {
     "data": {
      "text/html": [
       "<div>\n",
       "<style>\n",
       "    .dataframe thead tr:only-child th {\n",
       "        text-align: right;\n",
       "    }\n",
       "\n",
       "    .dataframe thead th {\n",
       "        text-align: left;\n",
       "    }\n",
       "\n",
       "    .dataframe tbody tr th {\n",
       "        vertical-align: top;\n",
       "    }\n",
       "</style>\n",
       "<table border=\"1\" class=\"dataframe\">\n",
       "  <thead>\n",
       "    <tr style=\"text-align: right;\">\n",
       "      <th></th>\n",
       "      <th>A</th>\n",
       "      <th>B</th>\n",
       "      <th>C</th>\n",
       "      <th>D</th>\n",
       "    </tr>\n",
       "  </thead>\n",
       "  <tbody>\n",
       "    <tr>\n",
       "      <th>2016-01-02</th>\n",
       "      <td>-0.826349</td>\n",
       "      <td>1.098723</td>\n",
       "      <td>-0.245137</td>\n",
       "      <td>-0.146100</td>\n",
       "    </tr>\n",
       "    <tr>\n",
       "      <th>2016-01-06</th>\n",
       "      <td>-0.299142</td>\n",
       "      <td>0.731410</td>\n",
       "      <td>-0.996270</td>\n",
       "      <td>-0.638846</td>\n",
       "    </tr>\n",
       "    <tr>\n",
       "      <th>2016-01-01</th>\n",
       "      <td>-0.193656</td>\n",
       "      <td>0.739037</td>\n",
       "      <td>-1.415977</td>\n",
       "      <td>1.464304</td>\n",
       "    </tr>\n",
       "    <tr>\n",
       "      <th>2016-01-05</th>\n",
       "      <td>0.118902</td>\n",
       "      <td>0.083015</td>\n",
       "      <td>0.805541</td>\n",
       "      <td>0.358054</td>\n",
       "    </tr>\n",
       "    <tr>\n",
       "      <th>2016-01-04</th>\n",
       "      <td>0.746896</td>\n",
       "      <td>0.339227</td>\n",
       "      <td>0.174565</td>\n",
       "      <td>0.022856</td>\n",
       "    </tr>\n",
       "    <tr>\n",
       "      <th>2016-01-03</th>\n",
       "      <td>1.271623</td>\n",
       "      <td>0.457148</td>\n",
       "      <td>-0.597305</td>\n",
       "      <td>-0.071067</td>\n",
       "    </tr>\n",
       "  </tbody>\n",
       "</table>\n",
       "</div>"
      ],
      "text/plain": [
       "                   A         B         C         D\n",
       "2016-01-02 -0.826349  1.098723 -0.245137 -0.146100\n",
       "2016-01-06 -0.299142  0.731410 -0.996270 -0.638846\n",
       "2016-01-01 -0.193656  0.739037 -1.415977  1.464304\n",
       "2016-01-05  0.118902  0.083015  0.805541  0.358054\n",
       "2016-01-04  0.746896  0.339227  0.174565  0.022856\n",
       "2016-01-03  1.271623  0.457148 -0.597305 -0.071067"
      ]
     },
     "execution_count": 90,
     "metadata": {},
     "output_type": "execute_result"
    }
   ],
   "source": [
    "# create a datatime series\n",
    "dates =pd.date_range('20160101',periods=6)\n",
    " \n",
    "\n",
    "df = pd.DataFrame(np.random.randn(6,4), index=dates, columns=list('ABCD'))\n",
    "print(df)\n",
    "()\n",
    "df.head()\n",
    "()\n",
    "df.tail()\n",
    "()\n",
    "#df.index()\n",
    "#()\n",
    "#df.column()\n",
    "#()\n",
    "#df.values()\n",
    "#()\n",
    "df.sort_index()\n",
    "()\n",
    "df.sort_values(['A'])"
   ]
  },
  {
   "cell_type": "code",
   "execution_count": 91,
   "metadata": {
    "collapsed": true
   },
   "outputs": [],
   "source": [
    "# Try head, tail, index, columns, values, describe, T, sort_index\n",
    "# sort_values and see for yourself what they do!"
   ]
  },
  {
   "cell_type": "code",
   "execution_count": 92,
   "metadata": {},
   "outputs": [
    {
     "data": {
      "text/plain": [
       "DatetimeIndex(['2016-01-01', '2016-01-02', '2016-01-03', '2016-01-04',\n",
       "               '2016-01-05', '2016-01-06'],\n",
       "              dtype='datetime64[ns]', freq='D')"
      ]
     },
     "execution_count": 92,
     "metadata": {},
     "output_type": "execute_result"
    }
   ],
   "source": [
    "dates"
   ]
  },
  {
   "cell_type": "code",
   "execution_count": 93,
   "metadata": {},
   "outputs": [
    {
     "name": "stdout",
     "output_type": "stream",
     "text": [
      "2016-01-01 00:00:00\n",
      "A   -0.193656\n",
      "B    0.739037\n",
      "C   -1.415977\n",
      "D    1.464304\n",
      "Name: 2016-01-01 00:00:00, dtype: float64\n"
     ]
    }
   ],
   "source": [
    "# Getting a cross section on a label (or in other words, a row)\n",
    "print((dates[0]))\n",
    "print((df.loc[dates[0]]))"
   ]
  },
  {
   "cell_type": "code",
   "execution_count": 94,
   "metadata": {},
   "outputs": [
    {
     "data": {
      "text/html": [
       "<div>\n",
       "<style>\n",
       "    .dataframe thead tr:only-child th {\n",
       "        text-align: right;\n",
       "    }\n",
       "\n",
       "    .dataframe thead th {\n",
       "        text-align: left;\n",
       "    }\n",
       "\n",
       "    .dataframe tbody tr th {\n",
       "        vertical-align: top;\n",
       "    }\n",
       "</style>\n",
       "<table border=\"1\" class=\"dataframe\">\n",
       "  <thead>\n",
       "    <tr style=\"text-align: right;\">\n",
       "      <th></th>\n",
       "      <th>A</th>\n",
       "      <th>B</th>\n",
       "    </tr>\n",
       "  </thead>\n",
       "  <tbody>\n",
       "    <tr>\n",
       "      <th>2016-01-01</th>\n",
       "      <td>-0.193656</td>\n",
       "      <td>0.739037</td>\n",
       "    </tr>\n",
       "    <tr>\n",
       "      <th>2016-01-02</th>\n",
       "      <td>-0.826349</td>\n",
       "      <td>1.098723</td>\n",
       "    </tr>\n",
       "    <tr>\n",
       "      <th>2016-01-03</th>\n",
       "      <td>1.271623</td>\n",
       "      <td>0.457148</td>\n",
       "    </tr>\n",
       "    <tr>\n",
       "      <th>2016-01-04</th>\n",
       "      <td>0.746896</td>\n",
       "      <td>0.339227</td>\n",
       "    </tr>\n",
       "    <tr>\n",
       "      <th>2016-01-05</th>\n",
       "      <td>0.118902</td>\n",
       "      <td>0.083015</td>\n",
       "    </tr>\n",
       "    <tr>\n",
       "      <th>2016-01-06</th>\n",
       "      <td>-0.299142</td>\n",
       "      <td>0.731410</td>\n",
       "    </tr>\n",
       "  </tbody>\n",
       "</table>\n",
       "</div>"
      ],
      "text/plain": [
       "                   A         B\n",
       "2016-01-01 -0.193656  0.739037\n",
       "2016-01-02 -0.826349  1.098723\n",
       "2016-01-03  1.271623  0.457148\n",
       "2016-01-04  0.746896  0.339227\n",
       "2016-01-05  0.118902  0.083015\n",
       "2016-01-06 -0.299142  0.731410"
      ]
     },
     "execution_count": 94,
     "metadata": {},
     "output_type": "execute_result"
    }
   ],
   "source": [
    "# Selecting on a multi-axis by label\n",
    "df.loc[:,['A','B']]\n"
   ]
  },
  {
   "cell_type": "code",
   "execution_count": 95,
   "metadata": {},
   "outputs": [
    {
     "data": {
      "text/html": [
       "<div>\n",
       "<style>\n",
       "    .dataframe thead tr:only-child th {\n",
       "        text-align: right;\n",
       "    }\n",
       "\n",
       "    .dataframe thead th {\n",
       "        text-align: left;\n",
       "    }\n",
       "\n",
       "    .dataframe tbody tr th {\n",
       "        vertical-align: top;\n",
       "    }\n",
       "</style>\n",
       "<table border=\"1\" class=\"dataframe\">\n",
       "  <thead>\n",
       "    <tr style=\"text-align: right;\">\n",
       "      <th></th>\n",
       "      <th>B</th>\n",
       "      <th>C</th>\n",
       "    </tr>\n",
       "  </thead>\n",
       "  <tbody>\n",
       "    <tr>\n",
       "      <th>2016-01-03</th>\n",
       "      <td>0.457148</td>\n",
       "      <td>-0.597305</td>\n",
       "    </tr>\n",
       "    <tr>\n",
       "      <th>2016-01-04</th>\n",
       "      <td>0.339227</td>\n",
       "      <td>0.174565</td>\n",
       "    </tr>\n",
       "    <tr>\n",
       "      <th>2016-01-05</th>\n",
       "      <td>0.083015</td>\n",
       "      <td>0.805541</td>\n",
       "    </tr>\n",
       "  </tbody>\n",
       "</table>\n",
       "</div>"
      ],
      "text/plain": [
       "                   B         C\n",
       "2016-01-03  0.457148 -0.597305\n",
       "2016-01-04  0.339227  0.174565\n",
       "2016-01-05  0.083015  0.805541"
      ]
     },
     "execution_count": 95,
     "metadata": {},
     "output_type": "execute_result"
    }
   ],
   "source": [
    "# Showing label slicing, both endpoints are included unlike normal slicing\n",
    "df.loc['20160103':'20160105',['B','C']]"
   ]
  },
  {
   "cell_type": "code",
   "execution_count": 96,
   "metadata": {},
   "outputs": [
    {
     "data": {
      "text/plain": [
       "Timestamp('2016-01-03 00:00:00', freq='D')"
      ]
     },
     "execution_count": 96,
     "metadata": {},
     "output_type": "execute_result"
    }
   ],
   "source": [
    "dates[2]"
   ]
  },
  {
   "cell_type": "code",
   "execution_count": 97,
   "metadata": {},
   "outputs": [
    {
     "data": {
      "text/plain": [
       "-0.071066845573553555"
      ]
     },
     "execution_count": 97,
     "metadata": {},
     "output_type": "execute_result"
    }
   ],
   "source": [
    "# To get a scalar value... both work!\n",
    "df.loc[dates[2],'D']\n",
    "#df.at[dates[2],'D']"
   ]
  },
  {
   "cell_type": "markdown",
   "metadata": {},
   "source": [
    "```iloc``` is the same as ```loc```, only it works by position, not by label.\n"
   ]
  },
  {
   "cell_type": "code",
   "execution_count": 98,
   "metadata": {},
   "outputs": [
    {
     "data": {
      "text/html": [
       "<div>\n",
       "<style>\n",
       "    .dataframe thead tr:only-child th {\n",
       "        text-align: right;\n",
       "    }\n",
       "\n",
       "    .dataframe thead th {\n",
       "        text-align: left;\n",
       "    }\n",
       "\n",
       "    .dataframe tbody tr th {\n",
       "        vertical-align: top;\n",
       "    }\n",
       "</style>\n",
       "<table border=\"1\" class=\"dataframe\">\n",
       "  <thead>\n",
       "    <tr style=\"text-align: right;\">\n",
       "      <th></th>\n",
       "      <th>A</th>\n",
       "      <th>B</th>\n",
       "      <th>C</th>\n",
       "      <th>D</th>\n",
       "    </tr>\n",
       "  </thead>\n",
       "  <tbody>\n",
       "    <tr>\n",
       "      <th>2016-01-01</th>\n",
       "      <td>-0.193656</td>\n",
       "      <td>0.739037</td>\n",
       "      <td>-1.415977</td>\n",
       "      <td>1.464304</td>\n",
       "    </tr>\n",
       "    <tr>\n",
       "      <th>2016-01-02</th>\n",
       "      <td>-0.826349</td>\n",
       "      <td>1.098723</td>\n",
       "      <td>-0.245137</td>\n",
       "      <td>-0.146100</td>\n",
       "    </tr>\n",
       "    <tr>\n",
       "      <th>2016-01-03</th>\n",
       "      <td>1.271623</td>\n",
       "      <td>0.457148</td>\n",
       "      <td>-0.597305</td>\n",
       "      <td>-0.071067</td>\n",
       "    </tr>\n",
       "    <tr>\n",
       "      <th>2016-01-04</th>\n",
       "      <td>0.746896</td>\n",
       "      <td>0.339227</td>\n",
       "      <td>0.174565</td>\n",
       "      <td>0.022856</td>\n",
       "    </tr>\n",
       "    <tr>\n",
       "      <th>2016-01-05</th>\n",
       "      <td>0.118902</td>\n",
       "      <td>0.083015</td>\n",
       "      <td>0.805541</td>\n",
       "      <td>0.358054</td>\n",
       "    </tr>\n",
       "    <tr>\n",
       "      <th>2016-01-06</th>\n",
       "      <td>-0.299142</td>\n",
       "      <td>0.731410</td>\n",
       "      <td>-0.996270</td>\n",
       "      <td>-0.638846</td>\n",
       "    </tr>\n",
       "  </tbody>\n",
       "</table>\n",
       "</div>"
      ],
      "text/plain": [
       "                   A         B         C         D\n",
       "2016-01-01 -0.193656  0.739037 -1.415977  1.464304\n",
       "2016-01-02 -0.826349  1.098723 -0.245137 -0.146100\n",
       "2016-01-03  1.271623  0.457148 -0.597305 -0.071067\n",
       "2016-01-04  0.746896  0.339227  0.174565  0.022856\n",
       "2016-01-05  0.118902  0.083015  0.805541  0.358054\n",
       "2016-01-06 -0.299142  0.731410 -0.996270 -0.638846"
      ]
     },
     "execution_count": 98,
     "metadata": {},
     "output_type": "execute_result"
    }
   ],
   "source": [
    "df"
   ]
  },
  {
   "cell_type": "code",
   "execution_count": 99,
   "metadata": {},
   "outputs": [
    {
     "data": {
      "text/plain": [
       "-0.071066845573553555"
      ]
     },
     "execution_count": 99,
     "metadata": {},
     "output_type": "execute_result"
    }
   ],
   "source": [
    "# Select via the position of the passed integers\n",
    "df.iloc[2,3]"
   ]
  },
  {
   "cell_type": "code",
   "execution_count": 100,
   "metadata": {},
   "outputs": [
    {
     "data": {
      "text/html": [
       "<div>\n",
       "<style>\n",
       "    .dataframe thead tr:only-child th {\n",
       "        text-align: right;\n",
       "    }\n",
       "\n",
       "    .dataframe thead th {\n",
       "        text-align: left;\n",
       "    }\n",
       "\n",
       "    .dataframe tbody tr th {\n",
       "        vertical-align: top;\n",
       "    }\n",
       "</style>\n",
       "<table border=\"1\" class=\"dataframe\">\n",
       "  <thead>\n",
       "    <tr style=\"text-align: right;\">\n",
       "      <th></th>\n",
       "      <th>A</th>\n",
       "      <th>B</th>\n",
       "    </tr>\n",
       "  </thead>\n",
       "  <tbody>\n",
       "    <tr>\n",
       "      <th>2016-01-04</th>\n",
       "      <td>0.746896</td>\n",
       "      <td>0.339227</td>\n",
       "    </tr>\n",
       "    <tr>\n",
       "      <th>2016-01-05</th>\n",
       "      <td>0.118902</td>\n",
       "      <td>0.083015</td>\n",
       "    </tr>\n",
       "  </tbody>\n",
       "</table>\n",
       "</div>"
      ],
      "text/plain": [
       "                   A         B\n",
       "2016-01-04  0.746896  0.339227\n",
       "2016-01-05  0.118902  0.083015"
      ]
     },
     "execution_count": 100,
     "metadata": {},
     "output_type": "execute_result"
    }
   ],
   "source": [
    "# By integer slices, acting similarly to numpy/python\n",
    "\n",
    "df.iloc[3:5,0:2]"
   ]
  },
  {
   "cell_type": "code",
   "execution_count": 101,
   "metadata": {},
   "outputs": [
    {
     "data": {
      "text/html": [
       "<div>\n",
       "<style>\n",
       "    .dataframe thead tr:only-child th {\n",
       "        text-align: right;\n",
       "    }\n",
       "\n",
       "    .dataframe thead th {\n",
       "        text-align: left;\n",
       "    }\n",
       "\n",
       "    .dataframe tbody tr th {\n",
       "        vertical-align: top;\n",
       "    }\n",
       "</style>\n",
       "<table border=\"1\" class=\"dataframe\">\n",
       "  <thead>\n",
       "    <tr style=\"text-align: right;\">\n",
       "      <th></th>\n",
       "      <th>A</th>\n",
       "      <th>C</th>\n",
       "    </tr>\n",
       "  </thead>\n",
       "  <tbody>\n",
       "    <tr>\n",
       "      <th>2016-01-02</th>\n",
       "      <td>-0.826349</td>\n",
       "      <td>-0.245137</td>\n",
       "    </tr>\n",
       "    <tr>\n",
       "      <th>2016-01-03</th>\n",
       "      <td>1.271623</td>\n",
       "      <td>-0.597305</td>\n",
       "    </tr>\n",
       "    <tr>\n",
       "      <th>2016-01-05</th>\n",
       "      <td>0.118902</td>\n",
       "      <td>0.805541</td>\n",
       "    </tr>\n",
       "  </tbody>\n",
       "</table>\n",
       "</div>"
      ],
      "text/plain": [
       "                   A         C\n",
       "2016-01-02 -0.826349 -0.245137\n",
       "2016-01-03  1.271623 -0.597305\n",
       "2016-01-05  0.118902  0.805541"
      ]
     },
     "execution_count": 101,
     "metadata": {},
     "output_type": "execute_result"
    }
   ],
   "source": [
    "# By lists of integer position locations, \n",
    "# similar to the numpy/python style\n",
    "\n",
    "df.iloc[[1,2,4],[0,2]]"
   ]
  },
  {
   "cell_type": "code",
   "execution_count": 102,
   "metadata": {},
   "outputs": [
    {
     "data": {
      "text/html": [
       "<div>\n",
       "<style>\n",
       "    .dataframe thead tr:only-child th {\n",
       "        text-align: right;\n",
       "    }\n",
       "\n",
       "    .dataframe thead th {\n",
       "        text-align: left;\n",
       "    }\n",
       "\n",
       "    .dataframe tbody tr th {\n",
       "        vertical-align: top;\n",
       "    }\n",
       "</style>\n",
       "<table border=\"1\" class=\"dataframe\">\n",
       "  <thead>\n",
       "    <tr style=\"text-align: right;\">\n",
       "      <th></th>\n",
       "      <th>A</th>\n",
       "      <th>B</th>\n",
       "      <th>C</th>\n",
       "      <th>D</th>\n",
       "    </tr>\n",
       "  </thead>\n",
       "  <tbody>\n",
       "    <tr>\n",
       "      <th>2016-01-02</th>\n",
       "      <td>-0.826349</td>\n",
       "      <td>1.098723</td>\n",
       "      <td>-0.245137</td>\n",
       "      <td>-0.146100</td>\n",
       "    </tr>\n",
       "    <tr>\n",
       "      <th>2016-01-03</th>\n",
       "      <td>1.271623</td>\n",
       "      <td>0.457148</td>\n",
       "      <td>-0.597305</td>\n",
       "      <td>-0.071067</td>\n",
       "    </tr>\n",
       "  </tbody>\n",
       "</table>\n",
       "</div>"
      ],
      "text/plain": [
       "                   A         B         C         D\n",
       "2016-01-02 -0.826349  1.098723 -0.245137 -0.146100\n",
       "2016-01-03  1.271623  0.457148 -0.597305 -0.071067"
      ]
     },
     "execution_count": 102,
     "metadata": {},
     "output_type": "execute_result"
    }
   ],
   "source": [
    "# iloc is used to slice rows and columns explicitly\n",
    "df.iloc[1:3,:]"
   ]
  },
  {
   "cell_type": "code",
   "execution_count": 103,
   "metadata": {},
   "outputs": [
    {
     "data": {
      "text/html": [
       "<div>\n",
       "<style>\n",
       "    .dataframe thead tr:only-child th {\n",
       "        text-align: right;\n",
       "    }\n",
       "\n",
       "    .dataframe thead th {\n",
       "        text-align: left;\n",
       "    }\n",
       "\n",
       "    .dataframe tbody tr th {\n",
       "        vertical-align: top;\n",
       "    }\n",
       "</style>\n",
       "<table border=\"1\" class=\"dataframe\">\n",
       "  <thead>\n",
       "    <tr style=\"text-align: right;\">\n",
       "      <th></th>\n",
       "      <th>B</th>\n",
       "      <th>C</th>\n",
       "    </tr>\n",
       "  </thead>\n",
       "  <tbody>\n",
       "    <tr>\n",
       "      <th>2016-01-01</th>\n",
       "      <td>0.739037</td>\n",
       "      <td>-1.415977</td>\n",
       "    </tr>\n",
       "    <tr>\n",
       "      <th>2016-01-02</th>\n",
       "      <td>1.098723</td>\n",
       "      <td>-0.245137</td>\n",
       "    </tr>\n",
       "    <tr>\n",
       "      <th>2016-01-03</th>\n",
       "      <td>0.457148</td>\n",
       "      <td>-0.597305</td>\n",
       "    </tr>\n",
       "    <tr>\n",
       "      <th>2016-01-04</th>\n",
       "      <td>0.339227</td>\n",
       "      <td>0.174565</td>\n",
       "    </tr>\n",
       "    <tr>\n",
       "      <th>2016-01-05</th>\n",
       "      <td>0.083015</td>\n",
       "      <td>0.805541</td>\n",
       "    </tr>\n",
       "    <tr>\n",
       "      <th>2016-01-06</th>\n",
       "      <td>0.731410</td>\n",
       "      <td>-0.996270</td>\n",
       "    </tr>\n",
       "  </tbody>\n",
       "</table>\n",
       "</div>"
      ],
      "text/plain": [
       "                   B         C\n",
       "2016-01-01  0.739037 -1.415977\n",
       "2016-01-02  1.098723 -0.245137\n",
       "2016-01-03  0.457148 -0.597305\n",
       "2016-01-04  0.339227  0.174565\n",
       "2016-01-05  0.083015  0.805541\n",
       "2016-01-06  0.731410 -0.996270"
      ]
     },
     "execution_count": 103,
     "metadata": {},
     "output_type": "execute_result"
    }
   ],
   "source": [
    "df.iloc[:,1:3]"
   ]
  },
  {
   "cell_type": "code",
   "execution_count": 104,
   "metadata": {},
   "outputs": [
    {
     "data": {
      "text/plain": [
       "1.0987228964567639"
      ]
     },
     "execution_count": 104,
     "metadata": {},
     "output_type": "execute_result"
    }
   ],
   "source": [
    "# For getting a value explicitly\n",
    "df.iloc[1,1]\n",
    "# df.iat[1,1]"
   ]
  },
  {
   "cell_type": "markdown",
   "metadata": {},
   "source": [
    "### Masks\n",
    "\n",
    "We can use _boolean arrays_ to select data"
   ]
  },
  {
   "cell_type": "code",
   "execution_count": 105,
   "metadata": {},
   "outputs": [
    {
     "data": {
      "text/plain": [
       "2016-01-01    False\n",
       "2016-01-02    False\n",
       "2016-01-03     True\n",
       "2016-01-04     True\n",
       "2016-01-05     True\n",
       "2016-01-06    False\n",
       "Freq: D, Name: A, dtype: bool"
      ]
     },
     "execution_count": 105,
     "metadata": {},
     "output_type": "execute_result"
    }
   ],
   "source": [
    "df.A>0"
   ]
  },
  {
   "cell_type": "code",
   "execution_count": 106,
   "metadata": {},
   "outputs": [
    {
     "data": {
      "text/html": [
       "<div>\n",
       "<style>\n",
       "    .dataframe thead tr:only-child th {\n",
       "        text-align: right;\n",
       "    }\n",
       "\n",
       "    .dataframe thead th {\n",
       "        text-align: left;\n",
       "    }\n",
       "\n",
       "    .dataframe tbody tr th {\n",
       "        vertical-align: top;\n",
       "    }\n",
       "</style>\n",
       "<table border=\"1\" class=\"dataframe\">\n",
       "  <thead>\n",
       "    <tr style=\"text-align: right;\">\n",
       "      <th></th>\n",
       "      <th>A</th>\n",
       "      <th>B</th>\n",
       "      <th>C</th>\n",
       "      <th>D</th>\n",
       "    </tr>\n",
       "  </thead>\n",
       "  <tbody>\n",
       "    <tr>\n",
       "      <th>2016-01-03</th>\n",
       "      <td>1.271623</td>\n",
       "      <td>0.457148</td>\n",
       "      <td>-0.597305</td>\n",
       "      <td>-0.071067</td>\n",
       "    </tr>\n",
       "    <tr>\n",
       "      <th>2016-01-04</th>\n",
       "      <td>0.746896</td>\n",
       "      <td>0.339227</td>\n",
       "      <td>0.174565</td>\n",
       "      <td>0.022856</td>\n",
       "    </tr>\n",
       "    <tr>\n",
       "      <th>2016-01-05</th>\n",
       "      <td>0.118902</td>\n",
       "      <td>0.083015</td>\n",
       "      <td>0.805541</td>\n",
       "      <td>0.358054</td>\n",
       "    </tr>\n",
       "  </tbody>\n",
       "</table>\n",
       "</div>"
      ],
      "text/plain": [
       "                   A         B         C         D\n",
       "2016-01-03  1.271623  0.457148 -0.597305 -0.071067\n",
       "2016-01-04  0.746896  0.339227  0.174565  0.022856\n",
       "2016-01-05  0.118902  0.083015  0.805541  0.358054"
      ]
     },
     "execution_count": 106,
     "metadata": {},
     "output_type": "execute_result"
    }
   ],
   "source": [
    "df[df.A > 0]   # can you figure out intuitively what this does?"
   ]
  },
  {
   "cell_type": "code",
   "execution_count": 107,
   "metadata": {},
   "outputs": [
    {
     "data": {
      "text/html": [
       "<div>\n",
       "<style>\n",
       "    .dataframe thead tr:only-child th {\n",
       "        text-align: right;\n",
       "    }\n",
       "\n",
       "    .dataframe thead th {\n",
       "        text-align: left;\n",
       "    }\n",
       "\n",
       "    .dataframe tbody tr th {\n",
       "        vertical-align: top;\n",
       "    }\n",
       "</style>\n",
       "<table border=\"1\" class=\"dataframe\">\n",
       "  <thead>\n",
       "    <tr style=\"text-align: right;\">\n",
       "      <th></th>\n",
       "      <th>A</th>\n",
       "      <th>B</th>\n",
       "      <th>C</th>\n",
       "      <th>D</th>\n",
       "    </tr>\n",
       "  </thead>\n",
       "  <tbody>\n",
       "    <tr>\n",
       "      <th>2016-01-01</th>\n",
       "      <td>NaN</td>\n",
       "      <td>0.739037</td>\n",
       "      <td>NaN</td>\n",
       "      <td>1.464304</td>\n",
       "    </tr>\n",
       "    <tr>\n",
       "      <th>2016-01-02</th>\n",
       "      <td>NaN</td>\n",
       "      <td>1.098723</td>\n",
       "      <td>NaN</td>\n",
       "      <td>NaN</td>\n",
       "    </tr>\n",
       "    <tr>\n",
       "      <th>2016-01-03</th>\n",
       "      <td>1.271623</td>\n",
       "      <td>0.457148</td>\n",
       "      <td>NaN</td>\n",
       "      <td>NaN</td>\n",
       "    </tr>\n",
       "    <tr>\n",
       "      <th>2016-01-04</th>\n",
       "      <td>0.746896</td>\n",
       "      <td>0.339227</td>\n",
       "      <td>0.174565</td>\n",
       "      <td>0.022856</td>\n",
       "    </tr>\n",
       "    <tr>\n",
       "      <th>2016-01-05</th>\n",
       "      <td>0.118902</td>\n",
       "      <td>0.083015</td>\n",
       "      <td>0.805541</td>\n",
       "      <td>0.358054</td>\n",
       "    </tr>\n",
       "    <tr>\n",
       "      <th>2016-01-06</th>\n",
       "      <td>NaN</td>\n",
       "      <td>0.731410</td>\n",
       "      <td>NaN</td>\n",
       "      <td>NaN</td>\n",
       "    </tr>\n",
       "  </tbody>\n",
       "</table>\n",
       "</div>"
      ],
      "text/plain": [
       "                   A         B         C         D\n",
       "2016-01-01       NaN  0.739037       NaN  1.464304\n",
       "2016-01-02       NaN  1.098723       NaN       NaN\n",
       "2016-01-03  1.271623  0.457148       NaN       NaN\n",
       "2016-01-04  0.746896  0.339227  0.174565  0.022856\n",
       "2016-01-05  0.118902  0.083015  0.805541  0.358054\n",
       "2016-01-06       NaN  0.731410       NaN       NaN"
      ]
     },
     "execution_count": 107,
     "metadata": {},
     "output_type": "execute_result"
    }
   ],
   "source": [
    "df[df > 0]"
   ]
  },
  {
   "cell_type": "markdown",
   "metadata": {},
   "source": [
    "### Setting Data"
   ]
  },
  {
   "cell_type": "code",
   "execution_count": 108,
   "metadata": {},
   "outputs": [
    {
     "data": {
      "text/html": [
       "<div>\n",
       "<style>\n",
       "    .dataframe thead tr:only-child th {\n",
       "        text-align: right;\n",
       "    }\n",
       "\n",
       "    .dataframe thead th {\n",
       "        text-align: left;\n",
       "    }\n",
       "\n",
       "    .dataframe tbody tr th {\n",
       "        vertical-align: top;\n",
       "    }\n",
       "</style>\n",
       "<table border=\"1\" class=\"dataframe\">\n",
       "  <thead>\n",
       "    <tr style=\"text-align: right;\">\n",
       "      <th></th>\n",
       "      <th>A</th>\n",
       "      <th>B</th>\n",
       "      <th>C</th>\n",
       "      <th>D</th>\n",
       "      <th>E</th>\n",
       "    </tr>\n",
       "  </thead>\n",
       "  <tbody>\n",
       "    <tr>\n",
       "      <th>2016-01-01</th>\n",
       "      <td>-0.193656</td>\n",
       "      <td>0.739037</td>\n",
       "      <td>-1.415977</td>\n",
       "      <td>1.464304</td>\n",
       "      <td>one</td>\n",
       "    </tr>\n",
       "    <tr>\n",
       "      <th>2016-01-02</th>\n",
       "      <td>-0.826349</td>\n",
       "      <td>1.098723</td>\n",
       "      <td>-0.245137</td>\n",
       "      <td>-0.146100</td>\n",
       "      <td>one</td>\n",
       "    </tr>\n",
       "    <tr>\n",
       "      <th>2016-01-03</th>\n",
       "      <td>1.271623</td>\n",
       "      <td>0.457148</td>\n",
       "      <td>-0.597305</td>\n",
       "      <td>-0.071067</td>\n",
       "      <td>two</td>\n",
       "    </tr>\n",
       "    <tr>\n",
       "      <th>2016-01-04</th>\n",
       "      <td>0.746896</td>\n",
       "      <td>0.339227</td>\n",
       "      <td>0.174565</td>\n",
       "      <td>0.022856</td>\n",
       "      <td>three</td>\n",
       "    </tr>\n",
       "    <tr>\n",
       "      <th>2016-01-05</th>\n",
       "      <td>0.118902</td>\n",
       "      <td>0.083015</td>\n",
       "      <td>0.805541</td>\n",
       "      <td>0.358054</td>\n",
       "      <td>four</td>\n",
       "    </tr>\n",
       "    <tr>\n",
       "      <th>2016-01-06</th>\n",
       "      <td>-0.299142</td>\n",
       "      <td>0.731410</td>\n",
       "      <td>-0.996270</td>\n",
       "      <td>-0.638846</td>\n",
       "      <td>three</td>\n",
       "    </tr>\n",
       "  </tbody>\n",
       "</table>\n",
       "</div>"
      ],
      "text/plain": [
       "                   A         B         C         D      E\n",
       "2016-01-01 -0.193656  0.739037 -1.415977  1.464304    one\n",
       "2016-01-02 -0.826349  1.098723 -0.245137 -0.146100    one\n",
       "2016-01-03  1.271623  0.457148 -0.597305 -0.071067    two\n",
       "2016-01-04  0.746896  0.339227  0.174565  0.022856  three\n",
       "2016-01-05  0.118902  0.083015  0.805541  0.358054   four\n",
       "2016-01-06 -0.299142  0.731410 -0.996270 -0.638846  three"
      ]
     },
     "execution_count": 108,
     "metadata": {},
     "output_type": "execute_result"
    }
   ],
   "source": [
    "df['E'] = ['one', 'one','two','three','four','three']    \n",
    "# create a new column\n",
    "df\n"
   ]
  },
  {
   "cell_type": "code",
   "execution_count": 109,
   "metadata": {},
   "outputs": [
    {
     "data": {
      "text/html": [
       "<div>\n",
       "<style>\n",
       "    .dataframe thead tr:only-child th {\n",
       "        text-align: right;\n",
       "    }\n",
       "\n",
       "    .dataframe thead th {\n",
       "        text-align: left;\n",
       "    }\n",
       "\n",
       "    .dataframe tbody tr th {\n",
       "        vertical-align: top;\n",
       "    }\n",
       "</style>\n",
       "<table border=\"1\" class=\"dataframe\">\n",
       "  <thead>\n",
       "    <tr style=\"text-align: right;\">\n",
       "      <th></th>\n",
       "      <th>A</th>\n",
       "      <th>B</th>\n",
       "      <th>C</th>\n",
       "      <th>D</th>\n",
       "      <th>E</th>\n",
       "    </tr>\n",
       "  </thead>\n",
       "  <tbody>\n",
       "    <tr>\n",
       "      <th>2016-01-03</th>\n",
       "      <td>1.271623</td>\n",
       "      <td>0.457148</td>\n",
       "      <td>-0.597305</td>\n",
       "      <td>-0.071067</td>\n",
       "      <td>two</td>\n",
       "    </tr>\n",
       "    <tr>\n",
       "      <th>2016-01-05</th>\n",
       "      <td>0.118902</td>\n",
       "      <td>0.083015</td>\n",
       "      <td>0.805541</td>\n",
       "      <td>0.358054</td>\n",
       "      <td>four</td>\n",
       "    </tr>\n",
       "  </tbody>\n",
       "</table>\n",
       "</div>"
      ],
      "text/plain": [
       "                   A         B         C         D     E\n",
       "2016-01-03  1.271623  0.457148 -0.597305 -0.071067   two\n",
       "2016-01-05  0.118902  0.083015  0.805541  0.358054  four"
      ]
     },
     "execution_count": 109,
     "metadata": {},
     "output_type": "execute_result"
    }
   ],
   "source": [
    "df[df['E'].isin(['two','four'])]         "
   ]
  },
  {
   "cell_type": "code",
   "execution_count": 110,
   "metadata": {},
   "outputs": [
    {
     "name": "stdout",
     "output_type": "stream",
     "text": [
      "                   A         B         C         D      E\n",
      "2016-01-01 -0.193656  0.739037 -1.415977  1.464304    one\n",
      "2016-01-02 -0.826349  1.098723 -0.245137 -0.146100    one\n",
      "2016-01-03  1.271623  0.457148 -0.597305 -0.071067    two\n",
      "2016-01-04  0.746896  0.339227  0.174565  0.022856  three\n",
      "2016-01-05  0.118902  0.083015  0.805541  0.358054   four\n",
      "2016-01-06 -0.299142  0.731410 -0.996270 -0.638846  three\n"
     ]
    },
    {
     "data": {
      "text/html": [
       "<div>\n",
       "<style>\n",
       "    .dataframe thead tr:only-child th {\n",
       "        text-align: right;\n",
       "    }\n",
       "\n",
       "    .dataframe thead th {\n",
       "        text-align: left;\n",
       "    }\n",
       "\n",
       "    .dataframe tbody tr th {\n",
       "        vertical-align: top;\n",
       "    }\n",
       "</style>\n",
       "<table border=\"1\" class=\"dataframe\">\n",
       "  <thead>\n",
       "    <tr style=\"text-align: right;\">\n",
       "      <th></th>\n",
       "      <th>A</th>\n",
       "      <th>B</th>\n",
       "      <th>C</th>\n",
       "      <th>D</th>\n",
       "      <th>E</th>\n",
       "    </tr>\n",
       "  </thead>\n",
       "  <tbody>\n",
       "    <tr>\n",
       "      <th>2016-01-01</th>\n",
       "      <td>0.000000</td>\n",
       "      <td>0.000000</td>\n",
       "      <td>-1.415977</td>\n",
       "      <td>5</td>\n",
       "      <td>one</td>\n",
       "    </tr>\n",
       "    <tr>\n",
       "      <th>2016-01-02</th>\n",
       "      <td>-0.826349</td>\n",
       "      <td>1.098723</td>\n",
       "      <td>-0.245137</td>\n",
       "      <td>5</td>\n",
       "      <td>one</td>\n",
       "    </tr>\n",
       "    <tr>\n",
       "      <th>2016-01-03</th>\n",
       "      <td>1.271623</td>\n",
       "      <td>0.457148</td>\n",
       "      <td>-0.597305</td>\n",
       "      <td>5</td>\n",
       "      <td>two</td>\n",
       "    </tr>\n",
       "    <tr>\n",
       "      <th>2016-01-04</th>\n",
       "      <td>0.746896</td>\n",
       "      <td>0.339227</td>\n",
       "      <td>0.174565</td>\n",
       "      <td>5</td>\n",
       "      <td>three</td>\n",
       "    </tr>\n",
       "    <tr>\n",
       "      <th>2016-01-05</th>\n",
       "      <td>0.118902</td>\n",
       "      <td>0.083015</td>\n",
       "      <td>0.805541</td>\n",
       "      <td>5</td>\n",
       "      <td>four</td>\n",
       "    </tr>\n",
       "    <tr>\n",
       "      <th>2016-01-06</th>\n",
       "      <td>-0.299142</td>\n",
       "      <td>0.731410</td>\n",
       "      <td>-0.996270</td>\n",
       "      <td>5</td>\n",
       "      <td>three</td>\n",
       "    </tr>\n",
       "  </tbody>\n",
       "</table>\n",
       "</div>"
      ],
      "text/plain": [
       "                   A         B         C  D      E\n",
       "2016-01-01  0.000000  0.000000 -1.415977  5    one\n",
       "2016-01-02 -0.826349  1.098723 -0.245137  5    one\n",
       "2016-01-03  1.271623  0.457148 -0.597305  5    two\n",
       "2016-01-04  0.746896  0.339227  0.174565  5  three\n",
       "2016-01-05  0.118902  0.083015  0.805541  5   four\n",
       "2016-01-06 -0.299142  0.731410 -0.996270  5  three"
      ]
     },
     "execution_count": 110,
     "metadata": {},
     "output_type": "execute_result"
    }
   ],
   "source": [
    "# We can set data in a variety of ways\n",
    "\n",
    "print(df)\n",
    "df.at[dates[0],'A'] = 0               \n",
    "df.iat[0,1] = 0                       \n",
    "df.loc[:,'D'] = np.array([5] * len(df))\n",
    "df"
   ]
  },
  {
   "cell_type": "code",
   "execution_count": 111,
   "metadata": {},
   "outputs": [
    {
     "data": {
      "text/html": [
       "<div>\n",
       "<style>\n",
       "    .dataframe thead tr:only-child th {\n",
       "        text-align: right;\n",
       "    }\n",
       "\n",
       "    .dataframe thead th {\n",
       "        text-align: left;\n",
       "    }\n",
       "\n",
       "    .dataframe tbody tr th {\n",
       "        vertical-align: top;\n",
       "    }\n",
       "</style>\n",
       "<table border=\"1\" class=\"dataframe\">\n",
       "  <thead>\n",
       "    <tr style=\"text-align: right;\">\n",
       "      <th></th>\n",
       "      <th>A</th>\n",
       "      <th>B</th>\n",
       "      <th>C</th>\n",
       "      <th>D</th>\n",
       "    </tr>\n",
       "  </thead>\n",
       "  <tbody>\n",
       "    <tr>\n",
       "      <th>2016-01-01</th>\n",
       "      <td>0.000000</td>\n",
       "      <td>0.000000</td>\n",
       "      <td>-1.415977</td>\n",
       "      <td>5</td>\n",
       "    </tr>\n",
       "    <tr>\n",
       "      <th>2016-01-02</th>\n",
       "      <td>-0.826349</td>\n",
       "      <td>1.098723</td>\n",
       "      <td>-0.245137</td>\n",
       "      <td>5</td>\n",
       "    </tr>\n",
       "    <tr>\n",
       "      <th>2016-01-03</th>\n",
       "      <td>1.271623</td>\n",
       "      <td>0.457148</td>\n",
       "      <td>-0.597305</td>\n",
       "      <td>5</td>\n",
       "    </tr>\n",
       "    <tr>\n",
       "      <th>2016-01-04</th>\n",
       "      <td>0.746896</td>\n",
       "      <td>0.339227</td>\n",
       "      <td>0.174565</td>\n",
       "      <td>5</td>\n",
       "    </tr>\n",
       "    <tr>\n",
       "      <th>2016-01-05</th>\n",
       "      <td>0.118902</td>\n",
       "      <td>0.083015</td>\n",
       "      <td>0.805541</td>\n",
       "      <td>5</td>\n",
       "    </tr>\n",
       "    <tr>\n",
       "      <th>2016-01-06</th>\n",
       "      <td>-0.299142</td>\n",
       "      <td>0.731410</td>\n",
       "      <td>-0.996270</td>\n",
       "      <td>5</td>\n",
       "    </tr>\n",
       "  </tbody>\n",
       "</table>\n",
       "</div>"
      ],
      "text/plain": [
       "                   A         B         C  D\n",
       "2016-01-01  0.000000  0.000000 -1.415977  5\n",
       "2016-01-02 -0.826349  1.098723 -0.245137  5\n",
       "2016-01-03  1.271623  0.457148 -0.597305  5\n",
       "2016-01-04  0.746896  0.339227  0.174565  5\n",
       "2016-01-05  0.118902  0.083015  0.805541  5\n",
       "2016-01-06 -0.299142  0.731410 -0.996270  5"
      ]
     },
     "execution_count": 111,
     "metadata": {},
     "output_type": "execute_result"
    }
   ],
   "source": [
    "del df['E']\n",
    "df"
   ]
  },
  {
   "cell_type": "code",
   "execution_count": 112,
   "metadata": {
    "scrolled": true
   },
   "outputs": [
    {
     "data": {
      "text/html": [
       "<div>\n",
       "<style>\n",
       "    .dataframe thead tr:only-child th {\n",
       "        text-align: right;\n",
       "    }\n",
       "\n",
       "    .dataframe thead th {\n",
       "        text-align: left;\n",
       "    }\n",
       "\n",
       "    .dataframe tbody tr th {\n",
       "        vertical-align: top;\n",
       "    }\n",
       "</style>\n",
       "<table border=\"1\" class=\"dataframe\">\n",
       "  <thead>\n",
       "    <tr style=\"text-align: right;\">\n",
       "      <th></th>\n",
       "      <th>A</th>\n",
       "      <th>B</th>\n",
       "      <th>C</th>\n",
       "      <th>D</th>\n",
       "    </tr>\n",
       "  </thead>\n",
       "  <tbody>\n",
       "    <tr>\n",
       "      <th>2016-01-01</th>\n",
       "      <td>0.000000</td>\n",
       "      <td>0.000000</td>\n",
       "      <td>-1.415977</td>\n",
       "      <td>-5</td>\n",
       "    </tr>\n",
       "    <tr>\n",
       "      <th>2016-01-02</th>\n",
       "      <td>-0.826349</td>\n",
       "      <td>-1.098723</td>\n",
       "      <td>-0.245137</td>\n",
       "      <td>-5</td>\n",
       "    </tr>\n",
       "    <tr>\n",
       "      <th>2016-01-03</th>\n",
       "      <td>-1.271623</td>\n",
       "      <td>-0.457148</td>\n",
       "      <td>-0.597305</td>\n",
       "      <td>-5</td>\n",
       "    </tr>\n",
       "    <tr>\n",
       "      <th>2016-01-04</th>\n",
       "      <td>-0.746896</td>\n",
       "      <td>-0.339227</td>\n",
       "      <td>-0.174565</td>\n",
       "      <td>-5</td>\n",
       "    </tr>\n",
       "    <tr>\n",
       "      <th>2016-01-05</th>\n",
       "      <td>-0.118902</td>\n",
       "      <td>-0.083015</td>\n",
       "      <td>-0.805541</td>\n",
       "      <td>-5</td>\n",
       "    </tr>\n",
       "    <tr>\n",
       "      <th>2016-01-06</th>\n",
       "      <td>-0.299142</td>\n",
       "      <td>-0.731410</td>\n",
       "      <td>-0.996270</td>\n",
       "      <td>-5</td>\n",
       "    </tr>\n",
       "  </tbody>\n",
       "</table>\n",
       "</div>"
      ],
      "text/plain": [
       "                   A         B         C  D\n",
       "2016-01-01  0.000000  0.000000 -1.415977 -5\n",
       "2016-01-02 -0.826349 -1.098723 -0.245137 -5\n",
       "2016-01-03 -1.271623 -0.457148 -0.597305 -5\n",
       "2016-01-04 -0.746896 -0.339227 -0.174565 -5\n",
       "2016-01-05 -0.118902 -0.083015 -0.805541 -5\n",
       "2016-01-06 -0.299142 -0.731410 -0.996270 -5"
      ]
     },
     "execution_count": 112,
     "metadata": {},
     "output_type": "execute_result"
    }
   ],
   "source": [
    "# where operation with setting!\n",
    "df[df > 0] = -df\n",
    "df"
   ]
  },
  {
   "cell_type": "markdown",
   "metadata": {},
   "source": [
    "## Preparing Data\n",
    "\n",
    "Or data cleansing!\n",
    "\n",
    "Let's use some real data from Wikipedia!\n",
    "\n",
    "Pandas takes a \"batteries included approach\" and throws in a whole lot of convenience functions.  For instance it has import functions for a variety of formats.  One of the pleasant surprises is a command `read_html` that's meant to automate the process of extacting tabular data from HTML.  In particular, it works pretty well with tables on Wikipedia.  \n",
    "\n",
    "Let's do an example: We'll try to extract the list of the world's tallest buildings from\n",
    "http://en.wikipedia.org/wiki/List_of_tallest_buildings_and_structures_in_the_world"
   ]
  },
  {
   "cell_type": "code",
   "execution_count": 113,
   "metadata": {},
   "outputs": [
    {
     "data": {
      "text/plain": [
       "[Empty DataFrame\n",
       " Columns: [Unnamed: 0, This article includes a list of references, related reading or external links, but its sources remain unclear because it lacks inline citations. Please help to improve this article by introducing more precise citations. (September 2017) (Learn how and when to remove this template message)]\n",
       " Index: [],   Map all coordinates using: OpenStreetMap · Google Maps\n",
       " 0                 Download coordinates as: KML · GPX    , Empty DataFrame\n",
       " Columns: [Unnamed: 0, This section needs additional citations for verification. Please help improve this article by adding citations to reliable sources. Unsourced material may be challenged and removed. (August 2007) (Learn how and when to remove this template message)]\n",
       " Index: [],                                       Category  \\\n",
       " 0                                    Mixed use   \n",
       " 1                        Self-supporting tower   \n",
       " 2                     Guyed steel lattice mast   \n",
       " 3                               Clock building   \n",
       " 4                                       Office   \n",
       " 5                           Military structure   \n",
       " 6                                Mast radiator   \n",
       " 7                                  Twin towers   \n",
       " 8                                  Residential   \n",
       " 9                                      Chimney   \n",
       " 10                                       Radar   \n",
       " 11                               Lattice tower   \n",
       " 12                           Electricity pylon   \n",
       " 13                       Partially guyed tower   \n",
       " 14                    Guyed tubular steel mast   \n",
       " 15                               Bridge pillar   \n",
       " 16                   Scientific research tower   \n",
       " 17  Blaw-Knox Tower (diamond cantilever tower)   \n",
       " 18                                         Dam   \n",
       " 19                                Wind turbine   \n",
       " 20                                  University   \n",
       " 21                                     Minaret   \n",
       " 22                               Cooling tower   \n",
       " 23                                    Monument   \n",
       " 24                                 Water tower   \n",
       " 25                            Wooden structure   \n",
       " 26                               Masonry tower   \n",
       " 27                          Inclined structure   \n",
       " 28                                     Obelisk   \n",
       " 29                                Ferris wheel   \n",
       " 30                            Masonry building   \n",
       " 31                            Masonry building   \n",
       " 32                                    Flagpole   \n",
       " 33                                Church tower   \n",
       " 34                             Industrial hall   \n",
       " 35                                        Dome   \n",
       " 36                              Memorial cross   \n",
       " 37                                   Telescope   \n",
       " 38                              Roller coaster   \n",
       " 39                                        Tomb   \n",
       " 40                                  Lighthouse   \n",
       " 41                   Air traffic control tower   \n",
       " 42                     Statue (incl. pedestal)   \n",
       " 43                                       Stupa   \n",
       " 44                        Wooden lattice tower   \n",
       " 45                                Storage silo   \n",
       " 46                Aerial tramway support tower   \n",
       " 47                                      Sphere   \n",
       " 48                            Brick lighthouse   \n",
       " 49                                     Gopuram   \n",
       " 50                               Wooden church   \n",
       " \n",
       "                                             Structure               Country  \\\n",
       " 0                                        Burj Khalifa  United Arab Emirates   \n",
       " 1                                       Tokyo Skytree                 Japan   \n",
       " 2                                        KVLY-TV mast         United States   \n",
       " 3                                Abraj Al Bait Towers          Saudi Arabia   \n",
       " 4                              One World Trade Center         United States   \n",
       " 5                      Large masts of INS Kattabomman                 India   \n",
       " 6                           Lualualei VLF transmitter         United States   \n",
       " 7                                Petronas Twin Towers              Malaysia   \n",
       " 8                                     432 Park Avenue         United States   \n",
       " 9                      Ekibastuz GRES-2 Power Station            Kazakhstan   \n",
       " 10                              Dimona Radar Facility                Israel   \n",
       " 11                                      Kiev TV Tower               Ukraine   \n",
       " 12             Zhoushan Island Overhead Powerline Tie                 China   \n",
       " 13                                    Gerbrandy Tower           Netherlands   \n",
       " 14                                 TV Tower Vinnytsia               Ukraine   \n",
       " 15                                     Millau Viaduct                France   \n",
       " 16                      Amazon Tall Tower Observatory                Brazil   \n",
       " 17                                     Lakihegy Tower               Hungary   \n",
       " 18                                      Jinping-I Dam                 China   \n",
       " 19  GE 3.4-137 wind turbine at Naturstromspeicher ...               Germany   \n",
       " 20           Main building of Moscow State University                Russia   \n",
       " 21                                   Hassan II Mosque               Morocco   \n",
       " 22                    Kalisindh Thermal Power Station                 India   \n",
       " 23                                       Gateway Arch         United States   \n",
       " 24                        Main tower of Kuwait Towers                Kuwait   \n",
       " 25                 ATLAS-I at Kirtland Air Force Base         United States   \n",
       " 26                             Anaconda Smelter Stack         United States   \n",
       " 27                                    Olympic Stadium                Canada   \n",
       " 28                               San Jacinto Monument         United States   \n",
       " 29                                        High Roller         United States   \n",
       " 30                                  Mole Antonelliana                 Italy   \n",
       " 31                             Philadelphia City Hall         United States   \n",
       " 32                                    Jeddah Flagpole          Saudi Arabia   \n",
       " 33                                      Ulmer Münster               Germany   \n",
       " 34                          Vehicle Assembly Building         United States   \n",
       " 35  Dome of the Basilica of Our Lady of Peace of Y...           Ivory Coast   \n",
       " 36                 Santa Cruz del Valle de los Caídos                 Spain   \n",
       " 37                                  Arecibo Telescope           Puerto Rico   \n",
       " 38                                          Kingda Ka         United States   \n",
       " 39                              Great Pyramid of Giza                 Egypt   \n",
       " 40                                       Jeddah Light          Saudi Arabia   \n",
       " 41  Kuala Lumpur International Airport 2 Control T...              Malaysia   \n",
       " 42                               Spring Temple Buddha                 China   \n",
       " 43                                     Jetavanaramaya             Sri Lanka   \n",
       " 44                                Gliwice Radio Tower                Poland   \n",
       " 45                                Schapfen Mill Tower               Germany   \n",
       " 46    Pillar of third section of Gletscherbahn Kaprun               Austria   \n",
       " 47                                     Ericsson Globe                Sweden   \n",
       " 48                                Lighthouse of Genoa                 Italy   \n",
       " 49                                Murudeshwara Temple                 India   \n",
       " 50               Church of the Săpânța-Peri Monastery               Romania   \n",
       " \n",
       "                              City Height (metres)  Height (feet) Year built  \\\n",
       " 0                           Dubai             828         2717.0       2010   \n",
       " 1                           Tokyo             634         2080.0       2011   \n",
       " 2         Blanchard, North Dakota           628.8         2063.0       1963   \n",
       " 3                           Mecca             601         1972.0       2011   \n",
       " 4              New York, New York             541         1776.0       2013   \n",
       " 5         Tirunelveli, Tamil Nadu             471         1545.0       2014   \n",
       " 6               Lualualei, Hawaii             458         1503.0       1972   \n",
       " 7                    Kuala Lumpur             452         1482.0       1998   \n",
       " 8              New York, New York           425.5         1396.0       2015   \n",
       " 9                       Ekibastuz           419.7         1377.0       1987   \n",
       " 10                         Dimona             400         1312.0       2008   \n",
       " 11                           Kiev             385         1263.0       1973   \n",
       " 12                       Zhoushan             370         1214.0       2009   \n",
       " 13                    IJsselstein           366.8         1203.0       1961   \n",
       " 14                      Vinnytsia             354         1161.0       1961   \n",
       " 15                         Millau             342         1122.0       2004   \n",
       " 16            160 km NE of Manaus          325[4]         1066.0       2015   \n",
       " 17              Szigetszentmiklós             314         1031.0       1968   \n",
       " 18                      Liangshan             305         1001.0       2013   \n",
       " 19                       Gaildorf           246.5          809.0       2017   \n",
       " 20                         Moscow             240          787.4       1953   \n",
       " 21                     Casablanca             210          689.0       1993   \n",
       " 22                       Jhalawar          202[6]          663.0       2012   \n",
       " 23            St. Louis, Missouri             192          630.0       1965   \n",
       " 24                    Kuwait City             187          614.0       1979   \n",
       " 25                    Albuquerque             180          600.0       1980   \n",
       " 26              Anaconda, Montana           178.3          585.0       1919   \n",
       " 27                       Montreal             175          574.0       1976   \n",
       " 28                La Porte, Texas           173.7          570.0       1939   \n",
       " 29                      Las Vegas           167.6          550.0       2014   \n",
       " 30                         Torino             167          548.0       1889   \n",
       " 31                   Philadelphia             167          548.0       1901   \n",
       " 32                         Jeddah          171[7]          561.0       2014   \n",
       " 33                            Ulm             162          530.0       1890   \n",
       " 34  Kennedy Space Center, Florida             160          525.0       1966   \n",
       " 35                   Yamoussoukro             158          518.0       1990   \n",
       " 36                    El Escorial           152.4          500.0       1957   \n",
       " 37           Arecibo, Puerto Rico             150          492.0       1963   \n",
       " 38            Jackson, New Jersey          138.98          456.0       2005   \n",
       " 39                           Giza           138.8          455.2   2560 BCE   \n",
       " 40                         Jeddah             133          436.0    1990[8]   \n",
       " 41                         Sepang           141.3          463.6    2013[9]   \n",
       " 42                         Lushan             128          420.0       2002   \n",
       " 43                   Anuradhapura             122          400.0        NaN   \n",
       " 44                        Gliwice             118          387.0       1935   \n",
       " 45                            Ulm             115          377.0       2005   \n",
       " 46                         Kaprun           113.6          373.0       1966   \n",
       " 47                      Stockholm              85          279.0       1989   \n",
       " 48                          Genoa              77          253.0       1543   \n",
       " 49                   Murudeshwara              76          249.0       2008   \n",
       " 50                        Săpânța              75          246.0       2003   \n",
       " \n",
       "                                           Coordinates  \n",
       " 0   25°11′50.0″N 55°16′26.6″E﻿ / ﻿25.197222°N 55.2...  \n",
       " 1   35°42′36.5″N 139°48′39″E﻿ / ﻿35.710139°N 139.8...  \n",
       " 2   47°20′32″N 97°17′25″W﻿ / ﻿47.34222°N 97.29028°...  \n",
       " 3   21°25′08″N 39°49′35″E﻿ / ﻿21.41889°N 39.82639°...  \n",
       " 4   40°42′46.8″N 74°0′48.6″W﻿ / ﻿40.713000°N 74.01...  \n",
       " 5   8°22′42.52″N 77°44′38.45″E﻿ / ﻿8.3784778°N 77....  \n",
       " 6   21°25′11.87″N 158°08′53.67″W﻿ / ﻿21.4199639°N ...  \n",
       " 7   3°09′27.45″N 101°42′40.7″E﻿ / ﻿3.1576250°N 101...  \n",
       " 8                                                 NaN  \n",
       " 9   52°1′26.3″N 75°28′34.5″E﻿ / ﻿52.023972°N 75.47...  \n",
       " 10  30°58′6.93″N 35°05′49.64″E﻿ / ﻿30.9685917°N 35...  \n",
       " 11  50°28′16.49″N 30°27′11.97″E﻿ / ﻿50.4712472°N 3...  \n",
       " 12  29°56′2.78″N 122°2′10.12″E﻿ / ﻿29.9341056°N 12...  \n",
       " 13  52°00′36.24″N 05°03′12.87″E﻿ / ﻿52.0100667°N 5...  \n",
       " 14  49°14′30.04″N 28°25′25.25″E﻿ / ﻿49.2416778°N 2...  \n",
       " 15  44°05′09.97″N 03°01′17.94″E﻿ / ﻿44.0861028°N 3...  \n",
       " 16  02°29′06″S 59°35′33″W﻿ / ﻿2.48500°S 59.59250°W...  \n",
       " 17  47°22′23″N 19°00′16″E﻿ / ﻿47.37306°N 19.00444°...  \n",
       " 18  28°11′07″N 101°37′42″E﻿ / ﻿28.18528°N 101.6283...  \n",
       " 19  48°59′49″N 9°48′35″E﻿ / ﻿48.997075°N 9.809822°...  \n",
       " 20  55°42′11″N 37°31′49″E﻿ / ﻿55.70306°N 37.53028°...  \n",
       " 21  33°36′28.71″N 7°37′58.16″W﻿ / ﻿33.6079750°N 7....  \n",
       " 22  24°32′04.97″N 76°05′57.89″E﻿ / ﻿24.5347139°N 7...  \n",
       " 23  38°37′28.62″N 90°11′5.87″W﻿ / ﻿38.6246167°N 90...  \n",
       " 24  29°23′22.75″N 48°00′11.57″E﻿ / ﻿29.3896528°N 4...  \n",
       " 25  35°01′48″N 106°33′27″W﻿ / ﻿35.029898°N 106.557...  \n",
       " 26  46°06′36.53″N 112°54′48.8″W﻿ / ﻿46.1101472°N 1...  \n",
       " 27  45°33′33.53″N 73°33′7.61″W﻿ / ﻿45.5593139°N 73...  \n",
       " 28  29°44′59.46″N 95°04′50.52″W﻿ / ﻿29.7498500°N 9...  \n",
       " 29  36°07′03″N 115°10′05″W﻿ / ﻿36.117402°N 115.168...  \n",
       " 30  45°04′8.45″N 7°41′35.62″E﻿ / ﻿45.0690139°N 7.6...  \n",
       " 31  39°57′9.79″N 75°09′48.72″W﻿ / ﻿39.9527194°N 75...  \n",
       " 32  21°30′28.23″N 39°10′11.04″E﻿ / ﻿21.5078417°N 3...  \n",
       " 33  48°23′55″N 9°59′30.78″E﻿ / ﻿48.39861°N 9.99188...  \n",
       " 34  28°35′9.64″N 80°39′2.11″W﻿ / ﻿28.5860111°N 80....  \n",
       " 35  6°48′40″N 5°17′47″W﻿ / ﻿6.81111°N 5.29639°W﻿ /...  \n",
       " 36  40°38′31.46″N 4°9′19.6″W﻿ / ﻿40.6420722°N 4.15...  \n",
       " 37  18°20′39″N 66°45′10″W﻿ / ﻿18.34417°N 66.75278°...  \n",
       " 38  40°08′26.54″N 74°25′59.83″W﻿ / ﻿40.1407056°N 7...  \n",
       " 39  29°58′44.93″N 31°08′3.09″E﻿ / ﻿29.9791472°N 31...  \n",
       " 40  21°28′07.14″N 39°08′58.98″E﻿ / ﻿21.4686500°N 3...  \n",
       " 41  2°44′26″N 101°40′45″E﻿ / ﻿2.740486°N 101.67906...  \n",
       " 42  33°46′31″N 112°27′04″E﻿ / ﻿33.775150°N 112.451...  \n",
       " 43                                                NaN  \n",
       " 44  50°18′48.12″N 18°41′20.26″E﻿ / ﻿50.3133667°N 1...  \n",
       " 45  48°25′57″N 9°58′58″E﻿ / ﻿48.43250°N 9.98278°E﻿...  \n",
       " 46  47°11′58.62″N 12°41′16.96″E﻿ / ﻿47.1996167°N 1...  \n",
       " 47  59°17′36.92″N 18°04′58.79″E﻿ / ﻿59.2935889°N 1...  \n",
       " 48  44°24′16.25″N 8°54′16.67″E﻿ / ﻿44.4045139°N 8....  \n",
       " 49  14°05′39″N 74°29′07″E﻿ / ﻿14.094197°N 74.48516...  \n",
       " 50  47°58′59.5″N 23°42′02.5″E﻿ / ﻿47.983194°N 23.7...  ,                               Category                     Structure  \\\n",
       " 0                           Guyed mast             Warsaw Radio Mast   \n",
       " 1            Scientific research tower                    BREN Tower   \n",
       " 2             Guyed tubular steel mast  Shushi-Wan Omega Transmitter   \n",
       " 3  Structure for scientific experiment             Smokey Shot Tower   \n",
       " 4                     Wooden structure    Mühlacker Wood Radio Tower   \n",
       " 5                     Masonry building             Mole Antonelliana   \n",
       " 6          Pre-Industrial Era building             Lincoln Cathedral   \n",
       " 7                         Storage silo                Henninger Turm   \n",
       " \n",
       "           Country              City  Height (metres)  Height (feet)  \\\n",
       " 0          Poland             Gąbin           646.38         2121.0   \n",
       " 1   United States  Nevada Test Site           462.00         1516.0   \n",
       " 2           Japan          Tsushima           389.00         1276.0   \n",
       " 3   United States  Nevada Test Site           213.00          700.0   \n",
       " 4         Germany         Mühlacker           190.00          623.0   \n",
       " 5           Italy            Torino           167.50          549.5   \n",
       " 6  United Kingdom           Lincoln           160.00          524.0   \n",
       " 7         Germany         Frankfurt           120.00          394.0   \n",
       " \n",
       "                                          Coordinates  \\\n",
       " 0  52°22′3.74″N 19°48′8.73″E﻿ / ﻿52.3677056°N 19....   \n",
       " 1  36°46′50.23″N 116°14′36.9″W﻿ / ﻿36.7806194°N 1...   \n",
       " 2  34°36′53″N 129°27′13″E﻿ / ﻿34.61472°N 129.4536...   \n",
       " 3  37°11′13.63″N 116°4′7.93″W﻿ / ﻿37.1871194°N 11...   \n",
       " 4  48°56′27.67″N 8°51′8.24″E﻿ / ﻿48.9410194°N 8.8...   \n",
       " 5  45°04′8.45″N 7°41′35.62″E﻿ / ﻿45.0690139°N 7.6...   \n",
       " 6  53°14′3.26″N 0°32′10.54″W﻿ / ﻿53.2342389°N 0.5...   \n",
       " 7  50°05′50.18″N 8°41′36.81″E﻿ / ﻿50.0972722°N 8....   \n",
       " \n",
       "                                              Remarks  \n",
       " 0     completed in 1974, collapsed on August 8, 1991  \n",
       " 1     completed in 1962, demolished May 23, 2012[10]  \n",
       " 2              completed in 1973, dismantled in 1998  \n",
       " 3  Guyed mast, which carried 44 kt yield nuclear ...  \n",
       " 4  completed in 1934, destroyed on April 6, 1945,...  \n",
       " 5  spire destroyed by a tornado in 1953 (rebuilt ...  \n",
       " 6         completed in 1311, spire blown off in 1549  \n",
       " 7            constructed in 1961, demolished in 2013  ,       Category                                      Structure  \\\n",
       " 0   Mixed-Use*                                   Burj Khalifa   \n",
       " 1       Office                         One World Trade Center   \n",
       " 2  Residential                                432 Park Avenue   \n",
       " 3        Hotel                      JW Marriott Marquis Dubai   \n",
       " 4  Educational                        Moscow State University   \n",
       " 5    Religious                               Hassan II Mosque   \n",
       " 6     Hospital  Outpatient Center, Houston Methodist Hospital   \n",
       " \n",
       "                 Country           City  Architectural top (metres)  \\\n",
       " 0  United Arab Emirates          Dubai                      830.00   \n",
       " 1         United States  New York City                      541.00   \n",
       " 2         United States  New York City                      425.50   \n",
       " 3  United Arab Emirates          Dubai                      355.00   \n",
       " 4                Russia         Moscow                      240.00   \n",
       " 5               Morocco     Casablanca                      210.00   \n",
       " 6         United States        Houston                      156.05   \n",
       " \n",
       "    Architectural top (feet)  \n",
       " 0                    2722.0  \n",
       " 1                    1776.0  \n",
       " 2                    1396.0  \n",
       " 3                    1166.0  \n",
       " 4                     787.0  \n",
       " 5                     689.0  \n",
       " 6                     511.8  ,                                       Date (event) Architectural top  \\\n",
       " 0                     2010: Burj Khalifa completed      Burj Khalifa   \n",
       " 1        2009: CTBUH omits Height to Roof category        Taipei 101   \n",
       " 2  2008: Shanghai World Financial Center completed        Taipei 101   \n",
       " 3                       2003: Taipei 101 completed        Taipei 101   \n",
       " 4             2000: Willis Tower antenna extension   Petronas Towers   \n",
       " 5                  1998: Petronas Towers completed   Petronas Towers   \n",
       " 6                   1996: CTBUH defines categories      Willis Tower   \n",
       " \n",
       "             Highest occupied floor                             Roof  \\\n",
       " 0                     Burj Khalifa                              NaN   \n",
       " 1  Shanghai World Financial Center                              NaN   \n",
       " 2  Shanghai World Financial Center  Shanghai World Financial Center   \n",
       " 3                       Taipei 101                       Taipei 101   \n",
       " 4                     Willis Tower                     Willis Tower   \n",
       " 5                     Willis Tower                     Willis Tower   \n",
       " 6                     Willis Tower                     Willis Tower   \n",
       " \n",
       "                   Tip  \n",
       " 0        Burj Khalifa  \n",
       " 1        Willis Tower  \n",
       " 2        Willis Tower  \n",
       " 3        Willis Tower  \n",
       " 4        Willis Tower  \n",
       " 5  World Trade Center  \n",
       " 6  World Trade Center  ,    Record from Record held (years)  \\\n",
       " 0   c. 8000 BC                5350   \n",
       " 1   c. 2650 BC                  40   \n",
       " 2   c. 2610 BC                   5   \n",
       " 3   c. 2605 BC                   5   \n",
       " 4   c. 2600 BC                  40   \n",
       " 5   c. 2560 BC                3871   \n",
       " 6         1311                 238   \n",
       " 7         1549                  20   \n",
       " 8         1569                   4   \n",
       " 9         1573          94 (20+74)   \n",
       " 10        1647                 227   \n",
       " 11        1874                   2   \n",
       " 12        1876                   4   \n",
       " 13        1880                   4   \n",
       " 14        1884                   5   \n",
       " 15        1889                  41   \n",
       " 16        1930                   1   \n",
       " 17        1931                  36   \n",
       " 18        1967                   8   \n",
       " 19        1975                  32   \n",
       " 20        2007             present   \n",
       " \n",
       "                                     Name and location  Constructed  \\\n",
       " 0                         Tower of Jericho, West Bank   c. 8000 BC   \n",
       " 1                            Pyramid of Djoser, Egypt   c. 2650 BC   \n",
       " 2                             Meidum Pyramid in Egypt   c. 2610 BC   \n",
       " 3                               Bent Pyramid in Egypt   c. 2605 BC   \n",
       " 4                       Red Pyramid of Sneferu, Egypt   c. 2600 BC   \n",
       " 5                      Great Pyramid of Giza in Egypt   c. 2560 BC   \n",
       " 6             Lincoln Cathedral in the United Kingdom    1092–1311   \n",
       " 7             St. Mary's Church in Stralsund, Germany    1384–1478   \n",
       " 8                        Beauvais Cathedral in France  1225 - 1604   \n",
       " 9             St. Mary's Church in Stralsund, Germany    1384–1478   \n",
       " 10                     Strasbourg Cathedral in France         1439   \n",
       " 11                    St. Nikolai in Hamburg, Germany    1846–1874   \n",
       " 12             Cathédrale Notre Dame in Rouen, France    1202–1876   \n",
       " 13                       Cologne Cathedral in Germany    1248–1880   \n",
       " 14  Washington Monument in Washington D.C., United...         1884   \n",
       " 15                      Eiffel Tower in Paris, France         1889   \n",
       " 16       Chrysler Building in New York, United States    1928–1930   \n",
       " 17   Empire State Building in New York, United States    1930–1931   \n",
       " 18            Ostankino Tower in Moscow, Soviet Union    1963–1967   \n",
       " 19               CN Tower in Toronto, Ontario, Canada    1973–1976   \n",
       " 20        Burj Khalifa in Dubai, United Arab Emirates    2004–2009   \n",
       " \n",
       "     Height (metres)  Height (feet)  \\\n",
       " 0               8.5             28   \n",
       " 1              62.0            203   \n",
       " 2              93.5            307   \n",
       " 3             101.1            332   \n",
       " 4             105.0            345   \n",
       " 5             146.0            481   \n",
       " 6             160.0            525   \n",
       " 7             151.0            495   \n",
       " 8             153.0            502   \n",
       " 9             151.0            495   \n",
       " 10            142.0            469   \n",
       " 11            147.0            483   \n",
       " 12            151.0            495   \n",
       " 13            157.0            515   \n",
       " 14            169.0            555   \n",
       " 15            300.0            986   \n",
       " 16            319.0           1046   \n",
       " 17            381.0           1250   \n",
       " 18            540.0           1762   \n",
       " 19            553.0           1815   \n",
       " 20            829.8           2722   \n",
       " \n",
       "                                           Coordinates  \\\n",
       " 0   31°52′19″N 35°26′38″E﻿ / ﻿31.872041°N 35.44398...   \n",
       " 1   29°52′16.53″N 31°12′59.59″E﻿ / ﻿29.8712583°N 3...   \n",
       " 2   29°23′17″N 31°09′25″E﻿ / ﻿29.38806°N 31.15694°...   \n",
       " 3   29°47′25″N 31°12′33″E﻿ / ﻿29.79028°N 31.20917°...   \n",
       " 4   29°48′31.39″N 31°12′22.49″E﻿ / ﻿29.8087194°N 3...   \n",
       " 5   29°58′44.93″N 31°08′3.09″E﻿ / ﻿29.9791472°N 31...   \n",
       " 6   53°14′3.26″N 0°32′10.54″W﻿ / ﻿53.2342389°N 0.5...   \n",
       " 7   54°18′36.01″N 13°5′14.81″E﻿ / ﻿54.3100028°N 13...   \n",
       " 8   49°25′49″N 2°05′43″E﻿ / ﻿49.43028°N 2.09528°E﻿...   \n",
       " 9   54°18′36.01″N 13°5′14.81″E﻿ / ﻿54.3100028°N 13...   \n",
       " 10  48°34′54.22″N 7°45′1.48″E﻿ / ﻿48.5817278°N 7.7...   \n",
       " 11  53°32′50.94″N 9°59′26.12″E﻿ / ﻿53.5474833°N 9....   \n",
       " 12  49°26′24.54″N 1°5′41.85″E﻿ / ﻿49.4401500°N 1.0...   \n",
       " 13  50°56′28.08″N 6°57′25.73″E﻿ / ﻿50.9411333°N 6....   \n",
       " 14  38°53′22.08″N 77°2′6.89″W﻿ / ﻿38.8894667°N 77....   \n",
       " 15  48°51′29.77″N 2°17′40.09″E﻿ / ﻿48.8582694°N 2....   \n",
       " 16  40°45′5.78″N 73°58′31.52″W﻿ / ﻿40.7516056°N 73...   \n",
       " 17  40°44′54.95″N 73°59′8.71″W﻿ / ﻿40.7485972°N 73...   \n",
       " 18  55°49′10.94″N 37°36′41.79″E﻿ / ﻿55.8197056°N 3...   \n",
       " 19  43°38′33.22″N 79°23′13.41″W﻿ / ﻿43.6425611°N 7...   \n",
       " 20  25°11′50.0″N 55°16′26.6″E﻿ / ﻿25.197222°N 55.2...   \n",
       " \n",
       "                                                 Notes  \n",
       " 0                                                 NaN  \n",
       " 1                                                 NaN  \n",
       " 2   Shortly after completion Meidum Pyramid collap...  \n",
       " 3   Angle of slope decreased during construction t...  \n",
       " 4                                                 NaN  \n",
       " 5   By 1647, the Great Pyramid had eroded to a hei...  \n",
       " 6   The central spire was destroyed in a storm in ...  \n",
       " 7                                                 NaN  \n",
       " 8   Spire collapsed in 1573 (the cross was removed...  \n",
       " 9   The spire burnt down after a lightning strike ...  \n",
       " 10  By 1647, the Great Pyramid had eroded to a hei...  \n",
       " 11                                                NaN  \n",
       " 12                                                NaN  \n",
       " 13                                                NaN  \n",
       " 14  The world's tallest all-stone structure, as we...  \n",
       " 15  First structure to exceed 300 metres in height...  \n",
       " 16                                                NaN  \n",
       " 17  First building with 100+ stories. The addition...  \n",
       " 18  Remains the tallest in Europe. Fire in 2000 le...  \n",
       " 19      Remains the tallest in the Western Hemisphere  \n",
       " 20  Holder of world's tallest freestanding structu...  ,    Record from Record held (years)                          Name and location  \\\n",
       " 0            m                  ft                                        NaN   \n",
       " 1         1889                  42                        Eiffel Tower, Paris   \n",
       " 2         1931                  42       Empire State Building, New York City   \n",
       " 3         1973                   1          World Trade Center, New York City   \n",
       " 4         1974                   1                      Willis Tower, Chicago   \n",
       " 5         1975                   1          World Trade Center, New York City   \n",
       " 6         1976                  32                          CN Tower, Toronto   \n",
       " 7         2008                   3  Shanghai World Financial Center, Shanghai   \n",
       " 8         2011                   3                    Canton Tower, Guangzhou   \n",
       " 9         2014                   2                        Burj Khalifa, Dubai   \n",
       " 10        2016             present            Shanghai Tower, Shanghai, China   \n",
       " \n",
       "     Constructed Height above ground   Notes  \\\n",
       " 0           NaN                 NaN     NaN   \n",
       " 1        1889.0                 275   902.0   \n",
       " 2        1931.0             369[26]  1250.0   \n",
       " 3        1973.0               399.4  1310.0   \n",
       " 4        1974.0               412.4  1353.0   \n",
       " 5        1973.0               419.7  1377.0   \n",
       " 6        1976.0               446.5  1464.9   \n",
       " 7        2008.0                 474  1555.0   \n",
       " 8        2011.0                 488  1601.0   \n",
       " 9        2010.0                 555  1821.0   \n",
       " 10       2015.0                 561  1841.0   \n",
       " \n",
       "                                            Unnamed: 6  \n",
       " 0                                                 NaN  \n",
       " 1   Two lower observation decks at 57 and 115 m (1...  \n",
       " 2   On the 102nd floor - a second observation deck...  \n",
       " 3   Indoor observatory on the 107th floor of South...  \n",
       " 4         103rd floor Skydeck opened on June 22, 1974  \n",
       " 5   Outdoor observatory on the South Tower rooftop...  \n",
       " 6   Two further observation decks at 342 and 346 m...  \n",
       " 7   Two further observation decks at 423 and 439 m...  \n",
       " 8   The rooftop outdoor observation deck opened in...  \n",
       " 9   Opened on October 15, 2014 on the 148th floor....  \n",
       " 10                            Opened on July 1, 2016.  ,    Record from Record held (years)  \\\n",
       " 0            m                  ft   \n",
       " 1         1913                   7   \n",
       " 2         1920                   3   \n",
       " 3         1923                  10   \n",
       " 4         1933                   6   \n",
       " 5         1939                   7   \n",
       " 6         1946                   2   \n",
       " 7         1948                   1   \n",
       " 8         1949                   1   \n",
       " 9         1950                   4   \n",
       " 10        1954                   2   \n",
       " 11        1956                   3   \n",
       " 12        1959                   1   \n",
       " 13        1960                   2   \n",
       " 14        1962                   1   \n",
       " 15        1963                   0   \n",
       " 16        1963                  11   \n",
       " 17        1974                  17   \n",
       " 18        1991             present   \n",
       " \n",
       "                                     Name and location  Constructed  Height  \\\n",
       " 0                                                 NaN          NaN     NaN   \n",
       " 1   Central mast of Eilvese transmitter, Eilvese, ...       1913.0  250.00   \n",
       " 2   Central masts of Nauen Transmitter Station, Na...       1920.0  260.00   \n",
       " 3   Masts of Ruiselede transmitter, Ruiselede, Bel...       1923.0  287.00   \n",
       " 4                   Lakihegy Tower, Lakihegy, Hungary       1933.0  314.00   \n",
       " 5   Deutschlandsender Herzberg/Elster, Herzberg (E...       1939.0  335.00   \n",
       " 6                   Lakihegy Tower, Lakihegy, Hungary       1946.0  314.00   \n",
       " 7                WIVB-TV Tower, Colden, New York, USA       1948.0  321.90   \n",
       " 8         Longwave transmitter Raszyn, Raszyn, Poland       1949.0  335.00   \n",
       " 9         Forestport Tower, Forestport, New York, USA       1950.0  371.25   \n",
       " 10  Griffin Television Tower Oklahoma (AKA KWTV Tr...       1954.0  480.50   \n",
       " 11            KOBR-TV Tower, Caprock, New Mexico, USA       1956.0  490.70   \n",
       " 12                 WGME TV Tower, Raymond, Maine, USA       1959.0  495.00   \n",
       " 13  KFVS TV Mast, Cape Girardeau County, Missouri,...       1960.0  511.10   \n",
       " 14  WTVM/WRBL-TV & WVRK-FM Tower, Cusseta, Georgia...       1962.0  533.00   \n",
       " 15           WIMZ-FM-Tower, Knoxville, Tennessee, USA       1963.0  534.01   \n",
       " 16         KVLY-TV mast, Blanchard, North Dakota, USA       1963.0  628.80   \n",
       " 17                   Warsaw Radio Mast, Gąbin, Poland       1974.0  646.40   \n",
       " 18         KVLY-TV mast, Blanchard, North Dakota, USA       1963.0  628.80   \n",
       " \n",
       "     Coordinates                                              Notes  \\\n",
       " 0           NaN                                                NaN   \n",
       " 1         820.0  52°31′40″N 9°24′24″E﻿ / ﻿52.52778°N 9.40667°E﻿...   \n",
       " 2         853.0  52°38′56″N 12°54′30″E﻿ / ﻿52.64889°N 12.90833°...   \n",
       " 3         942.0  51°4′44″N 3°20′6.9″E﻿ / ﻿51.07889°N 3.335250°E...   \n",
       " 4        1031.0  47°22′23.45″N 19°0′17.21″E﻿ / ﻿47.3731806°N 19...   \n",
       " 5        1099.0  51°42′59.76″N 13°15′51.5″E﻿ / ﻿51.7166000°N 13...   \n",
       " 6        1031.0  47°22′23.45″N 19°0′17.21″E﻿ / ﻿47.3731806°N 19...   \n",
       " 7        1056.0  42°39′33.19″N 78°37′33.91″W﻿ / ﻿42.6592194°N 7...   \n",
       " 8        1099.0  52°4′21.72″N 20°53′2.15″E﻿ / ﻿52.0727000°N 20....   \n",
       " 9        1218.0  43°26′41.9″N 75°5′9.55″W﻿ / ﻿43.444972°N 75.08...   \n",
       " 10       1576.0  35°32′58.59″N 97°29′50.27″W﻿ / ﻿35.5496083°N 9...   \n",
       " 11       1610.0  33°22′31.31″N 103°46′14.3″W﻿ / ﻿33.3753639°N 1...   \n",
       " 12       1624.0  43°55′28.43″N 70°29′26.72″W﻿ / ﻿43.9245639°N 7...   \n",
       " 13       1677.0  37°25′44.5″N 89°30′13.84″W﻿ / ﻿37.429028°N 89....   \n",
       " 14       1749.0  32°19′25.09″N 84°46′45.07″W﻿ / ﻿32.3236361°N 8...   \n",
       " 15       1752.0  36°08′05.49″N 83°43′28.01″W﻿ / ﻿36.1348583°N 8...   \n",
       " 16       2063.0  47°20′31.85″N 97°17′21.13″W﻿ / ﻿47.3421806°N 9...   \n",
       " 17       2121.0  52°22′3.74″N 19°48′8.73″E﻿ / ﻿52.3677056°N 19....   \n",
       " 18       2063.0  47°20′31.85″N 97°17′21.13″W﻿ / ﻿47.3421806°N 9...   \n",
       " \n",
       "                                            Unnamed: 7  \n",
       " 0                                                 NaN  \n",
       " 1   Mast was divided in 145 m by an insulator, dem...  \n",
       " 2                         2 masts, demolished in 1946  \n",
       " 3                          8 masts, destroyed in 1940  \n",
       " 4   Blaw-Knox Tower, insulated against ground, des...  \n",
       " 5      Insulated against ground, dismantled 1946/1947  \n",
       " 6   Blaw-Knox Tower, Insulated against ground, reb...  \n",
       " 7                                                 NaN  \n",
       " 8                            Insulated against ground  \n",
       " 9                Insulated against ground, demolished  \n",
       " 10                                                NaN  \n",
       " 11                         Collapsed in 1960; rebuilt  \n",
       " 12                                                NaN  \n",
       " 13                                                NaN  \n",
       " 14                                                NaN  \n",
       " 15                                                NaN  \n",
       " 16                                                NaN  \n",
       " 17  Mast radiator insulated against ground, collap...  \n",
       " 18                                                NaN  ,       From       To                             Tower  \\\n",
       " 0   280 BC  1180 AD                 Pharos Lighthouse   \n",
       " 1     1180     1240            Malmesbury Abbey Tower   \n",
       " 2     1240     1311  Tower of Old St Paul's Cathedral   \n",
       " 3     1311     1549        Tower of Lincoln Cathedral   \n",
       " 4     1549     1647         Tower of St Mary's church   \n",
       " 5     1647     1874     Tower of Strasbourg Cathedral   \n",
       " 6     1874     1876              Tower of St. Nikolai   \n",
       " 7     1876     1880          Tower of Rouen Cathedral   \n",
       " 8     1880     1889        Tower of Cologne Cathedral   \n",
       " 9     1889     1958                      Eiffel Tower   \n",
       " 10    1958     1967                       Tokyo Tower   \n",
       " 11    1967     1975                   Ostankino Tower   \n",
       " 12    1975     2010                          CN Tower   \n",
       " 13    2010     2011                      Canton Tower   \n",
       " 14    2011  present                     Tokyo Skytree   \n",
       " \n",
       "                         Town Pinnacle height  \n",
       " 0          Alexandria, Egypt           122 m  \n",
       " 1             Malmesbury, UK         131.3 m  \n",
       " 2                 London, UK           150 m  \n",
       " 3                Lincoln, UK         159.7 m  \n",
       " 4         Stralsund, Germany           151 m  \n",
       " 5         Strasbourg, France           142 m  \n",
       " 6           Hamburg, Germany           147 m  \n",
       " 7              Rouen, France           151 m  \n",
       " 8           Cologne, Germany        157.38 m  \n",
       " 9              Paris, France         312.3 m  \n",
       " 10              Tokyo, Japan         332.6 m  \n",
       " 11            Moscow, Russia         540.1 m  \n",
       " 12  Toronto, Ontario, Canada        553.33 m  \n",
       " 13          Guangzhou, China           600 m  \n",
       " 14              Tokyo, Japan           634 m  ,                                                  Rank  \\\n",
       " 0   Structures (supported) Main article: List of t...   \n",
       " 1                                                   1   \n",
       " 2                                                   2   \n",
       " 3                                                   3   \n",
       " 4                        Structures (media supported)   \n",
       " 5                                                   1   \n",
       " 6                                                   2   \n",
       " 7                                                   3   \n",
       " 8   Freestanding structures Main article: List of ...   \n",
       " 9                                                   1   \n",
       " 10                                                  2   \n",
       " 11                                                  3   \n",
       " 12                                                  4   \n",
       " 13                                                  5   \n",
       " 14                                                  6   \n",
       " 15                                                  7   \n",
       " 16                                                  8   \n",
       " 17                                                  9   \n",
       " 18                                                 10   \n",
       " 19                                                 11   \n",
       " 20                                                 12   \n",
       " 21                                                 13   \n",
       " 22                                                 14   \n",
       " 23  Buildings Main article: List of tallest buildi...   \n",
       " 24                                                  1   \n",
       " 25                                                  2   \n",
       " 26                                                  3   \n",
       " 27                                                  4   \n",
       " 28                                                  5   \n",
       " 29                                                  6   \n",
       " 30                                                  7   \n",
       " 31                                                  8   \n",
       " 32                                                  9   \n",
       " 33                                                 10   \n",
       " 34                                                 11   \n",
       " 35                                                 12   \n",
       " 36                                                 13   \n",
       " 37                                                 13   \n",
       " \n",
       "                                     Name and location  Year completed  \\\n",
       " 0                                                 NaN             NaN   \n",
       " 1   KVLY-TV mast, Blanchard, North Dakota, United ...          1963.0   \n",
       " 2   KXJB-TV mast, Galesburg, North Dakota, United ...          1998.0   \n",
       " 3   KXTV/KOVR Tower, Walnut Grove, California, Uni...          2000.0   \n",
       " 4                                                 NaN             NaN   \n",
       " 5                  Petronius Platform, Gulf of Mexico          2000.0   \n",
       " 6                   Baldpate Platform, Gulf of Mexico          1998.0   \n",
       " 7                 Bullwinkle Platform, Gulf of Mexico          1989.0   \n",
       " 8                                                 NaN             NaN   \n",
       " 9           Burj Khalifa, Dubai, United Arab Emirates          2009.0   \n",
       " 10                        Tokyo Skytree, Tokyo, Japan          2012.0   \n",
       " 11                    Shanghai Tower, Shanghai, China          2015.0   \n",
       " 12                Abraj Al Bait, Makkah, Saudi Arabia          2011.0   \n",
       " 13            Ping An Finance Centre, Shenzhen, China          2016.0   \n",
       " 14                 Goldin Finance 117, Tianjin, China          2016.0   \n",
       " 15                     Canton Tower, Guangzhou, China          2010.0   \n",
       " 16              Lotte World Tower, Seoul, South Korea          2016.0   \n",
       " 17                 CN Tower, Toronto, Ontario, Canada          1976.0   \n",
       " 18         One World Trade Center, New York City, USA          2013.0   \n",
       " 19                    Ostankino Tower, Moscow, Russia          1967.0   \n",
       " 20     Guangzhou CTF Finance Centre, Guangzhou, China          2016.0   \n",
       " 21               Willis Tower, Chicago, United States          1974.0   \n",
       " 22                         Taipei 101, Taipei, Taiwan          2004.0   \n",
       " 23                                                NaN             NaN   \n",
       " 24          Burj Khalifa, Dubai, United Arab Emirates          2010.0   \n",
       " 25                    Shanghai Tower, Shanghai, China          2015.0   \n",
       " 26                 Abraj Al Bait, Mecca, Saudi Arabia          2011.0   \n",
       " 27            Ping An Finance Centre, Shenzhen, China          2016.0   \n",
       " 28              Lotte World Tower, Seoul, South Korea          2016.0   \n",
       " 29         One World Trade Center, New York City, USA          2013.0   \n",
       " 30     Guangzhou CTF Finance Centre, Guangzhou, China          2016.0   \n",
       " 31                         Taipei 101, Taipei, Taiwan          2004.0   \n",
       " 32   Shanghai World Financial Center, Shanghai, China          2008.0   \n",
       " 33           International Commerce Centre, Hong Kong          2010.0   \n",
       " 34             Changsha IFS Tower T1, Changsha, China          2017.0   \n",
       " 35            Petronas Towers, Kuala Lumpur, Malaysia          1998.0   \n",
       " 36                       Zifeng Tower, Nanjing, China          2009.0   \n",
       " 37                          Suzhou IFS, Suzhou, China          2017.0   \n",
       " \n",
       "     Architectural top[30] (metres)  Architectural top (feet) Floors  \n",
       " 0                              NaN                       NaN    NaN  \n",
       " 1                            629.0                    2064.0      –  \n",
       " 2                            628.0                    2060.0      –  \n",
       " 3                            625.0                    2051.0      –  \n",
       " 4                              NaN                       NaN    NaN  \n",
       " 5                            610.0                    2000.0      –  \n",
       " 6                            580.0                    1900.0      –  \n",
       " 7                            529.0                    1736.0      –  \n",
       " 8                              NaN                       NaN    NaN  \n",
       " 9                            829.8                    2722.0    163  \n",
       " 10                           634.0                    2080.0      –  \n",
       " 11                           632.0                    2073.0    128  \n",
       " 12                           601.0                    1972.0    120  \n",
       " 13                           599.0                    1965.0    115  \n",
       " 14                           597.0                    1959.0    117  \n",
       " 15                           600.0                    1969.0      –  \n",
       " 16                           555.0                    1821.0    123  \n",
       " 17                           553.0                    1814.0      –  \n",
       " 18                           541.3                    1776.0    104  \n",
       " 19                           540.0                    1770.0      –  \n",
       " 20                           530.0                    1739.0    111  \n",
       " 21                           527.0                    1729.0    108  \n",
       " 22                           509.0                    1670.0    101  \n",
       " 23                             NaN                       NaN    NaN  \n",
       " 24                           828.0                    2717.0    163  \n",
       " 25                           632.0                    2073.0    128  \n",
       " 26                           601.0                    1972.0    120  \n",
       " 27                           599.0                    1965.0    115  \n",
       " 28                           555.0                    1821.0    123  \n",
       " 29                           541.3                    1776.0    104  \n",
       " 30                           530.0                    1739.0    111  \n",
       " 31                           509.0                    1670.0    101  \n",
       " 32                           492.0                    1614.0    101  \n",
       " 33                           484.0                    1588.0    118  \n",
       " 34                           452.1                    1483.0     88  \n",
       " 35                           451.9                    1483.0     88  \n",
       " 36                           450.0                    1480.0     89  \n",
       " 37                           450.0                    1476.0     92  ,    v t e Tallest buildings and structures  \\\n",
       " 0                               Buildings   \n",
       " 1                                Overview   \n",
       " 2                               By region   \n",
       " 3                              By country   \n",
       " 4                                By other   \n",
       " 5                                   Lists   \n",
       " 6                Structures (of any type)   \n",
       " 7                               By region   \n",
       " 8                              By country   \n",
       " 9                                By other   \n",
       " 10                                  Lists   \n",
       " 11                         Related topics   \n",
       " \n",
       "                                            Unnamed: 1 Unnamed: 2  \\\n",
       " 0   Overview History Skyscraper Storey By region A...   Overview   \n",
       " 1                           History Skyscraper Storey        NaN   \n",
       " 2   Africa Asia South Southeast Europe Balkans Bal...        NaN   \n",
       " 3   Albania Algeria Argentina Australia Azerbaijan...        NaN   \n",
       " 4      British Empire and Commonwealth European Union        NaN   \n",
       " 5   100+ floors Architects Buildings by height to ...        NaN   \n",
       " 6   By region Africa Europe Middle East South Amer...  By region   \n",
       " 7   Africa Europe Middle East South America former...        NaN   \n",
       " 8   Albania Algeria Australia Austria Bahrain Belg...        NaN   \n",
       " 9                             Commonwealth of Nations        NaN   \n",
       " 10  300 to 400 metres 400 to 500 metres Before the...        NaN   \n",
       " 11  Additionally guyed tower Air traffic obstacle ...        NaN   \n",
       " \n",
       "                                            Unnamed: 3  Unnamed: 4  \\\n",
       " 0                           History Skyscraper Storey   By region   \n",
       " 1                                                 NaN         NaN   \n",
       " 2                                                 NaN         NaN   \n",
       " 3                                                 NaN         NaN   \n",
       " 4                                                 NaN         NaN   \n",
       " 5                                                 NaN         NaN   \n",
       " 6   Africa Europe Middle East South America former...  By country   \n",
       " 7                                                 NaN         NaN   \n",
       " 8                                                 NaN         NaN   \n",
       " 9                                                 NaN         NaN   \n",
       " 10                                                NaN         NaN   \n",
       " 11                                                NaN         NaN   \n",
       " \n",
       "                                            Unnamed: 5  Unnamed: 6  \\\n",
       " 0   Africa Asia South Southeast Europe Balkans Bal...  By country   \n",
       " 1                                                 NaN         NaN   \n",
       " 2                                                 NaN         NaN   \n",
       " 3                                                 NaN         NaN   \n",
       " 4                                                 NaN         NaN   \n",
       " 5                                                 NaN         NaN   \n",
       " 6   Albania Algeria Australia Austria Bahrain Belg...    By other   \n",
       " 7                                                 NaN         NaN   \n",
       " 8                                                 NaN         NaN   \n",
       " 9                                                 NaN         NaN   \n",
       " 10                                                NaN         NaN   \n",
       " 11                                                NaN         NaN   \n",
       " \n",
       "                                            Unnamed: 7 Unnamed: 8  \\\n",
       " 0   Albania Algeria Argentina Australia Azerbaijan...   By other   \n",
       " 1                                                 NaN        NaN   \n",
       " 2                                                 NaN        NaN   \n",
       " 3                                                 NaN        NaN   \n",
       " 4                                                 NaN        NaN   \n",
       " 5                                                 NaN        NaN   \n",
       " 6                             Commonwealth of Nations      Lists   \n",
       " 7                                                 NaN        NaN   \n",
       " 8                                                 NaN        NaN   \n",
       " 9                                                 NaN        NaN   \n",
       " 10                                                NaN        NaN   \n",
       " 11                                                NaN        NaN   \n",
       " \n",
       "                                            Unnamed: 9 Unnamed: 10  \\\n",
       " 0      British Empire and Commonwealth European Union       Lists   \n",
       " 1                                                 NaN         NaN   \n",
       " 2                                                 NaN         NaN   \n",
       " 3                                                 NaN         NaN   \n",
       " 4                                                 NaN         NaN   \n",
       " 5                                                 NaN         NaN   \n",
       " 6   300 to 400 metres 400 to 500 metres Before the...         NaN   \n",
       " 7                                                 NaN         NaN   \n",
       " 8                                                 NaN         NaN   \n",
       " 9                                                 NaN         NaN   \n",
       " 10                                                NaN         NaN   \n",
       " 11                                                NaN         NaN   \n",
       " \n",
       "                                           Unnamed: 11  \n",
       " 0   100+ floors Architects Buildings by height to ...  \n",
       " 1                                                 NaN  \n",
       " 2                                                 NaN  \n",
       " 3                                                 NaN  \n",
       " 4                                                 NaN  \n",
       " 5                                                 NaN  \n",
       " 6                                                 NaN  \n",
       " 7                                                 NaN  \n",
       " 8                                                 NaN  \n",
       " 9                                                 NaN  \n",
       " 10                                                NaN  \n",
       " 11                                                NaN  ,      Overview                          History Skyscraper Storey\n",
       " 0   By region  Africa Asia South Southeast Europe Balkans Bal...\n",
       " 1  By country  Albania Algeria Argentina Australia Azerbaijan...\n",
       " 2    By other     British Empire and Commonwealth European Union\n",
       " 3       Lists  100+ floors Architects Buildings by height to ...,     By region  \\\n",
       " 0  By country   \n",
       " 1    By other   \n",
       " 2       Lists   \n",
       " \n",
       "   Africa Europe Middle East South America former Soviet Union former Yugoslavia  \n",
       " 0  Albania Algeria Australia Austria Bahrain Belg...                             \n",
       " 1                            Commonwealth of Nations                             \n",
       " 2  300 to 400 metres 400 to 500 metres Before the...                             ,   v t e Structural extremes                                         Unnamed: 1\n",
       " 0                   Tallest  Buildings Structures Bridges Chimneys Churches...\n",
       " 1                   Largest  Buildings Churches City squares Dams Domes Hin...\n",
       " 2                   Longest  Buildings Bridges arched cable-stayed cantilev...]"
      ]
     },
     "execution_count": 113,
     "metadata": {},
     "output_type": "execute_result"
    }
   ],
   "source": [
    "dfs = pd.read_html('http://en.wikipedia.org/wiki/List_of_tallest_buildings_and_structures_in_the_world', header=0, parse_dates=False)\n",
    "dfs\n"
   ]
  },
  {
   "cell_type": "code",
   "execution_count": 114,
   "metadata": {
    "scrolled": true
   },
   "outputs": [
    {
     "data": {
      "text/html": [
       "<div>\n",
       "<style>\n",
       "    .dataframe thead tr:only-child th {\n",
       "        text-align: right;\n",
       "    }\n",
       "\n",
       "    .dataframe thead th {\n",
       "        text-align: left;\n",
       "    }\n",
       "\n",
       "    .dataframe tbody tr th {\n",
       "        vertical-align: top;\n",
       "    }\n",
       "</style>\n",
       "<table border=\"1\" class=\"dataframe\">\n",
       "  <thead>\n",
       "    <tr style=\"text-align: right;\">\n",
       "      <th></th>\n",
       "      <th>Category</th>\n",
       "      <th>Structure</th>\n",
       "      <th>Country</th>\n",
       "      <th>City</th>\n",
       "      <th>Height (metres)</th>\n",
       "      <th>Height (feet)</th>\n",
       "      <th>Year built</th>\n",
       "      <th>Coordinates</th>\n",
       "    </tr>\n",
       "  </thead>\n",
       "  <tbody>\n",
       "    <tr>\n",
       "      <th>0</th>\n",
       "      <td>Mixed use</td>\n",
       "      <td>Burj Khalifa</td>\n",
       "      <td>United Arab Emirates</td>\n",
       "      <td>Dubai</td>\n",
       "      <td>828</td>\n",
       "      <td>2717.0</td>\n",
       "      <td>2010</td>\n",
       "      <td>25°11′50.0″N 55°16′26.6″E﻿ / ﻿25.197222°N 55.2...</td>\n",
       "    </tr>\n",
       "    <tr>\n",
       "      <th>1</th>\n",
       "      <td>Self-supporting tower</td>\n",
       "      <td>Tokyo Skytree</td>\n",
       "      <td>Japan</td>\n",
       "      <td>Tokyo</td>\n",
       "      <td>634</td>\n",
       "      <td>2080.0</td>\n",
       "      <td>2011</td>\n",
       "      <td>35°42′36.5″N 139°48′39″E﻿ / ﻿35.710139°N 139.8...</td>\n",
       "    </tr>\n",
       "    <tr>\n",
       "      <th>2</th>\n",
       "      <td>Guyed steel lattice mast</td>\n",
       "      <td>KVLY-TV mast</td>\n",
       "      <td>United States</td>\n",
       "      <td>Blanchard, North Dakota</td>\n",
       "      <td>628.8</td>\n",
       "      <td>2063.0</td>\n",
       "      <td>1963</td>\n",
       "      <td>47°20′32″N 97°17′25″W﻿ / ﻿47.34222°N 97.29028°...</td>\n",
       "    </tr>\n",
       "    <tr>\n",
       "      <th>3</th>\n",
       "      <td>Clock building</td>\n",
       "      <td>Abraj Al Bait Towers</td>\n",
       "      <td>Saudi Arabia</td>\n",
       "      <td>Mecca</td>\n",
       "      <td>601</td>\n",
       "      <td>1972.0</td>\n",
       "      <td>2011</td>\n",
       "      <td>21°25′08″N 39°49′35″E﻿ / ﻿21.41889°N 39.82639°...</td>\n",
       "    </tr>\n",
       "    <tr>\n",
       "      <th>4</th>\n",
       "      <td>Office</td>\n",
       "      <td>One World Trade Center</td>\n",
       "      <td>United States</td>\n",
       "      <td>New York, New York</td>\n",
       "      <td>541</td>\n",
       "      <td>1776.0</td>\n",
       "      <td>2013</td>\n",
       "      <td>40°42′46.8″N 74°0′48.6″W﻿ / ﻿40.713000°N 74.01...</td>\n",
       "    </tr>\n",
       "  </tbody>\n",
       "</table>\n",
       "</div>"
      ],
      "text/plain": [
       "                   Category               Structure               Country  \\\n",
       "0                 Mixed use            Burj Khalifa  United Arab Emirates   \n",
       "1     Self-supporting tower           Tokyo Skytree                 Japan   \n",
       "2  Guyed steel lattice mast            KVLY-TV mast         United States   \n",
       "3            Clock building    Abraj Al Bait Towers          Saudi Arabia   \n",
       "4                    Office  One World Trade Center         United States   \n",
       "\n",
       "                      City Height (metres)  Height (feet) Year built  \\\n",
       "0                    Dubai             828         2717.0       2010   \n",
       "1                    Tokyo             634         2080.0       2011   \n",
       "2  Blanchard, North Dakota           628.8         2063.0       1963   \n",
       "3                    Mecca             601         1972.0       2011   \n",
       "4       New York, New York             541         1776.0       2013   \n",
       "\n",
       "                                         Coordinates  \n",
       "0  25°11′50.0″N 55°16′26.6″E﻿ / ﻿25.197222°N 55.2...  \n",
       "1  35°42′36.5″N 139°48′39″E﻿ / ﻿35.710139°N 139.8...  \n",
       "2  47°20′32″N 97°17′25″W﻿ / ﻿47.34222°N 97.29028°...  \n",
       "3  21°25′08″N 39°49′35″E﻿ / ﻿21.41889°N 39.82639°...  \n",
       "4  40°42′46.8″N 74°0′48.6″W﻿ / ﻿40.713000°N 74.01...  "
      ]
     },
     "execution_count": 114,
     "metadata": {},
     "output_type": "execute_result"
    }
   ],
   "source": [
    "# There are several tables on the page.  \n",
    "# By inspection we can figure out which one we want\n",
    "tallest = dfs[3]  \n",
    "tallest.head()"
   ]
  },
  {
   "cell_type": "markdown",
   "metadata": {},
   "source": [
    "The coordinates column needs to be fixed up. This needs a bit of string parsing (which you may be unfamiliar, but that's alright if you don't)."
   ]
  },
  {
   "cell_type": "code",
   "execution_count": 115,
   "metadata": {
    "collapsed": true
   },
   "outputs": [],
   "source": [
    "import re\n",
    "\n",
    "def clean_lat_long(s):\n",
    "    try:\n",
    "        parts = s.split(\"/\")\n",
    "    except AttributeError:\n",
    "        return (None, None)\n",
    "    if len(parts)<3:\n",
    "        return None\n",
    "    m=re.search(r\"(\\d+[.]\\d+);[^\\d]*(\\d+[.]\\d+)[^\\d]\", parts[2])\n",
    "    if not m:\n",
    "        return (None, None)\n",
    "    return (m.group(1), m.group(2))"
   ]
  },
  {
   "cell_type": "code",
   "execution_count": 116,
   "metadata": {},
   "outputs": [
    {
     "data": {
      "text/html": [
       "<div>\n",
       "<style>\n",
       "    .dataframe thead tr:only-child th {\n",
       "        text-align: right;\n",
       "    }\n",
       "\n",
       "    .dataframe thead th {\n",
       "        text-align: left;\n",
       "    }\n",
       "\n",
       "    .dataframe tbody tr th {\n",
       "        vertical-align: top;\n",
       "    }\n",
       "</style>\n",
       "<table border=\"1\" class=\"dataframe\">\n",
       "  <thead>\n",
       "    <tr style=\"text-align: right;\">\n",
       "      <th></th>\n",
       "      <th>Category</th>\n",
       "      <th>Structure</th>\n",
       "      <th>Country</th>\n",
       "      <th>City</th>\n",
       "      <th>Height (metres)</th>\n",
       "      <th>Height (feet)</th>\n",
       "      <th>Year built</th>\n",
       "      <th>Coordinates</th>\n",
       "      <th>Clean_Coordinates</th>\n",
       "      <th>Latitude</th>\n",
       "      <th>Longitude</th>\n",
       "    </tr>\n",
       "  </thead>\n",
       "  <tbody>\n",
       "    <tr>\n",
       "      <th>0</th>\n",
       "      <td>Mixed use</td>\n",
       "      <td>Burj Khalifa</td>\n",
       "      <td>United Arab Emirates</td>\n",
       "      <td>Dubai</td>\n",
       "      <td>828</td>\n",
       "      <td>2717.0</td>\n",
       "      <td>2010</td>\n",
       "      <td>25°11′50.0″N 55°16′26.6″E﻿ / ﻿25.197222°N 55.2...</td>\n",
       "      <td>(25.197222, 55.274056)</td>\n",
       "      <td>25.197222</td>\n",
       "      <td>55.274056</td>\n",
       "    </tr>\n",
       "    <tr>\n",
       "      <th>1</th>\n",
       "      <td>Self-supporting tower</td>\n",
       "      <td>Tokyo Skytree</td>\n",
       "      <td>Japan</td>\n",
       "      <td>Tokyo</td>\n",
       "      <td>634</td>\n",
       "      <td>2080.0</td>\n",
       "      <td>2011</td>\n",
       "      <td>35°42′36.5″N 139°48′39″E﻿ / ﻿35.710139°N 139.8...</td>\n",
       "      <td>(35.710139, 139.81083)</td>\n",
       "      <td>35.710139</td>\n",
       "      <td>139.81083</td>\n",
       "    </tr>\n",
       "    <tr>\n",
       "      <th>2</th>\n",
       "      <td>Guyed steel lattice mast</td>\n",
       "      <td>KVLY-TV mast</td>\n",
       "      <td>United States</td>\n",
       "      <td>Blanchard, North Dakota</td>\n",
       "      <td>628.8</td>\n",
       "      <td>2063.0</td>\n",
       "      <td>1963</td>\n",
       "      <td>47°20′32″N 97°17′25″W﻿ / ﻿47.34222°N 97.29028°...</td>\n",
       "      <td>(47.34222, 97.29028)</td>\n",
       "      <td>47.34222</td>\n",
       "      <td>97.29028</td>\n",
       "    </tr>\n",
       "    <tr>\n",
       "      <th>3</th>\n",
       "      <td>Clock building</td>\n",
       "      <td>Abraj Al Bait Towers</td>\n",
       "      <td>Saudi Arabia</td>\n",
       "      <td>Mecca</td>\n",
       "      <td>601</td>\n",
       "      <td>1972.0</td>\n",
       "      <td>2011</td>\n",
       "      <td>21°25′08″N 39°49′35″E﻿ / ﻿21.41889°N 39.82639°...</td>\n",
       "      <td>(21.41889, 39.82639)</td>\n",
       "      <td>21.41889</td>\n",
       "      <td>39.82639</td>\n",
       "    </tr>\n",
       "    <tr>\n",
       "      <th>4</th>\n",
       "      <td>Office</td>\n",
       "      <td>One World Trade Center</td>\n",
       "      <td>United States</td>\n",
       "      <td>New York, New York</td>\n",
       "      <td>541</td>\n",
       "      <td>1776.0</td>\n",
       "      <td>2013</td>\n",
       "      <td>40°42′46.8″N 74°0′48.6″W﻿ / ﻿40.713000°N 74.01...</td>\n",
       "      <td>(40.713000, 74.013500)</td>\n",
       "      <td>40.713000</td>\n",
       "      <td>74.013500</td>\n",
       "    </tr>\n",
       "  </tbody>\n",
       "</table>\n",
       "</div>"
      ],
      "text/plain": [
       "                   Category               Structure               Country  \\\n",
       "0                 Mixed use            Burj Khalifa  United Arab Emirates   \n",
       "1     Self-supporting tower           Tokyo Skytree                 Japan   \n",
       "2  Guyed steel lattice mast            KVLY-TV mast         United States   \n",
       "3            Clock building    Abraj Al Bait Towers          Saudi Arabia   \n",
       "4                    Office  One World Trade Center         United States   \n",
       "\n",
       "                      City Height (metres)  Height (feet) Year built  \\\n",
       "0                    Dubai             828         2717.0       2010   \n",
       "1                    Tokyo             634         2080.0       2011   \n",
       "2  Blanchard, North Dakota           628.8         2063.0       1963   \n",
       "3                    Mecca             601         1972.0       2011   \n",
       "4       New York, New York             541         1776.0       2013   \n",
       "\n",
       "                                         Coordinates       Clean_Coordinates  \\\n",
       "0  25°11′50.0″N 55°16′26.6″E﻿ / ﻿25.197222°N 55.2...  (25.197222, 55.274056)   \n",
       "1  35°42′36.5″N 139°48′39″E﻿ / ﻿35.710139°N 139.8...  (35.710139, 139.81083)   \n",
       "2  47°20′32″N 97°17′25″W﻿ / ﻿47.34222°N 97.29028°...    (47.34222, 97.29028)   \n",
       "3  21°25′08″N 39°49′35″E﻿ / ﻿21.41889°N 39.82639°...    (21.41889, 39.82639)   \n",
       "4  40°42′46.8″N 74°0′48.6″W﻿ / ﻿40.713000°N 74.01...  (40.713000, 74.013500)   \n",
       "\n",
       "    Latitude  Longitude  \n",
       "0  25.197222  55.274056  \n",
       "1  35.710139  139.81083  \n",
       "2   47.34222   97.29028  \n",
       "3   21.41889   39.82639  \n",
       "4  40.713000  74.013500  "
      ]
     },
     "execution_count": 116,
     "metadata": {},
     "output_type": "execute_result"
    }
   ],
   "source": [
    "# Let's make some new columns\n",
    "tallest['Clean_Coordinates'] = tallest['Coordinates'].apply(clean_lat_long)\n",
    "tallest['Latitude'] = tallest['Clean_Coordinates'].apply(lambda x:x[0])\n",
    "tallest['Longitude'] = tallest['Clean_Coordinates'].apply(lambda x:x[1])\n",
    "\n",
    "# and voila...!\n",
    "tallest.head()"
   ]
  },
  {
   "cell_type": "code",
   "execution_count": 117,
   "metadata": {
    "collapsed": true
   },
   "outputs": [],
   "source": [
    "# Additional work: Check whether the data matches up with the one online and \n",
    "# correct the mistakes, if there are! Look out for the links in Year and Height\n",
    "# metres!"
   ]
  },
  {
   "cell_type": "markdown",
   "metadata": {},
   "source": [
    "### Missing Values\n",
    "\n",
    "When you read in a CSV file / SQL data base there is often \"NA\" (or \"null\", \"None\", etc.) values.  The CSV reader has a special field for specifying how this is denoted, and SQL has the built-in notion of NULL.  Pandas provides some tools for working with these.\n",
    "\n",
    "Note that these methods are by default not in place -- that is, they create a new series and do not change the original one.\n",
    "\n",
    "We're going to use a real data set, but only one column of it.  \n",
    "\n",
    "For more details: http://pandas.pydata.org/pandas-docs/stable/missing_data.html"
   ]
  },
  {
   "cell_type": "markdown",
   "metadata": {},
   "source": [
    "### Create dataframe with missing values"
   ]
  },
  {
   "cell_type": "code",
   "execution_count": 118,
   "metadata": {},
   "outputs": [
    {
     "data": {
      "text/html": [
       "<div>\n",
       "<style>\n",
       "    .dataframe thead tr:only-child th {\n",
       "        text-align: right;\n",
       "    }\n",
       "\n",
       "    .dataframe thead th {\n",
       "        text-align: left;\n",
       "    }\n",
       "\n",
       "    .dataframe tbody tr th {\n",
       "        vertical-align: top;\n",
       "    }\n",
       "</style>\n",
       "<table border=\"1\" class=\"dataframe\">\n",
       "  <thead>\n",
       "    <tr style=\"text-align: right;\">\n",
       "      <th></th>\n",
       "      <th>first_name</th>\n",
       "      <th>last_name</th>\n",
       "      <th>age</th>\n",
       "      <th>sex</th>\n",
       "      <th>preTestScore</th>\n",
       "      <th>postTestScore</th>\n",
       "    </tr>\n",
       "  </thead>\n",
       "  <tbody>\n",
       "    <tr>\n",
       "      <th>0</th>\n",
       "      <td>Jason</td>\n",
       "      <td>Miller</td>\n",
       "      <td>42.0</td>\n",
       "      <td>m</td>\n",
       "      <td>4.0</td>\n",
       "      <td>25.0</td>\n",
       "    </tr>\n",
       "    <tr>\n",
       "      <th>1</th>\n",
       "      <td>NaN</td>\n",
       "      <td>NaN</td>\n",
       "      <td>NaN</td>\n",
       "      <td>NaN</td>\n",
       "      <td>NaN</td>\n",
       "      <td>NaN</td>\n",
       "    </tr>\n",
       "    <tr>\n",
       "      <th>2</th>\n",
       "      <td>Tina</td>\n",
       "      <td>Ali</td>\n",
       "      <td>36.0</td>\n",
       "      <td>f</td>\n",
       "      <td>NaN</td>\n",
       "      <td>NaN</td>\n",
       "    </tr>\n",
       "    <tr>\n",
       "      <th>3</th>\n",
       "      <td>Jake</td>\n",
       "      <td>Milner</td>\n",
       "      <td>24.0</td>\n",
       "      <td>m</td>\n",
       "      <td>2.0</td>\n",
       "      <td>62.0</td>\n",
       "    </tr>\n",
       "    <tr>\n",
       "      <th>4</th>\n",
       "      <td>Amy</td>\n",
       "      <td>Cooze</td>\n",
       "      <td>73.0</td>\n",
       "      <td>f</td>\n",
       "      <td>3.0</td>\n",
       "      <td>70.0</td>\n",
       "    </tr>\n",
       "  </tbody>\n",
       "</table>\n",
       "</div>"
      ],
      "text/plain": [
       "  first_name last_name   age  sex  preTestScore  postTestScore\n",
       "0      Jason    Miller  42.0    m           4.0           25.0\n",
       "1        NaN       NaN   NaN  NaN           NaN            NaN\n",
       "2       Tina       Ali  36.0    f           NaN            NaN\n",
       "3       Jake    Milner  24.0    m           2.0           62.0\n",
       "4        Amy     Cooze  73.0    f           3.0           70.0"
      ]
     },
     "execution_count": 118,
     "metadata": {},
     "output_type": "execute_result"
    }
   ],
   "source": [
    "raw_data = {'first_name': ['Jason', np.nan, 'Tina', 'Jake', 'Amy'],\n",
    "        'last_name': ['Miller', np.nan, 'Ali', 'Milner', 'Cooze'],\n",
    "        'age': [42, np.nan, 36, 24, 73],\n",
    "        'sex': ['m', np.nan, 'f', 'm', 'f'],\n",
    "        'preTestScore': [4, np.nan, np.nan, 2, 3],\n",
    "        'postTestScore': [25, np.nan, np.nan, 62, 70]}\n",
    "df = pd.DataFrame(raw_data, columns = ['first_name', 'last_name', 'age', 'sex', 'preTestScore', 'postTestScore'])\n",
    "df\n"
   ]
  },
  {
   "cell_type": "markdown",
   "metadata": {},
   "source": [
    "### Drop missing observations"
   ]
  },
  {
   "cell_type": "code",
   "execution_count": 119,
   "metadata": {
    "collapsed": true
   },
   "outputs": [],
   "source": [
    "# read up on dropna()\n"
   ]
  },
  {
   "cell_type": "code",
   "execution_count": 120,
   "metadata": {},
   "outputs": [
    {
     "data": {
      "text/html": [
       "<div>\n",
       "<style>\n",
       "    .dataframe thead tr:only-child th {\n",
       "        text-align: right;\n",
       "    }\n",
       "\n",
       "    .dataframe thead th {\n",
       "        text-align: left;\n",
       "    }\n",
       "\n",
       "    .dataframe tbody tr th {\n",
       "        vertical-align: top;\n",
       "    }\n",
       "</style>\n",
       "<table border=\"1\" class=\"dataframe\">\n",
       "  <thead>\n",
       "    <tr style=\"text-align: right;\">\n",
       "      <th></th>\n",
       "      <th>first_name</th>\n",
       "      <th>last_name</th>\n",
       "      <th>age</th>\n",
       "      <th>sex</th>\n",
       "      <th>preTestScore</th>\n",
       "      <th>postTestScore</th>\n",
       "    </tr>\n",
       "  </thead>\n",
       "  <tbody>\n",
       "    <tr>\n",
       "      <th>0</th>\n",
       "      <td>Jason</td>\n",
       "      <td>Miller</td>\n",
       "      <td>42.0</td>\n",
       "      <td>m</td>\n",
       "      <td>4.0</td>\n",
       "      <td>25.0</td>\n",
       "    </tr>\n",
       "    <tr>\n",
       "      <th>3</th>\n",
       "      <td>Jake</td>\n",
       "      <td>Milner</td>\n",
       "      <td>24.0</td>\n",
       "      <td>m</td>\n",
       "      <td>2.0</td>\n",
       "      <td>62.0</td>\n",
       "    </tr>\n",
       "    <tr>\n",
       "      <th>4</th>\n",
       "      <td>Amy</td>\n",
       "      <td>Cooze</td>\n",
       "      <td>73.0</td>\n",
       "      <td>f</td>\n",
       "      <td>3.0</td>\n",
       "      <td>70.0</td>\n",
       "    </tr>\n",
       "  </tbody>\n",
       "</table>\n",
       "</div>"
      ],
      "text/plain": [
       "  first_name last_name   age sex  preTestScore  postTestScore\n",
       "0      Jason    Miller  42.0   m           4.0           25.0\n",
       "3       Jake    Milner  24.0   m           2.0           62.0\n",
       "4        Amy     Cooze  73.0   f           3.0           70.0"
      ]
     },
     "execution_count": 120,
     "metadata": {},
     "output_type": "execute_result"
    }
   ],
   "source": [
    "df_no_missing = df.dropna()\n",
    "df_no_missing\n",
    "\n",
    "#cleaned....but a bit strict.."
   ]
  },
  {
   "cell_type": "markdown",
   "metadata": {},
   "source": [
    "### Drop rows where all cells in that row is NA"
   ]
  },
  {
   "cell_type": "code",
   "execution_count": 121,
   "metadata": {},
   "outputs": [
    {
     "data": {
      "text/html": [
       "<div>\n",
       "<style>\n",
       "    .dataframe thead tr:only-child th {\n",
       "        text-align: right;\n",
       "    }\n",
       "\n",
       "    .dataframe thead th {\n",
       "        text-align: left;\n",
       "    }\n",
       "\n",
       "    .dataframe tbody tr th {\n",
       "        vertical-align: top;\n",
       "    }\n",
       "</style>\n",
       "<table border=\"1\" class=\"dataframe\">\n",
       "  <thead>\n",
       "    <tr style=\"text-align: right;\">\n",
       "      <th></th>\n",
       "      <th>first_name</th>\n",
       "      <th>last_name</th>\n",
       "      <th>age</th>\n",
       "      <th>sex</th>\n",
       "      <th>preTestScore</th>\n",
       "      <th>postTestScore</th>\n",
       "    </tr>\n",
       "  </thead>\n",
       "  <tbody>\n",
       "    <tr>\n",
       "      <th>0</th>\n",
       "      <td>Jason</td>\n",
       "      <td>Miller</td>\n",
       "      <td>42.0</td>\n",
       "      <td>m</td>\n",
       "      <td>4.0</td>\n",
       "      <td>25.0</td>\n",
       "    </tr>\n",
       "    <tr>\n",
       "      <th>2</th>\n",
       "      <td>Tina</td>\n",
       "      <td>Ali</td>\n",
       "      <td>36.0</td>\n",
       "      <td>f</td>\n",
       "      <td>NaN</td>\n",
       "      <td>NaN</td>\n",
       "    </tr>\n",
       "    <tr>\n",
       "      <th>3</th>\n",
       "      <td>Jake</td>\n",
       "      <td>Milner</td>\n",
       "      <td>24.0</td>\n",
       "      <td>m</td>\n",
       "      <td>2.0</td>\n",
       "      <td>62.0</td>\n",
       "    </tr>\n",
       "    <tr>\n",
       "      <th>4</th>\n",
       "      <td>Amy</td>\n",
       "      <td>Cooze</td>\n",
       "      <td>73.0</td>\n",
       "      <td>f</td>\n",
       "      <td>3.0</td>\n",
       "      <td>70.0</td>\n",
       "    </tr>\n",
       "  </tbody>\n",
       "</table>\n",
       "</div>"
      ],
      "text/plain": [
       "  first_name last_name   age sex  preTestScore  postTestScore\n",
       "0      Jason    Miller  42.0   m           4.0           25.0\n",
       "2       Tina       Ali  36.0   f           NaN            NaN\n",
       "3       Jake    Milner  24.0   m           2.0           62.0\n",
       "4        Amy     Cooze  73.0   f           3.0           70.0"
      ]
     },
     "execution_count": 121,
     "metadata": {},
     "output_type": "execute_result"
    }
   ],
   "source": [
    "df_cleaned = df.dropna(how='all')\n",
    "df_cleaned\n",
    "# this may be better, some rows still might have information"
   ]
  },
  {
   "cell_type": "markdown",
   "metadata": {},
   "source": [
    "### Create a new column full of missing values"
   ]
  },
  {
   "cell_type": "code",
   "execution_count": 122,
   "metadata": {},
   "outputs": [
    {
     "data": {
      "text/html": [
       "<div>\n",
       "<style>\n",
       "    .dataframe thead tr:only-child th {\n",
       "        text-align: right;\n",
       "    }\n",
       "\n",
       "    .dataframe thead th {\n",
       "        text-align: left;\n",
       "    }\n",
       "\n",
       "    .dataframe tbody tr th {\n",
       "        vertical-align: top;\n",
       "    }\n",
       "</style>\n",
       "<table border=\"1\" class=\"dataframe\">\n",
       "  <thead>\n",
       "    <tr style=\"text-align: right;\">\n",
       "      <th></th>\n",
       "      <th>first_name</th>\n",
       "      <th>last_name</th>\n",
       "      <th>age</th>\n",
       "      <th>sex</th>\n",
       "      <th>preTestScore</th>\n",
       "      <th>postTestScore</th>\n",
       "      <th>location</th>\n",
       "    </tr>\n",
       "  </thead>\n",
       "  <tbody>\n",
       "    <tr>\n",
       "      <th>0</th>\n",
       "      <td>Jason</td>\n",
       "      <td>Miller</td>\n",
       "      <td>42.0</td>\n",
       "      <td>m</td>\n",
       "      <td>4.0</td>\n",
       "      <td>25.0</td>\n",
       "      <td>NaN</td>\n",
       "    </tr>\n",
       "    <tr>\n",
       "      <th>1</th>\n",
       "      <td>NaN</td>\n",
       "      <td>NaN</td>\n",
       "      <td>NaN</td>\n",
       "      <td>NaN</td>\n",
       "      <td>NaN</td>\n",
       "      <td>NaN</td>\n",
       "      <td>NaN</td>\n",
       "    </tr>\n",
       "    <tr>\n",
       "      <th>2</th>\n",
       "      <td>Tina</td>\n",
       "      <td>Ali</td>\n",
       "      <td>36.0</td>\n",
       "      <td>f</td>\n",
       "      <td>NaN</td>\n",
       "      <td>NaN</td>\n",
       "      <td>NaN</td>\n",
       "    </tr>\n",
       "    <tr>\n",
       "      <th>3</th>\n",
       "      <td>Jake</td>\n",
       "      <td>Milner</td>\n",
       "      <td>24.0</td>\n",
       "      <td>m</td>\n",
       "      <td>2.0</td>\n",
       "      <td>62.0</td>\n",
       "      <td>NaN</td>\n",
       "    </tr>\n",
       "    <tr>\n",
       "      <th>4</th>\n",
       "      <td>Amy</td>\n",
       "      <td>Cooze</td>\n",
       "      <td>73.0</td>\n",
       "      <td>f</td>\n",
       "      <td>3.0</td>\n",
       "      <td>70.0</td>\n",
       "      <td>NaN</td>\n",
       "    </tr>\n",
       "  </tbody>\n",
       "</table>\n",
       "</div>"
      ],
      "text/plain": [
       "  first_name last_name   age  sex  preTestScore  postTestScore  location\n",
       "0      Jason    Miller  42.0    m           4.0           25.0       NaN\n",
       "1        NaN       NaN   NaN  NaN           NaN            NaN       NaN\n",
       "2       Tina       Ali  36.0    f           NaN            NaN       NaN\n",
       "3       Jake    Milner  24.0    m           2.0           62.0       NaN\n",
       "4        Amy     Cooze  73.0    f           3.0           70.0       NaN"
      ]
     },
     "execution_count": 122,
     "metadata": {},
     "output_type": "execute_result"
    }
   ],
   "source": [
    "df['location'] = np.nan\n",
    "df"
   ]
  },
  {
   "cell_type": "markdown",
   "metadata": {},
   "source": [
    "### Drop column if they only contain missing values"
   ]
  },
  {
   "cell_type": "code",
   "execution_count": 123,
   "metadata": {},
   "outputs": [
    {
     "data": {
      "text/html": [
       "<div>\n",
       "<style>\n",
       "    .dataframe thead tr:only-child th {\n",
       "        text-align: right;\n",
       "    }\n",
       "\n",
       "    .dataframe thead th {\n",
       "        text-align: left;\n",
       "    }\n",
       "\n",
       "    .dataframe tbody tr th {\n",
       "        vertical-align: top;\n",
       "    }\n",
       "</style>\n",
       "<table border=\"1\" class=\"dataframe\">\n",
       "  <thead>\n",
       "    <tr style=\"text-align: right;\">\n",
       "      <th></th>\n",
       "      <th>first_name</th>\n",
       "      <th>last_name</th>\n",
       "      <th>age</th>\n",
       "      <th>sex</th>\n",
       "      <th>preTestScore</th>\n",
       "      <th>postTestScore</th>\n",
       "    </tr>\n",
       "  </thead>\n",
       "  <tbody>\n",
       "    <tr>\n",
       "      <th>0</th>\n",
       "      <td>Jason</td>\n",
       "      <td>Miller</td>\n",
       "      <td>42.0</td>\n",
       "      <td>m</td>\n",
       "      <td>4.0</td>\n",
       "      <td>25.0</td>\n",
       "    </tr>\n",
       "    <tr>\n",
       "      <th>1</th>\n",
       "      <td>NaN</td>\n",
       "      <td>NaN</td>\n",
       "      <td>NaN</td>\n",
       "      <td>NaN</td>\n",
       "      <td>NaN</td>\n",
       "      <td>NaN</td>\n",
       "    </tr>\n",
       "    <tr>\n",
       "      <th>2</th>\n",
       "      <td>Tina</td>\n",
       "      <td>Ali</td>\n",
       "      <td>36.0</td>\n",
       "      <td>f</td>\n",
       "      <td>NaN</td>\n",
       "      <td>NaN</td>\n",
       "    </tr>\n",
       "    <tr>\n",
       "      <th>3</th>\n",
       "      <td>Jake</td>\n",
       "      <td>Milner</td>\n",
       "      <td>24.0</td>\n",
       "      <td>m</td>\n",
       "      <td>2.0</td>\n",
       "      <td>62.0</td>\n",
       "    </tr>\n",
       "    <tr>\n",
       "      <th>4</th>\n",
       "      <td>Amy</td>\n",
       "      <td>Cooze</td>\n",
       "      <td>73.0</td>\n",
       "      <td>f</td>\n",
       "      <td>3.0</td>\n",
       "      <td>70.0</td>\n",
       "    </tr>\n",
       "  </tbody>\n",
       "</table>\n",
       "</div>"
      ],
      "text/plain": [
       "  first_name last_name   age  sex  preTestScore  postTestScore\n",
       "0      Jason    Miller  42.0    m           4.0           25.0\n",
       "1        NaN       NaN   NaN  NaN           NaN            NaN\n",
       "2       Tina       Ali  36.0    f           NaN            NaN\n",
       "3       Jake    Milner  24.0    m           2.0           62.0\n",
       "4        Amy     Cooze  73.0    f           3.0           70.0"
      ]
     },
     "execution_count": 123,
     "metadata": {},
     "output_type": "execute_result"
    }
   ],
   "source": [
    "df.dropna(axis=1, how='all')\n",
    "# location column is now gone"
   ]
  },
  {
   "cell_type": "code",
   "execution_count": 124,
   "metadata": {},
   "outputs": [
    {
     "data": {
      "text/html": [
       "<div>\n",
       "<style>\n",
       "    .dataframe thead tr:only-child th {\n",
       "        text-align: right;\n",
       "    }\n",
       "\n",
       "    .dataframe thead th {\n",
       "        text-align: left;\n",
       "    }\n",
       "\n",
       "    .dataframe tbody tr th {\n",
       "        vertical-align: top;\n",
       "    }\n",
       "</style>\n",
       "<table border=\"1\" class=\"dataframe\">\n",
       "  <thead>\n",
       "    <tr style=\"text-align: right;\">\n",
       "      <th></th>\n",
       "      <th>first_name</th>\n",
       "      <th>last_name</th>\n",
       "      <th>age</th>\n",
       "      <th>sex</th>\n",
       "      <th>preTestScore</th>\n",
       "      <th>postTestScore</th>\n",
       "      <th>location</th>\n",
       "    </tr>\n",
       "  </thead>\n",
       "  <tbody>\n",
       "    <tr>\n",
       "      <th>0</th>\n",
       "      <td>Jason</td>\n",
       "      <td>Miller</td>\n",
       "      <td>42.0</td>\n",
       "      <td>m</td>\n",
       "      <td>4.0</td>\n",
       "      <td>25.0</td>\n",
       "      <td>NaN</td>\n",
       "    </tr>\n",
       "    <tr>\n",
       "      <th>1</th>\n",
       "      <td>NaN</td>\n",
       "      <td>NaN</td>\n",
       "      <td>NaN</td>\n",
       "      <td>NaN</td>\n",
       "      <td>NaN</td>\n",
       "      <td>NaN</td>\n",
       "      <td>NaN</td>\n",
       "    </tr>\n",
       "    <tr>\n",
       "      <th>2</th>\n",
       "      <td>Tina</td>\n",
       "      <td>Ali</td>\n",
       "      <td>36.0</td>\n",
       "      <td>f</td>\n",
       "      <td>NaN</td>\n",
       "      <td>NaN</td>\n",
       "      <td>NaN</td>\n",
       "    </tr>\n",
       "    <tr>\n",
       "      <th>3</th>\n",
       "      <td>Jake</td>\n",
       "      <td>Milner</td>\n",
       "      <td>24.0</td>\n",
       "      <td>m</td>\n",
       "      <td>2.0</td>\n",
       "      <td>62.0</td>\n",
       "      <td>NaN</td>\n",
       "    </tr>\n",
       "    <tr>\n",
       "      <th>4</th>\n",
       "      <td>Amy</td>\n",
       "      <td>Cooze</td>\n",
       "      <td>73.0</td>\n",
       "      <td>f</td>\n",
       "      <td>3.0</td>\n",
       "      <td>70.0</td>\n",
       "      <td>NaN</td>\n",
       "    </tr>\n",
       "  </tbody>\n",
       "</table>\n",
       "</div>"
      ],
      "text/plain": [
       "  first_name last_name   age  sex  preTestScore  postTestScore  location\n",
       "0      Jason    Miller  42.0    m           4.0           25.0       NaN\n",
       "1        NaN       NaN   NaN  NaN           NaN            NaN       NaN\n",
       "2       Tina       Ali  36.0    f           NaN            NaN       NaN\n",
       "3       Jake    Milner  24.0    m           2.0           62.0       NaN\n",
       "4        Amy     Cooze  73.0    f           3.0           70.0       NaN"
      ]
     },
     "execution_count": 124,
     "metadata": {},
     "output_type": "execute_result"
    }
   ],
   "source": [
    "df"
   ]
  },
  {
   "cell_type": "markdown",
   "metadata": {},
   "source": [
    "### Drop rows that contain less than five observations"
   ]
  },
  {
   "cell_type": "code",
   "execution_count": 125,
   "metadata": {},
   "outputs": [
    {
     "data": {
      "text/html": [
       "<div>\n",
       "<style>\n",
       "    .dataframe thead tr:only-child th {\n",
       "        text-align: right;\n",
       "    }\n",
       "\n",
       "    .dataframe thead th {\n",
       "        text-align: left;\n",
       "    }\n",
       "\n",
       "    .dataframe tbody tr th {\n",
       "        vertical-align: top;\n",
       "    }\n",
       "</style>\n",
       "<table border=\"1\" class=\"dataframe\">\n",
       "  <thead>\n",
       "    <tr style=\"text-align: right;\">\n",
       "      <th></th>\n",
       "      <th>first_name</th>\n",
       "      <th>last_name</th>\n",
       "      <th>age</th>\n",
       "      <th>sex</th>\n",
       "      <th>preTestScore</th>\n",
       "      <th>postTestScore</th>\n",
       "      <th>location</th>\n",
       "    </tr>\n",
       "  </thead>\n",
       "  <tbody>\n",
       "    <tr>\n",
       "      <th>0</th>\n",
       "      <td>Jason</td>\n",
       "      <td>Miller</td>\n",
       "      <td>42.0</td>\n",
       "      <td>m</td>\n",
       "      <td>4.0</td>\n",
       "      <td>25.0</td>\n",
       "      <td>NaN</td>\n",
       "    </tr>\n",
       "    <tr>\n",
       "      <th>2</th>\n",
       "      <td>Tina</td>\n",
       "      <td>Ali</td>\n",
       "      <td>36.0</td>\n",
       "      <td>f</td>\n",
       "      <td>NaN</td>\n",
       "      <td>NaN</td>\n",
       "      <td>NaN</td>\n",
       "    </tr>\n",
       "    <tr>\n",
       "      <th>3</th>\n",
       "      <td>Jake</td>\n",
       "      <td>Milner</td>\n",
       "      <td>24.0</td>\n",
       "      <td>m</td>\n",
       "      <td>2.0</td>\n",
       "      <td>62.0</td>\n",
       "      <td>NaN</td>\n",
       "    </tr>\n",
       "    <tr>\n",
       "      <th>4</th>\n",
       "      <td>Amy</td>\n",
       "      <td>Cooze</td>\n",
       "      <td>73.0</td>\n",
       "      <td>f</td>\n",
       "      <td>3.0</td>\n",
       "      <td>70.0</td>\n",
       "      <td>NaN</td>\n",
       "    </tr>\n",
       "  </tbody>\n",
       "</table>\n",
       "</div>"
      ],
      "text/plain": [
       "  first_name last_name   age sex  preTestScore  postTestScore  location\n",
       "0      Jason    Miller  42.0   m           4.0           25.0       NaN\n",
       "2       Tina       Ali  36.0   f           NaN            NaN       NaN\n",
       "3       Jake    Milner  24.0   m           2.0           62.0       NaN\n",
       "4        Amy     Cooze  73.0   f           3.0           70.0       NaN"
      ]
     },
     "execution_count": 125,
     "metadata": {},
     "output_type": "execute_result"
    }
   ],
   "source": [
    "df.dropna(thresh=3)"
   ]
  },
  {
   "cell_type": "markdown",
   "metadata": {},
   "source": [
    "### Fill in missing data with zeros"
   ]
  },
  {
   "cell_type": "code",
   "execution_count": 126,
   "metadata": {},
   "outputs": [
    {
     "data": {
      "text/html": [
       "<div>\n",
       "<style>\n",
       "    .dataframe thead tr:only-child th {\n",
       "        text-align: right;\n",
       "    }\n",
       "\n",
       "    .dataframe thead th {\n",
       "        text-align: left;\n",
       "    }\n",
       "\n",
       "    .dataframe tbody tr th {\n",
       "        vertical-align: top;\n",
       "    }\n",
       "</style>\n",
       "<table border=\"1\" class=\"dataframe\">\n",
       "  <thead>\n",
       "    <tr style=\"text-align: right;\">\n",
       "      <th></th>\n",
       "      <th>first_name</th>\n",
       "      <th>last_name</th>\n",
       "      <th>age</th>\n",
       "      <th>sex</th>\n",
       "      <th>preTestScore</th>\n",
       "      <th>postTestScore</th>\n",
       "      <th>location</th>\n",
       "    </tr>\n",
       "  </thead>\n",
       "  <tbody>\n",
       "    <tr>\n",
       "      <th>0</th>\n",
       "      <td>Jason</td>\n",
       "      <td>Miller</td>\n",
       "      <td>42.0</td>\n",
       "      <td>m</td>\n",
       "      <td>4.0</td>\n",
       "      <td>25.0</td>\n",
       "      <td>0.0</td>\n",
       "    </tr>\n",
       "    <tr>\n",
       "      <th>1</th>\n",
       "      <td>0</td>\n",
       "      <td>0</td>\n",
       "      <td>0.0</td>\n",
       "      <td>0</td>\n",
       "      <td>0.0</td>\n",
       "      <td>0.0</td>\n",
       "      <td>0.0</td>\n",
       "    </tr>\n",
       "    <tr>\n",
       "      <th>2</th>\n",
       "      <td>Tina</td>\n",
       "      <td>Ali</td>\n",
       "      <td>36.0</td>\n",
       "      <td>f</td>\n",
       "      <td>0.0</td>\n",
       "      <td>0.0</td>\n",
       "      <td>0.0</td>\n",
       "    </tr>\n",
       "    <tr>\n",
       "      <th>3</th>\n",
       "      <td>Jake</td>\n",
       "      <td>Milner</td>\n",
       "      <td>24.0</td>\n",
       "      <td>m</td>\n",
       "      <td>2.0</td>\n",
       "      <td>62.0</td>\n",
       "      <td>0.0</td>\n",
       "    </tr>\n",
       "    <tr>\n",
       "      <th>4</th>\n",
       "      <td>Amy</td>\n",
       "      <td>Cooze</td>\n",
       "      <td>73.0</td>\n",
       "      <td>f</td>\n",
       "      <td>3.0</td>\n",
       "      <td>70.0</td>\n",
       "      <td>0.0</td>\n",
       "    </tr>\n",
       "  </tbody>\n",
       "</table>\n",
       "</div>"
      ],
      "text/plain": [
       "  first_name last_name   age sex  preTestScore  postTestScore  location\n",
       "0      Jason    Miller  42.0   m           4.0           25.0       0.0\n",
       "1          0         0   0.0   0           0.0            0.0       0.0\n",
       "2       Tina       Ali  36.0   f           0.0            0.0       0.0\n",
       "3       Jake    Milner  24.0   m           2.0           62.0       0.0\n",
       "4        Amy     Cooze  73.0   f           3.0           70.0       0.0"
      ]
     },
     "execution_count": 126,
     "metadata": {},
     "output_type": "execute_result"
    }
   ],
   "source": [
    "df.fillna(0)"
   ]
  },
  {
   "cell_type": "markdown",
   "metadata": {},
   "source": [
    "### Fill in missing in preTestScore with the mean value of preTestScore\n",
    "\n",
    "`inplace=True` means that the changes are saved to `df` right away"
   ]
  },
  {
   "cell_type": "code",
   "execution_count": 127,
   "metadata": {},
   "outputs": [
    {
     "data": {
      "text/html": [
       "<div>\n",
       "<style>\n",
       "    .dataframe thead tr:only-child th {\n",
       "        text-align: right;\n",
       "    }\n",
       "\n",
       "    .dataframe thead th {\n",
       "        text-align: left;\n",
       "    }\n",
       "\n",
       "    .dataframe tbody tr th {\n",
       "        vertical-align: top;\n",
       "    }\n",
       "</style>\n",
       "<table border=\"1\" class=\"dataframe\">\n",
       "  <thead>\n",
       "    <tr style=\"text-align: right;\">\n",
       "      <th></th>\n",
       "      <th>first_name</th>\n",
       "      <th>last_name</th>\n",
       "      <th>age</th>\n",
       "      <th>sex</th>\n",
       "      <th>preTestScore</th>\n",
       "      <th>postTestScore</th>\n",
       "      <th>location</th>\n",
       "    </tr>\n",
       "  </thead>\n",
       "  <tbody>\n",
       "    <tr>\n",
       "      <th>0</th>\n",
       "      <td>Jason</td>\n",
       "      <td>Miller</td>\n",
       "      <td>42.0</td>\n",
       "      <td>m</td>\n",
       "      <td>4.0</td>\n",
       "      <td>25.0</td>\n",
       "      <td>NaN</td>\n",
       "    </tr>\n",
       "    <tr>\n",
       "      <th>1</th>\n",
       "      <td>NaN</td>\n",
       "      <td>NaN</td>\n",
       "      <td>NaN</td>\n",
       "      <td>NaN</td>\n",
       "      <td>NaN</td>\n",
       "      <td>NaN</td>\n",
       "      <td>NaN</td>\n",
       "    </tr>\n",
       "    <tr>\n",
       "      <th>2</th>\n",
       "      <td>Tina</td>\n",
       "      <td>Ali</td>\n",
       "      <td>36.0</td>\n",
       "      <td>f</td>\n",
       "      <td>NaN</td>\n",
       "      <td>NaN</td>\n",
       "      <td>NaN</td>\n",
       "    </tr>\n",
       "    <tr>\n",
       "      <th>3</th>\n",
       "      <td>Jake</td>\n",
       "      <td>Milner</td>\n",
       "      <td>24.0</td>\n",
       "      <td>m</td>\n",
       "      <td>2.0</td>\n",
       "      <td>62.0</td>\n",
       "      <td>NaN</td>\n",
       "    </tr>\n",
       "    <tr>\n",
       "      <th>4</th>\n",
       "      <td>Amy</td>\n",
       "      <td>Cooze</td>\n",
       "      <td>73.0</td>\n",
       "      <td>f</td>\n",
       "      <td>3.0</td>\n",
       "      <td>70.0</td>\n",
       "      <td>NaN</td>\n",
       "    </tr>\n",
       "  </tbody>\n",
       "</table>\n",
       "</div>"
      ],
      "text/plain": [
       "  first_name last_name   age  sex  preTestScore  postTestScore  location\n",
       "0      Jason    Miller  42.0    m           4.0           25.0       NaN\n",
       "1        NaN       NaN   NaN  NaN           NaN            NaN       NaN\n",
       "2       Tina       Ali  36.0    f           NaN            NaN       NaN\n",
       "3       Jake    Milner  24.0    m           2.0           62.0       NaN\n",
       "4        Amy     Cooze  73.0    f           3.0           70.0       NaN"
      ]
     },
     "execution_count": 127,
     "metadata": {},
     "output_type": "execute_result"
    }
   ],
   "source": [
    "df"
   ]
  },
  {
   "cell_type": "code",
   "execution_count": 128,
   "metadata": {},
   "outputs": [
    {
     "data": {
      "text/html": [
       "<div>\n",
       "<style>\n",
       "    .dataframe thead tr:only-child th {\n",
       "        text-align: right;\n",
       "    }\n",
       "\n",
       "    .dataframe thead th {\n",
       "        text-align: left;\n",
       "    }\n",
       "\n",
       "    .dataframe tbody tr th {\n",
       "        vertical-align: top;\n",
       "    }\n",
       "</style>\n",
       "<table border=\"1\" class=\"dataframe\">\n",
       "  <thead>\n",
       "    <tr style=\"text-align: right;\">\n",
       "      <th></th>\n",
       "      <th>first_name</th>\n",
       "      <th>last_name</th>\n",
       "      <th>age</th>\n",
       "      <th>sex</th>\n",
       "      <th>preTestScore</th>\n",
       "      <th>postTestScore</th>\n",
       "      <th>location</th>\n",
       "    </tr>\n",
       "  </thead>\n",
       "  <tbody>\n",
       "    <tr>\n",
       "      <th>0</th>\n",
       "      <td>Jason</td>\n",
       "      <td>Miller</td>\n",
       "      <td>42.0</td>\n",
       "      <td>m</td>\n",
       "      <td>4.0</td>\n",
       "      <td>25.0</td>\n",
       "      <td>NaN</td>\n",
       "    </tr>\n",
       "    <tr>\n",
       "      <th>1</th>\n",
       "      <td>NaN</td>\n",
       "      <td>NaN</td>\n",
       "      <td>NaN</td>\n",
       "      <td>NaN</td>\n",
       "      <td>3.0</td>\n",
       "      <td>NaN</td>\n",
       "      <td>NaN</td>\n",
       "    </tr>\n",
       "    <tr>\n",
       "      <th>2</th>\n",
       "      <td>Tina</td>\n",
       "      <td>Ali</td>\n",
       "      <td>36.0</td>\n",
       "      <td>f</td>\n",
       "      <td>3.0</td>\n",
       "      <td>NaN</td>\n",
       "      <td>NaN</td>\n",
       "    </tr>\n",
       "    <tr>\n",
       "      <th>3</th>\n",
       "      <td>Jake</td>\n",
       "      <td>Milner</td>\n",
       "      <td>24.0</td>\n",
       "      <td>m</td>\n",
       "      <td>2.0</td>\n",
       "      <td>62.0</td>\n",
       "      <td>NaN</td>\n",
       "    </tr>\n",
       "    <tr>\n",
       "      <th>4</th>\n",
       "      <td>Amy</td>\n",
       "      <td>Cooze</td>\n",
       "      <td>73.0</td>\n",
       "      <td>f</td>\n",
       "      <td>3.0</td>\n",
       "      <td>70.0</td>\n",
       "      <td>NaN</td>\n",
       "    </tr>\n",
       "  </tbody>\n",
       "</table>\n",
       "</div>"
      ],
      "text/plain": [
       "  first_name last_name   age  sex  preTestScore  postTestScore  location\n",
       "0      Jason    Miller  42.0    m           4.0           25.0       NaN\n",
       "1        NaN       NaN   NaN  NaN           3.0            NaN       NaN\n",
       "2       Tina       Ali  36.0    f           3.0            NaN       NaN\n",
       "3       Jake    Milner  24.0    m           2.0           62.0       NaN\n",
       "4        Amy     Cooze  73.0    f           3.0           70.0       NaN"
      ]
     },
     "execution_count": 128,
     "metadata": {},
     "output_type": "execute_result"
    }
   ],
   "source": [
    "df[\"preTestScore\"].fillna(df[\"preTestScore\"].mean(), inplace=True)\n",
    "df"
   ]
  },
  {
   "cell_type": "code",
   "execution_count": 129,
   "metadata": {},
   "outputs": [
    {
     "data": {
      "text/plain": [
       "52.333333333333336"
      ]
     },
     "execution_count": 129,
     "metadata": {},
     "output_type": "execute_result"
    }
   ],
   "source": [
    "df[\"postTestScore\"].mean()"
   ]
  },
  {
   "cell_type": "markdown",
   "metadata": {},
   "source": [
    "### Fill in missing in postTestScore with each sex's mean value of postTestScore"
   ]
  },
  {
   "cell_type": "code",
   "execution_count": 130,
   "metadata": {},
   "outputs": [
    {
     "data": {
      "text/html": [
       "<div>\n",
       "<style>\n",
       "    .dataframe thead tr:only-child th {\n",
       "        text-align: right;\n",
       "    }\n",
       "\n",
       "    .dataframe thead th {\n",
       "        text-align: left;\n",
       "    }\n",
       "\n",
       "    .dataframe tbody tr th {\n",
       "        vertical-align: top;\n",
       "    }\n",
       "</style>\n",
       "<table border=\"1\" class=\"dataframe\">\n",
       "  <thead>\n",
       "    <tr style=\"text-align: right;\">\n",
       "      <th></th>\n",
       "      <th>first_name</th>\n",
       "      <th>last_name</th>\n",
       "      <th>age</th>\n",
       "      <th>sex</th>\n",
       "      <th>preTestScore</th>\n",
       "      <th>postTestScore</th>\n",
       "      <th>location</th>\n",
       "    </tr>\n",
       "  </thead>\n",
       "  <tbody>\n",
       "    <tr>\n",
       "      <th>0</th>\n",
       "      <td>Jason</td>\n",
       "      <td>Miller</td>\n",
       "      <td>42.0</td>\n",
       "      <td>m</td>\n",
       "      <td>4.0</td>\n",
       "      <td>25.0</td>\n",
       "      <td>NaN</td>\n",
       "    </tr>\n",
       "    <tr>\n",
       "      <th>1</th>\n",
       "      <td>NaN</td>\n",
       "      <td>NaN</td>\n",
       "      <td>NaN</td>\n",
       "      <td>NaN</td>\n",
       "      <td>3.0</td>\n",
       "      <td>NaN</td>\n",
       "      <td>NaN</td>\n",
       "    </tr>\n",
       "    <tr>\n",
       "      <th>2</th>\n",
       "      <td>Tina</td>\n",
       "      <td>Ali</td>\n",
       "      <td>36.0</td>\n",
       "      <td>f</td>\n",
       "      <td>3.0</td>\n",
       "      <td>70.0</td>\n",
       "      <td>NaN</td>\n",
       "    </tr>\n",
       "    <tr>\n",
       "      <th>3</th>\n",
       "      <td>Jake</td>\n",
       "      <td>Milner</td>\n",
       "      <td>24.0</td>\n",
       "      <td>m</td>\n",
       "      <td>2.0</td>\n",
       "      <td>62.0</td>\n",
       "      <td>NaN</td>\n",
       "    </tr>\n",
       "    <tr>\n",
       "      <th>4</th>\n",
       "      <td>Amy</td>\n",
       "      <td>Cooze</td>\n",
       "      <td>73.0</td>\n",
       "      <td>f</td>\n",
       "      <td>3.0</td>\n",
       "      <td>70.0</td>\n",
       "      <td>NaN</td>\n",
       "    </tr>\n",
       "  </tbody>\n",
       "</table>\n",
       "</div>"
      ],
      "text/plain": [
       "  first_name last_name   age  sex  preTestScore  postTestScore  location\n",
       "0      Jason    Miller  42.0    m           4.0           25.0       NaN\n",
       "1        NaN       NaN   NaN  NaN           3.0            NaN       NaN\n",
       "2       Tina       Ali  36.0    f           3.0           70.0       NaN\n",
       "3       Jake    Milner  24.0    m           2.0           62.0       NaN\n",
       "4        Amy     Cooze  73.0    f           3.0           70.0       NaN"
      ]
     },
     "execution_count": 130,
     "metadata": {},
     "output_type": "execute_result"
    }
   ],
   "source": [
    "df[\"postTestScore\"].fillna(df.groupby(\"sex\")[\"postTestScore\"].transform(\"mean\"), inplace=True)\n",
    "df"
   ]
  },
  {
   "cell_type": "code",
   "execution_count": 131,
   "metadata": {},
   "outputs": [
    {
     "data": {
      "text/html": [
       "<div>\n",
       "<style>\n",
       "    .dataframe thead tr:only-child th {\n",
       "        text-align: right;\n",
       "    }\n",
       "\n",
       "    .dataframe thead th {\n",
       "        text-align: left;\n",
       "    }\n",
       "\n",
       "    .dataframe tbody tr th {\n",
       "        vertical-align: top;\n",
       "    }\n",
       "</style>\n",
       "<table border=\"1\" class=\"dataframe\">\n",
       "  <thead>\n",
       "    <tr style=\"text-align: right;\">\n",
       "      <th></th>\n",
       "      <th>age</th>\n",
       "      <th>postTestScore</th>\n",
       "      <th>location</th>\n",
       "    </tr>\n",
       "    <tr>\n",
       "      <th>preTestScore</th>\n",
       "      <th></th>\n",
       "      <th></th>\n",
       "      <th></th>\n",
       "    </tr>\n",
       "  </thead>\n",
       "  <tbody>\n",
       "    <tr>\n",
       "      <th>2.0</th>\n",
       "      <td>24.0</td>\n",
       "      <td>62.0</td>\n",
       "      <td>NaN</td>\n",
       "    </tr>\n",
       "    <tr>\n",
       "      <th>3.0</th>\n",
       "      <td>54.5</td>\n",
       "      <td>70.0</td>\n",
       "      <td>NaN</td>\n",
       "    </tr>\n",
       "    <tr>\n",
       "      <th>4.0</th>\n",
       "      <td>42.0</td>\n",
       "      <td>25.0</td>\n",
       "      <td>NaN</td>\n",
       "    </tr>\n",
       "  </tbody>\n",
       "</table>\n",
       "</div>"
      ],
      "text/plain": [
       "               age  postTestScore  location\n",
       "preTestScore                               \n",
       "2.0           24.0           62.0       NaN\n",
       "3.0           54.5           70.0       NaN\n",
       "4.0           42.0           25.0       NaN"
      ]
     },
     "execution_count": 131,
     "metadata": {},
     "output_type": "execute_result"
    }
   ],
   "source": [
    "df.groupby(\"preTestScore\").mean()"
   ]
  },
  {
   "cell_type": "markdown",
   "metadata": {},
   "source": [
    "### Select some rows but ignore the missing data points"
   ]
  },
  {
   "cell_type": "code",
   "execution_count": 132,
   "metadata": {},
   "outputs": [
    {
     "data": {
      "text/html": [
       "<div>\n",
       "<style>\n",
       "    .dataframe thead tr:only-child th {\n",
       "        text-align: right;\n",
       "    }\n",
       "\n",
       "    .dataframe thead th {\n",
       "        text-align: left;\n",
       "    }\n",
       "\n",
       "    .dataframe tbody tr th {\n",
       "        vertical-align: top;\n",
       "    }\n",
       "</style>\n",
       "<table border=\"1\" class=\"dataframe\">\n",
       "  <thead>\n",
       "    <tr style=\"text-align: right;\">\n",
       "      <th></th>\n",
       "      <th>first_name</th>\n",
       "      <th>last_name</th>\n",
       "      <th>age</th>\n",
       "      <th>sex</th>\n",
       "      <th>preTestScore</th>\n",
       "      <th>postTestScore</th>\n",
       "      <th>location</th>\n",
       "    </tr>\n",
       "  </thead>\n",
       "  <tbody>\n",
       "    <tr>\n",
       "      <th>0</th>\n",
       "      <td>Jason</td>\n",
       "      <td>Miller</td>\n",
       "      <td>42.0</td>\n",
       "      <td>m</td>\n",
       "      <td>4.0</td>\n",
       "      <td>25.0</td>\n",
       "      <td>NaN</td>\n",
       "    </tr>\n",
       "    <tr>\n",
       "      <th>2</th>\n",
       "      <td>Tina</td>\n",
       "      <td>Ali</td>\n",
       "      <td>36.0</td>\n",
       "      <td>f</td>\n",
       "      <td>3.0</td>\n",
       "      <td>70.0</td>\n",
       "      <td>NaN</td>\n",
       "    </tr>\n",
       "    <tr>\n",
       "      <th>3</th>\n",
       "      <td>Jake</td>\n",
       "      <td>Milner</td>\n",
       "      <td>24.0</td>\n",
       "      <td>m</td>\n",
       "      <td>2.0</td>\n",
       "      <td>62.0</td>\n",
       "      <td>NaN</td>\n",
       "    </tr>\n",
       "    <tr>\n",
       "      <th>4</th>\n",
       "      <td>Amy</td>\n",
       "      <td>Cooze</td>\n",
       "      <td>73.0</td>\n",
       "      <td>f</td>\n",
       "      <td>3.0</td>\n",
       "      <td>70.0</td>\n",
       "      <td>NaN</td>\n",
       "    </tr>\n",
       "  </tbody>\n",
       "</table>\n",
       "</div>"
      ],
      "text/plain": [
       "  first_name last_name   age sex  preTestScore  postTestScore  location\n",
       "0      Jason    Miller  42.0   m           4.0           25.0       NaN\n",
       "2       Tina       Ali  36.0   f           3.0           70.0       NaN\n",
       "3       Jake    Milner  24.0   m           2.0           62.0       NaN\n",
       "4        Amy     Cooze  73.0   f           3.0           70.0       NaN"
      ]
     },
     "execution_count": 132,
     "metadata": {},
     "output_type": "execute_result"
    }
   ],
   "source": [
    "# Select the rows of df where age is not NaN and sex is not NaN\n",
    "df[df['age'].notnull() & df['sex'].notnull()]"
   ]
  },
  {
   "cell_type": "code",
   "execution_count": 133,
   "metadata": {},
   "outputs": [
    {
     "data": {
      "text/plain": [
       "0     True\n",
       "1    False\n",
       "2     True\n",
       "3     True\n",
       "4     True\n",
       "dtype: bool"
      ]
     },
     "execution_count": 133,
     "metadata": {},
     "output_type": "execute_result"
    }
   ],
   "source": [
    "df['age'].notnull() & df['sex'].notnull()"
   ]
  },
  {
   "cell_type": "markdown",
   "metadata": {},
   "source": [
    "### Analyzing Data\n",
    "\n",
    "The rest of this worksheet will use a single example, which contains data for customer counts per date at different store locations each week.  \n"
   ]
  },
  {
   "cell_type": "code",
   "execution_count": 134,
   "metadata": {
    "collapsed": true
   },
   "outputs": [],
   "source": [
    "\n",
    "# Function to generate test data\n",
    "def CreateDataSet(Number=1):\n",
    "    Output = []\n",
    "    for i in range(Number):\n",
    "        # Create a weekly (mondays) date range\n",
    "        rng = pd.date_range(start='1/1/2013', end='12/31/2016', freq='W-MON')\n",
    "        \n",
    "        # Create random data\n",
    "        data = np.random.randint(low=25,high=1000,size=len(rng))\n",
    "        \n",
    "        # Status pool\n",
    "        status = [1,2,3]\n",
    "        \n",
    "        # Make a random list of statuses\n",
    "        random_status = [status[np.random.randint(low=0,high=len(status))] for i in range(len(rng))]\n",
    "        \n",
    "        # State pool\n",
    "        location = ['Bangsar','Ampang','Petaling Jaya','Cheras']\n",
    "        \n",
    "        # Make a random list of states \n",
    "        random_location = [location[np.random.randint(low=0,high=len(location))] for i in range(len(rng))]\n",
    "\n",
    "        Output.extend(list(zip(random_location, random_status, data, rng)))\n",
    "        \n",
    "    return Output"
   ]
  },
  {
   "cell_type": "code",
   "execution_count": 135,
   "metadata": {},
   "outputs": [
    {
     "name": "stdout",
     "output_type": "stream",
     "text": [
      "<class 'pandas.core.frame.DataFrame'>\n",
      "RangeIndex: 832 entries, 0 to 831\n",
      "Data columns (total 4 columns):\n",
      "location         832 non-null object\n",
      "Status           832 non-null int64\n",
      "CustomerCount    832 non-null int64\n",
      "StatusDate       832 non-null datetime64[ns]\n",
      "dtypes: datetime64[ns](1), int64(2), object(1)\n",
      "memory usage: 26.1+ KB\n"
     ]
    }
   ],
   "source": [
    "dataset = CreateDataSet(4)\n",
    "df = pd.DataFrame(data=dataset, columns=['location','Status','CustomerCount','StatusDate'])\n",
    "df.info()\n"
   ]
  },
  {
   "cell_type": "code",
   "execution_count": 136,
   "metadata": {},
   "outputs": [
    {
     "data": {
      "text/html": [
       "<div>\n",
       "<style>\n",
       "    .dataframe thead tr:only-child th {\n",
       "        text-align: right;\n",
       "    }\n",
       "\n",
       "    .dataframe thead th {\n",
       "        text-align: left;\n",
       "    }\n",
       "\n",
       "    .dataframe tbody tr th {\n",
       "        vertical-align: top;\n",
       "    }\n",
       "</style>\n",
       "<table border=\"1\" class=\"dataframe\">\n",
       "  <thead>\n",
       "    <tr style=\"text-align: right;\">\n",
       "      <th></th>\n",
       "      <th>location</th>\n",
       "      <th>Status</th>\n",
       "      <th>CustomerCount</th>\n",
       "      <th>StatusDate</th>\n",
       "    </tr>\n",
       "  </thead>\n",
       "  <tbody>\n",
       "    <tr>\n",
       "      <th>0</th>\n",
       "      <td>Petaling Jaya</td>\n",
       "      <td>3</td>\n",
       "      <td>769</td>\n",
       "      <td>2013-01-07</td>\n",
       "    </tr>\n",
       "    <tr>\n",
       "      <th>1</th>\n",
       "      <td>Ampang</td>\n",
       "      <td>3</td>\n",
       "      <td>723</td>\n",
       "      <td>2013-01-14</td>\n",
       "    </tr>\n",
       "    <tr>\n",
       "      <th>2</th>\n",
       "      <td>Petaling Jaya</td>\n",
       "      <td>3</td>\n",
       "      <td>855</td>\n",
       "      <td>2013-01-21</td>\n",
       "    </tr>\n",
       "    <tr>\n",
       "      <th>3</th>\n",
       "      <td>Petaling Jaya</td>\n",
       "      <td>1</td>\n",
       "      <td>801</td>\n",
       "      <td>2013-01-28</td>\n",
       "    </tr>\n",
       "    <tr>\n",
       "      <th>4</th>\n",
       "      <td>Petaling Jaya</td>\n",
       "      <td>1</td>\n",
       "      <td>309</td>\n",
       "      <td>2013-02-04</td>\n",
       "    </tr>\n",
       "    <tr>\n",
       "      <th>5</th>\n",
       "      <td>Bangsar</td>\n",
       "      <td>2</td>\n",
       "      <td>407</td>\n",
       "      <td>2013-02-11</td>\n",
       "    </tr>\n",
       "    <tr>\n",
       "      <th>6</th>\n",
       "      <td>Ampang</td>\n",
       "      <td>3</td>\n",
       "      <td>787</td>\n",
       "      <td>2013-02-18</td>\n",
       "    </tr>\n",
       "    <tr>\n",
       "      <th>7</th>\n",
       "      <td>Cheras</td>\n",
       "      <td>1</td>\n",
       "      <td>691</td>\n",
       "      <td>2013-02-25</td>\n",
       "    </tr>\n",
       "    <tr>\n",
       "      <th>8</th>\n",
       "      <td>Ampang</td>\n",
       "      <td>1</td>\n",
       "      <td>149</td>\n",
       "      <td>2013-03-04</td>\n",
       "    </tr>\n",
       "    <tr>\n",
       "      <th>9</th>\n",
       "      <td>Cheras</td>\n",
       "      <td>1</td>\n",
       "      <td>386</td>\n",
       "      <td>2013-03-11</td>\n",
       "    </tr>\n",
       "    <tr>\n",
       "      <th>10</th>\n",
       "      <td>Cheras</td>\n",
       "      <td>1</td>\n",
       "      <td>438</td>\n",
       "      <td>2013-03-18</td>\n",
       "    </tr>\n",
       "    <tr>\n",
       "      <th>11</th>\n",
       "      <td>Bangsar</td>\n",
       "      <td>2</td>\n",
       "      <td>48</td>\n",
       "      <td>2013-03-25</td>\n",
       "    </tr>\n",
       "    <tr>\n",
       "      <th>12</th>\n",
       "      <td>Petaling Jaya</td>\n",
       "      <td>2</td>\n",
       "      <td>472</td>\n",
       "      <td>2013-04-01</td>\n",
       "    </tr>\n",
       "    <tr>\n",
       "      <th>13</th>\n",
       "      <td>Ampang</td>\n",
       "      <td>3</td>\n",
       "      <td>177</td>\n",
       "      <td>2013-04-08</td>\n",
       "    </tr>\n",
       "    <tr>\n",
       "      <th>14</th>\n",
       "      <td>Bangsar</td>\n",
       "      <td>1</td>\n",
       "      <td>456</td>\n",
       "      <td>2013-04-15</td>\n",
       "    </tr>\n",
       "    <tr>\n",
       "      <th>15</th>\n",
       "      <td>Petaling Jaya</td>\n",
       "      <td>3</td>\n",
       "      <td>29</td>\n",
       "      <td>2013-04-22</td>\n",
       "    </tr>\n",
       "    <tr>\n",
       "      <th>16</th>\n",
       "      <td>Bangsar</td>\n",
       "      <td>2</td>\n",
       "      <td>948</td>\n",
       "      <td>2013-04-29</td>\n",
       "    </tr>\n",
       "    <tr>\n",
       "      <th>17</th>\n",
       "      <td>Ampang</td>\n",
       "      <td>3</td>\n",
       "      <td>162</td>\n",
       "      <td>2013-05-06</td>\n",
       "    </tr>\n",
       "    <tr>\n",
       "      <th>18</th>\n",
       "      <td>Cheras</td>\n",
       "      <td>2</td>\n",
       "      <td>54</td>\n",
       "      <td>2013-05-13</td>\n",
       "    </tr>\n",
       "    <tr>\n",
       "      <th>19</th>\n",
       "      <td>Petaling Jaya</td>\n",
       "      <td>1</td>\n",
       "      <td>742</td>\n",
       "      <td>2013-05-20</td>\n",
       "    </tr>\n",
       "    <tr>\n",
       "      <th>20</th>\n",
       "      <td>Petaling Jaya</td>\n",
       "      <td>1</td>\n",
       "      <td>451</td>\n",
       "      <td>2013-05-27</td>\n",
       "    </tr>\n",
       "    <tr>\n",
       "      <th>21</th>\n",
       "      <td>Ampang</td>\n",
       "      <td>1</td>\n",
       "      <td>511</td>\n",
       "      <td>2013-06-03</td>\n",
       "    </tr>\n",
       "    <tr>\n",
       "      <th>22</th>\n",
       "      <td>Petaling Jaya</td>\n",
       "      <td>1</td>\n",
       "      <td>592</td>\n",
       "      <td>2013-06-10</td>\n",
       "    </tr>\n",
       "    <tr>\n",
       "      <th>23</th>\n",
       "      <td>Ampang</td>\n",
       "      <td>3</td>\n",
       "      <td>322</td>\n",
       "      <td>2013-06-17</td>\n",
       "    </tr>\n",
       "    <tr>\n",
       "      <th>24</th>\n",
       "      <td>Bangsar</td>\n",
       "      <td>3</td>\n",
       "      <td>550</td>\n",
       "      <td>2013-06-24</td>\n",
       "    </tr>\n",
       "    <tr>\n",
       "      <th>25</th>\n",
       "      <td>Petaling Jaya</td>\n",
       "      <td>3</td>\n",
       "      <td>124</td>\n",
       "      <td>2013-07-01</td>\n",
       "    </tr>\n",
       "    <tr>\n",
       "      <th>26</th>\n",
       "      <td>Petaling Jaya</td>\n",
       "      <td>1</td>\n",
       "      <td>591</td>\n",
       "      <td>2013-07-08</td>\n",
       "    </tr>\n",
       "    <tr>\n",
       "      <th>27</th>\n",
       "      <td>Cheras</td>\n",
       "      <td>2</td>\n",
       "      <td>120</td>\n",
       "      <td>2013-07-15</td>\n",
       "    </tr>\n",
       "    <tr>\n",
       "      <th>28</th>\n",
       "      <td>Bangsar</td>\n",
       "      <td>1</td>\n",
       "      <td>693</td>\n",
       "      <td>2013-07-22</td>\n",
       "    </tr>\n",
       "    <tr>\n",
       "      <th>29</th>\n",
       "      <td>Ampang</td>\n",
       "      <td>3</td>\n",
       "      <td>112</td>\n",
       "      <td>2013-07-29</td>\n",
       "    </tr>\n",
       "    <tr>\n",
       "      <th>...</th>\n",
       "      <td>...</td>\n",
       "      <td>...</td>\n",
       "      <td>...</td>\n",
       "      <td>...</td>\n",
       "    </tr>\n",
       "    <tr>\n",
       "      <th>802</th>\n",
       "      <td>Bangsar</td>\n",
       "      <td>3</td>\n",
       "      <td>830</td>\n",
       "      <td>2016-06-06</td>\n",
       "    </tr>\n",
       "    <tr>\n",
       "      <th>803</th>\n",
       "      <td>Bangsar</td>\n",
       "      <td>1</td>\n",
       "      <td>336</td>\n",
       "      <td>2016-06-13</td>\n",
       "    </tr>\n",
       "    <tr>\n",
       "      <th>804</th>\n",
       "      <td>Cheras</td>\n",
       "      <td>3</td>\n",
       "      <td>702</td>\n",
       "      <td>2016-06-20</td>\n",
       "    </tr>\n",
       "    <tr>\n",
       "      <th>805</th>\n",
       "      <td>Bangsar</td>\n",
       "      <td>3</td>\n",
       "      <td>395</td>\n",
       "      <td>2016-06-27</td>\n",
       "    </tr>\n",
       "    <tr>\n",
       "      <th>806</th>\n",
       "      <td>Petaling Jaya</td>\n",
       "      <td>3</td>\n",
       "      <td>742</td>\n",
       "      <td>2016-07-04</td>\n",
       "    </tr>\n",
       "    <tr>\n",
       "      <th>807</th>\n",
       "      <td>Petaling Jaya</td>\n",
       "      <td>2</td>\n",
       "      <td>187</td>\n",
       "      <td>2016-07-11</td>\n",
       "    </tr>\n",
       "    <tr>\n",
       "      <th>808</th>\n",
       "      <td>Cheras</td>\n",
       "      <td>1</td>\n",
       "      <td>309</td>\n",
       "      <td>2016-07-18</td>\n",
       "    </tr>\n",
       "    <tr>\n",
       "      <th>809</th>\n",
       "      <td>Cheras</td>\n",
       "      <td>2</td>\n",
       "      <td>365</td>\n",
       "      <td>2016-07-25</td>\n",
       "    </tr>\n",
       "    <tr>\n",
       "      <th>810</th>\n",
       "      <td>Bangsar</td>\n",
       "      <td>2</td>\n",
       "      <td>873</td>\n",
       "      <td>2016-08-01</td>\n",
       "    </tr>\n",
       "    <tr>\n",
       "      <th>811</th>\n",
       "      <td>Petaling Jaya</td>\n",
       "      <td>3</td>\n",
       "      <td>459</td>\n",
       "      <td>2016-08-08</td>\n",
       "    </tr>\n",
       "    <tr>\n",
       "      <th>812</th>\n",
       "      <td>Bangsar</td>\n",
       "      <td>1</td>\n",
       "      <td>371</td>\n",
       "      <td>2016-08-15</td>\n",
       "    </tr>\n",
       "    <tr>\n",
       "      <th>813</th>\n",
       "      <td>Cheras</td>\n",
       "      <td>3</td>\n",
       "      <td>293</td>\n",
       "      <td>2016-08-22</td>\n",
       "    </tr>\n",
       "    <tr>\n",
       "      <th>814</th>\n",
       "      <td>Bangsar</td>\n",
       "      <td>1</td>\n",
       "      <td>525</td>\n",
       "      <td>2016-08-29</td>\n",
       "    </tr>\n",
       "    <tr>\n",
       "      <th>815</th>\n",
       "      <td>Bangsar</td>\n",
       "      <td>2</td>\n",
       "      <td>501</td>\n",
       "      <td>2016-09-05</td>\n",
       "    </tr>\n",
       "    <tr>\n",
       "      <th>816</th>\n",
       "      <td>Cheras</td>\n",
       "      <td>2</td>\n",
       "      <td>142</td>\n",
       "      <td>2016-09-12</td>\n",
       "    </tr>\n",
       "    <tr>\n",
       "      <th>817</th>\n",
       "      <td>Ampang</td>\n",
       "      <td>1</td>\n",
       "      <td>459</td>\n",
       "      <td>2016-09-19</td>\n",
       "    </tr>\n",
       "    <tr>\n",
       "      <th>818</th>\n",
       "      <td>Cheras</td>\n",
       "      <td>2</td>\n",
       "      <td>127</td>\n",
       "      <td>2016-09-26</td>\n",
       "    </tr>\n",
       "    <tr>\n",
       "      <th>819</th>\n",
       "      <td>Ampang</td>\n",
       "      <td>3</td>\n",
       "      <td>908</td>\n",
       "      <td>2016-10-03</td>\n",
       "    </tr>\n",
       "    <tr>\n",
       "      <th>820</th>\n",
       "      <td>Petaling Jaya</td>\n",
       "      <td>3</td>\n",
       "      <td>256</td>\n",
       "      <td>2016-10-10</td>\n",
       "    </tr>\n",
       "    <tr>\n",
       "      <th>821</th>\n",
       "      <td>Cheras</td>\n",
       "      <td>2</td>\n",
       "      <td>576</td>\n",
       "      <td>2016-10-17</td>\n",
       "    </tr>\n",
       "    <tr>\n",
       "      <th>822</th>\n",
       "      <td>Bangsar</td>\n",
       "      <td>3</td>\n",
       "      <td>754</td>\n",
       "      <td>2016-10-24</td>\n",
       "    </tr>\n",
       "    <tr>\n",
       "      <th>823</th>\n",
       "      <td>Ampang</td>\n",
       "      <td>3</td>\n",
       "      <td>373</td>\n",
       "      <td>2016-10-31</td>\n",
       "    </tr>\n",
       "    <tr>\n",
       "      <th>824</th>\n",
       "      <td>Cheras</td>\n",
       "      <td>2</td>\n",
       "      <td>261</td>\n",
       "      <td>2016-11-07</td>\n",
       "    </tr>\n",
       "    <tr>\n",
       "      <th>825</th>\n",
       "      <td>Petaling Jaya</td>\n",
       "      <td>1</td>\n",
       "      <td>947</td>\n",
       "      <td>2016-11-14</td>\n",
       "    </tr>\n",
       "    <tr>\n",
       "      <th>826</th>\n",
       "      <td>Petaling Jaya</td>\n",
       "      <td>3</td>\n",
       "      <td>815</td>\n",
       "      <td>2016-11-21</td>\n",
       "    </tr>\n",
       "    <tr>\n",
       "      <th>827</th>\n",
       "      <td>Ampang</td>\n",
       "      <td>3</td>\n",
       "      <td>623</td>\n",
       "      <td>2016-11-28</td>\n",
       "    </tr>\n",
       "    <tr>\n",
       "      <th>828</th>\n",
       "      <td>Ampang</td>\n",
       "      <td>3</td>\n",
       "      <td>842</td>\n",
       "      <td>2016-12-05</td>\n",
       "    </tr>\n",
       "    <tr>\n",
       "      <th>829</th>\n",
       "      <td>Cheras</td>\n",
       "      <td>2</td>\n",
       "      <td>435</td>\n",
       "      <td>2016-12-12</td>\n",
       "    </tr>\n",
       "    <tr>\n",
       "      <th>830</th>\n",
       "      <td>Bangsar</td>\n",
       "      <td>2</td>\n",
       "      <td>851</td>\n",
       "      <td>2016-12-19</td>\n",
       "    </tr>\n",
       "    <tr>\n",
       "      <th>831</th>\n",
       "      <td>Bangsar</td>\n",
       "      <td>1</td>\n",
       "      <td>848</td>\n",
       "      <td>2016-12-26</td>\n",
       "    </tr>\n",
       "  </tbody>\n",
       "</table>\n",
       "<p>832 rows × 4 columns</p>\n",
       "</div>"
      ],
      "text/plain": [
       "          location  Status  CustomerCount StatusDate\n",
       "0    Petaling Jaya       3            769 2013-01-07\n",
       "1           Ampang       3            723 2013-01-14\n",
       "2    Petaling Jaya       3            855 2013-01-21\n",
       "3    Petaling Jaya       1            801 2013-01-28\n",
       "4    Petaling Jaya       1            309 2013-02-04\n",
       "5          Bangsar       2            407 2013-02-11\n",
       "6           Ampang       3            787 2013-02-18\n",
       "7           Cheras       1            691 2013-02-25\n",
       "8           Ampang       1            149 2013-03-04\n",
       "9           Cheras       1            386 2013-03-11\n",
       "10          Cheras       1            438 2013-03-18\n",
       "11         Bangsar       2             48 2013-03-25\n",
       "12   Petaling Jaya       2            472 2013-04-01\n",
       "13          Ampang       3            177 2013-04-08\n",
       "14         Bangsar       1            456 2013-04-15\n",
       "15   Petaling Jaya       3             29 2013-04-22\n",
       "16         Bangsar       2            948 2013-04-29\n",
       "17          Ampang       3            162 2013-05-06\n",
       "18          Cheras       2             54 2013-05-13\n",
       "19   Petaling Jaya       1            742 2013-05-20\n",
       "20   Petaling Jaya       1            451 2013-05-27\n",
       "21          Ampang       1            511 2013-06-03\n",
       "22   Petaling Jaya       1            592 2013-06-10\n",
       "23          Ampang       3            322 2013-06-17\n",
       "24         Bangsar       3            550 2013-06-24\n",
       "25   Petaling Jaya       3            124 2013-07-01\n",
       "26   Petaling Jaya       1            591 2013-07-08\n",
       "27          Cheras       2            120 2013-07-15\n",
       "28         Bangsar       1            693 2013-07-22\n",
       "29          Ampang       3            112 2013-07-29\n",
       "..             ...     ...            ...        ...\n",
       "802        Bangsar       3            830 2016-06-06\n",
       "803        Bangsar       1            336 2016-06-13\n",
       "804         Cheras       3            702 2016-06-20\n",
       "805        Bangsar       3            395 2016-06-27\n",
       "806  Petaling Jaya       3            742 2016-07-04\n",
       "807  Petaling Jaya       2            187 2016-07-11\n",
       "808         Cheras       1            309 2016-07-18\n",
       "809         Cheras       2            365 2016-07-25\n",
       "810        Bangsar       2            873 2016-08-01\n",
       "811  Petaling Jaya       3            459 2016-08-08\n",
       "812        Bangsar       1            371 2016-08-15\n",
       "813         Cheras       3            293 2016-08-22\n",
       "814        Bangsar       1            525 2016-08-29\n",
       "815        Bangsar       2            501 2016-09-05\n",
       "816         Cheras       2            142 2016-09-12\n",
       "817         Ampang       1            459 2016-09-19\n",
       "818         Cheras       2            127 2016-09-26\n",
       "819         Ampang       3            908 2016-10-03\n",
       "820  Petaling Jaya       3            256 2016-10-10\n",
       "821         Cheras       2            576 2016-10-17\n",
       "822        Bangsar       3            754 2016-10-24\n",
       "823         Ampang       3            373 2016-10-31\n",
       "824         Cheras       2            261 2016-11-07\n",
       "825  Petaling Jaya       1            947 2016-11-14\n",
       "826  Petaling Jaya       3            815 2016-11-21\n",
       "827         Ampang       3            623 2016-11-28\n",
       "828         Ampang       3            842 2016-12-05\n",
       "829         Cheras       2            435 2016-12-12\n",
       "830        Bangsar       2            851 2016-12-19\n",
       "831        Bangsar       1            848 2016-12-26\n",
       "\n",
       "[832 rows x 4 columns]"
      ]
     },
     "execution_count": 136,
     "metadata": {},
     "output_type": "execute_result"
    }
   ],
   "source": [
    "df"
   ]
  },
  {
   "cell_type": "markdown",
   "metadata": {},
   "source": [
    "We are now going to save this dataframe into an Excel file, to then bring it back to a dataframe. We simply do this to practice reading and writing to Excel files.  \n",
    "\n",
    "We do not write the index values of the dataframe to the Excel file, since they are not meant to be part of our initial test data set."
   ]
  },
  {
   "cell_type": "code",
   "execution_count": 137,
   "metadata": {},
   "outputs": [
    {
     "name": "stdout",
     "output_type": "stream",
     "text": [
      "Done\n"
     ]
    }
   ],
   "source": [
    "# Save results to Excel\n",
    "df.to_excel('Customers.xlsx', index=False)\n",
    "print('Done')"
   ]
  },
  {
   "cell_type": "code",
   "execution_count": 138,
   "metadata": {},
   "outputs": [
    {
     "data": {
      "text/plain": [
       "location         object\n",
       "Status            int64\n",
       "CustomerCount     int64\n",
       "dtype: object"
      ]
     },
     "execution_count": 138,
     "metadata": {},
     "output_type": "execute_result"
    }
   ],
   "source": [
    "# Location of file\n",
    "Location = r'Customers.xlsx'\n",
    "\n",
    "# Parse a specific sheet - look what we did here!\n",
    "df = pd.read_excel(Location, 0, index_col='StatusDate')\n",
    "df.dtypes"
   ]
  },
  {
   "cell_type": "code",
   "execution_count": 139,
   "metadata": {},
   "outputs": [
    {
     "data": {
      "text/plain": [
       "DatetimeIndex(['2013-01-07', '2013-01-14', '2013-01-21', '2013-01-28',\n",
       "               '2013-02-04', '2013-02-11', '2013-02-18', '2013-02-25',\n",
       "               '2013-03-04', '2013-03-11',\n",
       "               ...\n",
       "               '2016-10-24', '2016-10-31', '2016-11-07', '2016-11-14',\n",
       "               '2016-11-21', '2016-11-28', '2016-12-05', '2016-12-12',\n",
       "               '2016-12-19', '2016-12-26'],\n",
       "              dtype='datetime64[ns]', name='StatusDate', length=832, freq=None)"
      ]
     },
     "execution_count": 139,
     "metadata": {},
     "output_type": "execute_result"
    }
   ],
   "source": [
    "# Return the index of df\n",
    "df.index"
   ]
  },
  {
   "cell_type": "code",
   "execution_count": 140,
   "metadata": {},
   "outputs": [
    {
     "data": {
      "text/html": [
       "<div>\n",
       "<style>\n",
       "    .dataframe thead tr:only-child th {\n",
       "        text-align: right;\n",
       "    }\n",
       "\n",
       "    .dataframe thead th {\n",
       "        text-align: left;\n",
       "    }\n",
       "\n",
       "    .dataframe tbody tr th {\n",
       "        vertical-align: top;\n",
       "    }\n",
       "</style>\n",
       "<table border=\"1\" class=\"dataframe\">\n",
       "  <thead>\n",
       "    <tr style=\"text-align: right;\">\n",
       "      <th></th>\n",
       "      <th>location</th>\n",
       "      <th>Status</th>\n",
       "      <th>CustomerCount</th>\n",
       "    </tr>\n",
       "    <tr>\n",
       "      <th>StatusDate</th>\n",
       "      <th></th>\n",
       "      <th></th>\n",
       "      <th></th>\n",
       "    </tr>\n",
       "  </thead>\n",
       "  <tbody>\n",
       "    <tr>\n",
       "      <th>2013-01-07</th>\n",
       "      <td>Petaling Jaya</td>\n",
       "      <td>3</td>\n",
       "      <td>769</td>\n",
       "    </tr>\n",
       "    <tr>\n",
       "      <th>2013-01-14</th>\n",
       "      <td>Ampang</td>\n",
       "      <td>3</td>\n",
       "      <td>723</td>\n",
       "    </tr>\n",
       "    <tr>\n",
       "      <th>2013-01-21</th>\n",
       "      <td>Petaling Jaya</td>\n",
       "      <td>3</td>\n",
       "      <td>855</td>\n",
       "    </tr>\n",
       "    <tr>\n",
       "      <th>2013-01-28</th>\n",
       "      <td>Petaling Jaya</td>\n",
       "      <td>1</td>\n",
       "      <td>801</td>\n",
       "    </tr>\n",
       "    <tr>\n",
       "      <th>2013-02-04</th>\n",
       "      <td>Petaling Jaya</td>\n",
       "      <td>1</td>\n",
       "      <td>309</td>\n",
       "    </tr>\n",
       "  </tbody>\n",
       "</table>\n",
       "</div>"
      ],
      "text/plain": [
       "                 location  Status  CustomerCount\n",
       "StatusDate                                      \n",
       "2013-01-07  Petaling Jaya       3            769\n",
       "2013-01-14         Ampang       3            723\n",
       "2013-01-21  Petaling Jaya       3            855\n",
       "2013-01-28  Petaling Jaya       1            801\n",
       "2013-02-04  Petaling Jaya       1            309"
      ]
     },
     "execution_count": 140,
     "metadata": {},
     "output_type": "execute_result"
    }
   ],
   "source": [
    "df.head()"
   ]
  },
  {
   "cell_type": "code",
   "execution_count": 141,
   "metadata": {},
   "outputs": [
    {
     "data": {
      "text/plain": [
       "(300, 3)"
      ]
     },
     "execution_count": 141,
     "metadata": {},
     "output_type": "execute_result"
    }
   ],
   "source": [
    "# Let's pretend that status == only includes the people who \n",
    "# bought something. \n",
    "mask = df['Status'] == 1\n",
    "df = df[mask]\n",
    "df.shape"
   ]
  },
  {
   "cell_type": "code",
   "execution_count": 142,
   "metadata": {},
   "outputs": [
    {
     "data": {
      "text/html": [
       "<div>\n",
       "<style>\n",
       "    .dataframe thead tr:only-child th {\n",
       "        text-align: right;\n",
       "    }\n",
       "\n",
       "    .dataframe thead th {\n",
       "        text-align: left;\n",
       "    }\n",
       "\n",
       "    .dataframe tbody tr th {\n",
       "        vertical-align: top;\n",
       "    }\n",
       "</style>\n",
       "<table border=\"1\" class=\"dataframe\">\n",
       "  <thead>\n",
       "    <tr style=\"text-align: right;\">\n",
       "      <th></th>\n",
       "      <th>location</th>\n",
       "      <th>Status</th>\n",
       "      <th>CustomerCount</th>\n",
       "    </tr>\n",
       "    <tr>\n",
       "      <th>StatusDate</th>\n",
       "      <th></th>\n",
       "      <th></th>\n",
       "      <th></th>\n",
       "    </tr>\n",
       "  </thead>\n",
       "  <tbody>\n",
       "    <tr>\n",
       "      <th>2013-01-28</th>\n",
       "      <td>Petaling Jaya</td>\n",
       "      <td>1</td>\n",
       "      <td>801</td>\n",
       "    </tr>\n",
       "    <tr>\n",
       "      <th>2013-02-04</th>\n",
       "      <td>Petaling Jaya</td>\n",
       "      <td>1</td>\n",
       "      <td>309</td>\n",
       "    </tr>\n",
       "    <tr>\n",
       "      <th>2013-02-25</th>\n",
       "      <td>Cheras</td>\n",
       "      <td>1</td>\n",
       "      <td>691</td>\n",
       "    </tr>\n",
       "    <tr>\n",
       "      <th>2013-03-04</th>\n",
       "      <td>Ampang</td>\n",
       "      <td>1</td>\n",
       "      <td>149</td>\n",
       "    </tr>\n",
       "    <tr>\n",
       "      <th>2013-03-11</th>\n",
       "      <td>Cheras</td>\n",
       "      <td>1</td>\n",
       "      <td>386</td>\n",
       "    </tr>\n",
       "  </tbody>\n",
       "</table>\n",
       "</div>"
      ],
      "text/plain": [
       "                 location  Status  CustomerCount\n",
       "StatusDate                                      \n",
       "2013-01-28  Petaling Jaya       1            801\n",
       "2013-02-04  Petaling Jaya       1            309\n",
       "2013-02-25         Cheras       1            691\n",
       "2013-03-04         Ampang       1            149\n",
       "2013-03-11         Cheras       1            386"
      ]
     },
     "execution_count": 142,
     "metadata": {},
     "output_type": "execute_result"
    }
   ],
   "source": [
    "df.head()"
   ]
  },
  {
   "cell_type": "markdown",
   "metadata": {},
   "source": [
    "At this point we may want to graph the data to check for any outliers or inconsistencies in the data. We will be using the ***plot()*** attribute of the dataframe.  \n",
    "\n",
    "As you can see from the graph below it is not very conclusive and is probably a sign that we need to perform some more data preparation."
   ]
  },
  {
   "cell_type": "code",
   "execution_count": 143,
   "metadata": {},
   "outputs": [
    {
     "data": {
      "image/png": "[encoded data removed]",
      "text/plain": [
       "<matplotlib.figure.Figure at 0x2b1d5568dd8>"
      ]
     },
     "metadata": {},
     "output_type": "display_data"
    }
   ],
   "source": [
    "df['CustomerCount'].plot(figsize=(15,5))\n",
    "plt.show();"
   ]
  },
  {
   "cell_type": "markdown",
   "metadata": {},
   "source": [
    "If we take a look at the data, we begin to realize that there are multiple values for the same location, StatusDate, and Status combination. It is possible that this means the data you are working with is dirty/bad/inaccurate, but we will assume otherwise. We can assume this data set is a subset of a bigger data set and if we simply add the values in the ***CustomerCount*** column per location, StatusDate, and Status we will get the ***Total Customer Count*** per day.  "
   ]
  },
  {
   "cell_type": "code",
   "execution_count": 144,
   "metadata": {},
   "outputs": [
    {
     "data": {
      "text/html": [
       "<div>\n",
       "<style>\n",
       "    .dataframe thead tr:only-child th {\n",
       "        text-align: right;\n",
       "    }\n",
       "\n",
       "    .dataframe thead th {\n",
       "        text-align: left;\n",
       "    }\n",
       "\n",
       "    .dataframe tbody tr th {\n",
       "        vertical-align: top;\n",
       "    }\n",
       "</style>\n",
       "<table border=\"1\" class=\"dataframe\">\n",
       "  <thead>\n",
       "    <tr style=\"text-align: right;\">\n",
       "      <th></th>\n",
       "      <th>location</th>\n",
       "      <th>Status</th>\n",
       "      <th>CustomerCount</th>\n",
       "    </tr>\n",
       "    <tr>\n",
       "      <th>StatusDate</th>\n",
       "      <th></th>\n",
       "      <th></th>\n",
       "      <th></th>\n",
       "    </tr>\n",
       "  </thead>\n",
       "  <tbody>\n",
       "    <tr>\n",
       "      <th>2013-02-25</th>\n",
       "      <td>Bangsar</td>\n",
       "      <td>1</td>\n",
       "      <td>176</td>\n",
       "    </tr>\n",
       "    <tr>\n",
       "      <th>2013-03-11</th>\n",
       "      <td>Bangsar</td>\n",
       "      <td>1</td>\n",
       "      <td>213</td>\n",
       "    </tr>\n",
       "    <tr>\n",
       "      <th>2013-04-01</th>\n",
       "      <td>Bangsar</td>\n",
       "      <td>1</td>\n",
       "      <td>65</td>\n",
       "    </tr>\n",
       "    <tr>\n",
       "      <th>2013-04-15</th>\n",
       "      <td>Bangsar</td>\n",
       "      <td>1</td>\n",
       "      <td>456</td>\n",
       "    </tr>\n",
       "    <tr>\n",
       "      <th>2013-06-03</th>\n",
       "      <td>Bangsar</td>\n",
       "      <td>1</td>\n",
       "      <td>670</td>\n",
       "    </tr>\n",
       "    <tr>\n",
       "      <th>2013-06-03</th>\n",
       "      <td>Bangsar</td>\n",
       "      <td>1</td>\n",
       "      <td>248</td>\n",
       "    </tr>\n",
       "    <tr>\n",
       "      <th>2013-06-24</th>\n",
       "      <td>Bangsar</td>\n",
       "      <td>1</td>\n",
       "      <td>416</td>\n",
       "    </tr>\n",
       "    <tr>\n",
       "      <th>2013-07-01</th>\n",
       "      <td>Bangsar</td>\n",
       "      <td>1</td>\n",
       "      <td>890</td>\n",
       "    </tr>\n",
       "    <tr>\n",
       "      <th>2013-07-22</th>\n",
       "      <td>Bangsar</td>\n",
       "      <td>1</td>\n",
       "      <td>693</td>\n",
       "    </tr>\n",
       "    <tr>\n",
       "      <th>2013-07-22</th>\n",
       "      <td>Bangsar</td>\n",
       "      <td>1</td>\n",
       "      <td>217</td>\n",
       "    </tr>\n",
       "  </tbody>\n",
       "</table>\n",
       "</div>"
      ],
      "text/plain": [
       "           location  Status  CustomerCount\n",
       "StatusDate                                \n",
       "2013-02-25  Bangsar       1            176\n",
       "2013-03-11  Bangsar       1            213\n",
       "2013-04-01  Bangsar       1             65\n",
       "2013-04-15  Bangsar       1            456\n",
       "2013-06-03  Bangsar       1            670\n",
       "2013-06-03  Bangsar       1            248\n",
       "2013-06-24  Bangsar       1            416\n",
       "2013-07-01  Bangsar       1            890\n",
       "2013-07-22  Bangsar       1            693\n",
       "2013-07-22  Bangsar       1            217"
      ]
     },
     "execution_count": 144,
     "metadata": {},
     "output_type": "execute_result"
    }
   ],
   "source": [
    "sortdf = df[df['location']=='Bangsar'].sort_index(axis=0)\n",
    "sortdf.head(10)"
   ]
  },
  {
   "cell_type": "markdown",
   "metadata": {},
   "source": [
    "### Groupby\n",
    "Our task is now to create a new dataframe that compresses the data so we have daily customer counts per location and StatusDate. We can ignore the Status column since all the values in this column are of value *1*. To accomplish this we will use the dataframe's functions ***groupby*** and ***sum()***.  \n",
    "\n",
    "Note that we are using **reset_index** . If we did not, we would not have been able to group by both the location and the StatusDate since the groupby function expects only columns as inputs. The **reset_index** function will bring the index ***StatusDate*** back to a column in the dataframe. "
   ]
  },
  {
   "cell_type": "code",
   "execution_count": 145,
   "metadata": {},
   "outputs": [
    {
     "data": {
      "text/html": [
       "<div>\n",
       "<style>\n",
       "    .dataframe thead tr:only-child th {\n",
       "        text-align: right;\n",
       "    }\n",
       "\n",
       "    .dataframe thead th {\n",
       "        text-align: left;\n",
       "    }\n",
       "\n",
       "    .dataframe tbody tr th {\n",
       "        vertical-align: top;\n",
       "    }\n",
       "</style>\n",
       "<table border=\"1\" class=\"dataframe\">\n",
       "  <thead>\n",
       "    <tr style=\"text-align: right;\">\n",
       "      <th></th>\n",
       "      <th></th>\n",
       "      <th>Status</th>\n",
       "      <th>CustomerCount</th>\n",
       "    </tr>\n",
       "    <tr>\n",
       "      <th>location</th>\n",
       "      <th>StatusDate</th>\n",
       "      <th></th>\n",
       "      <th></th>\n",
       "    </tr>\n",
       "  </thead>\n",
       "  <tbody>\n",
       "    <tr>\n",
       "      <th rowspan=\"20\" valign=\"top\">Ampang</th>\n",
       "      <th>2013-01-21</th>\n",
       "      <td>1</td>\n",
       "      <td>183</td>\n",
       "    </tr>\n",
       "    <tr>\n",
       "      <th>2013-02-04</th>\n",
       "      <td>1</td>\n",
       "      <td>294</td>\n",
       "    </tr>\n",
       "    <tr>\n",
       "      <th>2013-02-11</th>\n",
       "      <td>1</td>\n",
       "      <td>942</td>\n",
       "    </tr>\n",
       "    <tr>\n",
       "      <th>2013-03-04</th>\n",
       "      <td>1</td>\n",
       "      <td>149</td>\n",
       "    </tr>\n",
       "    <tr>\n",
       "      <th>2013-03-18</th>\n",
       "      <td>1</td>\n",
       "      <td>983</td>\n",
       "    </tr>\n",
       "    <tr>\n",
       "      <th>2013-03-25</th>\n",
       "      <td>1</td>\n",
       "      <td>179</td>\n",
       "    </tr>\n",
       "    <tr>\n",
       "      <th>2013-04-01</th>\n",
       "      <td>1</td>\n",
       "      <td>576</td>\n",
       "    </tr>\n",
       "    <tr>\n",
       "      <th>2013-04-08</th>\n",
       "      <td>1</td>\n",
       "      <td>974</td>\n",
       "    </tr>\n",
       "    <tr>\n",
       "      <th>2013-04-22</th>\n",
       "      <td>1</td>\n",
       "      <td>689</td>\n",
       "    </tr>\n",
       "    <tr>\n",
       "      <th>2013-05-20</th>\n",
       "      <td>1</td>\n",
       "      <td>915</td>\n",
       "    </tr>\n",
       "    <tr>\n",
       "      <th>2013-05-27</th>\n",
       "      <td>1</td>\n",
       "      <td>914</td>\n",
       "    </tr>\n",
       "    <tr>\n",
       "      <th>2013-06-03</th>\n",
       "      <td>1</td>\n",
       "      <td>511</td>\n",
       "    </tr>\n",
       "    <tr>\n",
       "      <th>2013-09-09</th>\n",
       "      <td>1</td>\n",
       "      <td>635</td>\n",
       "    </tr>\n",
       "    <tr>\n",
       "      <th>2013-09-23</th>\n",
       "      <td>1</td>\n",
       "      <td>397</td>\n",
       "    </tr>\n",
       "    <tr>\n",
       "      <th>2013-10-21</th>\n",
       "      <td>1</td>\n",
       "      <td>533</td>\n",
       "    </tr>\n",
       "    <tr>\n",
       "      <th>2013-10-28</th>\n",
       "      <td>1</td>\n",
       "      <td>241</td>\n",
       "    </tr>\n",
       "    <tr>\n",
       "      <th>2013-11-04</th>\n",
       "      <td>1</td>\n",
       "      <td>30</td>\n",
       "    </tr>\n",
       "    <tr>\n",
       "      <th>2013-11-11</th>\n",
       "      <td>1</td>\n",
       "      <td>904</td>\n",
       "    </tr>\n",
       "    <tr>\n",
       "      <th>2013-11-25</th>\n",
       "      <td>1</td>\n",
       "      <td>299</td>\n",
       "    </tr>\n",
       "    <tr>\n",
       "      <th>2013-12-02</th>\n",
       "      <td>1</td>\n",
       "      <td>194</td>\n",
       "    </tr>\n",
       "  </tbody>\n",
       "</table>\n",
       "</div>"
      ],
      "text/plain": [
       "                     Status  CustomerCount\n",
       "location StatusDate                       \n",
       "Ampang   2013-01-21       1            183\n",
       "         2013-02-04       1            294\n",
       "         2013-02-11       1            942\n",
       "         2013-03-04       1            149\n",
       "         2013-03-18       1            983\n",
       "         2013-03-25       1            179\n",
       "         2013-04-01       1            576\n",
       "         2013-04-08       1            974\n",
       "         2013-04-22       1            689\n",
       "         2013-05-20       1            915\n",
       "         2013-05-27       1            914\n",
       "         2013-06-03       1            511\n",
       "         2013-09-09       1            635\n",
       "         2013-09-23       1            397\n",
       "         2013-10-21       1            533\n",
       "         2013-10-28       1            241\n",
       "         2013-11-04       1             30\n",
       "         2013-11-11       1            904\n",
       "         2013-11-25       1            299\n",
       "         2013-12-02       1            194"
      ]
     },
     "execution_count": 145,
     "metadata": {},
     "output_type": "execute_result"
    }
   ],
   "source": [
    "# Group by State and StatusDate\n",
    "Daily = df.reset_index().groupby(['location','StatusDate']).sum()\n",
    "Daily.head(20)"
   ]
  },
  {
   "cell_type": "markdown",
   "metadata": {},
   "source": [
    "The ***location*** and ***StatusDate*** columns are automatically placed in the index of the ***Daily*** dataframe. You can think of the ***index*** as the primary key of a database table but without the constraint of having unique values. Columns in the index as you will see allow us to easily select, plot, and perform calculations on the data.  \n",
    "\n",
    "Below we delete the ***Status*** column since it is all equal to one and no longer necessary."
   ]
  },
  {
   "cell_type": "code",
   "execution_count": 146,
   "metadata": {},
   "outputs": [
    {
     "data": {
      "text/html": [
       "<div>\n",
       "<style>\n",
       "    .dataframe thead tr:only-child th {\n",
       "        text-align: right;\n",
       "    }\n",
       "\n",
       "    .dataframe thead th {\n",
       "        text-align: left;\n",
       "    }\n",
       "\n",
       "    .dataframe tbody tr th {\n",
       "        vertical-align: top;\n",
       "    }\n",
       "</style>\n",
       "<table border=\"1\" class=\"dataframe\">\n",
       "  <thead>\n",
       "    <tr style=\"text-align: right;\">\n",
       "      <th></th>\n",
       "      <th></th>\n",
       "      <th>CustomerCount</th>\n",
       "    </tr>\n",
       "    <tr>\n",
       "      <th>location</th>\n",
       "      <th>StatusDate</th>\n",
       "      <th></th>\n",
       "    </tr>\n",
       "  </thead>\n",
       "  <tbody>\n",
       "    <tr>\n",
       "      <th rowspan=\"5\" valign=\"top\">Ampang</th>\n",
       "      <th>2013-01-21</th>\n",
       "      <td>183</td>\n",
       "    </tr>\n",
       "    <tr>\n",
       "      <th>2013-02-04</th>\n",
       "      <td>294</td>\n",
       "    </tr>\n",
       "    <tr>\n",
       "      <th>2013-02-11</th>\n",
       "      <td>942</td>\n",
       "    </tr>\n",
       "    <tr>\n",
       "      <th>2013-03-04</th>\n",
       "      <td>149</td>\n",
       "    </tr>\n",
       "    <tr>\n",
       "      <th>2013-03-18</th>\n",
       "      <td>983</td>\n",
       "    </tr>\n",
       "  </tbody>\n",
       "</table>\n",
       "</div>"
      ],
      "text/plain": [
       "                     CustomerCount\n",
       "location StatusDate               \n",
       "Ampang   2013-01-21            183\n",
       "         2013-02-04            294\n",
       "         2013-02-11            942\n",
       "         2013-03-04            149\n",
       "         2013-03-18            983"
      ]
     },
     "execution_count": 146,
     "metadata": {},
     "output_type": "execute_result"
    }
   ],
   "source": [
    "del Daily['Status']\n",
    "Daily.head()"
   ]
  },
  {
   "cell_type": "code",
   "execution_count": 147,
   "metadata": {
    "collapsed": true
   },
   "outputs": [],
   "source": [
    "# Try another groupby!"
   ]
  },
  {
   "cell_type": "markdown",
   "metadata": {},
   "source": [
    "## MultiIndex"
   ]
  },
  {
   "cell_type": "code",
   "execution_count": 148,
   "metadata": {},
   "outputs": [
    {
     "data": {
      "text/plain": [
       "MultiIndex(levels=[['Ampang', 'Bangsar', 'Cheras', 'Petaling Jaya'], [2013-01-07 00:00:00, 2013-01-14 00:00:00, 2013-01-21 00:00:00, 2013-01-28 00:00:00, 2013-02-04 00:00:00, 2013-02-11 00:00:00, 2013-02-18 00:00:00, 2013-02-25 00:00:00, 2013-03-04 00:00:00, 2013-03-11 00:00:00, 2013-03-18 00:00:00, 2013-03-25 00:00:00, 2013-04-01 00:00:00, 2013-04-08 00:00:00, 2013-04-15 00:00:00, 2013-04-22 00:00:00, 2013-05-13 00:00:00, 2013-05-20 00:00:00, 2013-05-27 00:00:00, 2013-06-03 00:00:00, 2013-06-10 00:00:00, 2013-06-17 00:00:00, 2013-06-24 00:00:00, 2013-07-01 00:00:00, 2013-07-08 00:00:00, 2013-07-15 00:00:00, 2013-07-22 00:00:00, 2013-08-05 00:00:00, 2013-08-12 00:00:00, 2013-08-19 00:00:00, 2013-08-26 00:00:00, 2013-09-02 00:00:00, 2013-09-09 00:00:00, 2013-09-16 00:00:00, 2013-09-23 00:00:00, 2013-09-30 00:00:00, 2013-10-07 00:00:00, 2013-10-14 00:00:00, 2013-10-21 00:00:00, 2013-10-28 00:00:00, 2013-11-04 00:00:00, 2013-11-11 00:00:00, 2013-11-25 00:00:00, 2013-12-02 00:00:00, 2013-12-09 00:00:00, 2013-12-16 00:00:00, 2013-12-23 00:00:00, 2013-12-30 00:00:00, 2014-01-06 00:00:00, 2014-01-13 00:00:00, 2014-01-20 00:00:00, 2014-01-27 00:00:00, 2014-02-10 00:00:00, 2014-02-17 00:00:00, 2014-02-24 00:00:00, 2014-03-10 00:00:00, 2014-03-17 00:00:00, 2014-03-24 00:00:00, 2014-03-31 00:00:00, 2014-04-07 00:00:00, 2014-04-14 00:00:00, 2014-04-21 00:00:00, 2014-04-28 00:00:00, 2014-05-05 00:00:00, 2014-05-12 00:00:00, 2014-05-19 00:00:00, 2014-06-02 00:00:00, 2014-06-09 00:00:00, 2014-06-16 00:00:00, 2014-06-23 00:00:00, 2014-06-30 00:00:00, 2014-07-07 00:00:00, 2014-07-14 00:00:00, 2014-07-21 00:00:00, 2014-07-28 00:00:00, 2014-08-04 00:00:00, 2014-08-18 00:00:00, 2014-08-25 00:00:00, 2014-09-08 00:00:00, 2014-09-15 00:00:00, 2014-09-22 00:00:00, 2014-09-29 00:00:00, 2014-10-06 00:00:00, 2014-10-13 00:00:00, 2014-10-20 00:00:00, 2014-10-27 00:00:00, 2014-11-03 00:00:00, 2014-11-10 00:00:00, 2014-11-17 00:00:00, 2014-11-24 00:00:00, 2014-12-01 00:00:00, 2014-12-08 00:00:00, 2014-12-15 00:00:00, 2014-12-22 00:00:00, 2015-01-05 00:00:00, 2015-01-12 00:00:00, 2015-01-19 00:00:00, 2015-02-02 00:00:00, 2015-02-09 00:00:00, 2015-02-16 00:00:00, 2015-02-23 00:00:00, 2015-03-09 00:00:00, 2015-03-16 00:00:00, 2015-03-23 00:00:00, 2015-03-30 00:00:00, 2015-04-06 00:00:00, 2015-04-13 00:00:00, 2015-04-20 00:00:00, 2015-04-27 00:00:00, 2015-05-04 00:00:00, 2015-05-11 00:00:00, 2015-05-25 00:00:00, 2015-06-08 00:00:00, 2015-06-15 00:00:00, 2015-06-22 00:00:00, 2015-06-29 00:00:00, 2015-07-13 00:00:00, 2015-07-20 00:00:00, 2015-07-27 00:00:00, 2015-08-17 00:00:00, 2015-08-31 00:00:00, 2015-09-07 00:00:00, 2015-09-21 00:00:00, 2015-09-28 00:00:00, 2015-10-12 00:00:00, 2015-10-19 00:00:00, 2015-10-26 00:00:00, 2015-11-09 00:00:00, 2015-11-16 00:00:00, 2015-11-30 00:00:00, 2015-12-07 00:00:00, 2015-12-14 00:00:00, 2015-12-21 00:00:00, 2015-12-28 00:00:00, 2016-01-04 00:00:00, 2016-01-18 00:00:00, 2016-01-25 00:00:00, 2016-02-01 00:00:00, 2016-02-08 00:00:00, 2016-02-15 00:00:00, 2016-02-22 00:00:00, 2016-03-14 00:00:00, 2016-03-21 00:00:00, 2016-04-04 00:00:00, 2016-04-11 00:00:00, 2016-04-18 00:00:00, 2016-04-25 00:00:00, 2016-05-09 00:00:00, 2016-05-16 00:00:00, 2016-05-23 00:00:00, 2016-05-30 00:00:00, 2016-06-06 00:00:00, 2016-06-13 00:00:00, 2016-06-27 00:00:00, 2016-07-04 00:00:00, 2016-07-11 00:00:00, 2016-07-18 00:00:00, 2016-07-25 00:00:00, 2016-08-15 00:00:00, 2016-08-22 00:00:00, 2016-08-29 00:00:00, 2016-09-12 00:00:00, 2016-09-19 00:00:00, 2016-09-26 00:00:00, 2016-10-03 00:00:00, 2016-10-10 00:00:00, 2016-10-24 00:00:00, 2016-10-31 00:00:00, 2016-11-07 00:00:00, 2016-11-14 00:00:00, 2016-11-21 00:00:00, 2016-11-28 00:00:00, 2016-12-12 00:00:00, 2016-12-19 00:00:00, 2016-12-26 00:00:00]],\n",
       "           labels=[[0, 0, 0, 0, 0, 0, 0, 0, 0, 0, 0, 0, 0, 0, 0, 0, 0, 0, 0, 0, 0, 0, 0, 0, 0, 0, 0, 0, 0, 0, 0, 0, 0, 0, 0, 0, 0, 0, 0, 0, 0, 0, 0, 0, 0, 0, 0, 0, 0, 0, 0, 0, 0, 0, 0, 0, 0, 0, 0, 0, 0, 1, 1, 1, 1, 1, 1, 1, 1, 1, 1, 1, 1, 1, 1, 1, 1, 1, 1, 1, 1, 1, 1, 1, 1, 1, 1, 1, 1, 1, 1, 1, 1, 1, 1, 1, 1, 1, 1, 1, 1, 1, 1, 1, 1, 1, 1, 1, 1, 1, 1, 1, 1, 1, 1, 1, 1, 1, 1, 1, 1, 1, 1, 1, 1, 1, 1, 1, 1, 1, 1, 1, 1, 1, 1, 1, 1, 1, 2, 2, 2, 2, 2, 2, 2, 2, 2, 2, 2, 2, 2, 2, 2, 2, 2, 2, 2, 2, 2, 2, 2, 2, 2, 2, 2, 2, 2, 2, 2, 2, 2, 2, 2, 2, 2, 2, 2, 2, 2, 2, 2, 2, 2, 2, 2, 2, 2, 2, 2, 2, 2, 2, 2, 2, 2, 2, 2, 2, 2, 2, 3, 3, 3, 3, 3, 3, 3, 3, 3, 3, 3, 3, 3, 3, 3, 3, 3, 3, 3, 3, 3, 3, 3, 3, 3, 3, 3, 3, 3, 3, 3, 3, 3, 3, 3, 3, 3, 3, 3, 3, 3, 3, 3, 3, 3, 3, 3, 3, 3, 3, 3, 3, 3, 3, 3, 3, 3, 3, 3, 3, 3, 3], [2, 4, 5, 8, 10, 11, 12, 13, 15, 17, 18, 19, 32, 34, 38, 39, 40, 41, 42, 43, 45, 52, 59, 61, 63, 69, 75, 77, 79, 85, 90, 91, 92, 94, 97, 100, 102, 103, 105, 106, 107, 113, 115, 118, 119, 120, 125, 126, 130, 131, 132, 137, 138, 147, 152, 156, 157, 161, 162, 165, 173, 7, 9, 12, 14, 19, 22, 23, 26, 27, 28, 29, 30, 33, 34, 35, 40, 41, 44, 45, 46, 49, 50, 51, 54, 57, 60, 66, 67, 68, 71, 76, 78, 80, 82, 83, 86, 88, 93, 95, 98, 99, 100, 101, 108, 109, 111, 112, 116, 118, 119, 120, 122, 123, 127, 128, 135, 136, 137, 139, 140, 142, 144, 145, 146, 150, 151, 152, 154, 158, 160, 163, 165, 168, 170, 171, 172, 174, 0, 4, 7, 9, 10, 16, 17, 19, 23, 24, 25, 26, 28, 29, 40, 43, 44, 45, 46, 47, 50, 53, 58, 59, 61, 63, 64, 65, 69, 70, 72, 75, 81, 89, 91, 95, 97, 100, 102, 104, 107, 108, 109, 117, 121, 124, 129, 133, 134, 140, 141, 142, 143, 151, 153, 156, 158, 163, 166, 167, 170, 173, 1, 3, 4, 6, 16, 17, 18, 20, 21, 24, 27, 28, 29, 31, 36, 37, 38, 47, 48, 54, 55, 56, 59, 62, 64, 66, 73, 74, 77, 78, 80, 84, 87, 88, 89, 90, 96, 98, 101, 104, 106, 110, 114, 115, 116, 120, 123, 133, 134, 139, 140, 146, 148, 149, 153, 155, 159, 164, 168, 169, 171, 174]],\n",
       "           names=['location', 'StatusDate'])"
      ]
     },
     "execution_count": 148,
     "metadata": {},
     "output_type": "execute_result"
    }
   ],
   "source": [
    "# What is the index of the Daily dataframe\n",
    "Daily.index"
   ]
  },
  {
   "cell_type": "code",
   "execution_count": 149,
   "metadata": {},
   "outputs": [
    {
     "data": {
      "text/plain": [
       "Index(['Ampang', 'Bangsar', 'Cheras', 'Petaling Jaya'], dtype='object', name='location')"
      ]
     },
     "execution_count": 149,
     "metadata": {},
     "output_type": "execute_result"
    }
   ],
   "source": [
    "# Select the location index\n",
    "Daily.index.levels[0]"
   ]
  },
  {
   "cell_type": "code",
   "execution_count": 150,
   "metadata": {},
   "outputs": [
    {
     "data": {
      "text/plain": [
       "DatetimeIndex(['2013-01-07', '2013-01-14', '2013-01-21', '2013-01-28',\n",
       "               '2013-02-04', '2013-02-11', '2013-02-18', '2013-02-25',\n",
       "               '2013-03-04', '2013-03-11',\n",
       "               ...\n",
       "               '2016-10-10', '2016-10-24', '2016-10-31', '2016-11-07',\n",
       "               '2016-11-14', '2016-11-21', '2016-11-28', '2016-12-12',\n",
       "               '2016-12-19', '2016-12-26'],\n",
       "              dtype='datetime64[ns]', name='StatusDate', length=175, freq=None)"
      ]
     },
     "execution_count": 150,
     "metadata": {},
     "output_type": "execute_result"
    }
   ],
   "source": [
    "Daily.index.levels[1]"
   ]
  },
  {
   "cell_type": "code",
   "execution_count": 151,
   "metadata": {},
   "outputs": [
    {
     "data": {
      "text/html": [
       "<div>\n",
       "<style>\n",
       "    .dataframe thead tr:only-child th {\n",
       "        text-align: right;\n",
       "    }\n",
       "\n",
       "    .dataframe thead th {\n",
       "        text-align: left;\n",
       "    }\n",
       "\n",
       "    .dataframe tbody tr th {\n",
       "        vertical-align: top;\n",
       "    }\n",
       "</style>\n",
       "<table border=\"1\" class=\"dataframe\">\n",
       "  <thead>\n",
       "    <tr>\n",
       "      <th></th>\n",
       "      <th colspan=\"4\" halign=\"left\">CustomerCount</th>\n",
       "    </tr>\n",
       "    <tr>\n",
       "      <th>location</th>\n",
       "      <th>Ampang</th>\n",
       "      <th>Bangsar</th>\n",
       "      <th>Cheras</th>\n",
       "      <th>Petaling Jaya</th>\n",
       "    </tr>\n",
       "    <tr>\n",
       "      <th>StatusDate</th>\n",
       "      <th></th>\n",
       "      <th></th>\n",
       "      <th></th>\n",
       "      <th></th>\n",
       "    </tr>\n",
       "  </thead>\n",
       "  <tbody>\n",
       "    <tr>\n",
       "      <th>2013-01-07</th>\n",
       "      <td>NaN</td>\n",
       "      <td>NaN</td>\n",
       "      <td>543.0</td>\n",
       "      <td>NaN</td>\n",
       "    </tr>\n",
       "    <tr>\n",
       "      <th>2013-01-14</th>\n",
       "      <td>NaN</td>\n",
       "      <td>NaN</td>\n",
       "      <td>NaN</td>\n",
       "      <td>652.0</td>\n",
       "    </tr>\n",
       "    <tr>\n",
       "      <th>2013-01-21</th>\n",
       "      <td>183.0</td>\n",
       "      <td>NaN</td>\n",
       "      <td>NaN</td>\n",
       "      <td>NaN</td>\n",
       "    </tr>\n",
       "    <tr>\n",
       "      <th>2013-01-28</th>\n",
       "      <td>NaN</td>\n",
       "      <td>NaN</td>\n",
       "      <td>NaN</td>\n",
       "      <td>801.0</td>\n",
       "    </tr>\n",
       "    <tr>\n",
       "      <th>2013-02-04</th>\n",
       "      <td>294.0</td>\n",
       "      <td>NaN</td>\n",
       "      <td>659.0</td>\n",
       "      <td>309.0</td>\n",
       "    </tr>\n",
       "  </tbody>\n",
       "</table>\n",
       "</div>"
      ],
      "text/plain": [
       "           CustomerCount                             \n",
       "location          Ampang Bangsar Cheras Petaling Jaya\n",
       "StatusDate                                           \n",
       "2013-01-07           NaN     NaN  543.0           NaN\n",
       "2013-01-14           NaN     NaN    NaN         652.0\n",
       "2013-01-21         183.0     NaN    NaN           NaN\n",
       "2013-01-28           NaN     NaN    NaN         801.0\n",
       "2013-02-04         294.0     NaN  659.0         309.0"
      ]
     },
     "execution_count": 151,
     "metadata": {},
     "output_type": "execute_result"
    }
   ],
   "source": [
    "# Try unstacking with 0 and 1.\n",
    "Daily.unstack(0).head()"
   ]
  },
  {
   "cell_type": "markdown",
   "metadata": {},
   "source": [
    "### Pivot Tables\n",
    "\n",
    "\n",
    "Are easy! and are akin to Excel."
   ]
  },
  {
   "cell_type": "code",
   "execution_count": 152,
   "metadata": {},
   "outputs": [
    {
     "data": {
      "text/html": [
       "<div>\n",
       "<style>\n",
       "    .dataframe thead tr:only-child th {\n",
       "        text-align: right;\n",
       "    }\n",
       "\n",
       "    .dataframe thead th {\n",
       "        text-align: left;\n",
       "    }\n",
       "\n",
       "    .dataframe tbody tr th {\n",
       "        vertical-align: top;\n",
       "    }\n",
       "</style>\n",
       "<table border=\"1\" class=\"dataframe\">\n",
       "  <thead>\n",
       "    <tr style=\"text-align: right;\">\n",
       "      <th></th>\n",
       "      <th>location</th>\n",
       "      <th>Status</th>\n",
       "      <th>CustomerCount</th>\n",
       "      <th>StatusDate</th>\n",
       "    </tr>\n",
       "  </thead>\n",
       "  <tbody>\n",
       "    <tr>\n",
       "      <th>0</th>\n",
       "      <td>Cheras</td>\n",
       "      <td>2</td>\n",
       "      <td>330</td>\n",
       "      <td>2013-01-07</td>\n",
       "    </tr>\n",
       "    <tr>\n",
       "      <th>1</th>\n",
       "      <td>Bangsar</td>\n",
       "      <td>1</td>\n",
       "      <td>295</td>\n",
       "      <td>2013-01-14</td>\n",
       "    </tr>\n",
       "    <tr>\n",
       "      <th>2</th>\n",
       "      <td>Bangsar</td>\n",
       "      <td>3</td>\n",
       "      <td>559</td>\n",
       "      <td>2013-01-21</td>\n",
       "    </tr>\n",
       "    <tr>\n",
       "      <th>3</th>\n",
       "      <td>Cheras</td>\n",
       "      <td>3</td>\n",
       "      <td>941</td>\n",
       "      <td>2013-01-28</td>\n",
       "    </tr>\n",
       "    <tr>\n",
       "      <th>4</th>\n",
       "      <td>Petaling Jaya</td>\n",
       "      <td>3</td>\n",
       "      <td>271</td>\n",
       "      <td>2013-02-04</td>\n",
       "    </tr>\n",
       "  </tbody>\n",
       "</table>\n",
       "</div>"
      ],
      "text/plain": [
       "        location  Status  CustomerCount StatusDate\n",
       "0         Cheras       2            330 2013-01-07\n",
       "1        Bangsar       1            295 2013-01-14\n",
       "2        Bangsar       3            559 2013-01-21\n",
       "3         Cheras       3            941 2013-01-28\n",
       "4  Petaling Jaya       3            271 2013-02-04"
      ]
     },
     "execution_count": 152,
     "metadata": {},
     "output_type": "execute_result"
    }
   ],
   "source": [
    "# Let's Create the data set again.\n",
    "dataset = CreateDataSet(4)\n",
    "df = pd.DataFrame(data=dataset, columns=['location','Status','CustomerCount','StatusDate'])\n",
    "df.head(5)"
   ]
  },
  {
   "cell_type": "code",
   "execution_count": 153,
   "metadata": {},
   "outputs": [
    {
     "data": {
      "text/html": [
       "<div>\n",
       "<style>\n",
       "    .dataframe thead tr:only-child th {\n",
       "        text-align: right;\n",
       "    }\n",
       "\n",
       "    .dataframe thead th {\n",
       "        text-align: left;\n",
       "    }\n",
       "\n",
       "    .dataframe tbody tr th {\n",
       "        vertical-align: top;\n",
       "    }\n",
       "</style>\n",
       "<table border=\"1\" class=\"dataframe\">\n",
       "  <thead>\n",
       "    <tr style=\"text-align: right;\">\n",
       "      <th></th>\n",
       "      <th>location</th>\n",
       "      <th>Ampang</th>\n",
       "      <th>Bangsar</th>\n",
       "      <th>Cheras</th>\n",
       "      <th>Petaling Jaya</th>\n",
       "    </tr>\n",
       "    <tr>\n",
       "      <th>StatusDate</th>\n",
       "      <th>Status</th>\n",
       "      <th></th>\n",
       "      <th></th>\n",
       "      <th></th>\n",
       "      <th></th>\n",
       "    </tr>\n",
       "  </thead>\n",
       "  <tbody>\n",
       "    <tr>\n",
       "      <th rowspan=\"3\" valign=\"top\">2013-01-07</th>\n",
       "      <th>1</th>\n",
       "      <td>725.0</td>\n",
       "      <td>NaN</td>\n",
       "      <td>NaN</td>\n",
       "      <td>NaN</td>\n",
       "    </tr>\n",
       "    <tr>\n",
       "      <th>2</th>\n",
       "      <td>NaN</td>\n",
       "      <td>NaN</td>\n",
       "      <td>330.0</td>\n",
       "      <td>NaN</td>\n",
       "    </tr>\n",
       "    <tr>\n",
       "      <th>3</th>\n",
       "      <td>NaN</td>\n",
       "      <td>291.0</td>\n",
       "      <td>NaN</td>\n",
       "      <td>NaN</td>\n",
       "    </tr>\n",
       "    <tr>\n",
       "      <th rowspan=\"2\" valign=\"top\">2013-01-14</th>\n",
       "      <th>1</th>\n",
       "      <td>NaN</td>\n",
       "      <td>295.0</td>\n",
       "      <td>NaN</td>\n",
       "      <td>NaN</td>\n",
       "    </tr>\n",
       "    <tr>\n",
       "      <th>2</th>\n",
       "      <td>494.0</td>\n",
       "      <td>360.5</td>\n",
       "      <td>NaN</td>\n",
       "      <td>NaN</td>\n",
       "    </tr>\n",
       "  </tbody>\n",
       "</table>\n",
       "</div>"
      ],
      "text/plain": [
       "location           Ampang  Bangsar  Cheras  Petaling Jaya\n",
       "StatusDate Status                                        \n",
       "2013-01-07 1        725.0      NaN     NaN            NaN\n",
       "           2          NaN      NaN   330.0            NaN\n",
       "           3          NaN    291.0     NaN            NaN\n",
       "2013-01-14 1          NaN    295.0     NaN            NaN\n",
       "           2        494.0    360.5     NaN            NaN"
      ]
     },
     "execution_count": 153,
     "metadata": {},
     "output_type": "execute_result"
    }
   ],
   "source": [
    "pd.pivot_table(df, values = 'CustomerCount', \n",
    "               index = ['StatusDate','Status'],\n",
    "               columns = ['location']).head()"
   ]
  },
  {
   "cell_type": "code",
   "execution_count": 154,
   "metadata": {},
   "outputs": [
    {
     "data": {
      "text/html": [
       "<div>\n",
       "<style>\n",
       "    .dataframe thead tr:only-child th {\n",
       "        text-align: right;\n",
       "    }\n",
       "\n",
       "    .dataframe thead th {\n",
       "        text-align: left;\n",
       "    }\n",
       "\n",
       "    .dataframe tbody tr th {\n",
       "        vertical-align: top;\n",
       "    }\n",
       "</style>\n",
       "<table border=\"1\" class=\"dataframe\">\n",
       "  <thead>\n",
       "    <tr style=\"text-align: right;\">\n",
       "      <th></th>\n",
       "      <th>Status</th>\n",
       "      <th>1</th>\n",
       "      <th>2</th>\n",
       "      <th>3</th>\n",
       "    </tr>\n",
       "    <tr>\n",
       "      <th>StatusDate</th>\n",
       "      <th>location</th>\n",
       "      <th></th>\n",
       "      <th></th>\n",
       "      <th></th>\n",
       "    </tr>\n",
       "  </thead>\n",
       "  <tbody>\n",
       "    <tr>\n",
       "      <th rowspan=\"3\" valign=\"top\">2013-01-07</th>\n",
       "      <th>Ampang</th>\n",
       "      <td>725.0</td>\n",
       "      <td>NaN</td>\n",
       "      <td>NaN</td>\n",
       "    </tr>\n",
       "    <tr>\n",
       "      <th>Bangsar</th>\n",
       "      <td>NaN</td>\n",
       "      <td>NaN</td>\n",
       "      <td>291.0</td>\n",
       "    </tr>\n",
       "    <tr>\n",
       "      <th>Cheras</th>\n",
       "      <td>NaN</td>\n",
       "      <td>330.0</td>\n",
       "      <td>NaN</td>\n",
       "    </tr>\n",
       "    <tr>\n",
       "      <th rowspan=\"2\" valign=\"top\">2013-01-14</th>\n",
       "      <th>Ampang</th>\n",
       "      <td>NaN</td>\n",
       "      <td>494.0</td>\n",
       "      <td>NaN</td>\n",
       "    </tr>\n",
       "    <tr>\n",
       "      <th>Bangsar</th>\n",
       "      <td>295.0</td>\n",
       "      <td>360.5</td>\n",
       "      <td>NaN</td>\n",
       "    </tr>\n",
       "  </tbody>\n",
       "</table>\n",
       "</div>"
      ],
      "text/plain": [
       "Status                   1      2      3\n",
       "StatusDate location                     \n",
       "2013-01-07 Ampang    725.0    NaN    NaN\n",
       "           Bangsar     NaN    NaN  291.0\n",
       "           Cheras      NaN  330.0    NaN\n",
       "2013-01-14 Ampang      NaN  494.0    NaN\n",
       "           Bangsar   295.0  360.5    NaN"
      ]
     },
     "execution_count": 154,
     "metadata": {},
     "output_type": "execute_result"
    }
   ],
   "source": [
    "pd.pivot_table(df, values = 'CustomerCount', \n",
    "               index = ['StatusDate','location'],\n",
    "               columns = ['Status']).head()"
   ]
  },
  {
   "cell_type": "markdown",
   "metadata": {},
   "source": [
    "## Example Analysis"
   ]
  },
  {
   "cell_type": "markdown",
   "metadata": {},
   "source": [
    "Lets now plot the data per location.  \n",
    "\n",
    "As you can see by breaking the graph up by the ***location*** column we have a much clearer picture on how the data looks like. Can you spot any outliers?"
   ]
  },
  {
   "cell_type": "code",
   "execution_count": 155,
   "metadata": {},
   "outputs": [
    {
     "data": {
      "text/html": [
       "<div>\n",
       "<style>\n",
       "    .dataframe thead tr:only-child th {\n",
       "        text-align: right;\n",
       "    }\n",
       "\n",
       "    .dataframe thead th {\n",
       "        text-align: left;\n",
       "    }\n",
       "\n",
       "    .dataframe tbody tr th {\n",
       "        vertical-align: top;\n",
       "    }\n",
       "</style>\n",
       "<table border=\"1\" class=\"dataframe\">\n",
       "  <thead>\n",
       "    <tr style=\"text-align: right;\">\n",
       "      <th></th>\n",
       "      <th></th>\n",
       "      <th>CustomerCount</th>\n",
       "    </tr>\n",
       "    <tr>\n",
       "      <th>location</th>\n",
       "      <th>StatusDate</th>\n",
       "      <th></th>\n",
       "    </tr>\n",
       "  </thead>\n",
       "  <tbody>\n",
       "    <tr>\n",
       "      <th rowspan=\"5\" valign=\"top\">Ampang</th>\n",
       "      <th>2013-01-21</th>\n",
       "      <td>183</td>\n",
       "    </tr>\n",
       "    <tr>\n",
       "      <th>2013-02-04</th>\n",
       "      <td>294</td>\n",
       "    </tr>\n",
       "    <tr>\n",
       "      <th>2013-02-11</th>\n",
       "      <td>942</td>\n",
       "    </tr>\n",
       "    <tr>\n",
       "      <th>2013-03-04</th>\n",
       "      <td>149</td>\n",
       "    </tr>\n",
       "    <tr>\n",
       "      <th>2013-03-18</th>\n",
       "      <td>983</td>\n",
       "    </tr>\n",
       "  </tbody>\n",
       "</table>\n",
       "</div>"
      ],
      "text/plain": [
       "                     CustomerCount\n",
       "location StatusDate               \n",
       "Ampang   2013-01-21            183\n",
       "         2013-02-04            294\n",
       "         2013-02-11            942\n",
       "         2013-03-04            149\n",
       "         2013-03-18            983"
      ]
     },
     "execution_count": 155,
     "metadata": {},
     "output_type": "execute_result"
    }
   ],
   "source": [
    "Daily.head()"
   ]
  },
  {
   "cell_type": "code",
   "execution_count": 156,
   "metadata": {},
   "outputs": [
    {
     "name": "stdout",
     "output_type": "stream",
     "text": [
      "Ampang\n"
     ]
    },
    {
     "data": {
      "image/png": "[encoded data removed]",
      "text/plain": [
       "<matplotlib.figure.Figure at 0x2b1d54bda90>"
      ]
     },
     "metadata": {},
     "output_type": "display_data"
    },
    {
     "name": "stdout",
     "output_type": "stream",
     "text": [
      "Bangsar\n"
     ]
    },
    {
     "data": {
      "image/png": "[encoded data removed]",
      "text/plain": [
       "<matplotlib.figure.Figure at 0x2b1d54e7240>"
      ]
     },
     "metadata": {},
     "output_type": "display_data"
    },
    {
     "name": "stdout",
     "output_type": "stream",
     "text": [
      "Cheras\n"
     ]
    },
    {
     "data": {
      "image/png": "[encoded data removed]",
      "text/plain": [
       "<matplotlib.figure.Figure at 0x2b1d52f9588>"
      ]
     },
     "metadata": {},
     "output_type": "display_data"
    },
    {
     "name": "stdout",
     "output_type": "stream",
     "text": [
      "Petaling Jaya\n"
     ]
    },
    {
     "data": {
      "image/png": "[encoded data removed]",
      "text/plain": [
       "<matplotlib.figure.Figure at 0x2b1d4e16ba8>"
      ]
     },
     "metadata": {},
     "output_type": "display_data"
    }
   ],
   "source": [
    "for place in Daily.index.levels[0]:\n",
    "    print(place)\n",
    "    Daily.loc[place].plot()\n",
    "    plt.show();"
   ]
  },
  {
   "cell_type": "markdown",
   "metadata": {},
   "source": [
    "We will assume that per month the customer count should remain relatively steady. Any data outside a specific range in that month will be removed from the data set. The final result should have smooth graphs with no spikes.  \n",
    "\n",
    "***LocationYearMonth*** - Here we group by location, Year of StatusDate, and Month of StatusDate.  \n",
    "***Daily['Outlier']*** - A boolean (True or False) value letting us know if the value in the CustomerCount column is ouside the acceptable range.  \n",
    "\n",
    "We will be using the attribute ***transform*** instead of ***apply***. The reason is that transform will keep the shape(# of rows and columns) of the dataframe the same and apply will not. By looking at the previous graphs, we can realize they are not resembling a gaussian distribution, this means we cannot use summary statistics like the mean and stDev. We use percentiles instead. Note that we run the risk of eliminating good data."
   ]
  },
  {
   "cell_type": "code",
   "execution_count": 157,
   "metadata": {
    "collapsed": true
   },
   "outputs": [],
   "source": [
    "# Calculate Outliers\n",
    "LocationYearMonth = Daily.groupby([Daily.index.get_level_values(0), \n",
    "                                   Daily.index.get_level_values(1).year, \n",
    "                                   Daily.index.get_level_values(1).month])\n",
    "\n",
    "Daily['Lower'] = LocationYearMonth['CustomerCount'].transform( \n",
    "    lambda x: x.quantile(q=.25) - (1.5*x.quantile(q=.75)-x.quantile(\n",
    "        q=.25)) )\n",
    "\n",
    "Daily['Upper'] = LocationYearMonth['CustomerCount'].transform( \n",
    "    lambda x: x.quantile(q=.75) + (1.5*x.quantile(q=.75)-x.quantile(\n",
    "        q=.25)) )\n",
    "\n",
    "Daily['Outlier'] = (Daily['CustomerCount'] < Daily['Lower']) | (Daily['CustomerCount'] > Daily['Upper']) \n",
    "\n",
    "# Remove Outliers\n",
    "Daily = Daily[Daily['Outlier'] == False]"
   ]
  },
  {
   "cell_type": "code",
   "execution_count": 158,
   "metadata": {},
   "outputs": [
    {
     "data": {
      "text/plain": [
       "<pandas.core.groupby.DataFrameGroupBy object at 0x000002B1D50BB198>"
      ]
     },
     "execution_count": 158,
     "metadata": {},
     "output_type": "execute_result"
    }
   ],
   "source": [
    "LocationYearMonth"
   ]
  },
  {
   "cell_type": "markdown",
   "metadata": {},
   "source": [
    "The dataframe named ***Daily*** will hold customer counts that have been aggregated per day. The original data (df) has multiple records per day.  We are left with a data set that is indexed by both the state and the StatusDate. The Outlier column should be equal to ***False*** signifying that the record is not an outlier."
   ]
  },
  {
   "cell_type": "code",
   "execution_count": 159,
   "metadata": {},
   "outputs": [
    {
     "data": {
      "text/html": [
       "<div>\n",
       "<style>\n",
       "    .dataframe thead tr:only-child th {\n",
       "        text-align: right;\n",
       "    }\n",
       "\n",
       "    .dataframe thead th {\n",
       "        text-align: left;\n",
       "    }\n",
       "\n",
       "    .dataframe tbody tr th {\n",
       "        vertical-align: top;\n",
       "    }\n",
       "</style>\n",
       "<table border=\"1\" class=\"dataframe\">\n",
       "  <thead>\n",
       "    <tr style=\"text-align: right;\">\n",
       "      <th></th>\n",
       "      <th></th>\n",
       "      <th>CustomerCount</th>\n",
       "      <th>Lower</th>\n",
       "      <th>Upper</th>\n",
       "      <th>Outlier</th>\n",
       "    </tr>\n",
       "    <tr>\n",
       "      <th>location</th>\n",
       "      <th>StatusDate</th>\n",
       "      <th></th>\n",
       "      <th></th>\n",
       "      <th></th>\n",
       "      <th></th>\n",
       "    </tr>\n",
       "  </thead>\n",
       "  <tbody>\n",
       "    <tr>\n",
       "      <th rowspan=\"5\" valign=\"top\">Ampang</th>\n",
       "      <th>2013-01-21</th>\n",
       "      <td>183</td>\n",
       "      <td>91.5</td>\n",
       "      <td>274.5</td>\n",
       "      <td>False</td>\n",
       "    </tr>\n",
       "    <tr>\n",
       "      <th>2013-02-04</th>\n",
       "      <td>294</td>\n",
       "      <td>-258.0</td>\n",
       "      <td>1494.0</td>\n",
       "      <td>False</td>\n",
       "    </tr>\n",
       "    <tr>\n",
       "      <th>2013-02-11</th>\n",
       "      <td>942</td>\n",
       "      <td>-258.0</td>\n",
       "      <td>1494.0</td>\n",
       "      <td>False</td>\n",
       "    </tr>\n",
       "    <tr>\n",
       "      <th>2013-03-04</th>\n",
       "      <td>149</td>\n",
       "      <td>-543.5</td>\n",
       "      <td>1288.5</td>\n",
       "      <td>False</td>\n",
       "    </tr>\n",
       "    <tr>\n",
       "      <th>2013-03-18</th>\n",
       "      <td>983</td>\n",
       "      <td>-543.5</td>\n",
       "      <td>1288.5</td>\n",
       "      <td>False</td>\n",
       "    </tr>\n",
       "  </tbody>\n",
       "</table>\n",
       "</div>"
      ],
      "text/plain": [
       "                     CustomerCount  Lower   Upper  Outlier\n",
       "location StatusDate                                       \n",
       "Ampang   2013-01-21            183   91.5   274.5    False\n",
       "         2013-02-04            294 -258.0  1494.0    False\n",
       "         2013-02-11            942 -258.0  1494.0    False\n",
       "         2013-03-04            149 -543.5  1288.5    False\n",
       "         2013-03-18            983 -543.5  1288.5    False"
      ]
     },
     "execution_count": 159,
     "metadata": {},
     "output_type": "execute_result"
    }
   ],
   "source": [
    "Daily.head()"
   ]
  },
  {
   "cell_type": "markdown",
   "metadata": {
    "collapsed": true
   },
   "source": [
    "We create a separate dataframe named ***ALL*** which groups the Daily dataframe by StatusDate. We are essentially getting rid of the ***Location*** column. The ***Max*** column represents the maximum customer count per month. The ***Max*** column is used to smooth out the graph."
   ]
  },
  {
   "cell_type": "code",
   "execution_count": 160,
   "metadata": {},
   "outputs": [
    {
     "data": {
      "text/html": [
       "<div>\n",
       "<style>\n",
       "    .dataframe thead tr:only-child th {\n",
       "        text-align: right;\n",
       "    }\n",
       "\n",
       "    .dataframe thead th {\n",
       "        text-align: left;\n",
       "    }\n",
       "\n",
       "    .dataframe tbody tr th {\n",
       "        vertical-align: top;\n",
       "    }\n",
       "</style>\n",
       "<table border=\"1\" class=\"dataframe\">\n",
       "  <thead>\n",
       "    <tr style=\"text-align: right;\">\n",
       "      <th></th>\n",
       "      <th>CustomerCount</th>\n",
       "      <th>Max</th>\n",
       "    </tr>\n",
       "    <tr>\n",
       "      <th>StatusDate</th>\n",
       "      <th></th>\n",
       "      <th></th>\n",
       "    </tr>\n",
       "  </thead>\n",
       "  <tbody>\n",
       "    <tr>\n",
       "      <th>2013-01-07</th>\n",
       "      <td>543</td>\n",
       "      <td>801</td>\n",
       "    </tr>\n",
       "    <tr>\n",
       "      <th>2013-01-14</th>\n",
       "      <td>652</td>\n",
       "      <td>801</td>\n",
       "    </tr>\n",
       "    <tr>\n",
       "      <th>2013-01-21</th>\n",
       "      <td>183</td>\n",
       "      <td>801</td>\n",
       "    </tr>\n",
       "    <tr>\n",
       "      <th>2013-01-28</th>\n",
       "      <td>801</td>\n",
       "      <td>801</td>\n",
       "    </tr>\n",
       "    <tr>\n",
       "      <th>2013-02-04</th>\n",
       "      <td>1262</td>\n",
       "      <td>1262</td>\n",
       "    </tr>\n",
       "  </tbody>\n",
       "</table>\n",
       "</div>"
      ],
      "text/plain": [
       "            CustomerCount   Max\n",
       "StatusDate                     \n",
       "2013-01-07            543   801\n",
       "2013-01-14            652   801\n",
       "2013-01-21            183   801\n",
       "2013-01-28            801   801\n",
       "2013-02-04           1262  1262"
      ]
     },
     "execution_count": 160,
     "metadata": {},
     "output_type": "execute_result"
    }
   ],
   "source": [
    "# Combine all markets\n",
    "\n",
    "# Get the max customer count by Date\n",
    "ALL = pd.DataFrame(Daily['CustomerCount'].groupby(Daily.index.get_level_values(1)).sum())\n",
    "ALL.columns = ['CustomerCount'] # rename column\n",
    "\n",
    "# Group by Year and Month\n",
    "YearMonth = ALL.groupby([lambda x: x.year, lambda x: x.month])\n",
    "\n",
    "# What is the max customer count per Year and Month\n",
    "ALL['Max'] = YearMonth['CustomerCount'].transform(lambda x: x.max())\n",
    "ALL.head()"
   ]
  },
  {
   "cell_type": "code",
   "execution_count": 161,
   "metadata": {},
   "outputs": [
    {
     "data": {
      "text/plain": [
       "(175, 2)"
      ]
     },
     "execution_count": 161,
     "metadata": {},
     "output_type": "execute_result"
    }
   ],
   "source": [
    "ALL.shape"
   ]
  },
  {
   "cell_type": "markdown",
   "metadata": {},
   "source": [
    "As you can see from the ***ALL*** dataframe above, in the month of Jan 2013, the maximum customer count was 1702. If we had used ***apply***, we would have got a dataframe with (Year and Month) as the index and just the *Max* column with the value of 1702. \n",
    "\n",
    "\n",
    "----------------------------------  \n",
    "There is also an interest to gauge if the current customer counts were reaching certain goals the company had established. The task here is to visually show if the current customer counts are meeting the goals listed below. We will call the goals ***BHAG*** (Big Hairy Annual Goal).  \n",
    "\n",
    "* 12/31/2015 - 1,000 customers  \n",
    "* 12/31/2016 - 2,000 customers  \n",
    "* 12/31/2017 - 3,000 customers  \n",
    "\n",
    "We will be using the **date_range** function to create our dates.  \n",
    "\n",
    "***Definition:*** date_range(start=None, end=None, periods=None, freq='D', tz=None, normalize=False, name=None, closed=None)  \n",
    "***Docstring:*** Return a fixed frequency datetime index, with day (calendar) as the default frequency  \n",
    "\n",
    "By choosing the frequency to be ***A*** or annual we will be able to get the three target dates from above."
   ]
  },
  {
   "cell_type": "code",
   "execution_count": 162,
   "metadata": {
    "collapsed": true
   },
   "outputs": [],
   "source": [
    "pd.date_range?"
   ]
  },
  {
   "cell_type": "markdown",
   "metadata": {},
   "source": [
    "# Presenting Data  \n",
    "\n",
    "Create individual Graphs for each location"
   ]
  },
  {
   "cell_type": "code",
   "execution_count": 163,
   "metadata": {},
   "outputs": [
    {
     "data": {
      "text/plain": [
       "array(['Cheras', 'Bangsar', 'Petaling Jaya', 'Ampang'], dtype=object)"
      ]
     },
     "execution_count": 163,
     "metadata": {},
     "output_type": "execute_result"
    }
   ],
   "source": [
    "df['location'].unique()"
   ]
  },
  {
   "cell_type": "code",
   "execution_count": 164,
   "metadata": {
    "scrolled": false
   },
   "outputs": [
    {
     "data": {
      "image/png": "[encoded data removed]",
      "text/plain": [
       "<matplotlib.figure.Figure at 0x2b1d50bbfd0>"
      ]
     },
     "metadata": {},
     "output_type": "display_data"
    },
    {
     "data": {
      "image/png": "[encoded data removed]",
      "text/plain": [
       "<matplotlib.figure.Figure at 0x2b1d4f1c668>"
      ]
     },
     "metadata": {},
     "output_type": "display_data"
    }
   ],
   "source": [
    "\n",
    "# First Graph\n",
    "ALL['Max'].plot(figsize=(10, 5));plt.title('ALL Markets')\n",
    "\n",
    "# Last four Graphs\n",
    "fig, axes = plt.subplots(nrows=2, ncols=2, figsize=(20, 10))\n",
    "fig.subplots_adjust(hspace=1.0) ## Create space between plots\n",
    "\n",
    "Daily.loc['Bangsar']['CustomerCount']['2016':].fillna(\n",
    "    method='pad').plot(ax=axes[0,0])\n",
    "Daily.loc['Petaling Jaya']['CustomerCount']['2016':].fillna(\n",
    "    method='pad').plot(ax=axes[0,1]) \n",
    "Daily.loc['Ampang']['CustomerCount']['2016':].fillna(\n",
    "    method='pad').plot(ax=axes[1,0]) \n",
    "Daily.loc['Cheras']['CustomerCount']['2016':].fillna(\n",
    "    method='pad').plot(ax=axes[1,1]) \n",
    "\n",
    "\n",
    "\n",
    "# Add titles\n",
    "axes[0,0].set_title('Bangsar')\n",
    "axes[0,1].set_title('Petaling Jaya')\n",
    "axes[1,0].set_title('Ampang')\n",
    "axes[1,1].set_title('Cheras')\n",
    "plt.show();"
   ]
  },
  {
   "cell_type": "markdown",
   "metadata": {},
   "source": [
    "## Summary\n",
    "\n",
    "Pandas provides a \"batteries-included\" basic data analysis:\n",
    "  - **Loading data:** `read_csv`, `read_table`, `read_sql`, and `read_html`\n",
    "  - **Selection, filtering, and aggregation** (i.e., SQL-type operations): There's a special syntax for `SELECT`ing.  There's the `merge` method for `JOIN`ing.  There's also an easy syntax for what in SQL is a mouthful: Creating a new column whose value is computed from other column -- with the bonus that now the computations can use the full power of Python (though it might be faster if it didn't).\n",
    "  - **\"Pivot table\" style aggregation**: If you're an Excel cognosceti, you may appreciate this.\n",
    "  - **NA handling**: Like R's data frames, there is good support for transforming NA values with default values / averaging tricks / etc.\n",
    "  - **Basic statistics:** e.g. `mean`, `median`, `max`, `min`, and the convenient `describe`.\n",
    "  - **Plugging into more advanced analytics:** Okay, this isn't batteries included.  But still, it plays reasonably with `sklearn`.\n",
    "  - **Visualization:** For instance `plot` and `hist`.\n",
    "  \n",
    "Plugging into more advanced analytics\n",
    "-------\n",
    "Almost any \"advanced analytics\" tool in the Python ecosystem is going to take as input `np.array` type arrays.  You can access the underlying array of a data frame column as\n",
    "\n",
    "        df['column'].values\n",
    "        \n",
    "Many of them take `nd.array` whose underlying data can be accessed by \n",
    "\n",
    "        df.values\n",
    "        \n",
    "directly.  *Most* of the time, they will take `df['column']` and `df` without needing to look at values.\n",
    "\n",
    "This is particularly important if you want to use Pandas with the sklearn library. See this [blog post](http://www.markhneedham.com/blog/2013/11/09/python-making-scikit-learn-and-pandas-play-nice/) for an example."
   ]
  }
 ],
 "metadata": {
  "anaconda-cloud": {},
  "kernelspec": {
   "display_name": "Python 3",
   "language": "python",
   "name": "python3"
  },
  "language_info": {
   "codemirror_mode": {
    "name": "ipython",
    "version": 3
   },
   "file_extension": ".py",
   "mimetype": "text/x-python",
   "name": "python",
   "nbconvert_exporter": "python",
   "pygments_lexer": "ipython3",
   "version": "3.6.2"
  }
 },
 "nbformat": 4,
 "nbformat_minor": 1
}
