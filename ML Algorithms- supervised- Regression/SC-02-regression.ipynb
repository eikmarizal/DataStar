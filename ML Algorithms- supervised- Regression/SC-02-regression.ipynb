{
 "cells": [
  {
   "cell_type": "markdown",
   "metadata": {},
   "source": [
    "![](http://thecads.org/wp-content/uploads/2017/02/adax_logo.jpg)\n",
    "# Module 2: Regression\n",
    "\n",
    "## Life Satisfaction vs. GDP Revisted\n",
    "Let's revisit our previous take-home exercise of attempting to find the relationship between the Life Satisfaction data (from OECD) and GDP per capita data (from IMF). This relationship can be captured by modeling it as a regression problem.\n",
    "\n",
    "The goal was to find out if people were really happy and satisfied when their country is doing well economically. "
   ]
  },
  {
   "cell_type": "code",
   "execution_count": 1,
   "metadata": {
    "collapsed": true
   },
   "outputs": [],
   "source": [
    "# Common imports\n",
    "import numpy as np\n",
    "import pandas as pd\n",
    "import os\n",
    "from IPython.display import display\n",
    "\n",
    "# To plot pretty figures\n",
    "%matplotlib inline\n",
    "import matplotlib\n",
    "import matplotlib.pyplot as plt\n",
    "plt.rcParams['axes.labelsize'] = 14\n",
    "plt.rcParams['xtick.labelsize'] = 12\n",
    "plt.rcParams['ytick.labelsize'] = 12"
   ]
  },
  {
   "cell_type": "markdown",
   "metadata": {},
   "source": [
    "### Load Data\n",
    "\n",
    "Load data from their respective CSV files."
   ]
  },
  {
   "cell_type": "code",
   "execution_count": 2,
   "metadata": {},
   "outputs": [
    {
     "data": {
      "text/html": [
       "<div>\n",
       "<style>\n",
       "    .dataframe thead tr:only-child th {\n",
       "        text-align: right;\n",
       "    }\n",
       "\n",
       "    .dataframe thead th {\n",
       "        text-align: left;\n",
       "    }\n",
       "\n",
       "    .dataframe tbody tr th {\n",
       "        vertical-align: top;\n",
       "    }\n",
       "</style>\n",
       "<table border=\"1\" class=\"dataframe\">\n",
       "  <thead>\n",
       "    <tr style=\"text-align: right;\">\n",
       "      <th>Indicator</th>\n",
       "      <th>Air pollution</th>\n",
       "      <th>Assault rate</th>\n",
       "      <th>Consultation on rule-making</th>\n",
       "      <th>Dwellings without basic facilities</th>\n",
       "      <th>Educational attainment</th>\n",
       "      <th>Employees working very long hours</th>\n",
       "      <th>Employment rate</th>\n",
       "      <th>Homicide rate</th>\n",
       "      <th>Household net adjusted disposable income</th>\n",
       "      <th>Household net financial wealth</th>\n",
       "      <th>...</th>\n",
       "      <th>Long-term unemployment rate</th>\n",
       "      <th>Personal earnings</th>\n",
       "      <th>Quality of support network</th>\n",
       "      <th>Rooms per person</th>\n",
       "      <th>Self-reported health</th>\n",
       "      <th>Student skills</th>\n",
       "      <th>Time devoted to leisure and personal care</th>\n",
       "      <th>Voter turnout</th>\n",
       "      <th>Water quality</th>\n",
       "      <th>Years in education</th>\n",
       "    </tr>\n",
       "    <tr>\n",
       "      <th>Country</th>\n",
       "      <th></th>\n",
       "      <th></th>\n",
       "      <th></th>\n",
       "      <th></th>\n",
       "      <th></th>\n",
       "      <th></th>\n",
       "      <th></th>\n",
       "      <th></th>\n",
       "      <th></th>\n",
       "      <th></th>\n",
       "      <th></th>\n",
       "      <th></th>\n",
       "      <th></th>\n",
       "      <th></th>\n",
       "      <th></th>\n",
       "      <th></th>\n",
       "      <th></th>\n",
       "      <th></th>\n",
       "      <th></th>\n",
       "      <th></th>\n",
       "      <th></th>\n",
       "    </tr>\n",
       "  </thead>\n",
       "  <tbody>\n",
       "    <tr>\n",
       "      <th>Australia</th>\n",
       "      <td>13.0</td>\n",
       "      <td>2.1</td>\n",
       "      <td>10.5</td>\n",
       "      <td>1.1</td>\n",
       "      <td>76.0</td>\n",
       "      <td>14.02</td>\n",
       "      <td>72.0</td>\n",
       "      <td>0.8</td>\n",
       "      <td>31588.0</td>\n",
       "      <td>47657.0</td>\n",
       "      <td>...</td>\n",
       "      <td>1.08</td>\n",
       "      <td>50449.0</td>\n",
       "      <td>92.0</td>\n",
       "      <td>2.3</td>\n",
       "      <td>85.0</td>\n",
       "      <td>512.0</td>\n",
       "      <td>14.41</td>\n",
       "      <td>93.0</td>\n",
       "      <td>91.0</td>\n",
       "      <td>19.4</td>\n",
       "    </tr>\n",
       "    <tr>\n",
       "      <th>Austria</th>\n",
       "      <td>27.0</td>\n",
       "      <td>3.4</td>\n",
       "      <td>7.1</td>\n",
       "      <td>1.0</td>\n",
       "      <td>83.0</td>\n",
       "      <td>7.61</td>\n",
       "      <td>72.0</td>\n",
       "      <td>0.4</td>\n",
       "      <td>31173.0</td>\n",
       "      <td>49887.0</td>\n",
       "      <td>...</td>\n",
       "      <td>1.19</td>\n",
       "      <td>45199.0</td>\n",
       "      <td>89.0</td>\n",
       "      <td>1.6</td>\n",
       "      <td>69.0</td>\n",
       "      <td>500.0</td>\n",
       "      <td>14.46</td>\n",
       "      <td>75.0</td>\n",
       "      <td>94.0</td>\n",
       "      <td>17.0</td>\n",
       "    </tr>\n",
       "    <tr>\n",
       "      <th>Belgium</th>\n",
       "      <td>21.0</td>\n",
       "      <td>6.6</td>\n",
       "      <td>4.5</td>\n",
       "      <td>2.0</td>\n",
       "      <td>72.0</td>\n",
       "      <td>4.57</td>\n",
       "      <td>62.0</td>\n",
       "      <td>1.1</td>\n",
       "      <td>28307.0</td>\n",
       "      <td>83876.0</td>\n",
       "      <td>...</td>\n",
       "      <td>3.88</td>\n",
       "      <td>48082.0</td>\n",
       "      <td>94.0</td>\n",
       "      <td>2.2</td>\n",
       "      <td>74.0</td>\n",
       "      <td>509.0</td>\n",
       "      <td>15.71</td>\n",
       "      <td>89.0</td>\n",
       "      <td>87.0</td>\n",
       "      <td>18.9</td>\n",
       "    </tr>\n",
       "    <tr>\n",
       "      <th>Brazil</th>\n",
       "      <td>18.0</td>\n",
       "      <td>7.9</td>\n",
       "      <td>4.0</td>\n",
       "      <td>6.7</td>\n",
       "      <td>45.0</td>\n",
       "      <td>10.41</td>\n",
       "      <td>67.0</td>\n",
       "      <td>25.5</td>\n",
       "      <td>11664.0</td>\n",
       "      <td>6844.0</td>\n",
       "      <td>...</td>\n",
       "      <td>1.97</td>\n",
       "      <td>17177.0</td>\n",
       "      <td>90.0</td>\n",
       "      <td>1.6</td>\n",
       "      <td>69.0</td>\n",
       "      <td>402.0</td>\n",
       "      <td>14.97</td>\n",
       "      <td>79.0</td>\n",
       "      <td>72.0</td>\n",
       "      <td>16.3</td>\n",
       "    </tr>\n",
       "    <tr>\n",
       "      <th>Canada</th>\n",
       "      <td>15.0</td>\n",
       "      <td>1.3</td>\n",
       "      <td>10.5</td>\n",
       "      <td>0.2</td>\n",
       "      <td>89.0</td>\n",
       "      <td>3.94</td>\n",
       "      <td>72.0</td>\n",
       "      <td>1.5</td>\n",
       "      <td>29365.0</td>\n",
       "      <td>67913.0</td>\n",
       "      <td>...</td>\n",
       "      <td>0.90</td>\n",
       "      <td>46911.0</td>\n",
       "      <td>92.0</td>\n",
       "      <td>2.5</td>\n",
       "      <td>89.0</td>\n",
       "      <td>522.0</td>\n",
       "      <td>14.25</td>\n",
       "      <td>61.0</td>\n",
       "      <td>91.0</td>\n",
       "      <td>17.2</td>\n",
       "    </tr>\n",
       "    <tr>\n",
       "      <th>Chile</th>\n",
       "      <td>46.0</td>\n",
       "      <td>6.9</td>\n",
       "      <td>2.0</td>\n",
       "      <td>9.4</td>\n",
       "      <td>57.0</td>\n",
       "      <td>15.42</td>\n",
       "      <td>62.0</td>\n",
       "      <td>4.4</td>\n",
       "      <td>14533.0</td>\n",
       "      <td>17733.0</td>\n",
       "      <td>...</td>\n",
       "      <td>1.59</td>\n",
       "      <td>22101.0</td>\n",
       "      <td>86.0</td>\n",
       "      <td>1.2</td>\n",
       "      <td>59.0</td>\n",
       "      <td>436.0</td>\n",
       "      <td>14.41</td>\n",
       "      <td>49.0</td>\n",
       "      <td>73.0</td>\n",
       "      <td>16.5</td>\n",
       "    </tr>\n",
       "    <tr>\n",
       "      <th>Czech Republic</th>\n",
       "      <td>16.0</td>\n",
       "      <td>2.8</td>\n",
       "      <td>6.8</td>\n",
       "      <td>0.9</td>\n",
       "      <td>92.0</td>\n",
       "      <td>6.98</td>\n",
       "      <td>68.0</td>\n",
       "      <td>0.8</td>\n",
       "      <td>18404.0</td>\n",
       "      <td>17299.0</td>\n",
       "      <td>...</td>\n",
       "      <td>3.12</td>\n",
       "      <td>20338.0</td>\n",
       "      <td>85.0</td>\n",
       "      <td>1.4</td>\n",
       "      <td>60.0</td>\n",
       "      <td>500.0</td>\n",
       "      <td>14.98</td>\n",
       "      <td>59.0</td>\n",
       "      <td>85.0</td>\n",
       "      <td>18.1</td>\n",
       "    </tr>\n",
       "    <tr>\n",
       "      <th>Denmark</th>\n",
       "      <td>15.0</td>\n",
       "      <td>3.9</td>\n",
       "      <td>7.0</td>\n",
       "      <td>0.9</td>\n",
       "      <td>78.0</td>\n",
       "      <td>2.03</td>\n",
       "      <td>73.0</td>\n",
       "      <td>0.3</td>\n",
       "      <td>26491.0</td>\n",
       "      <td>44488.0</td>\n",
       "      <td>...</td>\n",
       "      <td>1.78</td>\n",
       "      <td>48347.0</td>\n",
       "      <td>95.0</td>\n",
       "      <td>1.9</td>\n",
       "      <td>72.0</td>\n",
       "      <td>498.0</td>\n",
       "      <td>16.06</td>\n",
       "      <td>88.0</td>\n",
       "      <td>94.0</td>\n",
       "      <td>19.4</td>\n",
       "    </tr>\n",
       "    <tr>\n",
       "      <th>Estonia</th>\n",
       "      <td>9.0</td>\n",
       "      <td>5.5</td>\n",
       "      <td>3.3</td>\n",
       "      <td>8.1</td>\n",
       "      <td>90.0</td>\n",
       "      <td>3.30</td>\n",
       "      <td>68.0</td>\n",
       "      <td>4.8</td>\n",
       "      <td>15167.0</td>\n",
       "      <td>7680.0</td>\n",
       "      <td>...</td>\n",
       "      <td>3.82</td>\n",
       "      <td>18944.0</td>\n",
       "      <td>89.0</td>\n",
       "      <td>1.5</td>\n",
       "      <td>54.0</td>\n",
       "      <td>526.0</td>\n",
       "      <td>14.90</td>\n",
       "      <td>64.0</td>\n",
       "      <td>79.0</td>\n",
       "      <td>17.5</td>\n",
       "    </tr>\n",
       "    <tr>\n",
       "      <th>Finland</th>\n",
       "      <td>15.0</td>\n",
       "      <td>2.4</td>\n",
       "      <td>9.0</td>\n",
       "      <td>0.6</td>\n",
       "      <td>85.0</td>\n",
       "      <td>3.58</td>\n",
       "      <td>69.0</td>\n",
       "      <td>1.4</td>\n",
       "      <td>27927.0</td>\n",
       "      <td>18761.0</td>\n",
       "      <td>...</td>\n",
       "      <td>1.73</td>\n",
       "      <td>40060.0</td>\n",
       "      <td>95.0</td>\n",
       "      <td>1.9</td>\n",
       "      <td>65.0</td>\n",
       "      <td>529.0</td>\n",
       "      <td>14.89</td>\n",
       "      <td>69.0</td>\n",
       "      <td>94.0</td>\n",
       "      <td>19.7</td>\n",
       "    </tr>\n",
       "  </tbody>\n",
       "</table>\n",
       "<p>10 rows × 24 columns</p>\n",
       "</div>"
      ],
      "text/plain": [
       "Indicator       Air pollution  Assault rate  Consultation on rule-making  \\\n",
       "Country                                                                    \n",
       "Australia                13.0           2.1                         10.5   \n",
       "Austria                  27.0           3.4                          7.1   \n",
       "Belgium                  21.0           6.6                          4.5   \n",
       "Brazil                   18.0           7.9                          4.0   \n",
       "Canada                   15.0           1.3                         10.5   \n",
       "Chile                    46.0           6.9                          2.0   \n",
       "Czech Republic           16.0           2.8                          6.8   \n",
       "Denmark                  15.0           3.9                          7.0   \n",
       "Estonia                   9.0           5.5                          3.3   \n",
       "Finland                  15.0           2.4                          9.0   \n",
       "\n",
       "Indicator       Dwellings without basic facilities  Educational attainment  \\\n",
       "Country                                                                      \n",
       "Australia                                      1.1                    76.0   \n",
       "Austria                                        1.0                    83.0   \n",
       "Belgium                                        2.0                    72.0   \n",
       "Brazil                                         6.7                    45.0   \n",
       "Canada                                         0.2                    89.0   \n",
       "Chile                                          9.4                    57.0   \n",
       "Czech Republic                                 0.9                    92.0   \n",
       "Denmark                                        0.9                    78.0   \n",
       "Estonia                                        8.1                    90.0   \n",
       "Finland                                        0.6                    85.0   \n",
       "\n",
       "Indicator       Employees working very long hours  Employment rate  \\\n",
       "Country                                                              \n",
       "Australia                                   14.02             72.0   \n",
       "Austria                                      7.61             72.0   \n",
       "Belgium                                      4.57             62.0   \n",
       "Brazil                                      10.41             67.0   \n",
       "Canada                                       3.94             72.0   \n",
       "Chile                                       15.42             62.0   \n",
       "Czech Republic                               6.98             68.0   \n",
       "Denmark                                      2.03             73.0   \n",
       "Estonia                                      3.30             68.0   \n",
       "Finland                                      3.58             69.0   \n",
       "\n",
       "Indicator       Homicide rate  Household net adjusted disposable income  \\\n",
       "Country                                                                   \n",
       "Australia                 0.8                                   31588.0   \n",
       "Austria                   0.4                                   31173.0   \n",
       "Belgium                   1.1                                   28307.0   \n",
       "Brazil                   25.5                                   11664.0   \n",
       "Canada                    1.5                                   29365.0   \n",
       "Chile                     4.4                                   14533.0   \n",
       "Czech Republic            0.8                                   18404.0   \n",
       "Denmark                   0.3                                   26491.0   \n",
       "Estonia                   4.8                                   15167.0   \n",
       "Finland                   1.4                                   27927.0   \n",
       "\n",
       "Indicator       Household net financial wealth         ...          \\\n",
       "Country                                                ...           \n",
       "Australia                              47657.0         ...           \n",
       "Austria                                49887.0         ...           \n",
       "Belgium                                83876.0         ...           \n",
       "Brazil                                  6844.0         ...           \n",
       "Canada                                 67913.0         ...           \n",
       "Chile                                  17733.0         ...           \n",
       "Czech Republic                         17299.0         ...           \n",
       "Denmark                                44488.0         ...           \n",
       "Estonia                                 7680.0         ...           \n",
       "Finland                                18761.0         ...           \n",
       "\n",
       "Indicator       Long-term unemployment rate  Personal earnings  \\\n",
       "Country                                                          \n",
       "Australia                              1.08            50449.0   \n",
       "Austria                                1.19            45199.0   \n",
       "Belgium                                3.88            48082.0   \n",
       "Brazil                                 1.97            17177.0   \n",
       "Canada                                 0.90            46911.0   \n",
       "Chile                                  1.59            22101.0   \n",
       "Czech Republic                         3.12            20338.0   \n",
       "Denmark                                1.78            48347.0   \n",
       "Estonia                                3.82            18944.0   \n",
       "Finland                                1.73            40060.0   \n",
       "\n",
       "Indicator       Quality of support network  Rooms per person  \\\n",
       "Country                                                        \n",
       "Australia                             92.0               2.3   \n",
       "Austria                               89.0               1.6   \n",
       "Belgium                               94.0               2.2   \n",
       "Brazil                                90.0               1.6   \n",
       "Canada                                92.0               2.5   \n",
       "Chile                                 86.0               1.2   \n",
       "Czech Republic                        85.0               1.4   \n",
       "Denmark                               95.0               1.9   \n",
       "Estonia                               89.0               1.5   \n",
       "Finland                               95.0               1.9   \n",
       "\n",
       "Indicator       Self-reported health  Student skills  \\\n",
       "Country                                                \n",
       "Australia                       85.0           512.0   \n",
       "Austria                         69.0           500.0   \n",
       "Belgium                         74.0           509.0   \n",
       "Brazil                          69.0           402.0   \n",
       "Canada                          89.0           522.0   \n",
       "Chile                           59.0           436.0   \n",
       "Czech Republic                  60.0           500.0   \n",
       "Denmark                         72.0           498.0   \n",
       "Estonia                         54.0           526.0   \n",
       "Finland                         65.0           529.0   \n",
       "\n",
       "Indicator       Time devoted to leisure and personal care  Voter turnout  \\\n",
       "Country                                                                    \n",
       "Australia                                           14.41           93.0   \n",
       "Austria                                             14.46           75.0   \n",
       "Belgium                                             15.71           89.0   \n",
       "Brazil                                              14.97           79.0   \n",
       "Canada                                              14.25           61.0   \n",
       "Chile                                               14.41           49.0   \n",
       "Czech Republic                                      14.98           59.0   \n",
       "Denmark                                             16.06           88.0   \n",
       "Estonia                                             14.90           64.0   \n",
       "Finland                                             14.89           69.0   \n",
       "\n",
       "Indicator       Water quality  Years in education  \n",
       "Country                                            \n",
       "Australia                91.0                19.4  \n",
       "Austria                  94.0                17.0  \n",
       "Belgium                  87.0                18.9  \n",
       "Brazil                   72.0                16.3  \n",
       "Canada                   91.0                17.2  \n",
       "Chile                    73.0                16.5  \n",
       "Czech Republic           85.0                18.1  \n",
       "Denmark                  94.0                19.4  \n",
       "Estonia                  79.0                17.5  \n",
       "Finland                  94.0                19.7  \n",
       "\n",
       "[10 rows x 24 columns]"
      ]
     },
     "metadata": {},
     "output_type": "display_data"
    }
   ],
   "source": [
    "oecd_bli = pd.read_csv(\"oecd_bli_2015.csv\")\n",
    "oecd_bli = oecd_bli[oecd_bli[\"INEQUALITY\"]==\"TOT\"]\n",
    "oecd_bli = oecd_bli.pivot(index=\"Country\", columns=\"Indicator\", values=\"Value\")\n",
    "display(oecd_bli.head(10))"
   ]
  },
  {
   "cell_type": "code",
   "execution_count": 3,
   "metadata": {},
   "outputs": [
    {
     "data": {
      "text/html": [
       "<div>\n",
       "<style>\n",
       "    .dataframe thead tr:only-child th {\n",
       "        text-align: right;\n",
       "    }\n",
       "\n",
       "    .dataframe thead th {\n",
       "        text-align: left;\n",
       "    }\n",
       "\n",
       "    .dataframe tbody tr th {\n",
       "        vertical-align: top;\n",
       "    }\n",
       "</style>\n",
       "<table border=\"1\" class=\"dataframe\">\n",
       "  <thead>\n",
       "    <tr style=\"text-align: right;\">\n",
       "      <th></th>\n",
       "      <th>Subject Descriptor</th>\n",
       "      <th>Units</th>\n",
       "      <th>Scale</th>\n",
       "      <th>Country/Series-specific Notes</th>\n",
       "      <th>GDP per capita</th>\n",
       "      <th>Estimates Start After</th>\n",
       "    </tr>\n",
       "    <tr>\n",
       "      <th>Country</th>\n",
       "      <th></th>\n",
       "      <th></th>\n",
       "      <th></th>\n",
       "      <th></th>\n",
       "      <th></th>\n",
       "      <th></th>\n",
       "    </tr>\n",
       "  </thead>\n",
       "  <tbody>\n",
       "    <tr>\n",
       "      <th>Afghanistan</th>\n",
       "      <td>Gross domestic product per capita, current prices</td>\n",
       "      <td>U.S. dollars</td>\n",
       "      <td>Units</td>\n",
       "      <td>See notes for:  Gross domestic product, curren...</td>\n",
       "      <td>599.994</td>\n",
       "      <td>2013.0</td>\n",
       "    </tr>\n",
       "    <tr>\n",
       "      <th>Albania</th>\n",
       "      <td>Gross domestic product per capita, current prices</td>\n",
       "      <td>U.S. dollars</td>\n",
       "      <td>Units</td>\n",
       "      <td>See notes for:  Gross domestic product, curren...</td>\n",
       "      <td>3995.380</td>\n",
       "      <td>2010.0</td>\n",
       "    </tr>\n",
       "    <tr>\n",
       "      <th>Algeria</th>\n",
       "      <td>Gross domestic product per capita, current prices</td>\n",
       "      <td>U.S. dollars</td>\n",
       "      <td>Units</td>\n",
       "      <td>See notes for:  Gross domestic product, curren...</td>\n",
       "      <td>4318.140</td>\n",
       "      <td>2014.0</td>\n",
       "    </tr>\n",
       "    <tr>\n",
       "      <th>Angola</th>\n",
       "      <td>Gross domestic product per capita, current prices</td>\n",
       "      <td>U.S. dollars</td>\n",
       "      <td>Units</td>\n",
       "      <td>See notes for:  Gross domestic product, curren...</td>\n",
       "      <td>4100.320</td>\n",
       "      <td>2014.0</td>\n",
       "    </tr>\n",
       "    <tr>\n",
       "      <th>Antigua and Barbuda</th>\n",
       "      <td>Gross domestic product per capita, current prices</td>\n",
       "      <td>U.S. dollars</td>\n",
       "      <td>Units</td>\n",
       "      <td>See notes for:  Gross domestic product, curren...</td>\n",
       "      <td>14414.300</td>\n",
       "      <td>2011.0</td>\n",
       "    </tr>\n",
       "    <tr>\n",
       "      <th>Argentina</th>\n",
       "      <td>Gross domestic product per capita, current prices</td>\n",
       "      <td>U.S. dollars</td>\n",
       "      <td>Units</td>\n",
       "      <td>See notes for:  Gross domestic product, curren...</td>\n",
       "      <td>13588.850</td>\n",
       "      <td>2013.0</td>\n",
       "    </tr>\n",
       "    <tr>\n",
       "      <th>Armenia</th>\n",
       "      <td>Gross domestic product per capita, current prices</td>\n",
       "      <td>U.S. dollars</td>\n",
       "      <td>Units</td>\n",
       "      <td>See notes for:  Gross domestic product, curren...</td>\n",
       "      <td>3534.860</td>\n",
       "      <td>2014.0</td>\n",
       "    </tr>\n",
       "    <tr>\n",
       "      <th>Australia</th>\n",
       "      <td>Gross domestic product per capita, current prices</td>\n",
       "      <td>U.S. dollars</td>\n",
       "      <td>Units</td>\n",
       "      <td>See notes for:  Gross domestic product, curren...</td>\n",
       "      <td>50961.870</td>\n",
       "      <td>2014.0</td>\n",
       "    </tr>\n",
       "    <tr>\n",
       "      <th>Austria</th>\n",
       "      <td>Gross domestic product per capita, current prices</td>\n",
       "      <td>U.S. dollars</td>\n",
       "      <td>Units</td>\n",
       "      <td>See notes for:  Gross domestic product, curren...</td>\n",
       "      <td>43724.030</td>\n",
       "      <td>2015.0</td>\n",
       "    </tr>\n",
       "    <tr>\n",
       "      <th>Azerbaijan</th>\n",
       "      <td>Gross domestic product per capita, current prices</td>\n",
       "      <td>U.S. dollars</td>\n",
       "      <td>Units</td>\n",
       "      <td>See notes for:  Gross domestic product, curren...</td>\n",
       "      <td>5739.430</td>\n",
       "      <td>2014.0</td>\n",
       "    </tr>\n",
       "  </tbody>\n",
       "</table>\n",
       "</div>"
      ],
      "text/plain": [
       "                                                    Subject Descriptor  \\\n",
       "Country                                                                  \n",
       "Afghanistan          Gross domestic product per capita, current prices   \n",
       "Albania              Gross domestic product per capita, current prices   \n",
       "Algeria              Gross domestic product per capita, current prices   \n",
       "Angola               Gross domestic product per capita, current prices   \n",
       "Antigua and Barbuda  Gross domestic product per capita, current prices   \n",
       "Argentina            Gross domestic product per capita, current prices   \n",
       "Armenia              Gross domestic product per capita, current prices   \n",
       "Australia            Gross domestic product per capita, current prices   \n",
       "Austria              Gross domestic product per capita, current prices   \n",
       "Azerbaijan           Gross domestic product per capita, current prices   \n",
       "\n",
       "                            Units  Scale  \\\n",
       "Country                                    \n",
       "Afghanistan          U.S. dollars  Units   \n",
       "Albania              U.S. dollars  Units   \n",
       "Algeria              U.S. dollars  Units   \n",
       "Angola               U.S. dollars  Units   \n",
       "Antigua and Barbuda  U.S. dollars  Units   \n",
       "Argentina            U.S. dollars  Units   \n",
       "Armenia              U.S. dollars  Units   \n",
       "Australia            U.S. dollars  Units   \n",
       "Austria              U.S. dollars  Units   \n",
       "Azerbaijan           U.S. dollars  Units   \n",
       "\n",
       "                                         Country/Series-specific Notes  \\\n",
       "Country                                                                  \n",
       "Afghanistan          See notes for:  Gross domestic product, curren...   \n",
       "Albania              See notes for:  Gross domestic product, curren...   \n",
       "Algeria              See notes for:  Gross domestic product, curren...   \n",
       "Angola               See notes for:  Gross domestic product, curren...   \n",
       "Antigua and Barbuda  See notes for:  Gross domestic product, curren...   \n",
       "Argentina            See notes for:  Gross domestic product, curren...   \n",
       "Armenia              See notes for:  Gross domestic product, curren...   \n",
       "Australia            See notes for:  Gross domestic product, curren...   \n",
       "Austria              See notes for:  Gross domestic product, curren...   \n",
       "Azerbaijan           See notes for:  Gross domestic product, curren...   \n",
       "\n",
       "                     GDP per capita  Estimates Start After  \n",
       "Country                                                     \n",
       "Afghanistan                 599.994                 2013.0  \n",
       "Albania                    3995.380                 2010.0  \n",
       "Algeria                    4318.140                 2014.0  \n",
       "Angola                     4100.320                 2014.0  \n",
       "Antigua and Barbuda       14414.300                 2011.0  \n",
       "Argentina                 13588.850                 2013.0  \n",
       "Armenia                    3534.860                 2014.0  \n",
       "Australia                 50961.870                 2014.0  \n",
       "Austria                   43724.030                 2015.0  \n",
       "Azerbaijan                 5739.430                 2014.0  "
      ]
     },
     "metadata": {},
     "output_type": "display_data"
    }
   ],
   "source": [
    "gdp = pd.read_csv(\"gdp_per_capita.csv\", thousands=',', encoding='latin-1', na_values='n/a')\n",
    "gdp.rename(columns={\"2015\": \"GDP per capita\"}, inplace=True)\n",
    "gdp.set_index(\"Country\", inplace=True)\n",
    "display(gdp.head(10))"
   ]
  },
  {
   "cell_type": "markdown",
   "metadata": {},
   "source": [
    "Check and make sure that the numerical data (integers and floats) that are in the range of thousands have dropped its comma when the CSV was read. This is so that you can plot or perform regression without any errors.\n",
    "\n",
    "The two dataframes are then merged."
   ]
  },
  {
   "cell_type": "code",
   "execution_count": 4,
   "metadata": {},
   "outputs": [
    {
     "data": {
      "text/plain": [
       "Country\n",
       "Brazil               8670.00\n",
       "Mexico               9009.28\n",
       "Russia               9054.91\n",
       "Turkey               9437.37\n",
       "Hungary             12239.89\n",
       "Poland              12495.33\n",
       "Chile               13340.91\n",
       "Slovak Republic     15991.74\n",
       "Czech Republic      17256.92\n",
       "Estonia             17288.08\n",
       "Greece              18064.29\n",
       "Portugal            19121.59\n",
       "Slovenia            20732.48\n",
       "Spain               25864.72\n",
       "Korea               27195.20\n",
       "Italy               29866.58\n",
       "Japan               32485.55\n",
       "Israel              35343.34\n",
       "New Zealand         37044.89\n",
       "France              37675.01\n",
       "Belgium             40106.63\n",
       "Germany             40996.51\n",
       "Finland             41973.99\n",
       "Canada              43331.96\n",
       "Netherlands         43603.12\n",
       "Austria             43724.03\n",
       "United Kingdom      43770.69\n",
       "Sweden              49866.27\n",
       "Iceland             50854.58\n",
       "Australia           50961.87\n",
       "Ireland             51350.74\n",
       "Denmark             52114.17\n",
       "United States       55805.20\n",
       "Norway              74822.11\n",
       "Switzerland         80675.31\n",
       "Luxembourg         101994.09\n",
       "Name: GDP per capita, dtype: float64"
      ]
     },
     "metadata": {},
     "output_type": "display_data"
    },
    {
     "name": "stdout",
     "output_type": "stream",
     "text": [
      "Number of rows after merging:  36\n"
     ]
    }
   ],
   "source": [
    "full_country_stats = pd.merge(left=oecd_bli, right=gdp, left_index=True, right_index=True)\n",
    "full_country_stats.sort_values(by=\"GDP per capita\", inplace=True)\n",
    "display(full_country_stats['GDP per capita'])\n",
    "print(\"Number of rows after merging: \",len(full_country_stats))"
   ]
  },
  {
   "cell_type": "markdown",
   "metadata": {},
   "source": [
    "The number of rows left after performing an inner join should be less than what the two dataframes started with. These are the countries that have both the GDP per capita data, and Life Satisfaction data."
   ]
  },
  {
   "cell_type": "code",
   "execution_count": 5,
   "metadata": {},
   "outputs": [
    {
     "data": {
      "text/plain": [
       "GDP per capita       55805.2\n",
       "Life satisfaction        7.2\n",
       "Name: United States, dtype: float64"
      ]
     },
     "execution_count": 5,
     "metadata": {},
     "output_type": "execute_result"
    }
   ],
   "source": [
    "full_country_stats[[\"GDP per capita\", 'Life satisfaction']].loc[\"United States\"]"
   ]
  },
  {
   "cell_type": "markdown",
   "metadata": {},
   "source": [
    "Next, we want to arbitrarily remove a few rows of data for the sake of making predictions later. The rest are kept for learning the model."
   ]
  },
  {
   "cell_type": "code",
   "execution_count": 6,
   "metadata": {},
   "outputs": [
    {
     "data": {
      "text/plain": [
       "Index(['Air pollution', 'Assault rate', 'Consultation on rule-making',\n",
       "       'Dwellings without basic facilities', 'Educational attainment',\n",
       "       'Employees working very long hours', 'Employment rate', 'Homicide rate',\n",
       "       'Household net adjusted disposable income',\n",
       "       'Household net financial wealth', 'Housing expenditure', 'Job security',\n",
       "       'Life expectancy', 'Life satisfaction', 'Long-term unemployment rate',\n",
       "       'Personal earnings', 'Quality of support network', 'Rooms per person',\n",
       "       'Self-reported health', 'Student skills',\n",
       "       'Time devoted to leisure and personal care', 'Voter turnout',\n",
       "       'Water quality', 'Years in education', 'Subject Descriptor', 'Units',\n",
       "       'Scale', 'Country/Series-specific Notes', 'GDP per capita',\n",
       "       'Estimates Start After'],\n",
       "      dtype='object')"
      ]
     },
     "execution_count": 6,
     "metadata": {},
     "output_type": "execute_result"
    }
   ],
   "source": [
    "full_country_stats.columns"
   ]
  },
  {
   "cell_type": "code",
   "execution_count": 7,
   "metadata": {},
   "outputs": [
    {
     "data": {
      "text/plain": [
       "Index(['Brazil', 'Mexico', 'Russia', 'Turkey', 'Hungary', 'Poland', 'Chile',\n",
       "       'Slovak Republic', 'Czech Republic', 'Estonia', 'Greece', 'Portugal',\n",
       "       'Slovenia', 'Spain', 'Korea', 'Italy', 'Japan', 'Israel', 'New Zealand',\n",
       "       'France', 'Belgium', 'Germany', 'Finland', 'Canada', 'Netherlands',\n",
       "       'Austria', 'United Kingdom', 'Sweden', 'Iceland', 'Australia',\n",
       "       'Ireland', 'Denmark', 'United States', 'Norway', 'Switzerland',\n",
       "       'Luxembourg'],\n",
       "      dtype='object', name='Country')"
      ]
     },
     "execution_count": 7,
     "metadata": {},
     "output_type": "execute_result"
    }
   ],
   "source": [
    "full_country_stats.index"
   ]
  },
  {
   "cell_type": "code",
   "execution_count": 8,
   "metadata": {},
   "outputs": [
    {
     "data": {
      "text/html": [
       "<div>\n",
       "<style>\n",
       "    .dataframe thead tr:only-child th {\n",
       "        text-align: right;\n",
       "    }\n",
       "\n",
       "    .dataframe thead th {\n",
       "        text-align: left;\n",
       "    }\n",
       "\n",
       "    .dataframe tbody tr th {\n",
       "        vertical-align: top;\n",
       "    }\n",
       "</style>\n",
       "<table border=\"1\" class=\"dataframe\">\n",
       "  <thead>\n",
       "    <tr style=\"text-align: right;\">\n",
       "      <th></th>\n",
       "      <th>GDP per capita</th>\n",
       "      <th>Life satisfaction</th>\n",
       "    </tr>\n",
       "    <tr>\n",
       "      <th>Country</th>\n",
       "      <th></th>\n",
       "      <th></th>\n",
       "    </tr>\n",
       "  </thead>\n",
       "  <tbody>\n",
       "    <tr>\n",
       "      <th>Russia</th>\n",
       "      <td>9054.91</td>\n",
       "      <td>6.0</td>\n",
       "    </tr>\n",
       "    <tr>\n",
       "      <th>Turkey</th>\n",
       "      <td>9437.37</td>\n",
       "      <td>5.6</td>\n",
       "    </tr>\n",
       "    <tr>\n",
       "      <th>Hungary</th>\n",
       "      <td>12239.89</td>\n",
       "      <td>4.9</td>\n",
       "    </tr>\n",
       "    <tr>\n",
       "      <th>Poland</th>\n",
       "      <td>12495.33</td>\n",
       "      <td>5.8</td>\n",
       "    </tr>\n",
       "    <tr>\n",
       "      <th>Slovak Republic</th>\n",
       "      <td>15991.74</td>\n",
       "      <td>6.1</td>\n",
       "    </tr>\n",
       "    <tr>\n",
       "      <th>Estonia</th>\n",
       "      <td>17288.08</td>\n",
       "      <td>5.6</td>\n",
       "    </tr>\n",
       "    <tr>\n",
       "      <th>Greece</th>\n",
       "      <td>18064.29</td>\n",
       "      <td>4.8</td>\n",
       "    </tr>\n",
       "    <tr>\n",
       "      <th>Portugal</th>\n",
       "      <td>19121.59</td>\n",
       "      <td>5.1</td>\n",
       "    </tr>\n",
       "    <tr>\n",
       "      <th>Slovenia</th>\n",
       "      <td>20732.48</td>\n",
       "      <td>5.7</td>\n",
       "    </tr>\n",
       "    <tr>\n",
       "      <th>Spain</th>\n",
       "      <td>25864.72</td>\n",
       "      <td>6.5</td>\n",
       "    </tr>\n",
       "  </tbody>\n",
       "</table>\n",
       "</div>"
      ],
      "text/plain": [
       "                 GDP per capita  Life satisfaction\n",
       "Country                                           \n",
       "Russia                  9054.91                6.0\n",
       "Turkey                  9437.37                5.6\n",
       "Hungary                12239.89                4.9\n",
       "Poland                 12495.33                5.8\n",
       "Slovak Republic        15991.74                6.1\n",
       "Estonia                17288.08                5.6\n",
       "Greece                 18064.29                4.8\n",
       "Portugal               19121.59                5.1\n",
       "Slovenia               20732.48                5.7\n",
       "Spain                  25864.72                6.5"
      ]
     },
     "metadata": {},
     "output_type": "display_data"
    }
   ],
   "source": [
    "# prepare data - remove some rows to make predictions later, keep the rest for learning model\n",
    "remove_indices = [0, 1, 6, 8, 33, 34, 35]\n",
    "keep_indices = list(set(range(36)) - set(remove_indices))\n",
    "\n",
    "sample_data = full_country_stats[[\"GDP per capita\", 'Life satisfaction']].iloc[keep_indices]\n",
    "missing_data = full_country_stats[[\"GDP per capita\", 'Life satisfaction']].iloc[remove_indices]\n",
    "\n",
    "country_stats = sample_data\n",
    "display(sample_data.head(10))\n",
    "\n",
    "X = np.c_[country_stats[\"GDP per capita\"]]\n",
    "y = np.c_[country_stats[\"Life satisfaction\"]]"
   ]
  },
  {
   "cell_type": "code",
   "execution_count": 9,
   "metadata": {},
   "outputs": [
    {
     "data": {
      "text/plain": [
       "array([[ 6. ],\n",
       "       [ 5.6],\n",
       "       [ 4.9],\n",
       "       [ 5.8],\n",
       "       [ 6.1],\n",
       "       [ 5.6],\n",
       "       [ 4.8],\n",
       "       [ 5.1],\n",
       "       [ 5.7],\n",
       "       [ 6.5],\n",
       "       [ 5.8],\n",
       "       [ 6. ],\n",
       "       [ 5.9],\n",
       "       [ 7.4],\n",
       "       [ 7.3],\n",
       "       [ 6.5],\n",
       "       [ 6.9],\n",
       "       [ 7. ],\n",
       "       [ 7.4],\n",
       "       [ 7.3],\n",
       "       [ 7.3],\n",
       "       [ 6.9],\n",
       "       [ 6.8],\n",
       "       [ 7.2],\n",
       "       [ 7.5],\n",
       "       [ 7.3],\n",
       "       [ 7. ],\n",
       "       [ 7.5],\n",
       "       [ 7.2]])"
      ]
     },
     "metadata": {},
     "output_type": "display_data"
    }
   ],
   "source": [
    "display(y)"
   ]
  },
  {
   "cell_type": "markdown",
   "metadata": {},
   "source": [
    "### Visualize\n",
    "\n",
    "Let's now attempt to visualize the data in a scatter matrix. Here's an really easy way of plotting one through the pandas plot function."
   ]
  },
  {
   "cell_type": "code",
   "execution_count": 10,
   "metadata": {},
   "outputs": [
    {
     "data": {
      "text/plain": [
       "<matplotlib.axes._subplots.AxesSubplot at 0x1170cf630>"
      ]
     },
     "execution_count": 10,
     "metadata": {},
     "output_type": "execute_result"
    },
    {
     "data": {
      "image/png": "[encoded data removed]",
      "text/plain": [
       "<matplotlib.figure.Figure at 0x1170ce470>"
      ]
     },
     "metadata": {},
     "output_type": "display_data"
    }
   ],
   "source": [
    "#Visualize the data\n",
    "country_stats.plot(kind='scatter', x=\"GDP per capita\", y='Life satisfaction')"
   ]
  },
  {
   "cell_type": "markdown",
   "metadata": {},
   "source": [
    "### Linear Regression model\n",
    "\n",
    "Next, let's go to scikit-learn from help in performing regression. What we want to do now is to used these data points (think of them as simply, X and Y values in this plot) to find a linear function that best describes this scatter."
   ]
  },
  {
   "cell_type": "code",
   "execution_count": 11,
   "metadata": {},
   "outputs": [
    {
     "data": {
      "text/plain": [
       "LinearRegression(copy_X=True, fit_intercept=True, n_jobs=1, normalize=False)"
      ]
     },
     "execution_count": 11,
     "metadata": {},
     "output_type": "execute_result"
    }
   ],
   "source": [
    "# Select as linear model\n",
    "import sklearn\n",
    "from sklearn import linear_model\n",
    "\n",
    "# create an object for the linear model\n",
    "model = sklearn.linear_model.LinearRegression()\n",
    "\n",
    "# Train the model\n",
    "model.fit(X, y)"
   ]
  },
  {
   "cell_type": "markdown",
   "metadata": {},
   "source": [
    "To look at what's inside the object `model', do this to show its dictionary. Can you make some guesses what some of those mean?"
   ]
  },
  {
   "cell_type": "code",
   "execution_count": 12,
   "metadata": {},
   "outputs": [
    {
     "name": "stdout",
     "output_type": "stream",
     "text": [
      "{'fit_intercept': True, 'normalize': False, 'copy_X': True, 'n_jobs': 1, 'coef_': array([[  4.91154428e-05]]), '_residues': array([ 5.24175965]), 'rank_': 1, 'singular_': array([ 77520.92109746]), 'intercept_': array([ 4.8530529])}\n"
     ]
    }
   ],
   "source": [
    "print(model.__dict__)"
   ]
  },
  {
   "cell_type": "code",
   "execution_count": 13,
   "metadata": {},
   "outputs": [
    {
     "name": "stdout",
     "output_type": "stream",
     "text": [
      "LinearRegression(copy_X=True, fit_intercept=True, n_jobs=1, normalize=False)\n"
     ]
    }
   ],
   "source": [
    "print(model)"
   ]
  },
  {
   "cell_type": "code",
   "execution_count": 14,
   "metadata": {},
   "outputs": [
    {
     "data": {
      "image/png": "[encoded data removed]",
      "text/plain": [
       "<matplotlib.figure.Figure at 0x11cea4320>"
      ]
     },
     "metadata": {},
     "output_type": "display_data"
    }
   ],
   "source": [
    "country_stats.plot(kind='scatter', x=\"GDP per capita\", y='Life satisfaction', figsize=(8,4))\n",
    "plt.axis([0, 110000, 0, 10])\n",
    "\n",
    "t0, t1 = model.intercept_[0], model.coef_[0][0]  \n",
    "plt.plot(X, t0 + t1*X, \"b:\") # creates some intervals for us to plot dotted line \n",
    "\n",
    "# Uncomment the following line to see if the formula above (t0+t1*X) is really similar to model.predict() ?\n",
    "plt.plot(X, model.predict(X.reshape(-1, 1)), \"r:\")\n",
    "plt.show()"
   ]
  },
  {
   "cell_type": "markdown",
   "metadata": {},
   "source": [
    "Make a prediction for Cyprus, which is one of the countries that did not have complete data. "
   ]
  },
  {
   "cell_type": "code",
   "execution_count": 15,
   "metadata": {},
   "outputs": [
    {
     "name": "stdout",
     "output_type": "stream",
     "text": [
      "[[ 5.96244747]]\n"
     ]
    }
   ],
   "source": [
    "cyprus_gdp = gdp.loc[\"Cyprus\"][\"GDP per capita\"]   # Get Cyprus' GDP per capita\n",
    "\n",
    "X_new = cyprus_gdp  \n",
    "print(model.predict(X_new)) # outputs around [[ 5.9624]]"
   ]
  },
  {
   "cell_type": "markdown",
   "metadata": {},
   "source": [
    "**Q1**: Write a function to calculate the total residual loss of this model, with respect to the data we used to learn the model. "
   ]
  },
  {
   "cell_type": "code",
   "execution_count": 16,
   "metadata": {
    "collapsed": true
   },
   "outputs": [],
   "source": [
    "import math"
   ]
  },
  {
   "cell_type": "code",
   "execution_count": 17,
   "metadata": {
    "collapsed": true
   },
   "outputs": [],
   "source": [
    "# original y value = y\n",
    "# predicted y value = model.predict(X)\n",
    "\n",
    "# to get the residual loss:\n"
   ]
  },
  {
   "cell_type": "code",
   "execution_count": null,
   "metadata": {
    "collapsed": true
   },
   "outputs": [],
   "source": []
  },
  {
   "cell_type": "code",
   "execution_count": null,
   "metadata": {
    "collapsed": true
   },
   "outputs": [],
   "source": []
  },
  {
   "cell_type": "code",
   "execution_count": null,
   "metadata": {
    "collapsed": true
   },
   "outputs": [],
   "source": []
  },
  {
   "cell_type": "code",
   "execution_count": 21,
   "metadata": {},
   "outputs": [
    {
     "data": {
      "text/plain": [
       "{'_residues': array([ 5.24175965]),\n",
       " 'coef_': array([[  4.91154428e-05]]),\n",
       " 'copy_X': True,\n",
       " 'fit_intercept': True,\n",
       " 'intercept_': array([ 4.8530529]),\n",
       " 'n_jobs': 1,\n",
       " 'normalize': False,\n",
       " 'rank_': 1,\n",
       " 'singular_': array([ 77520.92109746])}"
      ]
     },
     "execution_count": 21,
     "metadata": {},
     "output_type": "execute_result"
    }
   ],
   "source": [
    "model.__dict__"
   ]
  },
  {
   "cell_type": "markdown",
   "metadata": {},
   "source": [
    "### Back to the missing data"
   ]
  },
  {
   "cell_type": "code",
   "execution_count": 22,
   "metadata": {},
   "outputs": [
    {
     "data": {
      "text/html": [
       "<div>\n",
       "<style>\n",
       "    .dataframe thead tr:only-child th {\n",
       "        text-align: right;\n",
       "    }\n",
       "\n",
       "    .dataframe thead th {\n",
       "        text-align: left;\n",
       "    }\n",
       "\n",
       "    .dataframe tbody tr th {\n",
       "        vertical-align: top;\n",
       "    }\n",
       "</style>\n",
       "<table border=\"1\" class=\"dataframe\">\n",
       "  <thead>\n",
       "    <tr style=\"text-align: right;\">\n",
       "      <th></th>\n",
       "      <th>GDP per capita</th>\n",
       "      <th>Life satisfaction</th>\n",
       "    </tr>\n",
       "    <tr>\n",
       "      <th>Country</th>\n",
       "      <th></th>\n",
       "      <th></th>\n",
       "    </tr>\n",
       "  </thead>\n",
       "  <tbody>\n",
       "    <tr>\n",
       "      <th>Brazil</th>\n",
       "      <td>8670.00</td>\n",
       "      <td>7.0</td>\n",
       "    </tr>\n",
       "    <tr>\n",
       "      <th>Mexico</th>\n",
       "      <td>9009.28</td>\n",
       "      <td>6.7</td>\n",
       "    </tr>\n",
       "    <tr>\n",
       "      <th>Chile</th>\n",
       "      <td>13340.91</td>\n",
       "      <td>6.7</td>\n",
       "    </tr>\n",
       "    <tr>\n",
       "      <th>Czech Republic</th>\n",
       "      <td>17256.92</td>\n",
       "      <td>6.5</td>\n",
       "    </tr>\n",
       "    <tr>\n",
       "      <th>Norway</th>\n",
       "      <td>74822.11</td>\n",
       "      <td>7.4</td>\n",
       "    </tr>\n",
       "    <tr>\n",
       "      <th>Switzerland</th>\n",
       "      <td>80675.31</td>\n",
       "      <td>7.5</td>\n",
       "    </tr>\n",
       "    <tr>\n",
       "      <th>Luxembourg</th>\n",
       "      <td>101994.09</td>\n",
       "      <td>6.9</td>\n",
       "    </tr>\n",
       "  </tbody>\n",
       "</table>\n",
       "</div>"
      ],
      "text/plain": [
       "                GDP per capita  Life satisfaction\n",
       "Country                                          \n",
       "Brazil                 8670.00                7.0\n",
       "Mexico                 9009.28                6.7\n",
       "Chile                 13340.91                6.7\n",
       "Czech Republic        17256.92                6.5\n",
       "Norway                74822.11                7.4\n",
       "Switzerland           80675.31                7.5\n",
       "Luxembourg           101994.09                6.9"
      ]
     },
     "metadata": {},
     "output_type": "display_data"
    }
   ],
   "source": [
    "display(missing_data)"
   ]
  },
  {
   "cell_type": "markdown",
   "metadata": {},
   "source": [
    "**Q2**: Observe how the missing data impacts the regression modeling, by performing the following tasks:\n",
    "\n",
    "1. Perform prediction on all these left-out countries and find the error margin to know how far the predicted values are from the actual values.\n",
    "2. Visualize this on the similar plot earlier, but using a different colour marker (mark the actual values of these countries with a different colour like red.) \n",
    "3. Learn another model which includes all country data (from the possible 36 countries). Plot the line in the same plot so that we can compare the two models."
   ]
  },
  {
   "cell_type": "code",
   "execution_count": null,
   "metadata": {
    "collapsed": true
   },
   "outputs": [],
   "source": []
  },
  {
   "cell_type": "code",
   "execution_count": null,
   "metadata": {
    "collapsed": true
   },
   "outputs": [],
   "source": []
  },
  {
   "cell_type": "code",
   "execution_count": null,
   "metadata": {
    "collapsed": true
   },
   "outputs": [],
   "source": []
  },
  {
   "cell_type": "code",
   "execution_count": null,
   "metadata": {
    "collapsed": true
   },
   "outputs": [],
   "source": []
  },
  {
   "cell_type": "code",
   "execution_count": null,
   "metadata": {
    "collapsed": true
   },
   "outputs": [],
   "source": []
  },
  {
   "cell_type": "code",
   "execution_count": null,
   "metadata": {
    "collapsed": true
   },
   "outputs": [],
   "source": []
  },
  {
   "cell_type": "code",
   "execution_count": null,
   "metadata": {
    "collapsed": true
   },
   "outputs": [],
   "source": []
  },
  {
   "cell_type": "markdown",
   "metadata": {},
   "source": [
    "### Polynomial Features (for Polynomial Regression)\n",
    "\n",
    "Polynomial regression tries to fit your data to a polynomial function of $y_{i}= w_0 + w_1 x_i + w_2 x^2_i + \\ldots + w_D x^D_i$, Now, polynomial regression is a form of \"multiple linear regression\". You can say it is a special case of multiple linear regression. When least squares fitting is performed, it does not know that $x^2$ is the square of $x$, it simply assumes it as just \"another\" variable. If we had only one type of data (GDP per capita), higher orders can be achieved by taking its 2nd power, 3rd power and so on.\n",
    "\n",
    "When we looked at multiple regression or \"multiple linear regression\" in general, we can add more variables from other fields / attributes of the data such as Employment Rate, Air Pollution, etc. such that our order of features is more than just a single variable (GDP per capita). "
   ]
  },
  {
   "cell_type": "code",
   "execution_count": 27,
   "metadata": {},
   "outputs": [
    {
     "name": "stdout",
     "output_type": "stream",
     "text": [
      "(36, 1)\n",
      "(36, 60)\n"
     ]
    },
    {
     "data": {
      "image/png": "[encoded data removed]",
      "text/plain": [
       "<matplotlib.figure.Figure at 0x11cf6f438>"
      ]
     },
     "metadata": {},
     "output_type": "display_data"
    },
    {
     "name": "stdout",
     "output_type": "stream",
     "text": [
      "Predicted life satisfaction of Cyprus:  [[ 6.54626346]]\n"
     ]
    }
   ],
   "source": [
    "from sklearn import preprocessing\n",
    "from sklearn import pipeline\n",
    "\n",
    "Xfull = np.c_[full_country_stats[\"GDP per capita\"]]\n",
    "yfull = np.c_[full_country_stats[\"Life satisfaction\"]]\n",
    "\n",
    "# create polynomial model of degree 60\n",
    "poly = preprocessing.PolynomialFeatures(degree=60, include_bias=False)\n",
    "Xfull_t = poly.fit_transform(Xfull)\n",
    "print(Xfull.shape)\n",
    "print(Xfull_t.shape)\n",
    "\n",
    "# Instantiate linear regression model\n",
    "linreg = linear_model.LinearRegression()\n",
    "\n",
    "# Fit and predict\n",
    "linreg.fit(Xfull_t, yfull)\n",
    "curve = linreg.predict(Xfull_t)\n",
    "\n",
    "# plots\n",
    "full_country_stats.plot(kind='scatter', x=\"GDP per capita\", y='Life satisfaction', figsize=(8,4))\n",
    "plt.axis([0, 110000, 0, 10])\n",
    "plt.plot(Xfull, curve, 'r')\n",
    "plt.show()\n",
    "\n",
    "# Try Cyprus again (data needs to be transformed to poly before prediction)\n",
    "X_new_t = poly.fit_transform(X_new)\n",
    "y_pred = linreg.predict(X_new_t)\n",
    "print(\"Predicted life satisfaction of Cyprus: \", y_pred)"
   ]
  },
  {
   "cell_type": "code",
   "execution_count": 28,
   "metadata": {},
   "outputs": [
    {
     "name": "stdout",
     "output_type": "stream",
     "text": [
      "(36, 1)\n"
     ]
    }
   ],
   "source": [
    "print(yfull.shape)"
   ]
  },
  {
   "cell_type": "code",
   "execution_count": 29,
   "metadata": {
    "collapsed": true
   },
   "outputs": [],
   "source": [
    "#print(X_new_t)"
   ]
  },
  {
   "cell_type": "markdown",
   "metadata": {},
   "source": [
    "Doesn't seem quite right actually. Order of polynomial = 60, but why is the plot looking like of much lower order?\n",
    "\n",
    "If you test it out with low orders (e.g. 2, 3, 4), it looks fine actually."
   ]
  },
  {
   "cell_type": "code",
   "execution_count": 30,
   "metadata": {},
   "outputs": [
    {
     "name": "stderr",
     "output_type": "stream",
     "text": [
      "/Users/user_adax/anaconda/lib/python3.6/site-packages/numpy/core/_methods.py:116: RuntimeWarning: overflow encountered in multiply\n",
      "  x = um.multiply(x, x, out=x)\n"
     ]
    },
    {
     "data": {
      "image/png": "[encoded data removed]",
      "text/plain": [
       "<matplotlib.figure.Figure at 0x11cf80e48>"
      ]
     },
     "metadata": {},
     "output_type": "display_data"
    }
   ],
   "source": [
    "poly = preprocessing.PolynomialFeatures(degree=60, include_bias=False)\n",
    "scaler = preprocessing.StandardScaler()\n",
    "lin_reg2 = linear_model.LinearRegression()\n",
    "\n",
    "# pipeline sequentially applies a list of transforms followed by a final estimator.\n",
    "# so this allows us to add another preprocessing step (scaler) to remove mean and scale to unit variance\n",
    "# pipeline processes in order...\n",
    "pipeline_reg = pipeline.Pipeline([('poly', poly), ('scal', scaler), ('lin', lin_reg2)])\n",
    "# Note: Try removing the scaler preprocessing step. you will get the same plot as earlier\n",
    "\n",
    "# fit, then predict the whole bunch of data to get the curve\n",
    "pipeline_reg.fit(Xfull, yfull)\n",
    "curve = pipeline_reg.predict(Xfull)\n",
    "\n",
    "# plots\n",
    "full_country_stats.plot(kind='scatter', x=\"GDP per capita\", y='Life satisfaction', figsize=(8,4))\n",
    "plt.axis([0, 110000, 0, 10])\n",
    "plt.plot(Xfull, curve, 'r')\n",
    "plt.show()"
   ]
  },
  {
   "cell_type": "markdown",
   "metadata": {},
   "source": [
    "**Q3**: How do we know what's the best polynomial order to model this data?"
   ]
  },
  {
   "cell_type": "code",
   "execution_count": 42,
   "metadata": {
    "collapsed": true
   },
   "outputs": [],
   "source": []
  },
  {
   "cell_type": "code",
   "execution_count": null,
   "metadata": {
    "collapsed": true
   },
   "outputs": [],
   "source": []
  },
  {
   "cell_type": "code",
   "execution_count": null,
   "metadata": {
    "collapsed": true
   },
   "outputs": [],
   "source": [
    " "
   ]
  },
  {
   "cell_type": "markdown",
   "metadata": {},
   "source": [
    "### Multiple Linear Regression (or Regression with Multiple Features)\n",
    "\n",
    "**Q4**: Using the same idea as the polynomial regression, try using more features from the data that we have such as Air Pollution, Employment Rate, or anything else you think might impact life satisfaction. Pack them into an array (just like how `fit_transform()` worked previously) and try performing linear regression. It will be using multiple features.\n",
    "\n",
    "*Important: If you are using different features with different numeric ranges, you MUST normalize them individually before performing regression.*\n",
    "\n",
    "*Recall: There are techniques that we learned previously on how to perform data analysis on the variables to find out which ones have a high correlation.*"
   ]
  },
  {
   "cell_type": "code",
   "execution_count": null,
   "metadata": {
    "collapsed": true
   },
   "outputs": [],
   "source": [
    "# to check which of the variable are compatible \n",
    "# with each other e.x. all must be float64, etc\n",
    "# full_country_stats.dtypes"
   ]
  },
  {
   "cell_type": "code",
   "execution_count": null,
   "metadata": {
    "collapsed": true
   },
   "outputs": [],
   "source": []
  },
  {
   "cell_type": "code",
   "execution_count": 90,
   "metadata": {},
   "outputs": [
    {
     "data": {
      "image/png": "[encoded data removed]",
      "text/plain": [
       "<matplotlib.figure.Figure at 0x11ee94860>"
      ]
     },
     "metadata": {},
     "output_type": "display_data"
    },
    {
     "name": "stdout",
     "output_type": "stream",
     "text": [
      "0.344087158297\n",
      "12.3871376987\n"
     ]
    }
   ],
   "source": [
    "scaler3 = preprocessing.StandardScaler()\n",
    "lin_reg3 = linear_model.LinearRegression()\n",
    "\n",
    "pipeline_3 = pipeline.Pipeline([('scal', scaler3), ('lin', lin_reg3)])\n",
    "\n",
    "pipeline_3.fit(Xfull, yfull)\n",
    "curve3 = pipeline_3.predict(Xfull)\n",
    "\n",
    "full_country_stats.plot(kind='scatter', \n",
    "                        x=\"GDP per capita\", \n",
    "                        y='Life satisfaction', figsize=(8,4))\n",
    "plt.axis([0, 110000, 0, 10])\n",
    "plt.plot(Xfull, curve3, 'r')\n",
    "plt.show()\n",
    "\n",
    "resd3 = (yfull - curve3)**2\n",
    "meanr3 =np.mean(resd3)\n",
    "sumr3 = np.sum(resd3)\n",
    "print(meanr3)\n",
    "print(sumr3)"
   ]
  },
  {
   "cell_type": "code",
   "execution_count": 95,
   "metadata": {},
   "outputs": [
    {
     "data": {
      "image/png": "[encoded data removed]",
      "text/plain": [
       "<matplotlib.figure.Figure at 0x11805b780>"
      ]
     },
     "metadata": {},
     "output_type": "display_data"
    },
    {
     "name": "stdout",
     "output_type": "stream",
     "text": [
      "0.344087158297\n",
      "12.3871376987\n"
     ]
    }
   ],
   "source": [
    "lin_reg4 = linear_model.LinearRegression()\n",
    "\n",
    "lin_reg4.fit(Xfull, yfull)\n",
    "curve4 = lin_reg4.predict(Xfull)\n",
    "\n",
    "full_country_stats.plot(kind='scatter', x=\"GDP per capita\", y='Life satisfaction', figsize=(8,4))\n",
    "plt.axis([0, 110000, 0, 10])\n",
    "plt.plot(Xfull[:,0], curve4, 'r')\n",
    "plt.show()\n",
    "\n",
    "resd4 = (yfull - curve4)**2\n",
    "meanr4 =np.mean(resd4)\n",
    "sumr4 = np.sum(resd4)\n",
    "print(meanr4)\n",
    "print(sumr4)"
   ]
  },
  {
   "cell_type": "code",
   "execution_count": null,
   "metadata": {
    "collapsed": true
   },
   "outputs": [],
   "source": []
  },
  {
   "cell_type": "code",
   "execution_count": null,
   "metadata": {
    "collapsed": true
   },
   "outputs": [],
   "source": []
  },
  {
   "cell_type": "code",
   "execution_count": null,
   "metadata": {
    "collapsed": true
   },
   "outputs": [],
   "source": []
  },
  {
   "cell_type": "markdown",
   "metadata": {},
   "source": [
    "## Extra Exercise: Predicting House Prices"
   ]
  },
  {
   "cell_type": "markdown",
   "metadata": {},
   "source": [
    "As usual, take a peek at the data first..."
   ]
  },
  {
   "cell_type": "code",
   "execution_count": null,
   "metadata": {
    "collapsed": true
   },
   "outputs": [],
   "source": [
    "pd.read_csv(\"housing.csv\")"
   ]
  },
  {
   "cell_type": "code",
   "execution_count": null,
   "metadata": {
    "collapsed": true
   },
   "outputs": [],
   "source": [
    "housing.info()"
   ]
  },
  {
   "cell_type": "code",
   "execution_count": null,
   "metadata": {
    "collapsed": true
   },
   "outputs": [],
   "source": [
    "housing[\"ocean_proximity\"].value_counts()"
   ]
  },
  {
   "cell_type": "code",
   "execution_count": null,
   "metadata": {
    "collapsed": true
   },
   "outputs": [],
   "source": [
    "housing.describe()"
   ]
  },
  {
   "cell_type": "code",
   "execution_count": null,
   "metadata": {
    "collapsed": true
   },
   "outputs": [],
   "source": [
    "%matplotlib inline\n",
    "import matplotlib.pyplot as plt\n",
    "housing.hist(bins=50, figsize=(20,15))\n",
    "plt.show()"
   ]
  },
  {
   "cell_type": "markdown",
   "metadata": {},
   "source": [
    "### Training/test splits"
   ]
  },
  {
   "cell_type": "code",
   "execution_count": null,
   "metadata": {
    "collapsed": true
   },
   "outputs": [],
   "source": [
    "# to make this notebook's output identical at every run\n",
    "np.random.seed(16)  # or any lucky number you wish"
   ]
  },
  {
   "cell_type": "code",
   "execution_count": null,
   "metadata": {
    "collapsed": true
   },
   "outputs": [],
   "source": [
    "import numpy as np\n",
    "\n",
    "# For illustration only. sklearn has train_test_split() but this shows you how it is done internally\n",
    "def split_train_test(data, test_ratio):\n",
    "    shuffled_indices = np.random.permutation(len(data))\n",
    "    test_set_size = int(len(data) * test_ratio)\n",
    "    test_indices = shuffled_indices[:test_set_size]\n",
    "    train_indices = shuffled_indices[test_set_size:]\n",
    "    return data.iloc[train_indices], data.iloc[test_indices]"
   ]
  },
  {
   "cell_type": "code",
   "execution_count": null,
   "metadata": {
    "collapsed": true
   },
   "outputs": [],
   "source": [
    "train_set, test_set = split_train_test(housing, 0.2)\n",
    "print(len(train_set), \"train +\", len(test_set), \"test\")"
   ]
  },
  {
   "cell_type": "code",
   "execution_count": null,
   "metadata": {
    "collapsed": true
   },
   "outputs": [],
   "source": [
    "import hashlib\n",
    "\n",
    "def test_set_check(identifier, test_ratio, hash):\n",
    "    return hash(np.int64(identifier)).digest()[-1] < 256 * test_ratio\n",
    "\n",
    "def split_train_test_by_id(data, test_ratio, id_column, hash=hashlib.md5):\n",
    "    ids = data[id_column]\n",
    "    in_test_set = ids.apply(lambda id_: test_set_check(id_, test_ratio, hash))\n",
    "    return data.loc[~in_test_set], data.loc[in_test_set]\n",
    "\n",
    "test_set.head()"
   ]
  },
  {
   "cell_type": "code",
   "execution_count": null,
   "metadata": {
    "collapsed": true
   },
   "outputs": [],
   "source": [
    "housing_with_id = housing.reset_index()   # adds an `index` column\n",
    "train_set, test_set = split_train_test_by_id(housing_with_id, 0.2, \"index\")"
   ]
  },
  {
   "cell_type": "code",
   "execution_count": null,
   "metadata": {
    "collapsed": true
   },
   "outputs": [],
   "source": [
    "housing_with_id[\"id\"] = housing[\"longitude\"] * 1000 + housing[\"latitude\"]\n",
    "train_set, test_set = split_train_test_by_id(housing_with_id, 0.2, \"id\")"
   ]
  },
  {
   "cell_type": "code",
   "execution_count": null,
   "metadata": {
    "collapsed": true
   },
   "outputs": [],
   "source": [
    "test_set.head()"
   ]
  },
  {
   "cell_type": "code",
   "execution_count": null,
   "metadata": {
    "collapsed": true
   },
   "outputs": [],
   "source": [
    "from sklearn.model_selection import train_test_split\n",
    "\n",
    "train_set, test_set = train_test_split(housing, test_size=0.2, random_state=16)"
   ]
  },
  {
   "cell_type": "code",
   "execution_count": null,
   "metadata": {
    "collapsed": true,
    "scrolled": true
   },
   "outputs": [],
   "source": [
    "test_set.head()"
   ]
  },
  {
   "cell_type": "markdown",
   "metadata": {},
   "source": [
    "### Do the rest\n",
    "\n",
    "Now you should take over and do the rest. Here's a guide on what you can explore:\n",
    "\n",
    "1. Analyse the data further to see what other statistics you can observe\n",
    "2. Discover and visualize the data to gain insights\n",
    "3. Prepare the data for regression\n",
    "4. Select and train a model\n",
    "5. Fine-tune your model (basically, find which models gets the best result)"
   ]
  },
  {
   "cell_type": "code",
   "execution_count": null,
   "metadata": {
    "collapsed": true
   },
   "outputs": [],
   "source": []
  }
 ],
 "metadata": {
  "kernelspec": {
   "display_name": "Python 2",
   "language": "python",
   "name": "python2"
  },
  "language_info": {
   "codemirror_mode": {
    "name": "ipython",
    "version": 2
   },
   "file_extension": ".py",
   "mimetype": "text/x-python",
   "name": "python",
   "nbconvert_exporter": "python",
   "pygments_lexer": "ipython2",
   "version": "2.7.14"
  },
  "nav_menu": {
   "height": "279px",
   "width": "309px"
  },
  "toc": {
   "navigate_menu": true,
   "number_sections": true,
   "sideBar": true,
   "threshold": 6,
   "toc_cell": false,
   "toc_section_display": "block",
   "toc_window_display": false
  }
 },
 "nbformat": 4,
 "nbformat_minor": 1
}
