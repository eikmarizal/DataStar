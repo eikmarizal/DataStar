{
 "cells": [
  {
   "cell_type": "markdown",
   "metadata": {},
   "source": [
    "RUN ME\n",
    "==\n",
    "\n",
    "Please run the below code snippet. It is required for running tests for your solution."
   ]
  },
  {
   "cell_type": "code",
   "execution_count": 1,
   "metadata": {
    "collapsed": true
   },
   "outputs": [],
   "source": [
    "def test(got, expected):\n",
    "    if got == expected:\n",
    "        prefix = ' OK '\n",
    "    else:\n",
    "        prefix = '  FAIL '\n",
    "    print(('%s got: %s expected: %s' % (prefix, repr(got), repr(expected))))"
   ]
  },
  {
   "cell_type": "markdown",
   "metadata": {},
   "source": [
    "### Question 1"
   ]
  },
  {
   "cell_type": "code",
   "execution_count": 2,
   "metadata": {},
   "outputs": [
    {
     "name": "stdout",
     "output_type": "stream",
     "text": [
      "verbing\n",
      " OK  got: 'hailing' expected: 'hailing'\n",
      " OK  got: 'swimingly' expected: 'swimingly'\n",
      " OK  got: 'do' expected: 'do'\n"
     ]
    }
   ],
   "source": [
    "# D. verbing\n",
    "# Given a string, if its length is at least 3,\n",
    "# add 'ing' to its end.\n",
    "# Unless it already ends in 'ing', in which case\n",
    "# add 'ly' instead.\n",
    "# If the string length is less than 3, leave it unchanged.\n",
    "# Return the resulting string.\n",
    "def verbing(s):\n",
    "    length=len(s)\n",
    "    if length > 2:\n",
    "        if s[-3:]=='ing':\n",
    "            s +='ly'\n",
    "        else:\n",
    "            s +='ing'\n",
    "        \n",
    "    return s   \n",
    "\n",
    "    \n",
    "\n",
    "print('verbing')\n",
    "test(verbing('hail'), 'hailing')\n",
    "test(verbing('swiming'), 'swimingly')\n",
    "test(verbing('do'), 'do')"
   ]
  },
  {
   "cell_type": "markdown",
   "metadata": {},
   "source": [
    "Question 2\n",
    "=="
   ]
  },
  {
   "cell_type": "code",
   "execution_count": 3,
   "metadata": {},
   "outputs": [
    {
     "name": "stdout",
     "output_type": "stream",
     "text": [
      "\n",
      "not_bad\n",
      " OK  got: 'This movie is good' expected: 'This movie is good'\n",
      " OK  got: 'This dinner is good!' expected: 'This dinner is good!'\n",
      " OK  got: 'This tea is not hot' expected: 'This tea is not hot'\n",
      " OK  got: \"It's bad yet not\" expected: \"It's bad yet not\"\n"
     ]
    }
   ],
   "source": [
    "# E. not_bad\n",
    "# Given a string, find the first appearance of the\n",
    "# substring 'not' and 'bad'. If the 'bad' follows\n",
    "# the 'not', replace the whole 'not'...'bad' substring\n",
    "# with 'good'.\n",
    "# Return the resulting string.\n",
    "# So 'This dinner is not that bad!' yields:\n",
    "# This dinner is good!\n",
    "def not_bad(s):\n",
    "      snot = s.find('not')\n",
    "      sbad = s.find('bad')\n",
    "      if sbad > snot:\n",
    "        s = s.replace(s[snot:(sbad+3)], 'good')\n",
    "      return s      \n",
    "\n",
    "print()\n",
    "print('not_bad')\n",
    "test(not_bad('This movie is not so bad'), 'This movie is good')\n",
    "test(not_bad('This dinner is not that bad!'), 'This dinner is good!')\n",
    "test(not_bad('This tea is not hot'), 'This tea is not hot')\n",
    "test(not_bad(\"It's bad yet not\"), \"It's bad yet not\")"
   ]
  },
  {
   "cell_type": "markdown",
   "metadata": {},
   "source": [
    "Question 3\n",
    "=="
   ]
  },
  {
   "cell_type": "code",
   "execution_count": 4,
   "metadata": {},
   "outputs": [
    {
     "name": "stdout",
     "output_type": "stream",
     "text": [
      "\n",
      "front_back\n",
      " OK  got: 'abxcdy' expected: 'abxcdy'\n",
      " OK  got: 'abcxydez' expected: 'abcxydez'\n",
      " OK  got: 'KitDontenut' expected: 'KitDontenut'\n"
     ]
    }
   ],
   "source": [
    "\n",
    "# F. front_back\n",
    "# Consider dividing a string into two halves.\n",
    "# If the length is even, the front and back halves are the same length.\n",
    "# If the length is odd, we'll say that the extra char goes in the front half.\n",
    "# e.g. 'abcde', the front half is 'abc', the back half 'de'.\n",
    "# Given 2 strings, a and b, return a string of the form\n",
    "#  a-front + b-front + a-back + b-back\n",
    "def front_back(a, b):\n",
    "  alength = len(a)\n",
    "  blength = len(b)\n",
    "\n",
    "  if alength % 2 == 0:\n",
    "    aindex = alength // 2\n",
    "  else:\n",
    "    aindex = (alength // 2) + 1\n",
    "\n",
    "  if blength % 2 == 0:\n",
    "    bindex = blength // 2\n",
    "  else:\n",
    "    bindex = (blength // 2) + 1\n",
    "\n",
    "  afront = a[0:aindex]\n",
    "  aback = a[aindex:]\n",
    "\n",
    "  bfront = b[0:bindex]\n",
    "  bback = b[bindex:]\n",
    "\n",
    "  return afront + bfront + aback + bback    \n",
    "       \n",
    "\n",
    "\n",
    "print()\n",
    "print('front_back')\n",
    "test(front_back('abcd', 'xy'), 'abxcdy')\n",
    "test(front_back('abcde', 'xyz'), 'abcxydez')\n",
    "test(front_back('Kitten', 'Donut'), 'KitDontenut')"
   ]
  },
  {
   "cell_type": "markdown",
   "metadata": {},
   "source": [
    "Question 4\n",
    "=="
   ]
  },
  {
   "cell_type": "code",
   "execution_count": 5,
   "metadata": {},
   "outputs": [
    {
     "name": "stdout",
     "output_type": "stream",
     "text": [
      "3\n",
      "1\n"
     ]
    }
   ],
   "source": [
    "# using round()\n",
    "# how to change 2.6 to 3\n",
    "print(round(2.6))\n",
    "# how to make 1.4 to 1\n",
    "print(round(1.4))"
   ]
  },
  {
   "cell_type": "code",
   "execution_count": 6,
   "metadata": {},
   "outputs": [
    {
     "name": "stdout",
     "output_type": "stream",
     "text": [
      "3\n",
      "2\n"
     ]
    }
   ],
   "source": [
    "# how to change 2.2 to 3\n",
    "# how to change 2.2 to 2\n",
    "import math\n",
    "print(math.ceil(2.2))\n",
    "print(math.floor(2.2))"
   ]
  }
 ],
 "metadata": {
  "kernelspec": {
   "display_name": "Python 3",
   "language": "python",
   "name": "python3"
  },
  "language_info": {
   "codemirror_mode": {
    "name": "ipython",
    "version": 3
   },
   "file_extension": ".py",
   "mimetype": "text/x-python",
   "name": "python",
   "nbconvert_exporter": "python",
   "pygments_lexer": "ipython3",
   "version": "3.6.2"
  }
 },
 "nbformat": 4,
 "nbformat_minor": 1
}
