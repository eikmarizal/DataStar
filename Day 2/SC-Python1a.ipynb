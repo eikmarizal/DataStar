{
 "cells": [
  {
   "cell_type": "markdown",
   "metadata": {},
   "source": [
    "![](http://thecads.org/wp-content/uploads/2017/02/adax_logo.jpg)\n",
    "# Module 1: Python Basics\n",
    "\n",
    "## 1a. Getting Started with Python\n",
    "\n",
    "### Contents:\n",
    "\n",
    "* [What is a Program?](#Programs)\n",
    "* [What is Python?](#Python)\n",
    "* [Arithmetic](#Arithmetic)\n",
    "* [Variables](#Variables)\n",
    "* [Strings](#Strings)"
   ]
  },
  {
   "cell_type": "markdown",
   "metadata": {},
   "source": [
    "# Programs\n",
    "\n",
    "\n",
    "Most machines are designed to do one thing.  For example, a fan is designed to blow air.  \n",
    "\n",
    "Because they are designed to do one thing only, most machines are limited in what they can do.  You can try and vary their basic functionality, but you will not get very far.  If you want to change a fan into something else, like a dynamo, you have to alter the design of the machine in order to get it to do something else.  \n",
    "\n",
    "> \"A computer does two things: perform calculation & remember the results.\"  \n",
    "> <center>* - John V. Guttag* </center>\n",
    "\n",
    "With those two things, you can run any process, which is defined as a very precise sequence of steps.  Why do processes need to be precise?\n",
    "\n",
    "If you can run any process, well, you can run any algorithm, because an algorithm is just a process that always finishes.  You can also run any program, which is just a fancy name for a collection of interlinked processes. \n",
    "\n",
    "And that's it.  Your computer does two things, but it's designed to do one: run programs.  To write programs, you have to learn programming, and that will be the focus of the Python Module. "
   ]
  },
  {
   "cell_type": "markdown",
   "metadata": {
    "collapsed": true
   },
   "source": [
    "# Python\n",
    "\n",
    "Why Python?\n",
    "\n",
    "1. It’s easy to learn\n",
    "- Now the language of choice for 8 of 10 top US computer science\n",
    "programs (Philip Guo, CACM)\n",
    "2. Full featured\n",
    "- Not just a statistics language, but has full capabilities for data\n",
    "acquisition, cleaning, databases, high performance computing, and more\n",
    "3. Strong Data Science Libraries\n",
    "- The SciPy Ecosystem\n",
    "\n",
    "\n",
    "It's important to note that Python isn't the only way that we could teach data science. We can teach data science in R, in Excel, in any number of software packages.  That's because Python is a tool that data scientists use, but the concepts are more important for you to understand. \n",
    "\n",
    "A computer's purpose is to stores (and manipulate) a sequence of instructions, and has a set of elements that will execute any instruction in that sequence. Once we program using instructions and data objects at the level of the machine (e.g., move 64 bits of data from this location to that location) then we do **low-level programming**.\n",
    "\n",
    "If we program using more _abstract_ operations (e.g., pop up a menu on the screen) that have been provided by the language designer then we do **high-level programming**. Since you don't have to tell Python how to move bits and bytes around, when you write you are doing something abstract - your computer understands something else.\n",
    "\n",
    "The Python _interpreter_ is a program that interprets the programs that we write in Python by running a program that a computer understands directly. The language that your computers understand directly is called *binary*. Python is a **language**, not a program in itself, although the _interpreter_ is.  \n",
    "\n",
    "So Python is an _abstract_ **high-level language**.\n",
    "\n"
   ]
  },
  {
   "cell_type": "code",
   "execution_count": null,
   "metadata": {
    "collapsed": true
   },
   "outputs": [],
   "source": [
    "# this grey coloured box is called a cell.\n",
    "# you type your codes in this grey cell.\n",
    "\n",
    "# notice that on the left, the is the In []:\n",
    "# this indicates the cell number. Look out for this in the subsequent cells."
   ]
  },
  {
   "cell_type": "markdown",
   "metadata": {},
   "source": [
    "### Your first program: Print!\n",
    "\n",
    "Python can handle strings of letters that are enclosed in quotation marks like:  \n",
    "\n",
    "`\"Hello Class\"` or `'Hello World'`\n",
    "\n",
    "One of the simplest programs is print, which works like the following:\n",
    "\n",
    "    print(\"Hello Class!\") "
   ]
  },
  {
   "cell_type": "code",
   "execution_count": 1,
   "metadata": {},
   "outputs": [
    {
     "name": "stdout",
     "output_type": "stream",
     "text": [
      "Hello Class!\n"
     ]
    }
   ],
   "source": [
    "print(\"Hello Class!\") "
   ]
  },
  {
   "cell_type": "code",
   "execution_count": 2,
   "metadata": {},
   "outputs": [
    {
     "name": "stdout",
     "output_type": "stream",
     "text": [
      "Hello World!\n"
     ]
    }
   ],
   "source": [
    "# Write your first bit of code: print \"Hello World!\"\n",
    "# print?\n",
    "# To execute this cell, press shift+enter\n",
    "print (\"Hello World!\")\n"
   ]
  },
  {
   "cell_type": "code",
   "execution_count": null,
   "metadata": {
    "collapsed": true
   },
   "outputs": [],
   "source": [
    "# notice that anything that comes after the '#'\n",
    "# is not read or executed by Python.\n",
    "\n",
    "# is used to comment on the codes i.e.\n",
    "# to make notes as you go."
   ]
  },
  {
   "cell_type": "markdown",
   "metadata": {},
   "source": [
    "## Arithmetic\n",
    "\n",
    "Python can also handle numbers, and basic arithmetic using the following functions.\n",
    "\n",
    "| Symbol | Task Performed |\n",
    "|----|---|\n",
    "| +  | Addition |\n",
    "| -  | Subtraction |\n",
    "| /  | division |\n",
    "| %  | modulo |\n",
    "| *  | multiplication |\n",
    "| //  | floor division |\n",
    "| **  | to the power of |"
   ]
  },
  {
   "cell_type": "code",
   "execution_count": 3,
   "metadata": {},
   "outputs": [
    {
     "name": "stdout",
     "output_type": "stream",
     "text": [
      "3\n"
     ]
    }
   ],
   "source": [
    "# print out the following: 3\n",
    "print(3)"
   ]
  },
  {
   "cell_type": "code",
   "execution_count": 4,
   "metadata": {},
   "outputs": [
    {
     "name": "stdout",
     "output_type": "stream",
     "text": [
      "15\n"
     ]
    }
   ],
   "source": [
    "# print out the following: 3*5\n",
    "print(3*5)"
   ]
  },
  {
   "cell_type": "code",
   "execution_count": 5,
   "metadata": {},
   "outputs": [
    {
     "name": "stdout",
     "output_type": "stream",
     "text": [
      "6\n"
     ]
    }
   ],
   "source": [
    "# print out the following: 3+3\n",
    "print(3+3)"
   ]
  },
  {
   "cell_type": "code",
   "execution_count": 6,
   "metadata": {},
   "outputs": [
    {
     "name": "stdout",
     "output_type": "stream",
     "text": [
      "1\n"
     ]
    }
   ],
   "source": [
    "# print out the following: 3-2\n",
    "print(3-2)"
   ]
  },
  {
   "cell_type": "code",
   "execution_count": 7,
   "metadata": {},
   "outputs": [
    {
     "name": "stdout",
     "output_type": "stream",
     "text": [
      "4.0\n"
     ]
    }
   ],
   "source": [
    "# print out the following: 8/2\n",
    "print(8/2)"
   ]
  },
  {
   "cell_type": "markdown",
   "metadata": {},
   "source": [
    "Parentheses work too! And they are used similarly to arithmetic rules."
   ]
  },
  {
   "cell_type": "code",
   "execution_count": 8,
   "metadata": {},
   "outputs": [
    {
     "name": "stdout",
     "output_type": "stream",
     "text": [
      "14\n",
      "20\n",
      "14\n"
     ]
    }
   ],
   "source": [
    "# print the computation below and see the difference:\n",
    "# 2+3*4\n",
    "print(2+3*4)\n",
    "#(2+3)*4\n",
    "print((2+3)*4)\n",
    "# 2+(3*4)\n",
    "print(2+(3*4))"
   ]
  },
  {
   "cell_type": "markdown",
   "metadata": {},
   "source": [
    "### <font color=\"#ec1c24\">Quick Practice 1: Some Basic Arithmetic Exercises</font>"
   ]
  },
  {
   "cell_type": "code",
   "execution_count": 9,
   "metadata": {},
   "outputs": [
    {
     "name": "stdout",
     "output_type": "stream",
     "text": [
      "31536000\n"
     ]
    }
   ],
   "source": [
    "# How many seconds are there in a year?\n",
    "print(365*(24*60*60))"
   ]
  },
  {
   "cell_type": "code",
   "execution_count": 10,
   "metadata": {},
   "outputs": [
    {
     "name": "stdout",
     "output_type": "stream",
     "text": [
      "1920\n"
     ]
    }
   ],
   "source": [
    "# What is the duration of our 5-day class in minutes?\n",
    "print(4*(8*60)) #based on DataStar class days & hours"
   ]
  },
  {
   "cell_type": "code",
   "execution_count": 11,
   "metadata": {},
   "outputs": [
    {
     "data": {
      "text/plain": [
       "210"
      ]
     },
     "execution_count": 11,
     "metadata": {},
     "output_type": "execute_result"
    }
   ],
   "source": [
    "# Find the sum of all integer numbers from 1 to 20 \n",
    "sum(range(1,21))"
   ]
  },
  {
   "cell_type": "code",
   "execution_count": 12,
   "metadata": {},
   "outputs": [
    {
     "name": "stdout",
     "output_type": "stream",
     "text": [
      "20160\n"
     ]
    }
   ],
   "source": [
    "# What is the duration of a 42-day class in minutes?\n",
    "print(42*(8*60)) #based on DataStar class days & hours"
   ]
  },
  {
   "cell_type": "markdown",
   "metadata": {},
   "source": [
    "### Integers vs. Float\n",
    "\n",
    "&#x2605; For Python 2.x, it interprets 1/2 = 0, while Python 3.x the result will be 0.5\n",
    "\n",
    "Python allows you to work with both integers (int) and numbers containing decimals (float).  Of course, every integer can be represented as a float, but there are some things you can do with integers that you cannot do with floats that mostly have to do with precision.  Python can tell automatically if a number is an int or a float, though you can override this as you see fit."
   ]
  },
  {
   "cell_type": "code",
   "execution_count": 13,
   "metadata": {},
   "outputs": [
    {
     "name": "stdout",
     "output_type": "stream",
     "text": [
      "0.5\n"
     ]
    }
   ],
   "source": [
    "print(1/2)"
   ]
  },
  {
   "cell_type": "code",
   "execution_count": 14,
   "metadata": {},
   "outputs": [
    {
     "name": "stdout",
     "output_type": "stream",
     "text": [
      "<class 'int'>\n",
      "<class 'float'>\n",
      "<class 'float'>\n",
      "<class 'int'>\n",
      "3.3333333333333335\n",
      "3.7142857142857144\n",
      "3.0\n",
      "8\n"
     ]
    }
   ],
   "source": [
    "# print the values to see the difference.\n",
    "# print the values to see the difference.\n",
    "print((type(10)))\n",
    "print((type(10.)))\n",
    "print((type(10/3)))\n",
    "print((type(10%3)))\n",
    "print((float(10)/3))\n",
    "print((13.0/3.5))\n",
    "print((13.0//3.5))\n",
    "print((round(7.8))) #you can round floats up to the nearest"
   ]
  },
  {
   "cell_type": "markdown",
   "metadata": {},
   "source": [
    "### Int arithmetic\n",
    "\n",
    "Arithmetic with integers works the same way as normal arithmetic, except for division.  When you divide one integer by another, you drop the remainder.  To get the remainder, you can use the % (mod) operation.  To get the exact result, however, you need another data type - you turn one of the integers into a float.  In general, if you perform an arithmetic operation with one integer and one float, Python will turn both numbers into floats before performing the operation."
   ]
  },
  {
   "cell_type": "code",
   "execution_count": 15,
   "metadata": {},
   "outputs": [
    {
     "name": "stdout",
     "output_type": "stream",
     "text": [
      "Find x in 5x = 3x + 8\n"
     ]
    },
    {
     "data": {
      "text/plain": [
       "4.0"
      ]
     },
     "execution_count": 15,
     "metadata": {},
     "output_type": "execute_result"
    }
   ],
   "source": [
    "# Quick Exercises!\n",
    "# Solve the basic algebra equations, without doing any calculations in your head: \n",
    "# You should type all and only the numbers that are already on the screen. \n",
    "# For example:\n",
    "\n",
    "print(\"Find x in 5x = 3x + 8\")\n",
    "8/(5-3) "
   ]
  },
  {
   "cell_type": "code",
   "execution_count": 16,
   "metadata": {},
   "outputs": [
    {
     "name": "stdout",
     "output_type": "stream",
     "text": [
      "-15.0\n"
     ]
    }
   ],
   "source": [
    "# Find x in -10x + -19 = 11 + -8x.\n",
    "print((-19-11)/(-8+10))"
   ]
  },
  {
   "cell_type": "code",
   "execution_count": 17,
   "metadata": {},
   "outputs": [
    {
     "name": "stdout",
     "output_type": "stream",
     "text": [
      "-222.0\n"
     ]
    }
   ],
   "source": [
    "# Find x in -1x + -1 = 221 + 2x.\n",
    "print((-221-1)/(2-1))"
   ]
  },
  {
   "cell_type": "markdown",
   "metadata": {},
   "source": [
    "### Float arithmetic"
   ]
  },
  {
   "cell_type": "code",
   "execution_count": 18,
   "metadata": {},
   "outputs": [
    {
     "name": "stdout",
     "output_type": "stream",
     "text": [
      "7.7\n",
      "3.3\n",
      "12.100000000000001\n",
      "2.5\n",
      "2.0\n",
      "42.540042248725975\n",
      "False\n",
      "True\n"
     ]
    }
   ],
   "source": [
    "# Examples: Print the following on individual cells.\n",
    "# 5.5 + 2.2\n",
    "# 5.5 - 2.2\n",
    "# 5.5 * 2.2\n",
    "# 5.5 / 2.2\n",
    "# 5.5 // 2.2\n",
    "# 5.5 ** 2.2\n",
    "# 5.5 < 2.2\n",
    "# 5.5 != 2.2\n",
    "\n",
    "print(5.5 + 2.2)\n",
    "print(5.5 - 2.2)\n",
    "print(5.5 * 2.2)\n",
    "print(5.5 / 2.2)\n",
    "print(5.5 // 2.2)\n",
    "print(5.5 ** 2.2)\n",
    "print(5.5 < 2.2)\n",
    "print(5.5 != 2.2)\n",
    "\n",
    "# what is your observation?"
   ]
  },
  {
   "cell_type": "code",
   "execution_count": 19,
   "metadata": {},
   "outputs": [
    {
     "name": "stdout",
     "output_type": "stream",
     "text": [
      "-12.4\n"
     ]
    }
   ],
   "source": [
    "# Find x in 17x + -11 = 113 + 7x.\n",
    "print((113+11)/(-17+7))"
   ]
  },
  {
   "cell_type": "markdown",
   "metadata": {},
   "source": [
    "# Variables\n",
    "\n",
    "A name that is used to denote something or a value is called a variable. This is how a computer *stores* data, by assigning it to a variable! In python, variables can be declared and values can be assigned to it as follows:"
   ]
  },
  {
   "cell_type": "code",
   "execution_count": 20,
   "metadata": {},
   "outputs": [
    {
     "name": "stdout",
     "output_type": "stream",
     "text": [
      "-10\n",
      "2.7\n",
      "-7.3\n",
      "<class 'int'>\n",
      "<class 'float'>\n"
     ]
    }
   ],
   "source": [
    "b = -10 \n",
    "c = 2.7 \n",
    "\n",
    "# Do the following:\n",
    "# 1) print the values of 'c' and 'b'\n",
    "print (b)\n",
    "print (c)\n",
    "# 2) print the values of 'c' + 'b'\n",
    "print (c+b)\n",
    "# 3) get the type of 'b' and 'c'\n",
    "print((type(b)))\n",
    "print((type(c)))\n"
   ]
  },
  {
   "cell_type": "code",
   "execution_count": 21,
   "metadata": {},
   "outputs": [
    {
     "name": "stdout",
     "output_type": "stream",
     "text": [
      "2\n",
      "-10.0\n",
      "<class 'float'>\n",
      "<class 'int'>\n"
     ]
    }
   ],
   "source": [
    "# Note how changing the type to an int rounds down\n",
    "b = float(b)\n",
    "c = int(c)\n",
    "\n",
    "# Again do the following:\n",
    "# 1) print the values of 'c' and 'b'\n",
    "print (c)\n",
    "print (b)\n",
    "# 2) get the type of 'b' and 'c'\n",
    "print((type(b)))\n",
    "print((type(c)))"
   ]
  },
  {
   "cell_type": "markdown",
   "metadata": {},
   "source": [
    "Multiple variables can be assigned with the same value."
   ]
  },
  {
   "cell_type": "code",
   "execution_count": 22,
   "metadata": {},
   "outputs": [
    {
     "name": "stdout",
     "output_type": "stream",
     "text": [
      "(1, 1)\n"
     ]
    }
   ],
   "source": [
    "x = y = 1\n",
    "print((x,y))"
   ]
  },
  {
   "cell_type": "code",
   "execution_count": 23,
   "metadata": {},
   "outputs": [
    {
     "data": {
      "text/plain": [
       "1718666992"
      ]
     },
     "execution_count": 23,
     "metadata": {},
     "output_type": "execute_result"
    }
   ],
   "source": [
    "id(x)"
   ]
  },
  {
   "cell_type": "code",
   "execution_count": 24,
   "metadata": {},
   "outputs": [
    {
     "data": {
      "text/plain": [
       "1718666992"
      ]
     },
     "execution_count": 24,
     "metadata": {},
     "output_type": "execute_result"
    }
   ],
   "source": [
    "id(y)"
   ]
  },
  {
   "cell_type": "code",
   "execution_count": 25,
   "metadata": {},
   "outputs": [
    {
     "name": "stdout",
     "output_type": "stream",
     "text": [
      "3\n",
      "2\n"
     ]
    }
   ],
   "source": [
    "# Multiple Assignment - What does this do?\n",
    "x,y = 2,3\n",
    "x,y = y,x\n",
    "\n",
    "# print the answers using a single print command\n",
    "print (x)\n",
    "print (y)"
   ]
  },
  {
   "cell_type": "markdown",
   "metadata": {},
   "source": [
    "#### Follow the following variable naming rules:\n",
    "\n",
    "- Variable names can only contain letters, numbers, and underscores. Variable names can start with a letter or an underscore, but not a number.\n",
    "- Spaces are not allowed in variable names, so we use underscores instead of spaces. For example, use student_name instead of \"student name\".\n",
    "- You cannot use Python keywords as variable names.\n",
    "- Variable names should be descriptive, without being too long. For example mc_wheels is better than just \"wheels\", and number_of_wheels_on_a_motorycle.\n",
    "- Be careful about using the lowercase letter l and the uppercase letter O in places where they could be confused with the numbers 1 and 0.\n",
    "\n",
    "### Practice using variables"
   ]
  },
  {
   "cell_type": "code",
   "execution_count": 26,
   "metadata": {},
   "outputs": [
    {
     "name": "stdout",
     "output_type": "stream",
     "text": [
      "0.29979245800000004\n"
     ]
    }
   ],
   "source": [
    "# How fast does the speed of light travel in one nanosecond?\n",
    "# Give your answer in seconds, and assign it to a new variable called nanostick\n",
    "\n",
    "speed_of_light = 299792458 # meters per second\n",
    "nanostick = speed_of_light * (10**-9)\n",
    "print(nanostick)"
   ]
  },
  {
   "cell_type": "code",
   "execution_count": 27,
   "metadata": {
    "collapsed": true
   },
   "outputs": [],
   "source": [
    "# How far does light travel in the time that your computer does one cycle?\n",
    "speed_of_light = 299792458"
   ]
  },
  {
   "cell_type": "code",
   "execution_count": 28,
   "metadata": {},
   "outputs": [
    {
     "name": "stdout",
     "output_type": "stream",
     "text": [
      "3.5\n"
     ]
    }
   ],
   "source": [
    "# Variables can vary!\n",
    "# Guess the final value of guess_this_number in this code:\n",
    "\n",
    "guess_this_number  = 17\n",
    "guess_this_number = guess_this_number/2\n",
    "guess_this_number = guess_this_number - 5\n",
    "print (guess_this_number)"
   ]
  },
  {
   "cell_type": "code",
   "execution_count": 29,
   "metadata": {},
   "outputs": [
    {
     "name": "stdout",
     "output_type": "stream",
     "text": [
      "30.0\n"
     ]
    }
   ],
   "source": [
    "# Guess the final value of seconds in this code:\n",
    "minutes = 50\n",
    "minutes = minutes + 10\n",
    "seconds = minutes / 2\n",
    "print (seconds)"
   ]
  },
  {
   "cell_type": "code",
   "execution_count": 30,
   "metadata": {},
   "outputs": [
    {
     "name": "stdout",
     "output_type": "stream",
     "text": [
      "Variable            Type     Data/Info\n",
      "--------------------------------------\n",
      "b                   float    -10.0\n",
      "c                   int      2\n",
      "guess_this_number   float    3.5\n",
      "minutes             int      60\n",
      "nanostick           float    0.29979245800000004\n",
      "seconds             float    30.0\n",
      "speed_of_light      int      299792458\n",
      "x                   int      3\n",
      "y                   int      2\n"
     ]
    }
   ],
   "source": [
    "# Some Jupyter Magic on variables\n",
    "%whos"
   ]
  },
  {
   "cell_type": "markdown",
   "metadata": {},
   "source": [
    "# Strings\n",
    "\n",
    "A string is a set of characters.  Strings are used to store data that is _text_.\n",
    "\n",
    "In Python, Strings are abbreviated \"str\" and there are many built-in features that allow you to manipulate those strings.  \n",
    "\n",
    "Strings can be enclosed by either double or single quotes, although single quotes are more common."
   ]
  },
  {
   "cell_type": "code",
   "execution_count": 31,
   "metadata": {},
   "outputs": [
    {
     "ename": "SyntaxError",
     "evalue": "EOL while scanning string literal (<ipython-input-31-c28c97affa9e>, line 3)",
     "output_type": "error",
     "traceback": [
      "\u001b[1;36m  File \u001b[1;32m\"<ipython-input-31-c28c97affa9e>\"\u001b[1;36m, line \u001b[1;32m3\u001b[0m\n\u001b[1;33m    print(\"hello')\u001b[0m\n\u001b[1;37m                  ^\u001b[0m\n\u001b[1;31mSyntaxError\u001b[0m\u001b[1;31m:\u001b[0m EOL while scanning string literal\n"
     ]
    }
   ],
   "source": [
    "# Which of these are valid strings?\n",
    "print('hello')\n",
    "print(\"hello')\n",
    "print('hello)\n",
    "print('hello\")\n",
    "print(\"hello\")\n",
    "print \"hello\"\n",
    "print hello\n",
    "\n",
    "# Run this cell.\n",
    "# Can you identify where the error is happening and why?"
   ]
  },
  {
   "cell_type": "code",
   "execution_count": 32,
   "metadata": {},
   "outputs": [
    {
     "name": "stdout",
     "output_type": "stream",
     "text": [
      "My name is  Rizal\n"
     ]
    }
   ],
   "source": [
    "# Define a variable as your name.  Then print \"My name is _____\" using your variable. \n",
    "name=\"Rizal\"\n",
    "print (\"My name is \",name)\n"
   ]
  },
  {
   "cell_type": "code",
   "execution_count": 33,
   "metadata": {},
   "outputs": [
    {
     "data": {
      "text/plain": [
       "65"
      ]
     },
     "execution_count": 33,
     "metadata": {},
     "output_type": "execute_result"
    }
   ],
   "source": [
    "# String ASCII demo\n",
    "ord('A')"
   ]
  },
  {
   "cell_type": "markdown",
   "metadata": {},
   "source": [
    "#### A side note: \n",
    "One of the most useful tools for a curious student is the documentation, or docs that explain the functionality of a particular python type, function, or otherwise.  Take a look at the\n",
    "[Python Documentation on Strings](https://docs.python.org/3/library/stdtypes.html#str).\n",
    "\n",
    "### String Operations\n",
    "s + t -- the concatenation of s and t\n",
    "\n",
    "n * s -- equivalent to adding s to itself n times\n"
   ]
  },
  {
   "cell_type": "code",
   "execution_count": 34,
   "metadata": {},
   "outputs": [
    {
     "name": "stdout",
     "output_type": "stream",
     "text": [
      "French Fries\n"
     ]
    }
   ],
   "source": [
    "b = 'French' # Concatenation works quite intuitively\n",
    "print((b + ' Fries'))"
   ]
  },
  {
   "cell_type": "code",
   "execution_count": 36,
   "metadata": {},
   "outputs": [
    {
     "name": "stdout",
     "output_type": "stream",
     "text": [
      "pi is approximately: 3.14\n"
     ]
    }
   ],
   "source": [
    "#pi = 3.14\n",
    "#print(('pi is approximately: ' + 3.14)) # why does this throw an error?\n",
    "\n",
    "pi = ('3.14')\n",
    "print(('pi is approximately: ' + pi))\n",
    "# see the last two/bottom two cells for answer"
   ]
  },
  {
   "cell_type": "code",
   "execution_count": 37,
   "metadata": {},
   "outputs": [
    {
     "name": "stdout",
     "output_type": "stream",
     "text": [
      "oleh oleh Malaysia boleh \n",
      "('oleh oleh ', 'Malaysia b', 'oleh ')\n",
      "4 5\n"
     ]
    }
   ],
   "source": [
    "a = 'oleh '\n",
    "print((a*2 + 'Malaysia b' + a)) \n",
    "print((a*2, 'Malaysia b', a))\n",
    "print (4,5)\n",
    "# Will this work?"
   ]
  },
  {
   "cell_type": "markdown",
   "metadata": {},
   "source": [
    "### Slices of String Indices\n",
    "Characters in a string can be accessed using the standard [ ] syntax, and like Java and C++, Python uses zero-based indexing.  This concept will extend much further than strings.\n",
    "\n",
    "This is easiest to think about if you think of each letter as being in its own box.\n",
    "\n",
    "s[1:4] is 'ell' -- chars starting at index 1 and extending up to but not including index 4\n",
    "\n",
    "s[1:] is 'ello' -- omitting either index defaults to the start or end of the string\n",
    "\n",
    "s[:] is 'Hello' -- omitting both always gives us a copy of the whole thing (this is the pythonic way to copy a sequence like a string or list)\n",
    "\n",
    "s[1:100] is 'ello' -- an index that is too big is truncated down to the string length\n",
    "\n",
    "s[-1] is 'o' -- last char (1st from the end)\n",
    "\n",
    "s[-4] is 'e' -- 4th from the end\n",
    "\n",
    "s[:-3] is 'He' -- going up to but not including the last 3 chars.\n",
    "\n",
    "s[-3:] is 'llo' -- starting with the 3rd char from the end and extending to the end of the string.\n",
    "\n",
    " h  e  l  l  o <br>\n",
    " 0  1  2  3  4<br>\n",
    "-5 -4 -3 -2 -1<br>\n",
    "\n",
    "\n",
    "s[i] -- ith item of s, origin 0\n",
    "\n",
    "s[i:j] -- slice of s from i to j\n",
    "\n",
    "s[i:j:k] -- slice of s from i to j with step k\n"
   ]
  },
  {
   "cell_type": "code",
   "execution_count": 38,
   "metadata": {
    "scrolled": true
   },
   "outputs": [
    {
     "name": "stdout",
     "output_type": "stream",
     "text": [
      "text string here\n",
      "The first character in our string is t.\n",
      "The second, third, and fourth characters are ext.\n",
      "e\n",
      "e\n",
      "he\n",
      "llo\n"
     ]
    }
   ],
   "source": [
    "#[added indexing example]\n",
    "a = 'text string here' #Strings are contained by either single or double quotes.\n",
    "\n",
    "print(a)\n",
    "print((\"The first character in our string is \" + a[0] +\".\"))\n",
    "print((\"The second, third, and fourth characters are \" + a[1:4] +\".\"))\n",
    "print (a[1:3:7])\n",
    "\n",
    "s = 'hello'\n",
    "\n",
    "print((s[1]))\n",
    "print((s[:-3]))\n",
    "print((s[-3:]))"
   ]
  },
  {
   "cell_type": "code",
   "execution_count": 39,
   "metadata": {},
   "outputs": [
    {
     "name": "stdout",
     "output_type": "stream",
     "text": [
      "   \n",
      "F F\n",
      "Fo o\n",
      "o o\n",
      "? ?\n"
     ]
    }
   ],
   "source": [
    "# Quiz: For which pairs will the result, for any string s, always be the same?\n",
    "\n",
    "s = 'For which pairs will the result, for any string s, always be the same?'\n",
    "\n",
    "# print all of these to make the correct judgement\n",
    "\n",
    "# s[3], s[1+1+1]\n",
    "# s[0], (s+s)[0]\n",
    "# s[0]+s[1], s[0+1] \n",
    "# s[1], (s+ 'ed')[1]\n",
    "# s[-1], (s+s)[-1]\n",
    "\n",
    "print (s[3], s[1+1+1])\n",
    "print (s[0], (s+s)[0])\n",
    "print (s[0]+s[1], s[0+1])\n",
    "print (s[1], (s+ 'ed')[1])\n",
    "print (s[-1], (s+s)[-1])\n",
    "\n",
    "# Count your output. How many are there?"
   ]
  },
  {
   "cell_type": "code",
   "execution_count": 40,
   "metadata": {},
   "outputs": [
    {
     "name": "stdout",
     "output_type": "stream",
     "text": [
      "For which pairs will the result, for any string s, always be the same?\n",
      "For which pairs will the result, for any string s, always be the same?\n",
      "For which pairs will the result, for any string s, always be the same?\n",
      "For which pairs will the result, for any string s, always be the same\n",
      "For which pairs will the result, for any string s, always be the same?\n"
     ]
    }
   ],
   "source": [
    "# Quiz: Which slices will return the string \"s\" exactly as it is?\n",
    "\n",
    "# print all of these to make the correct judgement\n",
    "\n",
    "# s[:]\n",
    "# s+s[0:-1+1]\n",
    "# s[0:]\n",
    "# s[:-1]\n",
    "# s[:3]+s[3:]\n",
    "\n",
    "\n",
    "print (s[:])\n",
    "print (s+s[0:-1+1])\n",
    "print (s[0:])\n",
    "print (s[:-1])\n",
    "print (s[:3]+s[3:])"
   ]
  },
  {
   "cell_type": "code",
   "execution_count": 41,
   "metadata": {},
   "outputs": [
    {
     "name": "stdout",
     "output_type": "stream",
     "text": [
      "For which pairs will the result, for any string s, always be the same?\n"
     ]
    }
   ],
   "source": [
    "print(s)"
   ]
  },
  {
   "cell_type": "markdown",
   "metadata": {},
   "source": [
    "### String Indices related methods\n",
    "\n",
    "len(s) -- length of s\t\n",
    "\n",
    "s.index(x) -- index of the first occurrence of x in s\t\n",
    "\n",
    "s.find('other') -- searches for the given other string (not a regular expression) within s, and returns the first \n",
    "index where it begins or -1 if not found"
   ]
  },
  {
   "cell_type": "code",
   "execution_count": 42,
   "metadata": {
    "collapsed": true
   },
   "outputs": [],
   "source": [
    "len?"
   ]
  },
  {
   "cell_type": "markdown",
   "metadata": {},
   "source": [
    "## Pop Quiz!"
   ]
  },
  {
   "cell_type": "code",
   "execution_count": 43,
   "metadata": {},
   "outputs": [
    {
     "name": "stdout",
     "output_type": "stream",
     "text": [
      "You can have data without information, but you cannot have information without data. ~ Daniel Keys Moran,  science fiction writer\n",
      "129\n",
      "87\n",
      "87\n",
      "107\n",
      "science fiction writer\n"
     ]
    }
   ],
   "source": [
    "data_vs_info = \"You can have data without information, but you cannot have information without data. \\\n",
    "~ Daniel Keys Moran,  science fiction writer\"\n",
    "\n",
    "print(data_vs_info) # Note what \\ in the above string does.\n",
    "print((len(data_vs_info)))\n",
    "print((data_vs_info.find('Daniel')))\n",
    "print((data_vs_info.index('Daniel')))\n",
    "\n",
    "#1 Slice the name of the author\n",
    "len(data_vs_info)\n",
    "#2 Slice the profession.  \n",
    "print((data_vs_info.index('science fiction writer')))\n",
    "print ((data_vs_info[107::]))\n",
    "\n",
    "#3 Slice the quote only"
   ]
  },
  {
   "cell_type": "markdown",
   "metadata": {},
   "source": [
    "### Practice Questions"
   ]
  },
  {
   "cell_type": "code",
   "execution_count": 44,
   "metadata": {},
   "outputs": [
    {
     "name": "stdout",
     "output_type": "stream",
     "text": [
      "96\n",
      "There is geometry in the humming of the strings,\n",
      ", there is music in the spacing of the spheres.\n",
      "there is music in the spacing of the spheres. -Pythagoras\n",
      "Pythagoras\n"
     ]
    }
   ],
   "source": [
    "# Q1\n",
    "# Combine the find/index functions and string slicing to return:\n",
    "# Just the first part of the quote\n",
    "# Just the second part of the quote\n",
    "# Just the author's name. \n",
    "\n",
    "pythagoras = \"There is geometry in the humming of the strings, there is music in the \\\n",
    "spacing of the spheres. -Pythagoras\"\n",
    "print (pythagoras.find('Pythagoras'))\n",
    "print (pythagoras[:int((96/2))])\n",
    "print (pythagoras[int((94/2)):94])\n",
    "print(pythagoras[49:])\n",
    "print (pythagoras[96::])"
   ]
  },
  {
   "cell_type": "code",
   "execution_count": 45,
   "metadata": {},
   "outputs": [
    {
     "name": "stdout",
     "output_type": "stream",
     "text": [
      "0\n",
      "2\n",
      "-1\n",
      "-1\n"
     ]
    }
   ],
   "source": [
    "# Q2\n",
    "# Which of these will evaluate to -1?\n",
    "\n",
    "# \"test\".find(\"t\")\n",
    "# \"test\".find(\"st\")\n",
    "# \"Test\".find(\"te\") \n",
    "# \"west\".find(\"test\")\n",
    "\n",
    "print(\"test\".find(\"t\"))\n",
    "print(\"test\".find(\"st\"))\n",
    "print(\"Test\".find(\"te\")) \n",
    "print(\"west\".find(\"test\"))"
   ]
  },
  {
   "cell_type": "code",
   "execution_count": 46,
   "metadata": {},
   "outputs": [
    {
     "name": "stdout",
     "output_type": "stream",
     "text": [
      "For which pairs will the result, for any string s, always be the same?\n",
      "2\n",
      "14\n",
      "0\n",
      "0\n",
      "-1\n"
     ]
    }
   ],
   "source": [
    "# Q3\n",
    "# Which of these will always return the value zero for any given string s?\n",
    "\n",
    "print(s)\n",
    "\n",
    "print(s.find(s[2:3]))\n",
    "print(s.find(\"s\"))\n",
    "print(\"s\".find(\"s\"))\n",
    "print(s.find(\"\"))\n",
    "print(s.find(s+\"!!!\"))"
   ]
  },
  {
   "cell_type": "code",
   "execution_count": 47,
   "metadata": {},
   "outputs": [
    {
     "name": "stdout",
     "output_type": "stream",
     "text": [
      "There is geometry in the humming of the strings, there is music in the spacing of the spheres. -Pythagoras\n",
      "21\n",
      "the humming of the\n",
      "13\n",
      "18\n"
     ]
    }
   ],
   "source": [
    "# Q4\n",
    "# Try using the subsequence parameter to find the indices of all the 'the' and 'in' words in the pythagoras quote.\n",
    "print(pythagoras)\n",
    "print(pythagoras.index('the'))\n",
    "print(pythagoras[21:39])\n",
    "print(pythagoras[23:].find('the'))\n",
    "print(pythagoras.index('in'))"
   ]
  },
  {
   "cell_type": "markdown",
   "metadata": {},
   "source": [
    "#### TIP"
   ]
  },
  {
   "cell_type": "code",
   "execution_count": 48,
   "metadata": {},
   "outputs": [
    {
     "name": "stdout",
     "output_type": "stream",
     "text": [
      "Help on method_descriptor in str:\n",
      "\n",
      "str.find = find(...)\n",
      "    S.find(sub[, start[, end]]) -> int\n",
      "    \n",
      "    Return the lowest index in S where substring sub is found,\n",
      "    such that sub is contained within S[start:end].  Optional\n",
      "    arguments start and end are interpreted as in slice notation.\n",
      "    \n",
      "    Return -1 on failure.\n",
      "\n"
     ]
    }
   ],
   "source": [
    "# How to look for help.  Equivalent to looking at https://docs.python.org/2/library/string.html#string.find\n",
    "help(\"str.find\")"
   ]
  },
  {
   "cell_type": "markdown",
   "metadata": {},
   "source": [
    "### Common built- in methods\n",
    "min(s) -- smallest item of s\t\n",
    "\n",
    "max(s) -- largest item of s\t \n",
    "\n",
    "s.count(x) -- total number of occurrences of x in s\t\n",
    "\n",
    "s.lower(), s.upper() -- returns the lowercase or uppercase version of the string\n",
    "\n",
    "s.strip() -- returns a string with whitespace removed from the start and end\n",
    "\n",
    "s.isalpha()/s.isdigit()/s.isspace()... -- tests if all the string chars are in the various character classes\n",
    "\n",
    "s.startswith('other'), s.endswith('other') -- tests if the string starts or ends with the given other string\n",
    "\n",
    "s.replace('old', 'new') -- returns a string where all occurrences of 'old' have been replaced by 'new'\n",
    "\n",
    "s.split('delim') -- returns a list of substrings separated by the given delimiter. The delimiter is not a regular expression, it's just text. 'aaa,bbb,ccc'.split(',') -> ['aaa', 'bbb', 'ccc']. As a convenient special case s.split() (with no arguments) splits on all whitespace chars.\n",
    "\n",
    "s.join(list) -- opposite of split(), joins the elements in the given list together using the string as the delimiter. e.g. '---'.join(['aaa', 'bbb', 'ccc']) -> aaa---bbb---ccc"
   ]
  },
  {
   "cell_type": "code",
   "execution_count": 49,
   "metadata": {
    "collapsed": true
   },
   "outputs": [],
   "source": [
    "# Feel free to experiment with these functions above on the string s below\n",
    "s = 'abcdefghijklMnoPqrstuvwxyz'\n",
    "# dir(s)\n",
    "# help(str)\n",
    "# help(str.strip)"
   ]
  },
  {
   "cell_type": "code",
   "execution_count": 50,
   "metadata": {},
   "outputs": [
    {
     "data": {
      "text/plain": [
       "['__add__',\n",
       " '__class__',\n",
       " '__contains__',\n",
       " '__delattr__',\n",
       " '__dir__',\n",
       " '__doc__',\n",
       " '__eq__',\n",
       " '__format__',\n",
       " '__ge__',\n",
       " '__getattribute__',\n",
       " '__getitem__',\n",
       " '__getnewargs__',\n",
       " '__gt__',\n",
       " '__hash__',\n",
       " '__init__',\n",
       " '__init_subclass__',\n",
       " '__iter__',\n",
       " '__le__',\n",
       " '__len__',\n",
       " '__lt__',\n",
       " '__mod__',\n",
       " '__mul__',\n",
       " '__ne__',\n",
       " '__new__',\n",
       " '__reduce__',\n",
       " '__reduce_ex__',\n",
       " '__repr__',\n",
       " '__rmod__',\n",
       " '__rmul__',\n",
       " '__setattr__',\n",
       " '__sizeof__',\n",
       " '__str__',\n",
       " '__subclasshook__',\n",
       " 'capitalize',\n",
       " 'casefold',\n",
       " 'center',\n",
       " 'count',\n",
       " 'encode',\n",
       " 'endswith',\n",
       " 'expandtabs',\n",
       " 'find',\n",
       " 'format',\n",
       " 'format_map',\n",
       " 'index',\n",
       " 'isalnum',\n",
       " 'isalpha',\n",
       " 'isdecimal',\n",
       " 'isdigit',\n",
       " 'isidentifier',\n",
       " 'islower',\n",
       " 'isnumeric',\n",
       " 'isprintable',\n",
       " 'isspace',\n",
       " 'istitle',\n",
       " 'isupper',\n",
       " 'join',\n",
       " 'ljust',\n",
       " 'lower',\n",
       " 'lstrip',\n",
       " 'maketrans',\n",
       " 'partition',\n",
       " 'replace',\n",
       " 'rfind',\n",
       " 'rindex',\n",
       " 'rjust',\n",
       " 'rpartition',\n",
       " 'rsplit',\n",
       " 'rstrip',\n",
       " 'split',\n",
       " 'splitlines',\n",
       " 'startswith',\n",
       " 'strip',\n",
       " 'swapcase',\n",
       " 'title',\n",
       " 'translate',\n",
       " 'upper',\n",
       " 'zfill']"
      ]
     },
     "execution_count": 50,
     "metadata": {},
     "output_type": "execute_result"
    }
   ],
   "source": [
    "dir(s)"
   ]
  },
  {
   "cell_type": "code",
   "execution_count": 51,
   "metadata": {},
   "outputs": [
    {
     "name": "stdout",
     "output_type": "stream",
     "text": [
      "Help on class str in module builtins:\n",
      "\n",
      "class str(object)\n",
      " |  str(object='') -> str\n",
      " |  str(bytes_or_buffer[, encoding[, errors]]) -> str\n",
      " |  \n",
      " |  Create a new string object from the given object. If encoding or\n",
      " |  errors is specified, then the object must expose a data buffer\n",
      " |  that will be decoded using the given encoding and error handler.\n",
      " |  Otherwise, returns the result of object.__str__() (if defined)\n",
      " |  or repr(object).\n",
      " |  encoding defaults to sys.getdefaultencoding().\n",
      " |  errors defaults to 'strict'.\n",
      " |  \n",
      " |  Methods defined here:\n",
      " |  \n",
      " |  __add__(self, value, /)\n",
      " |      Return self+value.\n",
      " |  \n",
      " |  __contains__(self, key, /)\n",
      " |      Return key in self.\n",
      " |  \n",
      " |  __eq__(self, value, /)\n",
      " |      Return self==value.\n",
      " |  \n",
      " |  __format__(...)\n",
      " |      S.__format__(format_spec) -> str\n",
      " |      \n",
      " |      Return a formatted version of S as described by format_spec.\n",
      " |  \n",
      " |  __ge__(self, value, /)\n",
      " |      Return self>=value.\n",
      " |  \n",
      " |  __getattribute__(self, name, /)\n",
      " |      Return getattr(self, name).\n",
      " |  \n",
      " |  __getitem__(self, key, /)\n",
      " |      Return self[key].\n",
      " |  \n",
      " |  __getnewargs__(...)\n",
      " |  \n",
      " |  __gt__(self, value, /)\n",
      " |      Return self>value.\n",
      " |  \n",
      " |  __hash__(self, /)\n",
      " |      Return hash(self).\n",
      " |  \n",
      " |  __iter__(self, /)\n",
      " |      Implement iter(self).\n",
      " |  \n",
      " |  __le__(self, value, /)\n",
      " |      Return self<=value.\n",
      " |  \n",
      " |  __len__(self, /)\n",
      " |      Return len(self).\n",
      " |  \n",
      " |  __lt__(self, value, /)\n",
      " |      Return self<value.\n",
      " |  \n",
      " |  __mod__(self, value, /)\n",
      " |      Return self%value.\n",
      " |  \n",
      " |  __mul__(self, value, /)\n",
      " |      Return self*value.n\n",
      " |  \n",
      " |  __ne__(self, value, /)\n",
      " |      Return self!=value.\n",
      " |  \n",
      " |  __new__(*args, **kwargs) from builtins.type\n",
      " |      Create and return a new object.  See help(type) for accurate signature.\n",
      " |  \n",
      " |  __repr__(self, /)\n",
      " |      Return repr(self).\n",
      " |  \n",
      " |  __rmod__(self, value, /)\n",
      " |      Return value%self.\n",
      " |  \n",
      " |  __rmul__(self, value, /)\n",
      " |      Return self*value.\n",
      " |  \n",
      " |  __sizeof__(...)\n",
      " |      S.__sizeof__() -> size of S in memory, in bytes\n",
      " |  \n",
      " |  __str__(self, /)\n",
      " |      Return str(self).\n",
      " |  \n",
      " |  capitalize(...)\n",
      " |      S.capitalize() -> str\n",
      " |      \n",
      " |      Return a capitalized version of S, i.e. make the first character\n",
      " |      have upper case and the rest lower case.\n",
      " |  \n",
      " |  casefold(...)\n",
      " |      S.casefold() -> str\n",
      " |      \n",
      " |      Return a version of S suitable for caseless comparisons.\n",
      " |  \n",
      " |  center(...)\n",
      " |      S.center(width[, fillchar]) -> str\n",
      " |      \n",
      " |      Return S centered in a string of length width. Padding is\n",
      " |      done using the specified fill character (default is a space)\n",
      " |  \n",
      " |  count(...)\n",
      " |      S.count(sub[, start[, end]]) -> int\n",
      " |      \n",
      " |      Return the number of non-overlapping occurrences of substring sub in\n",
      " |      string S[start:end].  Optional arguments start and end are\n",
      " |      interpreted as in slice notation.\n",
      " |  \n",
      " |  encode(...)\n",
      " |      S.encode(encoding='utf-8', errors='strict') -> bytes\n",
      " |      \n",
      " |      Encode S using the codec registered for encoding. Default encoding\n",
      " |      is 'utf-8'. errors may be given to set a different error\n",
      " |      handling scheme. Default is 'strict' meaning that encoding errors raise\n",
      " |      a UnicodeEncodeError. Other possible values are 'ignore', 'replace' and\n",
      " |      'xmlcharrefreplace' as well as any other name registered with\n",
      " |      codecs.register_error that can handle UnicodeEncodeErrors.\n",
      " |  \n",
      " |  endswith(...)\n",
      " |      S.endswith(suffix[, start[, end]]) -> bool\n",
      " |      \n",
      " |      Return True if S ends with the specified suffix, False otherwise.\n",
      " |      With optional start, test S beginning at that position.\n",
      " |      With optional end, stop comparing S at that position.\n",
      " |      suffix can also be a tuple of strings to try.\n",
      " |  \n",
      " |  expandtabs(...)\n",
      " |      S.expandtabs(tabsize=8) -> str\n",
      " |      \n",
      " |      Return a copy of S where all tab characters are expanded using spaces.\n",
      " |      If tabsize is not given, a tab size of 8 characters is assumed.\n",
      " |  \n",
      " |  find(...)\n",
      " |      S.find(sub[, start[, end]]) -> int\n",
      " |      \n",
      " |      Return the lowest index in S where substring sub is found,\n",
      " |      such that sub is contained within S[start:end].  Optional\n",
      " |      arguments start and end are interpreted as in slice notation.\n",
      " |      \n",
      " |      Return -1 on failure.\n",
      " |  \n",
      " |  format(...)\n",
      " |      S.format(*args, **kwargs) -> str\n",
      " |      \n",
      " |      Return a formatted version of S, using substitutions from args and kwargs.\n",
      " |      The substitutions are identified by braces ('{' and '}').\n",
      " |  \n",
      " |  format_map(...)\n",
      " |      S.format_map(mapping) -> str\n",
      " |      \n",
      " |      Return a formatted version of S, using substitutions from mapping.\n",
      " |      The substitutions are identified by braces ('{' and '}').\n",
      " |  \n",
      " |  index(...)\n",
      " |      S.index(sub[, start[, end]]) -> int\n",
      " |      \n",
      " |      Return the lowest index in S where substring sub is found, \n",
      " |      such that sub is contained within S[start:end].  Optional\n",
      " |      arguments start and end are interpreted as in slice notation.\n",
      " |      \n",
      " |      Raises ValueError when the substring is not found.\n",
      " |  \n",
      " |  isalnum(...)\n",
      " |      S.isalnum() -> bool\n",
      " |      \n",
      " |      Return True if all characters in S are alphanumeric\n",
      " |      and there is at least one character in S, False otherwise.\n",
      " |  \n",
      " |  isalpha(...)\n",
      " |      S.isalpha() -> bool\n",
      " |      \n",
      " |      Return True if all characters in S are alphabetic\n",
      " |      and there is at least one character in S, False otherwise.\n",
      " |  \n",
      " |  isdecimal(...)\n",
      " |      S.isdecimal() -> bool\n",
      " |      \n",
      " |      Return True if there are only decimal characters in S,\n",
      " |      False otherwise.\n",
      " |  \n",
      " |  isdigit(...)\n",
      " |      S.isdigit() -> bool\n",
      " |      \n",
      " |      Return True if all characters in S are digits\n",
      " |      and there is at least one character in S, False otherwise.\n",
      " |  \n",
      " |  isidentifier(...)\n",
      " |      S.isidentifier() -> bool\n",
      " |      \n",
      " |      Return True if S is a valid identifier according\n",
      " |      to the language definition.\n",
      " |      \n",
      " |      Use keyword.iskeyword() to test for reserved identifiers\n",
      " |      such as \"def\" and \"class\".\n",
      " |  \n",
      " |  islower(...)\n",
      " |      S.islower() -> bool\n",
      " |      \n",
      " |      Return True if all cased characters in S are lowercase and there is\n",
      " |      at least one cased character in S, False otherwise.\n",
      " |  \n",
      " |  isnumeric(...)\n",
      " |      S.isnumeric() -> bool\n",
      " |      \n",
      " |      Return True if there are only numeric characters in S,\n",
      " |      False otherwise.\n",
      " |  \n",
      " |  isprintable(...)\n",
      " |      S.isprintable() -> bool\n",
      " |      \n",
      " |      Return True if all characters in S are considered\n",
      " |      printable in repr() or S is empty, False otherwise.\n",
      " |  \n",
      " |  isspace(...)\n",
      " |      S.isspace() -> bool\n",
      " |      \n",
      " |      Return True if all characters in S are whitespace\n",
      " |      and there is at least one character in S, False otherwise.\n",
      " |  \n",
      " |  istitle(...)\n",
      " |      S.istitle() -> bool\n",
      " |      \n",
      " |      Return True if S is a titlecased string and there is at least one\n",
      " |      character in S, i.e. upper- and titlecase characters may only\n",
      " |      follow uncased characters and lowercase characters only cased ones.\n",
      " |      Return False otherwise.\n",
      " |  \n",
      " |  isupper(...)\n",
      " |      S.isupper() -> bool\n",
      " |      \n",
      " |      Return True if all cased characters in S are uppercase and there is\n",
      " |      at least one cased character in S, False otherwise.\n",
      " |  \n",
      " |  join(...)\n",
      " |      S.join(iterable) -> str\n",
      " |      \n",
      " |      Return a string which is the concatenation of the strings in the\n",
      " |      iterable.  The separator between elements is S.\n",
      " |  \n",
      " |  ljust(...)\n",
      " |      S.ljust(width[, fillchar]) -> str\n",
      " |      \n",
      " |      Return S left-justified in a Unicode string of length width. Padding is\n",
      " |      done using the specified fill character (default is a space).\n",
      " |  \n",
      " |  lower(...)\n",
      " |      S.lower() -> str\n",
      " |      \n",
      " |      Return a copy of the string S converted to lowercase.\n",
      " |  \n",
      " |  lstrip(...)\n",
      " |      S.lstrip([chars]) -> str\n",
      " |      \n",
      " |      Return a copy of the string S with leading whitespace removed.\n",
      " |      If chars is given and not None, remove characters in chars instead.\n",
      " |  \n",
      " |  partition(...)\n",
      " |      S.partition(sep) -> (head, sep, tail)\n",
      " |      \n",
      " |      Search for the separator sep in S, and return the part before it,\n",
      " |      the separator itself, and the part after it.  If the separator is not\n",
      " |      found, return S and two empty strings.\n",
      " |  \n",
      " |  replace(...)\n",
      " |      S.replace(old, new[, count]) -> str\n",
      " |      \n",
      " |      Return a copy of S with all occurrences of substring\n",
      " |      old replaced by new.  If the optional argument count is\n",
      " |      given, only the first count occurrences are replaced.\n",
      " |  \n",
      " |  rfind(...)\n",
      " |      S.rfind(sub[, start[, end]]) -> int\n",
      " |      \n",
      " |      Return the highest index in S where substring sub is found,\n",
      " |      such that sub is contained within S[start:end].  Optional\n",
      " |      arguments start and end are interpreted as in slice notation.\n",
      " |      \n",
      " |      Return -1 on failure.\n",
      " |  \n",
      " |  rindex(...)\n",
      " |      S.rindex(sub[, start[, end]]) -> int\n",
      " |      \n",
      " |      Return the highest index in S where substring sub is found,\n",
      " |      such that sub is contained within S[start:end].  Optional\n",
      " |      arguments start and end are interpreted as in slice notation.\n",
      " |      \n",
      " |      Raises ValueError when the substring is not found.\n",
      " |  \n",
      " |  rjust(...)\n",
      " |      S.rjust(width[, fillchar]) -> str\n",
      " |      \n",
      " |      Return S right-justified in a string of length width. Padding is\n",
      " |      done using the specified fill character (default is a space).\n",
      " |  \n",
      " |  rpartition(...)\n",
      " |      S.rpartition(sep) -> (head, sep, tail)\n",
      " |      \n",
      " |      Search for the separator sep in S, starting at the end of S, and return\n",
      " |      the part before it, the separator itself, and the part after it.  If the\n",
      " |      separator is not found, return two empty strings and S.\n",
      " |  \n",
      " |  rsplit(...)\n",
      " |      S.rsplit(sep=None, maxsplit=-1) -> list of strings\n",
      " |      \n",
      " |      Return a list of the words in S, using sep as the\n",
      " |      delimiter string, starting at the end of the string and\n",
      " |      working to the front.  If maxsplit is given, at most maxsplit\n",
      " |      splits are done. If sep is not specified, any whitespace string\n",
      " |      is a separator.\n",
      " |  \n",
      " |  rstrip(...)\n",
      " |      S.rstrip([chars]) -> str\n",
      " |      \n",
      " |      Return a copy of the string S with trailing whitespace removed.\n",
      " |      If chars is given and not None, remove characters in chars instead.\n",
      " |  \n",
      " |  split(...)\n",
      " |      S.split(sep=None, maxsplit=-1) -> list of strings\n",
      " |      \n",
      " |      Return a list of the words in S, using sep as the\n",
      " |      delimiter string.  If maxsplit is given, at most maxsplit\n",
      " |      splits are done. If sep is not specified or is None, any\n",
      " |      whitespace string is a separator and empty strings are\n",
      " |      removed from the result.\n",
      " |  \n",
      " |  splitlines(...)\n",
      " |      S.splitlines([keepends]) -> list of strings\n",
      " |      \n",
      " |      Return a list of the lines in S, breaking at line boundaries.\n",
      " |      Line breaks are not included in the resulting list unless keepends\n",
      " |      is given and true.\n",
      " |  \n",
      " |  startswith(...)\n",
      " |      S.startswith(prefix[, start[, end]]) -> bool\n",
      " |      \n",
      " |      Return True if S starts with the specified prefix, False otherwise.\n",
      " |      With optional start, test S beginning at that position.\n",
      " |      With optional end, stop comparing S at that position.\n",
      " |      prefix can also be a tuple of strings to try.\n",
      " |  \n",
      " |  strip(...)\n",
      " |      S.strip([chars]) -> str\n",
      " |      \n",
      " |      Return a copy of the string S with leading and trailing\n",
      " |      whitespace removed.\n",
      " |      If chars is given and not None, remove characters in chars instead.\n",
      " |  \n",
      " |  swapcase(...)\n",
      " |      S.swapcase() -> str\n",
      " |      \n",
      " |      Return a copy of S with uppercase characters converted to lowercase\n",
      " |      and vice versa.\n",
      " |  \n",
      " |  title(...)\n",
      " |      S.title() -> str\n",
      " |      \n",
      " |      Return a titlecased version of S, i.e. words start with title case\n",
      " |      characters, all remaining cased characters have lower case.\n",
      " |  \n",
      " |  translate(...)\n",
      " |      S.translate(table) -> str\n",
      " |      \n",
      " |      Return a copy of the string S in which each character has been mapped\n",
      " |      through the given translation table. The table must implement\n",
      " |      lookup/indexing via __getitem__, for instance a dictionary or list,\n",
      " |      mapping Unicode ordinals to Unicode ordinals, strings, or None. If\n",
      " |      this operation raises LookupError, the character is left untouched.\n",
      " |      Characters mapped to None are deleted.\n",
      " |  \n",
      " |  upper(...)\n",
      " |      S.upper() -> str\n",
      " |      \n",
      " |      Return a copy of S converted to uppercase.\n",
      " |  \n",
      " |  zfill(...)\n",
      " |      S.zfill(width) -> str\n",
      " |      \n",
      " |      Pad a numeric string S with zeros on the left, to fill a field\n",
      " |      of the specified width. The string S is never truncated.\n",
      " |  \n",
      " |  ----------------------------------------------------------------------\n",
      " |  Static methods defined here:\n",
      " |  \n",
      " |  maketrans(x, y=None, z=None, /)\n",
      " |      Return a translation table usable for str.translate().\n",
      " |      \n",
      " |      If there is only one argument, it must be a dictionary mapping Unicode\n",
      " |      ordinals (integers) or characters to Unicode ordinals, strings or None.\n",
      " |      Character keys will be then converted to ordinals.\n",
      " |      If there are two arguments, they must be strings of equal length, and\n",
      " |      in the resulting dictionary, each character in x will be mapped to the\n",
      " |      character at the same position in y. If there is a third argument, it\n",
      " |      must be a string, whose characters will be mapped to None in the result.\n",
      "\n"
     ]
    }
   ],
   "source": [
    "help(str)"
   ]
  },
  {
   "cell_type": "code",
   "execution_count": 52,
   "metadata": {},
   "outputs": [
    {
     "name": "stdout",
     "output_type": "stream",
     "text": [
      "Help on method_descriptor:\n",
      "\n",
      "strip(...)\n",
      "    S.strip([chars]) -> str\n",
      "    \n",
      "    Return a copy of the string S with leading and trailing\n",
      "    whitespace removed.\n",
      "    If chars is given and not None, remove characters in chars instead.\n",
      "\n"
     ]
    }
   ],
   "source": [
    "help(str.strip)"
   ]
  },
  {
   "cell_type": "markdown",
   "metadata": {},
   "source": [
    "### Format\n",
    "\n",
    "The % operator takes a printf-type format string on the left (%d int, %s string, %f/%g floating point), and the matching values in a tuple on the right (a tuple is made of values separated by commas, typically grouped inside parenthesis)... more about tuples later."
   ]
  },
  {
   "cell_type": "code",
   "execution_count": 53,
   "metadata": {},
   "outputs": [
    {
     "name": "stdout",
     "output_type": "stream",
     "text": [
      "We were going nearly 130.200000 km/hr. But there were 3 cars going faster!\n"
     ]
    }
   ],
   "source": [
    "# % operator\n",
    "print(\"We were going nearly %f km/hr. But there were %d %s going faster!\"%(130.2, 3, \"cars\"))"
   ]
  },
  {
   "cell_type": "code",
   "execution_count": 54,
   "metadata": {},
   "outputs": [
    {
     "data": {
      "text/plain": [
       "'We were going nearly 130.2 km/hr. But there were 3 cars going faster!'"
      ]
     },
     "execution_count": 54,
     "metadata": {},
     "output_type": "execute_result"
    }
   ],
   "source": [
    "# format method\n",
    "\"We were going nearly {} km/hr. But there were {} {} going faster!\".format(130.2, 3, \"cars\")"
   ]
  }
 ],
 "metadata": {
  "anaconda-cloud": {},
  "kernelspec": {
   "display_name": "Python 3",
   "language": "python",
   "name": "python3"
  },
  "language_info": {
   "codemirror_mode": {
    "name": "ipython",
    "version": 3
   },
   "file_extension": ".py",
   "mimetype": "text/x-python",
   "name": "python",
   "nbconvert_exporter": "python",
   "pygments_lexer": "ipython3",
   "version": "3.6.2"
  }
 },
 "nbformat": 4,
 "nbformat_minor": 1
}
