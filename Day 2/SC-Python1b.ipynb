{
 "cells": [
  {
   "cell_type": "markdown",
   "metadata": {},
   "source": [
    "![](http://thecads.org/wp-content/uploads/2017/02/adax_logo.jpg)\n",
    "# Module 1: Python Basics\n",
    "\n",
    "## 1b. Logic and Repetition\n",
    "\n",
    "In this unit, we'll first understand what procedures are and why you might want to use them.  \n",
    "Then you'll start to write some procedures. Next, we'll learn about Python logic, or how to make comparisons.  \n",
    "\n",
    "Finally, we'll go on to repetition, and how to repeat operations in Python using while and for loops.  \n",
    "\n",
    "* [Procedural Abstraction](#Procedural-Abstraction)\n",
    "* [Computer Logic](#Python-Logic)\n",
    "* [Repetition](#Repetition)\n"
   ]
  },
  {
   "cell_type": "markdown",
   "metadata": {},
   "source": [
    "# Procedural Abstraction\n",
    "\n",
    "What is a procedure? Why might you want to abstract it?"
   ]
  },
  {
   "cell_type": "markdown",
   "metadata": {},
   "source": [
    "We use procedures because we want to stop us from doing tedious work.  \n",
    "Anything we might want to do again and again we will want to 'abstract'."
   ]
  },
  {
   "cell_type": "markdown",
   "metadata": {},
   "source": [
    "## Functions\n",
    "\n",
    "A function is a block of organized, reusable code that is used to perform a single, related action.  For example, we can use the same procedure to multiply two numbers, whatever they are.  We then specify the numbers being multiplied as arguements of the function. Many functions return a value which you can then use; they can also print something out immediately\n",
    "\n",
    "#### Syntax:"
   ]
  },
  {
   "cell_type": "code",
   "execution_count": 1,
   "metadata": {
    "collapsed": true
   },
   "outputs": [],
   "source": [
    "def functionname( parameters ):    \n",
    "    \"This is the doctring of functionname. It is good practice to put a description of what your function does here.\"\n",
    "    block_of_code\n",
    "    return [expression]"
   ]
  },
  {
   "cell_type": "code",
   "execution_count": 2,
   "metadata": {},
   "outputs": [
    {
     "name": "stdout",
     "output_type": "stream",
     "text": [
      "This is the doctring of functionname. It is good practice to put a description of what your function does here.\n"
     ]
    }
   ],
   "source": [
    "print((functionname.__doc__))"
   ]
  },
  {
   "cell_type": "code",
   "execution_count": 3,
   "metadata": {},
   "outputs": [
    {
     "name": "stdout",
     "output_type": "stream",
     "text": [
      "234\n",
      "13\n"
     ]
    },
    {
     "data": {
      "text/plain": [
       "6"
      ]
     },
     "execution_count": 3,
     "metadata": {},
     "output_type": "execute_result"
    }
   ],
   "source": [
    "# A.\n",
    "# void: does not return\n",
    "# Write a function named myPrinter that receives a variable or parameter and prints that variable.\n",
    "def myPrinter(text):\n",
    "    print(text)\n",
    "myPrinter(234)\n",
    "\n",
    "# has return\n",
    "# Write a function named multipyler that receives two variable or parameter and returns the product of those variables.\n",
    "# The two parameters could be string or int or float (any type)\n",
    "def multiplyer(i,j):\n",
    "    return i*j\n",
    "print((multiplyer(4,3)+1))\n",
    "\n",
    "# What does the following function below do when executed?\n",
    "#multiplyer() # raise error\n",
    "multiplyer(2,3)"
   ]
  },
  {
   "cell_type": "code",
   "execution_count": 4,
   "metadata": {},
   "outputs": [
    {
     "name": "stdout",
     "output_type": "stream",
     "text": [
      "This prints a passed info into this function\n",
      "Name:  he\n",
      "Age:  22\n",
      "Height  150\n",
      "weight  65\n",
      "None\n",
      "This prints a passed info into this function\n",
      "Name:  she\n",
      "Age:  35\n",
      "Height  150\n",
      "weight  60\n"
     ]
    }
   ],
   "source": [
    "# B.\n",
    "# Copy the given function.\n",
    "def print_info(name,age=35,height=150,weight=60):\n",
    "    print(\"This prints a passed info into this function\")\n",
    "    print(\"Name: \", name)\n",
    "    print(\"Age: \", age)\n",
    "    print(\"Height \", height)\n",
    "    print(\"weight \", weight)\n",
    "\n",
    "# Execute the function in different cells using the following parameters:\n",
    "# ('he', 22, weight=65)\n",
    "print(print_info('he', 22, weight=65))\n",
    "# ('she')\n",
    "print_info('she')\n"
   ]
  },
  {
   "cell_type": "code",
   "execution_count": 5,
   "metadata": {},
   "outputs": [
    {
     "data": {
      "text/plain": [
       "38"
      ]
     },
     "execution_count": 5,
     "metadata": {},
     "output_type": "execute_result"
    }
   ],
   "source": [
    "#C.\n",
    "# Define a procedure that finds the index of the \n",
    "# second instance of a string in a larger string.\n",
    "\n",
    "def find_second(findin, whattofind):\n",
    "    \n",
    "    f = findin.find(str(whattofind))\n",
    "    print(f)\n",
    "    sf = findin[f+1:]\n",
    "    print(sf)\n",
    "    m = sf.find(str(whattofind))\n",
    "    print(m+1)\n",
    "    return 0\n",
    "\n",
    "def find_second(findin, whattofind):    \n",
    "    f = findin[(findin.find(str(whattofind)))+1:].find(str(whattofind))\n",
    "    return(f+1)\n",
    "\n",
    "\n",
    "# For example, where is the second instance of dance in \n",
    "# the larger string below?\n",
    "find_second('dance, dance, dance everyday', 'dance')\n",
    "find_second('learning about data, surprisingly, requires a lot of data','data')"
   ]
  },
  {
   "cell_type": "markdown",
   "metadata": {},
   "source": [
    "# Python Logic\n",
    "Can a computer think? How does a computer think differently from how we do? We've seen how computers can represent abstract concepts.  One of those abstract concepts is logic.  We've developed programs that can use logic. \n",
    "\n",
    "A **boolean** expression is an expression that is either _true_ or _false_. The following examples use the operator ==, which compares two operands and produces True if they are equal and False otherwise.\n",
    "\n",
    "There are three logical operators: _and_, _or_, and _not_. The semantics (meaning) of these operators is similar to their meaning in English.\n",
    "\n",
    "\n",
    "#### String logic\n",
    "is\t-- object identity\t \n",
    "\n",
    "is not\t-- negated object identity\t\n",
    "\n",
    "x in s -- True if an item of s is equal to x, else False\n",
    "\n",
    "x not in s -- False if an item of s is equal to x, else True\n",
    "\n",
    "x or y -- if x is false, then y, else x\n",
    "\n",
    "x and y -- if x is false, then x, else y\n",
    "\n",
    "not x -- if x is false, then True, else False \n",
    "\n",
    "#### Arithmetic logic\n",
    "\\> -- Strictly larger than\n",
    "\n",
    "== -- Is the identity of\n",
    "\n",
    "\\>= -- Greater than or equal to \n",
    "\n",
    "\\!= -- Is not the identity of.\n"
   ]
  },
  {
   "cell_type": "code",
   "execution_count": 6,
   "metadata": {},
   "outputs": [
    {
     "name": "stdout",
     "output_type": "stream",
     "text": [
      "True\n"
     ]
    }
   ],
   "source": [
    "# print 5 is bigger than 2\n",
    "print((5 > 2))\n"
   ]
  },
  {
   "cell_type": "code",
   "execution_count": 7,
   "metadata": {},
   "outputs": [
    {
     "name": "stdout",
     "output_type": "stream",
     "text": [
      "False\n",
      "True\n",
      "False\n",
      "True\n",
      "True\n",
      "True\n",
      "False\n"
     ]
    }
   ],
   "source": [
    "# print 2 is bigger than 5\n",
    "print ((2>5))\n",
    "# print 2 is 2 using *is*\n",
    "print ((2 is 2))\n",
    "# print 2 equal equal to 3 using *==* sign\n",
    "print((2==3))\n",
    "# print 5 is bigger than 2 or two is bigger than 1 using *or*  between the two logic\n",
    "print((5>2 or 2>1))\n",
    "# print 5 is bigger than 2 and two is bigger than 1 using *and*  between the two logic\n",
    "print ((5>2 and 2>1))\n",
    "# print to check if the alphabet 's' is in 'datascience' using *in*\n",
    "print(('s' in 'datascience'))\n",
    "# print to check if the alphabet 'x' is in 'datascience' using *in*\n",
    "print(('x' in 'datascience'))"
   ]
  },
  {
   "cell_type": "code",
   "execution_count": 8,
   "metadata": {
    "collapsed": true
   },
   "outputs": [],
   "source": [
    "# Why is == equals, not = ?\n"
   ]
  },
  {
   "cell_type": "markdown",
   "metadata": {},
   "source": [
    "### Conditional Execution\n",
    "\n",
    "Python does not use { } to enclose blocks of code for if/loops/function etc. like C. Instead, Python uses the colon (:) and indentation/whitespace to group statements. "
   ]
  },
  {
   "cell_type": "markdown",
   "metadata": {},
   "source": [
    "In order to write useful programs, we almost always need the ability to check conditions and change the behavior of the program accordingly. Conditional statements give us this ability. The simplest form is the if statement:\n",
    "\n",
    "```python\n",
    "if x > 0 :\n",
    "    print 'x is positive'\n",
    "```\n",
    "    \n",
    "The boolean expression after the if statement is called the condition. We end the if statement with a colon character (:) and the line(s) after the if statement are indented.\n",
    "\n",
    "![](http://www.pythonlearn.com/html-007/cfbook005.png)\n",
    "\n",
    "If the logical condition is true, then the indented statement gets executed. If the logical condition is false, the indented statement is skipped.\n",
    "\n",
    "### Alternative execution\n",
    "\n",
    "A second form of the if statement is alternative execution, in which there are two possibilities and the condition determines which one gets executed. The syntax looks like this:\n",
    "\n",
    "```python\n",
    "if x%2 == 0 :\n",
    "    print 'x is even'\n",
    "else :\n",
    "    print 'x is odd'\n",
    "```\n",
    "\n",
    "If the remainder when x is divided by 2 is 0, then we know that x is even, and the program displays a message to that effect. If the condition is false, the second set of statements is executed. \n",
    "\n",
    "![](http://www.pythonlearn.com/html-007/cfbook006.png)\n",
    "\n",
    "Since the condition must be true or false, exactly one of the alternatives will be executed. The alternatives are called branches, because they are branches in the flow of execution.\n",
    "\n",
    "### Chained conditionals\n",
    "\n",
    "Sometimes there are more than two possibilities and we need more than two branches. One way to express a computation like that is a chained conditional:\n",
    "\n",
    "```python\n",
    "if x < y:\n",
    "    print 'x is less than y'\n",
    "elif x > y:\n",
    "    print 'x is greater than y'\n",
    "else:\n",
    "    print 'x and y are equal'\n",
    "```\n",
    "\n",
    "elif is an abbreviation of \"else if\". Again, exactly one branch will be executed.\n",
    "\n",
    "![](http://www.pythonlearn.com/html-007/cfbook007.png)\n",
    "\n",
    "There is no limit on the number of elif statements. If there is an else clause, it has to be at the end, but there doesn't have to be one.\n"
   ]
  },
  {
   "cell_type": "code",
   "execution_count": 9,
   "metadata": {},
   "outputs": [
    {
     "name": "stdout",
     "output_type": "stream",
     "text": [
      "block code 2\n"
     ]
    }
   ],
   "source": [
    "# copy the code\n",
    "# execute and decribe what is happening.\n",
    "\n",
    "if False:\n",
    "    print(\"block code 1\")\n",
    "elif True:\n",
    "    print(\"block code 2\")\n",
    "else:\n",
    "    print(\"block code 3\")\n",
    "    \n"
   ]
  },
  {
   "cell_type": "code",
   "execution_count": 10,
   "metadata": {},
   "outputs": [
    {
     "name": "stdout",
     "output_type": "stream",
     "text": [
      "License and registration please\n",
      "You have the right to remain silent.\n"
     ]
    }
   ],
   "source": [
    "# what is happening here?\n",
    "\n",
    "speed = 100\n",
    "mood = 'good'\n",
    "\n",
    "if speed >= 80:\n",
    "    print('License and registration please')\n",
    "    if mood == 'terrible' or speed >= 100:\n",
    "        print('You have the right to remain silent.')\n",
    "    elif mood == 'bad' or speed >= 90:\n",
    "        print(\"I'm going to have to write you a ticket.\")\n",
    "    else:\n",
    "        print(\"Let's try to keep it under 80 ok?\")\n",
    "else:\n",
    "    print(\"Too slow\")"
   ]
  },
  {
   "cell_type": "code",
   "execution_count": 11,
   "metadata": {},
   "outputs": [
    {
     "name": "stdout",
     "output_type": "stream",
     "text": [
      "-1\n",
      "Not found!\n"
     ]
    }
   ],
   "source": [
    "string = 'Hi there' # True example\n",
    "string = 'Good bye' # False example\n",
    "\n",
    "result = string.find('th') # remember .find()?\n",
    "print(result)\n",
    "\n",
    "if result != -1:           # what logic is this?\n",
    "    print('Success!')\n",
    "else:\n",
    "    print('Not found!')"
   ]
  },
  {
   "cell_type": "markdown",
   "metadata": {},
   "source": [
    "## Some exercises"
   ]
  },
  {
   "cell_type": "code",
   "execution_count": 12,
   "metadata": {},
   "outputs": [
    {
     "name": "stdout",
     "output_type": "stream",
     "text": [
      "0\n",
      "Yes\n"
     ]
    }
   ],
   "source": [
    "# Q1\n",
    "# Define a function named 'starts_with_B' that receives the string variable 'Boyce' \n",
    "def starts_with_B (Boyce):\n",
    "    result =Boyce.find('B')\n",
    "    print(result)\n",
    "    \n",
    "    if result == 0:\n",
    "        print('Yes')\n",
    "    else:\n",
    "        print('NO')\n",
    "# and return YES is it starts with B.\n",
    "starts_with_B('Boyce')"
   ]
  },
  {
   "cell_type": "code",
   "execution_count": 13,
   "metadata": {},
   "outputs": [
    {
     "name": "stdout",
     "output_type": "stream",
     "text": [
      "b is bigger\n"
     ]
    }
   ],
   "source": [
    "# Q2\n",
    "# Define a function named 'bigger' that receives two int/float variables a and b, compares them and \n",
    "# returns the bigger value.\n",
    "\n",
    "def bigger (a,b):\n",
    "    \n",
    "    if (a > b):\n",
    "        print ('a is bigger')\n",
    "    else :\n",
    "        print ('b is bigger')\n",
    "        \n",
    "bigger(3,5)"
   ]
  },
  {
   "cell_type": "code",
   "execution_count": 14,
   "metadata": {},
   "outputs": [
    {
     "data": {
      "text/plain": [
       "6"
      ]
     },
     "execution_count": 14,
     "metadata": {},
     "output_type": "execute_result"
    }
   ],
   "source": [
    "# Q3\n",
    "# Nested if problem: Define a function named 'biggest' \n",
    "\n",
    "def biggest (a,b,c):\n",
    "    if (a==max(a,b,c)):\n",
    "        return a\n",
    "    if(b==max(a,b,c)):\n",
    "        return b\n",
    "    if(c==max(a,b,c)):\n",
    "        return c\n",
    "biggest(4,5,6)\n",
    "# that takes three variables a,b,c and then which takes the largest of the three inputs and returns it."
   ]
  },
  {
   "cell_type": "markdown",
   "metadata": {},
   "source": [
    "## Repetition\n"
   ]
  },
  {
   "cell_type": "markdown",
   "metadata": {},
   "source": [
    "### For\n",
    "\n",
    "<font color='red'>for</font> loops can be used to iterate for a fixed or predetermined number of times. It can also be used together with iterable objects, such as list (we will revisit this later on lists)"
   ]
  },
  {
   "cell_type": "code",
   "execution_count": 15,
   "metadata": {},
   "outputs": [
    {
     "name": "stdout",
     "output_type": "stream",
     "text": [
      "i am me 0\n",
      "i am me 1\n",
      "i am me 2\n",
      "i am me 3\n"
     ]
    }
   ],
   "source": [
    "# A for loop can iterate over the elements of a supplied list\n",
    "# Note: range(4) does not include 4!\n",
    "\n",
    "# Execute this code\n",
    "for x in range(4):\n",
    "    print(\"i am me\",x)"
   ]
  },
  {
   "cell_type": "code",
   "execution_count": 16,
   "metadata": {},
   "outputs": [
    {
     "name": "stdout",
     "output_type": "stream",
     "text": [
      "banana\n",
      "apple\n",
      "durian\n",
      "orange\n",
      "rambutan\n",
      "5\n"
     ]
    }
   ],
   "source": [
    "#Now use the for loop to print the items in the basket and count number of items in basket\n",
    "\n",
    "basket = ['banana','apple','durian','orange','rambutan']\n",
    "count =0;\n",
    "for x in basket:\n",
    "    print (x)\n",
    "    count =count +1\n",
    "print(count)"
   ]
  },
  {
   "cell_type": "code",
   "execution_count": 17,
   "metadata": {},
   "outputs": [
    {
     "name": "stdout",
     "output_type": "stream",
     "text": [
      "3\n",
      "41\n",
      "12\n",
      "9\n",
      "74\n",
      "15\n",
      "154\n"
     ]
    }
   ],
   "source": [
    "# write a for loop to sum all numbers for [3, 41, 12, 9, 74, 15]\n",
    "numbers =[3,41,12,9,74,15]\n",
    "count=0\n",
    "for x in numbers:\n",
    "    print(x)\n",
    "    count += x\n",
    "print(count)"
   ]
  },
  {
   "cell_type": "code",
   "execution_count": 18,
   "metadata": {
    "collapsed": true
   },
   "outputs": [],
   "source": [
    "# Define a function called factorial(n)\n"
   ]
  },
  {
   "cell_type": "markdown",
   "metadata": {},
   "source": [
    "\n",
    "### While\n",
    "\n",
    "<font color='red'>while</font> is another looping method besides <font color='red'>for</font>. The <font color='red'>while</font> loop continues iterating the commands or the codes inside until it's condition stops being true:"
   ]
  },
  {
   "cell_type": "code",
   "execution_count": 19,
   "metadata": {},
   "outputs": [
    {
     "name": "stdout",
     "output_type": "stream",
     "text": [
      "1\n",
      "2\n",
      "3\n",
      "4\n",
      "5\n",
      "6\n",
      "7\n",
      "8\n",
      "9\n",
      "10\n"
     ]
    }
   ],
   "source": [
    "# Execute this cell and comprehend what is happening.\n",
    "\n",
    "i = 0\n",
    "\n",
    "while i < 10:\n",
    "    i = i + 1\n",
    "    print(i) \n"
   ]
  },
  {
   "cell_type": "code",
   "execution_count": 20,
   "metadata": {
    "collapsed": true
   },
   "outputs": [],
   "source": [
    "# What happens here? \n",
    "# Caution: Don't run it!\n",
    "# Maybe you should?\n",
    "# i = 0\n",
    "# while i != 11:\n",
    "#     i = i+2\n",
    "#     print i"
   ]
  },
  {
   "cell_type": "code",
   "execution_count": null,
   "metadata": {},
   "outputs": [],
   "source": [
    "# A function that prints 'Dance' 3 times using the while loop\n",
    "a=0\n",
    "while a<3:\n",
    "    a=a+1\n",
    "    print(\"dance\")\n",
    "# Some stylistic practices\n",
    "# Some stylistic practices\n",
    "# print a string a number of times equal to the length of the string"
   ]
  }
 ],
 "metadata": {
  "anaconda-cloud": {},
  "kernelspec": {
   "display_name": "Python 3",
   "language": "python",
   "name": "python3"
  },
  "language_info": {
   "codemirror_mode": {
    "name": "ipython",
    "version": 3
   },
   "file_extension": ".py",
   "mimetype": "text/x-python",
   "name": "python",
   "nbconvert_exporter": "python",
   "pygments_lexer": "ipython3",
   "version": "3.6.2"
  }
 },
 "nbformat": 4,
 "nbformat_minor": 1
}
