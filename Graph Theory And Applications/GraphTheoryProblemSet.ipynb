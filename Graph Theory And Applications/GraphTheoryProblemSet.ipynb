{
 "cells": [
  {
   "cell_type": "markdown",
   "metadata": {},
   "source": [
    "# Data Star Graph Theory Problem Set"
   ]
  },
  {
   "cell_type": "code",
   "execution_count": 34,
   "metadata": {
    "collapsed": true
   },
   "outputs": [],
   "source": [
    "import networkx as nx\n",
    "import numpy as np\n",
    "import random\n",
    "import operator\n",
    "import pandas as pd"
   ]
  },
  {
   "cell_type": "markdown",
   "metadata": {},
   "source": [
    "## 1. Analytics of Zachary's Karate Club"
   ]
  },
  {
   "cell_type": "code",
   "execution_count": 35,
   "metadata": {},
   "outputs": [
    {
     "data": {
      "text/plain": [
       "<networkx.classes.graph.Graph at 0x2b8af934da0>"
      ]
     },
     "execution_count": 35,
     "metadata": {},
     "output_type": "execute_result"
    }
   ],
   "source": [
    "G1 = nx.karate_club_graph()\n",
    "nx.relabel_nodes(G1, {n : n+1 for n in list(G1)}, copy=False)\n",
    "# random.seed(1)\n",
    "# nx.draw(G1, with_labels=True)"
   ]
  },
  {
   "cell_type": "markdown",
   "metadata": {},
   "source": [
    "This image is obtained from D. Bhattacharyya, S. Seth, and T. H. Kim, Social Network Analysis To Detect Inherent Communities based On Constraints, in Applied Mathematics & Information Sciences 8(1L):385-396, April 2014, https://www.researchgate.net/figure/Visualization-of-Karate-Club-Data_fig6_261082856 . It is a visualization of the Karate club.\n",
    "\n",
    "<img src ='Karate_club_vis.png'>"
   ]
  },
  {
   "cell_type": "markdown",
   "metadata": {},
   "source": [
    "## Question\n",
    "\n",
    "By using NetworkX functions, compute the centralities, and sort the nodes according to:\n",
    "- degree\n",
    "- betweenness centrality\n",
    "- closeness centrality\n",
    "- harmonic closeness centrality\n",
    "\n",
    "and return the top 5 most central nodes according to each criteria. (You may refer to the documentation at https://networkx.github.io/documentation/stable/reference/algorithms/centrality.html .) By visually inspecting this image, describe the large community structure of this graph."
   ]
  },
  {
   "cell_type": "code",
   "execution_count": 39,
   "metadata": {},
   "outputs": [
    {
     "data": {
      "text/plain": [
       "[(34, 0.5151515151515151),\n",
       " (1, 0.48484848484848486),\n",
       " (33, 0.36363636363636365),\n",
       " (3, 0.30303030303030304),\n",
       " (2, 0.2727272727272727)]"
      ]
     },
     "execution_count": 39,
     "metadata": {},
     "output_type": "execute_result"
    }
   ],
   "source": [
    "## Your code here\n",
    "x=nx.degree_centrality(G1)\n",
    "sorted_degree=sorted(x.items(),key=operator.itemgetter(1), reverse=True)[0:5]\n",
    "sorted_degree"
   ]
  },
  {
   "cell_type": "code",
   "execution_count": 41,
   "metadata": {},
   "outputs": [
    {
     "data": {
      "text/plain": [
       "[(1, 0.4376352813852813),\n",
       " (34, 0.3040749759499758),\n",
       " (33, 0.14524711399711399),\n",
       " (3, 0.14365680615680615),\n",
       " (32, 0.13827561327561327)]"
      ]
     },
     "execution_count": 41,
     "metadata": {},
     "output_type": "execute_result"
    }
   ],
   "source": [
    "y=nx.betweenness_centrality(G1)\n",
    "sorted_degree=sorted(y.items(),key=operator.itemgetter(1), reverse=True)[0:5]\n",
    "sorted_degree"
   ]
  },
  {
   "cell_type": "code",
   "execution_count": 42,
   "metadata": {},
   "outputs": [
    {
     "data": {
      "text/plain": [
       "[(1, 0.5689655172413793),\n",
       " (3, 0.559322033898305),\n",
       " (34, 0.55),\n",
       " (32, 0.5409836065573771),\n",
       " (33, 0.515625)]"
      ]
     },
     "execution_count": 42,
     "metadata": {},
     "output_type": "execute_result"
    }
   ],
   "source": [
    "z=nx.closeness_centrality(G1)\n",
    "sorted_degree=sorted(z.items(),key=operator.itemgetter(1), reverse=True)[0:5]\n",
    "sorted_degree"
   ]
  },
  {
   "cell_type": "code",
   "execution_count": 43,
   "metadata": {},
   "outputs": [
    {
     "data": {
      "text/plain": [
       "[(34, 23.24999999999999),\n",
       " (1, 23.166666666666657),\n",
       " (3, 20.999999999999996),\n",
       " (33, 20.916666666666657),\n",
       " (32, 19.333333333333332)]"
      ]
     },
     "execution_count": 43,
     "metadata": {},
     "output_type": "execute_result"
    }
   ],
   "source": [
    "a=nx.harmonic_centrality(G1)\n",
    "sorted_degree=sorted(a.items(),key=operator.itemgetter(1), reverse=True)[0:5]\n",
    "sorted_degree"
   ]
  },
  {
   "cell_type": "markdown",
   "metadata": {},
   "source": [
    "## 2. Shortest Path in Directed Weighted Graph\n",
    "\n",
    "The following graph is obtained from http://www.icodeguru.com/vc/10book/books/book3/chap9.htm . The arrows point to the direction of flow. Assuming that the weights of the edges represent distances, what are the shortest paths from:\n",
    "- B to F \n",
    "- C to A \n",
    "- E to B\n",
    "\n",
    "<img src='336_b.gif'/>"
   ]
  },
  {
   "cell_type": "code",
   "execution_count": 62,
   "metadata": {
    "collapsed": true
   },
   "outputs": [],
   "source": [
    "from collections import defaultdict\n",
    "from heapq import *\n",
    "\n",
    "def dijkstra(edges, f, t):\n",
    "    g = defaultdict(list)\n",
    "    for l,r,c in edges:\n",
    "        g[l].append((c,r))\n",
    "\n",
    "    q, seen = [(0,f,())], set()\n",
    "    while q:\n",
    "        (cost,v1,path) = heappop(q)\n",
    "        if v1 not in seen:\n",
    "            seen.add(v1)\n",
    "            path = (v1, path)\n",
    "            if v1 == t: return (cost, path)\n",
    "\n",
    "            for c, v2 in g.get(v1, ()):\n",
    "                if v2 not in seen:\n",
    "                    heappush(q, (cost+c, v2, path))\n",
    "\n",
    "    return float(\"inf\")\n",
    "\n",
    "if __name__ == \"__main__\":\n",
    "    edges = [\n",
    "        (\"A\", \"B\", 5),\n",
    "        (\"B\", \"C\", 2),\n",
    "        (\"B\", \"G\", 1),\n",
    "        (\"B\", \"E\", 3),\n",
    "        (\"A\", \"C\", 3),\n",
    "        (\"C\", \"E\", 7),\n",
    "        (\"D\", \"A\", 2),\n",
    "        (\"C\", \"D\", 7),\n",
    "        (\"E\", \"D\", 2),\n",
    "        (\"D\", \"F\", 6),\n",
    "        (\"E\", \"F\", 1),\n",
    "        (\"G\", \"E\", 1)\n",
    "    ]"
   ]
  },
  {
   "cell_type": "code",
   "execution_count": 63,
   "metadata": {},
   "outputs": [
    {
     "name": "stdout",
     "output_type": "stream",
     "text": [
      "(3, ('F', ('E', ('G', ('B', ())))))\n"
     ]
    }
   ],
   "source": [
    "print (dijkstra(edges, \"B\", \"F\"))"
   ]
  },
  {
   "cell_type": "code",
   "execution_count": 64,
   "metadata": {},
   "outputs": [
    {
     "name": "stdout",
     "output_type": "stream",
     "text": [
      "(9, ('A', ('D', ('C', ()))))\n"
     ]
    }
   ],
   "source": [
    "print (dijkstra(edges, \"C\", \"A\"))"
   ]
  },
  {
   "cell_type": "code",
   "execution_count": 65,
   "metadata": {},
   "outputs": [
    {
     "name": "stdout",
     "output_type": "stream",
     "text": [
      "(9, ('B', ('A', ('D', ('E', ())))))\n"
     ]
    }
   ],
   "source": [
    "print (dijkstra(edges, \"E\", \"B\"))"
   ]
  },
  {
   "cell_type": "code",
   "execution_count": 67,
   "metadata": {
    "collapsed": true
   },
   "outputs": [],
   "source": [
    "g2=nx.MultiDiGraph()\n",
    "g2.add_nodes_from('ABCDEFG')\n",
    "g2.add_weighted_edges_from([('A','B',5),(\"B\", \"C\", 2),(\"B\", \"G\", 1),(\"B\", \"E\", 3),(\"A\", \"C\", 3),\n",
    "                            (\"C\", \"E\", 7),(\"D\", \"A\", 2),(\"C\", \"D\", 7),(\"E\", \"D\", 2),(\"D\", \"F\", 6),(\"E\", \"F\", 1),\n",
    "                            (\"G\", \"E\", 1)])"
   ]
  }
 ],
 "metadata": {
  "kernelspec": {
   "display_name": "Python 3",
   "language": "python",
   "name": "python3"
  },
  "language_info": {
   "codemirror_mode": {
    "name": "ipython",
    "version": 3
   },
   "file_extension": ".py",
   "mimetype": "text/x-python",
   "name": "python",
   "nbconvert_exporter": "python",
   "pygments_lexer": "ipython3",
   "version": "3.6.2"
  }
 },
 "nbformat": 4,
 "nbformat_minor": 2
}
