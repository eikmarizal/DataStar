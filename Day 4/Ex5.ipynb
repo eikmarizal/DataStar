{
 "cells": [
  {
   "cell_type": "markdown",
   "metadata": {},
   "source": [
    "## JSON"
   ]
  },
  {
   "cell_type": "markdown",
   "metadata": {},
   "source": [
    "Firstly, read the data from `stocks.json` file and store into `record`"
   ]
  },
  {
   "cell_type": "code",
   "execution_count": 1,
   "metadata": {},
   "outputs": [
    {
     "data": {
      "text/plain": [
       "{'20-Day Simple Moving Average': -0.0172,\n",
       " '200-Day Simple Moving Average': 0.1062,\n",
       " '50-Day High': -0.0544,\n",
       " '50-Day Low': 0.0728,\n",
       " '50-Day Simple Moving Average': -0.0055,\n",
       " '52-Week High': -0.0544,\n",
       " '52-Week Low': 0.4378,\n",
       " 'Analyst Recom': 1.6,\n",
       " 'Average True Range': 0.86,\n",
       " 'Average Volume': 2569.36,\n",
       " 'Beta': 1.5,\n",
       " 'Change': -0.0148,\n",
       " 'Change from Open': -0.0148,\n",
       " 'Company': 'Agilent Technologies Inc.',\n",
       " 'Country': 'USA',\n",
       " 'Current Ratio': 3,\n",
       " 'Dividend Yield': 0.0094,\n",
       " 'EPS (ttm)': 2.68,\n",
       " 'EPS growth next 5 years': 0.0843,\n",
       " 'EPS growth next year': 0.1194,\n",
       " 'EPS growth past 5 years': 0.158,\n",
       " 'EPS growth quarter over quarter': -0.29,\n",
       " 'EPS growth this year': 0.147,\n",
       " 'Earnings Date': {'$date': 1384464600000},\n",
       " 'Float Short': 0.008,\n",
       " 'Forward P/E': 16.11,\n",
       " 'Gap': 0,\n",
       " 'Gross Margin': 0.512,\n",
       " 'Industry': 'Medical Laboratories & Research',\n",
       " 'Insider Ownership': 0.001,\n",
       " 'Insider Transactions': -0.1352,\n",
       " 'Institutional Ownership': 0.847,\n",
       " 'Institutional Transactions': -0.0074,\n",
       " 'LT Debt/Equity': 0.56,\n",
       " 'Market Cap': 17356.8,\n",
       " 'Operating Margin': 0.187,\n",
       " 'P/B': 3.63,\n",
       " 'P/Cash': 7.45,\n",
       " 'P/E': 19.1,\n",
       " 'P/Free Cash Flow': 19.63,\n",
       " 'P/S': 2.54,\n",
       " 'PEG': 2.27,\n",
       " 'Payout Ratio': 0.162,\n",
       " 'Performance (Half Year)': 0.1439,\n",
       " 'Performance (Month)': 0.0063,\n",
       " 'Performance (Quarter)': 0.0928,\n",
       " 'Performance (Week)': 0.0031,\n",
       " 'Performance (YTD)': 0.2605,\n",
       " 'Performance (Year)': 0.4242,\n",
       " 'Price': 50.44,\n",
       " 'Profit Margin': 0.137,\n",
       " 'Quick Ratio': 2.3,\n",
       " 'Relative Strength Index (14)': 46.51,\n",
       " 'Relative Volume': 0.79,\n",
       " 'Return on Assets': 0.089,\n",
       " 'Return on Equity': 0.182,\n",
       " 'Return on Investment': 0.163,\n",
       " 'Sales growth past 5 years': 0.048,\n",
       " 'Sales growth quarter over quarter': -0.041,\n",
       " 'Sector': 'Healthcare',\n",
       " 'Shares Float': 330.21,\n",
       " 'Shares Outstanding': 339,\n",
       " 'Short Ratio': 1.03,\n",
       " 'Ticker': 'A',\n",
       " 'Total Debt/Equity': 0.56,\n",
       " 'Volatility (Month)': 0.0168,\n",
       " 'Volatility (Week)': 0.0177,\n",
       " 'Volume': 1847978,\n",
       " '_id': {'$oid': '52853800bb1177ca391c17ff'}}"
      ]
     },
     "execution_count": 1,
     "metadata": {},
     "output_type": "execute_result"
    }
   ],
   "source": [
    "path ='stocks.json'    # make sure you have this data file in the same location as this exercise file\n",
    "\n",
    "import json\n",
    "open(path).readline()\n",
    "records =[json.loads(line) for line in open(path)]\n",
    "records[0]"
   ]
  },
  {
   "cell_type": "markdown",
   "metadata": {},
   "source": [
    "## Question 1"
   ]
  },
  {
   "cell_type": "code",
   "execution_count": 2,
   "metadata": {},
   "outputs": [
    {
     "data": {
      "text/plain": [
       "['Agilent Technologies Inc.',\n",
       " 'Alcoa, Inc.',\n",
       " 'WCM/BNY Mellon Focused Growth ADR ETF',\n",
       " 'iShares MSCI AC Asia Information Tech',\n",
       " 'Altisource Asset Management Corporation',\n",
       " 'Atlantic American Corp.',\n",
       " \"Aaron's, Inc.\",\n",
       " 'Applied Optoelectronics, Inc.',\n",
       " 'AAON Inc.',\n",
       " 'Advance Auto Parts Inc.']"
      ]
     },
     "execution_count": 2,
     "metadata": {},
     "output_type": "execute_result"
    }
   ],
   "source": [
    "# from records, extract the first 10 company names and store in 'companies'\n",
    "companies=[i['Company'] for i in records[:10]]\n",
    "companies"
   ]
  },
  {
   "cell_type": "markdown",
   "metadata": {},
   "source": [
    "## Question 2"
   ]
  },
  {
   "cell_type": "code",
   "execution_count": 3,
   "metadata": {},
   "outputs": [
    {
     "data": {
      "text/plain": [
       "['Agilent Technologies Inc.',\n",
       " 'Alcoa, Inc.',\n",
       " 'WCM/BNY Mellon Focused Growth ADR ETF',\n",
       " 'iShares MSCI AC Asia Information Tech',\n",
       " 'Altisource Asset Management Corporation',\n",
       " 'Atlantic American Corp.',\n",
       " \"Aaron's, Inc.\",\n",
       " 'Applied Optoelectronics, Inc.',\n",
       " 'AAON Inc.',\n",
       " 'Advance Auto Parts Inc.']"
      ]
     },
     "execution_count": 3,
     "metadata": {},
     "output_type": "execute_result"
    }
   ],
   "source": [
    "# from the top 10 companies, show all the companies with the word 'Inc.'\n",
    "top10= [i for i in companies if i.find(\"inc\")!=1]\n",
    "top10"
   ]
  },
  {
   "cell_type": "markdown",
   "metadata": {},
   "source": [
    "## Question 3"
   ]
  },
  {
   "cell_type": "code",
   "execution_count": 4,
   "metadata": {},
   "outputs": [
    {
     "name": "stdout",
     "output_type": "stream",
     "text": [
      "41.71060205580027\n"
     ]
    }
   ],
   "source": [
    "# get the average 'P/E' for all data\n",
    "\n",
    "average =[i['P/E'] for i in records if 'P/E' in i]\n",
    "average = sum(average)/len(average)\n",
    "print(average)"
   ]
  },
  {
   "cell_type": "code",
   "execution_count": 5,
   "metadata": {},
   "outputs": [
    {
     "name": "stdout",
     "output_type": "stream",
     "text": [
      "41.7106020558\n"
     ]
    }
   ],
   "source": [
    "import numpy as np\n",
    "\n",
    "average=np.mean(average)\n",
    "print(average)"
   ]
  }
 ],
 "metadata": {
  "kernelspec": {
   "display_name": "Python 3",
   "language": "python",
   "name": "python3"
  },
  "language_info": {
   "codemirror_mode": {
    "name": "ipython",
    "version": 3
   },
   "file_extension": ".py",
   "mimetype": "text/x-python",
   "name": "python",
   "nbconvert_exporter": "python",
   "pygments_lexer": "ipython3",
   "version": "3.6.2"
  }
 },
 "nbformat": 4,
 "nbformat_minor": 2
}
