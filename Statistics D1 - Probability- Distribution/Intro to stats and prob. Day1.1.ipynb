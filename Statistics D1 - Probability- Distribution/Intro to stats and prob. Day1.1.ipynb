{
 "cells": [
  {
   "cell_type": "markdown",
   "metadata": {},
   "source": [
    "# Welcome to Data Star: Basic Statistics Course"
   ]
  },
  {
   "cell_type": "markdown",
   "metadata": {},
   "source": [
    "## What will we cover\n",
    "\n",
    "Over the course of two days, we will explore the idea of descriptive statistics, that is, where the statistics can be computed for all your existing data. To do so, we will do some data exploration. Then, we will get to the basics of probability and its connection to statistics. Some typical and exemplary probability distributions will be introduced. Finally, we end the course with some inferential statistics and Hypothesis testing."
   ]
  },
  {
   "cell_type": "markdown",
   "metadata": {},
   "source": [
    "## Content outline (Day 1.1)\n",
    "[Data Exploration](#data_exploration)\n",
    "\n",
    "1. Frequency table (counts and percentages)\n",
    "2. Histogram\n",
    "3. Cross tabulation\n",
    "4. Bar graph\n",
    "\n",
    "[Measures of Central Tendency](#central_tendency)\n",
    "1. Median\n",
    "2. Mean\n",
    "3. Mode\n",
    "\n",
    "[Measures of Dispersion/Variability](#dispersion)\n",
    "1. Range\n",
    "2. Quantiles (quartiles, percentiles, and Inter-Quartile Range)\n",
    "3. Outliers\n",
    "4. Variance and Standard Deviation\n",
    "5. Boxplot\n",
    "\n",
    "[Pearson's correlation coefficient](#correlation)"
   ]
  },
  {
   "cell_type": "markdown",
   "metadata": {},
   "source": [
    "<a id='data_exploration'></a>\n",
    "\n",
    "## Data exploration\n",
    "\n",
    "Our exploration will begin by describing some typical data sets a data practitioner (such as yourself) will encounter. Data comes in many forms: structured, unstructured, and semi-structured. Here, we explore with some simple and structured data sets that have a relational format. Lets look at the iris dataset. This dataset contains information about the length of various parts of flowers, and the corresponding species of the flower. It is frequently cited in pattern recognition literature and is often used by machine learning practitioners as a practice set.\n",
    "\n",
    "Read more about it here: https://archive.ics.uci.edu/ml/datasets/iris\n",
    "\n",
    "Let's load and view this data set."
   ]
  },
  {
   "cell_type": "code",
   "execution_count": 1,
   "metadata": {},
   "outputs": [
    {
     "data": {
      "text/html": [
       "<table>\n",
       "<thead><tr><th scope=col>Sepal.Length</th><th scope=col>Sepal.Width</th><th scope=col>Petal.Length</th><th scope=col>Petal.Width</th><th scope=col>Species</th></tr></thead>\n",
       "<tbody>\n",
       "\t<tr><td>5.1   </td><td>3.5   </td><td>1.4   </td><td>0.2   </td><td>setosa</td></tr>\n",
       "\t<tr><td>4.9   </td><td>3.0   </td><td>1.4   </td><td>0.2   </td><td>setosa</td></tr>\n",
       "\t<tr><td>4.7   </td><td>3.2   </td><td>1.3   </td><td>0.2   </td><td>setosa</td></tr>\n",
       "\t<tr><td>4.6   </td><td>3.1   </td><td>1.5   </td><td>0.2   </td><td>setosa</td></tr>\n",
       "\t<tr><td>5.0   </td><td>3.6   </td><td>1.4   </td><td>0.2   </td><td>setosa</td></tr>\n",
       "\t<tr><td>5.4   </td><td>3.9   </td><td>1.7   </td><td>0.4   </td><td>setosa</td></tr>\n",
       "</tbody>\n",
       "</table>\n"
      ],
      "text/latex": [
       "\\begin{tabular}{r|lllll}\n",
       " Sepal.Length & Sepal.Width & Petal.Length & Petal.Width & Species\\\\\n",
       "\\hline\n",
       "\t 5.1    & 3.5    & 1.4    & 0.2    & setosa\\\\\n",
       "\t 4.9    & 3.0    & 1.4    & 0.2    & setosa\\\\\n",
       "\t 4.7    & 3.2    & 1.3    & 0.2    & setosa\\\\\n",
       "\t 4.6    & 3.1    & 1.5    & 0.2    & setosa\\\\\n",
       "\t 5.0    & 3.6    & 1.4    & 0.2    & setosa\\\\\n",
       "\t 5.4    & 3.9    & 1.7    & 0.4    & setosa\\\\\n",
       "\\end{tabular}\n"
      ],
      "text/markdown": [
       "\n",
       "Sepal.Length | Sepal.Width | Petal.Length | Petal.Width | Species | \n",
       "|---|---|---|---|---|---|\n",
       "| 5.1    | 3.5    | 1.4    | 0.2    | setosa | \n",
       "| 4.9    | 3.0    | 1.4    | 0.2    | setosa | \n",
       "| 4.7    | 3.2    | 1.3    | 0.2    | setosa | \n",
       "| 4.6    | 3.1    | 1.5    | 0.2    | setosa | \n",
       "| 5.0    | 3.6    | 1.4    | 0.2    | setosa | \n",
       "| 5.4    | 3.9    | 1.7    | 0.4    | setosa | \n",
       "\n",
       "\n"
      ],
      "text/plain": [
       "  Sepal.Length Sepal.Width Petal.Length Petal.Width Species\n",
       "1 5.1          3.5         1.4          0.2         setosa \n",
       "2 4.9          3.0         1.4          0.2         setosa \n",
       "3 4.7          3.2         1.3          0.2         setosa \n",
       "4 4.6          3.1         1.5          0.2         setosa \n",
       "5 5.0          3.6         1.4          0.2         setosa \n",
       "6 5.4          3.9         1.7          0.4         setosa "
      ]
     },
     "metadata": {},
     "output_type": "display_data"
    }
   ],
   "source": [
    "data(\"iris\")\n",
    "head(iris)"
   ]
  },
  {
   "cell_type": "markdown",
   "metadata": {},
   "source": [
    "As you can see, the data is a table consisting of rows and colummns. Each column represents a variable relating to the flower, whilst each row corresponds to a different sample. Each column has a restriction on what values the fields can hold. The values of these fields can either be quantitative (as in Sepal.Width) or categorical (as in Species). In R, they are encoded as numeric or factor types.\n",
    "\n",
    "Categorical types can be further subdivided into nominal and ordinal. Nominal values do not have any implicit ordering to them, and are merely used to distinguish between different categories. I like to think of gender as a nominal value - it would not make sense to 'rank' women above men, or vice versa. The column \"Species\" has nominal values. Ordinal data are just nominal data but with an implicit ordering defined. For those familiar with market surveying, the Likert scale is a common example of Ordinal data.\n",
    "\n",
    "Read more about them here: https://en.wikipedia.org/wiki/Likert_scale\n",
    "\n",
    "Let's look at how the \"Species\" values are distributed."
   ]
  },
  {
   "cell_type": "code",
   "execution_count": 2,
   "metadata": {},
   "outputs": [
    {
     "name": "stdout",
     "output_type": "stream",
     "text": [
      "The unique categories of species are:\n"
     ]
    },
    {
     "data": {
      "text/html": [
       "<ol class=list-inline>\n",
       "\t<li>setosa</li>\n",
       "\t<li>versicolor</li>\n",
       "\t<li>virginica</li>\n",
       "</ol>\n"
      ],
      "text/latex": [
       "\\begin{enumerate*}\n",
       "\\item setosa\n",
       "\\item versicolor\n",
       "\\item virginica\n",
       "\\end{enumerate*}\n"
      ],
      "text/markdown": [
       "1. setosa\n",
       "2. versicolor\n",
       "3. virginica\n",
       "\n",
       "\n"
      ],
      "text/plain": [
       "[1] setosa     versicolor virginica \n",
       "Levels: setosa versicolor virginica"
      ]
     },
     "metadata": {},
     "output_type": "display_data"
    },
    {
     "name": "stdout",
     "output_type": "stream",
     "text": [
      "The frequency table of species are:\n"
     ]
    },
    {
     "data": {
      "text/plain": [
       "\n",
       "    setosa versicolor  virginica \n",
       "        50         50         50 "
      ]
     },
     "metadata": {},
     "output_type": "display_data"
    },
    {
     "name": "stdout",
     "output_type": "stream",
     "text": [
      "The precentages for each category of species are:\n"
     ]
    },
    {
     "data": {
      "text/plain": [
       "\n",
       "    setosa versicolor  virginica \n",
       "     33.33      33.33      33.33 "
      ]
     },
     "metadata": {},
     "output_type": "display_data"
    }
   ],
   "source": [
    "cat(\"The unique categories of species are:\\n\") #print \n",
    "unique(iris$Species)\n",
    "\n",
    "cat(\"The frequency table of species are:\\n\")\n",
    "( tab <- table(iris$Species))#lst where 50 values\n",
    "\n",
    "cat(\"The precentages for each category of species are:\\n\")\n",
    "round(tab/sum(tab)*100, 2)"
   ]
  },
  {
   "cell_type": "markdown",
   "metadata": {},
   "source": [
    "Quantitative data types can be subdivided into interval and ratio. Interval specifies the start and end points of each numerical value, while ratio has a meaningful zero-point defined. The types of the first four columns of the iris dataset are of a ratio type, since length has a meaningful zero (A measurement of 0cm is a valid one). It is possible to convert finer types to coarser types, that is from ratio -> interval -> ordinal -> nominal, but not the other way round. \n",
    "\n",
    "Let's use the cut( ) function to convert petal lengths into 3 intervals."
   ]
  },
  {
   "cell_type": "code",
   "execution_count": 3,
   "metadata": {},
   "outputs": [
    {
     "name": "stdout",
     "output_type": "stream",
     "text": [
      "The unique intervals of petal length are:\n"
     ]
    },
    {
     "data": {
      "text/html": [
       "<ol class=list-inline>\n",
       "\t<li>(0.994,2.97]</li>\n",
       "\t<li>(2.97,4.93]</li>\n",
       "\t<li>(4.93,6.91]</li>\n",
       "</ol>\n"
      ],
      "text/latex": [
       "\\begin{enumerate*}\n",
       "\\item (0.994,2.97{]}\n",
       "\\item (2.97,4.93{]}\n",
       "\\item (4.93,6.91{]}\n",
       "\\end{enumerate*}\n"
      ],
      "text/markdown": [
       "1. (0.994,2.97]\n",
       "2. (2.97,4.93]\n",
       "3. (4.93,6.91]\n",
       "\n",
       "\n"
      ],
      "text/plain": [
       "[1] (0.994,2.97] (2.97,4.93]  (4.93,6.91] \n",
       "Levels: (0.994,2.97] (2.97,4.93] (4.93,6.91]"
      ]
     },
     "metadata": {},
     "output_type": "display_data"
    },
    {
     "name": "stdout",
     "output_type": "stream",
     "text": [
      "Their frequencies are:\n"
     ]
    },
    {
     "data": {
      "text/plain": [
       "petalLength\n",
       " short medium   long \n",
       "    50     54     46 "
      ]
     },
     "metadata": {},
     "output_type": "display_data"
    },
    {
     "name": "stdout",
     "output_type": "stream",
     "text": [
      "and their cumulative frequencies are:\n"
     ]
    },
    {
     "data": {
      "text/html": [
       "<ol class=list-inline>\n",
       "\t<li>33.33</li>\n",
       "\t<li>69.33</li>\n",
       "\t<li>100</li>\n",
       "</ol>\n"
      ],
      "text/latex": [
       "\\begin{enumerate*}\n",
       "\\item 33.33\n",
       "\\item 69.33\n",
       "\\item 100\n",
       "\\end{enumerate*}\n"
      ],
      "text/markdown": [
       "1. 33.33\n",
       "2. 69.33\n",
       "3. 100\n",
       "\n",
       "\n"
      ],
      "text/plain": [
       "[1]  33.33  69.33 100.00"
      ]
     },
     "metadata": {},
     "output_type": "display_data"
    }
   ],
   "source": [
    "petalLength <- cut(iris$Petal.Length, breaks=3)#divide into 3 parts\n",
    "cat(\"The unique intervals of petal length are:\\n\") \n",
    "unique(petalLength)\n",
    "\n",
    "cat(\"Their frequencies are:\\n\")\n",
    "# convert the names of the factors so that it is more readable\n",
    "levels(petalLength) <- c('short', 'medium', 'long')\n",
    "( tab <- table(petalLength) )\n",
    "\n",
    "cat(\"and their cumulative frequencies are:\\n\")\n",
    "# convert to vector so that cumsum() can be applied\n",
    "cumFreqPetalLength <- cumsum(as.vector(tab))/sum(tab)*100\n",
    "# changing the names of the vector elements\n",
    "names(cumFreqPetalLength) <- levels(tab)\n",
    "# round off to 2 decimal digits\n",
    "round(cumFreqPetalLength, digits=2)"
   ]
  },
  {
   "cell_type": "markdown",
   "metadata": {},
   "source": [
    "## Histogram\n",
    "\n",
    "This introduces us to the concept of histogram and binning. A histogram works by separating the numeric values according to the counts of values in equal-sized bins. For plotting a histogram, we will use the library ggplot2."
   ]
  },
  {
   "cell_type": "code",
   "execution_count": 4,
   "metadata": {
    "collapsed": true
   },
   "outputs": [],
   "source": [
    "library(ggplot2)"
   ]
  },
  {
   "cell_type": "code",
   "execution_count": 5,
   "metadata": {},
   "outputs": [
    {
     "data": {},
     "metadata": {},
     "output_type": "display_data"
    },
    {
     "data": {
      "image/png": "[encoded data removed]",
      "text/plain": [
       "plot without title"
      ]
     },
     "metadata": {},
     "output_type": "display_data"
    }
   ],
   "source": [
    "ggplot(iris, aes(x=Petal.Length)) + geom_histogram(bins=20)"
   ]
  },
  {
   "cell_type": "markdown",
   "metadata": {},
   "source": [
    "This histogram divides data into more detailed bins. It can be seen that there are distinct clusters in the distribution of petal length."
   ]
  },
  {
   "cell_type": "markdown",
   "metadata": {},
   "source": [
    "## Cross tabulation\n",
    "\n",
    "We will try cross tabulation of the 3 splits with species."
   ]
  },
  {
   "cell_type": "code",
   "execution_count": 6,
   "metadata": {},
   "outputs": [
    {
     "data": {
      "text/html": [
       "<table>\n",
       "<thead><tr><th></th><th scope=col>short</th><th scope=col>medium</th><th scope=col>long</th><th scope=col>sum</th></tr></thead>\n",
       "<tbody>\n",
       "\t<tr><th scope=row>setosa</th><td>50 </td><td> 0 </td><td> 0 </td><td> 50</td></tr>\n",
       "\t<tr><th scope=row>versicolor</th><td> 0 </td><td>48 </td><td> 2 </td><td> 50</td></tr>\n",
       "\t<tr><th scope=row>virginica</th><td> 0 </td><td> 6 </td><td>44 </td><td> 50</td></tr>\n",
       "\t<tr><th scope=row>sum</th><td>50 </td><td>54 </td><td>46 </td><td>150</td></tr>\n",
       "</tbody>\n",
       "</table>\n"
      ],
      "text/latex": [
       "\\begin{tabular}{r|llll}\n",
       "  & short & medium & long & sum\\\\\n",
       "\\hline\n",
       "\tsetosa & 50  &  0  &  0  &  50\\\\\n",
       "\tversicolor &  0  & 48  &  2  &  50\\\\\n",
       "\tvirginica &  0  &  6  & 44  &  50\\\\\n",
       "\tsum & 50  & 54  & 46  & 150\\\\\n",
       "\\end{tabular}\n"
      ],
      "text/markdown": [
       "\n",
       "| <!--/--> | short | medium | long | sum | \n",
       "|---|---|---|---|\n",
       "| setosa | 50  |  0  |  0  |  50 | \n",
       "| versicolor |  0  | 48  |  2  |  50 | \n",
       "| virginica |  0  |  6  | 44  |  50 | \n",
       "| sum | 50  | 54  | 46  | 150 | \n",
       "\n",
       "\n"
      ],
      "text/plain": [
       "           short medium long sum\n",
       "setosa     50     0      0    50\n",
       "versicolor  0    48      2    50\n",
       "virginica   0     6     44    50\n",
       "sum        50    54     46   150"
      ]
     },
     "metadata": {},
     "output_type": "display_data"
    }
   ],
   "source": [
    "tab <- table(iris$Species, petalLength)\n",
    "tab <- cbind(tab, sum=table(iris$Species))\n",
    "tab <- rbind(tab, sum=c(table(petalLength), sum(table(petalLength))))\n",
    "tab"
   ]
  },
  {
   "cell_type": "markdown",
   "metadata": {},
   "source": [
    "From this table, we see that all the 50 plants of short petal length are of species setosa; that among the 54 of medium petal length, 48 are of species versicolor; and that among the 46 of long petal length, 44 are of species virginica.\n",
    "\n",
    "If you will be taking Machine Learning later in the data science specialization, you will know that petal length is a useful predictor of species."
   ]
  },
  {
   "cell_type": "markdown",
   "metadata": {},
   "source": [
    "## Bar graph\n",
    "\n",
    "Next, we will use a bar plot to view values where many variables are included side-by-side. First we will extract the counts of a column of the \"mpg\" data set."
   ]
  },
  {
   "cell_type": "code",
   "execution_count": 7,
   "metadata": {},
   "outputs": [
    {
     "name": "stderr",
     "output_type": "stream",
     "text": [
      "\n",
      "Attaching package: 'dplyr'\n",
      "\n",
      "The following objects are masked from 'package:stats':\n",
      "\n",
      "    filter, lag\n",
      "\n",
      "The following objects are masked from 'package:base':\n",
      "\n",
      "    intersect, setdiff, setequal, union\n",
      "\n"
     ]
    },
    {
     "data": {
      "text/html": [
       "<table>\n",
       "<thead><tr><th scope=col>manufacturer</th><th scope=col>n</th></tr></thead>\n",
       "<tbody>\n",
       "\t<tr><td>audi     </td><td>18       </td></tr>\n",
       "\t<tr><td>chevrolet</td><td>19       </td></tr>\n",
       "\t<tr><td>dodge    </td><td>37       </td></tr>\n",
       "\t<tr><td>ford     </td><td>25       </td></tr>\n",
       "\t<tr><td>honda    </td><td> 9       </td></tr>\n",
       "\t<tr><td>hyundai  </td><td>14       </td></tr>\n",
       "</tbody>\n",
       "</table>\n"
      ],
      "text/latex": [
       "\\begin{tabular}{r|ll}\n",
       " manufacturer & n\\\\\n",
       "\\hline\n",
       "\t audi      & 18       \\\\\n",
       "\t chevrolet & 19       \\\\\n",
       "\t dodge     & 37       \\\\\n",
       "\t ford      & 25       \\\\\n",
       "\t honda     &  9       \\\\\n",
       "\t hyundai   & 14       \\\\\n",
       "\\end{tabular}\n"
      ],
      "text/markdown": [
       "\n",
       "manufacturer | n | \n",
       "|---|---|---|---|---|---|\n",
       "| audi      | 18        | \n",
       "| chevrolet | 19        | \n",
       "| dodge     | 37        | \n",
       "| ford      | 25        | \n",
       "| honda     |  9        | \n",
       "| hyundai   | 14        | \n",
       "\n",
       "\n"
      ],
      "text/plain": [
       "  manufacturer n \n",
       "1 audi         18\n",
       "2 chevrolet    19\n",
       "3 dodge        37\n",
       "4 ford         25\n",
       "5 honda         9\n",
       "6 hyundai      14"
      ]
     },
     "metadata": {},
     "output_type": "display_data"
    }
   ],
   "source": [
    "library(dplyr)\n",
    "data(mpg)\n",
    "\n",
    "mpgManuCount <- count(mpg, manufacturer)\n",
    "head(mpgManuCount)"
   ]
  },
  {
   "cell_type": "code",
   "execution_count": 8,
   "metadata": {},
   "outputs": [
    {
     "data": {},
     "metadata": {},
     "output_type": "display_data"
    },
    {
     "data": {
      "image/png": "[encoded data removed]",
      "text/plain": [
       "plot without title"
      ]
     },
     "metadata": {},
     "output_type": "display_data"
    }
   ],
   "source": [
    "ggplot(mpgManuCount, aes(x=reorder(manufacturer, n), y=n)) + \n",
    "    geom_bar(stat='identity', fill='lightblue') + ylim(0,40) +\n",
    "    theme(axis.text.x=element_text(angle=45)) +\n",
    "    labs(y='Counts', x='Manufacturer')"
   ]
  },
  {
   "cell_type": "markdown",
   "metadata": {},
   "source": [
    "<a id='central_tendency'></a>\n",
    "\n",
    "# Measures of Central Tendency #\n",
    "\n",
    "## These measures describe the center of a distribution through the use of the mode, median and mean. ##"
   ]
  },
  {
   "cell_type": "markdown",
   "metadata": {},
   "source": [
    "#### Lets begin by generating a random list of 20 integers from a uniform distribution with integers ranging from 0 to 8 ####"
   ]
  },
  {
   "cell_type": "code",
   "execution_count": 9,
   "metadata": {},
   "outputs": [
    {
     "data": {
      "text/html": [
       "<ol class=list-inline>\n",
       "\t<li>2</li>\n",
       "\t<li>3</li>\n",
       "\t<li>5</li>\n",
       "\t<li>8</li>\n",
       "\t<li>1</li>\n",
       "\t<li>8</li>\n",
       "\t<li>8</li>\n",
       "\t<li>5</li>\n",
       "\t<li>5</li>\n",
       "\t<li>0</li>\n",
       "\t<li>1</li>\n",
       "\t<li>1</li>\n",
       "\t<li>6</li>\n",
       "\t<li>3</li>\n",
       "\t<li>6</li>\n",
       "\t<li>4</li>\n",
       "\t<li>6</li>\n",
       "\t<li>8</li>\n",
       "\t<li>3</li>\n",
       "\t<li>6</li>\n",
       "</ol>\n"
      ],
      "text/latex": [
       "\\begin{enumerate*}\n",
       "\\item 2\n",
       "\\item 3\n",
       "\\item 5\n",
       "\\item 8\n",
       "\\item 1\n",
       "\\item 8\n",
       "\\item 8\n",
       "\\item 5\n",
       "\\item 5\n",
       "\\item 0\n",
       "\\item 1\n",
       "\\item 1\n",
       "\\item 6\n",
       "\\item 3\n",
       "\\item 6\n",
       "\\item 4\n",
       "\\item 6\n",
       "\\item 8\n",
       "\\item 3\n",
       "\\item 6\n",
       "\\end{enumerate*}\n"
      ],
      "text/markdown": [
       "1. 2\n",
       "2. 3\n",
       "3. 5\n",
       "4. 8\n",
       "5. 1\n",
       "6. 8\n",
       "7. 8\n",
       "8. 5\n",
       "9. 5\n",
       "10. 0\n",
       "11. 1\n",
       "12. 1\n",
       "13. 6\n",
       "14. 3\n",
       "15. 6\n",
       "16. 4\n",
       "17. 6\n",
       "18. 8\n",
       "19. 3\n",
       "20. 6\n",
       "\n",
       "\n"
      ],
      "text/plain": [
       " [1] 2 3 5 8 1 8 8 5 5 0 1 1 6 3 6 4 6 8 3 6"
      ]
     },
     "metadata": {},
     "output_type": "display_data"
    }
   ],
   "source": [
    "set.seed(1)\n",
    "# This will ensure we all get the same 'randomised' numbers\n",
    "list_1 <- floor(runif(20, min=0, max=9))\n",
    "list_1"
   ]
  },
  {
   "cell_type": "markdown",
   "metadata": {},
   "source": [
    "### Median ###\n",
    "\n",
    "- The median is the middle number when your data is sorted in ascending order from smallest to largest\n",
    "- In the case of even numbers (size of data), you take the average of the two middle elements\n",
    "- In the case of odd numbers, you take the number that equally bisects the amount of numbers to the left and right\n",
    "- This datum is immune to extreme data\n",
    "- R has a built-in function to calculate the median through median( ) but you can easily do this manually"
   ]
  },
  {
   "cell_type": "code",
   "execution_count": 10,
   "metadata": {},
   "outputs": [
    {
     "data": {
      "text/html": [
       "20"
      ],
      "text/latex": [
       "20"
      ],
      "text/markdown": [
       "20"
      ],
      "text/plain": [
       "[1] 20"
      ]
     },
     "metadata": {},
     "output_type": "display_data"
    }
   ],
   "source": [
    "# How long is list_1? We need to know if it is odd or even to determine which strategy to follow\n",
    "\n",
    "length(list_1)\n"
   ]
  },
  {
   "cell_type": "code",
   "execution_count": 11,
   "metadata": {},
   "outputs": [
    {
     "data": {
      "text/html": [
       "<ol class=list-inline>\n",
       "\t<li>0</li>\n",
       "\t<li>1</li>\n",
       "\t<li>1</li>\n",
       "\t<li>1</li>\n",
       "\t<li>2</li>\n",
       "\t<li>3</li>\n",
       "\t<li>3</li>\n",
       "\t<li>3</li>\n",
       "\t<li>4</li>\n",
       "\t<li>5</li>\n",
       "\t<li>5</li>\n",
       "\t<li>5</li>\n",
       "\t<li>6</li>\n",
       "\t<li>6</li>\n",
       "\t<li>6</li>\n",
       "\t<li>6</li>\n",
       "\t<li>8</li>\n",
       "\t<li>8</li>\n",
       "\t<li>8</li>\n",
       "\t<li>8</li>\n",
       "</ol>\n"
      ],
      "text/latex": [
       "\\begin{enumerate*}\n",
       "\\item 0\n",
       "\\item 1\n",
       "\\item 1\n",
       "\\item 1\n",
       "\\item 2\n",
       "\\item 3\n",
       "\\item 3\n",
       "\\item 3\n",
       "\\item 4\n",
       "\\item 5\n",
       "\\item 5\n",
       "\\item 5\n",
       "\\item 6\n",
       "\\item 6\n",
       "\\item 6\n",
       "\\item 6\n",
       "\\item 8\n",
       "\\item 8\n",
       "\\item 8\n",
       "\\item 8\n",
       "\\end{enumerate*}\n"
      ],
      "text/markdown": [
       "1. 0\n",
       "2. 1\n",
       "3. 1\n",
       "4. 1\n",
       "5. 2\n",
       "6. 3\n",
       "7. 3\n",
       "8. 3\n",
       "9. 4\n",
       "10. 5\n",
       "11. 5\n",
       "12. 5\n",
       "13. 6\n",
       "14. 6\n",
       "15. 6\n",
       "16. 6\n",
       "17. 8\n",
       "18. 8\n",
       "19. 8\n",
       "20. 8\n",
       "\n",
       "\n"
      ],
      "text/plain": [
       " [1] 0 1 1 1 2 3 3 3 4 5 5 5 6 6 6 6 8 8 8 8"
      ]
     },
     "metadata": {},
     "output_type": "display_data"
    }
   ],
   "source": [
    "# Since our list has 20 elements, our median is the average between element 10 & 11\n",
    "\n",
    "# Sorting our data \n",
    "\n",
    "sort(list_1)"
   ]
  },
  {
   "cell_type": "markdown",
   "metadata": {},
   "source": [
    "Since our list has 20 elements, our median is the average between element 10 & 11\n"
   ]
  },
  {
   "cell_type": "code",
   "execution_count": 12,
   "metadata": {},
   "outputs": [
    {
     "data": {
      "text/html": [
       "5"
      ],
      "text/latex": [
       "5"
      ],
      "text/markdown": [
       "5"
      ],
      "text/plain": [
       "[1] 5"
      ]
     },
     "metadata": {},
     "output_type": "display_data"
    }
   ],
   "source": [
    "list_1 <- sort(list_1)\n",
    "# Sort the list in ascending order, re-assigning it to the same variable\n",
    "manual_median <- (list_1[10] + list_1[11]) / 2\n",
    "# summing up the 10th and 11th elements, divide by two\n",
    "manual_median"
   ]
  },
  {
   "cell_type": "code",
   "execution_count": 13,
   "metadata": {},
   "outputs": [
    {
     "data": {
      "text/html": [
       "5"
      ],
      "text/latex": [
       "5"
      ],
      "text/markdown": [
       "5"
      ],
      "text/plain": [
       "[1] 5"
      ]
     },
     "metadata": {},
     "output_type": "display_data"
    }
   ],
   "source": [
    "# We can find the median of this same list through the use of the median () function\n",
    "built_median <- median(list_1)\n",
    "built_median"
   ]
  },
  {
   "cell_type": "code",
   "execution_count": 14,
   "metadata": {},
   "outputs": [
    {
     "data": {
      "text/html": [
       "TRUE"
      ],
      "text/latex": [
       "TRUE"
      ],
      "text/markdown": [
       "TRUE"
      ],
      "text/plain": [
       "[1] TRUE"
      ]
     },
     "metadata": {},
     "output_type": "display_data"
    }
   ],
   "source": [
    "# Are these figures the same? We can use an operator to find out\n",
    "manual_median == built_median # the '==' operator will check if the left side is the same as the right"
   ]
  },
  {
   "cell_type": "code",
   "execution_count": 15,
   "metadata": {},
   "outputs": [
    {
     "data": {
      "text/html": [
       "4"
      ],
      "text/latex": [
       "4"
      ],
      "text/markdown": [
       "4"
      ],
      "text/plain": [
       "[1] 4"
      ]
     },
     "metadata": {},
     "output_type": "display_data"
    },
    {
     "data": {
      "text/html": [
       "4"
      ],
      "text/latex": [
       "4"
      ],
      "text/markdown": [
       "4"
      ],
      "text/plain": [
       "[1] 4"
      ]
     },
     "metadata": {},
     "output_type": "display_data"
    }
   ],
   "source": [
    "# In the case of an ODD number of elements, the median will be the 'middle' of that ordered list\n",
    "list_2 <- floor(runif(19, min=0, max=9)) # Note that there are 19 values in list_2\n",
    "median(list_2)\n",
    "sort(list_2)[ceiling(length(list_2)/2)]   # This indexes the 10th element \n",
    "                                        # which lies exactly 9 elements away from the beginning & end"
   ]
  },
  {
   "cell_type": "markdown",
   "metadata": {},
   "source": [
    "### Mean ###\n",
    "\n",
    "- The equation for the mean is \\begin{equation} \\bar x = \\frac{\\sum x}{n}, \\end{equation} where $\\bar x$ bar is the mean, $\\Sigma$ is a summation, and $n$ is the number of cases\n",
    "- The mean is the sum of all data, divided by the number of data points\n",
    "- Again, R has a function that automatically calculates this for us (mean ( )), but we can also achieve the same answer manually\n",
    "- The mean is easily understood and simple to calculate, but can be heavily influenced by outliers"
   ]
  },
  {
   "cell_type": "code",
   "execution_count": 16,
   "metadata": {},
   "outputs": [
    {
     "data": {
      "text/html": [
       "4.45"
      ],
      "text/latex": [
       "4.45"
      ],
      "text/markdown": [
       "4.45"
      ],
      "text/plain": [
       "[1] 4.45"
      ]
     },
     "metadata": {},
     "output_type": "display_data"
    }
   ],
   "source": [
    "# Lets use the built-in function to find the mean\n",
    "\n",
    "built_mean <- mean(list_1)\n",
    "built_mean"
   ]
  },
  {
   "cell_type": "code",
   "execution_count": 17,
   "metadata": {},
   "outputs": [
    {
     "data": {
      "text/html": [
       "4.45"
      ],
      "text/latex": [
       "4.45"
      ],
      "text/markdown": [
       "4.45"
      ],
      "text/plain": [
       "[1] 4.45"
      ]
     },
     "metadata": {},
     "output_type": "display_data"
    }
   ],
   "source": [
    "# Calculating this manually\n",
    "\n",
    "manual_mean <- sum(list_1)/length(list_1) # sums up the entire list then divides by the number of elements (n)\n",
    "manual_mean"
   ]
  },
  {
   "cell_type": "code",
   "execution_count": 18,
   "metadata": {},
   "outputs": [
    {
     "data": {
      "text/html": [
       "TRUE"
      ],
      "text/latex": [
       "TRUE"
      ],
      "text/markdown": [
       "TRUE"
      ],
      "text/plain": [
       "[1] TRUE"
      ]
     },
     "metadata": {},
     "output_type": "display_data"
    }
   ],
   "source": [
    "# Finally, we'll check if these values align\n",
    "\n",
    "built_mean == manual_mean"
   ]
  },
  {
   "cell_type": "markdown",
   "metadata": {},
   "source": [
    "### Mode ###\n",
    "\n",
    "- The mode is the value that occurs the most often, or in other words, the most common outcome. \n",
    "- Unfortunately, there is no function for this, but you can write a function yourself to calculate the mode\n",
    "\n",
    "\n",
    "Lets remind ourselves what list_1 looks like"
   ]
  },
  {
   "cell_type": "code",
   "execution_count": 19,
   "metadata": {},
   "outputs": [
    {
     "data": {
      "text/html": [
       "<ol class=list-inline>\n",
       "\t<li>0</li>\n",
       "\t<li>1</li>\n",
       "\t<li>1</li>\n",
       "\t<li>1</li>\n",
       "\t<li>2</li>\n",
       "\t<li>3</li>\n",
       "\t<li>3</li>\n",
       "\t<li>3</li>\n",
       "\t<li>4</li>\n",
       "\t<li>5</li>\n",
       "\t<li>5</li>\n",
       "\t<li>5</li>\n",
       "\t<li>6</li>\n",
       "\t<li>6</li>\n",
       "\t<li>6</li>\n",
       "\t<li>6</li>\n",
       "\t<li>8</li>\n",
       "\t<li>8</li>\n",
       "\t<li>8</li>\n",
       "\t<li>8</li>\n",
       "</ol>\n"
      ],
      "text/latex": [
       "\\begin{enumerate*}\n",
       "\\item 0\n",
       "\\item 1\n",
       "\\item 1\n",
       "\\item 1\n",
       "\\item 2\n",
       "\\item 3\n",
       "\\item 3\n",
       "\\item 3\n",
       "\\item 4\n",
       "\\item 5\n",
       "\\item 5\n",
       "\\item 5\n",
       "\\item 6\n",
       "\\item 6\n",
       "\\item 6\n",
       "\\item 6\n",
       "\\item 8\n",
       "\\item 8\n",
       "\\item 8\n",
       "\\item 8\n",
       "\\end{enumerate*}\n"
      ],
      "text/markdown": [
       "1. 0\n",
       "2. 1\n",
       "3. 1\n",
       "4. 1\n",
       "5. 2\n",
       "6. 3\n",
       "7. 3\n",
       "8. 3\n",
       "9. 4\n",
       "10. 5\n",
       "11. 5\n",
       "12. 5\n",
       "13. 6\n",
       "14. 6\n",
       "15. 6\n",
       "16. 6\n",
       "17. 8\n",
       "18. 8\n",
       "19. 8\n",
       "20. 8\n",
       "\n",
       "\n"
      ],
      "text/plain": [
       " [1] 0 1 1 1 2 3 3 3 4 5 5 5 6 6 6 6 8 8 8 8"
      ]
     },
     "metadata": {},
     "output_type": "display_data"
    }
   ],
   "source": [
    "list_1 # remember that we sorted it earlier"
   ]
  },
  {
   "cell_type": "markdown",
   "metadata": {},
   "source": [
    "You cannot always assume unimodality, i.e. there may be more than one mode in your data."
   ]
  },
  {
   "cell_type": "code",
   "execution_count": 20,
   "metadata": {},
   "outputs": [
    {
     "data": {},
     "metadata": {},
     "output_type": "display_data"
    },
    {
     "data": {
      "image/png": "[encoded data removed]",
      "text/plain": [
       "plot without title"
      ]
     },
     "metadata": {},
     "output_type": "display_data"
    }
   ],
   "source": [
    "bimodal <- function(i) { choose(8,i) + choose(8,i-4)}\n",
    "bimodal_dist <- sapply(0:12, bimodal)\n",
    "ggplot(data.frame(y=bimodal_dist), aes(x=factor(0:12), y=y)) + \n",
    "    geom_bar(stat='identity') + labs(x='x', title='A bimodal distribution')"
   ]
  },
  {
   "cell_type": "markdown",
   "metadata": {},
   "source": [
    "Below is a function to retrieve the mode(s) in a given dataset, it comes from a contributor on stackoverflow and has been simplified:  https://stackoverflow.com/questions/2547402/is-there-a-built-in-function-for-finding-the-mode.\n",
    "\n",
    "Take a second to reflect and interpret what the code does before running it."
   ]
  },
  {
   "cell_type": "code",
   "execution_count": 21,
   "metadata": {},
   "outputs": [
    {
     "data": {
      "text/html": [
       "<ol class=list-inline>\n",
       "\t<li>6</li>\n",
       "\t<li>8</li>\n",
       "</ol>\n"
      ],
      "text/latex": [
       "\\begin{enumerate*}\n",
       "\\item 6\n",
       "\\item 8\n",
       "\\end{enumerate*}\n"
      ],
      "text/markdown": [
       "1. 6\n",
       "2. 8\n",
       "\n",
       "\n"
      ],
      "text/plain": [
       "[1] 6 8"
      ]
     },
     "metadata": {},
     "output_type": "display_data"
    }
   ],
   "source": [
    "# This particular function can take three different methods\n",
    "# nmodes will find out the number of modes\n",
    "# mode will return a single mode\n",
    "# modes will return all the modes in a multi-modal dataset\n",
    "\n",
    "modeav <- function (x, na.rm = FALSE)\n",
    "{\n",
    "  x <- unlist(x)\n",
    "  if (na.rm)\n",
    "    x <- x[!is.na(x)]\n",
    "  u <- unique(x)\n",
    "  n <- length(u)\n",
    "  #get frequencies of each of the unique values in the vector\n",
    "  frequencies <- rep(0, n)\n",
    "  for (i in seq_len(n)) {\n",
    "    if (is.na(u[i])) {\n",
    "      frequencies[i] <- sum(is.na(x))\n",
    "    }\n",
    "    else {\n",
    "      frequencies[i] <- sum(x == u[i], na.rm = TRUE)\n",
    "    }\n",
    "  }\n",
    "  \n",
    "  #list of all modes\n",
    "  u[which(frequencies==max(frequencies), arr.ind = FALSE, useNames = FALSE)]\n",
    "}\n",
    "    \n",
    "modeav(list_1)"
   ]
  },
  {
   "cell_type": "code",
   "execution_count": 22,
   "metadata": {},
   "outputs": [
    {
     "data": {
      "text/html": [
       "<ol class=list-inline>\n",
       "\t<li>1</li>\n",
       "\t<li>2</li>\n",
       "\t<li>3</li>\n",
       "</ol>\n"
      ],
      "text/latex": [
       "\\begin{enumerate*}\n",
       "\\item 1\n",
       "\\item 2\n",
       "\\item 3\n",
       "\\end{enumerate*}\n"
      ],
      "text/markdown": [
       "1. 1\n",
       "2. 2\n",
       "3. 3\n",
       "\n",
       "\n"
      ],
      "text/plain": [
       "[1] 1 2 3"
      ]
     },
     "metadata": {},
     "output_type": "display_data"
    }
   ],
   "source": [
    "# Here is another example with three different modes in the dataset. \n",
    "# Remember that mode becomes harder to find manually as your dataset scales up in size\n",
    "\n",
    "list_3 = c(1,1,1,1,1,2,2,2,2,2,3,3,3,3,3,4,4,5,5,6,7,8,8,9,9,9,24)\n",
    "\n",
    "modeav(list_3)"
   ]
  },
  {
   "cell_type": "markdown",
   "metadata": {},
   "source": [
    "Great! Now we know there are three modes in our dataset and that they are the numbers 1, 2 and 3 "
   ]
  },
  {
   "cell_type": "markdown",
   "metadata": {},
   "source": [
    "### So which measure is the best measure of central tendency? \n",
    "\n",
    "It depends on both the type of data you have (ordinal, nominal, ratio) but also on the actual data itself (presence of large outliers)\n",
    "- The mean is what we need for an average\n",
    "- The median is more robust to outliers\n",
    "- For categorical data, only mode can be used"
   ]
  },
  {
   "cell_type": "code",
   "execution_count": 23,
   "metadata": {},
   "outputs": [
    {
     "data": {
      "text/html": [
       "<ol class=list-inline>\n",
       "\t<li>1</li>\n",
       "\t<li>1</li>\n",
       "\t<li>1</li>\n",
       "\t<li>1</li>\n",
       "\t<li>1</li>\n",
       "\t<li>2</li>\n",
       "\t<li>2</li>\n",
       "\t<li>2</li>\n",
       "\t<li>2</li>\n",
       "\t<li>2</li>\n",
       "\t<li>3</li>\n",
       "\t<li>3</li>\n",
       "\t<li>3</li>\n",
       "\t<li>3</li>\n",
       "\t<li>3</li>\n",
       "\t<li>4</li>\n",
       "\t<li>4</li>\n",
       "\t<li>5</li>\n",
       "\t<li>5</li>\n",
       "\t<li>6</li>\n",
       "\t<li>7</li>\n",
       "\t<li>8</li>\n",
       "\t<li>8</li>\n",
       "\t<li>9</li>\n",
       "\t<li>9</li>\n",
       "\t<li>9</li>\n",
       "\t<li>24</li>\n",
       "</ol>\n"
      ],
      "text/latex": [
       "\\begin{enumerate*}\n",
       "\\item 1\n",
       "\\item 1\n",
       "\\item 1\n",
       "\\item 1\n",
       "\\item 1\n",
       "\\item 2\n",
       "\\item 2\n",
       "\\item 2\n",
       "\\item 2\n",
       "\\item 2\n",
       "\\item 3\n",
       "\\item 3\n",
       "\\item 3\n",
       "\\item 3\n",
       "\\item 3\n",
       "\\item 4\n",
       "\\item 4\n",
       "\\item 5\n",
       "\\item 5\n",
       "\\item 6\n",
       "\\item 7\n",
       "\\item 8\n",
       "\\item 8\n",
       "\\item 9\n",
       "\\item 9\n",
       "\\item 9\n",
       "\\item 24\n",
       "\\end{enumerate*}\n"
      ],
      "text/markdown": [
       "1. 1\n",
       "2. 1\n",
       "3. 1\n",
       "4. 1\n",
       "5. 1\n",
       "6. 2\n",
       "7. 2\n",
       "8. 2\n",
       "9. 2\n",
       "10. 2\n",
       "11. 3\n",
       "12. 3\n",
       "13. 3\n",
       "14. 3\n",
       "15. 3\n",
       "16. 4\n",
       "17. 4\n",
       "18. 5\n",
       "19. 5\n",
       "20. 6\n",
       "21. 7\n",
       "22. 8\n",
       "23. 8\n",
       "24. 9\n",
       "25. 9\n",
       "26. 9\n",
       "27. 24\n",
       "\n",
       "\n"
      ],
      "text/plain": [
       " [1]  1  1  1  1  1  2  2  2  2  2  3  3  3  3  3  4  4  5  5  6  7  8  8  9  9\n",
       "[26]  9 24"
      ]
     },
     "metadata": {},
     "output_type": "display_data"
    },
    {
     "data": {
      "text/html": [
       "3"
      ],
      "text/latex": [
       "3"
      ],
      "text/markdown": [
       "3"
      ],
      "text/plain": [
       "[1] 3"
      ]
     },
     "metadata": {},
     "output_type": "display_data"
    }
   ],
   "source": [
    "# In this extreme example, the median of list_3 is unaffected by the huge outlier, 24\n",
    "\n",
    "list_3\n",
    "median(list_3)"
   ]
  },
  {
   "cell_type": "code",
   "execution_count": 24,
   "metadata": {},
   "outputs": [
    {
     "data": {
      "text/html": [
       "'Apple'"
      ],
      "text/latex": [
       "'Apple'"
      ],
      "text/markdown": [
       "'Apple'"
      ],
      "text/plain": [
       "[1] \"Apple\""
      ]
     },
     "metadata": {},
     "output_type": "display_data"
    }
   ],
   "source": [
    "# Lets make a list of non-quantitative values\n",
    "\n",
    "Fruit_basket <- c('Apple','Orange','Apple','Banana','Apple','Peach','Apple','Lemon','Apple')\n",
    "\n",
    "# And then try to find the mode of this list of values\n",
    "\n",
    "modeav(Fruit_basket)"
   ]
  },
  {
   "cell_type": "markdown",
   "metadata": {},
   "source": [
    "In each of these scenario, how would you make sense of the following measures:\n",
    "- the mean total rainfall within the catchment area of Semenyih Dam in Selangor\n",
    "- the median of population age in Malaysia being 27.7 years\n",
    "- the mode of income of individuals in Malaysia"
   ]
  },
  {
   "cell_type": "markdown",
   "metadata": {},
   "source": [
    "<a id='dispersion'></a>\n",
    "\n",
    "## Measures of Dispersion/Variability ##\n",
    "\n",
    "#### Example. #### \n",
    "The geographical center of population of a region is a point of the mean of coordinates of the population. Does the center of population, for example in Greater Kuala Lumpur, tell everything about the most popular location in this region? How about the median or mode of coordinates? These measures did not describe a property called Dispersion.\n",
    "\n",
    "### Understanding the centre of your data is a good start, but it is not the complete picture. You may also want to know how spread out your data is ###"
   ]
  },
  {
   "cell_type": "code",
   "execution_count": 25,
   "metadata": {
    "collapsed": true
   },
   "outputs": [],
   "source": [
    "# Lets pretend we have collected data on the number of siblings everyone in the classroom has.\n",
    "# this is saved as no_siblings\n",
    "\n",
    "no_siblings <- c(1, 0, 6, 0, 2, 2, 0, 3, 1, 4, 2, 4, 2, 2, 0, 1, 1, 2, 5, 2, 1, 2, 5, 7, 2, 2, 2, 3, 0, 0, 0, 0, 1, 3)"
   ]
  },
  {
   "cell_type": "markdown",
   "metadata": {},
   "source": [
    "## Range, Percentiles, Interquartile Range (IQR), Outliers, Variance & Standard Deviation"
   ]
  },
  {
   "cell_type": "markdown",
   "metadata": {},
   "source": [
    "### Range ###\n",
    "\n",
    "- Range is the difference between the largest and smallest number in the list\n",
    "- Is it easy to understand and simple to compute but does not necessarily give us the best representation of variability"
   ]
  },
  {
   "cell_type": "code",
   "execution_count": 26,
   "metadata": {},
   "outputs": [
    {
     "data": {
      "text/html": [
       "7"
      ],
      "text/latex": [
       "7"
      ],
      "text/markdown": [
       "7"
      ],
      "text/plain": [
       "[1] 7"
      ]
     },
     "metadata": {},
     "output_type": "display_data"
    }
   ],
   "source": [
    "# The range of no_siblings will be the largest number (7) minus the smallest number (0) which is 7\n",
    "\n",
    "max(no_siblings) - min(no_siblings) # maximum - minimum of our data"
   ]
  },
  {
   "cell_type": "markdown",
   "metadata": {},
   "source": [
    "### Percentile ###\n",
    "\n",
    "- A percentile is a value of a datapoint that is greater than that percentage of data\n",
    "- For example, the 25th percentile has 25% of all the data lying below it\n",
    "- The 75th percentile is greater than 75% of the data\n"
   ]
  },
  {
   "cell_type": "code",
   "execution_count": 27,
   "metadata": {
    "scrolled": true
   },
   "outputs": [
    {
     "data": {
      "text/html": [
       "34"
      ],
      "text/latex": [
       "34"
      ],
      "text/markdown": [
       "34"
      ],
      "text/plain": [
       "[1] 34"
      ]
     },
     "metadata": {},
     "output_type": "display_data"
    },
    {
     "data": {
      "text/html": [
       "<ol class=list-inline>\n",
       "\t<li>0</li>\n",
       "\t<li>0</li>\n",
       "\t<li>0</li>\n",
       "\t<li>0</li>\n",
       "\t<li>0</li>\n",
       "\t<li>0</li>\n",
       "\t<li>0</li>\n",
       "\t<li>0</li>\n",
       "\t<li>1</li>\n",
       "\t<li>1</li>\n",
       "\t<li>1</li>\n",
       "\t<li>1</li>\n",
       "\t<li>1</li>\n",
       "\t<li>1</li>\n",
       "\t<li>2</li>\n",
       "\t<li>2</li>\n",
       "\t<li>2</li>\n",
       "\t<li>2</li>\n",
       "\t<li>2</li>\n",
       "\t<li>2</li>\n",
       "\t<li>2</li>\n",
       "\t<li>2</li>\n",
       "\t<li>2</li>\n",
       "\t<li>2</li>\n",
       "\t<li>2</li>\n",
       "\t<li>3</li>\n",
       "\t<li>3</li>\n",
       "\t<li>3</li>\n",
       "\t<li>4</li>\n",
       "\t<li>4</li>\n",
       "\t<li>5</li>\n",
       "\t<li>5</li>\n",
       "\t<li>6</li>\n",
       "\t<li>7</li>\n",
       "</ol>\n"
      ],
      "text/latex": [
       "\\begin{enumerate*}\n",
       "\\item 0\n",
       "\\item 0\n",
       "\\item 0\n",
       "\\item 0\n",
       "\\item 0\n",
       "\\item 0\n",
       "\\item 0\n",
       "\\item 0\n",
       "\\item 1\n",
       "\\item 1\n",
       "\\item 1\n",
       "\\item 1\n",
       "\\item 1\n",
       "\\item 1\n",
       "\\item 2\n",
       "\\item 2\n",
       "\\item 2\n",
       "\\item 2\n",
       "\\item 2\n",
       "\\item 2\n",
       "\\item 2\n",
       "\\item 2\n",
       "\\item 2\n",
       "\\item 2\n",
       "\\item 2\n",
       "\\item 3\n",
       "\\item 3\n",
       "\\item 3\n",
       "\\item 4\n",
       "\\item 4\n",
       "\\item 5\n",
       "\\item 5\n",
       "\\item 6\n",
       "\\item 7\n",
       "\\end{enumerate*}\n"
      ],
      "text/markdown": [
       "1. 0\n",
       "2. 0\n",
       "3. 0\n",
       "4. 0\n",
       "5. 0\n",
       "6. 0\n",
       "7. 0\n",
       "8. 0\n",
       "9. 1\n",
       "10. 1\n",
       "11. 1\n",
       "12. 1\n",
       "13. 1\n",
       "14. 1\n",
       "15. 2\n",
       "16. 2\n",
       "17. 2\n",
       "18. 2\n",
       "19. 2\n",
       "20. 2\n",
       "21. 2\n",
       "22. 2\n",
       "23. 2\n",
       "24. 2\n",
       "25. 2\n",
       "26. 3\n",
       "27. 3\n",
       "28. 3\n",
       "29. 4\n",
       "30. 4\n",
       "31. 5\n",
       "32. 5\n",
       "33. 6\n",
       "34. 7\n",
       "\n",
       "\n"
      ],
      "text/plain": [
       " [1] 0 0 0 0 0 0 0 0 1 1 1 1 1 1 2 2 2 2 2 2 2 2 2 2 2 3 3 3 4 4 5 5 6 7"
      ]
     },
     "metadata": {},
     "output_type": "display_data"
    }
   ],
   "source": [
    "no_siblings <- sort(no_siblings)\n",
    "length(no_siblings)\n",
    "no_siblings\n",
    "\n",
    "# Since there are 34 elements in no_siblings, the 25th percentile would be '1'"
   ]
  },
  {
   "cell_type": "code",
   "execution_count": 28,
   "metadata": {},
   "outputs": [
    {
     "data": {
      "text/html": [
       "<dl class=dl-horizontal>\n",
       "\t<dt>25%</dt>\n",
       "\t\t<dd>1</dd>\n",
       "\t<dt>50%</dt>\n",
       "\t\t<dd>2</dd>\n",
       "\t<dt>75%</dt>\n",
       "\t\t<dd>2.75</dd>\n",
       "</dl>\n"
      ],
      "text/latex": [
       "\\begin{description*}\n",
       "\\item[25\\textbackslash{}\\%] 1\n",
       "\\item[50\\textbackslash{}\\%] 2\n",
       "\\item[75\\textbackslash{}\\%] 2.75\n",
       "\\end{description*}\n"
      ],
      "text/markdown": [
       "25%\n",
       ":   150%\n",
       ":   275%\n",
       ":   2.75\n",
       "\n"
      ],
      "text/plain": [
       " 25%  50%  75% \n",
       "1.00 2.00 2.75 "
      ]
     },
     "metadata": {},
     "output_type": "display_data"
    }
   ],
   "source": [
    "# We can calculate this quicker using a built-in formula 'quantile'\n",
    "\n",
    "quantile(no_siblings, c( .25, .50, .75))\n",
    "\n",
    "# Note that the 50th percentile is the same as the median, as 50% of the data lies below this number"
   ]
  },
  {
   "cell_type": "markdown",
   "metadata": {},
   "source": [
    "### Interquartile Range (IQR) ###\n",
    "\n",
    "- This measure distributes your values to four equal parts, leaving out the extreme values, and is thus robust\n",
    "- It is the distance between the third quartile and the first quartile\n",
    "- There is a built-in function for this, but you can also calculate this manually\n",
    "\n",
    "### Outliers (Tukey's Method) ###\n",
    "\n",
    "- Outliers are datapoints with a value that is far greater, or far smaller than the rest of the data\n",
    "- They have values that are more than 1.5 (IQR) above Q3 or 1.5 (IQR) below Q1 (Another reason why calculating IQR is important)"
   ]
  },
  {
   "cell_type": "code",
   "execution_count": 29,
   "metadata": {},
   "outputs": [
    {
     "data": {
      "text/html": [
       "1.75"
      ],
      "text/latex": [
       "1.75"
      ],
      "text/markdown": [
       "1.75"
      ],
      "text/plain": [
       "[1] 1.75"
      ]
     },
     "metadata": {},
     "output_type": "display_data"
    }
   ],
   "source": [
    "IQR(no_siblings)"
   ]
  },
  {
   "cell_type": "code",
   "execution_count": 30,
   "metadata": {},
   "outputs": [
    {
     "data": {
      "text/html": [
       "<strong>IQR:</strong> 1.75"
      ],
      "text/latex": [
       "\\textbf{IQR:} 1.75"
      ],
      "text/markdown": [
       "**IQR:** 1.75"
      ],
      "text/plain": [
       " IQR \n",
       "1.75 "
      ]
     },
     "metadata": {},
     "output_type": "display_data"
    }
   ],
   "source": [
    "manual_IQR <- quantile(no_siblings, .75) - quantile(no_siblings, .25)\n",
    "names(manual_IQR) <- 'IQR'\n",
    "manual_IQR"
   ]
  },
  {
   "cell_type": "markdown",
   "metadata": {},
   "source": [
    "### Boxplot ###\n",
    "\n",
    "- Boxplot is a really efficient way to visualise your IQR as it yields a variety of information with just one command\n",
    "- The three horizontal lines on the box represent Q1, Q2, Q3\n",
    "- The length of your box represents the size of your IQR\n",
    "- The whiskers extend to the distance of 1.5 times the IQR, or to the extent of your data"
   ]
  },
  {
   "cell_type": "code",
   "execution_count": 31,
   "metadata": {},
   "outputs": [
    {
     "data": {},
     "metadata": {},
     "output_type": "display_data"
    },
    {
     "data": {
      "image/png": "[encoded data removed]",
      "text/plain": [
       "plot without title"
      ]
     },
     "metadata": {},
     "output_type": "display_data"
    }
   ],
   "source": [
    "# Lets plot a boxplot with our sibling data from before\n",
    "library(ggplot2)\n",
    "no_siblings_df <- data.frame(Number=no_siblings)\n",
    "ggplot(no_siblings_df, aes(x='Siblings', y=Number)) + geom_boxplot()"
   ]
  },
  {
   "cell_type": "code",
   "execution_count": 32,
   "metadata": {
    "scrolled": true
   },
   "outputs": [
    {
     "data": {
      "text/html": [
       "<span style=white-space:pre-wrap>'The IQR is :  1.75'</span>"
      ],
      "text/latex": [
       "'The IQR is :  1.75'"
      ],
      "text/markdown": [
       "<span style=white-space:pre-wrap>'The IQR is :  1.75'</span>"
      ],
      "text/plain": [
       "[1] \"The IQR is :  1.75\""
      ]
     },
     "metadata": {},
     "output_type": "display_data"
    },
    {
     "data": {
      "text/html": [
       "<span style=white-space:pre-wrap>'The third quantile is :  2.75'</span>"
      ],
      "text/latex": [
       "'The third quantile is :  2.75'"
      ],
      "text/markdown": [
       "<span style=white-space:pre-wrap>'The third quantile is :  2.75'</span>"
      ],
      "text/plain": [
       "[1] \"The third quantile is :  2.75\""
      ]
     },
     "metadata": {},
     "output_type": "display_data"
    },
    {
     "data": {
      "text/html": [
       "<span style=white-space:pre-wrap>'The first quantile is :  1'</span>"
      ],
      "text/latex": [
       "'The first quantile is :  1'"
      ],
      "text/markdown": [
       "<span style=white-space:pre-wrap>'The first quantile is :  1'</span>"
      ],
      "text/plain": [
       "[1] \"The first quantile is :  1\""
      ]
     },
     "metadata": {},
     "output_type": "display_data"
    },
    {
     "data": {
      "text/html": [
       "<span style=white-space:pre-wrap>'The maximum number is :  7'</span>"
      ],
      "text/latex": [
       "'The maximum number is :  7'"
      ],
      "text/markdown": [
       "<span style=white-space:pre-wrap>'The maximum number is :  7'</span>"
      ],
      "text/plain": [
       "[1] \"The maximum number is :  7\""
      ]
     },
     "metadata": {},
     "output_type": "display_data"
    },
    {
     "data": {
      "text/html": [
       "<span style=white-space:pre-wrap>'The minimum number is :  0'</span>"
      ],
      "text/latex": [
       "'The minimum number is :  0'"
      ],
      "text/markdown": [
       "<span style=white-space:pre-wrap>'The minimum number is :  0'</span>"
      ],
      "text/plain": [
       "[1] \"The minimum number is :  0\""
      ]
     },
     "metadata": {},
     "output_type": "display_data"
    },
    {
     "data": {
      "text/html": [
       "<span style=white-space:pre-wrap>'The range is :  7'</span>"
      ],
      "text/latex": [
       "'The range is :  7'"
      ],
      "text/markdown": [
       "<span style=white-space:pre-wrap>'The range is :  7'</span>"
      ],
      "text/plain": [
       "[1] \"The range is :  7\""
      ]
     },
     "metadata": {},
     "output_type": "display_data"
    },
    {
     "data": {
      "text/html": [
       "<span style=white-space:pre-wrap>'The lower IQR limit is :  -1.625'</span>"
      ],
      "text/latex": [
       "'The lower IQR limit is :  -1.625'"
      ],
      "text/markdown": [
       "<span style=white-space:pre-wrap>'The lower IQR limit is :  -1.625'</span>"
      ],
      "text/plain": [
       "[1] \"The lower IQR limit is :  -1.625\""
      ]
     },
     "metadata": {},
     "output_type": "display_data"
    },
    {
     "data": {
      "text/html": [
       "<span style=white-space:pre-wrap>'The upper IQR limit is :  5.375'</span>"
      ],
      "text/latex": [
       "'The upper IQR limit is :  5.375'"
      ],
      "text/markdown": [
       "<span style=white-space:pre-wrap>'The upper IQR limit is :  5.375'</span>"
      ],
      "text/plain": [
       "[1] \"The upper IQR limit is :  5.375\""
      ]
     },
     "metadata": {},
     "output_type": "display_data"
    }
   ],
   "source": [
    "# Now we will calculate some figures and compare them against the boxplot above\n",
    "\n",
    "paste(\"The IQR is : \", IQR(no_siblings))\n",
    "paste(\"The third quantile is : \" , quantile(no_siblings, .75))\n",
    "paste(\"The first quantile is : \" , quantile(no_siblings, .25))\n",
    "paste(\"The maximum number is : \" , max(no_siblings))\n",
    "paste(\"The minimum number is : \" ,min(no_siblings))\n",
    "paste(\"The range is : \" , max(no_siblings) - min(no_siblings))\n",
    "paste(\"The lower IQR limit is : \" , quantile(no_siblings, .25) - 1.5*IQR(no_siblings))\n",
    "paste(\"The upper IQR limit is : \" , quantile(no_siblings, .75) + 1.5*IQR(no_siblings))"
   ]
  },
  {
   "cell_type": "markdown",
   "metadata": {},
   "source": [
    "### Variance ###\n",
    "\n",
    "- Variance is given by the formula \n",
    "\\begin{equation}\n",
    "\\mathrm{Var} (X) =  \\frac{\\sum (x - \\bar x)^2}{N - 1},\n",
    "\\end{equation}\n",
    "where x̄ is the mean and N is the number of samples\n",
    "- It is the average of the squared distance from the mean\n",
    "- The larger the variance, the more your values are spread out around the mean\n",
    "- To develop our understanding of variance we will work with the 'iris' dataset again\n",
    "\n",
    "The importance of variance will be revealed later when we learn the Central Limit Theorem."
   ]
  },
  {
   "cell_type": "code",
   "execution_count": 33,
   "metadata": {},
   "outputs": [
    {
     "data": {
      "text/html": [
       "<table>\n",
       "<thead><tr><th scope=col>Sepal.Length</th><th scope=col>Sepal.Width</th><th scope=col>Petal.Length</th><th scope=col>Petal.Width</th><th scope=col>Species</th></tr></thead>\n",
       "<tbody>\n",
       "\t<tr><td>5.1   </td><td>3.5   </td><td>1.4   </td><td>0.2   </td><td>setosa</td></tr>\n",
       "\t<tr><td>4.9   </td><td>3.0   </td><td>1.4   </td><td>0.2   </td><td>setosa</td></tr>\n",
       "\t<tr><td>4.7   </td><td>3.2   </td><td>1.3   </td><td>0.2   </td><td>setosa</td></tr>\n",
       "\t<tr><td>4.6   </td><td>3.1   </td><td>1.5   </td><td>0.2   </td><td>setosa</td></tr>\n",
       "\t<tr><td>5.0   </td><td>3.6   </td><td>1.4   </td><td>0.2   </td><td>setosa</td></tr>\n",
       "\t<tr><td>5.4   </td><td>3.9   </td><td>1.7   </td><td>0.4   </td><td>setosa</td></tr>\n",
       "</tbody>\n",
       "</table>\n"
      ],
      "text/latex": [
       "\\begin{tabular}{r|lllll}\n",
       " Sepal.Length & Sepal.Width & Petal.Length & Petal.Width & Species\\\\\n",
       "\\hline\n",
       "\t 5.1    & 3.5    & 1.4    & 0.2    & setosa\\\\\n",
       "\t 4.9    & 3.0    & 1.4    & 0.2    & setosa\\\\\n",
       "\t 4.7    & 3.2    & 1.3    & 0.2    & setosa\\\\\n",
       "\t 4.6    & 3.1    & 1.5    & 0.2    & setosa\\\\\n",
       "\t 5.0    & 3.6    & 1.4    & 0.2    & setosa\\\\\n",
       "\t 5.4    & 3.9    & 1.7    & 0.4    & setosa\\\\\n",
       "\\end{tabular}\n"
      ],
      "text/markdown": [
       "\n",
       "Sepal.Length | Sepal.Width | Petal.Length | Petal.Width | Species | \n",
       "|---|---|---|---|---|---|\n",
       "| 5.1    | 3.5    | 1.4    | 0.2    | setosa | \n",
       "| 4.9    | 3.0    | 1.4    | 0.2    | setosa | \n",
       "| 4.7    | 3.2    | 1.3    | 0.2    | setosa | \n",
       "| 4.6    | 3.1    | 1.5    | 0.2    | setosa | \n",
       "| 5.0    | 3.6    | 1.4    | 0.2    | setosa | \n",
       "| 5.4    | 3.9    | 1.7    | 0.4    | setosa | \n",
       "\n",
       "\n"
      ],
      "text/plain": [
       "  Sepal.Length Sepal.Width Petal.Length Petal.Width Species\n",
       "1 5.1          3.5         1.4          0.2         setosa \n",
       "2 4.9          3.0         1.4          0.2         setosa \n",
       "3 4.7          3.2         1.3          0.2         setosa \n",
       "4 4.6          3.1         1.5          0.2         setosa \n",
       "5 5.0          3.6         1.4          0.2         setosa \n",
       "6 5.4          3.9         1.7          0.4         setosa "
      ]
     },
     "metadata": {},
     "output_type": "display_data"
    }
   ],
   "source": [
    "# Take a look at the dataset\n",
    "\n",
    "head(iris) # head() shows us the first few observations"
   ]
  },
  {
   "cell_type": "markdown",
   "metadata": {},
   "source": [
    "Lets work with one of the columns, Sepal.Length"
   ]
  },
  {
   "cell_type": "code",
   "execution_count": 34,
   "metadata": {
    "collapsed": true
   },
   "outputs": [],
   "source": [
    "sepal_length <- iris$Sepal.Length # Pull out the only column we are concerned about"
   ]
  },
  {
   "cell_type": "markdown",
   "metadata": {},
   "source": [
    "Lets try to find the variance in Sepal Length for all observations in our dataset"
   ]
  },
  {
   "cell_type": "code",
   "execution_count": 35,
   "metadata": {},
   "outputs": [
    {
     "data": {
      "text/html": [
       "0.685693512304251"
      ],
      "text/latex": [
       "0.685693512304251"
      ],
      "text/markdown": [
       "0.685693512304251"
      ],
      "text/plain": [
       "[1] 0.6856935"
      ]
     },
     "metadata": {},
     "output_type": "display_data"
    }
   ],
   "source": [
    "sepal_mean <- mean(sepal_length) # Calculate our mean\n",
    "subtracted_mean <- sepal_length - sepal_mean # Subtract mean from all observations\n",
    "sep_len_square <- subtracted_mean^2 # Square these values\n",
    "sepal_sum <- sum(sep_len_square) # Sum the squares\n",
    "var_manual <- sepal_sum / (length(sepal_length) - 1) # divide by number of observations\n",
    "var_manual"
   ]
  },
  {
   "cell_type": "markdown",
   "metadata": {},
   "source": [
    "Putting this information in a table for you to understand what is happening"
   ]
  },
  {
   "cell_type": "code",
   "execution_count": 36,
   "metadata": {},
   "outputs": [
    {
     "data": {
      "text/html": [
       "<table>\n",
       "<thead><tr><th scope=col>sepal_length</th><th scope=col>subtracted_x_bar</th><th scope=col>square_subtracted_x_bar</th></tr></thead>\n",
       "<tbody>\n",
       "\t<tr><td>5.1       </td><td>-0.7433333</td><td>0.5525444 </td></tr>\n",
       "\t<tr><td>4.9       </td><td>-0.9433333</td><td>0.8898778 </td></tr>\n",
       "\t<tr><td>4.7       </td><td>-1.1433333</td><td>1.3072111 </td></tr>\n",
       "\t<tr><td>4.6       </td><td>-1.2433333</td><td>1.5458778 </td></tr>\n",
       "\t<tr><td>5.0       </td><td>-0.8433333</td><td>0.7112111 </td></tr>\n",
       "\t<tr><td>5.4       </td><td>-0.4433333</td><td>0.1965444 </td></tr>\n",
       "</tbody>\n",
       "</table>\n"
      ],
      "text/latex": [
       "\\begin{tabular}{r|lll}\n",
       " sepal\\_length & subtracted\\_x\\_bar & square\\_subtracted\\_x\\_bar\\\\\n",
       "\\hline\n",
       "\t 5.1        & -0.7433333 & 0.5525444 \\\\\n",
       "\t 4.9        & -0.9433333 & 0.8898778 \\\\\n",
       "\t 4.7        & -1.1433333 & 1.3072111 \\\\\n",
       "\t 4.6        & -1.2433333 & 1.5458778 \\\\\n",
       "\t 5.0        & -0.8433333 & 0.7112111 \\\\\n",
       "\t 5.4        & -0.4433333 & 0.1965444 \\\\\n",
       "\\end{tabular}\n"
      ],
      "text/markdown": [
       "\n",
       "sepal_length | subtracted_x_bar | square_subtracted_x_bar | \n",
       "|---|---|---|---|---|---|\n",
       "| 5.1        | -0.7433333 | 0.5525444  | \n",
       "| 4.9        | -0.9433333 | 0.8898778  | \n",
       "| 4.7        | -1.1433333 | 1.3072111  | \n",
       "| 4.6        | -1.2433333 | 1.5458778  | \n",
       "| 5.0        | -0.8433333 | 0.7112111  | \n",
       "| 5.4        | -0.4433333 | 0.1965444  | \n",
       "\n",
       "\n"
      ],
      "text/plain": [
       "  sepal_length subtracted_x_bar square_subtracted_x_bar\n",
       "1 5.1          -0.7433333       0.5525444              \n",
       "2 4.9          -0.9433333       0.8898778              \n",
       "3 4.7          -1.1433333       1.3072111              \n",
       "4 4.6          -1.2433333       1.5458778              \n",
       "5 5.0          -0.8433333       0.7112111              \n",
       "6 5.4          -0.4433333       0.1965444              "
      ]
     },
     "metadata": {},
     "output_type": "display_data"
    }
   ],
   "source": [
    "df <- data.frame(sepal_length=sepal_length, subtracted_x_bar=subtracted_mean, \n",
    "                 square_subtracted_x_bar=sep_len_square)\n",
    "head(df) # head() will only pull out the first few observations"
   ]
  },
  {
   "cell_type": "code",
   "execution_count": 37,
   "metadata": {},
   "outputs": [
    {
     "data": {
      "text/html": [
       "0.685693512304251"
      ],
      "text/latex": [
       "0.685693512304251"
      ],
      "text/markdown": [
       "0.685693512304251"
      ],
      "text/plain": [
       "[1] 0.6856935"
      ]
     },
     "metadata": {},
     "output_type": "display_data"
    }
   ],
   "source": [
    "# Calculating the variance using our R built-in function squishes all our preceding lines of code to one command\n",
    "\n",
    "var(sepal_length)"
   ]
  },
  {
   "cell_type": "code",
   "execution_count": 38,
   "metadata": {},
   "outputs": [
    {
     "data": {
      "text/html": [
       "TRUE"
      ],
      "text/latex": [
       "TRUE"
      ],
      "text/markdown": [
       "TRUE"
      ],
      "text/plain": [
       "[1] TRUE"
      ]
     },
     "metadata": {},
     "output_type": "display_data"
    }
   ],
   "source": [
    "# Lets check if these values are the same\n",
    "\n",
    "var_manual == var(sepal_length)"
   ]
  },
  {
   "cell_type": "markdown",
   "metadata": {},
   "source": [
    "### Standard Deviation ###\n",
    "- This is the most commonly used measure of dispersion, and is more useful than Variance because it is in the same units as your analysis\n",
    "- It is defined as the square root of variance $s = \\sqrt{\\mathrm{Var}(X)}$"
   ]
  },
  {
   "cell_type": "code",
   "execution_count": 39,
   "metadata": {},
   "outputs": [
    {
     "data": {
      "text/html": [
       "0.828066127977863"
      ],
      "text/latex": [
       "0.828066127977863"
      ],
      "text/markdown": [
       "0.828066127977863"
      ],
      "text/plain": [
       "[1] 0.8280661"
      ]
     },
     "metadata": {},
     "output_type": "display_data"
    }
   ],
   "source": [
    "# Using the built-in function from R, we can square root the variance we calculated ourselves\n",
    "sqrt(var_manual)"
   ]
  },
  {
   "cell_type": "code",
   "execution_count": 40,
   "metadata": {},
   "outputs": [
    {
     "data": {
      "text/html": [
       "0.828066127977863"
      ],
      "text/latex": [
       "0.828066127977863"
      ],
      "text/markdown": [
       "0.828066127977863"
      ],
      "text/plain": [
       "[1] 0.8280661"
      ]
     },
     "metadata": {},
     "output_type": "display_data"
    }
   ],
   "source": [
    "# sd () is a built-in function from R to calculate standard deviation\n",
    "\n",
    "sd(sepal_length) # Note that this is the same value as what we got when we performed the calculation manually"
   ]
  },
  {
   "cell_type": "markdown",
   "metadata": {},
   "source": [
    "The standard deviation of 0.828 (3.s.f.) can be interpreted as the square root of the average squared distance of all observations from the mean of 5.84"
   ]
  },
  {
   "cell_type": "markdown",
   "metadata": {},
   "source": [
    "#### Reference measure\n",
    "\n",
    "Some other measures (that we are not covering) are:\n",
    "- Trimean: another measure of central tendency, equals (Q1 + 2 Q2 + Q3) / 4\n",
    "- Mean Absolute Deviation (MAD): another robust measure of dispersion\n",
    "- Skewness\n",
    "- Kurtosis"
   ]
  },
  {
   "cell_type": "code",
   "execution_count": 41,
   "metadata": {},
   "outputs": [
    {
     "data": {
      "image/png": "[encoded data removed]"
     },
     "metadata": {
      "height": 100,
      "width": 800
     },
     "output_type": "display_data"
    }
   ],
   "source": [
    "library(\"IRdisplay\")\n",
    "display_png(file=\"Skew.png\", width = 800, height = 100)"
   ]
  },
  {
   "cell_type": "markdown",
   "metadata": {},
   "source": [
    "<a id='correlation'> </a>\n",
    "\n",
    "## Pearson's correlation coefficient"
   ]
  },
  {
   "cell_type": "markdown",
   "metadata": {},
   "source": [
    "Pearson's correlation coefficient, also called Pearson's $r$, measures on average, how much an increase (decrease) in $X$ is related to an increase (decrease) in $Y$. When the correlation is positive, an increase (decrease) in $X$ corresponds to an increase (decrease) in $Y$. When this coefficient is negative, an increase (decrease) in $X$ corresponds to a decrease (increase) in $Y$.\n",
    "\n",
    "Pearson's correlation coefficient is defined for a pair of random variables $X$, and $Y$ as \\begin{equation}\n",
    "\\mathrm{corr}(X, Y) = \\frac{ \\textrm{E}((X-\\textrm{E}(X))(Y-\\textrm{E}(Y))) }{ \\sqrt{\\textrm{Var}(X)\\textrm{Var}(Y)} } \\\\\n",
    "= \\frac{\\sum_i (x_i - \\mu_x)(y_i - \\mu_y)}{n \\sigma_x \\sigma_y},\n",
    "\\end{equation}\n",
    "where E represents the expectation function, $\\mu_x$ and $\\mu_y$ are the means and $\\sigma_x$ and $\\sigma_y$ are the standard deviation of $X$ and $Y$, and $n$ is the sample size. To show that this coefficient is only an \"average\", and may not be appropriate to predict one of $X$ or $Y$ based on the other, an example plot is given."
   ]
  },
  {
   "cell_type": "code",
   "execution_count": 42,
   "metadata": {},
   "outputs": [
    {
     "name": "stderr",
     "output_type": "stream",
     "text": [
      "\n",
      "Attaching package: 'MASS'\n",
      "\n",
      "The following object is masked from 'package:dplyr':\n",
      "\n",
      "    select\n",
      "\n"
     ]
    },
    {
     "data": {},
     "metadata": {},
     "output_type": "display_data"
    },
    {
     "data": {
      "image/png": "[encoded data removed]",
      "text/plain": [
       "plot without title"
      ]
     },
     "metadata": {},
     "output_type": "display_data"
    }
   ],
   "source": [
    "library(MASS)\n",
    "\n",
    "s1 <- mvrnorm(100, c(3,3), matrix(c(1.5,-1,-1,1.5),2,2))\n",
    "s2 <- mvrnorm(100, c(-3,-3), matrix(c(1.5,-1,-1,1.5),2,2))\n",
    "s <- rbind(s1, s2)\n",
    "s <- data.frame( X=s[,1], Y=s[,2])\n",
    "lin <- lm(Y ~ X, s)\n",
    "ggplot(s, aes(x=X, y=Y)) + geom_point() +\n",
    "    geom_abline(slope=lin$coefficients[2], intercept=lin$coefficients[1], color='blue')"
   ]
  },
  {
   "cell_type": "markdown",
   "metadata": {},
   "source": [
    "As you can see, the blue line tries to predict $Y$ from $X$ with linear regression by the use of correlation (the slope of the blue line is the correlation coefficient divided by the standard deviation of $X$), but it fails to account for the actual distribution.\n",
    "\n",
    "The correlation coefficient has a scale that always falls between 1 and -1. When the value is exactly 1 (or -1), we have a perfect linear relation with positive (negative) slope. When the value is 0, the two variables are said to be uncorrelated. The absolute value of this coefficient also shows how strongly correlated the two variables are."
   ]
  },
  {
   "cell_type": "markdown",
   "metadata": {},
   "source": [
    "### Download and read file ###"
   ]
  },
  {
   "cell_type": "code",
   "execution_count": 43,
   "metadata": {},
   "outputs": [
    {
     "name": "stdout",
     "output_type": "stream",
     "text": [
      "Examples of some exam scores are:"
     ]
    },
    {
     "data": {
      "text/html": [
       "<table>\n",
       "<thead><tr><th scope=col>math.score</th><th scope=col>reading.score</th><th scope=col>writing.score</th></tr></thead>\n",
       "<tbody>\n",
       "\t<tr><td>76</td><td>70</td><td>64</td></tr>\n",
       "\t<tr><td>49</td><td>48</td><td>40</td></tr>\n",
       "\t<tr><td>51</td><td>37</td><td>34</td></tr>\n",
       "\t<tr><td>67</td><td>60</td><td>56</td></tr>\n",
       "\t<tr><td>56</td><td>60</td><td>60</td></tr>\n",
       "\t<tr><td>84</td><td>80</td><td>79</td></tr>\n",
       "</tbody>\n",
       "</table>\n"
      ],
      "text/latex": [
       "\\begin{tabular}{r|lll}\n",
       " math.score & reading.score & writing.score\\\\\n",
       "\\hline\n",
       "\t 76 & 70 & 64\\\\\n",
       "\t 49 & 48 & 40\\\\\n",
       "\t 51 & 37 & 34\\\\\n",
       "\t 67 & 60 & 56\\\\\n",
       "\t 56 & 60 & 60\\\\\n",
       "\t 84 & 80 & 79\\\\\n",
       "\\end{tabular}\n"
      ],
      "text/markdown": [
       "\n",
       "math.score | reading.score | writing.score | \n",
       "|---|---|---|---|---|---|\n",
       "| 76 | 70 | 64 | \n",
       "| 49 | 48 | 40 | \n",
       "| 51 | 37 | 34 | \n",
       "| 67 | 60 | 56 | \n",
       "| 56 | 60 | 60 | \n",
       "| 84 | 80 | 79 | \n",
       "\n",
       "\n"
      ],
      "text/plain": [
       "  math.score reading.score writing.score\n",
       "1 76         70            64           \n",
       "2 49         48            40           \n",
       "3 51         37            34           \n",
       "4 67         60            56           \n",
       "5 56         60            60           \n",
       "6 84         80            79           "
      ]
     },
     "metadata": {},
     "output_type": "display_data"
    }
   ],
   "source": [
    "# Download file from the internet and load it into R\n",
    "urlLocation='http://roycekimmons.com/system/generate_data.php?dataset=exams&n=100'\n",
    "download.file(url=urlLocation, destfile='exams.csv', method='auto')\n",
    "examScore <- read.csv(file='exams.csv', header=TRUE)\n",
    "examScore <- examScore[,c('math.score', 'reading.score', 'writing.score')]\n",
    "# View some scores\n",
    "cat('Examples of some exam scores are:')\n",
    "head(examScore)"
   ]
  },
  {
   "cell_type": "markdown",
   "metadata": {},
   "source": [
    "To find out the correlation between the math and reading scores:"
   ]
  },
  {
   "cell_type": "code",
   "execution_count": 44,
   "metadata": {},
   "outputs": [
    {
     "data": {
      "text/html": [
       "0.815957701158427"
      ],
      "text/latex": [
       "0.815957701158427"
      ],
      "text/markdown": [
       "0.815957701158427"
      ],
      "text/plain": [
       "[1] 0.8159577"
      ]
     },
     "metadata": {},
     "output_type": "display_data"
    }
   ],
   "source": [
    "cor(examScore$math.score, examScore$reading.score)"
   ]
  },
  {
   "cell_type": "markdown",
   "metadata": {},
   "source": [
    "Correlation can also be gathered from pairs among a selected group of variables. They can be expressed as tables. For example, among math.score, reading.score, and writing.score, we have the pairwise correlations:"
   ]
  },
  {
   "cell_type": "code",
   "execution_count": 45,
   "metadata": {},
   "outputs": [
    {
     "data": {
      "text/html": [
       "<table>\n",
       "<thead><tr><th></th><th scope=col>math.score</th><th scope=col>reading.score</th><th scope=col>writing.score</th></tr></thead>\n",
       "<tbody>\n",
       "\t<tr><th scope=row>math.score</th><td>1.0000000</td><td>0.8159577</td><td>0.8003660</td></tr>\n",
       "\t<tr><th scope=row>reading.score</th><td>0.8159577</td><td>1.0000000</td><td>0.9512469</td></tr>\n",
       "\t<tr><th scope=row>writing.score</th><td>0.8003660</td><td>0.9512469</td><td>1.0000000</td></tr>\n",
       "</tbody>\n",
       "</table>\n"
      ],
      "text/latex": [
       "\\begin{tabular}{r|lll}\n",
       "  & math.score & reading.score & writing.score\\\\\n",
       "\\hline\n",
       "\tmath.score & 1.0000000 & 0.8159577 & 0.8003660\\\\\n",
       "\treading.score & 0.8159577 & 1.0000000 & 0.9512469\\\\\n",
       "\twriting.score & 0.8003660 & 0.9512469 & 1.0000000\\\\\n",
       "\\end{tabular}\n"
      ],
      "text/markdown": [
       "\n",
       "| <!--/--> | math.score | reading.score | writing.score | \n",
       "|---|---|---|\n",
       "| math.score | 1.0000000 | 0.8159577 | 0.8003660 | \n",
       "| reading.score | 0.8159577 | 1.0000000 | 0.9512469 | \n",
       "| writing.score | 0.8003660 | 0.9512469 | 1.0000000 | \n",
       "\n",
       "\n"
      ],
      "text/plain": [
       "              math.score reading.score writing.score\n",
       "math.score    1.0000000  0.8159577     0.8003660    \n",
       "reading.score 0.8159577  1.0000000     0.9512469    \n",
       "writing.score 0.8003660  0.9512469     1.0000000    "
      ]
     },
     "metadata": {},
     "output_type": "display_data"
    }
   ],
   "source": [
    "cor(examScore[,c('math.score', 'reading.score', 'writing.score')])"
   ]
  },
  {
   "cell_type": "markdown",
   "metadata": {},
   "source": [
    "Correlation is also symmetric, that is,\n",
    "\\begin{equation}\n",
    "\\mathrm{corr}(X, Y) = \\mathrm{corr}(Y, X).\n",
    "\\end{equation}\n",
    "From the table above, we see the the strongest positive correlation is between the reading and writing scores. A plot of them is as follows (please note the close-to-linear positive relationship):"
   ]
  },
  {
   "cell_type": "code",
   "execution_count": 46,
   "metadata": {},
   "outputs": [
    {
     "data": {},
     "metadata": {},
     "output_type": "display_data"
    },
    {
     "data": {
      "image/png": "[encoded data removed]",
      "text/plain": [
       "plot without title"
      ]
     },
     "metadata": {},
     "output_type": "display_data"
    }
   ],
   "source": [
    "ggplot(examScore, aes(x=math.score, y=reading.score)) +\n",
    "    geom_point(color='darkgrey')"
   ]
  }
 ],
 "metadata": {
  "kernelspec": {
   "display_name": "R",
   "language": "R",
   "name": "ir"
  },
  "language_info": {
   "codemirror_mode": "r",
   "file_extension": ".r",
   "mimetype": "text/x-r-source",
   "name": "R",
   "pygments_lexer": "r",
   "version": "3.4.2"
  }
 },
 "nbformat": 4,
 "nbformat_minor": 2
}
