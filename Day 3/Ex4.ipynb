{
 "cells": [
  {
   "cell_type": "markdown",
   "metadata": {},
   "source": [
    "## List, Tuple and Dictionary"
   ]
  },
  {
   "cell_type": "markdown",
   "metadata": {},
   "source": [
    "## Question 1"
   ]
  },
  {
   "cell_type": "code",
   "execution_count": 1,
   "metadata": {
    "scrolled": true
   },
   "outputs": [
    {
     "name": "stdout",
     "output_type": "stream",
     "text": [
      "match_ends\n",
      "3\n",
      "2\n",
      "1\n"
     ]
    }
   ],
   "source": [
    "# A. match_ends\n",
    "# Given a list of strings, return the count of the number of\n",
    "# strings where the string length is 2 or more and the first\n",
    "# and last chars of the string are the same.\n",
    "\n",
    "text1 = (['aba', 'xyz', 'aa', 'x', 'bbb']) #3\n",
    "text2 = (['', 'x', 'xy', 'xyx', 'xx'])     #2\n",
    "text3 = (['aaa', 'be', 'abc', 'hello'])    #1\n",
    "\n",
    "def match_ends(words):\n",
    "  amt = 0\n",
    "\n",
    "  for word in words:\n",
    "    if len(word) > 1 and word[0] == word[-1]:\n",
    "      amt += 1\n",
    "\n",
    "  return amt\n",
    "    \n",
    "print('match_ends')\n",
    "print(match_ends(text1))\n",
    "print(match_ends(text2))\n",
    "print(match_ends(text3))"
   ]
  },
  {
   "cell_type": "markdown",
   "metadata": {},
   "source": [
    "## Question 2"
   ]
  },
  {
   "cell_type": "code",
   "execution_count": 2,
   "metadata": {
    "scrolled": true
   },
   "outputs": [
    {
     "name": "stdout",
     "output_type": "stream",
     "text": [
      "\n",
      "front_x\n",
      "['bbb']\n",
      "['ccc']\n",
      "['mix']\n"
     ]
    }
   ],
   "source": [
    "# B. front_x\n",
    "# Given a list of strings, return a list with the strings\n",
    "# in sorted order, except group all the strings that begin with 'x' first.\n",
    "# e.g. ['mix', 'xyz', 'apple', 'xanadu', 'aardvark'] yields\n",
    "# ['xanadu', 'xyz', 'aardvark', 'apple', 'mix']\n",
    "# Hint: this can be done by making 2 lists and sorting each of them\n",
    "# before combining them.\n",
    "\n",
    "# ['xaa', 'xzz', 'axx', 'bbb', 'ccc']\n",
    "text1 = (['bbb', 'ccc', 'axx', 'xzz', 'xaa'])\n",
    "\n",
    "# ['xaa', 'xcc', 'aaa', 'bbb', 'ccc']\n",
    "text2 = (['ccc', 'bbb', 'aaa', 'xcc', 'xaa'])\n",
    "\n",
    "# ['xanadu', 'xyz', 'aardvark', 'apple', 'mix']\n",
    "text3 = (['mix', 'xyz', 'apple', 'xanadu', 'aardvark'])\n",
    "\n",
    "def front_x(words):\n",
    "  xlist = []\n",
    "  alist = []\n",
    "\n",
    "  for word in words:\n",
    "    if word.startswith('x'):\n",
    "      xlist.append(word)\n",
    "    else:\n",
    "      alist.append(word)\n",
    "\n",
    "    return sorted(xlist) + sorted(alist)\n",
    "\n",
    "print()\n",
    "print('front_x')\n",
    "\n",
    "print(front_x(text1))\n",
    "print(front_x(text2))\n",
    "print(front_x(text3))"
   ]
  },
  {
   "cell_type": "markdown",
   "metadata": {},
   "source": [
    "## Question 3"
   ]
  },
  {
   "cell_type": "code",
   "execution_count": 3,
   "metadata": {
    "scrolled": true
   },
   "outputs": [
    {
     "name": "stdout",
     "output_type": "stream",
     "text": [
      "[(2, 1), (3, 2), (1, 3)]\n",
      "[(3, 1), (1, 2), (2, 3)]\n",
      "[(2, 2), (1, 3), (3, 4, 5), (1, 7)]\n"
     ]
    }
   ],
   "source": [
    "def last(a):\n",
    "    return a[-1]\n",
    "\n",
    "# C. sort_last\n",
    "# Given a list of non-empty tuples, return a list sorted in increasing\n",
    "# order by the last element in each tuple.\n",
    "# e.g. [(1, 7), (1, 3), (3, 4, 5), (2, 2)] yields\n",
    "# [(2, 2), (1, 3), (3, 4, 5), (1, 7)]\n",
    "# Hint: use a custom key= function to extract the last element form each tuple.\n",
    "\n",
    "#output: [(2, 1), (3, 2), (1, 3)]\n",
    "list1 = [(1, 3), (3, 2), (2, 1)]\n",
    "\n",
    "#output: [(3, 1), (1, 2), (2, 3)]\n",
    "list2 = [(2, 3), (1, 2), (3, 1)]\n",
    "\n",
    "#output: [(2, 2), (1, 3), (3, 4, 5), (1, 7)]\n",
    "list3 = [(1, 7), (1, 3), (3, 4, 5), (2, 2)]\n",
    "\n",
    "def sort_last(tuples):\n",
    "    return(sorted(tuples,key=last))\n",
    "    \n",
    "    \n",
    "    \n",
    "print(sort_last(list1))\n",
    "print(sort_last(list2))\n",
    "print(sort_last(list3))"
   ]
  }
 ],
 "metadata": {
  "kernelspec": {
   "display_name": "Python 3",
   "language": "python",
   "name": "python3"
  },
  "language_info": {
   "codemirror_mode": {
    "name": "ipython",
    "version": 3
   },
   "file_extension": ".py",
   "mimetype": "text/x-python",
   "name": "python",
   "nbconvert_exporter": "python",
   "pygments_lexer": "ipython3",
   "version": "3.6.2"
  }
 },
 "nbformat": 4,
 "nbformat_minor": 2
}
