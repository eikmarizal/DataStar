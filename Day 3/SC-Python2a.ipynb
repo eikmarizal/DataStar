{
 "cells": [
  {
   "cell_type": "markdown",
   "metadata": {},
   "source": [
    "![](http://thecads.org/wp-content/uploads/2017/02/adax_logo.jpg)\n",
    "# Module 2: Data Structures in Python\n",
    "\n",
    "## 2a. List, Tuples and Dictionaries\n",
    "\n",
    "### Contents:\n",
    "\n",
    "* [List](#List)\n",
    "* [Tuples](#Tuples)\n",
    "* [Dictionary](#Dictionary)"
   ]
  },
  {
   "cell_type": "markdown",
   "metadata": {},
   "source": [
    "## List \n",
    "\n",
    "Well done so far! This is your introduction to structured data.\n",
    "\n",
    "Today, we're going to introduce the list data type, and\n",
    "lists are much more powerful than strings, so whereas for a string, all of the elements had to be characters, in a list, the elements can be anything we want. They could be characters. They could be strings. They could be numbers. They could also be other lists.\n",
    "\n",
    "Like a string, a **list** is a sequence of values. In a string, the values are characters; in a list, they can be any type. The values in list are called **elements** or sometimes **items**.\n",
    "\n",
    "List elements are written within square brackets [ ]. Square brackets [ ] access data, with the first element at index 0.  Many of the operations defined above for strings also apply to lists. So it can be convenient to think of a string simply as a list of characters."
   ]
  },
  {
   "cell_type": "code",
   "execution_count": 1,
   "metadata": {},
   "outputs": [
    {
     "data": {
      "text/plain": [
       "list"
      ]
     },
     "execution_count": 1,
     "metadata": {},
     "output_type": "execute_result"
    }
   ],
   "source": [
    "colors = ['red', 'blue', 'green']\n",
    "type(colors)"
   ]
  },
  {
   "cell_type": "code",
   "execution_count": 2,
   "metadata": {},
   "outputs": [
    {
     "name": "stdout",
     "output_type": "stream",
     "text": [
      "red\n",
      "blue\n",
      "green\n",
      "\n",
      "['red', 'green']\n",
      "['green']\n"
     ]
    }
   ],
   "source": [
    "# Indexing: how to call out specific element in the list.\n",
    "# print out the each element in the list \"colors\", \n",
    "# starting from first element. \n",
    "\n",
    "print(colors[0])\n",
    "print(colors[1])\n",
    "print(colors[2])\n",
    "print(\"\")\n",
    "print(colors[::2])\n",
    "print(colors[2::])"
   ]
  },
  {
   "cell_type": "code",
   "execution_count": 3,
   "metadata": {},
   "outputs": [
    {
     "name": "stdout",
     "output_type": "stream",
     "text": [
      "True\n",
      "False\n",
      "\n"
     ]
    }
   ],
   "source": [
    "# if we want to check if something is present in a list?\n",
    "# copy the code in front\n",
    "print('red' in colors)\n",
    "print('black' in colors)\n",
    "print(\"\")"
   ]
  },
  {
   "cell_type": "code",
   "execution_count": 4,
   "metadata": {},
   "outputs": [
    {
     "name": "stdout",
     "output_type": "stream",
     "text": [
      "blue\n",
      "green\n"
     ]
    }
   ],
   "source": [
    "# how about using looping for above\n",
    "for element in colors[1:]:\n",
    "    print (element)"
   ]
  },
  {
   "cell_type": "code",
   "execution_count": 5,
   "metadata": {},
   "outputs": [
    {
     "name": "stdout",
     "output_type": "stream",
     "text": [
      "7\n",
      "\n",
      "7\n"
     ]
    }
   ],
   "source": [
    "numbers = [5, 4, 3, 2, 1, 'hello', 2.3]\n",
    "\n",
    "# to check the length of the numbers?\n",
    "print(len(numbers))\n",
    "print()\n",
    "print(len(numbers))\n"
   ]
  },
  {
   "cell_type": "code",
   "execution_count": 6,
   "metadata": {},
   "outputs": [
    {
     "name": "stdout",
     "output_type": "stream",
     "text": [
      "[[1, 2, 3], [4, 5, 6], [7, 8, 9]]\n",
      "[[7, 8, 9]]\n",
      "7\n"
     ]
    }
   ],
   "source": [
    "list_of_lists = [[1,2,3],[4,5,6],[7,8,9]]\n",
    "\n",
    "# print out the entire list above.\n",
    "print(list_of_lists)\n",
    "# print out the last element in the list.\n",
    "print(list_of_lists[-1::])\n",
    "# print out first element in th elast list\n",
    "print(list_of_lists[-1][0])\n",
    "\n"
   ]
  },
  {
   "cell_type": "code",
   "execution_count": 7,
   "metadata": {},
   "outputs": [
    {
     "data": {
      "text/plain": [
       "list"
      ]
     },
     "execution_count": 7,
     "metadata": {},
     "output_type": "execute_result"
    }
   ],
   "source": [
    "# Empty list\n",
    "c = []\n",
    "type(c)"
   ]
  },
  {
   "cell_type": "code",
   "execution_count": 8,
   "metadata": {},
   "outputs": [
    {
     "name": "stdout",
     "output_type": "stream",
     "text": [
      "[1, 2, 3, 5, 6]\n",
      "[1, 2, 3, 5, 6]\n",
      "[4, 5]\n"
     ]
    }
   ],
   "source": [
    "# Assignment with an = on lists does not make a copy. \n",
    "# Instead, assignment makes the two variables \n",
    "# point to the one list in memory.\n",
    "b = a = [1,2,3,5,6]\n",
    "print(a)\n",
    "print(b)\n",
    "a.append(0)\n",
    "a = [4,5]\n",
    "print(a)\n",
    "# what is a.append() ?"
   ]
  },
  {
   "cell_type": "code",
   "execution_count": 9,
   "metadata": {},
   "outputs": [
    {
     "name": "stdout",
     "output_type": "stream",
     "text": [
      "[1, 2, 3, 5, 6, 0]\n",
      "\n",
      "[4, 5]\n"
     ]
    }
   ],
   "source": [
    "# Now observe when we print out list a and b separately. \n",
    "\n",
    "print(b)\n",
    "print()\n",
    "print(a)\n",
    "\n",
    "# Note: The above is true for all objects in Python, not only lists.\n",
    "# (We'll talk more about objects later)\n"
   ]
  },
  {
   "cell_type": "code",
   "execution_count": 10,
   "metadata": {},
   "outputs": [
    {
     "name": "stdout",
     "output_type": "stream",
     "text": [
      "China is bigger than Malaysia by 46\n",
      "India is bigger than Malaysia by 41\n",
      "United States is bigger than Malaysia by 10\n",
      "China is 46 times bigger.\n",
      "India is 41 times bigger.\n",
      "United States is 10 times bigger.\n",
      "The population of China is 46.55172413793103 times bigger relative to Malaysia\"\n",
      "The population of India is 41.724137931034484 times bigger relative to Malaysia\"\n",
      "The population of United States is 10.655172413793103 times bigger relative to Malaysia\"\n"
     ]
    }
   ],
   "source": [
    "# Practise practise\n",
    "# Nested Lists... let's say we have information on the \n",
    "# population (in thousands). \n",
    "\n",
    "countries = [['China','Beijing', 1350],\n",
    "             ['India','New Delhi',1210],\n",
    "             ['United States','Washington DC', 309],\n",
    "             ['Malaysia','Kuala Lumpur',29]]\n",
    "\n",
    "# How many times bigger is the population of \n",
    "# China, India, and the US relative to Malaysia?\n",
    "\n",
    "for country in countries:\n",
    "    if country[0] != 'Malaysia':\n",
    "        print(\"{} is bigger than Malaysia by {}\".format(country[0],int(country[-1]/countries[3][2])))\n",
    "\n",
    "       \n",
    "for i in range(3):\n",
    "    x = countries[3][-1]\n",
    "    print(countries[i][0]+\" is %d times bigger.\" % (countries[i][2]/x))\n",
    "    \n",
    "\n",
    "print ('The population of {} is {} times bigger relative to {}\"'.format(countries[0][0],countries[0][-1]/countries[3][-1],countries[3][0]))\n",
    "print ('The population of {} is {} times bigger relative to {}\"'.format(countries[1][0],countries[1][-1]/countries[3][-1],countries[3][0]))\n",
    "print ('The population of {} is {} times bigger relative to {}\"'.format(countries[2][0],countries[2][-1]/countries[3][-1],countries[3][0]))"
   ]
  },
  {
   "cell_type": "code",
   "execution_count": 11,
   "metadata": {},
   "outputs": [],
   "source": [
    "# Practice question!\n",
    "# Define a function that inputs a string with the month and \n",
    "# returns the number \n",
    "# of days in that month.\n",
    "month_days= [('January',[31]),('February',[28,29]),('March',[31]), ('April',[30]),('May',[31]),('June',[30]),('July',[31]),('August',[31]),('September',[30]),('October',[31]),    \n",
    "('November',[30]),('December',[31]) ]\n",
    "\n",
    "def month_day(mnth):\n",
    "    for m, d in month_days:\n",
    "        if m == mnth:\n",
    "            return d \n",
    "        \n"
   ]
  },
  {
   "cell_type": "code",
   "execution_count": 12,
   "metadata": {},
   "outputs": [
    {
     "name": "stdout",
     "output_type": "stream",
     "text": [
      "[30]\n",
      "[31]\n",
      "[31]\n",
      "[31]\n",
      "[28, 29]\n"
     ]
    }
   ],
   "source": [
    "# Now let's test your codes.\n",
    "# Execute these codes.\n",
    "\n",
    "print(month_day('June'))\n",
    "print(month_day('July'))\n",
    "print(month_day('December'))\n",
    "print(month_day('January'))\n",
    "print(month_day('February'))"
   ]
  },
  {
   "cell_type": "markdown",
   "metadata": {},
   "source": [
    "# Mutation"
   ]
  },
  {
   "cell_type": "code",
   "execution_count": 13,
   "metadata": {},
   "outputs": [
    {
     "name": "stdout",
     "output_type": "stream",
     "text": [
      "Hello\n",
      "Hello!\n"
     ]
    }
   ],
   "source": [
    "# A big difference is strings can't mutate - \n",
    "# they can't change the existing object.\n",
    "# Execute this and see for yourself.\n",
    "\n",
    "s = 'Hello'\n",
    "print(s)\n",
    "print (s +'!')"
   ]
  },
  {
   "cell_type": "code",
   "execution_count": 14,
   "metadata": {},
   "outputs": [],
   "source": [
    "# String is immutable - means it cannot be changed or modified\n",
    "# Now remove the hash from below and try executing it.\n",
    "\n",
    "#s[0] ='Y'\n"
   ]
  },
  {
   "cell_type": "code",
   "execution_count": 15,
   "metadata": {},
   "outputs": [
    {
     "name": "stdout",
     "output_type": "stream",
     "text": [
      "['Y', 'e', 'l', 'l', 'o']\n"
     ]
    }
   ],
   "source": [
    "# But Lists are mutable: once an object is mutable, then we\n",
    "# have to worry about other variables that might\n",
    "# refer to the same object. \n",
    "\n",
    "p = ['H','e','l','l','o']\n",
    "q = p\n",
    "p[0] = 'Y'\n",
    "print(q)\n",
    "\n",
    "# so what is the difference with b = a = [1,2,3,5,6] ?"
   ]
  },
  {
   "cell_type": "code",
   "execution_count": 16,
   "metadata": {},
   "outputs": [
    {
     "name": "stdout",
     "output_type": "stream",
     "text": [
      "[4, 5, 6, 8, 9]\n",
      "[4, 5, 6, 9, 0]\n",
      "[4, 5, 6, 9, 0]\n"
     ]
    }
   ],
   "source": [
    "# Assignment with an = on lists does not make a copy. \n",
    "# Instead, assignment makes the two variables \n",
    "# point to the one list in memory.\n",
    "\n",
    "num = [4,5,6,8,9]\n",
    "b = num\n",
    "\n",
    "# Now do the following:\n",
    "# print out the original variable \"num\"\n",
    "print(num)\n",
    "# append element (0) to the variable \"num\"\n",
    "num.append(0)\n",
    "num.pop(3)\n",
    "# now print out both \"num\" and \"b\"\n",
    "print(num)\n",
    "print(b)\n"
   ]
  },
  {
   "cell_type": "markdown",
   "metadata": {},
   "source": [
    "### List Methods\n",
    "\n",
    "- list.append(elem) -- adds a single element to the end of the list. Common error: does not return the new list, just modifies the original.\n",
    "- list.insert(index, elem) -- inserts the element at the given index, shifting elements to the right.\n",
    "- list.extend(list2) adds the elements in list2 to the end of the list. Using + or += on a list is similar to using extend().\n",
    "- list.index(elem) -- searches for the given element from the start of the list and returns its index. Throws a ValueError if the element does not appear (use \"in\" to check without a ValueError).\n",
    "- list.remove(elem) -- searches for the first instance of the given element and removes it (throws ValueError if not present)\n",
    "- list.sort() -- sorts the list in place (does not return it).\n",
    "- sorted(list) -- return sorted list but keeps the original order of the list\n",
    "- list.reverse() -- reverses the list in place (does not return it)\n",
    "- list.pop(index) -- removes and returns the element at the given index. Returns the rightmost element if index is omitted (roughly the opposite of append())."
   ]
  },
  {
   "cell_type": "code",
   "execution_count": 17,
   "metadata": {},
   "outputs": [
    {
     "name": "stdout",
     "output_type": "stream",
     "text": [
      "['red', 'green', 'blue']\n",
      "['red', 'green', 'blue', 'purple']\n"
     ]
    }
   ],
   "source": [
    "colors = ['red', 'green', 'blue']\n",
    "\n",
    "print(colors)\n",
    "colors.append('purple')\n",
    "print(colors)\n"
   ]
  },
  {
   "cell_type": "code",
   "execution_count": 18,
   "metadata": {},
   "outputs": [
    {
     "name": "stdout",
     "output_type": "stream",
     "text": [
      "['red', 'yellow', 'green', 'blue', 'purple']\n"
     ]
    }
   ],
   "source": [
    "# .insert\n",
    "colors.insert(1,'yellow')\n",
    "print(colors)"
   ]
  },
  {
   "cell_type": "code",
   "execution_count": 19,
   "metadata": {},
   "outputs": [
    {
     "name": "stdout",
     "output_type": "stream",
     "text": [
      "['red', 'yellow', 'green', 'blue', 'purple', 'cyan', 'white']\n"
     ]
    }
   ],
   "source": [
    "# .extend\n",
    "new_list=['cyan','white']\n",
    "colors.extend(new_list)\n",
    "print(colors)"
   ]
  },
  {
   "cell_type": "code",
   "execution_count": 20,
   "metadata": {},
   "outputs": [
    {
     "name": "stdout",
     "output_type": "stream",
     "text": [
      "6\n",
      "\n"
     ]
    }
   ],
   "source": [
    "# .index\n",
    "print(colors.index('white'))\n",
    "print()\n",
    "# .remove\n",
    "colors.remove('white')\n"
   ]
  },
  {
   "cell_type": "code",
   "execution_count": 21,
   "metadata": {},
   "outputs": [
    {
     "name": "stdout",
     "output_type": "stream",
     "text": [
      "\n"
     ]
    }
   ],
   "source": [
    "# use del \n",
    "del colors[1]\n",
    "print()"
   ]
  },
  {
   "cell_type": "code",
   "execution_count": 22,
   "metadata": {},
   "outputs": [
    {
     "name": "stdout",
     "output_type": "stream",
     "text": [
      "['red', 'purple', 'green', 'cyan', 'blue']\n",
      "\n"
     ]
    }
   ],
   "source": [
    "# what does .sort do?\n",
    "colors.sort(reverse=True)\n",
    "print(colors)\n",
    "print()\n",
    "\n",
    "#colors.sort(reverse=True)\n"
   ]
  },
  {
   "cell_type": "code",
   "execution_count": 23,
   "metadata": {},
   "outputs": [
    {
     "name": "stdout",
     "output_type": "stream",
     "text": [
      "['red', 'purple', 'green', 'cyan', 'blue']\n",
      "\n",
      "['red', 'purple', 'green', 'cyan', 'blue']\n"
     ]
    }
   ],
   "source": [
    "#. reverse\n",
    "print(colors)\n",
    "colors.reverse\n",
    "print()\n",
    "print(colors)\n"
   ]
  },
  {
   "cell_type": "code",
   "execution_count": 24,
   "metadata": {},
   "outputs": [
    {
     "name": "stdout",
     "output_type": "stream",
     "text": [
      "['red', 'purple', 'green', 'cyan']\n"
     ]
    }
   ],
   "source": [
    "#print this: colors.pop(1)\n",
    "colors.pop()\n",
    "print(colors)"
   ]
  },
  {
   "cell_type": "code",
   "execution_count": 25,
   "metadata": {},
   "outputs": [
    {
     "name": "stdout",
     "output_type": "stream",
     "text": [
      "['red', 'purple', 'green', 'cyan']\n",
      "\n"
     ]
    }
   ],
   "source": [
    "# what is the final list?\n",
    "\n",
    "print(colors)\n",
    "print()\n"
   ]
  },
  {
   "cell_type": "code",
   "execution_count": 26,
   "metadata": {},
   "outputs": [
    {
     "name": "stdout",
     "output_type": "stream",
     "text": [
      "['red', 'purple', 'green', 'cyan']\n"
     ]
    }
   ],
   "source": [
    "# using sorted().\n",
    "# is it the same as .sort()?\n",
    "print((sorted(colors, reverse=True)))\n"
   ]
  },
  {
   "cell_type": "code",
   "execution_count": 27,
   "metadata": {},
   "outputs": [
    {
     "name": "stdout",
     "output_type": "stream",
     "text": [
      "['red', 'purple', 'green']\n"
     ]
    }
   ],
   "source": [
    "#pop\n",
    "\n",
    "colors.pop()\n",
    "print(colors)\n",
    "\n",
    "# what is the removed element?\n",
    "# why?"
   ]
  },
  {
   "cell_type": "code",
   "execution_count": 28,
   "metadata": {},
   "outputs": [
    {
     "name": "stdout",
     "output_type": "stream",
     "text": [
      "['red', 'yellow', 'green', 'blue', 'purple', 'cyan']\n",
      "['blue', 'cyan', 'green', 'purple', 'red', 'yellow']\n"
     ]
    }
   ],
   "source": [
    "# Let's restart again.\n",
    "\n",
    "colors = ['red', 'yellow', 'green', 'blue', 'purple', 'cyan']\n",
    "print(colors)\n",
    "\n",
    "print((sorted(colors)))"
   ]
  },
  {
   "cell_type": "code",
   "execution_count": 29,
   "metadata": {},
   "outputs": [
    {
     "name": "stdout",
     "output_type": "stream",
     "text": [
      "True\n",
      "[1, 2, 3, 4, 5, 6]\n",
      "\n",
      "[1, 2, 3, 4, 5, 6, 7, 8]\n",
      "\n",
      "[1, 2, 3, 4, [5, 6]]\n"
     ]
    }
   ],
   "source": [
    "# If you run the following four lines of codes, what are list1 and list2?\n",
    "\n",
    "list1 = [1,2,3,4]\n",
    "list2 = [1,2,3,4]\n",
    "\n",
    "print(list1[0] is list2[0])\n",
    "\n",
    "list1 = list1 + [5, 6]\n",
    "print(list1)\n",
    "print()\n",
    "\n",
    "list1.extend([7,8])\n",
    "print(list1)\n",
    "print()\n",
    "\n",
    "list2.append([5, 6])\n",
    "print(list2)"
   ]
  },
  {
   "cell_type": "markdown",
   "metadata": {},
   "source": [
    "### List Slices\n",
    "\n",
    "Slices work on lists just as with strings, and can also be used to change sub-parts of the list."
   ]
  },
  {
   "cell_type": "code",
   "execution_count": 30,
   "metadata": {},
   "outputs": [
    {
     "name": "stdout",
     "output_type": "stream",
     "text": [
      "['Toyota', 'BMW', 'Honda', 'Benz', 'Isuzu', 'Volkswagen', 'Mazda']\n",
      "['BMW', 'Honda']\n",
      "['BMW', 'Honda', 'Benz', 'Isuzu', 'Volkswagen']\n",
      "['Toyota', 'BMW', 'Honda']\n"
     ]
    }
   ],
   "source": [
    "cars = ['Toyota', 'BMW', 'Honda', 'Benz', 'Isuzu', 'Volkswagen', 'Mazda']\n",
    "\n",
    "# print out the following:\n",
    "# the second and third element\n",
    "# the second to the second last element\n",
    "# the first three elements\n",
    "print(cars)\n",
    "print(cars[1:3])\n",
    "print(cars[1:-1])\n",
    "print(cars[0:3])\n"
   ]
  },
  {
   "cell_type": "markdown",
   "metadata": {},
   "source": [
    "### List Sorting\n",
    "\n",
    "Note: The *sort* function for lists does not return a sorted list. It just carries out the sorting operation on the list."
   ]
  },
  {
   "cell_type": "code",
   "execution_count": 31,
   "metadata": {},
   "outputs": [
    {
     "name": "stdout",
     "output_type": "stream",
     "text": [
      "2400000000.0 [1, 0.5, 1, 0.25] [12288.0, 0.001, 4.166666666666667e-10] [2199023255552, 10, 1.2e-08] [1125899906842624, 100, 0.007]\n"
     ]
    }
   ],
   "source": [
    "# How computers store data\n",
    "# Format: size of storage (in bits), cost ($), latency (seconds)\n",
    "processor_speed = 2.4e9\n",
    "lightbulb = [1,.50,1,.25]\n",
    "register = [1.5*8*2**10,.001,1/processor_speed]\n",
    "hard_disk = [2**50,100, 0.007]\n",
    "ram = [2*2**40,10,12e-9]\n",
    "\n",
    "print(processor_speed,lightbulb,register,ram,hard_disk)\n",
    "\n",
    "# nesting them up together with some random ordering\n",
    "all_item = [register, hard_disk, ram, lightbulb]\n",
    "\n"
   ]
  },
  {
   "cell_type": "code",
   "execution_count": 32,
   "metadata": {},
   "outputs": [
    {
     "name": "stdout",
     "output_type": "stream",
     "text": [
      "[[1125899906842624, 100, 0.007], [2199023255552, 10, 1.2e-08], [12288.0, 0.001, 4.166666666666667e-10], [1, 0.5, 1, 0.25]]\n",
      "\n"
     ]
    }
   ],
   "source": [
    "# Q: how are the \"lists in the list\" sorted?\n",
    "\n",
    "# before sorting\n",
    "all_item.sort(reverse=True)\n",
    "print(all_item)\n",
    "print()\n",
    "\n",
    "# after sorting"
   ]
  },
  {
   "cell_type": "markdown",
   "metadata": {},
   "source": [
    "### For & In (Or Loops on Lists)\n",
    "\n",
    "Python's *for* and *in* constructs are extremely useful especially with lists. The *for* construct -- `for var in list` -- is an easy way to look at each element in a list (or other collection)."
   ]
  },
  {
   "cell_type": "code",
   "execution_count": 33,
   "metadata": {},
   "outputs": [
    {
     "name": "stdout",
     "output_type": "stream",
     "text": [
      "[1, 2, 3, 4, 5]\n",
      "5\n",
      "1\n",
      "2\n",
      "3\n",
      "4\n",
      "5\n"
     ]
    }
   ],
   "source": [
    "a = [1,2,3,4,5]\n",
    "i = 0\n",
    "len_a = len(a)\n",
    "print(a)\n",
    "print(len(a))\n",
    "\n",
    "# Print a loop through list \"a\" using while\n",
    "while i<len_a:\n",
    "    print(a[i])\n",
    "    i += 1"
   ]
  },
  {
   "cell_type": "code",
   "execution_count": 34,
   "metadata": {},
   "outputs": [
    {
     "data": {
      "text/plain": [
       "<function print>"
      ]
     },
     "execution_count": 34,
     "metadata": {},
     "output_type": "execute_result"
    }
   ],
   "source": [
    "# Syntax of for and in:\n",
    "print\n",
    "# for each_element in a_list:\n",
    "    # Iterates through each element\n",
    "    # where each_element refers to the variable within \n",
    "    # the for loop that holds the list item.\n"
   ]
  },
  {
   "cell_type": "code",
   "execution_count": 35,
   "metadata": {},
   "outputs": [
    {
     "name": "stdout",
     "output_type": "stream",
     "text": [
      "<class 'list'>\n",
      "['red', 'yellow', 'green', 'blue', 'purple', 'cyan']\n",
      "red\n",
      "Red\n",
      "\n",
      "yellow\n",
      "Yellow\n",
      "\n",
      "green\n",
      "Green\n",
      "\n",
      "blue\n",
      "Blue\n",
      "\n",
      "purple\n",
      "Purple\n",
      "\n",
      "cyan\n",
      "Cyan\n",
      "\n"
     ]
    }
   ],
   "source": [
    "# going back to colors earlier;\n",
    "# execute this\n",
    "\n",
    "print((type(colors)))\n",
    "print(colors) \n",
    "\n",
    "# for each element in the \"colors\" list, print the elements\n",
    "# also, for each of the element, use element.title() function and print again.\n",
    "# can you guess what .title() does\n",
    "\n",
    "for element in colors:\n",
    "    print(element)\n",
    "    print(element.title())\n",
    "    print()"
   ]
  },
  {
   "cell_type": "code",
   "execution_count": 36,
   "metadata": {},
   "outputs": [
    {
     "data": {
      "text/plain": [
       "55"
      ]
     },
     "execution_count": 36,
     "metadata": {},
     "output_type": "execute_result"
    }
   ],
   "source": [
    "# Define sum_list which finds and returns the sum of all numbers in a list\n",
    "\n",
    "def sum_list(your_list):\n",
    "    count=0\n",
    "    for i in your_list:\n",
    "        count +=i\n",
    "    return (count)\n",
    "\n",
    "    \n",
    "squares = [1, 4, 9, 16, 25]\n",
    "sum_list(squares)"
   ]
  },
  {
   "cell_type": "code",
   "execution_count": 37,
   "metadata": {},
   "outputs": [
    {
     "data": {
      "text/plain": [
       "{'Apple', 'Banana', 'Durian', 'Orange'}"
      ]
     },
     "execution_count": 37,
     "metadata": {},
     "output_type": "execute_result"
    }
   ],
   "source": [
    "# Here's a function that gives the union of lists.\n",
    "\n",
    "a = ['Orange','Banana','Apple']\n",
    "b = ['Banana', 'Orange','Durian']\n",
    "\n",
    "def union_of_lists(seta,setb):\n",
    "    return set().union(seta,setb)\n",
    "\n",
    "union_of_lists(a,b)"
   ]
  },
  {
   "cell_type": "markdown",
   "metadata": {},
   "source": [
    "### Practice"
   ]
  },
  {
   "cell_type": "code",
   "execution_count": 38,
   "metadata": {},
   "outputs": [],
   "source": [
    "# Practice Q1\n",
    "# Define a function that print the list of a specified list \n",
    "# after removing even numbers from it\n",
    "# Note: this function will not return any values\n",
    "\n",
    "num = [7, 8, 120, 25, 44, 20, 27]\n",
    "def remove_even(x):\n",
    "    # ++your code here ++\n",
    "    remove_even(num)\n"
   ]
  },
  {
   "cell_type": "code",
   "execution_count": 39,
   "metadata": {},
   "outputs": [],
   "source": [
    "# Practice Q2 \n",
    "# Write a function called my_sort - it takes a list of lists, \n",
    "# and pops the last list and then reverses the order of lists.\n",
    "# Tip: list.pop()\n",
    "\n",
    "def my_sort(lists):\n",
    "   # ++your code here ++\n",
    "\n",
    "    my_list =[1,2,3,[4,5],[2,3]]\n",
    "\n",
    "    my_sort(my_list)   # this should return [[4, 5], 3, 2, 1]"
   ]
  },
  {
   "cell_type": "markdown",
   "metadata": {},
   "source": [
    "### Enumerate\n",
    "\n",
    "To find out the index of the item in the loop we can use list.index(elem), but there is another way to do this using enumerate().\n"
   ]
  },
  {
   "cell_type": "code",
   "execution_count": 40,
   "metadata": {},
   "outputs": [
    {
     "name": "stdout",
     "output_type": "stream",
     "text": [
      "[(0, 'happy'), (1, 'sad'), (2, 'angry')]\n"
     ]
    }
   ],
   "source": [
    "my_list = ['happy', 'sad', 'angry']\n",
    "\n",
    "# Execute the codes given:\n",
    "\n",
    "# Here we use another built-in function list([iterable]) \n",
    "# which returns a list whose items are the same and\n",
    "# in the same order as iterable‘s items).\n",
    "\n",
    "print(list(enumerate(my_list)))"
   ]
  },
  {
   "cell_type": "code",
   "execution_count": 41,
   "metadata": {},
   "outputs": [
    {
     "name": "stdout",
     "output_type": "stream",
     "text": [
      "1 happy\n",
      "2 sad\n",
      "3 angry\n"
     ]
    }
   ],
   "source": [
    "# We may easily change the start count/index with help of enumerate(sequence, start=0)\n",
    "\n",
    "for index, item in enumerate(my_list, start = 1):\n",
    "    print(index, item)"
   ]
  },
  {
   "cell_type": "code",
   "execution_count": 42,
   "metadata": {
    "collapsed": true
   },
   "outputs": [],
   "source": [
    "def enumerate_1(sequence, start=0):\n",
    "    a=start\n",
    "    for elem in sequence:\n",
    "        yield n, elem\n",
    "        n+=1"
   ]
  },
  {
   "cell_type": "markdown",
   "metadata": {},
   "source": [
    "### Range\n",
    "\n",
    "The range(n) function yields the numbers 0, 1, ... n-1, and range(a, b) returns a, a+1, ... b-1 -- up to but not including the last number. "
   ]
  },
  {
   "cell_type": "code",
   "execution_count": 43,
   "metadata": {},
   "outputs": [
    {
     "name": "stdout",
     "output_type": "stream",
     "text": [
      "list is:  [100, 101, 102, 103, 104, 105, 106, 107, 108, 109]\n",
      "list is:  [0, 1, 2, 3, 4]\n"
     ]
    }
   ],
   "source": [
    "square =[1,4,9,16,25]\n",
    "\n",
    "# Now execute the following codes:\n",
    "a = list(range(100,110))\n",
    "print(\"list is: \",a)\n",
    "\n",
    "b=list(range(5))\n",
    "print(\"list is: \",b)\n"
   ]
  },
  {
   "cell_type": "code",
   "execution_count": 44,
   "metadata": {},
   "outputs": [
    {
     "name": "stdout",
     "output_type": "stream",
     "text": [
      "Green\n",
      "White\n",
      "Yellow\n"
     ]
    }
   ],
   "source": [
    "# Write a function to print a specified list\n",
    "# after removing the 0th, 3rd and 4th items\n",
    "\n",
    "my_list= ['Red', 'Green', 'White', 'Black', 'Pink', 'Yellow']\n",
    "\n",
    "def remove_list(list1):\n",
    "   for(i,x) in enumerate(list1):\n",
    "    if i not in[0,3,4]:\n",
    "        print(x)\n",
    "\n",
    "remove_list(my_list)"
   ]
  },
  {
   "cell_type": "markdown",
   "metadata": {},
   "source": [
    "### Lambda\n",
    "\n",
    "Python supports the creation of anonymous functions (i.e. functions that are not bound to a name) at runtime, using a construct called \"lambda\".\n",
    "\n",
    "Normal python function:\n",
    "```python\n",
    "def f (x):\n",
    "    return x**2\n",
    "\n",
    "f(8)\n",
    "```\n",
    "while for lambda:\n",
    "\n",
    "```python\n",
    "g = lambda x: x**\n",
    "print(g(8))\n",
    "```\n"
   ]
  },
  {
   "cell_type": "code",
   "execution_count": 45,
   "metadata": {},
   "outputs": [
    {
     "data": {
      "text/plain": [
       "0.6666666666666666"
      ]
     },
     "execution_count": 45,
     "metadata": {},
     "output_type": "execute_result"
    }
   ],
   "source": [
    "f = lambda x, y : x / y\n",
    "\n",
    "f(2,3)"
   ]
  },
  {
   "cell_type": "markdown",
   "metadata": {},
   "source": [
    "Lambda functions are mainly used in combination with the functions filter() and map(). At this juncture, it is not necessary to know these two functions in detail, but you can use `help` to figure out what they do."
   ]
  },
  {
   "cell_type": "code",
   "execution_count": 46,
   "metadata": {},
   "outputs": [
    {
     "name": "stdout",
     "output_type": "stream",
     "text": [
      "['It', 'is', 'raining', 'cats', 'and', 'dogs']\n",
      "2\n",
      "2\n",
      "7\n",
      "4\n",
      "3\n",
      "4\n",
      "<map object at 0x0000015731D6B710>\n"
     ]
    }
   ],
   "source": [
    "#lambda examples\n",
    "\n",
    "# example 1\n",
    "sentence = 'It is raining cats and dogs'\n",
    "\n",
    "word=sentence.split()\n",
    "\n",
    "print(word)\n",
    "for i in word: \n",
    "    count=len(i)\n",
    "    print(count)\n",
    "\n",
    "# Now change the above into a lambda function using map\n",
    "h =map(lambda num1: word,sentence)\n",
    "print(str(h))"
   ]
  },
  {
   "cell_type": "code",
   "execution_count": 47,
   "metadata": {},
   "outputs": [
    {
     "name": "stdout",
     "output_type": "stream",
     "text": [
      "[2, 6, 8]\n",
      "[4, 9, 25, 36, 49, 64]\n",
      "[4, 9, 25, 36, 49, 64]\n"
     ]
    }
   ],
   "source": [
    "# example 2\n",
    "a = [2,3,5,6,7,8]\n",
    "\n",
    "def power(a):\n",
    "    return a**2\n",
    "\n",
    "# filter ()\n",
    "h=filter(lambda num1: num1%2==0, a)\n",
    "print(list(h))\n",
    "\n",
    "# map()\n",
    "h = map(lambda num1: power(num1), a)\n",
    "print(list(h))\n",
    "\n",
    "h = map(lambda num1: num1**2, a)\n",
    "print(list(h))"
   ]
  },
  {
   "cell_type": "code",
   "execution_count": 48,
   "metadata": {
    "collapsed": true
   },
   "outputs": [],
   "source": [
    "map?"
   ]
  },
  {
   "cell_type": "markdown",
   "metadata": {},
   "source": [
    "Revisiting our earlier sort function for lists, we can use lambda functions to specify the \"key\" within an inner list in which we would like to sort. "
   ]
  },
  {
   "cell_type": "code",
   "execution_count": 49,
   "metadata": {},
   "outputs": [
    {
     "name": "stdout",
     "output_type": "stream",
     "text": [
      "<built-in function all>\n"
     ]
    }
   ],
   "source": [
    "print(all)  # remember, the lightbulb and the hard disk and ....\n",
    "#all.sort(key=lambda x: x[2])         # this sorts the lists by the third item (the latency if you recall) \n",
    "#print(all)"
   ]
  },
  {
   "cell_type": "markdown",
   "metadata": {},
   "source": [
    "### List Comprehensions\n",
    "\n",
    "A list comprehension is a compact expression to define a whole set.  It can be used to construct lists in a very natural, easy way, like a mathematician is used to do. \n",
    "\n",
    "The following comprehension says \"For each item in numbers, square it and add it to a new list squares.\"\n",
    "\n",
    "While we could also do this using a for-loop, it's often more convenient to use a list comprehension.\n",
    "\n",
    "```python\n",
    "for (set of values to iterate):\n",
    "     if (conditional filtering): \n",
    "        output_expression()\n",
    "```\n",
    "\n",
    "The same gets implemented in a simple LC construct in a single line as:\n",
    "```python\n",
    "[ output_expression() for(set of values to iterate) if(conditional filtering) ]\n",
    "```\n"
   ]
  },
  {
   "cell_type": "code",
   "execution_count": 50,
   "metadata": {},
   "outputs": [
    {
     "name": "stdout",
     "output_type": "stream",
     "text": [
      "[1, 4, 9, 16, 25, 36, 49, 64]\n",
      "[1, 4, 9, 16, 25, 36, 49, 64]\n"
     ]
    }
   ],
   "source": [
    "# 1\n",
    "numbers = [1, 2, 3, 4, 5, 6, 7, 8]\n",
    "squares = []\n",
    "\n",
    "for n in numbers:\n",
    "    squares.append(n*n)\n",
    "    \n",
    "print(squares)\n",
    "\n",
    "# 2\n",
    "numbers = [1, 2, 3, 4, 5, 6, 7, 8]\n",
    "squares = [n*n for n in numbers]\n",
    "    \n",
    "print(squares)\n"
   ]
  },
  {
   "cell_type": "markdown",
   "metadata": {},
   "source": [
    "### Practice"
   ]
  },
  {
   "cell_type": "code",
   "execution_count": 51,
   "metadata": {},
   "outputs": [
    {
     "name": "stdout",
     "output_type": "stream",
     "text": [
      "[1, 4, 9, 16, 25]\n"
     ]
    }
   ],
   "source": [
    "# Q1\n",
    "numbers = [1, 2, 3, 4, 5, 6, 7, 8]\n",
    "\n",
    "# Given the list above, use list comprehension method to \n",
    "squares = [n*n for n in numbers if n<=5]\n",
    "# square every element that is less or equal to 5\n",
    "# remember to print the outcome\n",
    "print(squares)"
   ]
  },
  {
   "cell_type": "code",
   "execution_count": 52,
   "metadata": {},
   "outputs": [
    {
     "name": "stdout",
     "output_type": "stream",
     "text": [
      "[81, 256, 625]\n"
     ]
    }
   ],
   "source": [
    "# Q2\n",
    "# Using the outcome from Q1\n",
    "# write a list comprehension method to \n",
    "# square every element that is higher than 5\n",
    "print([s**2 for s in square if s >5])\n"
   ]
  },
  {
   "cell_type": "code",
   "execution_count": 53,
   "metadata": {},
   "outputs": [
    {
     "name": "stdout",
     "output_type": "stream",
     "text": [
      "['banana', 'apple', 'cherry', 'lime', 'mango']\n",
      "['BANANA!!!', 'APPLE!!!', 'MANGO!!!']\n"
     ]
    }
   ],
   "source": [
    "# An example of a list comprehension with strings\n",
    "fruits = ['banana', 'apple', 'cherry', 'lime', 'mango']\n",
    "print(fruits)\n",
    "my_list = [s.upper() + '!!!' for s in fruits if 'a' in s]\n",
    "print(my_list)"
   ]
  },
  {
   "cell_type": "code",
   "execution_count": 54,
   "metadata": {},
   "outputs": [
    {
     "name": "stdout",
     "output_type": "stream",
     "text": [
      "[1, 729, 15625, 117649, 531441]\n"
     ]
    }
   ],
   "source": [
    "# Write one line of Python that takes this list a\n",
    "# and makes a new list that has only the odd \n",
    "# elements and power it with 3\n",
    "\n",
    "a = [1, 4, 9, 16, 25, 36, 49, 64, 81, 100]\n",
    "\n",
    "b = [num**3 for num in a if((num%2)!=0)]\n",
    "\n",
    "print(b)"
   ]
  },
  {
   "cell_type": "markdown",
   "metadata": {},
   "source": [
    "### Del\n",
    "\n",
    "The \"del\" operator does deletions. In the simplest case, it can remove the definition of a variable, as if that variable had not been defined. Del can also be used on list elements or slices to delete that part of the list and to delete entries from a dictionary."
   ]
  },
  {
   "cell_type": "code",
   "execution_count": 55,
   "metadata": {},
   "outputs": [
    {
     "name": "stdout",
     "output_type": "stream",
     "text": [
      "6\n",
      "['b']\n",
      "{'a': 1, 'c': 3}\n"
     ]
    }
   ],
   "source": [
    "var = 6\n",
    "print(var)\n",
    "del var  # var no more! HOW do we know it's gone? Use %who or %whos to check\n",
    "\n",
    "my_list = ['a', 'b', 'c', 'd']\n",
    "del my_list[0]     ## Delete first element\n",
    "del my_list[-2:]   ## Delete last two elements\n",
    "print(my_list)     ## ['b']\n",
    "\n",
    "# we will deal with dictionaries later below...\n",
    "my_dict = {'a':1, 'b':2, 'c':3}\n",
    "del my_dict['b']    ## Delete 'b' entry\n",
    "print(my_dict)      ## {'a':1, 'c':3}"
   ]
  },
  {
   "cell_type": "markdown",
   "metadata": {
    "collapsed": true
   },
   "source": [
    "## Tuples\n",
    "\n",
    "A tuple is a fixed size grouping of elements, such as an (x, y) co-ordinate. Tuples are like lists, except they are immutable and do not change size (tuples are not strictly immutable since one of the contained elements could be mutable). Tuples are a convenient way to pass around a little logical, fixed size bundle of values. A function that needs to return multiple values can just return a tuple of the values."
   ]
  },
  {
   "cell_type": "code",
   "execution_count": 56,
   "metadata": {},
   "outputs": [
    {
     "name": "stdout",
     "output_type": "stream",
     "text": [
      "<class 'tuple'>\n",
      "4\n",
      "(1, 2.3, 'hi', ['hi'])\n",
      "hi\n",
      "(1, 2, 'bye')\n"
     ]
    }
   ],
   "source": [
    "tup = (1, 2.3, 'hi', ['hi'])\n",
    "print(type(tup))\n",
    "print((len(tup)))\n",
    "print(tup)\n",
    "print((tup[2]))\n",
    "\n",
    "#tup[2] = 'bye' # tuple element cannot be changed\n",
    "tup = (1, 2, 'bye')\n",
    "print(tup)"
   ]
  },
  {
   "cell_type": "code",
   "execution_count": 57,
   "metadata": {},
   "outputs": [
    {
     "name": "stdout",
     "output_type": "stream",
     "text": [
      "('hike', 13)\n"
     ]
    }
   ],
   "source": [
    "x,y,z = (42, 13, \"hike\")\n",
    "print((z, y))"
   ]
  },
  {
   "cell_type": "code",
   "execution_count": 58,
   "metadata": {},
   "outputs": [
    {
     "name": "stdout",
     "output_type": "stream",
     "text": [
      "[1, 2, 3]\n",
      "(1, 2, 3)\n",
      "Hello\n"
     ]
    }
   ],
   "source": [
    "# you can convert lists to tuples\n",
    "list2 = [1,2,3]\n",
    "tup2 = tuple(list2)\n",
    "print(list2)\n",
    "print(tup2)\n",
    "print(s)"
   ]
  },
  {
   "cell_type": "code",
   "execution_count": 59,
   "metadata": {},
   "outputs": [
    {
     "name": "stdout",
     "output_type": "stream",
     "text": [
      "1 2 3\n",
      "1 2 3\n"
     ]
    }
   ],
   "source": [
    "# tuples can also be unpacked just like lists\n",
    "p,q,r = list2\n",
    "print(p,q,r)\n",
    "s,t,u = tup2\n",
    "print(s,t,u)"
   ]
  },
  {
   "cell_type": "markdown",
   "metadata": {},
   "source": [
    "## Hash functions"
   ]
  },
  {
   "cell_type": "markdown",
   "metadata": {},
   "source": [
    "The reason why accessing lists with loops can be slow is that we need to go through all the elements in order, and we are checking if they match the keyword. To determine that a keyword not in the list is not there, we had to go through the whole index.\n",
    "\n",
    "That's slow. What might be a better way to go through a list?\n",
    "\n",
    "You can sort it - it'll be like an index? But that takes time and effort too and isn't necessary!\n",
    "\n",
    "What we want is something that will allow us, given a keyword, to have some\n",
    "function that tells us where it belongs. That's called a hash function.\n",
    "\n",
    "The **Hash function** tells us where in the entry to look. Instead of looking through the whole index, you can just look at where it belongs.\n",
    "\n",
    "One easy way is using the first letter of a word. But there are problems with this:\n",
    "* It works best if you have roughly equal buckets of words.\n",
    "* If you have a million keywords, it only makes things 26 times faster at best\n",
    "\n",
    "Let's use some function on the whole 'key' or 'keyword' that will be able to tell us where it belongs. \n",
    "\n",
    "A hash function is a function that takes in a keyword, produces a number.  It outputs the position in the hash table which is the bucket where that keyword would appear. If we assume that there are b buckets, k keywords, which properties should a hash function have?\n",
    "\n",
    "* Output a unique number between 0 and k-1\n",
    "* Output a number between 0 and b-1\n",
    "* Map approximately k/b keywords to bucket 0\n",
    "* Map approximately k/b keywords to bucker b-1\n",
    "* Map more keywords to bucket 0 than to bucket 1"
   ]
  },
  {
   "cell_type": "markdown",
   "metadata": {},
   "source": [
    "## Dictionary\n",
    "\n",
    "Fortunately, Python has a built in hash table structure.\n",
    "\n",
    "Python's efficient key/value hash table structure is called a \"dict\".\n",
    "\n",
    "A dictionary is similar to a list, but you access values by looking up a key instead of an index. A key can be any string or number.\n",
    "\n",
    "The contents of a dict can be written as a series of key:value pairs within braces { }, e.g. dict = {key1:value1, key2:value2, ... }.\n",
    "\n",
    "The \"empty dict\" is just an empty pair of curly braces {}.\n",
    "\n",
    "Looking up or setting a value in a dict uses square brackets, e.g. dict['foo'] looks up the value under the key 'foo'. Strings, numbers, and tuples work as keys, and any type can be a value. Other types may or may not work correctly as keys.\n",
    "\n",
    "Dictionaries are mutable!"
   ]
  },
  {
   "cell_type": "code",
   "execution_count": 60,
   "metadata": {
    "collapsed": true
   },
   "outputs": [],
   "source": [
    "# create an empty dictionary\n",
    "newDict ={}"
   ]
  },
  {
   "cell_type": "code",
   "execution_count": 61,
   "metadata": {
    "collapsed": true
   },
   "outputs": [],
   "source": [
    "myDict = {}"
   ]
  },
  {
   "cell_type": "code",
   "execution_count": 62,
   "metadata": {
    "collapsed": true
   },
   "outputs": [],
   "source": [
    "# Now you have the following:\n",
    "\n",
    "myDict['a'] = 'gold'\n",
    "myDict['b'] = 'silver'\n",
    "myDict['c'] = 'bronze'\n",
    "myDict['d'] = 'platinum'\n"
   ]
  },
  {
   "cell_type": "code",
   "execution_count": 63,
   "metadata": {},
   "outputs": [
    {
     "name": "stdout",
     "output_type": "stream",
     "text": [
      "{'a': 'gold', 'b': 'silver', 'c': 'bronze', 'd': 'platinum'}\n",
      "False\n",
      "True\n"
     ]
    }
   ],
   "source": [
    "# Try to print it out\n",
    "print(myDict)\n",
    "\n",
    "# How about printing specific elements?\n",
    "print(('gold' in myDict))\n",
    "print(('a' in myDict))"
   ]
  },
  {
   "cell_type": "code",
   "execution_count": 64,
   "metadata": {},
   "outputs": [
    {
     "name": "stdout",
     "output_type": "stream",
     "text": [
      "['a', 'b', 'c', 'd']\n",
      "<class 'list'>\n"
     ]
    }
   ],
   "source": [
    "#to list all keys\n",
    "a=list(myDict.keys())\n",
    "print(a)\n",
    "print((type(a)))"
   ]
  },
  {
   "cell_type": "code",
   "execution_count": 65,
   "metadata": {},
   "outputs": [
    {
     "name": "stdout",
     "output_type": "stream",
     "text": [
      "('items:', [('a', 'gold'), ('b', 'silver'), ('c', 'bronze'), ('d', 'platinum')])\n"
     ]
    }
   ],
   "source": [
    "print((\"items:\", list(myDict.items()))) # return list of tuples"
   ]
  },
  {
   "cell_type": "code",
   "execution_count": 66,
   "metadata": {},
   "outputs": [
    {
     "name": "stdout",
     "output_type": "stream",
     "text": [
      "('a', 'gold')\n",
      "('b', 'silver')\n",
      "('c', 'bronze')\n",
      "('d', 'platinum')\n"
     ]
    }
   ],
   "source": [
    "for key in myDict:\n",
    "    print((key, myDict[key]))"
   ]
  },
  {
   "cell_type": "code",
   "execution_count": 67,
   "metadata": {},
   "outputs": [
    {
     "name": "stdout",
     "output_type": "stream",
     "text": [
      "104\n",
      "dict_keys(['Puffin', 'Sloth', 'Burmese Python'])\n"
     ]
    }
   ],
   "source": [
    "# Assigning a dictionary with three key-value pairs to residents:\n",
    "residents = {'Puffin' : 104, 'Sloth' : 105, 'Burmese Python' : 106}\n",
    "\n",
    "print(residents['Puffin']) \n",
    "\n",
    "print(residents.keys())"
   ]
  },
  {
   "cell_type": "code",
   "execution_count": 68,
   "metadata": {},
   "outputs": [
    {
     "name": "stdout",
     "output_type": "stream",
     "text": [
      "('a', ':', 'gold')\n",
      "('b', ':', 'silver')\n",
      "('c', ':', 'bronze')\n",
      "('d', ':', 'platinum')\n",
      "\n",
      "key, value using items()\n",
      "('a', ':', 'gold')\n",
      "('b', ':', 'silver')\n",
      "('c', ':', 'bronze')\n",
      "('d', ':', 'platinum')\n",
      "\n"
     ]
    }
   ],
   "source": [
    "for i in list(myDict.keys()):\n",
    "    print((i,':', myDict[i]))\n",
    "\n",
    "print('\\nkey, value using items()')\n",
    "\n",
    "for k, v in list(myDict.items()):\n",
    "    print((k, ':', v))\n",
    "    \n",
    "print()"
   ]
  },
  {
   "cell_type": "code",
   "execution_count": 69,
   "metadata": {},
   "outputs": [
    {
     "data": {
      "text/plain": [
       "dict_items([('a', 'gold'), ('b', 'silver'), ('c', 'bronze'), ('d', 'platinum')])"
      ]
     },
     "execution_count": 69,
     "metadata": {},
     "output_type": "execute_result"
    }
   ],
   "source": [
    "myDict.items()"
   ]
  },
  {
   "cell_type": "markdown",
   "metadata": {},
   "source": [
    "### Dictionary Methods\n",
    "\n",
    "- len(dict) -- Gives the total length of the dictionary. This would be equal to the number of items in the dictionary.\n",
    "- str(dict) -- Produces a printable string representation of a dictionary\n",
    "- type(variable) -- Returns the type of the passed variable. If passed variable is dictionary, then it would return a dictionary type.\n",
    "- dict.clear() -- Removes all elements of dictionary dict\n",
    "- dict.copy() -- Returns a shallow copy of dictionary dict\n",
    "- dict.fromkeys() -- Create a new dictionary with keys from seq and values set to value.\n",
    "- dict.get(key, default=None) -- For key key, returns value or default if key not in dictionary\n",
    "- dict.items() -- Returns a list of dict's (key, value) tuple pairs\n",
    "- dict.keys() -- Returns list of dictionary dict's keys\n",
    "- dict.setdefault(key, default=None) -- Similar to get(), but will set dict[key]=default if key is not already in dict\n",
    "- dict.update(dict2) -- Adds dictionary dict2's key-values pairs to dict\n",
    "- dict.values() -- Returns list of dictionary dict's values"
   ]
  },
  {
   "cell_type": "code",
   "execution_count": 70,
   "metadata": {},
   "outputs": [
    {
     "name": "stdout",
     "output_type": "stream",
     "text": [
      "gold\n",
      "silver\n",
      "bronze\n",
      "platinum\n",
      "\n"
     ]
    }
   ],
   "source": [
    "for v in list(myDict.values()):\n",
    "    print(v)\n",
    "    \n",
    "print()"
   ]
  },
  {
   "cell_type": "code",
   "execution_count": 71,
   "metadata": {},
   "outputs": [
    {
     "name": "stdout",
     "output_type": "stream",
     "text": [
      "['a', 'b', 'c', 'd']\n",
      "['gold', 'silver', 'bronze', 'platinum']\n"
     ]
    }
   ],
   "source": [
    "print((list(myDict.keys())))\n",
    "print((list(myDict.values())))\n"
   ]
  },
  {
   "cell_type": "code",
   "execution_count": 72,
   "metadata": {},
   "outputs": [
    {
     "name": "stdout",
     "output_type": "stream",
     "text": [
      "bronze\n",
      "gold\n",
      "platinum\n",
      "silver\n",
      "\n"
     ]
    }
   ],
   "source": [
    "for v in sorted(myDict.values()):\n",
    "    print(v)\n",
    "    \n",
    "print()\n"
   ]
  },
  {
   "cell_type": "code",
   "execution_count": 73,
   "metadata": {},
   "outputs": [
    {
     "name": "stdout",
     "output_type": "stream",
     "text": [
      "('a', ':', 'gold')\n",
      "('b', ':', 'silver')\n",
      "('c', ':', 'bronze')\n",
      "('d', ':', 'platinum')\n"
     ]
    }
   ],
   "source": [
    "for key in sorted(myDict.keys()):\n",
    "    print((key, ':', myDict[key]))"
   ]
  },
  {
   "cell_type": "code",
   "execution_count": 74,
   "metadata": {},
   "outputs": [
    {
     "data": {
      "text/plain": [
       "1521831779.380195"
      ]
     },
     "execution_count": 74,
     "metadata": {},
     "output_type": "execute_result"
    }
   ],
   "source": [
    "import time\n",
    "time.time()"
   ]
  },
  {
   "cell_type": "code",
   "execution_count": 75,
   "metadata": {
    "collapsed": true
   },
   "outputs": [],
   "source": [
    "biglist = []\n",
    "bigdict = {}\n",
    "for j in range(10000000):\n",
    "    biglist.append(j)\n",
    "    bigdict[j]=j"
   ]
  },
  {
   "cell_type": "code",
   "execution_count": 76,
   "metadata": {},
   "outputs": [
    {
     "name": "stdout",
     "output_type": "stream",
     "text": [
      "('Time for list lookup: ', 0.2561910152435303)\n",
      "('Time for dict lookup: ', 0.0)\n"
     ]
    }
   ],
   "source": [
    "t1 = time.time()\n",
    "list_tf = 9999999 in biglist\n",
    "t2 = time.time()\n",
    "dict_tf = 9999999 in bigdict\n",
    "t3 = time.time()\n",
    "\n",
    "print((\"Time for list lookup: \", t2-t1))\n",
    "print((\"Time for dict lookup: \", t3-t2))"
   ]
  },
  {
   "cell_type": "markdown",
   "metadata": {},
   "source": [
    "### Practice"
   ]
  },
  {
   "cell_type": "code",
   "execution_count": 77,
   "metadata": {},
   "outputs": [
    {
     "name": "stdout",
     "output_type": "stream",
     "text": [
      "{'bob': 'bob@example.com', 'Jane': 'jane@example.com', 'Stou': 'stou@example.net'}\n",
      "{'Stou': 'stou@example.net'}\n"
     ]
    }
   ],
   "source": [
    "emails = {'bob': 'bob@example.com', \n",
    "          'Jane': 'jane@example.com', \n",
    "          'Stou': 'stou@example.net'}\n",
    "\n",
    "newdict = {}\n",
    "\n",
    "# For every email (or name) that has .com in the email, save it in the newdict\n",
    "# print both the emails and newdict\n",
    "\n",
    "for name, mail in list(emails.items()):\n",
    "    if '.net' in mail:\n",
    "        newdict[name]=mail\n",
    "print(emails)\n",
    "print(newdict)\n",
    "\n",
    "#emails.items(\".com\")"
   ]
  },
  {
   "cell_type": "markdown",
   "metadata": {},
   "source": [
    "### Extra Notes"
   ]
  },
  {
   "cell_type": "code",
   "execution_count": 78,
   "metadata": {},
   "outputs": [
    {
     "name": "stdout",
     "output_type": "stream",
     "text": [
      "{'bob': True, 'Jane': True, 'Stou': False}\n",
      "3\n",
      "{'bob': 'bob@example.com', 'Jane': 'jane@example.com', 'Stou': 'stou@example.net'}\n",
      "<class 'dict'>\n"
     ]
    }
   ],
   "source": [
    "# some extra reading info\n",
    "\n",
    "email_at_dotcom = dict( (name, '.com' in email) \n",
    "                       for name,email in list(emails.items()))\n",
    "print((email_at_dotcom))\n",
    "\n",
    "print((len(emails)))\n",
    "print((str(emails)))\n",
    "print((type(emails)))\n"
   ]
  },
  {
   "cell_type": "code",
   "execution_count": 79,
   "metadata": {},
   "outputs": [
    {
     "name": "stdout",
     "output_type": "stream",
     "text": [
      "{'bob': 'bob@example.com', 'Jane': 'jane@example.com', 'Stou': 'stou@example.net'}\n",
      "{}\n"
     ]
    }
   ],
   "source": [
    "new_emails = emails.copy()\n",
    "print(new_emails)\n",
    "\n",
    "new_emails.clear()\n",
    "print(new_emails)"
   ]
  },
  {
   "cell_type": "code",
   "execution_count": 80,
   "metadata": {},
   "outputs": [
    {
     "name": "stdout",
     "output_type": "stream",
     "text": [
      "<class 'tuple'>\n"
     ]
    }
   ],
   "source": [
    "new_emails = {'jane': 'jane@example.com', \n",
    "              'Julie': 'julie@example.com', \n",
    "              'Stam': 'stam@example.net'}\n",
    "seq = ('Jane', 'Julie')\n",
    "\n",
    "print((type(seq)))\n",
    "\n"
   ]
  },
  {
   "cell_type": "code",
   "execution_count": 81,
   "metadata": {},
   "outputs": [
    {
     "name": "stdout",
     "output_type": "stream",
     "text": [
      "{'Jane': 'info@example.com', 'Julie': 'info@example.com'}\n"
     ]
    }
   ],
   "source": [
    "# use a tuple of keys to retrieve info from dict \n",
    "other = new_emails.fromkeys(seq, 'info@example.com')\n",
    "print(other)\n"
   ]
  },
  {
   "cell_type": "code",
   "execution_count": 82,
   "metadata": {},
   "outputs": [
    {
     "name": "stdout",
     "output_type": "stream",
     "text": [
      "True\n"
     ]
    }
   ],
   "source": [
    "print(('bob' in emails))"
   ]
  },
  {
   "cell_type": "code",
   "execution_count": 83,
   "metadata": {},
   "outputs": [
    {
     "name": "stdout",
     "output_type": "stream",
     "text": [
      "bob@example.com\n",
      "None\n"
     ]
    }
   ],
   "source": [
    "print((emails.get('bob')))\n",
    "print((emails.get('Michael')))"
   ]
  },
  {
   "cell_type": "markdown",
   "metadata": {},
   "source": [
    "### Practice"
   ]
  },
  {
   "cell_type": "code",
   "execution_count": 84,
   "metadata": {
    "collapsed": true
   },
   "outputs": [],
   "source": [
    "# Q1\n",
    "# Write a function to increase the prices of all the items in the dictionary by 20%\n",
    "goods = {'coffee': 3.20, \n",
    "          'bread': 2.80, \n",
    "          'coke': 1.75}\n",
    "\n",
    "## code here"
   ]
  }
 ],
 "metadata": {
  "anaconda-cloud": {},
  "kernelspec": {
   "display_name": "Python 3",
   "language": "python",
   "name": "python3"
  },
  "language_info": {
   "codemirror_mode": {
    "name": "ipython",
    "version": 3
   },
   "file_extension": ".py",
   "mimetype": "text/x-python",
   "name": "python",
   "nbconvert_exporter": "python",
   "pygments_lexer": "ipython3",
   "version": "3.6.2"
  }
 },
 "nbformat": 4,
 "nbformat_minor": 1
}
