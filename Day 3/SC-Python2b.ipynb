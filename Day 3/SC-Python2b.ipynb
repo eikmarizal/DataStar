{
 "cells": [
  {
   "cell_type": "markdown",
   "metadata": {
    "collapsed": true
   },
   "source": [
    "![](http://thecads.org/wp-content/uploads/2017/02/adax_logo.jpg)\n",
    "# Module 2: Data Structures in Python\n",
    "\n",
    "## 2b. Storing Data\n",
    "\n",
    "### Contents:\n",
    "\n",
    "* [Files](#Files)\n",
    "* [JSON](#JSON)\n",
    "* [Misc](#Misc)"
   ]
  },
  {
   "cell_type": "markdown",
   "metadata": {},
   "source": [
    "## Files\n",
    "\n",
    "We will often want to read and write data to files. The standard Python API provides several methods which are convenient for dealing with ordinary text files. Read more in the [docs](https://docs.python.org/3.6/tutorial/inputoutput.html).\n",
    "\n",
    "### Writing files\n",
    "Before writing to a file, the file must be opened. This can be done with the `open()` built-in function. The following opens a file called `example_file.txt`. The parameter `'w'` indicates that the file is opened for writing. (Note: If the file already exists, it will be overwritten!)"
   ]
  },
  {
   "cell_type": "code",
   "execution_count": 1,
   "metadata": {},
   "outputs": [
    {
     "data": {
      "text/plain": [
       "'C:\\\\Users\\\\ASUS\\\\Downloads\\\\Data star\\\\Day3-Python'"
      ]
     },
     "execution_count": 1,
     "metadata": {},
     "output_type": "execute_result"
    }
   ],
   "source": [
    "%pwd"
   ]
  },
  {
   "cell_type": "code",
   "execution_count": 2,
   "metadata": {
    "collapsed": true
   },
   "outputs": [],
   "source": [
    "# copy the code to open a .txt file\n",
    "my_file=open('example_file.txt','w')"
   ]
  },
  {
   "cell_type": "markdown",
   "metadata": {},
   "source": [
    "The variable `MyFile` is now an object of type _file_."
   ]
  },
  {
   "cell_type": "code",
   "execution_count": 3,
   "metadata": {},
   "outputs": [
    {
     "name": "stdout",
     "output_type": "stream",
     "text": [
      "<class '_io.TextIOWrapper'>\n"
     ]
    }
   ],
   "source": [
    "print((type(my_file)))"
   ]
  },
  {
   "cell_type": "markdown",
   "metadata": {},
   "source": [
    "We can write to a file by passing strings to the file's `write()` method."
   ]
  },
  {
   "cell_type": "code",
   "execution_count": 4,
   "metadata": {
    "collapsed": true
   },
   "outputs": [],
   "source": [
    "# We can pass a string directly\n",
    "# copy the code to write\n",
    "\n",
    "\n",
    "# More often, we want to write data from our Python program to file.\n",
    "n = 5\n",
    "\n",
    "\n",
    "# Here, we write to a file from within a loop\n",
    "my_file.write(\"\\nAnd now, the lyrics to 99 bottles of wine:\\n\")\n",
    "\n",
    "for nbottles in range(99, 0, -1):\n",
    "    line = \"%d bottles of wine on the wall. %d bottles of wine. \\\n",
    "    You take one down, pass it around, %d bottles of wine on the wall!\\n\"%(nbottles,nbottles,nbottles-1)\n",
    "    \n",
    "    # copy the code to write\n",
    "    my_file.write(line)\n",
    "# Important! You must call close() to before opening the file in another program.\n",
    "my_file.close()"
   ]
  },
  {
   "cell_type": "markdown",
   "metadata": {},
   "source": [
    "Using your OS's file manager (Explorer for Windows, Finder for OSX), locate the file and open it in a text editor. You can also open it in an IPython notebook using your web browser. Verify that the contents make sense by comparing them to the code above.\n",
    "\n",
    "### Reading files\n",
    "Let's read the file in Python. Again, we will use the `open()` function, this time with the `'r'` parameter to indicate that we are reading."
   ]
  },
  {
   "cell_type": "code",
   "execution_count": 5,
   "metadata": {},
   "outputs": [
    {
     "name": "stdout",
     "output_type": "stream",
     "text": [
      "\n",
      "And now, the lyrics to 99 bottles of wine:\n",
      "99 bottles of wine on the wall. 99 bottles of wine.     You take one down, pass it around, 98 bottles of wine on the wall!\n",
      "98 bottles of wine on the wall. 98 bottles of wine.     You take one down, pass it around, 97 bottles of wine on the wall!\n",
      "97 bottles of wine on the wall. 97 bottles of wine.     You take one down, pass it around, 96 bottles of wine on the wall!\n",
      "96 bottles of wine on the wall. 96 bottles of wine.     You take one down, pass it around, 95 bottles of wine on the wall!\n",
      "95 bottles of wine on the wall. 95 bottles of wine.     You take one down, pass it around, 94 bottles of wine on the wall!\n",
      "94 bottles of wine on the wall. 94 bottles of wine.     You take one down, pass it around, 93 bottles of wine on the wall!\n",
      "93 bottles of wine on the wall. 93 bottles of wine.     You take one down, pass it around, 92 bottles of wine on the wall!\n",
      "92 bottles of wine on the wall. 92 bottles of wine.     You take one down, pass it around, 91 bottles of wine on the wall!\n",
      "91 bottles of wine on the wall. 91 bottles of wine.     You take one down, pass it around, 90 bottles of wine on the wall!\n",
      "90 bottles of wine on the wall. 90 bottles of wine.     You take one down, pass it around, 89 bottles of wine on the wall!\n",
      "89 bottles of wine on the wall. 89 bottles of wine.     You take one down, pass it around, 88 bottles of wine on the wall!\n",
      "88 bottles of wine on the wall. 88 bottles of wine.     You take one down, pass it around, 87 bottles of wine on the wall!\n",
      "87 bottles of wine on the wall. 87 bottles of wine.     You take one down, pass it around, 86 bottles of wine on the wall!\n",
      "86 bottles of wine on the wall. 86 bottles of wine.     You take one down, pass it around, 85 bottles of wine on the wall!\n",
      "85 bottles of wine on the wall. 85 bottles of wine.     You take one down, pass it around, 84 bottles of wine on the wall!\n",
      "84 bottles of wine on the wall. 84 bottles of wine.     You take one down, pass it around, 83 bottles of wine on the wall!\n",
      "83 bottles of wine on the wall. 83 bottles of wine.     You take one down, pass it around, 82 bottles of wine on the wall!\n",
      "82 bottles of wine on the wall. 82 bottles of wine.     You take one down, pass it around, 81 bottles of wine on the wall!\n",
      "81 bottles of wine on the wall. 81 bottles of wine.     You take one down, pass it around, 80 bottles of wine on the wall!\n",
      "80 bottles of wine on the wall. 80 bottles of wine.     You take one down, pass it around, 79 bottles of wine on the wall!\n",
      "79 bottles of wine on the wall. 79 bottles of wine.     You take one down, pass it around, 78 bottles of wine on the wall!\n",
      "78 bottles of wine on the wall. 78 bottles of wine.     You take one down, pass it around, 77 bottles of wine on the wall!\n",
      "77 bottles of wine on the wall. 77 bottles of wine.     You take one down, pass it around, 76 bottles of wine on the wall!\n",
      "76 bottles of wine on the wall. 76 bottles of wine.     You take one down, pass it around, 75 bottles of wine on the wall!\n",
      "75 bottles of wine on the wall. 75 bottles of wine.     You take one down, pass it around, 74 bottles of wine on the wall!\n",
      "74 bottles of wine on the wall. 74 bottles of wine.     You take one down, pass it around, 73 bottles of wine on the wall!\n",
      "73 bottles of wine on the wall. 73 bottles of wine.     You take one down, pass it around, 72 bottles of wine on the wall!\n",
      "72 bottles of wine on the wall. 72 bottles of wine.     You take one down, pass it around, 71 bottles of wine on the wall!\n",
      "71 bottles of wine on the wall. 71 bottles of wine.     You take one down, pass it around, 70 bottles of wine on the wall!\n",
      "70 bottles of wine on the wall. 70 bottles of wine.     You take one down, pass it around, 69 bottles of wine on the wall!\n",
      "69 bottles of wine on the wall. 69 bottles of wine.     You take one down, pass it around, 68 bottles of wine on the wall!\n",
      "68 bottles of wine on the wall. 68 bottles of wine.     You take one down, pass it around, 67 bottles of wine on the wall!\n",
      "67 bottles of wine on the wall. 67 bottles of wine.     You take one down, pass it around, 66 bottles of wine on the wall!\n",
      "66 bottles of wine on the wall. 66 bottles of wine.     You take one down, pass it around, 65 bottles of wine on the wall!\n",
      "65 bottles of wine on the wall. 65 bottles of wine.     You take one down, pass it around, 64 bottles of wine on the wall!\n",
      "64 bottles of wine on the wall. 64 bottles of wine.     You take one down, pass it around, 63 bottles of wine on the wall!\n",
      "63 bottles of wine on the wall. 63 bottles of wine.     You take one down, pass it around, 62 bottles of wine on the wall!\n",
      "62 bottles of wine on the wall. 62 bottles of wine.     You take one down, pass it around, 61 bottles of wine on the wall!\n",
      "61 bottles of wine on the wall. 61 bottles of wine.     You take one down, pass it around, 60 bottles of wine on the wall!\n",
      "60 bottles of wine on the wall. 60 bottles of wine.     You take one down, pass it around, 59 bottles of wine on the wall!\n",
      "59 bottles of wine on the wall. 59 bottles of wine.     You take one down, pass it around, 58 bottles of wine on the wall!\n",
      "58 bottles of wine on the wall. 58 bottles of wine.     You take one down, pass it around, 57 bottles of wine on the wall!\n",
      "57 bottles of wine on the wall. 57 bottles of wine.     You take one down, pass it around, 56 bottles of wine on the wall!\n",
      "56 bottles of wine on the wall. 56 bottles of wine.     You take one down, pass it around, 55 bottles of wine on the wall!\n",
      "55 bottles of wine on the wall. 55 bottles of wine.     You take one down, pass it around, 54 bottles of wine on the wall!\n",
      "54 bottles of wine on the wall. 54 bottles of wine.     You take one down, pass it around, 53 bottles of wine on the wall!\n",
      "53 bottles of wine on the wall. 53 bottles of wine.     You take one down, pass it around, 52 bottles of wine on the wall!\n",
      "52 bottles of wine on the wall. 52 bottles of wine.     You take one down, pass it around, 51 bottles of wine on the wall!\n",
      "51 bottles of wine on the wall. 51 bottles of wine.     You take one down, pass it around, 50 bottles of wine on the wall!\n",
      "50 bottles of wine on the wall. 50 bottles of wine.     You take one down, pass it around, 49 bottles of wine on the wall!\n",
      "49 bottles of wine on the wall. 49 bottles of wine.     You take one down, pass it around, 48 bottles of wine on the wall!\n",
      "48 bottles of wine on the wall. 48 bottles of wine.     You take one down, pass it around, 47 bottles of wine on the wall!\n",
      "47 bottles of wine on the wall. 47 bottles of wine.     You take one down, pass it around, 46 bottles of wine on the wall!\n",
      "46 bottles of wine on the wall. 46 bottles of wine.     You take one down, pass it around, 45 bottles of wine on the wall!\n",
      "45 bottles of wine on the wall. 45 bottles of wine.     You take one down, pass it around, 44 bottles of wine on the wall!\n",
      "44 bottles of wine on the wall. 44 bottles of wine.     You take one down, pass it around, 43 bottles of wine on the wall!\n",
      "43 bottles of wine on the wall. 43 bottles of wine.     You take one down, pass it around, 42 bottles of wine on the wall!\n",
      "42 bottles of wine on the wall. 42 bottles of wine.     You take one down, pass it around, 41 bottles of wine on the wall!\n",
      "41 bottles of wine on the wall. 41 bottles of wine.     You take one down, pass it around, 40 bottles of wine on the wall!\n",
      "40 bottles of wine on the wall. 40 bottles of wine.     You take one down, pass it around, 39 bottles of wine on the wall!\n",
      "39 bottles of wine on the wall. 39 bottles of wine.     You take one down, pass it around, 38 bottles of wine on the wall!\n",
      "38 bottles of wine on the wall. 38 bottles of wine.     You take one down, pass it around, 37 bottles of wine on the wall!\n",
      "37 bottles of wine on the wall. 37 bottles of wine.     You take one down, pass it around, 36 bottles of wine on the wall!\n",
      "36 bottles of wine on the wall. 36 bottles of wine.     You take one down, pass it around, 35 bottles of wine on the wall!\n",
      "35 bottles of wine on the wall. 35 bottles of wine.     You take one down, pass it around, 34 bottles of wine on the wall!\n",
      "34 bottles of wine on the wall. 34 bottles of wine.     You take one down, pass it around, 33 bottles of wine on the wall!\n",
      "33 bottles of wine on the wall. 33 bottles of wine.     You take one down, pass it around, 32 bottles of wine on the wall!\n",
      "32 bottles of wine on the wall. 32 bottles of wine.     You take one down, pass it around, 31 bottles of wine on the wall!\n",
      "31 bottles of wine on the wall. 31 bottles of wine.     You take one down, pass it around, 30 bottles of wine on the wall!\n",
      "30 bottles of wine on the wall. 30 bottles of wine.     You take one down, pass it around, 29 bottles of wine on the wall!\n",
      "29 bottles of wine on the wall. 29 bottles of wine.     You take one down, pass it around, 28 bottles of wine on the wall!\n",
      "28 bottles of wine on the wall. 28 bottles of wine.     You take one down, pass it around, 27 bottles of wine on the wall!\n",
      "27 bottles of wine on the wall. 27 bottles of wine.     You take one down, pass it around, 26 bottles of wine on the wall!\n",
      "26 bottles of wine on the wall. 26 bottles of wine.     You take one down, pass it around, 25 bottles of wine on the wall!\n",
      "25 bottles of wine on the wall. 25 bottles of wine.     You take one down, pass it around, 24 bottles of wine on the wall!\n",
      "24 bottles of wine on the wall. 24 bottles of wine.     You take one down, pass it around, 23 bottles of wine on the wall!\n",
      "23 bottles of wine on the wall. 23 bottles of wine.     You take one down, pass it around, 22 bottles of wine on the wall!\n",
      "22 bottles of wine on the wall. 22 bottles of wine.     You take one down, pass it around, 21 bottles of wine on the wall!\n",
      "21 bottles of wine on the wall. 21 bottles of wine.     You take one down, pass it around, 20 bottles of wine on the wall!\n",
      "20 bottles of wine on the wall. 20 bottles of wine.     You take one down, pass it around, 19 bottles of wine on the wall!\n",
      "19 bottles of wine on the wall. 19 bottles of wine.     You take one down, pass it around, 18 bottles of wine on the wall!\n",
      "18 bottles of wine on the wall. 18 bottles of wine.     You take one down, pass it around, 17 bottles of wine on the wall!\n",
      "17 bottles of wine on the wall. 17 bottles of wine.     You take one down, pass it around, 16 bottles of wine on the wall!\n",
      "16 bottles of wine on the wall. 16 bottles of wine.     You take one down, pass it around, 15 bottles of wine on the wall!\n",
      "15 bottles of wine on the wall. 15 bottles of wine.     You take one down, pass it around, 14 bottles of wine on the wall!\n",
      "14 bottles of wine on the wall. 14 bottles of wine.     You take one down, pass it around, 13 bottles of wine on the wall!\n",
      "13 bottles of wine on the wall. 13 bottles of wine.     You take one down, pass it around, 12 bottles of wine on the wall!\n",
      "12 bottles of wine on the wall. 12 bottles of wine.     You take one down, pass it around, 11 bottles of wine on the wall!\n",
      "11 bottles of wine on the wall. 11 bottles of wine.     You take one down, pass it around, 10 bottles of wine on the wall!\n",
      "10 bottles of wine on the wall. 10 bottles of wine.     You take one down, pass it around, 9 bottles of wine on the wall!\n",
      "9 bottles of wine on the wall. 9 bottles of wine.     You take one down, pass it around, 8 bottles of wine on the wall!\n",
      "8 bottles of wine on the wall. 8 bottles of wine.     You take one down, pass it around, 7 bottles of wine on the wall!\n",
      "7 bottles of wine on the wall. 7 bottles of wine.     You take one down, pass it around, 6 bottles of wine on the wall!\n",
      "6 bottles of wine on the wall. 6 bottles of wine.     You take one down, pass it around, 5 bottles of wine on the wall!\n",
      "5 bottles of wine on the wall. 5 bottles of wine.     You take one down, pass it around, 4 bottles of wine on the wall!\n",
      "4 bottles of wine on the wall. 4 bottles of wine.     You take one down, pass it around, 3 bottles of wine on the wall!\n",
      "3 bottles of wine on the wall. 3 bottles of wine.     You take one down, pass it around, 2 bottles of wine on the wall!\n",
      "2 bottles of wine on the wall. 2 bottles of wine.     You take one down, pass it around, 1 bottles of wine on the wall!\n",
      "1 bottles of wine on the wall. 1 bottles of wine.     You take one down, pass it around, 0 bottles of wine on the wall!\n",
      "\n"
     ]
    }
   ],
   "source": [
    "# Again the open() function gives us a variable of type 'file'\n",
    "input_file=open('example_file.txt','r')\n",
    "\n",
    "# The read() function puts the contents of the file into a string object\n",
    "\n",
    "file_content=input_file.read()\n",
    "# Close the file when you're done with it!\n",
    "input_file.close()\n",
    "\n",
    "# Let's see what we got\n",
    "print(file_content)"
   ]
  },
  {
   "cell_type": "markdown",
   "metadata": {
    "collapsed": true
   },
   "source": [
    "### Parsing\n",
    "It will often be necessary to \"parse\" the contents of a file. This means we will extract information from the string into Python variables that we can operate on. When the file was not designed to be parsed conveniently, this can get messy!\n",
    "\n",
    "As an example, let's find all of the lines where the number of bottles of beer is a multiple of 7. Instead of reading the entire file all-at-once, in this example we'll read it line-by-line. This is done using the `readline()` function. Each time `readline()` is called, the next line from the file is returned.\n",
    "\n",
    "We can also iterate over the lines from our current position to the end of file using the `readlines()` method."
   ]
  },
  {
   "cell_type": "code",
   "execution_count": 6,
   "metadata": {},
   "outputs": [
    {
     "name": "stdout",
     "output_type": "stream",
     "text": [
      "91\n",
      "78\n",
      "65\n",
      "52\n",
      "39\n",
      "26\n",
      "13\n"
     ]
    }
   ],
   "source": [
    "input_file = open('example_file.txt','r')\n",
    "\n",
    "# Throw away the first 4 lines\n",
    "# Notice that we are reading the first 4 lines but we are not doing anything with them\n",
    "# Using the _ name is a Python convention for a variable name that we are not going to use\n",
    "\n",
    "for j in range(4):\n",
    "    _ = input_file.readline()\n",
    "    \n",
    "# Iterate over remaining lines\n",
    "for line in input_file.readlines():\n",
    "    \n",
    "    # Action: think about this line. How does it work?\n",
    "    nbottles = int(line.split()[0])\n",
    "    \n",
    "    # Check if nbottles is a multiple of 7\n",
    "    if nbottles % 13 == 0:\n",
    "        print(nbottles)\n",
    "        \n",
    "input_file.close()"
   ]
  },
  {
   "cell_type": "markdown",
   "metadata": {},
   "source": [
    "It's very important to call `close()` when you're done working with a file. An alternative way is using the `with...as` construction. This is identical to the previous example, and it is safer because it does not require you to remember to close the file. "
   ]
  },
  {
   "cell_type": "code",
   "execution_count": 7,
   "metadata": {},
   "outputs": [
    {
     "name": "stdout",
     "output_type": "stream",
     "text": [
      "('File closed? ', False)\n"
     ]
    }
   ],
   "source": [
    "with open('new_output_file.txt','w') as output_file:\n",
    "    with open('example_file.txt','r') as input_file:\n",
    "        # we indend code inside the with block\n",
    "        print((\"File closed? \", input_file.closed))\n",
    "\n",
    "        # Throw away the first 4 lines\n",
    "        # Notice that we are reading the first 4 lines but we are not doing anything with them\n",
    "        # Using the _ name is a Python convention for a variable name that we are not going to use\n",
    "\n",
    "\n",
    "        # Iterate over remaining lines\n",
    "\n",
    "            # Check if nbottles is a multiple of 7\n",
    "\n",
    "\n",
    "# input_file is closed automatically once the with block ends\n",
    "# input_file will be closed even if there's an error inside the with block\n",
    "# Using \"with ... as\" makes are programs more robust\n",
    "\n",
    "# confirm that the file is indeed closed\n"
   ]
  },
  {
   "cell_type": "markdown",
   "metadata": {},
   "source": [
    "## JSON\n",
    "\n",
    "JSON stands for **JavaScript Object notation** and is an open standard human readable data format. Many APIs work with JSON format to provide and receive data. Popular alternatives to JSON are YAML and XML.\n",
    "\n",
    "An empty JSON file simply contains two curly braces {}. The following example describes some basic value definitions. Multiple value statements in JSON are separated by a comma sign.\n",
    "\n",
    "```python\n",
    "{\n",
    "    “text key”: “string”,\n",
    "    “integer key”: 123,\n",
    "    “boolean key”: true,\n",
    "    “simple list”: [\n",
    "        “value 1”,\n",
    "        “value 2”\n",
    "    ],\n",
    "    “dict”: {\n",
    "        “element 1”: “value 1”,\n",
    "        “element 2”: “value 2”\n",
    "    },\n",
    "    “dict list”: [\n",
    "        {\n",
    "            “key 1.1”: “value 1.1”,\n",
    "            “key 1.2”: “value 1.2”\n",
    "        },\n",
    "        {\n",
    "            “key 2.1”: “value 2.1”,\n",
    "            “key 2.2”: “value 2.2”\n",
    "        }\n",
    "    ]\n",
    "}\n",
    "```\n",
    "\n",
    "JSON notations are quite similar to the value definitions within a python dictionary."
   ]
  },
  {
   "cell_type": "code",
   "execution_count": 8,
   "metadata": {
    "collapsed": true
   },
   "outputs": [],
   "source": [
    "import json\n",
    "# you can also use the open function to read the content of a JSON file to a string\n",
    "\n",
    "json_data = \"\"\" {\n",
    "    \"key 1\": \"value 1\",\n",
    "    \"key 2\": \"value 2\",\n",
    "    \"decimal\": 10,\n",
    "    \"boolean\": true,\n",
    "    \"list\": [1, 2, 3],\n",
    "    \"dictionary\": {\n",
    "        \"child key 1\": \"child value\",\n",
    "        \"child key 1\": \"child value\"\n",
    "    }\n",
    "}\"\"\"\n",
    "   \n",
    "\n",
    "my_dict=json.loads(json_data)\n"
   ]
  },
  {
   "cell_type": "code",
   "execution_count": 9,
   "metadata": {},
   "outputs": [
    {
     "name": "stdout",
     "output_type": "stream",
     "text": [
      "string value: value 1\n",
      "decimal value: 10\n",
      "decimal value: True\n",
      "list values: [1, 2, 3]\n"
     ]
    }
   ],
   "source": [
    "# Now you can work with the data as with regular python dictionaries.\n",
    "\n",
    "print(\"string value: %s\" % my_dict[\"key 1\"])\n",
    "print(\"decimal value: %d\" % my_dict[\"decimal\"])\n",
    "print(\"decimal value: %r\" % my_dict[\"boolean\"])\n",
    "print(\"list values: %s\" % my_dict[\"list\"])"
   ]
  },
  {
   "cell_type": "code",
   "execution_count": 10,
   "metadata": {},
   "outputs": [
    {
     "name": "stdout",
     "output_type": "stream",
     "text": [
      "<class 'dict'>\n",
      "{\"key 1\": \"value 1\", \"key 2\": \"value 2\", \"decimal\": 10, \"list\": [1, 2, 3], \"dictionary\": {\"child key 1\": \"child value\"}}\n",
      "[1, 2, 3]\n"
     ]
    }
   ],
   "source": [
    "# dumps() function to create a JSON formatted string from a dictionary\n",
    "\n",
    "import json\n",
    " \n",
    "my_dictionary = {\n",
    "\n",
    "     \"key 1\": \"value 1\",\n",
    "    \"key 2\": \"value 2\",\n",
    "    \"decimal\": 10,    \n",
    "    \"list\": [1, 2, 3],\n",
    "    \"dictionary\": {\n",
    "        \"child key 1\": \"child value\",\n",
    "        \"child key 1\": \"child value\"\n",
    "    \n",
    "    }\n",
    "}\n",
    "print(type(my_dictionary)) \n",
    "print(json.dumps(my_dictionary))\n",
    "print(my_dictionary['list'])"
   ]
  },
  {
   "cell_type": "markdown",
   "metadata": {},
   "source": [
    "Of course we would like this to be \"dumped\" to a JSON data file..."
   ]
  },
  {
   "cell_type": "code",
   "execution_count": 11,
   "metadata": {
    "collapsed": true
   },
   "outputs": [],
   "source": [
    "with open('sample_data.json', 'w') as outfile:\n",
    "    json.dump(my_dictionary, outfile)"
   ]
  },
  {
   "cell_type": "markdown",
   "metadata": {},
   "source": [
    "## Misc\n",
    "\n",
    "### Running python from terminal "
   ]
  },
  {
   "cell_type": "markdown",
   "metadata": {},
   "source": [
    "Python programs `(.py)` can be run at the terminal, with the incorporation of command line arguments. Basically, we can turn out python codes into executables that function like commands. "
   ]
  },
  {
   "cell_type": "code",
   "execution_count": 12,
   "metadata": {},
   "outputs": [
    {
     "name": "stdout",
     "output_type": "stream",
     "text": [
      "('hello world ', '-f')\n"
     ]
    }
   ],
   "source": [
    "import sys # import modules used here -- sys is a very standard one\n",
    "\n",
    "def main():\n",
    "    print(('hello world ', sys.argv[1]))\n",
    "    # Command line args are in sys.argv[1], sys.argv[2] ...\n",
    "    # sys.argv[0] is the script name itself and can be ignored\n",
    "    \n",
    "# Standard boilerplate to call the main() function to begin\n",
    "# the program.    \n",
    "if __name__ == '__main__':\n",
    "    main()"
   ]
  },
  {
   "cell_type": "markdown",
   "metadata": {
    "collapsed": true
   },
   "source": [
    "### Variable Scope: global, local\n",
    "\n",
    "Variables that are defined inside a function body have a local scope, and those defined outside have a global scope."
   ]
  },
  {
   "cell_type": "code",
   "execution_count": 13,
   "metadata": {},
   "outputs": [
    {
     "name": "stdout",
     "output_type": "stream",
     "text": [
      "('Inside the function local total : ', 30)\n",
      "('Outside the function global total : ', 0)\n"
     ]
    }
   ],
   "source": [
    "total = 0; # This is a global variable.\n",
    "def f( arg1, arg2 ):\n",
    "    total = arg1 + arg2; # Here total is a local variable.\n",
    "    print((\"Inside the function local total : \", total))\n",
    "    return total;\n",
    "\n",
    "f( 10, 20 );\n",
    "print((\"Outside the function global total : \", total))"
   ]
  }
 ],
 "metadata": {
  "anaconda-cloud": {},
  "kernelspec": {
   "display_name": "Python 3",
   "language": "python",
   "name": "python3"
  },
  "language_info": {
   "codemirror_mode": {
    "name": "ipython",
    "version": 3
   },
   "file_extension": ".py",
   "mimetype": "text/x-python",
   "name": "python",
   "nbconvert_exporter": "python",
   "pygments_lexer": "ipython3",
   "version": "3.6.2"
  }
 },
 "nbformat": 4,
 "nbformat_minor": 1
}
