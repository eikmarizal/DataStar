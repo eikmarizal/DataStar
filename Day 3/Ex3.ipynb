{
 "cells": [
  {
   "cell_type": "markdown",
   "metadata": {},
   "source": [
    "## List Comprehension & Lambda Exercise"
   ]
  },
  {
   "cell_type": "code",
   "execution_count": 1,
   "metadata": {},
   "outputs": [
    {
     "name": "stdout",
     "output_type": "stream",
     "text": [
      "[5, 5, 3, 5, 4, 4, 3]\n"
     ]
    }
   ],
   "source": [
    "# write list comprehension to determine the length of each word\n",
    "# except 'the' and store as 'word_lengths'\n",
    "sentence = \"the quick brown fox jumps over the lazy dog\"\n",
    "print([len(word_length) for word_length in sentence.split() if word_length != \"the\"])"
   ]
  },
  {
   "cell_type": "code",
   "execution_count": 2,
   "metadata": {},
   "outputs": [
    {
     "data": {
      "text/plain": [
       "[34.6, 44.9, 44.6, 12.7]"
      ]
     },
     "execution_count": 2,
     "metadata": {},
     "output_type": "execute_result"
    }
   ],
   "source": [
    "# write a list comprehension to extract the \n",
    "# negative numbers from the list, as integers and store as newlist\n",
    "numbers = [34.6, -203.4, 44.9, -68.3, -12.2, 44.6, 12.7]\n",
    "[x for x in numbers if x >= 0]"
   ]
  },
  {
   "cell_type": "code",
   "execution_count": 3,
   "metadata": {},
   "outputs": [
    {
     "name": "stdout",
     "output_type": "stream",
     "text": [
      "[110, 153, 110, 134]\n"
     ]
    }
   ],
   "source": [
    "# Write a list comprehension to convert the following \n",
    "# temperatures from Celcius to Fahrenheit \n",
    "# Fahrenheit = 9/5*Celcius + 32\n",
    "Celcius=[43.6, 67.3, 43.6, 56.4]\n",
    "fahr = [round(e * 9/5 + 32) for e in Celcius]\n",
    "print(fahr)"
   ]
  },
  {
   "cell_type": "code",
   "execution_count": 4,
   "metadata": {},
   "outputs": [
    {
     "name": "stdout",
     "output_type": "stream",
     "text": [
      "[(0, 0), (0, 1), (1, 0), (1, 1), (2, 0), (2, 1), (3, 0), (3, 1)]\n",
      "[(0, 0), (0, 1), (1, 0), (1, 1), (2, 0), (2, 1), (3, 0), (3, 1)]\n"
     ]
    }
   ],
   "source": [
    "# Convert the following code to list comprehension\n",
    "\n",
    "coords = []\n",
    "for x in range(4):\n",
    "    for y in range(2):\n",
    "        coordinate = (x, y)\n",
    "        coords.append(coordinate)\n",
    "print(coords)\n",
    "\n",
    "coords1 = [(i,j) for i in range(4) for j in range(2)];\n",
    "print(coords1);"
   ]
  },
  {
   "cell_type": "code",
   "execution_count": 5,
   "metadata": {},
   "outputs": [
    {
     "name": "stdout",
     "output_type": "stream",
     "text": [
      "['ballcake', 'ballrice', 'ballham', 'cheesecake', 'cheeserice', 'cheeseham', 'roundcake', 'roundrice', 'roundham']\n"
     ]
    }
   ],
   "source": [
    "# write a list comprehension to list all the combinations\n",
    "# for the two sets of words\n",
    "\n",
    "set1 = ['ball','cheese','round']\n",
    "set2 = ['cake','rice','ham']\n",
    "\n",
    "combination = [i + j for i in set1 for j in set2]\n",
    "print(combination)"
   ]
  },
  {
   "cell_type": "code",
   "execution_count": 6,
   "metadata": {},
   "outputs": [
    {
     "name": "stdout",
     "output_type": "stream",
     "text": [
      "[1, 3, 5, 7, 9, 11, 13, 15]\n",
      "[1, 9, 25, 49, 81, 121, 169, 225, 289, 361, 441, 529, 625, 729, 841, 961, 1089, 1225, 1369, 1521, 1681, 1849, 2025, 2209, 2401, 2601, 2809, 3025, 3249, 3481, 3721, 3969, 4225, 4489, 4761, 5041, 5329, 5625, 5929, 6241, 6561, 6889, 7225, 7569, 7921, 8281, 8649, 9025, 9409, 9801]\n",
      "[1, 3, 5, 7, 9, 11, 13, 15, 17, 19, 21, 23, 25, 27, 29, 31, 33, 35, 37, 39, 41, 43, 45, 47, 49, 51, 53, 55, 57, 59, 61, 63, 65, 67, 69, 71, 73, 75, 77, 79, 81, 83, 85, 87, 89, 91, 93, 95, 97, 99] \n",
      "\n",
      "[1, 9, 25, 49, 81, 121, 169, 225, 289, 361, 441, 529, 625, 729, 841, 961, 1089, 1225, 1369, 1521, 1681, 1849, 2025, 2209, 2401, 2601, 2809, 3025, 3249, 3481, 3721, 3969, 4225, 4489, 4761, 5041, 5329, 5625, 5929, 6241, 6561, 6889, 7225, 7569, 7921, 8281, 8649, 9025, 9409, 9801]\n"
     ]
    }
   ],
   "source": [
    "# write a lambda function that square number\n",
    "# for all odd numbers from 1 to 100\n",
    "li=[1,2,3,4,5,6,7,8,9,10,11,12,13,14,15]\n",
    "odd = [ odd for odd in li if odd%2 != 0]\n",
    "print(odd)\n",
    "\n",
    "s = map(lambda x: x**2 , range(1,101,2))\n",
    "print(list(s))\n",
    "x = []\n",
    "for i in range (1,101):\n",
    "    x.append(i)\n",
    "filtered = list(filter( lambda y: y%2 == 1, x))\n",
    "print(filtered, '\\n')\n",
    "\n",
    "squared = list(map( lambda z: z**2, filtered))\n",
    "print(squared)"
   ]
  },
  {
   "cell_type": "code",
   "execution_count": 7,
   "metadata": {},
   "outputs": [
    {
     "name": "stdout",
     "output_type": "stream",
     "text": [
      "[1, 9, 25, 49, 81, 121, 169, 225, 289, 361, 441, 529, 625, 729, 841, 961, 1089, 1225, 1369, 1521, 1681, 1849, 2025, 2209, 2401, 2601, 2809, 3025, 3249, 3481, 3721, 3969, 4225, 4489, 4761, 5041, 5329, 5625, 5929, 6241, 6561, 6889, 7225, 7569, 7921, 8281, 8649, 9025, 9409, 9801]\n"
     ]
    }
   ],
   "source": [
    "# write a list comprehension that square number\n",
    "# for all odd numbers from 1 to 100\n",
    "square=map(lambda x:x*x ,range(1,100,2))\n",
    "print(list(square))"
   ]
  },
  {
   "cell_type": "code",
   "execution_count": 8,
   "metadata": {},
   "outputs": [
    {
     "name": "stdout",
     "output_type": "stream",
     "text": [
      "['Anne', 'Amy']\n"
     ]
    }
   ],
   "source": [
    "# write a lambda function to extract names that begin with 'A'\n",
    "names = ['Anne', 'Amy', 'Bob', 'David', 'Carrie', 'Barbara', 'Zach']\n",
    "nameFilter = filter(lambda name: name[0] == 'A', names)\n",
    "print(list(nameFilter))"
   ]
  },
  {
   "cell_type": "code",
   "execution_count": 9,
   "metadata": {},
   "outputs": [
    {
     "name": "stdout",
     "output_type": "stream",
     "text": [
      "['Bob', 'Barbara']\n"
     ]
    }
   ],
   "source": [
    "# write a list comprehension to extract names that begin with 'B'\n",
    "names = ['Anne', 'Amy', 'Bob', 'David', 'Carrie', 'Barbara', 'Zach']\n",
    "\n",
    "nameFilter = [m for m in names if m[0] == 'B']\n",
    "print(nameFilter)"
   ]
  }
 ],
 "metadata": {
  "kernelspec": {
   "display_name": "Python 3",
   "language": "python",
   "name": "python3"
  },
  "language_info": {
   "codemirror_mode": {
    "name": "ipython",
    "version": 3
   },
   "file_extension": ".py",
   "mimetype": "text/x-python",
   "name": "python",
   "nbconvert_exporter": "python",
   "pygments_lexer": "ipython3",
   "version": "3.6.2"
  }
 },
 "nbformat": 4,
 "nbformat_minor": 2
}
