{
 "cells": [
  {
   "cell_type": "code",
   "execution_count": 1,
   "metadata": {},
   "outputs": [],
   "source": [
    "import numpy as np\n",
    "import math"
   ]
  },
  {
   "cell_type": "code",
   "execution_count": 2,
   "metadata": {},
   "outputs": [],
   "source": [
    "class neuron:\n",
    "    def __init__(self, num_inp, w = '', b = ''):\n",
    "        self.num_inp = num_inp\n",
    "        if w == '':\n",
    "            self.w = np.random.rand(num_inp,1)\n",
    "        else:\n",
    "            self.w = w\n",
    "        if b == '':\n",
    "            self.b = np.random.rand(1)\n",
    "        else:\n",
    "            self.b = b\n",
    "    def cal(self,x):\n",
    "        res = 0\n",
    "        for i in range(self.num_inp):\n",
    "            res += x[i] * self.w[i]\n",
    "        res += self.b\n",
    "        return res\n",
    "    \n",
    "    def cal_with_act(self,x):\n",
    "        res = 0\n",
    "        for i in range(self.num_inp):\n",
    "            res += x[i] * self.w[i]\n",
    "        res += self.b\n",
    "        return self.logistic(res)\n",
    "    \n",
    "    def relu(self,x):\n",
    "        if x < 0 :\n",
    "            return 0\n",
    "        return x   \n",
    "    def logistic(self, x):\n",
    "        return 1.0/(1.0 + math.exp(-x))"
   ]
  },
  {
   "cell_type": "code",
   "execution_count": 3,
   "metadata": {},
   "outputs": [
    {
     "name": "stdout",
     "output_type": "stream",
     "text": [
      "the weights are [[0.73703412]\n",
      " [0.76211814]\n",
      " [0.6366735 ]] and the bias value is [0.64575988] \n",
      "the output of neuron is [3.17518671]\n",
      "the output of neuron after logistic 0.9598897574017891\n"
     ]
    }
   ],
   "source": [
    "n1 = neuron(num_inp = 3)\n",
    "print(\"the weights are {} and the bias value is {} \". format(n1.w, n1.b))\n",
    "print(\"the output of neuron is {}\".format(n1.cal([0.5,2,1])))\n",
    "print(\"the output of neuron after logistic {}\".format(n1.cal_with_act([0.5,2,1])))"
   ]
  }
 ],
 "metadata": {
  "kernelspec": {
   "display_name": "Python 3",
   "language": "python",
   "name": "python3"
  },
  "language_info": {
   "codemirror_mode": {
    "name": "ipython",
    "version": 3
   },
   "file_extension": ".py",
   "mimetype": "text/x-python",
   "name": "python",
   "nbconvert_exporter": "python",
   "pygments_lexer": "ipython3",
   "version": "3.6.4"
  }
 },
 "nbformat": 4,
 "nbformat_minor": 2
}
