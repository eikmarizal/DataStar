{
 "cells": [
  {
   "cell_type": "markdown",
   "metadata": {
    "collapsed": true,
    "hide_input": false
   },
   "source": [
    "![](http://thecads.org/wp-content/uploads/2017/02/adax_logo.jpg)\n",
    "# Module 4.1: Regularization & More\n",
    "\n",
    "In this module, we look at the concept of regularization in machine learning, and how it helps to reduce overfitting in models in order that generalization performance can be improved. We will also explore grid search which is a helpful technique of going over a number of hyperparameters including regularization parameters in order to find the model with the best set of parameters. Grid search with cross validation is a useful and practical technique that ML practitioners should know well. \n",
    "\n",
    "## Regularization\n",
    "\n",
    "A good way of reducing overfitting is to *regularize* the model. This basically mean, we would like to \"constrain\" it: Imagine, reducing its degrees of freedom so that it would be harder to overfit the data. Some people think of this as making the model \"less precise\" so as to make it cater to a wider range of possibilities. For instance, a simple way of regularizing a polynomial model is to reduce the number of polynomial degrees. You can simply retrain a model with a lower number of polynomial degrees, but regularization is not the same -- it maintains the same model that was chosen, but control it further by a *regularization term*. In other words, the objective function of the algorithm consists of the loss function added with a regularization term to constrain the model by *penalizing the magnitude of coefficient of features (or the weights)*. \n",
    "\n",
    "We start of by looking at regularized linear models. Regularization can be used in all linear methods, including both regression and classification. The only difference is in their loss functions.\n",
    "\n",
    "### Regularized Linear Models\n",
    "\n",
    "We will now look at the case of regression with Ridge Regression and Lasso Regression, before extending the same concept to the classification methods. The key difference between the two (Ridge and Lasso) is in the way they assign the 'penalty' to the coefficients.\n",
    "\n",
    "### A. Ridge Regression\n",
    "\n",
    "Ridge regression is also a linear model for regression, so it is formulated using ordinary least squares error (or sum of squared error) as the cost function, plus a regularization term equal to $\\alpha\\sum_{i=1}^{d}w_{i}^2$. This is also known as an \"$\\ell$-2 regularization\", in layman terms, it adds penalty equivalent to the square of the magnitude of coefficients. Basically, think of the objective function as one that is: Least Squares cost function + $\\alpha$ * (sum of square of coefficients). \n",
    "\n",
    "Let's look at an example.\n"
   ]
  },
  {
   "cell_type": "code",
   "execution_count": 1,
   "metadata": {},
   "outputs": [],
   "source": [
    "import numpy as np\n",
    "import pandas as pd\n",
    "import seaborn as sns\n",
    "import matplotlib.pyplot as plt\n",
    "%matplotlib inline\n",
    "\n",
    "from sklearn import datasets\n",
    "from sklearn.model_selection import cross_val_score, train_test_split\n",
    "from sklearn.preprocessing import MinMaxScaler, PolynomialFeatures\n",
    "\n",
    "from sklearn.linear_model import LinearRegression, LogisticRegression"
   ]
  },
  {
   "cell_type": "code",
   "execution_count": 2,
   "metadata": {},
   "outputs": [],
   "source": [
    "boston = datasets.load_boston()\n",
    "\n",
    "# Ex1: working the Boston data by scaling and adding polynomial features\n",
    "# use MinMaxScaler() function to on the boston data\n",
    "# add PolynomialFeatures to degree 2 to the data\n",
    "# create the X and y using the data and target"
   ]
  },
  {
   "cell_type": "code",
   "execution_count": 3,
   "metadata": {},
   "outputs": [
    {
     "data": {
      "text/plain": [
       "dict_keys(['data', 'target', 'feature_names', 'DESCR'])"
      ]
     },
     "execution_count": 3,
     "metadata": {},
     "output_type": "execute_result"
    }
   ],
   "source": [
    "boston.keys()"
   ]
  },
  {
   "cell_type": "code",
   "execution_count": 4,
   "metadata": {},
   "outputs": [
    {
     "name": "stdout",
     "output_type": "stream",
     "text": [
      "Boston House Prices dataset\n",
      "===========================\n",
      "\n",
      "Notes\n",
      "------\n",
      "Data Set Characteristics:  \n",
      "\n",
      "    :Number of Instances: 506 \n",
      "\n",
      "    :Number of Attributes: 13 numeric/categorical predictive\n",
      "    \n",
      "    :Median Value (attribute 14) is usually the target\n",
      "\n",
      "    :Attribute Information (in order):\n",
      "        - CRIM     per capita crime rate by town\n",
      "        - ZN       proportion of residential land zoned for lots over 25,000 sq.ft.\n",
      "        - INDUS    proportion of non-retail business acres per town\n",
      "        - CHAS     Charles River dummy variable (= 1 if tract bounds river; 0 otherwise)\n",
      "        - NOX      nitric oxides concentration (parts per 10 million)\n",
      "        - RM       average number of rooms per dwelling\n",
      "        - AGE      proportion of owner-occupied units built prior to 1940\n",
      "        - DIS      weighted distances to five Boston employment centres\n",
      "        - RAD      index of accessibility to radial highways\n",
      "        - TAX      full-value property-tax rate per $10,000\n",
      "        - PTRATIO  pupil-teacher ratio by town\n",
      "        - B        1000(Bk - 0.63)^2 where Bk is the proportion of blacks by town\n",
      "        - LSTAT    % lower status of the population\n",
      "        - MEDV     Median value of owner-occupied homes in $1000's\n",
      "\n",
      "    :Missing Attribute Values: None\n",
      "\n",
      "    :Creator: Harrison, D. and Rubinfeld, D.L.\n",
      "\n",
      "This is a copy of UCI ML housing dataset.\n",
      "http://archive.ics.uci.edu/ml/datasets/Housing\n",
      "\n",
      "\n",
      "This dataset was taken from the StatLib library which is maintained at Carnegie Mellon University.\n",
      "\n",
      "The Boston house-price data of Harrison, D. and Rubinfeld, D.L. 'Hedonic\n",
      "prices and the demand for clean air', J. Environ. Economics & Management,\n",
      "vol.5, 81-102, 1978.   Used in Belsley, Kuh & Welsch, 'Regression diagnostics\n",
      "...', Wiley, 1980.   N.B. Various transformations are used in the table on\n",
      "pages 244-261 of the latter.\n",
      "\n",
      "The Boston house-price data has been used in many machine learning papers that address regression\n",
      "problems.   \n",
      "     \n",
      "**References**\n",
      "\n",
      "   - Belsley, Kuh & Welsch, 'Regression diagnostics: Identifying Influential Data and Sources of Collinearity', Wiley, 1980. 244-261.\n",
      "   - Quinlan,R. (1993). Combining Instance-Based and Model-Based Learning. In Proceedings on the Tenth International Conference of Machine Learning, 236-243, University of Massachusetts, Amherst. Morgan Kaufmann.\n",
      "   - many more! (see http://archive.ics.uci.edu/ml/datasets/Housing)\n",
      "\n"
     ]
    }
   ],
   "source": [
    "print(boston['DESCR'])"
   ]
  },
  {
   "cell_type": "code",
   "execution_count": 5,
   "metadata": {},
   "outputs": [
    {
     "name": "stdout",
     "output_type": "stream",
     "text": [
      "(506, 13)\n"
     ]
    }
   ],
   "source": [
    "# done intentionally: extending the Boston data \n",
    "# by adding polynomial features\n",
    "\n",
    "X = MinMaxScaler().fit_transform(boston.data)\n",
    "print(X.shape)"
   ]
  },
  {
   "cell_type": "code",
   "execution_count": 6,
   "metadata": {},
   "outputs": [
    {
     "name": "stdout",
     "output_type": "stream",
     "text": [
      "(506, 104)\n",
      "(506,)\n"
     ]
    }
   ],
   "source": [
    "X = PolynomialFeatures(degree=2, include_bias=False).fit_transform(X)\n",
    "y = boston.target\n",
    "print(X.shape)\n",
    "print(y.shape)"
   ]
  },
  {
   "cell_type": "code",
   "execution_count": 7,
   "metadata": {},
   "outputs": [
    {
     "name": "stdout",
     "output_type": "stream",
     "text": [
      "[[0.00000000e+00 1.80000000e-01 6.78152493e-02 ... 1.00000000e+00\n",
      "  8.96799117e-02 8.04248656e-03]\n",
      " [2.35922539e-04 0.00000000e+00 2.42302053e-01 ... 1.00000000e+00\n",
      "  2.04470199e-01 4.18080621e-02]\n",
      " [2.35697744e-04 0.00000000e+00 2.42302053e-01 ... 9.79579831e-01\n",
      "  6.28144504e-02 4.02790570e-03]\n",
      " ...\n",
      " [6.11892474e-04 0.00000000e+00 4.20454545e-01 ... 1.00000000e+00\n",
      "  1.07891832e-01 1.16406475e-02]\n",
      " [1.16072990e-03 0.00000000e+00 4.20454545e-01 ... 9.82676920e-01\n",
      "  1.29930407e-01 1.71795127e-02]\n",
      " [4.61841693e-04 0.00000000e+00 4.20454545e-01 ... 1.00000000e+00\n",
      "  1.69701987e-01 2.87987643e-02]]\n"
     ]
    }
   ],
   "source": [
    "print(X)"
   ]
  },
  {
   "cell_type": "code",
   "execution_count": 8,
   "metadata": {},
   "outputs": [
    {
     "name": "stdout",
     "output_type": "stream",
     "text": [
      "Training set score: 0.95\n",
      "Test set score: 0.61\n"
     ]
    }
   ],
   "source": [
    "X_train, X_test, y_train, y_test = train_test_split(X, y, random_state=0)\n",
    "lr = LinearRegression().fit(X_train, y_train)\n",
    "\n",
    "print(\"Training set score: {:.2f}\".format(lr.score(X_train, y_train)))\n",
    "print(\"Test set score: {:.2f}\".format(lr.score(X_test, y_test)))"
   ]
  },
  {
   "cell_type": "code",
   "execution_count": 9,
   "metadata": {},
   "outputs": [
    {
     "name": "stdout",
     "output_type": "stream",
     "text": [
      "[ 2.31  7.07  7.07  2.18  2.18  2.18  7.87  7.87  7.87  7.87  7.87  7.87\n",
      "  7.87  8.14  8.14  8.14  8.14  8.14  8.14  8.14  8.14  8.14  8.14  8.14\n",
      "  8.14  8.14  8.14  8.14  8.14  8.14  8.14  8.14  8.14  8.14  8.14  5.96\n",
      "  5.96  5.96  5.96  2.95  2.95  6.91  6.91  6.91  6.91  6.91  6.91  6.91\n",
      "  6.91  6.91  5.64  5.64  5.64  5.64  4.    1.22  0.74  1.32  5.13  5.13\n",
      "  5.13  5.13  5.13  5.13  1.38  3.37  3.37  6.07  6.07  6.07 10.81 10.81\n",
      " 10.81 10.81 12.83 12.83 12.83 12.83 12.83 12.83  4.86  4.86  4.86  4.86\n",
      "  4.49  4.49  4.49  4.49  3.41  3.41  3.41  3.41 15.04 15.04 15.04  2.89\n",
      "  2.89  2.89  2.89  2.89  8.56  8.56  8.56  8.56  8.56  8.56  8.56  8.56\n",
      "  8.56  8.56  8.56 10.01 10.01 10.01 10.01 10.01 10.01 10.01 10.01 10.01\n",
      " 25.65 25.65 25.65 25.65 25.65 25.65 25.65 21.89 21.89 21.89 21.89 21.89\n",
      " 21.89 21.89 21.89 21.89 21.89 21.89 21.89 21.89 21.89 21.89 19.58 19.58\n",
      " 19.58 19.58 19.58 19.58 19.58 19.58 19.58 19.58 19.58 19.58 19.58 19.58\n",
      " 19.58 19.58 19.58 19.58 19.58 19.58 19.58 19.58 19.58 19.58 19.58 19.58\n",
      " 19.58 19.58 19.58 19.58  4.05  4.05  4.05  4.05  4.05  4.05  4.05  2.46\n",
      "  2.46  2.46  2.46  2.46  2.46  2.46  2.46  3.44  3.44  3.44  3.44  3.44\n",
      "  3.44  2.93  2.93  0.46  1.52  1.52  1.52  1.47  1.47  2.03  2.03  2.68\n",
      "  2.68 10.59 10.59 10.59 10.59 10.59 10.59 10.59 10.59 10.59 10.59 10.59\n",
      " 13.89 13.89 13.89 13.89  6.2   6.2   6.2   6.2   6.2   6.2   6.2   6.2\n",
      "  6.2   6.2   6.2   6.2   6.2   6.2   6.2   6.2   6.2   6.2   4.93  4.93\n",
      "  4.93  4.93  4.93  4.93  5.86  5.86  5.86  5.86  5.86  5.86  5.86  5.86\n",
      "  5.86  5.86  3.64  3.64  3.75  3.97  3.97  3.97  3.97  3.97  3.97  3.97\n",
      "  3.97  3.97  3.97  3.97  3.97  6.96  6.96  6.96  6.96  6.96  6.41  6.41\n",
      "  6.41  6.41  6.41  3.33  3.33  3.33  3.33  1.21  2.97  2.25  1.76  5.32\n",
      "  5.32  5.32  4.95  4.95  4.95 13.92 13.92 13.92 13.92 13.92  2.24  2.24\n",
      "  2.24  6.09  6.09  6.09  2.18  2.18  2.18  2.18  9.9   9.9   9.9   9.9\n",
      "  9.9   9.9   9.9   9.9   9.9   9.9   9.9   9.9   7.38  7.38  7.38  7.38\n",
      "  7.38  7.38  7.38  7.38  3.24  3.24  3.24  6.06  6.06  5.19  5.19  5.19\n",
      "  5.19  5.19  5.19  5.19  5.19  1.52  1.89  3.78  3.78  4.39  4.39  4.15\n",
      "  2.01  1.25  1.25  1.69  1.69  2.02  1.91  1.91 18.1  18.1  18.1  18.1\n",
      " 18.1  18.1  18.1  18.1  18.1  18.1  18.1  18.1  18.1  18.1  18.1  18.1\n",
      " 18.1  18.1  18.1  18.1  18.1  18.1  18.1  18.1  18.1  18.1  18.1  18.1\n",
      " 18.1  18.1  18.1  18.1  18.1  18.1  18.1  18.1  18.1  18.1  18.1  18.1\n",
      " 18.1  18.1  18.1  18.1  18.1  18.1  18.1  18.1  18.1  18.1  18.1  18.1\n",
      " 18.1  18.1  18.1  18.1  18.1  18.1  18.1  18.1  18.1  18.1  18.1  18.1\n",
      " 18.1  18.1  18.1  18.1  18.1  18.1  18.1  18.1  18.1  18.1  18.1  18.1\n",
      " 18.1  18.1  18.1  18.1  18.1  18.1  18.1  18.1  18.1  18.1  18.1  18.1\n",
      " 18.1  18.1  18.1  18.1  18.1  18.1  18.1  18.1  18.1  18.1  18.1  18.1\n",
      " 18.1  18.1  18.1  18.1  18.1  18.1  18.1  18.1  18.1  18.1  18.1  18.1\n",
      " 18.1  18.1  18.1  18.1  18.1  18.1  18.1  18.1  18.1  18.1  18.1  18.1\n",
      " 18.1  18.1  18.1  18.1  18.1  18.1  18.1  18.1  27.74 27.74 27.74 27.74\n",
      " 27.74  9.69  9.69  9.69  9.69  9.69  9.69  9.69  9.69 11.93 11.93 11.93\n",
      " 11.93 11.93]\n"
     ]
    }
   ],
   "source": [
    "print(boston.data[:,2])"
   ]
  },
  {
   "cell_type": "markdown",
   "metadata": {},
   "source": [
    "When comparing training set and test set scores, we find that we predict very accurately for the training set, but the $R^{2}$ on the test set is much worse. This is a common problem of high *variance* models: They overfit too tightly on the training data, hence do not generalize well to the test data. We should try to find a model that allows us to control its complexity. One of the most commonly used alternatives to standard linear regression is **ridge regression**.\n",
    "\n",
    "Let's plot the coefficient magnitudes for the linear regression method:"
   ]
  },
  {
   "cell_type": "code",
   "execution_count": 10,
   "metadata": {},
   "outputs": [
    {
     "data": {
      "text/plain": [
       "<matplotlib.legend.Legend at 0x250d3863f98>"
      ]
     },
     "execution_count": 10,
     "metadata": {},
     "output_type": "execute_result"
    },
    {
     "data": {
      "image/png": "[encoded data removed]",
      "text/plain": [
       "<matplotlib.figure.Figure at 0x250d246eb00>"
      ]
     },
     "metadata": {},
     "output_type": "display_data"
    }
   ],
   "source": [
    "plt.plot(lr.coef_, 'bo', label=\"LinearRegression\")\n",
    "plt.style.use('ggplot')\n",
    "plt.xlabel(\"Coefficient index\")\n",
    "plt.ylabel(\"Coefficient magnitude\")\n",
    "plt.hlines(0, 0, len(lr.coef_))\n",
    "#plt.ylim(-25, 25)\n",
    "plt.legend(bbox_to_anchor=(1.3, 1), loc='upper right')"
   ]
  },
  {
   "cell_type": "code",
   "execution_count": 11,
   "metadata": {},
   "outputs": [
    {
     "name": "stdout",
     "output_type": "stream",
     "text": [
      "Minimum COEF=-2246.003057593477\n",
      "Maximum COEF=2895.0539118819393\n"
     ]
    }
   ],
   "source": [
    "print(\"Minimum COEF={0}\\nMaximum COEF={1}\".format(min(lr.coef_),max(lr.coef_)))"
   ]
  },
  {
   "cell_type": "markdown",
   "metadata": {},
   "source": [
    "These coefficient magnitudes tell us one thing: The higher their magnitudes (positive or negative regardless), the more likely they are to overfit the data tightly, going thru every single point in the data. Use this simple example for intuition: Let's say we have a function of equation $y = a_1x_1 + a_2x_2 + a_3x_3$, we will have a nice cubic function if all coefficients $a_1$, $a_2$ and $a_3$ are all big numbers. However, if we make some of these coefficients as close as possible to zero, or even zero, the complexity of the function decreases. If $a_1=2, a_2=1$ and $a_3=0$, the function becomes a quadratic line. Hence, we can say each feature has little effect on the outcome when the function slopes are small. This is how regularization works."
   ]
  },
  {
   "cell_type": "code",
   "execution_count": 12,
   "metadata": {},
   "outputs": [
    {
     "data": {
      "image/png": "[encoded data removed]",
      "text/plain": [
       "<matplotlib.figure.Figure at 0x250d246e908>"
      ]
     },
     "metadata": {},
     "output_type": "display_data"
    }
   ],
   "source": [
    "a = [[4,6,4], [1,2,1], [4,6,0], [1,0,0]]  #coefficients\n",
    "x = np.linspace(-20, 20, 100)\n",
    "plotstyle = ['r-', 'b-', 'g-', 'k-']\n",
    "for p in range(0, 4):\n",
    "    y = a[p][0]*x + a[p][1]*x**2 + a[p][2]*x**3    # function\n",
    "    plt.plot(x, y, plotstyle[p])\n",
    "plt.show()"
   ]
  },
  {
   "cell_type": "markdown",
   "metadata": {},
   "source": [
    "Ok, let's get ridge regression working"
   ]
  },
  {
   "cell_type": "code",
   "execution_count": 13,
   "metadata": {},
   "outputs": [
    {
     "name": "stdout",
     "output_type": "stream",
     "text": [
      "Training set score: 0.89\n",
      "Test set score: 0.75\n"
     ]
    }
   ],
   "source": [
    "from sklearn.linear_model import Ridge\n",
    "\n",
    "ridge = Ridge().fit(X_train, y_train)\n",
    "\n",
    "print(\"Training set score: {:.2f}\".format(ridge.score(X_train, y_train)))\n",
    "print(\"Test set score: {:.2f}\".format(ridge.score(X_test, y_test)))"
   ]
  },
  {
   "cell_type": "markdown",
   "metadata": {},
   "source": [
    "Here, we see that the test set is already improving (earlier was 0.61), but at the expense of a lower training accuracy as well. A less complex model means training set will not fit ideally, but generalization performance is much better now. \n",
    "\n",
    "How much importance the model places on simplicity versus training set performance can be controlled by the `alpha` parameter.\n",
    "The `alpha` regularization parameter (in some other references, $\\lambda$ is used) controls a trade off between our two goals: 1) to fit the training set well, 2) to coefficients small\n",
    "\n",
    "`alpha` defaults to 1.0 in this function, but it can be a few orders of magnitude smaller (like 0.01) or bigger (like 1000). The optimum setting of `alpha` depends on the particular dataset you are using. Try a few different alpha values..."
   ]
  },
  {
   "cell_type": "code",
   "execution_count": 14,
   "metadata": {},
   "outputs": [
    {
     "name": "stdout",
     "output_type": "stream",
     "text": [
      "alpha: 0.01\n",
      "Training set score: 0.94\n",
      "Test set score: 0.70\n",
      "\n",
      "alpha: 0.1\n",
      "Training set score: 0.93\n",
      "Test set score: 0.77\n",
      "\n",
      "alpha: 0.5\n",
      "Training set score: 0.90\n",
      "Test set score: 0.77\n",
      "\n",
      "alpha: 1\n",
      "Training set score: 0.89\n",
      "Test set score: 0.75\n",
      "\n",
      "alpha: 10\n",
      "Training set score: 0.79\n",
      "Test set score: 0.64\n"
     ]
    }
   ],
   "source": [
    "ridge001 = Ridge(alpha=0.01).fit(X_train, y_train)\n",
    "print(\"alpha: 0.01\")\n",
    "print(\"Training set score: {:.2f}\".format(ridge001.score(X_train, y_train)))\n",
    "print(\"Test set score: {:.2f}\".format(ridge001.score(X_test, y_test)))\n",
    "\n",
    "ridge01 = Ridge(alpha=0.1).fit(X_train, y_train)\n",
    "print(\"\\nalpha: 0.1\")\n",
    "print(\"Training set score: {:.2f}\".format(ridge01.score(X_train, y_train)))\n",
    "print(\"Test set score: {:.2f}\".format(ridge01.score(X_test, y_test)))\n",
    "\n",
    "ridge05 = Ridge(alpha=0.5).fit(X_train, y_train)\n",
    "print(\"\\nalpha: 0.5\")\n",
    "print(\"Training set score: {:.2f}\".format(ridge05.score(X_train, y_train)))\n",
    "print(\"Test set score: {:.2f}\".format(ridge05.score(X_test, y_test)))\n",
    "\n",
    "ridge1 = Ridge(alpha=1).fit(X_train, y_train)\n",
    "print(\"\\nalpha: 1\")\n",
    "print(\"Training set score: {:.2f}\".format(ridge1.score(X_train, y_train)))\n",
    "print(\"Test set score: {:.2f}\".format(ridge1.score(X_test, y_test)))\n",
    "\n",
    "ridge10 = Ridge(alpha=10).fit(X_train, y_train)\n",
    "print(\"\\nalpha: 10\")\n",
    "print(\"Training set score: {:.2f}\".format(ridge10.score(X_train, y_train)))\n",
    "print(\"Test set score: {:.2f}\".format(ridge10.score(X_test, y_test)))"
   ]
  },
  {
   "cell_type": "markdown",
   "metadata": {},
   "source": [
    "We can get some qualitative insights into the coefficients, by checking out the spread of coefficient values for the different alpha settings for ridge regression, and also linear regression. We expect higher `alpha` values to create a more restricted and \"regularized\" model, so we expect the coefficients to be very close to zero. "
   ]
  },
  {
   "cell_type": "code",
   "execution_count": 15,
   "metadata": {},
   "outputs": [
    {
     "data": {
      "image/png": "[encoded data removed]",
      "text/plain": [
       "<matplotlib.figure.Figure at 0x250d38d9780>"
      ]
     },
     "metadata": {},
     "output_type": "display_data"
    }
   ],
   "source": [
    "plt.plot(ridge.coef_, 'gs', label=\"Ridge alpha=1\")\n",
    "plt.plot(ridge10.coef_, 'r^', label=\"Ridge alpha=10\")\n",
    "plt.plot(ridge01.coef_, 'bv', label=\"Ridge alpha=0.1\")\n",
    "plt.plot(lr.coef_, 'co', label=\"LinearRegression\")\n",
    "plt.xlabel(\"Coefficient index\")\n",
    "plt.ylabel(\"Coefficient magnitude\")\n",
    "plt.hlines(0, 0, len(lr.coef_))\n",
    "plt.ylim(-25, 25)\n",
    "plt.legend(bbox_to_anchor=(1.3, 1), loc='upper right')\n",
    "plt.show()"
   ]
  },
  {
   "cell_type": "markdown",
   "metadata": {},
   "source": [
    "Another plot that could interest us in finding out what's the best `alpha` value is to plot a graph of accuracy (of training and test sets) as a function of the `alpha` value. To give you a hint of what `alpha` values are appropriate to be used, try using numbers in orders of magnitude. A log10 scale is needed on the horizontal axis."
   ]
  },
  {
   "cell_type": "code",
   "execution_count": 16,
   "metadata": {},
   "outputs": [
    {
     "data": {
      "image/png": "[encoded data removed]",
      "text/plain": [
       "<matplotlib.figure.Figure at 0x250d39c76a0>"
      ]
     },
     "metadata": {},
     "output_type": "display_data"
    }
   ],
   "source": [
    "alpha = [-5, -4, -3, -2, -1, 0, 1, 2, 3, 4, 5]\n",
    "train_acc = []\n",
    "test_acc = []\n",
    "for a in range(0, len(alpha)):\n",
    "    ridge_reg = Ridge(alpha=10**alpha[a]).fit(X_train, y_train)\n",
    "    train_acc.append(ridge_reg.score(X_train, y_train))\n",
    "    test_acc.append(ridge_reg.score(X_test, y_test))\n",
    "plt.semilogx([10**a for a in alpha], train_acc, 'b--')\n",
    "plt.semilogx([10**a for a in alpha], test_acc, 'r-')\n",
    "plt.xlabel(r'$\\alpha$')\n",
    "plt.ylabel('Accuracy')\n",
    "plt.text(0.00002, 0.91, 'train')  # annotate some text\n",
    "plt.text(0.00002, 0.57, 'test')   # annotate some text\n",
    "plt.show()"
   ]
  },
  {
   "cell_type": "markdown",
   "metadata": {},
   "source": [
    "What does this plot tell us?"
   ]
  },
  {
   "cell_type": "markdown",
   "metadata": {},
   "source": [
    "**Q1**: Another way of understanding the influence of regularization on a ML model is to fix the value of `alpha` but vary the amount of training data available. This kind of plot, also known as a *learning curve*, tells us how the model perform as a function of the dataset size. It helps us understand the scalability of your model, and also to check on bias/variance errors.  "
   ]
  },
  {
   "cell_type": "code",
   "execution_count": 17,
   "metadata": {},
   "outputs": [],
   "source": [
    "sizes = np.arange(0.1,1.0,0.1)\n",
    "train_acc1 = []\n",
    "test_acc1 = []\n",
    "y = boston.target\n",
    "for n in sizes:\n",
    "#    print(\"\\nThe n value is: \", n)\n",
    "    X_train, X_test, y_train, y_test = train_test_split(X, \n",
    "                                                        y, \n",
    "                                                        test_size = n, \n",
    "                                                        random_state=42)\n",
    "    ridge01 = Ridge(alpha=0.1).fit(X_train, y_train)\n",
    "    train_acc1.append(ridge01.score(X_train, y_train))\n",
    "    test_acc1.append(ridge01.score(X_test, y_test))\n",
    "#     print(\"The training size is: \", n)\n",
    "#     print(\"Training set score: {:.2f}\".format(ridge01.score(X_train, y_train)))\n",
    "#     print(\"Test set score: {:.2f}\".format(ridge01.score(X_test, y_test)))"
   ]
  },
  {
   "cell_type": "code",
   "execution_count": 18,
   "metadata": {},
   "outputs": [
    {
     "data": {
      "text/plain": [
       "[<matplotlib.lines.Line2D at 0x250d39c7eb8>]"
      ]
     },
     "execution_count": 18,
     "metadata": {},
     "output_type": "execute_result"
    },
    {
     "data": {
      "image/png": "[encoded data removed]",
      "text/plain": [
       "<matplotlib.figure.Figure at 0x250d39c7198>"
      ]
     },
     "metadata": {},
     "output_type": "display_data"
    }
   ],
   "source": [
    "plt.plot(sizes, train_acc1, 'b--')\n",
    "plt.plot(sizes, test_acc1, 'r-')"
   ]
  },
  {
   "cell_type": "markdown",
   "metadata": {},
   "source": [
    "**Q2**: Use cross validation instead of training-test splits to get a better perspective of the model's performance vs. `alpha` parameter values. "
   ]
  },
  {
   "cell_type": "code",
   "execution_count": 19,
   "metadata": {},
   "outputs": [
    {
     "data": {
      "text/plain": [
       "array([0.686244  , 0.62492624, 0.51782251])"
      ]
     },
     "execution_count": 19,
     "metadata": {},
     "output_type": "execute_result"
    }
   ],
   "source": [
    "from sklearn.model_selection import cross_val_score\n",
    "\n",
    "model = Ridge(alpha=18)\n",
    "scores = cross_val_score(model, \n",
    "                         boston.data[0:200,:], \n",
    "                         boston.target[0:200], \n",
    "                         cv=3)   #3-fold!\n",
    "scores"
   ]
  },
  {
   "cell_type": "markdown",
   "metadata": {},
   "source": [
    "### B. Lasso Regression\n",
    "\n",
    "An alternative to the Ridge Regression is **Lasso Regression**. Likewise, this method also restricts coefficients to close to zero, but in a slightly different way, called L1-regularization (or \"$\\ell$-1 regularization\" like how we denote earlier for Ridge Regression). The consequence of L1-regularization is that when using the lasso, some coefficients are exactly zero. This means some features are entirely ignored by the model. This can be seen as a form of automatic feature selection. Having some coefficients be exactly zero often makes a model easier to interpret, and can reveal the most important features of your model. "
   ]
  },
  {
   "cell_type": "code",
   "execution_count": 20,
   "metadata": {},
   "outputs": [
    {
     "name": "stdout",
     "output_type": "stream",
     "text": [
      "\n",
      "The original Number of features:  104\n",
      "Training set score: 0.08\n",
      "Test set score: 0.08\n",
      "Number of features used: 1\n"
     ]
    }
   ],
   "source": [
    "from sklearn.linear_model import Lasso\n",
    "print(\"\\nThe original Number of features: \",X_train.shape[1])\n",
    "lasso = Lasso(alpha=1).fit(X_train, y_train)\n",
    "print(\"Training set score: {:.2f}\".format(lasso.score(X_train, y_train)))\n",
    "print(\"Test set score: {:.2f}\".format(lasso.score(X_test, y_test)))\n",
    "print(\"Number of features used: {}\".format(np.sum(lasso.coef_ != 0)))"
   ]
  },
  {
   "cell_type": "markdown",
   "metadata": {},
   "source": [
    "But this looks like Lasso is doing quite badly on both training and test sets! This could mean that we are *underfitting*, and that only 1 features (out of 104) are non-zero and are contributing to the model. Similar to Ridge, Lasso also has a regularization parameter, `alpha`, that controls how strongly coefficients are pushed toward zero. In the previous example, we used the default of `alpha=1.0`. To reduce underfitting, let’s try decreasing `alpha`. When we do this, we also need to increase the default setting of `max_iter` (the maximum number of iterations to run)."
   ]
  },
  {
   "cell_type": "code",
   "execution_count": 21,
   "metadata": {},
   "outputs": [
    {
     "name": "stdout",
     "output_type": "stream",
     "text": [
      "Training set score: 0.86\n",
      "Test set score: 0.72\n",
      "Number of features used: 16\n"
     ]
    }
   ],
   "source": [
    "lasso001 = Lasso(alpha=0.03, max_iter=100000).fit(X_train, y_train)\n",
    "\n",
    "print(\"Training set score: {:.2f}\".format(lasso001.score(X_train, y_train)))\n",
    "print(\"Test set score: {:.2f}\".format(lasso001.score(X_test, y_test)))\n",
    "print(\"Number of features used: {}\".format(np.sum(lasso001.coef_ != 0)))"
   ]
  },
  {
   "cell_type": "markdown",
   "metadata": {},
   "source": [
    "A lower `alpha` allowed us to fit a more complex model, which works out quite well on the training and test data. The performance is slightly better than the Ridge in fact, and we are only using 16\n",
    "out of the 104 features. If we set `alpha` too low, however, we again remove the effect of regularization and end up overfitting, with a result similar to Linear Regression."
   ]
  },
  {
   "cell_type": "code",
   "execution_count": 22,
   "metadata": {
    "scrolled": true
   },
   "outputs": [
    {
     "name": "stdout",
     "output_type": "stream",
     "text": [
      "Training set score: 0.95\n",
      "Test set score: 0.36\n",
      "Number of features used: 25\n"
     ]
    }
   ],
   "source": [
    "lasso00001 = Lasso(alpha=0.01, max_iter=1000000).fit(X_train, y_train)\n",
    "\n",
    "print(\"Training set score: {:.2f}\".format(lasso00001.score(X_train, y_train)))\n",
    "print(\"Test set score: {:.2f}\".format(lasso00001.score(X_test, y_test)))\n",
    "print(\"Number of features used: {}\".format(np.sum(lasso00001.coef_ != 0)))"
   ]
  },
  {
   "cell_type": "markdown",
   "metadata": {
    "collapsed": true
   },
   "source": [
    "**Q3**: To verify that L1-regularization indeed results in coefficients that are zero value, generate again the coefficient magnitude plot to see the spread of the coefficients with different `alpha` values. Try $\\alpha=[1, 0.01, 0.0001]$. Observe closely the number of zero value coefficients for the different `alpha` values. You may also compare with Ridge Regression and Linear Regression."
   ]
  },
  {
   "cell_type": "code",
   "execution_count": 23,
   "metadata": {},
   "outputs": [
    {
     "name": "stdout",
     "output_type": "stream",
     "text": [
      "Training set score: 0.08\n",
      "Test set score: 0.08\n",
      "Number of features used: 1\n"
     ]
    },
    {
     "data": {
      "image/png": "[encoded data removed]",
      "text/plain": [
       "<matplotlib.figure.Figure at 0x250d38d9198>"
      ]
     },
     "metadata": {},
     "output_type": "display_data"
    },
    {
     "name": "stdout",
     "output_type": "stream",
     "text": [
      "Training set score: 0.95\n",
      "Test set score: 0.36\n",
      "Number of features used: 25\n"
     ]
    },
    {
     "data": {
      "image/png": "[encoded data removed]",
      "text/plain": [
       "<matplotlib.figure.Figure at 0x250d38f87b8>"
      ]
     },
     "metadata": {},
     "output_type": "display_data"
    },
    {
     "name": "stdout",
     "output_type": "stream",
     "text": [
      "Training set score: 1.00\n",
      "Test set score: -1.05\n",
      "Number of features used: 45\n"
     ]
    },
    {
     "data": {
      "image/png": "[encoded data removed]",
      "text/plain": [
       "<matplotlib.figure.Figure at 0x250d3b1f780>"
      ]
     },
     "metadata": {},
     "output_type": "display_data"
    }
   ],
   "source": [
    "for alpha in (1.0, 0.01, 0.0001):\n",
    "    lasso = Lasso(alpha, max_iter=1000000).fit(X_train, y_train)\n",
    "    print(\"Training set score: {:.2f}\".format(lasso.score(X_train, y_train)))\n",
    "    print(\"Test set score: {:.2f}\".format(lasso.score(X_test, y_test)))\n",
    "    print(\"Number of features used: {}\".format(np.sum(lasso.coef_ != 0)))\n",
    "\n",
    "    plt.plot(lasso.coef_, 'gs', label=\"lasso alpha=1.0\")\n",
    "    plt.plot(lasso.coef_, 'r^', label=\"lasso alpha=0.01\")\n",
    "    plt.plot(lasso.coef_, 'bv', label=\"lasso alpha=0.0001\")\n",
    "    plt.plot(lr.coef_, 'co', label=\"LinearRegression\")\n",
    "    plt.xlabel(\"Coefficient index\")\n",
    "    plt.ylabel(\"Coefficient magnitude\")\n",
    "    plt.hlines(0, 0, len(lr.coef_))\n",
    "    plt.ylim(-25, 25)\n",
    "    plt.legend(bbox_to_anchor=(1.3, 1), loc='upper right')\n",
    "    plt.show()"
   ]
  },
  {
   "cell_type": "markdown",
   "metadata": {},
   "source": [
    "**Practical tips**: In practice, ridge regression is usually the first choice between these two models. However, if you have a large amount of features and expect only a few of them to be important, Lasso might be a better choice. Similarly, if you would like to have a model that is easy to interpret, Lasso will provide a model that is easier to understand, as it will select only a subset of the input features. scikit-learn also provides the *ElasticNet* class, which combines the penalties of Lasso and Ridge. In practice, this combination works best, though at the price of having two parameters to adjust: one for the L1 regularization, and one for the L2 regularization."
   ]
  },
  {
   "cell_type": "markdown",
   "metadata": {},
   "source": [
    "### Revisiting Logistic Regression\n",
    "\n",
    "Similar when we look at classification problems, a model that is overfitting the training data can also be regularized in the same way. The only difference between classification and regression tasks, is in the cost function. Both Logistic Regression and Support Vector Machines (SVM) models can apply an L2-regularization, in the same way how Ridge does for regression. \n",
    "\n",
    "\n",
    "#### The C parameter\n",
    "\n",
    "For scikit-learn library's `LogisticRegression` and `LinearSVC`, the trade-off parameter that determines the strength of the regularization is called `C`. The higher `C` values correspond to less regularization (model tries to fit training set the best possible), while lower `C` values correspond to more regularization (model tries to find coefficient vector *w* that is close to zero). \n",
    "\n",
    "There is an interesting aspect to how the parameter `C` acts. Using low values of `C` will cause the algorithms to try to adjust to the \"majority\" of data points, while using a higher value of `C` stresses the importance that each individual data point be classified correctly. The following plots show what's happening:\n",
    "\n",
    "![](resources/regularization-boundaries.png)\n",
    "\n",
    "Here, keep in mind the data in its original distribution, and think of what should be the best boundary to split the classes. It is likely to be the space in between the upper and lower groups of data. Here, with `C=0.01`, the model regularizes a lot, choosing a relatively horizontal line (imagine: small slope, small coefficient values). A more balance option would be `C=1.0` which gives a good \"buffer zone\" between the two groups. We can say this gives a good tolerance margin for error. The final example of `C=100` changes the decision boundary a lot more; this time it still misclassifies one of the red points, but have got all blue points correct (training accuracy higher). This decision boundary is way too tight, and it will potentially cause a high test error if many new red points start falling to the blue side and vice versa. It does not capture the overall layout of the classes well.\n",
    "\n",
    "In high dimensions, guarding against overfitting becomes increasingly important when more features are to be considered.\n",
    "\n",
    "Let's analyse the Breast Cancer data using `LogisticRegression` with regularization:"
   ]
  },
  {
   "cell_type": "code",
   "execution_count": 24,
   "metadata": {},
   "outputs": [
    {
     "name": "stdout",
     "output_type": "stream",
     "text": [
      "Training set score: 0.955\n",
      "Test set score: 0.958\n"
     ]
    }
   ],
   "source": [
    "from sklearn.datasets import load_breast_cancer\n",
    "\n",
    "cancer = load_breast_cancer()\n",
    "\n",
    "X_train, X_test, y_train, y_test = train_test_split(cancer.data, \n",
    "                                                    cancer.target, \n",
    "                                                    stratify=cancer.target, \n",
    "                                                    random_state=42)\n",
    "\n",
    "logreg = LogisticRegression().fit(X_train, y_train) # The c is somewhere here. How to find?\n",
    "\n",
    "print(\"Training set score: {:.3f}\".format(logreg.score(X_train, y_train)))\n",
    "print(\"Test set score: {:.3f}\".format(logreg.score(X_test, y_test)))"
   ]
  },
  {
   "cell_type": "markdown",
   "metadata": {},
   "source": [
    "Default value: `C=1` provides quite good performance already (lucky?). But as training and test set performance are very close, perhaps, there is potentil for the scores to be higher (therefore, we make some guess that it might be underfitting slightly still, bias is still high). We try increasing `C` to fit a more flexible model:"
   ]
  },
  {
   "cell_type": "code",
   "execution_count": 25,
   "metadata": {},
   "outputs": [
    {
     "name": "stdout",
     "output_type": "stream",
     "text": [
      "Training set score: 0.972\n",
      "Test set score: 0.965\n"
     ]
    }
   ],
   "source": [
    "logreg100 = LogisticRegression(C=100).fit(X_train, y_train)\n",
    "print(\"Training set score: {:.3f}\".format(logreg100.score(X_train, y_train)))\n",
    "print(\"Test set score: {:.3f}\".format(logreg100.score(X_test, y_test)))"
   ]
  },
  {
   "cell_type": "markdown",
   "metadata": {},
   "source": [
    "Ok, there's some increase now. Test set score is higher. Notice that variance error is creeping in (look at the gap between training and test scores, compared to that earlier). How about `C=0.01`..."
   ]
  },
  {
   "cell_type": "code",
   "execution_count": 26,
   "metadata": {},
   "outputs": [
    {
     "name": "stdout",
     "output_type": "stream",
     "text": [
      "Training set score: 0.934\n",
      "Test set score: 0.930\n"
     ]
    }
   ],
   "source": [
    "logreg001 = LogisticRegression(C=0.01).fit(X_train, y_train)\n",
    "print(\"Training set score: {:.3f}\".format(logreg001.score(X_train, y_train)))\n",
    "print(\"Test set score: {:.3f}\".format(logreg001.score(X_test, y_test)))"
   ]
  },
  {
   "cell_type": "code",
   "execution_count": 27,
   "metadata": {},
   "outputs": [
    {
     "name": "stdout",
     "output_type": "stream",
     "text": [
      "Training set score: 0.934\n",
      "Test set score: 0.930\n"
     ]
    }
   ],
   "source": [
    "logreg1000 = LogisticRegression(C=1000).fit(X_train, y_train)\n",
    "print(\"Training set score: {:.3f}\".format(logreg001.score(X_train, y_train)))\n",
    "print(\"Test set score: {:.3f}\".format(logreg001.score(X_test, y_test)))"
   ]
  },
  {
   "cell_type": "markdown",
   "metadata": {},
   "source": [
    "This is clearly underfitting, scores are all down.\n",
    "\n",
    "Let's plot the coefficient magnitude plot again."
   ]
  },
  {
   "cell_type": "code",
   "execution_count": 28,
   "metadata": {},
   "outputs": [
    {
     "data": {
      "image/png": "[encoded data removed]",
      "text/plain": [
       "<matplotlib.figure.Figure at 0x250d3987630>"
      ]
     },
     "metadata": {},
     "output_type": "display_data"
    }
   ],
   "source": [
    "plt.plot(logreg.coef_.T, 'bo', label=\"C=1\")\n",
    "plt.plot(logreg100.coef_.T, 'r^', label=\"C=100\")\n",
    "plt.plot(logreg001.coef_.T, 'gv', label=\"C=0.01\")\n",
    "plt.xticks(range(cancer.data.shape[1]), cancer.feature_names, rotation=90)\n",
    "plt.hlines(0, 0, cancer.data.shape[1])\n",
    "plt.ylim(-5, 5)\n",
    "plt.xlabel(\"Coefficient index\")\n",
    "plt.ylabel(\"Coefficient magnitude\")\n",
    "plt.legend()\n",
    "plt.show()"
   ]
  },
  {
   "cell_type": "markdown",
   "metadata": {},
   "source": [
    "If we desire a more interpretable model, using L1 regularization might help, as it limits\n",
    "the model to using only a few features. Here is the coefficient plot and classification\n",
    "accuracies for L1 regularization"
   ]
  },
  {
   "cell_type": "code",
   "execution_count": 29,
   "metadata": {},
   "outputs": [
    {
     "name": "stdout",
     "output_type": "stream",
     "text": [
      "Training accuracy of l1 logreg with C=0.001: 0.91\n",
      "Test accuracy of l1 logreg with C=0.001: 0.92\n",
      "Training accuracy of l1 logreg with C=1.000: 0.96\n",
      "Test accuracy of l1 logreg with C=1.000: 0.96\n",
      "Training accuracy of l1 logreg with C=100.000: 0.99\n",
      "Test accuracy of l1 logreg with C=100.000: 0.98\n"
     ]
    },
    {
     "data": {
      "image/png": "[encoded data removed]",
      "text/plain": [
       "<matplotlib.figure.Figure at 0x250d3c58208>"
      ]
     },
     "metadata": {},
     "output_type": "display_data"
    }
   ],
   "source": [
    "for C, marker in zip([0.001, 1, 100], ['bo', 'r^', 'gv']):\n",
    "    lr_l1 = LogisticRegression(C=C, penalty=\"l1\").fit(X_train, y_train)\n",
    "    print(\"Training accuracy of l1 logreg with C={:.3f}: {:.2f}\".format(\n",
    "    C, lr_l1.score(X_train, y_train)))\n",
    "    print(\"Test accuracy of l1 logreg with C={:.3f}: {:.2f}\".format(\n",
    "    C, lr_l1.score(X_test, y_test)))\n",
    "    plt.plot(lr_l1.coef_.T, marker, label=\"C={:.3f}\".format(C))\n",
    "\n",
    "plt.xticks(range(cancer.data.shape[1]), cancer.feature_names, rotation=90)\n",
    "plt.hlines(0, 0, cancer.data.shape[1])\n",
    "plt.xlabel(\"Coefficient index\")\n",
    "plt.ylabel(\"Coefficient magnitude\")\n",
    "plt.ylim(-5, 5)\n",
    "plt.legend(loc=3)\n",
    "plt.show()"
   ]
  },
  {
   "cell_type": "markdown",
   "metadata": {},
   "source": [
    "**Q4**: Using `SVC` (Support Vector Classifier), find suitable values for the regularization parameter `C`. "
   ]
  },
  {
   "cell_type": "code",
   "execution_count": 30,
   "metadata": {},
   "outputs": [
    {
     "name": "stdout",
     "output_type": "stream",
     "text": [
      "Score: 0.96\n"
     ]
    }
   ],
   "source": [
    "#classification using SVC\n",
    "from sklearn.svm import SVC# for each combination of parameters, train an SVC\n",
    "svm = SVC(kernel='linear', C=0.1)\n",
    "svm.fit(X_train, y_train)\n",
    "# evaluate the SVC on the test set\n",
    "score = svm.score(X_test, y_test)    \n",
    "print(\"Score: {:.2f}\".format(score))"
   ]
  },
  {
   "cell_type": "markdown",
   "metadata": {},
   "source": [
    "### Extra: Early Stopping - After SVM\n",
    "\n",
    "A very different way of regularizing iterative learning algorithms such as Gradient Descent is to stop training as soon as the validation error reaches a minimum. This is called *early stopping*. This is where some form of \"regularization\" is done at the optimization algorithm end, instead of tuning hyperparameters.\n",
    "\n",
    "Typically, as the iterations go on in Gradient Descent, the prediction error (or also known as the loss) on the training set naturally goes down, and so is the loss of the test set. However, after a while the test error stops decreasing and actually starts to go back up. This indicates that the model has started to overfit the training data. With early stopping, we can stop training as soon as the *test error reaches the minimum*. It is such a simple and efficient regularization technique that Geoffrey Hinton called it a \"beautiful free lunch\". Basically, the problem with waiting it out (to the end of all iterations) is that it is likely that converging to zero (perfect) is almost impossible for most data out there. Why not stop earlier when the error is optimum? How do we know when the test error has reached its *minimum*?"
   ]
  },
  {
   "cell_type": "code",
   "execution_count": 31,
   "metadata": {},
   "outputs": [
    {
     "data": {
      "image/png": "[encoded data removed]",
      "text/plain": [
       "<matplotlib.figure.Figure at 0x250d3d24518>"
      ]
     },
     "metadata": {},
     "output_type": "display_data"
    },
    {
     "name": "stdout",
     "output_type": "stream",
     "text": [
      "best epoch=192\n"
     ]
    }
   ],
   "source": [
    "from sklearn.base import clone\n",
    "from sklearn.metrics import mean_squared_error\n",
    "import warnings\n",
    "warnings.filterwarnings('ignore')\n",
    "\n",
    "sgd_reg = LogisticRegression(max_iter=1, warm_start=True, solver='sag')\n",
    "minimum_test_error = float(\"inf\")\n",
    "best_epoch = None\n",
    "best_model = None\n",
    "test_error_all = []\n",
    "train_error_all = []\n",
    "for epoch in range(500):\n",
    "    sgd_reg.fit(X_train, y_train) # continues where it left off\n",
    "    y_train_predict = sgd_reg.predict(X_train)\n",
    "    y_test_predict = sgd_reg.predict(X_test)\n",
    "    train_error = mean_squared_error(y_train_predict, y_train)\n",
    "    test_error = mean_squared_error(y_test_predict, y_test)\n",
    "    train_error_all.append(train_error)\n",
    "    test_error_all.append(test_error)\n",
    "    if test_error < minimum_test_error:\n",
    "        minimum_test_error = test_error\n",
    "        best_epoch = epoch\n",
    "        best_model = clone(sgd_reg)\n",
    "\n",
    "    # How to implement early stopping in this loop??\n",
    "\n",
    "\n",
    "plt.figure(figsize=(16,6))\n",
    "plt.plot(range(500), train_error_all, 'r-')\n",
    "plt.plot(range(500), test_error_all, 'b-')\n",
    "plt.show()\n",
    "print(\"best epoch={}\".format(best_epoch))"
   ]
  },
  {
   "cell_type": "markdown",
   "metadata": {},
   "source": [
    "### Grid Search\n",
    "\n",
    "Now we want to improve the model's generalization performance by tuning its parameters. Finding the values of the important parameters of a model (the ones that provide the best generalization performance) is a tricky task, but necessary for almost all models and datasets. Because it is such a common task, there are standard methods in scikit-learn to help you with it. The most commonly used method is grid search, which basically means trying all possible combinations of the parameters of interest. Some look at this as a \"brute force search\" through all possible permutations of the parameters of interest, but at least there are functions in scikit-learn to make this easy to implement.\n",
    "\n",
    "Consider the case of a kernelized SVM with an RBF (radial basis function) kernel, as implemented in the `SVC` class. there are two important parameters: the kernel bandwidth, `gamma`, and the regularization parameter, `C`. Say we want to try the values 0.001, 0.01, 0.1, 1, 10, and 100 for the parameter `C`, and the same for `gamma`. Because we have six different settings for `C` and `gamma` that we want to try, we have 36 combinations of parameters in total. Looking at all possible combinations creates a table (or grid) of parameter settings for the SVM, as shown here:\n",
    "\n",
    "![](resources/gridsearchtable.png)\n",
    "\n",
    "#### Simple Grid Search\n",
    "\n",
    "We can implement a simple grid search just by going through loops over the two parameters, training and evaluating a classifier for each combination:"
   ]
  },
  {
   "cell_type": "code",
   "execution_count": 32,
   "metadata": {},
   "outputs": [
    {
     "name": "stdout",
     "output_type": "stream",
     "text": [
      "Size of training set: 426 size of test set: 143\n",
      "Best score: 0.94\n",
      "Best parameters: {'C': 100, 'gamma': 0.001}\n"
     ]
    }
   ],
   "source": [
    "# naive grid search implementation for SVM - example\n",
    "from sklearn.svm import SVC\n",
    "from sklearn.datasets import load_breast_cancer\n",
    "from sklearn.model_selection import train_test_split\n",
    "\n",
    "cancer = load_breast_cancer()\n",
    "\n",
    "X_train, X_test, y_train, y_test = train_test_split(cancer.data, cancer.target, random_state=1)\n",
    "print(\"Size of training set: {} size of test set: {}\".format(\n",
    "X_train.shape[0], X_test.shape[0]))\n",
    "best_score = 0\n",
    "\n",
    "for gamma in [0.001, 0.01, 0.1, 1, 10, 100]:\n",
    "    for C in [0.001, 0.01, 0.1, 1, 10, 100]:\n",
    "        # for each combination of parameters, train an SVC\n",
    "        svm = SVC(gamma=gamma, C=C)\n",
    "        svm.fit(X_train, y_train)\n",
    "    # evaluate the SVC on the test set\n",
    "    score = svm.score(X_test, y_test)\n",
    "\n",
    "    # if we got a better score, store the score and parameters\n",
    "    if score > best_score:\n",
    "        best_score = score\n",
    "        best_parameters = {'C': C, 'gamma': gamma}\n",
    "        \n",
    "print(\"Best score: {:.2f}\".format(best_score))\n",
    "print(\"Best parameters: {}\".format(best_parameters))"
   ]
  },
  {
   "cell_type": "code",
   "execution_count": null,
   "metadata": {},
   "outputs": [],
   "source": []
  },
  {
   "cell_type": "code",
   "execution_count": 33,
   "metadata": {},
   "outputs": [
    {
     "name": "stdout",
     "output_type": "stream",
     "text": [
      "Size of training set: 426 size of test set: 143\n",
      "Best score: 0.97\n",
      "Best parameters: {'C': 100, 'penalty': 'l1'}\n"
     ]
    }
   ],
   "source": [
    "# naive grid search implementation - for LogisticRegression\n",
    "\n",
    "from sklearn.linear_model import LogisticRegression\n",
    "from sklearn.datasets import load_breast_cancer\n",
    "from sklearn.model_selection import train_test_split\n",
    "\n",
    "cancer = load_breast_cancer()\n",
    "\n",
    "X_train, X_test, y_train, y_test = train_test_split(cancer.data, \n",
    "                                                    cancer.target, \n",
    "                                                    random_state=1)\n",
    "\n",
    "print(\"Size of training set: {} size of test set: {}\".format(\n",
    "X_train.shape[0], X_test.shape[0]))\n",
    "best_score = 0\n",
    "\n",
    "for penal in ['l1','l2']:\n",
    "    for C in [0.001, 0.01, 0.1, 1, 10, 100]:\n",
    "        logreg = LogisticRegression(C=C, penalty = penal)\n",
    "        logreg.fit(X_train, y_train)\n",
    "        score = logreg.score(X_test, y_test)\n",
    "        if score > best_score:\n",
    "            best_score = score\n",
    "            best_parameters = {'C': C, 'penalty':penal}\n",
    "        \n",
    "print(\"Best score: {:.2f}\".format(best_score))\n",
    "print(\"Best parameters: {}\".format(best_parameters))"
   ]
  },
  {
   "cell_type": "markdown",
   "metadata": {},
   "source": [
    "Given this result, we might be tempted to report that we found a model that performs with 94% (for SVM) and 97% (for LogisticRegression) accuracy on our dataset. However, this claim could be overly optimistic for the following reason: we tried many different parameters and selected the one with best accuracy on the test set, but this accuracy won’t necessarily carry over to new data. Because we used the test data to adjust the parameters, we can no longer use it to assess how good the model is. This is the same reason we needed to split the data into training and test sets in the first place; we need an independent \"3rd split\" to evaluate, one that was not used to create the model. \n",
    "\n",
    "One way to resolve this problem is to split the data again, so we have three sets: the *training set* to build the model, the *validation (or development) set* to select the parameters of the model, and the *test set* to evaluate the performance of the selected parameters.\n",
    "\n",
    "After selecting the best parameters using the validation set, we can rebuild a model using the parameter settings we found, but now training using samples from both the training data and the validation data. This way, we can use as much data as possible to build our model. This leads to the following implementation:"
   ]
  },
  {
   "cell_type": "code",
   "execution_count": 34,
   "metadata": {},
   "outputs": [
    {
     "name": "stdout",
     "output_type": "stream",
     "text": [
      "Size of training set: 319\n",
      "Size of validation set: 107\n",
      "Size of test set: 143\n",
      "\n",
      "Best score on validation set: 0.94\n",
      "Best parameters:  {'C': 1, 'gamma': 0.001}\n",
      "Test set score with best parameters: 0.93\n"
     ]
    }
   ],
   "source": [
    "# naive grid search implementation for SVM - example\n",
    "\n",
    "from sklearn.svm import SVC\n",
    "seed = 1\n",
    "\n",
    "# split data into train+validation set and test set\n",
    "X_trainval, X_test, y_trainval, y_test = train_test_split(cancer.data, \n",
    "                                                          cancer.target, \n",
    "                                                          random_state=0)\n",
    "\n",
    "# split train+validation set into training and validation sets\n",
    "X_train, X_valid, y_train, y_valid = train_test_split(X_trainval, \n",
    "                                                      y_trainval, \n",
    "                                                      random_state=1)\n",
    "print(\"Size of training set: {}\\nSize of validation set: {}\\nSize of test set:\"\n",
    "\" {}\\n\".format(X_train.shape[0], X_valid.shape[0], X_test.shape[0]))\n",
    "best_score = 0\n",
    "\n",
    "for gamma in [0.001, 0.01, 0.1, 1, 10, 100]:\n",
    "    for C in [0.001, 0.01, 0.1, 1, 10, 100]:\n",
    "        # for each combination of parameters, train an SVC\n",
    "        svm = SVC(gamma=gamma, C=C)\n",
    "        svm.fit(X_train, y_train)\n",
    "        # evaluate the SVC on the test set\n",
    "        score = svm.score(X_valid, y_valid)\n",
    "        # if we got a better score, store the score and parameters\n",
    "        if score > best_score:\n",
    "            best_score = score\n",
    "            best_parameters = {'C': C, 'gamma': gamma}\n",
    "\n",
    "# rebuild a model on the combined training and validation set, and evaluate it on the test set\n",
    "svm = SVC(**best_parameters)\n",
    "svm.fit(X_trainval, y_trainval)\n",
    "test_score = svm.score(X_test, y_test)\n",
    "print(\"Best score on validation set: {:.2f}\".format(best_score))\n",
    "print(\"Best parameters: \", best_parameters)\n",
    "print(\"Test set score with best parameters: {:.2f}\".format(test_score))"
   ]
  },
  {
   "cell_type": "code",
   "execution_count": 35,
   "metadata": {},
   "outputs": [
    {
     "name": "stdout",
     "output_type": "stream",
     "text": [
      "Size of training set: 319\n",
      "Size of validation set: 107\n",
      "Size of test set: 143\n",
      "\n",
      "Best score: 0.98\n",
      "Best parameters: {'C': 10, 'penalty': 'l1'}\n",
      "Test set score with best parameters: 0.96\n"
     ]
    }
   ],
   "source": [
    "# naive grid search implementation - for LogisticRegression\n",
    "\n",
    "cancer = load_breast_cancer()\n",
    "\n",
    "# split data into train+validation set and test set\n",
    "X_trainval, X_test, y_trainval, y_test = train_test_split(cancer.data, \n",
    "                                                          cancer.target, \n",
    "                                                          random_state=1)\n",
    "\n",
    "# split train+validation set into training and validation sets\n",
    "X_train, X_valid, y_train, y_valid = train_test_split(X_trainval, \n",
    "                                                      y_trainval, \n",
    "                                                      random_state=1)\n",
    "\n",
    "print(\"Size of training set: {}\\nSize of validation set: {}\\nSize of test set:\"\n",
    "      \" {}\\n\".format(X_train.shape[0], X_valid.shape[0], X_test.shape[0]))\n",
    "\n",
    "best_score = 0\n",
    "\n",
    "for penal in ['l1','l2']:\n",
    "    for C in [0.001, 0.01, 0.1, 1, 10, 100]:\n",
    "        logreg = LogisticRegression(C=C, penalty = penal)\n",
    "        logreg.fit(X_train, y_train)\n",
    "        score = logreg.score(X_valid, y_valid)\n",
    "        if score > best_score:\n",
    "            best_score = score\n",
    "            best_parameters = {'C': C, 'penalty':penal}\n",
    "\n",
    "            \n",
    "logreg = LogisticRegression(**best_parameters)\n",
    "logreg.fit(X_trainval, y_trainval)\n",
    "test_score = logreg.score(X_test, y_test)\n",
    "\n",
    "print(\"Best score: {:.2f}\".format(best_score))\n",
    "print(\"Best parameters: {}\".format(best_parameters))\n",
    "print(\"Test set score with best parameters: {:.2f}\".format(test_score))"
   ]
  },
  {
   "cell_type": "markdown",
   "metadata": {},
   "source": [
    "**Discuss**: What do we observe here?\n",
    "\n",
    "Basically, the distinction between the training set, validation set, and test set is fundamentally important when applying machine learning methods in practice. Any choices made based on the test set accuracy \"leak\" information from the test set into the model. Therefore, it is important to keep a separate test set, which is only used for the final evaluation.\n",
    "\n",
    "#### Grid Search with CV\n",
    "\n",
    "While the method of splitting the data into a training, a validation, and a test set that we just saw is workable and relatively commonly used, it is quite sensitive to *how* exactly the data is split. For a better estimate of the generalization performance, instead of using a single split into a training and a validation set, we can use cross-validation to evaluate the performance of each parameter combination. This actually eliminates the need to have a validation set."
   ]
  },
  {
   "cell_type": "code",
   "execution_count": 36,
   "metadata": {},
   "outputs": [
    {
     "name": "stdout",
     "output_type": "stream",
     "text": [
      "Test set score: 0.95\n"
     ]
    }
   ],
   "source": [
    "from sklearn.model_selection import cross_val_score\n",
    "best_score=0\n",
    "for gamma in [0.001, 0.01, 0.1, 1, 10, 100]:\n",
    "    for C in [0.001, 0.01, 0.1, 1, 10, 100]:\n",
    "        # for each combination of parameters,\n",
    "        # train an SVC\n",
    "        svm = SVC(gamma=gamma, C=C)\n",
    "        # perform cross-validation\n",
    "        scores = cross_val_score(svm, X_trainval, y_trainval, cv=50)\n",
    "        # compute mean cross-validation accuracy\n",
    "        score = np.mean(scores)\n",
    "        # if we got a better score, store the score and parameters\n",
    "        if score > best_score:\n",
    "            best_score = score\n",
    "            best_parameters = {'C': C, 'gamma': gamma}\n",
    "            # rebuild a model on the combined training and validation set\n",
    "svm = SVC(**best_parameters)\n",
    "svm.fit(X_trainval, y_trainval)\n",
    "print(\"Test set score: {:.2f}\".format(svm.score(X_test, y_test)))"
   ]
  },
  {
   "cell_type": "markdown",
   "metadata": {},
   "source": [
    "It took a little bit longer this time...Well, that's because to evaluate the accuracy of the SVM using a particular setting of `C` and `gamma` using five-fold cross-validation, we need to train 36 * 5 = 180 models. As you can imagine, the main downside of the use of cross-validation is the time it takes to train all these models.\n",
    "\n",
    "Because grid search with cross-validation is such a commonly used method to adjust parameters, scikit-learn provides the `GridSearchCV` class, which implements it in the form of an estimator. To use the `GridSearchCV` class, you first need to specify the parameters you want to search over using a dictionary. `GridSearchCV` will then perform all the necessary model fits. The keys of the dictionary are the names of parameters we want to adjust (as given when constructing the model—in this case, `C` and `gamma`), and the values are the parameter settings we want to try out."
   ]
  },
  {
   "cell_type": "code",
   "execution_count": 37,
   "metadata": {},
   "outputs": [
    {
     "name": "stdout",
     "output_type": "stream",
     "text": [
      "Parameter grid:\n",
      "{'C': [0.001, 0.01, 0.1, 1, 10, 100], 'gamma': [0.001, 0.01, 0.1, 1, 10, 100]}\n"
     ]
    }
   ],
   "source": [
    "param_grid = {'C': [0.001, 0.01, 0.1, 1, 10, 100], \n",
    "              'gamma': [0.001, 0.01, 0.1, 1, 10, 100]}\n",
    "\n",
    "print(\"Parameter grid:\\n{}\".format(param_grid))"
   ]
  },
  {
   "cell_type": "code",
   "execution_count": 38,
   "metadata": {},
   "outputs": [
    {
     "name": "stdout",
     "output_type": "stream",
     "text": [
      "Test set score: 0.95\n"
     ]
    }
   ],
   "source": [
    "from sklearn.model_selection import GridSearchCV\n",
    "from sklearn.svm import SVC\n",
    "\n",
    "grid_search = GridSearchCV(SVC(), param_grid, cv=5)\n",
    "\n",
    "X_train, X_test, y_train, y_test = train_test_split(cancer.data, \n",
    "                                                    cancer.target, \n",
    "                                                    random_state=1)\n",
    "grid_search.fit(X_train, y_train)\n",
    "print(\"Test set score: {:.2f}\".format(grid_search.score(X_test, y_test)))"
   ]
  },
  {
   "cell_type": "code",
   "execution_count": 39,
   "metadata": {},
   "outputs": [
    {
     "name": "stdout",
     "output_type": "stream",
     "text": [
      "{'mean_fit_time': array([0.00938153, 0.01250253, 0.01562619, 0.01562862, 0.01874323,\n",
      "       0.01874976, 0.01562872, 0.0187439 , 0.02187157, 0.01875353,\n",
      "       0.01875052, 0.01874385, 0.0125001 , 0.01563139, 0.01562567,\n",
      "       0.01562281, 0.01874843, 0.01874413, 0.0156343 , 0.01874418,\n",
      "       0.01875482, 0.02500429, 0.02186809, 0.01873808, 0.015623  ,\n",
      "       0.01562562, 0.0249999 , 0.01875391, 0.01874084, 0.01875582,\n",
      "       0.01562538, 0.01874499, 0.02187834, 0.02187681, 0.02500024,\n",
      "       0.01562572]), 'std_fit_time': array([7.65999101e-03, 6.25126654e-03, 1.94862525e-06, 1.17706362e-05,\n",
      "       6.24587899e-03, 6.24976885e-03, 1.47253923e-05, 6.24554470e-03,\n",
      "       7.66398364e-03, 6.24966852e-03, 6.25009555e-03, 6.25474905e-03,\n",
      "       6.25004782e-03, 8.09556596e-06, 1.09115513e-05, 1.16326768e-05,\n",
      "       6.24960161e-03, 6.25412850e-03, 6.67060929e-06, 6.24445598e-03,\n",
      "       6.23937884e-03, 7.66429613e-03, 7.65290810e-03, 6.24916903e-03,\n",
      "       1.21650495e-05, 1.07352979e-05, 7.65486976e-03, 6.24053922e-03,\n",
      "       6.25279207e-03, 6.25401554e-03, 8.56928248e-06, 6.25226974e-03,\n",
      "       7.65825857e-03, 7.65405960e-03, 7.65417553e-03, 9.89824817e-06]), 'mean_score_time': array([0.00624971, 0.00625076, 0.00312562, 0.00624709, 0.00625334,\n",
      "       0.00312538, 0.        , 0.        , 0.00312605, 0.00624671,\n",
      "       0.00312524, 0.0062542 , 0.00312829, 0.00625281, 0.00312767,\n",
      "       0.00312262, 0.00625048, 0.00624995, 0.00312581, 0.00312505,\n",
      "       0.00624695, 0.00312529, 0.        , 0.00625305, 0.00312448,\n",
      "       0.00312796, 0.00625329, 0.00312514, 0.00624585, 0.00312157,\n",
      "       0.        , 0.0031219 , 0.00312767, 0.00312419, 0.        ,\n",
      "       0.00624895]), 'std_score_time': array([0.00765431, 0.00765559, 0.00625124, 0.00765109, 0.00765874,\n",
      "       0.00625076, 0.        , 0.        , 0.0062521 , 0.00765063,\n",
      "       0.00625048, 0.0076598 , 0.00625658, 0.0076581 , 0.00625534,\n",
      "       0.00624523, 0.00765524, 0.0076546 , 0.00625162, 0.0062501 ,\n",
      "       0.00765092, 0.00625057, 0.        , 0.00765839, 0.00624895,\n",
      "       0.00625591, 0.00765869, 0.00625029, 0.00764958, 0.00624313,\n",
      "       0.        , 0.0062438 , 0.00625534, 0.00624838, 0.        ,\n",
      "       0.00765337]), 'param_C': masked_array(data=[0.001, 0.001, 0.001, 0.001, 0.001, 0.001, 0.01, 0.01,\n",
      "                   0.01, 0.01, 0.01, 0.01, 0.1, 0.1, 0.1, 0.1, 0.1, 0.1,\n",
      "                   1, 1, 1, 1, 1, 1, 10, 10, 10, 10, 10, 10, 100, 100,\n",
      "                   100, 100, 100, 100],\n",
      "             mask=[False, False, False, False, False, False, False, False,\n",
      "                   False, False, False, False, False, False, False, False,\n",
      "                   False, False, False, False, False, False, False, False,\n",
      "                   False, False, False, False, False, False, False, False,\n",
      "                   False, False, False, False],\n",
      "       fill_value='?',\n",
      "            dtype=object), 'param_gamma': masked_array(data=[0.001, 0.01, 0.1, 1, 10, 100, 0.001, 0.01, 0.1, 1, 10,\n",
      "                   100, 0.001, 0.01, 0.1, 1, 10, 100, 0.001, 0.01, 0.1, 1,\n",
      "                   10, 100, 0.001, 0.01, 0.1, 1, 10, 100, 0.001, 0.01,\n",
      "                   0.1, 1, 10, 100],\n",
      "             mask=[False, False, False, False, False, False, False, False,\n",
      "                   False, False, False, False, False, False, False, False,\n",
      "                   False, False, False, False, False, False, False, False,\n",
      "                   False, False, False, False, False, False, False, False,\n",
      "                   False, False, False, False],\n",
      "       fill_value='?',\n",
      "            dtype=object), 'params': [{'C': 0.001, 'gamma': 0.001}, {'C': 0.001, 'gamma': 0.01}, {'C': 0.001, 'gamma': 0.1}, {'C': 0.001, 'gamma': 1}, {'C': 0.001, 'gamma': 10}, {'C': 0.001, 'gamma': 100}, {'C': 0.01, 'gamma': 0.001}, {'C': 0.01, 'gamma': 0.01}, {'C': 0.01, 'gamma': 0.1}, {'C': 0.01, 'gamma': 1}, {'C': 0.01, 'gamma': 10}, {'C': 0.01, 'gamma': 100}, {'C': 0.1, 'gamma': 0.001}, {'C': 0.1, 'gamma': 0.01}, {'C': 0.1, 'gamma': 0.1}, {'C': 0.1, 'gamma': 1}, {'C': 0.1, 'gamma': 10}, {'C': 0.1, 'gamma': 100}, {'C': 1, 'gamma': 0.001}, {'C': 1, 'gamma': 0.01}, {'C': 1, 'gamma': 0.1}, {'C': 1, 'gamma': 1}, {'C': 1, 'gamma': 10}, {'C': 1, 'gamma': 100}, {'C': 10, 'gamma': 0.001}, {'C': 10, 'gamma': 0.01}, {'C': 10, 'gamma': 0.1}, {'C': 10, 'gamma': 1}, {'C': 10, 'gamma': 10}, {'C': 10, 'gamma': 100}, {'C': 100, 'gamma': 0.001}, {'C': 100, 'gamma': 0.01}, {'C': 100, 'gamma': 0.1}, {'C': 100, 'gamma': 1}, {'C': 100, 'gamma': 10}, {'C': 100, 'gamma': 100}], 'split0_test_score': array([0.62790698, 0.62790698, 0.62790698, 0.62790698, 0.62790698,\n",
      "       0.62790698, 0.62790698, 0.62790698, 0.62790698, 0.62790698,\n",
      "       0.62790698, 0.62790698, 0.62790698, 0.62790698, 0.62790698,\n",
      "       0.62790698, 0.62790698, 0.62790698, 0.86046512, 0.62790698,\n",
      "       0.62790698, 0.62790698, 0.62790698, 0.62790698, 0.87209302,\n",
      "       0.62790698, 0.62790698, 0.62790698, 0.62790698, 0.62790698,\n",
      "       0.87209302, 0.62790698, 0.62790698, 0.62790698, 0.62790698,\n",
      "       0.62790698]), 'split1_test_score': array([0.62790698, 0.62790698, 0.62790698, 0.62790698, 0.62790698,\n",
      "       0.62790698, 0.62790698, 0.62790698, 0.62790698, 0.62790698,\n",
      "       0.62790698, 0.62790698, 0.62790698, 0.62790698, 0.62790698,\n",
      "       0.62790698, 0.62790698, 0.62790698, 0.91860465, 0.62790698,\n",
      "       0.62790698, 0.62790698, 0.62790698, 0.62790698, 0.89534884,\n",
      "       0.62790698, 0.62790698, 0.62790698, 0.62790698, 0.62790698,\n",
      "       0.89534884, 0.62790698, 0.62790698, 0.62790698, 0.62790698,\n",
      "       0.62790698]), 'split2_test_score': array([0.63529412, 0.63529412, 0.63529412, 0.63529412, 0.63529412,\n",
      "       0.63529412, 0.63529412, 0.63529412, 0.63529412, 0.63529412,\n",
      "       0.63529412, 0.63529412, 0.63529412, 0.63529412, 0.63529412,\n",
      "       0.63529412, 0.63529412, 0.63529412, 0.88235294, 0.63529412,\n",
      "       0.63529412, 0.63529412, 0.63529412, 0.63529412, 0.88235294,\n",
      "       0.63529412, 0.63529412, 0.63529412, 0.63529412, 0.63529412,\n",
      "       0.88235294, 0.63529412, 0.63529412, 0.63529412, 0.63529412,\n",
      "       0.63529412]), 'split3_test_score': array([0.63529412, 0.63529412, 0.63529412, 0.63529412, 0.63529412,\n",
      "       0.63529412, 0.63529412, 0.63529412, 0.63529412, 0.63529412,\n",
      "       0.63529412, 0.63529412, 0.63529412, 0.63529412, 0.63529412,\n",
      "       0.63529412, 0.63529412, 0.63529412, 0.94117647, 0.63529412,\n",
      "       0.63529412, 0.63529412, 0.63529412, 0.63529412, 0.92941176,\n",
      "       0.63529412, 0.63529412, 0.63529412, 0.63529412, 0.63529412,\n",
      "       0.92941176, 0.63529412, 0.63529412, 0.63529412, 0.63529412,\n",
      "       0.63529412]), 'split4_test_score': array([0.63095238, 0.63095238, 0.63095238, 0.63095238, 0.63095238,\n",
      "       0.63095238, 0.63095238, 0.63095238, 0.63095238, 0.63095238,\n",
      "       0.63095238, 0.63095238, 0.63095238, 0.63095238, 0.63095238,\n",
      "       0.63095238, 0.63095238, 0.63095238, 0.92857143, 0.63095238,\n",
      "       0.63095238, 0.63095238, 0.63095238, 0.63095238, 0.91666667,\n",
      "       0.64285714, 0.63095238, 0.63095238, 0.63095238, 0.63095238,\n",
      "       0.91666667, 0.64285714, 0.63095238, 0.63095238, 0.63095238,\n",
      "       0.63095238]), 'mean_test_score': array([0.6314554 , 0.6314554 , 0.6314554 , 0.6314554 , 0.6314554 ,\n",
      "       0.6314554 , 0.6314554 , 0.6314554 , 0.6314554 , 0.6314554 ,\n",
      "       0.6314554 , 0.6314554 , 0.6314554 , 0.6314554 , 0.6314554 ,\n",
      "       0.6314554 , 0.6314554 , 0.6314554 , 0.90610329, 0.6314554 ,\n",
      "       0.6314554 , 0.6314554 , 0.6314554 , 0.6314554 , 0.89906103,\n",
      "       0.63380282, 0.6314554 , 0.6314554 , 0.6314554 , 0.6314554 ,\n",
      "       0.89906103, 0.63380282, 0.6314554 , 0.6314554 , 0.6314554 ,\n",
      "       0.6314554 ]), 'std_test_score': array([0.00331876, 0.00331876, 0.00331876, 0.00331876, 0.00331876,\n",
      "       0.00331876, 0.00331876, 0.00331876, 0.00331876, 0.00331876,\n",
      "       0.00331876, 0.00331876, 0.00331876, 0.00331876, 0.00331876,\n",
      "       0.00331876, 0.00331876, 0.00331876, 0.03015909, 0.00331876,\n",
      "       0.00331876, 0.00331876, 0.00331876, 0.00331876, 0.02121846,\n",
      "       0.00557563, 0.00331876, 0.00331876, 0.00331876, 0.00331876,\n",
      "       0.02121846, 0.00557563, 0.00331876, 0.00331876, 0.00331876,\n",
      "       0.00331876]), 'rank_test_score': array([6, 6, 6, 6, 6, 6, 6, 6, 6, 6, 6, 6, 6, 6, 6, 6, 6, 6, 1, 6, 6, 6,\n",
      "       6, 6, 2, 4, 6, 6, 6, 6, 2, 4, 6, 6, 6, 6]), 'split0_train_score': array([0.63235294, 0.63235294, 0.63235294, 0.63235294, 0.63235294,\n",
      "       0.63235294, 0.63235294, 0.63235294, 0.63235294, 0.63235294,\n",
      "       0.63235294, 0.63235294, 0.63235294, 0.63235294, 0.63235294,\n",
      "       0.63235294, 0.63235294, 0.63235294, 0.97647059, 1.        ,\n",
      "       1.        , 1.        , 1.        , 1.        , 1.        ,\n",
      "       1.        , 1.        , 1.        , 1.        , 1.        ,\n",
      "       1.        , 1.        , 1.        , 1.        , 1.        ,\n",
      "       1.        ]), 'split1_train_score': array([0.63235294, 0.63235294, 0.63235294, 0.63235294, 0.63235294,\n",
      "       0.63235294, 0.63235294, 0.63235294, 0.63235294, 0.63235294,\n",
      "       0.63235294, 0.63235294, 0.63235294, 0.63235294, 0.63235294,\n",
      "       0.63235294, 0.63235294, 0.63235294, 0.98529412, 1.        ,\n",
      "       1.        , 1.        , 1.        , 1.        , 1.        ,\n",
      "       1.        , 1.        , 1.        , 1.        , 1.        ,\n",
      "       1.        , 1.        , 1.        , 1.        , 1.        ,\n",
      "       1.        ]), 'split2_train_score': array([0.63049853, 0.63049853, 0.63049853, 0.63049853, 0.63049853,\n",
      "       0.63049853, 0.63049853, 0.63049853, 0.63049853, 0.63049853,\n",
      "       0.63049853, 0.63049853, 0.63049853, 0.63049853, 0.63049853,\n",
      "       0.63049853, 0.63049853, 0.63049853, 0.97947214, 1.        ,\n",
      "       1.        , 1.        , 1.        , 1.        , 1.        ,\n",
      "       1.        , 1.        , 1.        , 1.        , 1.        ,\n",
      "       1.        , 1.        , 1.        , 1.        , 1.        ,\n",
      "       1.        ]), 'split3_train_score': array([0.63049853, 0.63049853, 0.63049853, 0.63049853, 0.63049853,\n",
      "       0.63049853, 0.63049853, 0.63049853, 0.63049853, 0.63049853,\n",
      "       0.63049853, 0.63049853, 0.63049853, 0.63049853, 0.63049853,\n",
      "       0.63049853, 0.63049853, 0.63049853, 0.96774194, 1.        ,\n",
      "       1.        , 1.        , 1.        , 1.        , 1.        ,\n",
      "       1.        , 1.        , 1.        , 1.        , 1.        ,\n",
      "       1.        , 1.        , 1.        , 1.        , 1.        ,\n",
      "       1.        ]), 'split4_train_score': array([0.63157895, 0.63157895, 0.63157895, 0.63157895, 0.63157895,\n",
      "       0.63157895, 0.63157895, 0.63157895, 0.63157895, 0.63157895,\n",
      "       0.63157895, 0.63157895, 0.63157895, 0.63157895, 0.63157895,\n",
      "       0.63157895, 0.63157895, 0.63157895, 0.97076023, 1.        ,\n",
      "       1.        , 1.        , 1.        , 1.        , 1.        ,\n",
      "       1.        , 1.        , 1.        , 1.        , 1.        ,\n",
      "       1.        , 1.        , 1.        , 1.        , 1.        ,\n",
      "       1.        ]), 'mean_train_score': array([0.63145638, 0.63145638, 0.63145638, 0.63145638, 0.63145638,\n",
      "       0.63145638, 0.63145638, 0.63145638, 0.63145638, 0.63145638,\n",
      "       0.63145638, 0.63145638, 0.63145638, 0.63145638, 0.63145638,\n",
      "       0.63145638, 0.63145638, 0.63145638, 0.9759478 , 1.        ,\n",
      "       1.        , 1.        , 1.        , 1.        , 1.        ,\n",
      "       1.        , 1.        , 1.        , 1.        , 1.        ,\n",
      "       1.        , 1.        , 1.        , 1.        , 1.        ,\n",
      "       1.        ]), 'std_train_score': array([0.00083158, 0.00083158, 0.00083158, 0.00083158, 0.00083158,\n",
      "       0.00083158, 0.00083158, 0.00083158, 0.00083158, 0.00083158,\n",
      "       0.00083158, 0.00083158, 0.00083158, 0.00083158, 0.00083158,\n",
      "       0.00083158, 0.00083158, 0.00083158, 0.0062337 , 0.        ,\n",
      "       0.        , 0.        , 0.        , 0.        , 0.        ,\n",
      "       0.        , 0.        , 0.        , 0.        , 0.        ,\n",
      "       0.        , 0.        , 0.        , 0.        , 0.        ,\n",
      "       0.        ])}\n"
     ]
    }
   ],
   "source": [
    "print(grid_search.cv_results_)"
   ]
  },
  {
   "cell_type": "markdown",
   "metadata": {},
   "source": [
    "Now that's a lot of numbers...how can we get the selected parameters? Fortunately, there are some functions to help"
   ]
  },
  {
   "cell_type": "code",
   "execution_count": 40,
   "metadata": {},
   "outputs": [
    {
     "name": "stdout",
     "output_type": "stream",
     "text": [
      "Best parameters: {'C': 1, 'gamma': 0.001}\n",
      "Best cross-validation score: 0.91\n"
     ]
    }
   ],
   "source": [
    "print(\"Best parameters: {}\".format(grid_search.best_params_))\n",
    "print(\"Best cross-validation score: {:.2f}\".format(grid_search.best_score_))"
   ]
  },
  {
   "cell_type": "markdown",
   "metadata": {},
   "source": [
    "##### Doing the same for LogisticRegression"
   ]
  },
  {
   "cell_type": "code",
   "execution_count": 41,
   "metadata": {},
   "outputs": [
    {
     "name": "stdout",
     "output_type": "stream",
     "text": [
      "Parameter grid:\n",
      "{'penalty': ['l1', 'l2'], 'C': [0.001, 0.01, 0.1, 1, 10, 100]}\n"
     ]
    }
   ],
   "source": [
    "param_grid = {'penalty': ['l1','l2'], \n",
    "              'C': [0.001, 0.01, 0.1, 1, 10, 100]}\n",
    "print(\"Parameter grid:\\n{}\".format(param_grid))"
   ]
  },
  {
   "cell_type": "code",
   "execution_count": 42,
   "metadata": {},
   "outputs": [
    {
     "name": "stdout",
     "output_type": "stream",
     "text": [
      "Test set score: 0.97\n"
     ]
    }
   ],
   "source": [
    "logregGrid = LogisticRegression()\n",
    "\n",
    "grid_search = GridSearchCV(logregGrid, param_grid, cv=5)\n",
    "\n",
    "X_train, X_test, y_train, y_test = train_test_split(cancer.data, \n",
    "                                                    cancer.target, \n",
    "                                                    random_state=0)\n",
    "grid_search.fit(X_train, y_train)\n",
    "print(\"Test set score: {:.2f}\".format(grid_search.score(X_test, y_test)))"
   ]
  },
  {
   "cell_type": "code",
   "execution_count": 43,
   "metadata": {},
   "outputs": [
    {
     "name": "stdout",
     "output_type": "stream",
     "text": [
      "Best parameters: {'C': 10, 'penalty': 'l1'}\n",
      "Best cross-validation score: 0.97\n"
     ]
    }
   ],
   "source": [
    "print(\"Best parameters: {}\".format(grid_search.best_params_))\n",
    "print(\"Best cross-validation score: {:.2f}\".format(grid_search.best_score_))"
   ]
  },
  {
   "cell_type": "code",
   "execution_count": 44,
   "metadata": {},
   "outputs": [
    {
     "name": "stdout",
     "output_type": "stream",
     "text": [
      "LogisticRegression(C=1.0, class_weight=None, dual=False, fit_intercept=True,\n",
      "          intercept_scaling=1, max_iter=100, multi_class='ovr', n_jobs=1,\n",
      "          penalty='l2', random_state=None, solver='liblinear', tol=0.0001,\n",
      "          verbose=0, warm_start=False)\n"
     ]
    }
   ],
   "source": [
    "print(grid_search.estimator)"
   ]
  },
  {
   "cell_type": "markdown",
   "metadata": {},
   "source": [
    "**Note**: The \"best score\" from the `GridSearchCV` operation is the best cross-validation score, not the test score.\n",
    "\n",
    "You can also access the model with the best parameters trained on the whole training set. This provides us a way to save this model for deployment in machine learning systems, or for storage."
   ]
  },
  {
   "cell_type": "code",
   "execution_count": 45,
   "metadata": {},
   "outputs": [
    {
     "name": "stdout",
     "output_type": "stream",
     "text": [
      "Best estimator:\n",
      "LogisticRegression(C=10, class_weight=None, dual=False, fit_intercept=True,\n",
      "          intercept_scaling=1, max_iter=100, multi_class='ovr', n_jobs=1,\n",
      "          penalty='l1', random_state=None, solver='liblinear', tol=0.0001,\n",
      "          verbose=0, warm_start=False)\n"
     ]
    }
   ],
   "source": [
    "print(\"Best estimator:\\n{}\".format(grid_search.best_estimator_))"
   ]
  },
  {
   "cell_type": "markdown",
   "metadata": {},
   "source": [
    "**Note**: Because `GridSearchCV` itself has `predict` and `score` methods, using `best_estimator_` is not needed to make predictions or evaluate the model."
   ]
  },
  {
   "cell_type": "markdown",
   "metadata": {},
   "source": [
    "If you really need to analyze all the results from `GridSearchCV`, the best way is to throw all those information into a pandas DataFrame for easy access."
   ]
  },
  {
   "cell_type": "code",
   "execution_count": 46,
   "metadata": {},
   "outputs": [
    {
     "data": {
      "text/html": [
       "<div>\n",
       "<style scoped>\n",
       "    .dataframe tbody tr th:only-of-type {\n",
       "        vertical-align: middle;\n",
       "    }\n",
       "\n",
       "    .dataframe tbody tr th {\n",
       "        vertical-align: top;\n",
       "    }\n",
       "\n",
       "    .dataframe thead th {\n",
       "        text-align: right;\n",
       "    }\n",
       "</style>\n",
       "<table border=\"1\" class=\"dataframe\">\n",
       "  <thead>\n",
       "    <tr style=\"text-align: right;\">\n",
       "      <th></th>\n",
       "      <th>mean_fit_time</th>\n",
       "      <th>mean_score_time</th>\n",
       "      <th>mean_test_score</th>\n",
       "      <th>mean_train_score</th>\n",
       "      <th>param_C</th>\n",
       "      <th>param_penalty</th>\n",
       "      <th>params</th>\n",
       "      <th>rank_test_score</th>\n",
       "      <th>split0_test_score</th>\n",
       "      <th>split0_train_score</th>\n",
       "      <th>split1_test_score</th>\n",
       "      <th>split1_train_score</th>\n",
       "      <th>split2_test_score</th>\n",
       "      <th>split2_train_score</th>\n",
       "      <th>split3_test_score</th>\n",
       "      <th>split3_train_score</th>\n",
       "      <th>split4_test_score</th>\n",
       "      <th>split4_train_score</th>\n",
       "      <th>std_fit_time</th>\n",
       "      <th>std_score_time</th>\n",
       "      <th>std_test_score</th>\n",
       "      <th>std_train_score</th>\n",
       "    </tr>\n",
       "  </thead>\n",
       "  <tbody>\n",
       "    <tr>\n",
       "      <th>0</th>\n",
       "      <td>0.006249</td>\n",
       "      <td>0.000000</td>\n",
       "      <td>0.913146</td>\n",
       "      <td>0.915492</td>\n",
       "      <td>0.001</td>\n",
       "      <td>l1</td>\n",
       "      <td>{'C': 0.001, 'penalty': 'l1'}</td>\n",
       "      <td>12</td>\n",
       "      <td>0.965116</td>\n",
       "      <td>0.902941</td>\n",
       "      <td>0.860465</td>\n",
       "      <td>0.929412</td>\n",
       "      <td>0.905882</td>\n",
       "      <td>0.917889</td>\n",
       "      <td>0.941176</td>\n",
       "      <td>0.909091</td>\n",
       "      <td>0.892857</td>\n",
       "      <td>0.918129</td>\n",
       "      <td>0.007653</td>\n",
       "      <td>0.000000</td>\n",
       "      <td>0.036797</td>\n",
       "      <td>0.008999</td>\n",
       "    </tr>\n",
       "    <tr>\n",
       "      <th>1</th>\n",
       "      <td>0.003125</td>\n",
       "      <td>0.000000</td>\n",
       "      <td>0.920188</td>\n",
       "      <td>0.921947</td>\n",
       "      <td>0.001</td>\n",
       "      <td>l2</td>\n",
       "      <td>{'C': 0.001, 'penalty': 'l2'}</td>\n",
       "      <td>10</td>\n",
       "      <td>0.965116</td>\n",
       "      <td>0.908824</td>\n",
       "      <td>0.895349</td>\n",
       "      <td>0.935294</td>\n",
       "      <td>0.941176</td>\n",
       "      <td>0.914956</td>\n",
       "      <td>0.894118</td>\n",
       "      <td>0.926686</td>\n",
       "      <td>0.904762</td>\n",
       "      <td>0.923977</td>\n",
       "      <td>0.006250</td>\n",
       "      <td>0.000000</td>\n",
       "      <td>0.028328</td>\n",
       "      <td>0.009228</td>\n",
       "    </tr>\n",
       "    <tr>\n",
       "      <th>2</th>\n",
       "      <td>0.018750</td>\n",
       "      <td>0.000000</td>\n",
       "      <td>0.915493</td>\n",
       "      <td>0.916669</td>\n",
       "      <td>0.01</td>\n",
       "      <td>l1</td>\n",
       "      <td>{'C': 0.01, 'penalty': 'l1'}</td>\n",
       "      <td>11</td>\n",
       "      <td>0.953488</td>\n",
       "      <td>0.908824</td>\n",
       "      <td>0.872093</td>\n",
       "      <td>0.929412</td>\n",
       "      <td>0.941176</td>\n",
       "      <td>0.909091</td>\n",
       "      <td>0.894118</td>\n",
       "      <td>0.917889</td>\n",
       "      <td>0.916667</td>\n",
       "      <td>0.918129</td>\n",
       "      <td>0.006251</td>\n",
       "      <td>0.000000</td>\n",
       "      <td>0.029912</td>\n",
       "      <td>0.007550</td>\n",
       "    </tr>\n",
       "    <tr>\n",
       "      <th>3</th>\n",
       "      <td>0.000000</td>\n",
       "      <td>0.000000</td>\n",
       "      <td>0.924883</td>\n",
       "      <td>0.934863</td>\n",
       "      <td>0.01</td>\n",
       "      <td>l2</td>\n",
       "      <td>{'C': 0.01, 'penalty': 'l2'}</td>\n",
       "      <td>9</td>\n",
       "      <td>0.965116</td>\n",
       "      <td>0.932353</td>\n",
       "      <td>0.895349</td>\n",
       "      <td>0.941176</td>\n",
       "      <td>0.917647</td>\n",
       "      <td>0.938416</td>\n",
       "      <td>0.929412</td>\n",
       "      <td>0.929619</td>\n",
       "      <td>0.916667</td>\n",
       "      <td>0.932749</td>\n",
       "      <td>0.000000</td>\n",
       "      <td>0.000000</td>\n",
       "      <td>0.023037</td>\n",
       "      <td>0.004261</td>\n",
       "    </tr>\n",
       "    <tr>\n",
       "      <th>4</th>\n",
       "      <td>0.115627</td>\n",
       "      <td>0.000000</td>\n",
       "      <td>0.927230</td>\n",
       "      <td>0.939553</td>\n",
       "      <td>0.1</td>\n",
       "      <td>l1</td>\n",
       "      <td>{'C': 0.1, 'penalty': 'l1'}</td>\n",
       "      <td>8</td>\n",
       "      <td>0.976744</td>\n",
       "      <td>0.932353</td>\n",
       "      <td>0.872093</td>\n",
       "      <td>0.944118</td>\n",
       "      <td>0.917647</td>\n",
       "      <td>0.944282</td>\n",
       "      <td>0.941176</td>\n",
       "      <td>0.938416</td>\n",
       "      <td>0.928571</td>\n",
       "      <td>0.938596</td>\n",
       "      <td>0.021195</td>\n",
       "      <td>0.000000</td>\n",
       "      <td>0.034149</td>\n",
       "      <td>0.004410</td>\n",
       "    </tr>\n",
       "    <tr>\n",
       "      <th>5</th>\n",
       "      <td>0.003125</td>\n",
       "      <td>0.000000</td>\n",
       "      <td>0.934272</td>\n",
       "      <td>0.951885</td>\n",
       "      <td>0.1</td>\n",
       "      <td>l2</td>\n",
       "      <td>{'C': 0.1, 'penalty': 'l2'}</td>\n",
       "      <td>7</td>\n",
       "      <td>0.976744</td>\n",
       "      <td>0.944118</td>\n",
       "      <td>0.860465</td>\n",
       "      <td>0.964706</td>\n",
       "      <td>0.917647</td>\n",
       "      <td>0.958944</td>\n",
       "      <td>0.952941</td>\n",
       "      <td>0.947214</td>\n",
       "      <td>0.964286</td>\n",
       "      <td>0.944444</td>\n",
       "      <td>0.006250</td>\n",
       "      <td>0.000000</td>\n",
       "      <td>0.042026</td>\n",
       "      <td>0.008387</td>\n",
       "    </tr>\n",
       "    <tr>\n",
       "      <th>6</th>\n",
       "      <td>0.193753</td>\n",
       "      <td>0.003125</td>\n",
       "      <td>0.953052</td>\n",
       "      <td>0.963026</td>\n",
       "      <td>1</td>\n",
       "      <td>l1</td>\n",
       "      <td>{'C': 1, 'penalty': 'l1'}</td>\n",
       "      <td>3</td>\n",
       "      <td>0.988372</td>\n",
       "      <td>0.958824</td>\n",
       "      <td>0.918605</td>\n",
       "      <td>0.961765</td>\n",
       "      <td>0.917647</td>\n",
       "      <td>0.979472</td>\n",
       "      <td>0.988235</td>\n",
       "      <td>0.953079</td>\n",
       "      <td>0.952381</td>\n",
       "      <td>0.961988</td>\n",
       "      <td>0.054667</td>\n",
       "      <td>0.006249</td>\n",
       "      <td>0.031442</td>\n",
       "      <td>0.008829</td>\n",
       "    </tr>\n",
       "    <tr>\n",
       "      <th>7</th>\n",
       "      <td>0.006249</td>\n",
       "      <td>0.000000</td>\n",
       "      <td>0.950704</td>\n",
       "      <td>0.962444</td>\n",
       "      <td>1</td>\n",
       "      <td>l2</td>\n",
       "      <td>{'C': 1, 'penalty': 'l2'}</td>\n",
       "      <td>6</td>\n",
       "      <td>0.988372</td>\n",
       "      <td>0.958824</td>\n",
       "      <td>0.918605</td>\n",
       "      <td>0.964706</td>\n",
       "      <td>0.905882</td>\n",
       "      <td>0.976540</td>\n",
       "      <td>0.976471</td>\n",
       "      <td>0.956012</td>\n",
       "      <td>0.964286</td>\n",
       "      <td>0.956140</td>\n",
       "      <td>0.007654</td>\n",
       "      <td>0.000000</td>\n",
       "      <td>0.032621</td>\n",
       "      <td>0.007720</td>\n",
       "    </tr>\n",
       "    <tr>\n",
       "      <th>8</th>\n",
       "      <td>0.118751</td>\n",
       "      <td>0.000000</td>\n",
       "      <td>0.969484</td>\n",
       "      <td>0.975349</td>\n",
       "      <td>10</td>\n",
       "      <td>l1</td>\n",
       "      <td>{'C': 10, 'penalty': 'l1'}</td>\n",
       "      <td>1</td>\n",
       "      <td>0.976744</td>\n",
       "      <td>0.976471</td>\n",
       "      <td>0.976744</td>\n",
       "      <td>0.970588</td>\n",
       "      <td>0.929412</td>\n",
       "      <td>0.982405</td>\n",
       "      <td>0.988235</td>\n",
       "      <td>0.970674</td>\n",
       "      <td>0.976190</td>\n",
       "      <td>0.976608</td>\n",
       "      <td>0.035079</td>\n",
       "      <td>0.000000</td>\n",
       "      <td>0.020511</td>\n",
       "      <td>0.004408</td>\n",
       "    </tr>\n",
       "    <tr>\n",
       "      <th>9</th>\n",
       "      <td>0.012500</td>\n",
       "      <td>0.000000</td>\n",
       "      <td>0.953052</td>\n",
       "      <td>0.970654</td>\n",
       "      <td>10</td>\n",
       "      <td>l2</td>\n",
       "      <td>{'C': 10, 'penalty': 'l2'}</td>\n",
       "      <td>3</td>\n",
       "      <td>0.976744</td>\n",
       "      <td>0.967647</td>\n",
       "      <td>0.930233</td>\n",
       "      <td>0.964706</td>\n",
       "      <td>0.917647</td>\n",
       "      <td>0.982405</td>\n",
       "      <td>0.976471</td>\n",
       "      <td>0.970674</td>\n",
       "      <td>0.964286</td>\n",
       "      <td>0.967836</td>\n",
       "      <td>0.006250</td>\n",
       "      <td>0.000000</td>\n",
       "      <td>0.024553</td>\n",
       "      <td>0.006172</td>\n",
       "    </tr>\n",
       "    <tr>\n",
       "      <th>10</th>\n",
       "      <td>0.387505</td>\n",
       "      <td>0.003125</td>\n",
       "      <td>0.969484</td>\n",
       "      <td>0.989434</td>\n",
       "      <td>100</td>\n",
       "      <td>l1</td>\n",
       "      <td>{'C': 100, 'penalty': 'l1'}</td>\n",
       "      <td>1</td>\n",
       "      <td>0.965116</td>\n",
       "      <td>0.988235</td>\n",
       "      <td>0.988372</td>\n",
       "      <td>0.985294</td>\n",
       "      <td>0.917647</td>\n",
       "      <td>1.000000</td>\n",
       "      <td>0.988235</td>\n",
       "      <td>0.985337</td>\n",
       "      <td>0.988095</td>\n",
       "      <td>0.988304</td>\n",
       "      <td>0.252614</td>\n",
       "      <td>0.006250</td>\n",
       "      <td>0.027395</td>\n",
       "      <td>0.005446</td>\n",
       "    </tr>\n",
       "    <tr>\n",
       "      <th>11</th>\n",
       "      <td>0.012500</td>\n",
       "      <td>0.000000</td>\n",
       "      <td>0.953052</td>\n",
       "      <td>0.974178</td>\n",
       "      <td>100</td>\n",
       "      <td>l2</td>\n",
       "      <td>{'C': 100, 'penalty': 'l2'}</td>\n",
       "      <td>3</td>\n",
       "      <td>0.965116</td>\n",
       "      <td>0.979412</td>\n",
       "      <td>0.953488</td>\n",
       "      <td>0.964706</td>\n",
       "      <td>0.917647</td>\n",
       "      <td>0.982405</td>\n",
       "      <td>0.964706</td>\n",
       "      <td>0.973607</td>\n",
       "      <td>0.964286</td>\n",
       "      <td>0.970760</td>\n",
       "      <td>0.006250</td>\n",
       "      <td>0.000000</td>\n",
       "      <td>0.018208</td>\n",
       "      <td>0.006274</td>\n",
       "    </tr>\n",
       "  </tbody>\n",
       "</table>\n",
       "</div>"
      ],
      "text/plain": [
       "    mean_fit_time  mean_score_time  mean_test_score  mean_train_score param_C  \\\n",
       "0        0.006249         0.000000         0.913146          0.915492   0.001   \n",
       "1        0.003125         0.000000         0.920188          0.921947   0.001   \n",
       "2        0.018750         0.000000         0.915493          0.916669    0.01   \n",
       "3        0.000000         0.000000         0.924883          0.934863    0.01   \n",
       "4        0.115627         0.000000         0.927230          0.939553     0.1   \n",
       "5        0.003125         0.000000         0.934272          0.951885     0.1   \n",
       "6        0.193753         0.003125         0.953052          0.963026       1   \n",
       "7        0.006249         0.000000         0.950704          0.962444       1   \n",
       "8        0.118751         0.000000         0.969484          0.975349      10   \n",
       "9        0.012500         0.000000         0.953052          0.970654      10   \n",
       "10       0.387505         0.003125         0.969484          0.989434     100   \n",
       "11       0.012500         0.000000         0.953052          0.974178     100   \n",
       "\n",
       "   param_penalty                         params  rank_test_score  \\\n",
       "0             l1  {'C': 0.001, 'penalty': 'l1'}               12   \n",
       "1             l2  {'C': 0.001, 'penalty': 'l2'}               10   \n",
       "2             l1   {'C': 0.01, 'penalty': 'l1'}               11   \n",
       "3             l2   {'C': 0.01, 'penalty': 'l2'}                9   \n",
       "4             l1    {'C': 0.1, 'penalty': 'l1'}                8   \n",
       "5             l2    {'C': 0.1, 'penalty': 'l2'}                7   \n",
       "6             l1      {'C': 1, 'penalty': 'l1'}                3   \n",
       "7             l2      {'C': 1, 'penalty': 'l2'}                6   \n",
       "8             l1     {'C': 10, 'penalty': 'l1'}                1   \n",
       "9             l2     {'C': 10, 'penalty': 'l2'}                3   \n",
       "10            l1    {'C': 100, 'penalty': 'l1'}                1   \n",
       "11            l2    {'C': 100, 'penalty': 'l2'}                3   \n",
       "\n",
       "    split0_test_score  split0_train_score  split1_test_score  \\\n",
       "0            0.965116            0.902941           0.860465   \n",
       "1            0.965116            0.908824           0.895349   \n",
       "2            0.953488            0.908824           0.872093   \n",
       "3            0.965116            0.932353           0.895349   \n",
       "4            0.976744            0.932353           0.872093   \n",
       "5            0.976744            0.944118           0.860465   \n",
       "6            0.988372            0.958824           0.918605   \n",
       "7            0.988372            0.958824           0.918605   \n",
       "8            0.976744            0.976471           0.976744   \n",
       "9            0.976744            0.967647           0.930233   \n",
       "10           0.965116            0.988235           0.988372   \n",
       "11           0.965116            0.979412           0.953488   \n",
       "\n",
       "    split1_train_score  split2_test_score  split2_train_score  \\\n",
       "0             0.929412           0.905882            0.917889   \n",
       "1             0.935294           0.941176            0.914956   \n",
       "2             0.929412           0.941176            0.909091   \n",
       "3             0.941176           0.917647            0.938416   \n",
       "4             0.944118           0.917647            0.944282   \n",
       "5             0.964706           0.917647            0.958944   \n",
       "6             0.961765           0.917647            0.979472   \n",
       "7             0.964706           0.905882            0.976540   \n",
       "8             0.970588           0.929412            0.982405   \n",
       "9             0.964706           0.917647            0.982405   \n",
       "10            0.985294           0.917647            1.000000   \n",
       "11            0.964706           0.917647            0.982405   \n",
       "\n",
       "    split3_test_score  split3_train_score  split4_test_score  \\\n",
       "0            0.941176            0.909091           0.892857   \n",
       "1            0.894118            0.926686           0.904762   \n",
       "2            0.894118            0.917889           0.916667   \n",
       "3            0.929412            0.929619           0.916667   \n",
       "4            0.941176            0.938416           0.928571   \n",
       "5            0.952941            0.947214           0.964286   \n",
       "6            0.988235            0.953079           0.952381   \n",
       "7            0.976471            0.956012           0.964286   \n",
       "8            0.988235            0.970674           0.976190   \n",
       "9            0.976471            0.970674           0.964286   \n",
       "10           0.988235            0.985337           0.988095   \n",
       "11           0.964706            0.973607           0.964286   \n",
       "\n",
       "    split4_train_score  std_fit_time  std_score_time  std_test_score  \\\n",
       "0             0.918129      0.007653        0.000000        0.036797   \n",
       "1             0.923977      0.006250        0.000000        0.028328   \n",
       "2             0.918129      0.006251        0.000000        0.029912   \n",
       "3             0.932749      0.000000        0.000000        0.023037   \n",
       "4             0.938596      0.021195        0.000000        0.034149   \n",
       "5             0.944444      0.006250        0.000000        0.042026   \n",
       "6             0.961988      0.054667        0.006249        0.031442   \n",
       "7             0.956140      0.007654        0.000000        0.032621   \n",
       "8             0.976608      0.035079        0.000000        0.020511   \n",
       "9             0.967836      0.006250        0.000000        0.024553   \n",
       "10            0.988304      0.252614        0.006250        0.027395   \n",
       "11            0.970760      0.006250        0.000000        0.018208   \n",
       "\n",
       "    std_train_score  \n",
       "0          0.008999  \n",
       "1          0.009228  \n",
       "2          0.007550  \n",
       "3          0.004261  \n",
       "4          0.004410  \n",
       "5          0.008387  \n",
       "6          0.008829  \n",
       "7          0.007720  \n",
       "8          0.004408  \n",
       "9          0.006172  \n",
       "10         0.005446  \n",
       "11         0.006274  "
      ]
     },
     "execution_count": 46,
     "metadata": {},
     "output_type": "execute_result"
    }
   ],
   "source": [
    "import pandas as pd\n",
    "\n",
    "pd.set_option('display.max_columns', None)\n",
    "\n",
    "# convert to DataFrame\n",
    "results = pd.DataFrame(grid_search.cv_results_)\n",
    "# show the first 5 rows\n",
    "results"
   ]
  },
  {
   "cell_type": "markdown",
   "metadata": {},
   "source": [
    "Each row in results corresponds to one particular parameter setting. For each setting,\n",
    "the results of all cross-validation splits are recorded, as well as the mean and\n",
    "standard deviation over all splits. As we were searching a two-dimensional grid of\n",
    "parameters (C and gamma), this is best visualized as a heat map"
   ]
  },
  {
   "cell_type": "code",
   "execution_count": 47,
   "metadata": {},
   "outputs": [
    {
     "data": {
      "image/png": "[encoded data removed]",
      "text/plain": [
       "<matplotlib.figure.Figure at 0x250d4f3cef0>"
      ]
     },
     "metadata": {},
     "output_type": "display_data"
    }
   ],
   "source": [
    "import pandas as pd\n",
    "import numpy as np\n",
    "\n",
    "scores = np.array(results.mean_test_score).reshape(6, 2)\n",
    "sns.heatmap(scores, \n",
    "            cmap='viridis', \n",
    "            annot=True, \n",
    "            xticklabels=param_grid['penalty'], \n",
    "            yticklabels=param_grid['C'])\n",
    "\n",
    "plt.xlabel('penalty')\n",
    "plt.ylabel('C')\n",
    "plt.show()"
   ]
  },
  {
   "cell_type": "markdown",
   "metadata": {},
   "source": [
    "Each point in the heat map corresponds to one run of cross-validation, with a particular parameter setting. The color encodes the cross-validation accuracy, with light colors meaning high accuracy and dark colors meaning low accuracy. You can see that `SVC` is very sensitive to the setting of the parameters. For many of the parameter settings, the accuracy is around 92%, which is not that great. We can take away from this plot several things. First, the parameters we adjusted are very important for obtaining good performance. Both parameters (`C` and `gamma`) matter a lot, as adjusting them can change the accuracy from 91% to 97%. Additionally, the ranges we picked for the parameters may or may not be the ranges in which we see significant changes in the outcome. There are other possible combination of parameters which may have been missed out using the range you started with."
   ]
  },
  {
   "cell_type": "code",
   "execution_count": 48,
   "metadata": {},
   "outputs": [
    {
     "data": {
      "image/png": "[encoded data removed]",
      "text/plain": [
       "<matplotlib.figure.Figure at 0x250d4e28d68>"
      ]
     },
     "metadata": {},
     "output_type": "display_data"
    }
   ],
   "source": [
    "param_grid = {'C': [0.01, 0.1, 1, 10, 100, 1000, 10000], \n",
    "              'gamma': [0.00001, 0.0001, 0.001, 0.01, 0.1, 1, 10]}\n",
    "\n",
    "grid_search = GridSearchCV(SVC(), param_grid, cv=5)\n",
    "X_train, X_test, y_train, y_test = train_test_split(cancer.data, \n",
    "                                                    cancer.target, \n",
    "                                                    random_state=1)\n",
    "grid_search.fit(X_train, y_train)\n",
    "\n",
    "results = pd.DataFrame(grid_search.cv_results_)\n",
    "scores = np.array(results.mean_test_score).reshape(len(param_grid['C']), \n",
    "                                                   len(param_grid['gamma']))\n",
    "sns.heatmap(scores, cmap='viridis', annot=True, \n",
    "            xticklabels=param_grid['gamma'], \n",
    "            yticklabels=param_grid['C'])\n",
    "plt.xlabel('gamma')\n",
    "plt.ylabel('C')\n",
    "plt.show()"
   ]
  },
  {
   "cell_type": "markdown",
   "metadata": {},
   "source": [
    "**Discuss**: What have you observed?"
   ]
  },
  {
   "cell_type": "markdown",
   "metadata": {},
   "source": [
    "**Q5**: In other algorithms (besides kernelized SVM with Gaussian RBF kernel), there may only be one hyperparameter in the model for tuning (such as `C` for linear SVM). In that case, think of what other experimental parameters that can be added to perform the two-parameter \"2D\" grid search. Also, why limit yourself to just two parameters? Possible to have three? Four? "
   ]
  },
  {
   "cell_type": "code",
   "execution_count": null,
   "metadata": {},
   "outputs": [],
   "source": []
  },
  {
   "cell_type": "markdown",
   "metadata": {},
   "source": [
    "#### Nested Cross-Validation\n",
    "\n",
    "In the preceding cases, we went from using a single split of the data into training,\n",
    "validation, and test sets to splitting the data into training and test sets and then performing\n",
    "cross-validation on the training set. But when using `GridSearchCV` as described earlier, we still have a single split of the data into training and test sets, which might make our results unstable and make us depend too much on this single\n",
    "split of the data. We can go a step further, and instead of splitting the original data\n",
    "into training and test sets only once, use multiple splits of cross-validation. This will result\n",
    "in what is called *nested cross-validation*. In nested cross-validation, there is an outer\n",
    "loop over splits of the data into training and test sets. For each of them, a grid search\n",
    "is run (which might result in different best parameters for each split in the outer\n",
    "loop). Then, for each outer split, the test set score using the best settings is reported.\n",
    "\n",
    "**Caution**: As our `param_grid` contains 36 combinations of parameters, this results in a\n",
    "lopping 36 \\* 5 \\* 5 = 900 models being built, making nested cross-validation a very\n",
    "expensive procedure. Can your machine handle this?"
   ]
  },
  {
   "cell_type": "code",
   "execution_count": 49,
   "metadata": {},
   "outputs": [
    {
     "name": "stdout",
     "output_type": "stream",
     "text": [
      "Cross-validation scores:  [0.92173913 0.93043478 0.98230088 0.96460177 0.94690265]\n",
      "Mean cross-validation score:  0.9491958445555984\n"
     ]
    }
   ],
   "source": [
    "scores = cross_val_score(GridSearchCV(SVC(), param_grid, cv=5), cancer.data, cancer.target, cv=5)\n",
    "print(\"Cross-validation scores: \", scores)\n",
    "print(\"Mean cross-validation score: \", scores.mean())"
   ]
  },
  {
   "cell_type": "markdown",
   "metadata": {},
   "source": [
    "The result of this procedure is a list of scores—not a model, and not a parameter setting.\n",
    "The scores tell us how well a model generalizes, given the best parameters found\n",
    "by the grid. As it doesn’t provide a model that can be used on new data, nested crossvalidation\n",
    "is rarely used when looking for a predictive model to apply to future data.\n",
    "However, it can be useful for evaluating how well a given model works on a particular\n",
    "dataset."
   ]
  },
  {
   "cell_type": "markdown",
   "metadata": {},
   "source": [
    "## Kaggle Leaf Classification Project\n",
    "\n",
    "Get the Leaf classification dataset from the Kaggle playground: [https://www.kaggle.com/c/leaf-classification](https://www.kaggle.com/c/leaf-classification)\n",
    "\n",
    "1. Try to perform regularization on your choice of algorithm for this classification task.\n",
    "2. Try to use grid search with cross-validation to find the best parameters for your model."
   ]
  }
 ],
 "metadata": {
  "kernelspec": {
   "display_name": "Python 3",
   "language": "python",
   "name": "python3"
  },
  "language_info": {
   "codemirror_mode": {
    "name": "ipython",
    "version": 3
   },
   "file_extension": ".py",
   "mimetype": "text/x-python",
   "name": "python",
   "nbconvert_exporter": "python",
   "pygments_lexer": "ipython3",
   "version": "3.6.4"
  },
  "latex_metadata": {
   "author": "Andreas C. M\\\"ller",
   "title": "Machine Learning with Python"
  }
 },
 "nbformat": 4,
 "nbformat_minor": 1
}
